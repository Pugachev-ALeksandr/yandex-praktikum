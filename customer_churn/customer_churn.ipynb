{
  "nbformat": 4,
  "nbformat_minor": 0,
  "metadata": {
    "colab": {
      "name": "customer_churn.ipynb",
      "provenance": [],
      "collapsed_sections": [],
      "toc_visible": true
    },
    "kernelspec": {
      "display_name": "Python 3",
      "language": "python",
      "name": "python3"
    },
    "language_info": {
      "codemirror_mode": {
        "name": "ipython",
        "version": 3
      },
      "file_extension": ".py",
      "mimetype": "text/x-python",
      "name": "python",
      "nbconvert_exporter": "python",
      "pygments_lexer": "ipython3",
      "version": "3.7.8"
    },
    "toc": {
      "base_numbering": 1,
      "nav_menu": {},
      "number_sections": true,
      "sideBar": true,
      "skip_h1_title": true,
      "title_cell": "Содержание",
      "title_sidebar": "Contents",
      "toc_cell": true,
      "toc_position": {
        "height": "calc(100% - 180px)",
        "left": "10px",
        "top": "150px",
        "width": "354.681px"
      },
      "toc_section_display": true,
      "toc_window_display": true
    }
  },
  "cells": [
    {
      "cell_type": "markdown",
      "metadata": {
        "id": "zHaV1FvF8sO2",
        "toc": true
      },
      "source": [
        "<h1>Содержание<span class=\"tocSkip\"></span></h1>\n",
        "<div class=\"toc\"><ul class=\"toc-item\"><li><span><a href=\"#Описание-проекта\" data-toc-modified-id=\"Описание-проекта-1\"><span class=\"toc-item-num\">1&nbsp;&nbsp;</span>Описание проекта</a></span></li><li><span><a href=\"#Цель-проекта\" data-toc-modified-id=\"Цель-проекта-2\"><span class=\"toc-item-num\">2&nbsp;&nbsp;</span>Цель проекта</a></span></li><li><span><a href=\"#Описание-данных\" data-toc-modified-id=\"Описание-данных-3\"><span class=\"toc-item-num\">3&nbsp;&nbsp;</span>Описание данных</a></span></li><li><span><a href=\"#Подготовка-данных\" data-toc-modified-id=\"Подготовка-данных-4\"><span class=\"toc-item-num\">4&nbsp;&nbsp;</span>Подготовка данных</a></span><ul class=\"toc-item\"><li><span><a href=\"#Вывод-по-разделу\" data-toc-modified-id=\"Вывод-по-разделу-4.1\"><span class=\"toc-item-num\">4.1&nbsp;&nbsp;</span>Вывод по разделу</a></span></li></ul></li><li><span><a href=\"#Исследование-задачи\" data-toc-modified-id=\"Исследование-задачи-5\"><span class=\"toc-item-num\">5&nbsp;&nbsp;</span>Исследование задачи</a></span><ul class=\"toc-item\"><li><span><a href=\"#Вывод-по-разделу\" data-toc-modified-id=\"Вывод-по-разделу-5.1\"><span class=\"toc-item-num\">5.1&nbsp;&nbsp;</span>Вывод по разделу</a></span></li></ul></li><li><span><a href=\"#Борьба-с-дисбалансом\" data-toc-modified-id=\"Борьба-с-дисбалансом-6\"><span class=\"toc-item-num\">6&nbsp;&nbsp;</span>Борьба с дисбалансом</a></span><ul class=\"toc-item\"><li><span><a href=\"#Вывод-по-разделу\" data-toc-modified-id=\"Вывод-по-разделу-6.1\"><span class=\"toc-item-num\">6.1&nbsp;&nbsp;</span>Вывод по разделу</a></span></li></ul></li><li><span><a href=\"#Тестирование-модели\" data-toc-modified-id=\"Тестирование-модели-7\"><span class=\"toc-item-num\">7&nbsp;&nbsp;</span>Тестирование модели</a></span><ul class=\"toc-item\"><li><span><a href=\"#Вывод-по-разделу\" data-toc-modified-id=\"Вывод-по-разделу-7.1\"><span class=\"toc-item-num\">7.1&nbsp;&nbsp;</span>Вывод по разделу</a></span></li></ul></li><li><span><a href=\"#Чек-лист-готовности-проекта\" data-toc-modified-id=\"Чек-лист-готовности-проекта-8\"><span class=\"toc-item-num\">8&nbsp;&nbsp;</span>Чек-лист готовности проекта</a></span></li></ul></div>"
      ]
    },
    {
      "cell_type": "markdown",
      "metadata": {
        "id": "PJoOydhL8sO-"
      },
      "source": [
        "# Отток клиентов"
      ]
    },
    {
      "cell_type": "markdown",
      "metadata": {
        "id": "AyBLNkE68sO_"
      },
      "source": [
        "## Описание проекта\n",
        "Из «Бета-Банка» стали уходить клиенты. Каждый месяц. Немного, но заметно. Банковские маркетологи посчитали: сохранять текущих клиентов дешевле, чем привлекать новых.\n",
        "\n",
        "Нужно спрогнозировать, уйдёт клиент из банка в ближайшее время или нет. Вам предоставлены исторические данные о поведении клиентов и расторжении договоров с банком. "
      ]
    },
    {
      "cell_type": "markdown",
      "metadata": {
        "id": "ubw3qlbe8sPA"
      },
      "source": [
        "## Цель проекта\n",
        "Построить модель с предельно большим значением *F1*-меры. Чтобы сдать проект успешно, нужно довести метрику до 0.59. Проверить *F1*-меру на тестовой выборке самостоятельно.\n",
        "\n",
        "Дополнительно измерять *AUC-ROC*, сравнивать её значение с *F1*-мерой.\n",
        "\n",
        "Источник данных: [https://www.kaggle.com/barelydedicated/bank-customer-churn-modeling](https://www.kaggle.com/barelydedicated/bank-customer-churn-modeling)"
      ]
    },
    {
      "cell_type": "markdown",
      "metadata": {
        "id": "H6AU8eTG8sPA"
      },
      "source": [
        "## Описание данных\n",
        "<ul style=\"border:solid black 2px; padding: 20px\">\n",
        "    <b>Признаки</b>\n",
        "    <li><i>RowNumber</i> — индекс строки в данных</li>\n",
        "    <li><i>CustomerId</i> — уникальный идентификатор клиента</li>\n",
        "    <li><i>Surname</i> — фамилия</li>\n",
        "    <li><i>CreditScore</i> — кредитный рейтинг</li>\n",
        "    <li><i>Geography</i> — страна проживания</li>\n",
        "    <li><i>Gender</i> — пол</li>\n",
        "    <li><i>Age</i> — возраст</li>\n",
        "    <li><i>Tenure</i> — сколько лет человек является клиентом банка</li>\n",
        "    <li><i>Balance</i> — баланс на счёте</li>\n",
        "    <li><i>NumOfProducts</i> — количество продуктов банка, используемых клиентом</li>\n",
        "    <li><i>HasCrCard</i> — наличие кредитной карты</li>\n",
        "    <li><i>IsActiveMember</i> — активность клиента</li>\n",
        "    <li><i>EstimatedSalary</i> — предполагаемая зарплата</li>\n",
        "</ul>\n",
        "<ul style=\"border:solid black 2px; padding: 20px\">\n",
        "    <b>Целевой признак</b>\n",
        "    <li><i>Exited</i> — факт ухода клиента</li>\n",
        "</ul>"
      ]
    },
    {
      "cell_type": "markdown",
      "metadata": {
        "id": "YVXgogTs8sPB"
      },
      "source": [
        "## Подготовка данных"
      ]
    },
    {
      "cell_type": "code",
      "metadata": {
        "id": "tO64Pyjh8sPB"
      },
      "source": [
        "import pandas as pd\n",
        "import numpy as np\n",
        "from sklearn.tree import DecisionTreeClassifier\n",
        "from sklearn.ensemble import RandomForestClassifier\n",
        "from sklearn.linear_model import LogisticRegression\n",
        "from sklearn.dummy import DummyClassifier\n",
        "from sklearn.model_selection import train_test_split\n",
        "from sklearn.preprocessing import StandardScaler\n",
        "from sklearn.model_selection import GridSearchCV\n",
        "from sklearn.utils import shuffle\n",
        "from sklearn import metrics \n",
        "from sklearn.metrics import accuracy_score, precision_score, recall_score, f1_score\n",
        "from sklearn.metrics import roc_curve\n",
        "from sklearn.metrics import roc_auc_score\n",
        "from sklearn.metrics import confusion_matrix\n",
        "import seaborn as sns\n",
        "import matplotlib.pyplot as plt\n",
        "import warnings\n",
        "warnings.filterwarnings('ignore')"
      ],
      "execution_count": null,
      "outputs": []
    },
    {
      "cell_type": "code",
      "metadata": {
        "id": "rYffs61z8sPC"
      },
      "source": [
        "df = pd.read_csv('/datasets/Churn.csv')"
      ],
      "execution_count": null,
      "outputs": []
    },
    {
      "cell_type": "code",
      "metadata": {
        "colab": {
          "base_uri": "https://localhost:8080/",
          "height": 422
        },
        "id": "YtGuXWUu8sPD",
        "outputId": "a98cf1c6-757d-48f5-ceea-1c941f8470fe"
      },
      "source": [
        "display(df)"
      ],
      "execution_count": null,
      "outputs": [
        {
          "output_type": "display_data",
          "data": {
            "text/html": [
              "<div>\n",
              "<style scoped>\n",
              "    .dataframe tbody tr th:only-of-type {\n",
              "        vertical-align: middle;\n",
              "    }\n",
              "\n",
              "    .dataframe tbody tr th {\n",
              "        vertical-align: top;\n",
              "    }\n",
              "\n",
              "    .dataframe thead th {\n",
              "        text-align: right;\n",
              "    }\n",
              "</style>\n",
              "<table border=\"1\" class=\"dataframe\">\n",
              "  <thead>\n",
              "    <tr style=\"text-align: right;\">\n",
              "      <th></th>\n",
              "      <th>RowNumber</th>\n",
              "      <th>CustomerId</th>\n",
              "      <th>Surname</th>\n",
              "      <th>CreditScore</th>\n",
              "      <th>Geography</th>\n",
              "      <th>Gender</th>\n",
              "      <th>Age</th>\n",
              "      <th>Tenure</th>\n",
              "      <th>Balance</th>\n",
              "      <th>NumOfProducts</th>\n",
              "      <th>HasCrCard</th>\n",
              "      <th>IsActiveMember</th>\n",
              "      <th>EstimatedSalary</th>\n",
              "      <th>Exited</th>\n",
              "    </tr>\n",
              "  </thead>\n",
              "  <tbody>\n",
              "    <tr>\n",
              "      <th>0</th>\n",
              "      <td>1</td>\n",
              "      <td>15634602</td>\n",
              "      <td>Hargrave</td>\n",
              "      <td>619</td>\n",
              "      <td>France</td>\n",
              "      <td>Female</td>\n",
              "      <td>42</td>\n",
              "      <td>2.0</td>\n",
              "      <td>0.00</td>\n",
              "      <td>1</td>\n",
              "      <td>1</td>\n",
              "      <td>1</td>\n",
              "      <td>101348.88</td>\n",
              "      <td>1</td>\n",
              "    </tr>\n",
              "    <tr>\n",
              "      <th>1</th>\n",
              "      <td>2</td>\n",
              "      <td>15647311</td>\n",
              "      <td>Hill</td>\n",
              "      <td>608</td>\n",
              "      <td>Spain</td>\n",
              "      <td>Female</td>\n",
              "      <td>41</td>\n",
              "      <td>1.0</td>\n",
              "      <td>83807.86</td>\n",
              "      <td>1</td>\n",
              "      <td>0</td>\n",
              "      <td>1</td>\n",
              "      <td>112542.58</td>\n",
              "      <td>0</td>\n",
              "    </tr>\n",
              "    <tr>\n",
              "      <th>2</th>\n",
              "      <td>3</td>\n",
              "      <td>15619304</td>\n",
              "      <td>Onio</td>\n",
              "      <td>502</td>\n",
              "      <td>France</td>\n",
              "      <td>Female</td>\n",
              "      <td>42</td>\n",
              "      <td>8.0</td>\n",
              "      <td>159660.80</td>\n",
              "      <td>3</td>\n",
              "      <td>1</td>\n",
              "      <td>0</td>\n",
              "      <td>113931.57</td>\n",
              "      <td>1</td>\n",
              "    </tr>\n",
              "    <tr>\n",
              "      <th>3</th>\n",
              "      <td>4</td>\n",
              "      <td>15701354</td>\n",
              "      <td>Boni</td>\n",
              "      <td>699</td>\n",
              "      <td>France</td>\n",
              "      <td>Female</td>\n",
              "      <td>39</td>\n",
              "      <td>1.0</td>\n",
              "      <td>0.00</td>\n",
              "      <td>2</td>\n",
              "      <td>0</td>\n",
              "      <td>0</td>\n",
              "      <td>93826.63</td>\n",
              "      <td>0</td>\n",
              "    </tr>\n",
              "    <tr>\n",
              "      <th>4</th>\n",
              "      <td>5</td>\n",
              "      <td>15737888</td>\n",
              "      <td>Mitchell</td>\n",
              "      <td>850</td>\n",
              "      <td>Spain</td>\n",
              "      <td>Female</td>\n",
              "      <td>43</td>\n",
              "      <td>2.0</td>\n",
              "      <td>125510.82</td>\n",
              "      <td>1</td>\n",
              "      <td>1</td>\n",
              "      <td>1</td>\n",
              "      <td>79084.10</td>\n",
              "      <td>0</td>\n",
              "    </tr>\n",
              "    <tr>\n",
              "      <th>...</th>\n",
              "      <td>...</td>\n",
              "      <td>...</td>\n",
              "      <td>...</td>\n",
              "      <td>...</td>\n",
              "      <td>...</td>\n",
              "      <td>...</td>\n",
              "      <td>...</td>\n",
              "      <td>...</td>\n",
              "      <td>...</td>\n",
              "      <td>...</td>\n",
              "      <td>...</td>\n",
              "      <td>...</td>\n",
              "      <td>...</td>\n",
              "      <td>...</td>\n",
              "    </tr>\n",
              "    <tr>\n",
              "      <th>9995</th>\n",
              "      <td>9996</td>\n",
              "      <td>15606229</td>\n",
              "      <td>Obijiaku</td>\n",
              "      <td>771</td>\n",
              "      <td>France</td>\n",
              "      <td>Male</td>\n",
              "      <td>39</td>\n",
              "      <td>5.0</td>\n",
              "      <td>0.00</td>\n",
              "      <td>2</td>\n",
              "      <td>1</td>\n",
              "      <td>0</td>\n",
              "      <td>96270.64</td>\n",
              "      <td>0</td>\n",
              "    </tr>\n",
              "    <tr>\n",
              "      <th>9996</th>\n",
              "      <td>9997</td>\n",
              "      <td>15569892</td>\n",
              "      <td>Johnstone</td>\n",
              "      <td>516</td>\n",
              "      <td>France</td>\n",
              "      <td>Male</td>\n",
              "      <td>35</td>\n",
              "      <td>10.0</td>\n",
              "      <td>57369.61</td>\n",
              "      <td>1</td>\n",
              "      <td>1</td>\n",
              "      <td>1</td>\n",
              "      <td>101699.77</td>\n",
              "      <td>0</td>\n",
              "    </tr>\n",
              "    <tr>\n",
              "      <th>9997</th>\n",
              "      <td>9998</td>\n",
              "      <td>15584532</td>\n",
              "      <td>Liu</td>\n",
              "      <td>709</td>\n",
              "      <td>France</td>\n",
              "      <td>Female</td>\n",
              "      <td>36</td>\n",
              "      <td>7.0</td>\n",
              "      <td>0.00</td>\n",
              "      <td>1</td>\n",
              "      <td>0</td>\n",
              "      <td>1</td>\n",
              "      <td>42085.58</td>\n",
              "      <td>1</td>\n",
              "    </tr>\n",
              "    <tr>\n",
              "      <th>9998</th>\n",
              "      <td>9999</td>\n",
              "      <td>15682355</td>\n",
              "      <td>Sabbatini</td>\n",
              "      <td>772</td>\n",
              "      <td>Germany</td>\n",
              "      <td>Male</td>\n",
              "      <td>42</td>\n",
              "      <td>3.0</td>\n",
              "      <td>75075.31</td>\n",
              "      <td>2</td>\n",
              "      <td>1</td>\n",
              "      <td>0</td>\n",
              "      <td>92888.52</td>\n",
              "      <td>1</td>\n",
              "    </tr>\n",
              "    <tr>\n",
              "      <th>9999</th>\n",
              "      <td>10000</td>\n",
              "      <td>15628319</td>\n",
              "      <td>Walker</td>\n",
              "      <td>792</td>\n",
              "      <td>France</td>\n",
              "      <td>Female</td>\n",
              "      <td>28</td>\n",
              "      <td>NaN</td>\n",
              "      <td>130142.79</td>\n",
              "      <td>1</td>\n",
              "      <td>1</td>\n",
              "      <td>0</td>\n",
              "      <td>38190.78</td>\n",
              "      <td>0</td>\n",
              "    </tr>\n",
              "  </tbody>\n",
              "</table>\n",
              "<p>10000 rows × 14 columns</p>\n",
              "</div>"
            ],
            "text/plain": [
              "      RowNumber  CustomerId    Surname  ...  IsActiveMember EstimatedSalary Exited\n",
              "0             1    15634602   Hargrave  ...               1       101348.88      1\n",
              "1             2    15647311       Hill  ...               1       112542.58      0\n",
              "2             3    15619304       Onio  ...               0       113931.57      1\n",
              "3             4    15701354       Boni  ...               0        93826.63      0\n",
              "4             5    15737888   Mitchell  ...               1        79084.10      0\n",
              "...         ...         ...        ...  ...             ...             ...    ...\n",
              "9995       9996    15606229   Obijiaku  ...               0        96270.64      0\n",
              "9996       9997    15569892  Johnstone  ...               1       101699.77      0\n",
              "9997       9998    15584532        Liu  ...               1        42085.58      1\n",
              "9998       9999    15682355  Sabbatini  ...               0        92888.52      1\n",
              "9999      10000    15628319     Walker  ...               0        38190.78      0\n",
              "\n",
              "[10000 rows x 14 columns]"
            ]
          },
          "metadata": {
            "tags": []
          }
        }
      ]
    },
    {
      "cell_type": "code",
      "metadata": {
        "colab": {
          "base_uri": "https://localhost:8080/"
        },
        "id": "huHw_7U68sPE",
        "outputId": "af42b7f9-909a-428a-846b-61fea1f77de4"
      },
      "source": [
        "df.info()"
      ],
      "execution_count": null,
      "outputs": [
        {
          "output_type": "stream",
          "text": [
            "<class 'pandas.core.frame.DataFrame'>\n",
            "RangeIndex: 10000 entries, 0 to 9999\n",
            "Data columns (total 14 columns):\n",
            " #   Column           Non-Null Count  Dtype  \n",
            "---  ------           --------------  -----  \n",
            " 0   RowNumber        10000 non-null  int64  \n",
            " 1   CustomerId       10000 non-null  int64  \n",
            " 2   Surname          10000 non-null  object \n",
            " 3   CreditScore      10000 non-null  int64  \n",
            " 4   Geography        10000 non-null  object \n",
            " 5   Gender           10000 non-null  object \n",
            " 6   Age              10000 non-null  int64  \n",
            " 7   Tenure           9091 non-null   float64\n",
            " 8   Balance          10000 non-null  float64\n",
            " 9   NumOfProducts    10000 non-null  int64  \n",
            " 10  HasCrCard        10000 non-null  int64  \n",
            " 11  IsActiveMember   10000 non-null  int64  \n",
            " 12  EstimatedSalary  10000 non-null  float64\n",
            " 13  Exited           10000 non-null  int64  \n",
            "dtypes: float64(3), int64(8), object(3)\n",
            "memory usage: 1.1+ MB\n"
          ],
          "name": "stdout"
        }
      ]
    },
    {
      "cell_type": "markdown",
      "metadata": {
        "id": "q6M9W51V8sPF"
      },
      "source": [
        "<b>Для построения моделей можно от некоторых столбцов просто навсего избавиться, а некоторые перевести в числовые.</b>"
      ]
    },
    {
      "cell_type": "code",
      "metadata": {
        "id": "Qf22Lkoz8sPF"
      },
      "source": [
        "df = df.drop(['RowNumber', 'CustomerId', 'Surname'], axis=1)"
      ],
      "execution_count": null,
      "outputs": []
    },
    {
      "cell_type": "code",
      "metadata": {
        "colab": {
          "base_uri": "https://localhost:8080/"
        },
        "id": "N8KEnFtC8sPF",
        "outputId": "19619fc9-df7e-47ab-d921-787330a8bd3d"
      },
      "source": [
        "print(df.duplicated().sum())"
      ],
      "execution_count": null,
      "outputs": [
        {
          "output_type": "stream",
          "text": [
            "0\n"
          ],
          "name": "stdout"
        }
      ]
    },
    {
      "cell_type": "code",
      "metadata": {
        "colab": {
          "base_uri": "https://localhost:8080/"
        },
        "id": "pT3ESRMf8sPG",
        "outputId": "e6352e7f-7e44-43fb-9d0b-56ae0926688a"
      },
      "source": [
        "df['Exited'].mean()"
      ],
      "execution_count": null,
      "outputs": [
        {
          "output_type": "execute_result",
          "data": {
            "text/plain": [
              "0.2037"
            ]
          },
          "metadata": {
            "tags": []
          },
          "execution_count": 7
        }
      ]
    },
    {
      "cell_type": "markdown",
      "metadata": {
        "id": "OIN6OSxF8sPG"
      },
      "source": [
        "<b>Около 20% клиентов ушли</b>"
      ]
    },
    {
      "cell_type": "code",
      "metadata": {
        "colab": {
          "base_uri": "https://localhost:8080/"
        },
        "id": "iEWAQNoI8sPG",
        "outputId": "d63b399e-39f6-459d-ab29-8ae17fffade7"
      },
      "source": [
        "df['Gender'].value_counts()"
      ],
      "execution_count": null,
      "outputs": [
        {
          "output_type": "execute_result",
          "data": {
            "text/plain": [
              "Male      5457\n",
              "Female    4543\n",
              "Name: Gender, dtype: int64"
            ]
          },
          "metadata": {
            "tags": []
          },
          "execution_count": 8
        }
      ]
    },
    {
      "cell_type": "code",
      "metadata": {
        "colab": {
          "base_uri": "https://localhost:8080/"
        },
        "id": "iY4BnpUx8sPH",
        "outputId": "8b0ca34a-1b80-4cd7-94f0-9d4c4c09c3d5"
      },
      "source": [
        "df['Geography'].value_counts()"
      ],
      "execution_count": null,
      "outputs": [
        {
          "output_type": "execute_result",
          "data": {
            "text/plain": [
              "France     5014\n",
              "Germany    2509\n",
              "Spain      2477\n",
              "Name: Geography, dtype: int64"
            ]
          },
          "metadata": {
            "tags": []
          },
          "execution_count": 9
        }
      ]
    },
    {
      "cell_type": "code",
      "metadata": {
        "colab": {
          "base_uri": "https://localhost:8080/"
        },
        "id": "E09RScg18sPH",
        "outputId": "b75aa73b-91b7-4856-f203-770daacbc7a1"
      },
      "source": [
        "df['Age'].value_counts()"
      ],
      "execution_count": null,
      "outputs": [
        {
          "output_type": "execute_result",
          "data": {
            "text/plain": [
              "37    478\n",
              "38    477\n",
              "35    474\n",
              "36    456\n",
              "34    447\n",
              "     ... \n",
              "92      2\n",
              "88      1\n",
              "82      1\n",
              "85      1\n",
              "83      1\n",
              "Name: Age, Length: 70, dtype: int64"
            ]
          },
          "metadata": {
            "tags": []
          },
          "execution_count": 10
        }
      ]
    },
    {
      "cell_type": "code",
      "metadata": {
        "colab": {
          "base_uri": "https://localhost:8080/"
        },
        "id": "Zr-gCWVo8sPH",
        "outputId": "268b81a5-734b-45b4-f680-35c125fc6bff"
      },
      "source": [
        "df['Tenure'].value_counts()"
      ],
      "execution_count": null,
      "outputs": [
        {
          "output_type": "execute_result",
          "data": {
            "text/plain": [
              "1.0     952\n",
              "2.0     950\n",
              "8.0     933\n",
              "3.0     928\n",
              "5.0     927\n",
              "7.0     925\n",
              "4.0     885\n",
              "9.0     882\n",
              "6.0     881\n",
              "10.0    446\n",
              "0.0     382\n",
              "Name: Tenure, dtype: int64"
            ]
          },
          "metadata": {
            "tags": []
          },
          "execution_count": 11
        }
      ]
    },
    {
      "cell_type": "code",
      "metadata": {
        "colab": {
          "base_uri": "https://localhost:8080/"
        },
        "id": "U4e9_-cu8sPI",
        "outputId": "fa7324d7-d1f5-487d-951d-ab23a1205b6c"
      },
      "source": [
        "df['Tenure'].unique()"
      ],
      "execution_count": null,
      "outputs": [
        {
          "output_type": "execute_result",
          "data": {
            "text/plain": [
              "array([ 2.,  1.,  8.,  7.,  4.,  6.,  3., 10.,  5.,  9.,  0., nan])"
            ]
          },
          "metadata": {
            "tags": []
          },
          "execution_count": 12
        }
      ]
    },
    {
      "cell_type": "markdown",
      "metadata": {
        "id": "K3m7OJBx8sPI"
      },
      "source": [
        "<b>Избавимся от nan в столбце 'Tenure'. Заменим их на 0, возможно люди являются клиентами банка меньше года.</b>"
      ]
    },
    {
      "cell_type": "code",
      "metadata": {
        "id": "tKm7G8f38sPI"
      },
      "source": [
        "df['Tenure'] = df['Tenure'].fillna(0)"
      ],
      "execution_count": null,
      "outputs": []
    },
    {
      "cell_type": "code",
      "metadata": {
        "colab": {
          "base_uri": "https://localhost:8080/"
        },
        "id": "Fmu_aWvW8sPJ",
        "outputId": "6515a838-48e2-4672-bdf8-d223cd2d3f98"
      },
      "source": [
        "df.info()"
      ],
      "execution_count": null,
      "outputs": [
        {
          "output_type": "stream",
          "text": [
            "<class 'pandas.core.frame.DataFrame'>\n",
            "RangeIndex: 10000 entries, 0 to 9999\n",
            "Data columns (total 11 columns):\n",
            " #   Column           Non-Null Count  Dtype  \n",
            "---  ------           --------------  -----  \n",
            " 0   CreditScore      10000 non-null  int64  \n",
            " 1   Geography        10000 non-null  object \n",
            " 2   Gender           10000 non-null  object \n",
            " 3   Age              10000 non-null  int64  \n",
            " 4   Tenure           10000 non-null  float64\n",
            " 5   Balance          10000 non-null  float64\n",
            " 6   NumOfProducts    10000 non-null  int64  \n",
            " 7   HasCrCard        10000 non-null  int64  \n",
            " 8   IsActiveMember   10000 non-null  int64  \n",
            " 9   EstimatedSalary  10000 non-null  float64\n",
            " 10  Exited           10000 non-null  int64  \n",
            "dtypes: float64(3), int64(6), object(2)\n",
            "memory usage: 859.5+ KB\n"
          ],
          "name": "stdout"
        }
      ]
    },
    {
      "cell_type": "code",
      "metadata": {
        "colab": {
          "base_uri": "https://localhost:8080/"
        },
        "id": "iLmCgTIQ8sPJ",
        "outputId": "454fc9b5-2076-496c-bf3c-58248d2804e6"
      },
      "source": [
        "df['Tenure'].value_counts()"
      ],
      "execution_count": null,
      "outputs": [
        {
          "output_type": "execute_result",
          "data": {
            "text/plain": [
              "0.0     1291\n",
              "1.0      952\n",
              "2.0      950\n",
              "8.0      933\n",
              "3.0      928\n",
              "5.0      927\n",
              "7.0      925\n",
              "4.0      885\n",
              "9.0      882\n",
              "6.0      881\n",
              "10.0     446\n",
              "Name: Tenure, dtype: int64"
            ]
          },
          "metadata": {
            "tags": []
          },
          "execution_count": 15
        }
      ]
    },
    {
      "cell_type": "markdown",
      "metadata": {
        "id": "G7EpJZkA8sPJ"
      },
      "source": [
        "<b>Так как техника One-Hot Encoding работает со всеми моделями, воспользуемся ей, чтобы перевести столбцы 'Gender' и 'Geography' в числовой вид.</b>"
      ]
    },
    {
      "cell_type": "code",
      "metadata": {
        "id": "wYEFvba88sPK"
      },
      "source": [
        "df_ohe = pd.get_dummies(df,drop_first=True)"
      ],
      "execution_count": null,
      "outputs": []
    },
    {
      "cell_type": "code",
      "metadata": {
        "colab": {
          "base_uri": "https://localhost:8080/",
          "height": 422
        },
        "id": "UvF0ShVC8sPK",
        "outputId": "541e7ad2-bca7-43fd-b2ab-86f344ffd605"
      },
      "source": [
        "display(df_ohe)"
      ],
      "execution_count": null,
      "outputs": [
        {
          "output_type": "display_data",
          "data": {
            "text/html": [
              "<div>\n",
              "<style scoped>\n",
              "    .dataframe tbody tr th:only-of-type {\n",
              "        vertical-align: middle;\n",
              "    }\n",
              "\n",
              "    .dataframe tbody tr th {\n",
              "        vertical-align: top;\n",
              "    }\n",
              "\n",
              "    .dataframe thead th {\n",
              "        text-align: right;\n",
              "    }\n",
              "</style>\n",
              "<table border=\"1\" class=\"dataframe\">\n",
              "  <thead>\n",
              "    <tr style=\"text-align: right;\">\n",
              "      <th></th>\n",
              "      <th>CreditScore</th>\n",
              "      <th>Age</th>\n",
              "      <th>Tenure</th>\n",
              "      <th>Balance</th>\n",
              "      <th>NumOfProducts</th>\n",
              "      <th>HasCrCard</th>\n",
              "      <th>IsActiveMember</th>\n",
              "      <th>EstimatedSalary</th>\n",
              "      <th>Exited</th>\n",
              "      <th>Geography_Germany</th>\n",
              "      <th>Geography_Spain</th>\n",
              "      <th>Gender_Male</th>\n",
              "    </tr>\n",
              "  </thead>\n",
              "  <tbody>\n",
              "    <tr>\n",
              "      <th>0</th>\n",
              "      <td>619</td>\n",
              "      <td>42</td>\n",
              "      <td>2.0</td>\n",
              "      <td>0.00</td>\n",
              "      <td>1</td>\n",
              "      <td>1</td>\n",
              "      <td>1</td>\n",
              "      <td>101348.88</td>\n",
              "      <td>1</td>\n",
              "      <td>0</td>\n",
              "      <td>0</td>\n",
              "      <td>0</td>\n",
              "    </tr>\n",
              "    <tr>\n",
              "      <th>1</th>\n",
              "      <td>608</td>\n",
              "      <td>41</td>\n",
              "      <td>1.0</td>\n",
              "      <td>83807.86</td>\n",
              "      <td>1</td>\n",
              "      <td>0</td>\n",
              "      <td>1</td>\n",
              "      <td>112542.58</td>\n",
              "      <td>0</td>\n",
              "      <td>0</td>\n",
              "      <td>1</td>\n",
              "      <td>0</td>\n",
              "    </tr>\n",
              "    <tr>\n",
              "      <th>2</th>\n",
              "      <td>502</td>\n",
              "      <td>42</td>\n",
              "      <td>8.0</td>\n",
              "      <td>159660.80</td>\n",
              "      <td>3</td>\n",
              "      <td>1</td>\n",
              "      <td>0</td>\n",
              "      <td>113931.57</td>\n",
              "      <td>1</td>\n",
              "      <td>0</td>\n",
              "      <td>0</td>\n",
              "      <td>0</td>\n",
              "    </tr>\n",
              "    <tr>\n",
              "      <th>3</th>\n",
              "      <td>699</td>\n",
              "      <td>39</td>\n",
              "      <td>1.0</td>\n",
              "      <td>0.00</td>\n",
              "      <td>2</td>\n",
              "      <td>0</td>\n",
              "      <td>0</td>\n",
              "      <td>93826.63</td>\n",
              "      <td>0</td>\n",
              "      <td>0</td>\n",
              "      <td>0</td>\n",
              "      <td>0</td>\n",
              "    </tr>\n",
              "    <tr>\n",
              "      <th>4</th>\n",
              "      <td>850</td>\n",
              "      <td>43</td>\n",
              "      <td>2.0</td>\n",
              "      <td>125510.82</td>\n",
              "      <td>1</td>\n",
              "      <td>1</td>\n",
              "      <td>1</td>\n",
              "      <td>79084.10</td>\n",
              "      <td>0</td>\n",
              "      <td>0</td>\n",
              "      <td>1</td>\n",
              "      <td>0</td>\n",
              "    </tr>\n",
              "    <tr>\n",
              "      <th>...</th>\n",
              "      <td>...</td>\n",
              "      <td>...</td>\n",
              "      <td>...</td>\n",
              "      <td>...</td>\n",
              "      <td>...</td>\n",
              "      <td>...</td>\n",
              "      <td>...</td>\n",
              "      <td>...</td>\n",
              "      <td>...</td>\n",
              "      <td>...</td>\n",
              "      <td>...</td>\n",
              "      <td>...</td>\n",
              "    </tr>\n",
              "    <tr>\n",
              "      <th>9995</th>\n",
              "      <td>771</td>\n",
              "      <td>39</td>\n",
              "      <td>5.0</td>\n",
              "      <td>0.00</td>\n",
              "      <td>2</td>\n",
              "      <td>1</td>\n",
              "      <td>0</td>\n",
              "      <td>96270.64</td>\n",
              "      <td>0</td>\n",
              "      <td>0</td>\n",
              "      <td>0</td>\n",
              "      <td>1</td>\n",
              "    </tr>\n",
              "    <tr>\n",
              "      <th>9996</th>\n",
              "      <td>516</td>\n",
              "      <td>35</td>\n",
              "      <td>10.0</td>\n",
              "      <td>57369.61</td>\n",
              "      <td>1</td>\n",
              "      <td>1</td>\n",
              "      <td>1</td>\n",
              "      <td>101699.77</td>\n",
              "      <td>0</td>\n",
              "      <td>0</td>\n",
              "      <td>0</td>\n",
              "      <td>1</td>\n",
              "    </tr>\n",
              "    <tr>\n",
              "      <th>9997</th>\n",
              "      <td>709</td>\n",
              "      <td>36</td>\n",
              "      <td>7.0</td>\n",
              "      <td>0.00</td>\n",
              "      <td>1</td>\n",
              "      <td>0</td>\n",
              "      <td>1</td>\n",
              "      <td>42085.58</td>\n",
              "      <td>1</td>\n",
              "      <td>0</td>\n",
              "      <td>0</td>\n",
              "      <td>0</td>\n",
              "    </tr>\n",
              "    <tr>\n",
              "      <th>9998</th>\n",
              "      <td>772</td>\n",
              "      <td>42</td>\n",
              "      <td>3.0</td>\n",
              "      <td>75075.31</td>\n",
              "      <td>2</td>\n",
              "      <td>1</td>\n",
              "      <td>0</td>\n",
              "      <td>92888.52</td>\n",
              "      <td>1</td>\n",
              "      <td>1</td>\n",
              "      <td>0</td>\n",
              "      <td>1</td>\n",
              "    </tr>\n",
              "    <tr>\n",
              "      <th>9999</th>\n",
              "      <td>792</td>\n",
              "      <td>28</td>\n",
              "      <td>0.0</td>\n",
              "      <td>130142.79</td>\n",
              "      <td>1</td>\n",
              "      <td>1</td>\n",
              "      <td>0</td>\n",
              "      <td>38190.78</td>\n",
              "      <td>0</td>\n",
              "      <td>0</td>\n",
              "      <td>0</td>\n",
              "      <td>0</td>\n",
              "    </tr>\n",
              "  </tbody>\n",
              "</table>\n",
              "<p>10000 rows × 12 columns</p>\n",
              "</div>"
            ],
            "text/plain": [
              "      CreditScore  Age  Tenure  ...  Geography_Germany  Geography_Spain  Gender_Male\n",
              "0             619   42     2.0  ...                  0                0            0\n",
              "1             608   41     1.0  ...                  0                1            0\n",
              "2             502   42     8.0  ...                  0                0            0\n",
              "3             699   39     1.0  ...                  0                0            0\n",
              "4             850   43     2.0  ...                  0                1            0\n",
              "...           ...  ...     ...  ...                ...              ...          ...\n",
              "9995          771   39     5.0  ...                  0                0            1\n",
              "9996          516   35    10.0  ...                  0                0            1\n",
              "9997          709   36     7.0  ...                  0                0            0\n",
              "9998          772   42     3.0  ...                  1                0            1\n",
              "9999          792   28     0.0  ...                  0                0            0\n",
              "\n",
              "[10000 rows x 12 columns]"
            ]
          },
          "metadata": {
            "tags": []
          }
        }
      ]
    },
    {
      "cell_type": "code",
      "metadata": {
        "colab": {
          "base_uri": "https://localhost:8080/"
        },
        "id": "tvK44mAR8sPK",
        "outputId": "c0f2e15f-7e87-4a34-8a93-cdc8ea50917b"
      },
      "source": [
        "df_ohe.info()"
      ],
      "execution_count": null,
      "outputs": [
        {
          "output_type": "stream",
          "text": [
            "<class 'pandas.core.frame.DataFrame'>\n",
            "RangeIndex: 10000 entries, 0 to 9999\n",
            "Data columns (total 12 columns):\n",
            " #   Column             Non-Null Count  Dtype  \n",
            "---  ------             --------------  -----  \n",
            " 0   CreditScore        10000 non-null  int64  \n",
            " 1   Age                10000 non-null  int64  \n",
            " 2   Tenure             10000 non-null  float64\n",
            " 3   Balance            10000 non-null  float64\n",
            " 4   NumOfProducts      10000 non-null  int64  \n",
            " 5   HasCrCard          10000 non-null  int64  \n",
            " 6   IsActiveMember     10000 non-null  int64  \n",
            " 7   EstimatedSalary    10000 non-null  float64\n",
            " 8   Exited             10000 non-null  int64  \n",
            " 9   Geography_Germany  10000 non-null  uint8  \n",
            " 10  Geography_Spain    10000 non-null  uint8  \n",
            " 11  Gender_Male        10000 non-null  uint8  \n",
            "dtypes: float64(3), int64(6), uint8(3)\n",
            "memory usage: 732.5 KB\n"
          ],
          "name": "stdout"
        }
      ]
    },
    {
      "cell_type": "markdown",
      "metadata": {
        "id": "kn74AJPJ8sPL"
      },
      "source": [
        "<b>Посмотрим зависимости между данными</b>"
      ]
    },
    {
      "cell_type": "code",
      "metadata": {
        "id": "NKG5Qtmf8sPL"
      },
      "source": [
        "corrMatrix = df_ohe.corr()"
      ],
      "execution_count": null,
      "outputs": []
    },
    {
      "cell_type": "code",
      "metadata": {
        "colab": {
          "base_uri": "https://localhost:8080/",
          "height": 691
        },
        "id": "7aXfilQn8sPL",
        "outputId": "79568a20-1f73-472c-f6d7-5f737a2ba6b2"
      },
      "source": [
        "plt.figure(figsize=(10, 10))\n",
        "sns.heatmap(corrMatrix, annot=True)\n",
        "plt.show()"
      ],
      "execution_count": null,
      "outputs": [
        {
          "output_type": "display_data",
          "data": {
            "image/png": "[encoded data removed]",
            "text/plain": [
              "<Figure size 720x720 with 2 Axes>"
            ]
          },
          "metadata": {
            "tags": [],
            "needs_background": "light"
          }
        }
      ]
    },
    {
      "cell_type": "markdown",
      "metadata": {
        "id": "CsHBcBtt8sPL"
      },
      "source": [
        "<b>Сильных зависимостей не наблюдаем.</b>"
      ]
    },
    {
      "cell_type": "markdown",
      "metadata": {
        "id": "qpmy9aTQ8sPM"
      },
      "source": [
        "### Вывод по разделу\n",
        "Привели датасет к рабочему виду:\n",
        "- Избавились от пустых значений;\n",
        "- Удалили столбцы, которые не влияют на обучение наших моделей;\n",
        "- Перевели некоторые столбцы в числовой вид техникой One-Hot Encoding;\n",
        "- Проверили зависимости данных."
      ]
    },
    {
      "cell_type": "markdown",
      "metadata": {
        "id": "FrmduoEy8sPM"
      },
      "source": [
        "## Исследование задачи"
      ]
    },
    {
      "cell_type": "markdown",
      "metadata": {
        "id": "tqwYXRun8sPM"
      },
      "source": [
        "<b>Разобьем данные на три выборки в соотношении 3:1:1. Обучающая выборка будет содержать в себе 60% данных, валидационная 20% и тестовая 20%.</b>"
      ]
    },
    {
      "cell_type": "code",
      "metadata": {
        "id": "hd9-8jUZ8sPN"
      },
      "source": [
        "df_ohe_train, df_ohe_valid = train_test_split(df_ohe, test_size=0.2, random_state=42)"
      ],
      "execution_count": null,
      "outputs": []
    },
    {
      "cell_type": "code",
      "metadata": {
        "id": "K1m7ejMG8sPN"
      },
      "source": [
        "df_ohe_train, df_ohe_test = train_test_split(df_ohe_train, test_size=0.25, random_state=42)"
      ],
      "execution_count": null,
      "outputs": []
    },
    {
      "cell_type": "code",
      "metadata": {
        "id": "mZ-hCfEg8sPN"
      },
      "source": [
        "features_train = df_ohe_train.drop(['Exited'], axis=1)\n",
        "target_train  = df_ohe_train['Exited']"
      ],
      "execution_count": null,
      "outputs": []
    },
    {
      "cell_type": "code",
      "metadata": {
        "id": "qDSrCPVU8sPN"
      },
      "source": [
        "features_valid = df_ohe_valid.drop(['Exited'], axis=1)\n",
        "target_valid = df_ohe_valid['Exited']"
      ],
      "execution_count": null,
      "outputs": []
    },
    {
      "cell_type": "code",
      "metadata": {
        "id": "lqBIZ8zW8sPO"
      },
      "source": [
        "features_test = df_ohe_test.drop(['Exited'], axis=1)\n",
        "target_test = df_ohe_test['Exited']"
      ],
      "execution_count": null,
      "outputs": []
    },
    {
      "cell_type": "markdown",
      "metadata": {
        "id": "knBbU8AC8sPO"
      },
      "source": [
        "<b>Убедимся, что разбили правильно.</b>"
      ]
    },
    {
      "cell_type": "code",
      "metadata": {
        "colab": {
          "base_uri": "https://localhost:8080/"
        },
        "id": "m23i5ZSV8sPO",
        "outputId": "576baeee-57f9-4c1e-a5e6-b41142e52eb7"
      },
      "source": [
        "print(features_train.shape)\n",
        "print(target_train.shape)\n",
        "print(features_valid.shape)\n",
        "print(target_valid.shape)\n",
        "print(features_test.shape)\n",
        "print(target_test.shape)"
      ],
      "execution_count": null,
      "outputs": [
        {
          "output_type": "stream",
          "text": [
            "(6000, 11)\n",
            "(6000,)\n",
            "(2000, 11)\n",
            "(2000,)\n",
            "(2000, 11)\n",
            "(2000,)\n"
          ],
          "name": "stdout"
        }
      ]
    },
    {
      "cell_type": "markdown",
      "metadata": {
        "id": "Y-IPCdE38sPO"
      },
      "source": [
        "<b>Масштабируем признаки, чтобы модель не выделяла, что один признак важнее другого.</b>"
      ]
    },
    {
      "cell_type": "code",
      "metadata": {
        "colab": {
          "base_uri": "https://localhost:8080/"
        },
        "id": "W6f1ZXBY8sPP",
        "outputId": "35a07448-6b5b-4cfd-c460-ea794d5c9c6c"
      },
      "source": [
        "list(features_train.columns.values)"
      ],
      "execution_count": null,
      "outputs": [
        {
          "output_type": "execute_result",
          "data": {
            "text/plain": [
              "['CreditScore',\n",
              " 'Age',\n",
              " 'Tenure',\n",
              " 'Balance',\n",
              " 'NumOfProducts',\n",
              " 'HasCrCard',\n",
              " 'IsActiveMember',\n",
              " 'EstimatedSalary',\n",
              " 'Geography_Germany',\n",
              " 'Geography_Spain',\n",
              " 'Gender_Male']"
            ]
          },
          "metadata": {
            "tags": []
          },
          "execution_count": 27
        }
      ]
    },
    {
      "cell_type": "code",
      "metadata": {
        "id": "0JcQkQHf8sPP"
      },
      "source": [
        "numeric = ['CreditScore','Age','Tenure','Balance','NumOfProducts','HasCrCard','IsActiveMember','EstimatedSalary','Geography_Germany','Geography_Spain','Gender_Male']"
      ],
      "execution_count": null,
      "outputs": []
    },
    {
      "cell_type": "code",
      "metadata": {
        "colab": {
          "base_uri": "https://localhost:8080/"
        },
        "id": "cEvOBj6w8sPP",
        "outputId": "fc12148e-b074-4fc4-bade-09b929e1214b"
      },
      "source": [
        "scaler = StandardScaler()\n",
        "scaler.fit(features_train[numeric])\n",
        "features_train[numeric] = scaler.transform(features_train[numeric])\n",
        "features_valid[numeric] = scaler.transform(features_valid[numeric])\n",
        "features_test[numeric] = scaler.transform(features_test[numeric])\n",
        "\n",
        "print(features_train.shape)\n",
        "print(features_valid.shape)\n",
        "print(features_test.shape) "
      ],
      "execution_count": null,
      "outputs": [
        {
          "output_type": "stream",
          "text": [
            "(6000, 11)\n",
            "(2000, 11)\n",
            "(2000, 11)\n"
          ],
          "name": "stdout"
        }
      ]
    },
    {
      "cell_type": "code",
      "metadata": {
        "colab": {
          "base_uri": "https://localhost:8080/",
          "height": 422
        },
        "id": "ncQZesqj8sPQ",
        "outputId": "4db460dd-5d75-433b-e1f1-cae5c0d52bbf"
      },
      "source": [
        "display(features_train)"
      ],
      "execution_count": null,
      "outputs": [
        {
          "output_type": "display_data",
          "data": {
            "text/html": [
              "<div>\n",
              "<style scoped>\n",
              "    .dataframe tbody tr th:only-of-type {\n",
              "        vertical-align: middle;\n",
              "    }\n",
              "\n",
              "    .dataframe tbody tr th {\n",
              "        vertical-align: top;\n",
              "    }\n",
              "\n",
              "    .dataframe thead th {\n",
              "        text-align: right;\n",
              "    }\n",
              "</style>\n",
              "<table border=\"1\" class=\"dataframe\">\n",
              "  <thead>\n",
              "    <tr style=\"text-align: right;\">\n",
              "      <th></th>\n",
              "      <th>CreditScore</th>\n",
              "      <th>Age</th>\n",
              "      <th>Tenure</th>\n",
              "      <th>Balance</th>\n",
              "      <th>NumOfProducts</th>\n",
              "      <th>HasCrCard</th>\n",
              "      <th>IsActiveMember</th>\n",
              "      <th>EstimatedSalary</th>\n",
              "      <th>Geography_Germany</th>\n",
              "      <th>Geography_Spain</th>\n",
              "      <th>Gender_Male</th>\n",
              "    </tr>\n",
              "  </thead>\n",
              "  <tbody>\n",
              "    <tr>\n",
              "      <th>8588</th>\n",
              "      <td>0.626553</td>\n",
              "      <td>-0.948125</td>\n",
              "      <td>0.810793</td>\n",
              "      <td>0.026803</td>\n",
              "      <td>-0.919788</td>\n",
              "      <td>0.654134</td>\n",
              "      <td>-1.034943</td>\n",
              "      <td>0.389943</td>\n",
              "      <td>-0.575811</td>\n",
              "      <td>1.758627</td>\n",
              "      <td>-1.087115</td>\n",
              "    </tr>\n",
              "    <tr>\n",
              "      <th>3178</th>\n",
              "      <td>-1.143262</td>\n",
              "      <td>0.006684</td>\n",
              "      <td>-0.159377</td>\n",
              "      <td>0.538874</td>\n",
              "      <td>0.806433</td>\n",
              "      <td>0.654134</td>\n",
              "      <td>0.966236</td>\n",
              "      <td>-1.026089</td>\n",
              "      <td>-0.575811</td>\n",
              "      <td>-0.568625</td>\n",
              "      <td>-1.087115</td>\n",
              "    </tr>\n",
              "    <tr>\n",
              "      <th>5200</th>\n",
              "      <td>-1.455583</td>\n",
              "      <td>0.293126</td>\n",
              "      <td>1.457573</td>\n",
              "      <td>0.283178</td>\n",
              "      <td>0.806433</td>\n",
              "      <td>0.654134</td>\n",
              "      <td>-1.034943</td>\n",
              "      <td>-1.486725</td>\n",
              "      <td>1.736682</td>\n",
              "      <td>-0.568625</td>\n",
              "      <td>0.919866</td>\n",
              "    </tr>\n",
              "    <tr>\n",
              "      <th>8889</th>\n",
              "      <td>-0.747657</td>\n",
              "      <td>0.006684</td>\n",
              "      <td>1.457573</td>\n",
              "      <td>0.833254</td>\n",
              "      <td>-0.919788</td>\n",
              "      <td>0.654134</td>\n",
              "      <td>-1.034943</td>\n",
              "      <td>-0.246001</td>\n",
              "      <td>-0.575811</td>\n",
              "      <td>-0.568625</td>\n",
              "      <td>-1.087115</td>\n",
              "    </tr>\n",
              "    <tr>\n",
              "      <th>5789</th>\n",
              "      <td>0.387107</td>\n",
              "      <td>1.534377</td>\n",
              "      <td>-1.129548</td>\n",
              "      <td>0.000856</td>\n",
              "      <td>-0.919788</td>\n",
              "      <td>0.654134</td>\n",
              "      <td>-1.034943</td>\n",
              "      <td>-1.006993</td>\n",
              "      <td>1.736682</td>\n",
              "      <td>-0.568625</td>\n",
              "      <td>-1.087115</td>\n",
              "    </tr>\n",
              "    <tr>\n",
              "      <th>...</th>\n",
              "      <td>...</td>\n",
              "      <td>...</td>\n",
              "      <td>...</td>\n",
              "      <td>...</td>\n",
              "      <td>...</td>\n",
              "      <td>...</td>\n",
              "      <td>...</td>\n",
              "      <td>...</td>\n",
              "      <td>...</td>\n",
              "      <td>...</td>\n",
              "      <td>...</td>\n",
              "    </tr>\n",
              "    <tr>\n",
              "      <th>8871</th>\n",
              "      <td>-1.934474</td>\n",
              "      <td>-0.852644</td>\n",
              "      <td>-0.482768</td>\n",
              "      <td>-1.218934</td>\n",
              "      <td>-0.919788</td>\n",
              "      <td>0.654134</td>\n",
              "      <td>-1.034943</td>\n",
              "      <td>1.634510</td>\n",
              "      <td>-0.575811</td>\n",
              "      <td>-0.568625</td>\n",
              "      <td>-1.087115</td>\n",
              "    </tr>\n",
              "    <tr>\n",
              "      <th>9826</th>\n",
              "      <td>1.428175</td>\n",
              "      <td>0.102165</td>\n",
              "      <td>-0.159377</td>\n",
              "      <td>-1.218934</td>\n",
              "      <td>0.806433</td>\n",
              "      <td>0.654134</td>\n",
              "      <td>-1.034943</td>\n",
              "      <td>0.648739</td>\n",
              "      <td>-0.575811</td>\n",
              "      <td>1.758627</td>\n",
              "      <td>-1.087115</td>\n",
              "    </tr>\n",
              "    <tr>\n",
              "      <th>5268</th>\n",
              "      <td>0.407928</td>\n",
              "      <td>-1.043606</td>\n",
              "      <td>-1.129548</td>\n",
              "      <td>-1.218934</td>\n",
              "      <td>0.806433</td>\n",
              "      <td>-1.528738</td>\n",
              "      <td>-1.034943</td>\n",
              "      <td>-0.127176</td>\n",
              "      <td>-0.575811</td>\n",
              "      <td>-0.568625</td>\n",
              "      <td>0.919866</td>\n",
              "    </tr>\n",
              "    <tr>\n",
              "      <th>9666</th>\n",
              "      <td>1.105444</td>\n",
              "      <td>-0.375240</td>\n",
              "      <td>0.164013</td>\n",
              "      <td>-1.218934</td>\n",
              "      <td>0.806433</td>\n",
              "      <td>0.654134</td>\n",
              "      <td>-1.034943</td>\n",
              "      <td>-0.089820</td>\n",
              "      <td>-0.575811</td>\n",
              "      <td>1.758627</td>\n",
              "      <td>0.919866</td>\n",
              "    </tr>\n",
              "    <tr>\n",
              "      <th>6090</th>\n",
              "      <td>-1.112030</td>\n",
              "      <td>-1.234567</td>\n",
              "      <td>0.810793</td>\n",
              "      <td>-1.218934</td>\n",
              "      <td>0.806433</td>\n",
              "      <td>-1.528738</td>\n",
              "      <td>0.966236</td>\n",
              "      <td>0.983169</td>\n",
              "      <td>-0.575811</td>\n",
              "      <td>-0.568625</td>\n",
              "      <td>0.919866</td>\n",
              "    </tr>\n",
              "  </tbody>\n",
              "</table>\n",
              "<p>6000 rows × 11 columns</p>\n",
              "</div>"
            ],
            "text/plain": [
              "      CreditScore       Age  ...  Geography_Spain  Gender_Male\n",
              "8588     0.626553 -0.948125  ...         1.758627    -1.087115\n",
              "3178    -1.143262  0.006684  ...        -0.568625    -1.087115\n",
              "5200    -1.455583  0.293126  ...        -0.568625     0.919866\n",
              "8889    -0.747657  0.006684  ...        -0.568625    -1.087115\n",
              "5789     0.387107  1.534377  ...        -0.568625    -1.087115\n",
              "...           ...       ...  ...              ...          ...\n",
              "8871    -1.934474 -0.852644  ...        -0.568625    -1.087115\n",
              "9826     1.428175  0.102165  ...         1.758627    -1.087115\n",
              "5268     0.407928 -1.043606  ...        -0.568625     0.919866\n",
              "9666     1.105444 -0.375240  ...         1.758627     0.919866\n",
              "6090    -1.112030 -1.234567  ...        -0.568625     0.919866\n",
              "\n",
              "[6000 rows x 11 columns]"
            ]
          },
          "metadata": {
            "tags": []
          }
        }
      ]
    },
    {
      "cell_type": "code",
      "metadata": {
        "colab": {
          "base_uri": "https://localhost:8080/",
          "height": 422
        },
        "id": "j3xYZrEF8sPQ",
        "outputId": "042722df-677d-4d0d-a9b2-6d766c21f77f"
      },
      "source": [
        "display(features_valid)"
      ],
      "execution_count": null,
      "outputs": [
        {
          "output_type": "display_data",
          "data": {
            "text/html": [
              "<div>\n",
              "<style scoped>\n",
              "    .dataframe tbody tr th:only-of-type {\n",
              "        vertical-align: middle;\n",
              "    }\n",
              "\n",
              "    .dataframe tbody tr th {\n",
              "        vertical-align: top;\n",
              "    }\n",
              "\n",
              "    .dataframe thead th {\n",
              "        text-align: right;\n",
              "    }\n",
              "</style>\n",
              "<table border=\"1\" class=\"dataframe\">\n",
              "  <thead>\n",
              "    <tr style=\"text-align: right;\">\n",
              "      <th></th>\n",
              "      <th>CreditScore</th>\n",
              "      <th>Age</th>\n",
              "      <th>Tenure</th>\n",
              "      <th>Balance</th>\n",
              "      <th>NumOfProducts</th>\n",
              "      <th>HasCrCard</th>\n",
              "      <th>IsActiveMember</th>\n",
              "      <th>EstimatedSalary</th>\n",
              "      <th>Geography_Germany</th>\n",
              "      <th>Geography_Spain</th>\n",
              "      <th>Gender_Male</th>\n",
              "    </tr>\n",
              "  </thead>\n",
              "  <tbody>\n",
              "    <tr>\n",
              "      <th>6252</th>\n",
              "      <td>-0.581086</td>\n",
              "      <td>-0.661682</td>\n",
              "      <td>-0.482768</td>\n",
              "      <td>0.327195</td>\n",
              "      <td>0.806433</td>\n",
              "      <td>-1.528738</td>\n",
              "      <td>-1.034943</td>\n",
              "      <td>-1.017034</td>\n",
              "      <td>1.736682</td>\n",
              "      <td>-0.568625</td>\n",
              "      <td>0.919866</td>\n",
              "    </tr>\n",
              "    <tr>\n",
              "      <th>4684</th>\n",
              "      <td>-0.299998</td>\n",
              "      <td>0.388607</td>\n",
              "      <td>-1.129548</td>\n",
              "      <td>-1.218934</td>\n",
              "      <td>0.806433</td>\n",
              "      <td>0.654134</td>\n",
              "      <td>0.966236</td>\n",
              "      <td>0.805136</td>\n",
              "      <td>-0.575811</td>\n",
              "      <td>-0.568625</td>\n",
              "      <td>0.919866</td>\n",
              "    </tr>\n",
              "    <tr>\n",
              "      <th>1731</th>\n",
              "      <td>-0.529032</td>\n",
              "      <td>0.484088</td>\n",
              "      <td>-0.159377</td>\n",
              "      <td>-1.218934</td>\n",
              "      <td>0.806433</td>\n",
              "      <td>0.654134</td>\n",
              "      <td>-1.034943</td>\n",
              "      <td>-0.724818</td>\n",
              "      <td>-0.575811</td>\n",
              "      <td>1.758627</td>\n",
              "      <td>-1.087115</td>\n",
              "    </tr>\n",
              "    <tr>\n",
              "      <th>4742</th>\n",
              "      <td>-1.518047</td>\n",
              "      <td>1.916301</td>\n",
              "      <td>1.134183</td>\n",
              "      <td>0.686002</td>\n",
              "      <td>0.806433</td>\n",
              "      <td>0.654134</td>\n",
              "      <td>0.966236</td>\n",
              "      <td>1.228495</td>\n",
              "      <td>1.736682</td>\n",
              "      <td>-0.568625</td>\n",
              "      <td>0.919866</td>\n",
              "    </tr>\n",
              "    <tr>\n",
              "      <th>4521</th>\n",
              "      <td>-0.955870</td>\n",
              "      <td>-1.139087</td>\n",
              "      <td>0.810793</td>\n",
              "      <td>0.779430</td>\n",
              "      <td>-0.919788</td>\n",
              "      <td>0.654134</td>\n",
              "      <td>0.966236</td>\n",
              "      <td>0.252697</td>\n",
              "      <td>-0.575811</td>\n",
              "      <td>1.758627</td>\n",
              "      <td>-1.087115</td>\n",
              "    </tr>\n",
              "    <tr>\n",
              "      <th>...</th>\n",
              "      <td>...</td>\n",
              "      <td>...</td>\n",
              "      <td>...</td>\n",
              "      <td>...</td>\n",
              "      <td>...</td>\n",
              "      <td>...</td>\n",
              "      <td>...</td>\n",
              "      <td>...</td>\n",
              "      <td>...</td>\n",
              "      <td>...</td>\n",
              "      <td>...</td>\n",
              "    </tr>\n",
              "    <tr>\n",
              "      <th>6412</th>\n",
              "      <td>-0.518622</td>\n",
              "      <td>1.343416</td>\n",
              "      <td>0.164013</td>\n",
              "      <td>0.352132</td>\n",
              "      <td>-0.919788</td>\n",
              "      <td>-1.528738</td>\n",
              "      <td>0.966236</td>\n",
              "      <td>-0.960415</td>\n",
              "      <td>1.736682</td>\n",
              "      <td>-0.568625</td>\n",
              "      <td>-1.087115</td>\n",
              "    </tr>\n",
              "    <tr>\n",
              "      <th>8285</th>\n",
              "      <td>-0.445747</td>\n",
              "      <td>-1.330048</td>\n",
              "      <td>1.780963</td>\n",
              "      <td>-1.218934</td>\n",
              "      <td>-0.919788</td>\n",
              "      <td>-1.528738</td>\n",
              "      <td>0.966236</td>\n",
              "      <td>0.169514</td>\n",
              "      <td>-0.575811</td>\n",
              "      <td>-0.568625</td>\n",
              "      <td>0.919866</td>\n",
              "    </tr>\n",
              "    <tr>\n",
              "      <th>7853</th>\n",
              "      <td>0.813945</td>\n",
              "      <td>0.770530</td>\n",
              "      <td>0.810793</td>\n",
              "      <td>-1.218934</td>\n",
              "      <td>-0.919788</td>\n",
              "      <td>0.654134</td>\n",
              "      <td>-1.034943</td>\n",
              "      <td>-1.163641</td>\n",
              "      <td>-0.575811</td>\n",
              "      <td>-0.568625</td>\n",
              "      <td>-1.087115</td>\n",
              "    </tr>\n",
              "    <tr>\n",
              "      <th>1095</th>\n",
              "      <td>0.418339</td>\n",
              "      <td>-0.948125</td>\n",
              "      <td>-0.159377</td>\n",
              "      <td>-1.218934</td>\n",
              "      <td>-0.919788</td>\n",
              "      <td>0.654134</td>\n",
              "      <td>-1.034943</td>\n",
              "      <td>-0.407833</td>\n",
              "      <td>-0.575811</td>\n",
              "      <td>-0.568625</td>\n",
              "      <td>0.919866</td>\n",
              "    </tr>\n",
              "    <tr>\n",
              "      <th>6929</th>\n",
              "      <td>-0.247944</td>\n",
              "      <td>0.006684</td>\n",
              "      <td>-1.129548</td>\n",
              "      <td>0.625075</td>\n",
              "      <td>-0.919788</td>\n",
              "      <td>0.654134</td>\n",
              "      <td>0.966236</td>\n",
              "      <td>0.130822</td>\n",
              "      <td>1.736682</td>\n",
              "      <td>-0.568625</td>\n",
              "      <td>0.919866</td>\n",
              "    </tr>\n",
              "  </tbody>\n",
              "</table>\n",
              "<p>2000 rows × 11 columns</p>\n",
              "</div>"
            ],
            "text/plain": [
              "      CreditScore       Age  ...  Geography_Spain  Gender_Male\n",
              "6252    -0.581086 -0.661682  ...        -0.568625     0.919866\n",
              "4684    -0.299998  0.388607  ...        -0.568625     0.919866\n",
              "1731    -0.529032  0.484088  ...         1.758627    -1.087115\n",
              "4742    -1.518047  1.916301  ...        -0.568625     0.919866\n",
              "4521    -0.955870 -1.139087  ...         1.758627    -1.087115\n",
              "...           ...       ...  ...              ...          ...\n",
              "6412    -0.518622  1.343416  ...        -0.568625    -1.087115\n",
              "8285    -0.445747 -1.330048  ...        -0.568625     0.919866\n",
              "7853     0.813945  0.770530  ...        -0.568625    -1.087115\n",
              "1095     0.418339 -0.948125  ...        -0.568625     0.919866\n",
              "6929    -0.247944  0.006684  ...        -0.568625     0.919866\n",
              "\n",
              "[2000 rows x 11 columns]"
            ]
          },
          "metadata": {
            "tags": []
          }
        }
      ]
    },
    {
      "cell_type": "code",
      "metadata": {
        "colab": {
          "base_uri": "https://localhost:8080/",
          "height": 422
        },
        "id": "8ssr-CRa8sPQ",
        "outputId": "f99bf391-8840-4a22-a4d9-d31b3db28f54"
      },
      "source": [
        "display(features_test)"
      ],
      "execution_count": null,
      "outputs": [
        {
          "output_type": "display_data",
          "data": {
            "text/html": [
              "<div>\n",
              "<style scoped>\n",
              "    .dataframe tbody tr th:only-of-type {\n",
              "        vertical-align: middle;\n",
              "    }\n",
              "\n",
              "    .dataframe tbody tr th {\n",
              "        vertical-align: top;\n",
              "    }\n",
              "\n",
              "    .dataframe thead th {\n",
              "        text-align: right;\n",
              "    }\n",
              "</style>\n",
              "<table border=\"1\" class=\"dataframe\">\n",
              "  <thead>\n",
              "    <tr style=\"text-align: right;\">\n",
              "      <th></th>\n",
              "      <th>CreditScore</th>\n",
              "      <th>Age</th>\n",
              "      <th>Tenure</th>\n",
              "      <th>Balance</th>\n",
              "      <th>NumOfProducts</th>\n",
              "      <th>HasCrCard</th>\n",
              "      <th>IsActiveMember</th>\n",
              "      <th>EstimatedSalary</th>\n",
              "      <th>Geography_Germany</th>\n",
              "      <th>Geography_Spain</th>\n",
              "      <th>Gender_Male</th>\n",
              "    </tr>\n",
              "  </thead>\n",
              "  <tbody>\n",
              "    <tr>\n",
              "      <th>3188</th>\n",
              "      <td>1.553103</td>\n",
              "      <td>-0.661682</td>\n",
              "      <td>-0.159377</td>\n",
              "      <td>-0.017150</td>\n",
              "      <td>-0.919788</td>\n",
              "      <td>0.654134</td>\n",
              "      <td>0.966236</td>\n",
              "      <td>-1.084803</td>\n",
              "      <td>-0.575811</td>\n",
              "      <td>-0.568625</td>\n",
              "      <td>-1.087115</td>\n",
              "    </tr>\n",
              "    <tr>\n",
              "      <th>8293</th>\n",
              "      <td>1.188729</td>\n",
              "      <td>-1.043606</td>\n",
              "      <td>-0.159377</td>\n",
              "      <td>0.231074</td>\n",
              "      <td>-0.919788</td>\n",
              "      <td>-1.528738</td>\n",
              "      <td>0.966236</td>\n",
              "      <td>-1.368802</td>\n",
              "      <td>1.736682</td>\n",
              "      <td>-0.568625</td>\n",
              "      <td>-1.087115</td>\n",
              "    </tr>\n",
              "    <tr>\n",
              "      <th>1710</th>\n",
              "      <td>1.834191</td>\n",
              "      <td>-1.043606</td>\n",
              "      <td>1.134183</td>\n",
              "      <td>0.935642</td>\n",
              "      <td>-0.919788</td>\n",
              "      <td>0.654134</td>\n",
              "      <td>-1.034943</td>\n",
              "      <td>-0.362538</td>\n",
              "      <td>-0.575811</td>\n",
              "      <td>1.758627</td>\n",
              "      <td>0.919866</td>\n",
              "    </tr>\n",
              "    <tr>\n",
              "      <th>7510</th>\n",
              "      <td>1.521871</td>\n",
              "      <td>-0.279759</td>\n",
              "      <td>-1.129548</td>\n",
              "      <td>-1.218934</td>\n",
              "      <td>0.806433</td>\n",
              "      <td>0.654134</td>\n",
              "      <td>0.966236</td>\n",
              "      <td>1.025781</td>\n",
              "      <td>-0.575811</td>\n",
              "      <td>-0.568625</td>\n",
              "      <td>0.919866</td>\n",
              "    </tr>\n",
              "    <tr>\n",
              "      <th>1461</th>\n",
              "      <td>-0.424926</td>\n",
              "      <td>-0.470721</td>\n",
              "      <td>-0.159377</td>\n",
              "      <td>-1.218934</td>\n",
              "      <td>0.806433</td>\n",
              "      <td>0.654134</td>\n",
              "      <td>-1.034943</td>\n",
              "      <td>1.233214</td>\n",
              "      <td>-0.575811</td>\n",
              "      <td>1.758627</td>\n",
              "      <td>0.919866</td>\n",
              "    </tr>\n",
              "    <tr>\n",
              "      <th>...</th>\n",
              "      <td>...</td>\n",
              "      <td>...</td>\n",
              "      <td>...</td>\n",
              "      <td>...</td>\n",
              "      <td>...</td>\n",
              "      <td>...</td>\n",
              "      <td>...</td>\n",
              "      <td>...</td>\n",
              "      <td>...</td>\n",
              "      <td>...</td>\n",
              "      <td>...</td>\n",
              "    </tr>\n",
              "    <tr>\n",
              "      <th>2834</th>\n",
              "      <td>2.063226</td>\n",
              "      <td>-0.852644</td>\n",
              "      <td>-1.452938</td>\n",
              "      <td>0.724101</td>\n",
              "      <td>-0.919788</td>\n",
              "      <td>-1.528738</td>\n",
              "      <td>-1.034943</td>\n",
              "      <td>-1.042730</td>\n",
              "      <td>-0.575811</td>\n",
              "      <td>-0.568625</td>\n",
              "      <td>0.919866</td>\n",
              "    </tr>\n",
              "    <tr>\n",
              "      <th>449</th>\n",
              "      <td>1.313657</td>\n",
              "      <td>0.770530</td>\n",
              "      <td>0.487403</td>\n",
              "      <td>0.816255</td>\n",
              "      <td>0.806433</td>\n",
              "      <td>0.654134</td>\n",
              "      <td>-1.034943</td>\n",
              "      <td>0.427355</td>\n",
              "      <td>-0.575811</td>\n",
              "      <td>1.758627</td>\n",
              "      <td>-1.087115</td>\n",
              "    </tr>\n",
              "    <tr>\n",
              "      <th>6686</th>\n",
              "      <td>-0.320819</td>\n",
              "      <td>1.056973</td>\n",
              "      <td>-0.482768</td>\n",
              "      <td>1.388389</td>\n",
              "      <td>-0.919788</td>\n",
              "      <td>-1.528738</td>\n",
              "      <td>0.966236</td>\n",
              "      <td>0.538042</td>\n",
              "      <td>-0.575811</td>\n",
              "      <td>1.758627</td>\n",
              "      <td>0.919866</td>\n",
              "    </tr>\n",
              "    <tr>\n",
              "      <th>3561</th>\n",
              "      <td>0.491214</td>\n",
              "      <td>-0.757163</td>\n",
              "      <td>-1.452938</td>\n",
              "      <td>0.792890</td>\n",
              "      <td>0.806433</td>\n",
              "      <td>0.654134</td>\n",
              "      <td>-1.034943</td>\n",
              "      <td>1.554510</td>\n",
              "      <td>1.736682</td>\n",
              "      <td>-0.568625</td>\n",
              "      <td>-1.087115</td>\n",
              "    </tr>\n",
              "    <tr>\n",
              "      <th>9595</th>\n",
              "      <td>-0.570675</td>\n",
              "      <td>2.107262</td>\n",
              "      <td>0.164013</td>\n",
              "      <td>-1.218934</td>\n",
              "      <td>0.806433</td>\n",
              "      <td>0.654134</td>\n",
              "      <td>0.966236</td>\n",
              "      <td>-0.328682</td>\n",
              "      <td>-0.575811</td>\n",
              "      <td>-0.568625</td>\n",
              "      <td>0.919866</td>\n",
              "    </tr>\n",
              "  </tbody>\n",
              "</table>\n",
              "<p>2000 rows × 11 columns</p>\n",
              "</div>"
            ],
            "text/plain": [
              "      CreditScore       Age  ...  Geography_Spain  Gender_Male\n",
              "3188     1.553103 -0.661682  ...        -0.568625    -1.087115\n",
              "8293     1.188729 -1.043606  ...        -0.568625    -1.087115\n",
              "1710     1.834191 -1.043606  ...         1.758627     0.919866\n",
              "7510     1.521871 -0.279759  ...        -0.568625     0.919866\n",
              "1461    -0.424926 -0.470721  ...         1.758627     0.919866\n",
              "...           ...       ...  ...              ...          ...\n",
              "2834     2.063226 -0.852644  ...        -0.568625     0.919866\n",
              "449      1.313657  0.770530  ...         1.758627    -1.087115\n",
              "6686    -0.320819  1.056973  ...         1.758627     0.919866\n",
              "3561     0.491214 -0.757163  ...        -0.568625    -1.087115\n",
              "9595    -0.570675  2.107262  ...        -0.568625     0.919866\n",
              "\n",
              "[2000 rows x 11 columns]"
            ]
          },
          "metadata": {
            "tags": []
          }
        }
      ]
    },
    {
      "cell_type": "markdown",
      "metadata": {
        "id": "w01q8yIc8sPR"
      },
      "source": [
        "<b>Исследуем баланс классов</b>"
      ]
    },
    {
      "cell_type": "code",
      "metadata": {
        "colab": {
          "base_uri": "https://localhost:8080/",
          "height": 330
        },
        "id": "YuEzf9Qe8sPR",
        "outputId": "cf6d0a34-a97b-4002-8f7e-e6b0eeefcfb2"
      },
      "source": [
        "class_frequency = df_ohe['Exited'].value_counts(normalize=True)\n",
        "print(class_frequency)\n",
        "class_frequency.plot(kind='bar') "
      ],
      "execution_count": null,
      "outputs": [
        {
          "output_type": "stream",
          "text": [
            "0    0.7963\n",
            "1    0.2037\n",
            "Name: Exited, dtype: float64\n"
          ],
          "name": "stdout"
        },
        {
          "output_type": "execute_result",
          "data": {
            "text/plain": [
              "<matplotlib.axes._subplots.AxesSubplot at 0x7ff3d62f5210>"
            ]
          },
          "metadata": {
            "tags": []
          },
          "execution_count": 33
        },
        {
          "output_type": "display_data",
          "data": {
            "image/png": "[encoded data removed]",
            "text/plain": [
              "<Figure size 432x288 with 1 Axes>"
            ]
          },
          "metadata": {
            "tags": [],
            "needs_background": "light"
          }
        }
      ]
    },
    {
      "cell_type": "markdown",
      "metadata": {
        "id": "KNxLMWPu8sPR"
      },
      "source": [
        "<b>Провекра на константной модели</b>"
      ]
    },
    {
      "cell_type": "code",
      "metadata": {
        "colab": {
          "base_uri": "https://localhost:8080/"
        },
        "id": "hQ72Qfkz8sPR",
        "outputId": "3e6dd492-9c89-4055-a772-a427a6b56472"
      },
      "source": [
        "target = df_ohe['Exited']\n",
        "features = df_ohe.drop('Exited', axis=1)\n",
        "\n",
        "target_pred_constant = pd.Series(0, index=target.index)\n",
        "print(accuracy_score(target, target_pred_constant)) "
      ],
      "execution_count": null,
      "outputs": [
        {
          "output_type": "stream",
          "text": [
            "0.7963\n"
          ],
          "name": "stdout"
        }
      ]
    },
    {
      "cell_type": "markdown",
      "metadata": {
        "id": "c94WYe4J8sPS"
      },
      "source": [
        "<b>Классы несбалансированны</b>"
      ]
    },
    {
      "cell_type": "markdown",
      "metadata": {
        "id": "whVCuKEU8sPS"
      },
      "source": [
        "<b>Исследуем модели на несбалансированных классах</b>"
      ]
    },
    {
      "cell_type": "markdown",
      "metadata": {
        "id": "Hm4RMZUL8sPT"
      },
      "source": [
        "<b>Модель дерево решений</b>"
      ]
    },
    {
      "cell_type": "markdown",
      "metadata": {
        "id": "50mMjtjH8sPT"
      },
      "source": [
        "<b>Осуществим поиск параметров методом GridSearch</b>"
      ]
    },
    {
      "cell_type": "code",
      "metadata": {
        "id": "V1I4PGRC8sPT"
      },
      "source": [
        "# splitter = ['best','random']\n",
        "# max_depth = [4,5,6,7,8,9,10,15]\n",
        "# min_samples_split = [2,3,4,5,6,7,8,9]\n",
        "# min_samples_leaf = [2,3,4,5,6,7,8,9]\n",
        "# param_grid = {'splitter': splitter,\n",
        "#                'max_depth': max_depth,\n",
        "#                'min_samples_split': min_samples_split,\n",
        "#                'min_samples_leaf': min_samples_leaf}\n",
        "# gs_tree = GridSearchCV(DecisionTreeClassifier(random_state=42), param_grid)\n",
        "# gs_tree.fit(features_train,target_train)\n",
        "# gs_tree.best_params_"
      ],
      "execution_count": null,
      "outputs": []
    },
    {
      "cell_type": "code",
      "metadata": {
        "colab": {
          "base_uri": "https://localhost:8080/"
        },
        "id": "BhBfiCju8sPU",
        "outputId": "75158508-eb87-48cf-8975-1f0f823d83ad"
      },
      "source": [
        "model_tree = DecisionTreeClassifier(random_state=42, max_depth=6, min_samples_leaf=6,min_samples_split=2,splitter='best')\n",
        "model_tree.fit(features_train, target_train) \n",
        "predictions_valid_tree = model_tree.predict(features_valid)\n",
        "\n",
        "accuracy = accuracy_score(target_valid,predictions_valid_tree)\n",
        "precision = precision_score(target_valid,predictions_valid_tree)\n",
        "recall = recall_score(target_valid,predictions_valid_tree)\n",
        "f1 = f1_score(target_valid,predictions_valid_tree)\n",
        "\n",
        "print(\"accuracy:\", accuracy)\n",
        "print(\"precision:\", precision)\n",
        "print(\"recall:\", recall)\n",
        "print(\"f1:\", f1)\n",
        "print()\n",
        "print(metrics.classification_report(target_valid,predictions_valid_tree))"
      ],
      "execution_count": null,
      "outputs": [
        {
          "output_type": "stream",
          "text": [
            "accuracy: 0.8655\n",
            "precision: 0.8131313131313131\n",
            "recall: 0.40966921119592875\n",
            "f1: 0.5448392554991539\n",
            "\n",
            "              precision    recall  f1-score   support\n",
            "\n",
            "           0       0.87      0.98      0.92      1607\n",
            "           1       0.81      0.41      0.54       393\n",
            "\n",
            "    accuracy                           0.87      2000\n",
            "   macro avg       0.84      0.69      0.73      2000\n",
            "weighted avg       0.86      0.87      0.85      2000\n",
            "\n"
          ],
          "name": "stdout"
        }
      ]
    },
    {
      "cell_type": "code",
      "metadata": {
        "colab": {
          "base_uri": "https://localhost:8080/",
          "height": 279
        },
        "id": "cpuVTXsi8sPU",
        "outputId": "d4242b68-f9dc-4f00-eee1-837413f161f3"
      },
      "source": [
        "mat_tree = confusion_matrix(target_valid,predictions_valid_tree)\n",
        "sns.heatmap(mat_tree.T, square=True, annot=True, fmt='d', cbar=True)\n",
        "plt.ylabel('Настоящие метки')\n",
        "plt.xlabel('Прогнозируемые метки')\n",
        "plt.show()"
      ],
      "execution_count": null,
      "outputs": [
        {
          "output_type": "display_data",
          "data": {
            "image/png": "[encoded data removed]",
            "text/plain": [
              "<Figure size 432x288 with 2 Axes>"
            ]
          },
          "metadata": {
            "tags": [],
            "needs_background": "light"
          }
        }
      ]
    },
    {
      "cell_type": "markdown",
      "metadata": {
        "id": "QuZ1AtpM8sPU"
      },
      "source": [
        "<b>Модель случайный лес</b>"
      ]
    },
    {
      "cell_type": "code",
      "metadata": {
        "id": "ZxxA11sq8sPV"
      },
      "source": [
        "# n_estimators = [15,50,60,70]\n",
        "# max_depth = [9,12,15]\n",
        "# min_samples_split = [2,4,6,8]\n",
        "# min_samples_leaf = [1,3,5,7,9]\n",
        "# param_grid = {'n_estimators': n_estimators,\n",
        "#                'max_depth': max_depth,\n",
        "#                'min_samples_split': min_samples_split,\n",
        "#                'min_samples_leaf': min_samples_leaf}\n",
        "# gs = GridSearchCV(RandomForestClassifier(random_state=42), param_grid)\n",
        "# gs.fit(features_train,target_train)\n",
        "# gs.best_params_"
      ],
      "execution_count": null,
      "outputs": []
    },
    {
      "cell_type": "code",
      "metadata": {
        "colab": {
          "base_uri": "https://localhost:8080/"
        },
        "id": "7HG0WUkV8sPV",
        "outputId": "ff3b47b1-0c3d-489c-8d9d-63ed8ea88945"
      },
      "source": [
        "model_forest = RandomForestClassifier(random_state=42, n_estimators=50, max_depth=12,min_samples_leaf=1,min_samples_split=6) \n",
        "model_forest.fit(features_train,target_train)\n",
        "predictions_valid_forest = model_forest.predict(features_valid)\n",
        "\n",
        "print(metrics.classification_report(target_valid,predictions_valid_forest))"
      ],
      "execution_count": null,
      "outputs": [
        {
          "output_type": "stream",
          "text": [
            "              precision    recall  f1-score   support\n",
            "\n",
            "           0       0.88      0.96      0.92      1607\n",
            "           1       0.76      0.46      0.57       393\n",
            "\n",
            "    accuracy                           0.86      2000\n",
            "   macro avg       0.82      0.71      0.74      2000\n",
            "weighted avg       0.86      0.86      0.85      2000\n",
            "\n"
          ],
          "name": "stdout"
        }
      ]
    },
    {
      "cell_type": "code",
      "metadata": {
        "colab": {
          "base_uri": "https://localhost:8080/",
          "height": 279
        },
        "id": "TQAhMW4x8sPW",
        "outputId": "a6fd78c8-3d86-4c33-d00f-4bcbd804ff21"
      },
      "source": [
        "mat_forest = confusion_matrix(target_valid,predictions_valid_forest)\n",
        "sns.heatmap(mat_forest.T, square=True, annot=True, fmt='d', cbar=True)\n",
        "plt.ylabel('Настоящие метки')\n",
        "plt.xlabel('Прогнозируемые метки')\n",
        "plt.show()"
      ],
      "execution_count": null,
      "outputs": [
        {
          "output_type": "display_data",
          "data": {
            "image/png": "[encoded data removed]",
            "text/plain": [
              "<Figure size 432x288 with 2 Axes>"
            ]
          },
          "metadata": {
            "tags": [],
            "needs_background": "light"
          }
        }
      ]
    },
    {
      "cell_type": "markdown",
      "metadata": {
        "id": "ixo6ADfz8sPW"
      },
      "source": [
        "<b>Модель логистическая регрессия</b>"
      ]
    },
    {
      "cell_type": "code",
      "metadata": {
        "id": "eAzl8rOl8sPW"
      },
      "source": [
        "# penalty = ['l1','l2']\n",
        "# C = [1,2,3,4,5,6,7,8,9]\n",
        "# max_iter = [10,20,30,50,70,80,100]\n",
        "# param_grid = {'penalty': penalty,\n",
        "#                'C': C,\n",
        "#                'max_iter': max_iter}\n",
        "# gs_reg = GridSearchCV(LogisticRegression(random_state=42), param_grid)\n",
        "# gs_reg.fit(features_train,target_train)\n",
        "# gs_reg.best_params_"
      ],
      "execution_count": null,
      "outputs": []
    },
    {
      "cell_type": "code",
      "metadata": {
        "colab": {
          "base_uri": "https://localhost:8080/"
        },
        "id": "a1m8GJPt8sPX",
        "outputId": "31963d0f-e54b-4b75-ed93-189a4f11ef65"
      },
      "source": [
        "model_reg = LogisticRegression(C=2,random_state=42, penalty='l2',max_iter=10) \n",
        "model_reg.fit(features_train,target_train)\n",
        "predictions_valid_reg = model_reg.predict(features_valid)\n",
        "\n",
        "print(metrics.classification_report(target_valid,predictions_valid_reg))"
      ],
      "execution_count": null,
      "outputs": [
        {
          "output_type": "stream",
          "text": [
            "              precision    recall  f1-score   support\n",
            "\n",
            "           0       0.83      0.96      0.89      1607\n",
            "           1       0.55      0.20      0.29       393\n",
            "\n",
            "    accuracy                           0.81      2000\n",
            "   macro avg       0.69      0.58      0.59      2000\n",
            "weighted avg       0.77      0.81      0.77      2000\n",
            "\n"
          ],
          "name": "stdout"
        }
      ]
    },
    {
      "cell_type": "code",
      "metadata": {
        "colab": {
          "base_uri": "https://localhost:8080/",
          "height": 279
        },
        "id": "QvxE7q638sPX",
        "outputId": "0c84d320-8c77-4ec2-c07f-bb645a584bae"
      },
      "source": [
        "mat_reg = confusion_matrix(target_valid,predictions_valid_reg)\n",
        "sns.heatmap(mat_reg.T, square=True, annot=True, fmt='d', cbar=True)\n",
        "plt.ylabel('Настоящие метки')\n",
        "plt.xlabel('Прогнозируемые метки')\n",
        "plt.show()"
      ],
      "execution_count": null,
      "outputs": [
        {
          "output_type": "display_data",
          "data": {
            "image/png": "[encoded data removed]",
            "text/plain": [
              "<Figure size 432x288 with 2 Axes>"
            ]
          },
          "metadata": {
            "tags": [],
            "needs_background": "light"
          }
        }
      ]
    },
    {
      "cell_type": "markdown",
      "metadata": {
        "id": "W-3dMFgA8sPX"
      },
      "source": [
        "<b>Проверим модели на тестовой выборке</b>"
      ]
    },
    {
      "cell_type": "code",
      "metadata": {
        "id": "4CvaomRC8sPY"
      },
      "source": [
        "new_features = pd.concat([features_train, features_valid])\n",
        "new_target = pd.concat([target_train, target_valid])"
      ],
      "execution_count": null,
      "outputs": []
    },
    {
      "cell_type": "code",
      "metadata": {
        "colab": {
          "base_uri": "https://localhost:8080/",
          "height": 422
        },
        "id": "LCVZs8q28sPY",
        "outputId": "9dc09875-588c-4845-9413-4de3c0d6699d"
      },
      "source": [
        "display(new_features)"
      ],
      "execution_count": null,
      "outputs": [
        {
          "output_type": "display_data",
          "data": {
            "text/html": [
              "<div>\n",
              "<style scoped>\n",
              "    .dataframe tbody tr th:only-of-type {\n",
              "        vertical-align: middle;\n",
              "    }\n",
              "\n",
              "    .dataframe tbody tr th {\n",
              "        vertical-align: top;\n",
              "    }\n",
              "\n",
              "    .dataframe thead th {\n",
              "        text-align: right;\n",
              "    }\n",
              "</style>\n",
              "<table border=\"1\" class=\"dataframe\">\n",
              "  <thead>\n",
              "    <tr style=\"text-align: right;\">\n",
              "      <th></th>\n",
              "      <th>CreditScore</th>\n",
              "      <th>Age</th>\n",
              "      <th>Tenure</th>\n",
              "      <th>Balance</th>\n",
              "      <th>NumOfProducts</th>\n",
              "      <th>HasCrCard</th>\n",
              "      <th>IsActiveMember</th>\n",
              "      <th>EstimatedSalary</th>\n",
              "      <th>Geography_Germany</th>\n",
              "      <th>Geography_Spain</th>\n",
              "      <th>Gender_Male</th>\n",
              "    </tr>\n",
              "  </thead>\n",
              "  <tbody>\n",
              "    <tr>\n",
              "      <th>8588</th>\n",
              "      <td>0.626553</td>\n",
              "      <td>-0.948125</td>\n",
              "      <td>0.810793</td>\n",
              "      <td>0.026803</td>\n",
              "      <td>-0.919788</td>\n",
              "      <td>0.654134</td>\n",
              "      <td>-1.034943</td>\n",
              "      <td>0.389943</td>\n",
              "      <td>-0.575811</td>\n",
              "      <td>1.758627</td>\n",
              "      <td>-1.087115</td>\n",
              "    </tr>\n",
              "    <tr>\n",
              "      <th>3178</th>\n",
              "      <td>-1.143262</td>\n",
              "      <td>0.006684</td>\n",
              "      <td>-0.159377</td>\n",
              "      <td>0.538874</td>\n",
              "      <td>0.806433</td>\n",
              "      <td>0.654134</td>\n",
              "      <td>0.966236</td>\n",
              "      <td>-1.026089</td>\n",
              "      <td>-0.575811</td>\n",
              "      <td>-0.568625</td>\n",
              "      <td>-1.087115</td>\n",
              "    </tr>\n",
              "    <tr>\n",
              "      <th>5200</th>\n",
              "      <td>-1.455583</td>\n",
              "      <td>0.293126</td>\n",
              "      <td>1.457573</td>\n",
              "      <td>0.283178</td>\n",
              "      <td>0.806433</td>\n",
              "      <td>0.654134</td>\n",
              "      <td>-1.034943</td>\n",
              "      <td>-1.486725</td>\n",
              "      <td>1.736682</td>\n",
              "      <td>-0.568625</td>\n",
              "      <td>0.919866</td>\n",
              "    </tr>\n",
              "    <tr>\n",
              "      <th>8889</th>\n",
              "      <td>-0.747657</td>\n",
              "      <td>0.006684</td>\n",
              "      <td>1.457573</td>\n",
              "      <td>0.833254</td>\n",
              "      <td>-0.919788</td>\n",
              "      <td>0.654134</td>\n",
              "      <td>-1.034943</td>\n",
              "      <td>-0.246001</td>\n",
              "      <td>-0.575811</td>\n",
              "      <td>-0.568625</td>\n",
              "      <td>-1.087115</td>\n",
              "    </tr>\n",
              "    <tr>\n",
              "      <th>5789</th>\n",
              "      <td>0.387107</td>\n",
              "      <td>1.534377</td>\n",
              "      <td>-1.129548</td>\n",
              "      <td>0.000856</td>\n",
              "      <td>-0.919788</td>\n",
              "      <td>0.654134</td>\n",
              "      <td>-1.034943</td>\n",
              "      <td>-1.006993</td>\n",
              "      <td>1.736682</td>\n",
              "      <td>-0.568625</td>\n",
              "      <td>-1.087115</td>\n",
              "    </tr>\n",
              "    <tr>\n",
              "      <th>...</th>\n",
              "      <td>...</td>\n",
              "      <td>...</td>\n",
              "      <td>...</td>\n",
              "      <td>...</td>\n",
              "      <td>...</td>\n",
              "      <td>...</td>\n",
              "      <td>...</td>\n",
              "      <td>...</td>\n",
              "      <td>...</td>\n",
              "      <td>...</td>\n",
              "      <td>...</td>\n",
              "    </tr>\n",
              "    <tr>\n",
              "      <th>6412</th>\n",
              "      <td>-0.518622</td>\n",
              "      <td>1.343416</td>\n",
              "      <td>0.164013</td>\n",
              "      <td>0.352132</td>\n",
              "      <td>-0.919788</td>\n",
              "      <td>-1.528738</td>\n",
              "      <td>0.966236</td>\n",
              "      <td>-0.960415</td>\n",
              "      <td>1.736682</td>\n",
              "      <td>-0.568625</td>\n",
              "      <td>-1.087115</td>\n",
              "    </tr>\n",
              "    <tr>\n",
              "      <th>8285</th>\n",
              "      <td>-0.445747</td>\n",
              "      <td>-1.330048</td>\n",
              "      <td>1.780963</td>\n",
              "      <td>-1.218934</td>\n",
              "      <td>-0.919788</td>\n",
              "      <td>-1.528738</td>\n",
              "      <td>0.966236</td>\n",
              "      <td>0.169514</td>\n",
              "      <td>-0.575811</td>\n",
              "      <td>-0.568625</td>\n",
              "      <td>0.919866</td>\n",
              "    </tr>\n",
              "    <tr>\n",
              "      <th>7853</th>\n",
              "      <td>0.813945</td>\n",
              "      <td>0.770530</td>\n",
              "      <td>0.810793</td>\n",
              "      <td>-1.218934</td>\n",
              "      <td>-0.919788</td>\n",
              "      <td>0.654134</td>\n",
              "      <td>-1.034943</td>\n",
              "      <td>-1.163641</td>\n",
              "      <td>-0.575811</td>\n",
              "      <td>-0.568625</td>\n",
              "      <td>-1.087115</td>\n",
              "    </tr>\n",
              "    <tr>\n",
              "      <th>1095</th>\n",
              "      <td>0.418339</td>\n",
              "      <td>-0.948125</td>\n",
              "      <td>-0.159377</td>\n",
              "      <td>-1.218934</td>\n",
              "      <td>-0.919788</td>\n",
              "      <td>0.654134</td>\n",
              "      <td>-1.034943</td>\n",
              "      <td>-0.407833</td>\n",
              "      <td>-0.575811</td>\n",
              "      <td>-0.568625</td>\n",
              "      <td>0.919866</td>\n",
              "    </tr>\n",
              "    <tr>\n",
              "      <th>6929</th>\n",
              "      <td>-0.247944</td>\n",
              "      <td>0.006684</td>\n",
              "      <td>-1.129548</td>\n",
              "      <td>0.625075</td>\n",
              "      <td>-0.919788</td>\n",
              "      <td>0.654134</td>\n",
              "      <td>0.966236</td>\n",
              "      <td>0.130822</td>\n",
              "      <td>1.736682</td>\n",
              "      <td>-0.568625</td>\n",
              "      <td>0.919866</td>\n",
              "    </tr>\n",
              "  </tbody>\n",
              "</table>\n",
              "<p>8000 rows × 11 columns</p>\n",
              "</div>"
            ],
            "text/plain": [
              "      CreditScore       Age  ...  Geography_Spain  Gender_Male\n",
              "8588     0.626553 -0.948125  ...         1.758627    -1.087115\n",
              "3178    -1.143262  0.006684  ...        -0.568625    -1.087115\n",
              "5200    -1.455583  0.293126  ...        -0.568625     0.919866\n",
              "8889    -0.747657  0.006684  ...        -0.568625    -1.087115\n",
              "5789     0.387107  1.534377  ...        -0.568625    -1.087115\n",
              "...           ...       ...  ...              ...          ...\n",
              "6412    -0.518622  1.343416  ...        -0.568625    -1.087115\n",
              "8285    -0.445747 -1.330048  ...        -0.568625     0.919866\n",
              "7853     0.813945  0.770530  ...        -0.568625    -1.087115\n",
              "1095     0.418339 -0.948125  ...        -0.568625     0.919866\n",
              "6929    -0.247944  0.006684  ...        -0.568625     0.919866\n",
              "\n",
              "[8000 rows x 11 columns]"
            ]
          },
          "metadata": {
            "tags": []
          }
        }
      ]
    },
    {
      "cell_type": "code",
      "metadata": {
        "colab": {
          "base_uri": "https://localhost:8080/",
          "height": 218
        },
        "id": "euZSNwhg8sPY",
        "outputId": "077db861-5ebd-4314-b708-eb184e46ad1c"
      },
      "source": [
        "display(new_target)"
      ],
      "execution_count": null,
      "outputs": [
        {
          "output_type": "display_data",
          "data": {
            "text/plain": [
              "8588    0\n",
              "3178    0\n",
              "5200    0\n",
              "8889    0\n",
              "5789    1\n",
              "       ..\n",
              "6412    1\n",
              "8285    0\n",
              "7853    1\n",
              "1095    1\n",
              "6929    1\n",
              "Name: Exited, Length: 8000, dtype: int64"
            ]
          },
          "metadata": {
            "tags": []
          }
        }
      ]
    },
    {
      "cell_type": "code",
      "metadata": {
        "colab": {
          "base_uri": "https://localhost:8080/"
        },
        "id": "6XytOstI8sPY",
        "outputId": "b0b48334-569e-4eec-f3fa-b70196ee31d6"
      },
      "source": [
        "model_tree.fit(new_features, new_target) \n",
        "test_predictions_tree = model_tree.predict(features_test)\n",
        "\n",
        "print(metrics.classification_report(target_test,test_predictions_tree))"
      ],
      "execution_count": null,
      "outputs": [
        {
          "output_type": "stream",
          "text": [
            "              precision    recall  f1-score   support\n",
            "\n",
            "           0       0.87      0.97      0.92      1587\n",
            "           1       0.78      0.43      0.56       413\n",
            "\n",
            "    accuracy                           0.86      2000\n",
            "   macro avg       0.82      0.70      0.74      2000\n",
            "weighted avg       0.85      0.86      0.84      2000\n",
            "\n"
          ],
          "name": "stdout"
        }
      ]
    },
    {
      "cell_type": "code",
      "metadata": {
        "colab": {
          "base_uri": "https://localhost:8080/"
        },
        "id": "yRu8jnWw8sPZ",
        "outputId": "ee075d57-c644-4883-eb5a-adc85ec055c4"
      },
      "source": [
        "model_forest.fit(new_features, new_target) \n",
        "test_predictions_forest = model_forest.predict(features_test)\n",
        "\n",
        "print(metrics.classification_report(target_test,test_predictions_forest))"
      ],
      "execution_count": null,
      "outputs": [
        {
          "output_type": "stream",
          "text": [
            "              precision    recall  f1-score   support\n",
            "\n",
            "           0       0.88      0.97      0.92      1587\n",
            "           1       0.82      0.47      0.60       413\n",
            "\n",
            "    accuracy                           0.87      2000\n",
            "   macro avg       0.85      0.72      0.76      2000\n",
            "weighted avg       0.87      0.87      0.86      2000\n",
            "\n"
          ],
          "name": "stdout"
        }
      ]
    },
    {
      "cell_type": "code",
      "metadata": {
        "colab": {
          "base_uri": "https://localhost:8080/"
        },
        "id": "wdyv_NoL8sPZ",
        "outputId": "1db293ef-33a5-4e1f-bc77-b75826e84552"
      },
      "source": [
        "model_reg.fit(new_features, new_target) \n",
        "test_predictions_reg = model_reg.predict(features_test)\n",
        "\n",
        "print(metrics.classification_report(target_test,test_predictions_reg))"
      ],
      "execution_count": null,
      "outputs": [
        {
          "output_type": "stream",
          "text": [
            "              precision    recall  f1-score   support\n",
            "\n",
            "           0       0.83      0.97      0.89      1587\n",
            "           1       0.62      0.21      0.32       413\n",
            "\n",
            "    accuracy                           0.81      2000\n",
            "   macro avg       0.72      0.59      0.60      2000\n",
            "weighted avg       0.78      0.81      0.77      2000\n",
            "\n"
          ],
          "name": "stdout"
        }
      ]
    },
    {
      "cell_type": "markdown",
      "metadata": {
        "id": "MnQplqnl8sPa"
      },
      "source": [
        "<b>Измерим AUC_ROC</b>"
      ]
    },
    {
      "cell_type": "code",
      "metadata": {
        "colab": {
          "base_uri": "https://localhost:8080/"
        },
        "id": "4o4j2BCU8sPa",
        "outputId": "90a8b0b1-9627-4b51-af8a-0f1d825c2e86"
      },
      "source": [
        "probabilities_test_tree = model_tree.predict_proba(features_test)\n",
        "probabilities_one_test_tree = probabilities_test_tree[:, 1]\n",
        "\n",
        "auc_roc_tree = roc_auc_score(target_test, probabilities_one_test_tree)\n",
        "\n",
        "print(auc_roc_tree)"
      ],
      "execution_count": null,
      "outputs": [
        {
          "output_type": "stream",
          "text": [
            "0.8404729101919197\n"
          ],
          "name": "stdout"
        }
      ]
    },
    {
      "cell_type": "code",
      "metadata": {
        "colab": {
          "base_uri": "https://localhost:8080/",
          "height": 295
        },
        "id": "Y_ZjkIAb8sPa",
        "outputId": "2b35d663-36f6-47c0-c229-0dbb4bbf411a"
      },
      "source": [
        "fpr, tpr, thresholds = roc_curve(target_test, probabilities_one_test_tree)\n",
        "\n",
        "plt.figure()\n",
        "\n",
        "plt.plot(fpr, tpr)\n",
        "# ROC-кривая случайной модели (выглядит как прямая)\n",
        "plt.plot([0, 1], [0, 1], linestyle='--')\n",
        "plt.grid()\n",
        "\n",
        "# установим границы осей от 0 до 1 >\n",
        "plt.xlim([0.0, 1.0])\n",
        "plt.ylim([0.0, 1.0])\n",
        "\n",
        "plt.xlabel('False Positive Rate')\n",
        "plt.ylabel('True Positive Rate')\n",
        "\n",
        "plt.title('ROC-кривая')\n",
        "plt.show()"
      ],
      "execution_count": null,
      "outputs": [
        {
          "output_type": "display_data",
          "data": {
            "image/png": "[encoded data removed]",
            "text/plain": [
              "<Figure size 432x288 with 1 Axes>"
            ]
          },
          "metadata": {
            "tags": [],
            "needs_background": "light"
          }
        }
      ]
    },
    {
      "cell_type": "code",
      "metadata": {
        "colab": {
          "base_uri": "https://localhost:8080/"
        },
        "id": "ruBzl8rQ8sPa",
        "outputId": "3d60b7cd-5cb4-4ee2-d828-0e8f50179cc6"
      },
      "source": [
        "probabilities_test_forest = model_forest.predict_proba(features_test)\n",
        "probabilities_one_test_forest = probabilities_test_forest[:, 1]\n",
        "\n",
        "auc_roc_forest = roc_auc_score(target_test, probabilities_one_test_forest)\n",
        "\n",
        "print(auc_roc_forest)"
      ],
      "execution_count": null,
      "outputs": [
        {
          "output_type": "stream",
          "text": [
            "0.8647653223604008\n"
          ],
          "name": "stdout"
        }
      ]
    },
    {
      "cell_type": "code",
      "metadata": {
        "colab": {
          "base_uri": "https://localhost:8080/",
          "height": 295
        },
        "id": "nihmaVxG8sPb",
        "outputId": "5e7b858e-0ef3-4287-9d2a-39f70a4b6825"
      },
      "source": [
        "fpr, tpr, thresholds = roc_curve(target_test, probabilities_one_test_forest)\n",
        "\n",
        "plt.figure()\n",
        "\n",
        "plt.plot(fpr, tpr)\n",
        "# ROC-кривая случайной модели (выглядит как прямая)\n",
        "plt.plot([0, 1], [0, 1], linestyle='--')\n",
        "plt.grid()\n",
        "\n",
        "# установим границы осей от 0 до 1 >\n",
        "plt.xlim([0.0, 1.0])\n",
        "plt.ylim([0.0, 1.0])\n",
        "\n",
        "plt.xlabel('False Positive Rate')\n",
        "plt.ylabel('True Positive Rate')\n",
        "\n",
        "plt.title('ROC-кривая')\n",
        "plt.show()"
      ],
      "execution_count": null,
      "outputs": [
        {
          "output_type": "display_data",
          "data": {
            "image/png": "[encoded data removed]",
            "text/plain": [
              "<Figure size 432x288 with 1 Axes>"
            ]
          },
          "metadata": {
            "tags": [],
            "needs_background": "light"
          }
        }
      ]
    },
    {
      "cell_type": "code",
      "metadata": {
        "colab": {
          "base_uri": "https://localhost:8080/"
        },
        "id": "_sFn_voZ8sPb",
        "outputId": "88dd514b-9c11-411d-b510-1df2049fb3c7"
      },
      "source": [
        "probabilities_test_reg = model_reg.predict_proba(features_test)\n",
        "probabilities_one_test_reg = probabilities_test_reg[:, 1]\n",
        "\n",
        "auc_roc_reg = roc_auc_score(target_test, probabilities_one_test_reg)\n",
        "\n",
        "print(auc_roc_reg)"
      ],
      "execution_count": null,
      "outputs": [
        {
          "output_type": "stream",
          "text": [
            "0.7839894664732064\n"
          ],
          "name": "stdout"
        }
      ]
    },
    {
      "cell_type": "code",
      "metadata": {
        "colab": {
          "base_uri": "https://localhost:8080/",
          "height": 295
        },
        "id": "KQuTd6L_8sPb",
        "outputId": "899b2578-6bb7-424f-dbc0-cfb16f8181a5"
      },
      "source": [
        "fpr, tpr, thresholds = roc_curve(target_test, probabilities_one_test_reg)\n",
        "\n",
        "plt.figure()\n",
        "\n",
        "plt.plot(fpr, tpr)\n",
        "# ROC-кривая случайной модели (выглядит как прямая)\n",
        "plt.plot([0, 1], [0, 1], linestyle='--')\n",
        "plt.grid()\n",
        "\n",
        "# установим границы осей от 0 до 1 >\n",
        "plt.xlim([0.0, 1.0])\n",
        "plt.ylim([0.0, 1.0])\n",
        "\n",
        "plt.xlabel('False Positive Rate')\n",
        "plt.ylabel('True Positive Rate')\n",
        "\n",
        "plt.title('ROC-кривая')\n",
        "plt.show()"
      ],
      "execution_count": null,
      "outputs": [
        {
          "output_type": "display_data",
          "data": {
            "image/png": "[encoded data removed]",
            "text/plain": [
              "<Figure size 432x288 with 1 Axes>"
            ]
          },
          "metadata": {
            "tags": [],
            "needs_background": "light"
          }
        }
      ]
    },
    {
      "cell_type": "markdown",
      "metadata": {
        "id": "FNw18flI8sPc"
      },
      "source": [
        "### Вывод по разделу\n",
        "1. Построили 3 модели: дерево решений, случайный лес, логистическая регрессия.\n",
        "2. Для каждой модели расчитали метрики качества и построили ROC-кривые.\n",
        "3. Судя по расчитанным метрикам можно сделать вывод, что <b><i>модель случайный лес</i></b> получилась наиболее оптимальной, но необходимо рассмотреть модели на сбалансированных классах.\n",
        "<br>\n",
        "<table border=\"5\" width=\"50%\" cellpadding=\"7\" cellspasing=\"5\" bordercolor=\"#000000\" align=\"left\">\n",
        "    <tr>\n",
        "        <th>Модель</th>\n",
        "        <th>Accuracy</th>\n",
        "        <th>Precision</th>\n",
        "        <th>Recall</th>\n",
        "        <th>F1</th>\n",
        "        <th>AUC_ROC</th>\n",
        "    </tr>\n",
        "    <tr>\n",
        "        <th>Дерево решений</th>\n",
        "        <th>0.86</th>\n",
        "        <th>0.78</th>\n",
        "        <th>0.43</th>\n",
        "        <th>0.56</th>\n",
        "        <th>0.84</th>\n",
        "    </tr>\n",
        "     <tr>\n",
        "        <th>Случайный лес</th>\n",
        "        <th>0.87</th>\n",
        "        <th>0.82</th>\n",
        "        <th>0.47</th>\n",
        "        <th>0.60</th>\n",
        "        <th>0.86</th>\n",
        "    </tr>\n",
        "    <tr>\n",
        "        <th>Логистическая регрессия</th>\n",
        "        <th>0.81</th>\n",
        "        <th>0.62</th>\n",
        "        <th>0.21</th>\n",
        "        <th>0.32</th>\n",
        "        <th>0.78</th>\n",
        "    </tr>\n",
        "</table>\n"
      ]
    },
    {
      "cell_type": "markdown",
      "metadata": {
        "id": "pjmOqV918sPc"
      },
      "source": [
        "## Борьба с дисбалансом"
      ]
    },
    {
      "cell_type": "markdown",
      "metadata": {
        "id": "IHJDz3-H8sPc"
      },
      "source": [
        "<b>Обучим модели со взвешиванием классов</b>"
      ]
    },
    {
      "cell_type": "markdown",
      "metadata": {
        "id": "HA4J5vxu8sPc"
      },
      "source": [
        "<b>Модель дерево решений</b>"
      ]
    },
    {
      "cell_type": "code",
      "metadata": {
        "colab": {
          "base_uri": "https://localhost:8080/"
        },
        "id": "M8ox-BtJ8sPd",
        "outputId": "57f70dfe-be98-4c67-e94e-2536ed34cf7c"
      },
      "source": [
        "model_tree = DecisionTreeClassifier(random_state=42, class_weight='balanced', max_depth=6, min_samples_leaf=6,min_samples_split=2,splitter='best')\n",
        "model_tree.fit(features_train, target_train) \n",
        "predictions_valid_tree = model_tree.predict(features_valid)\n",
        "\n",
        "print(metrics.classification_report(target_valid,predictions_valid_tree))"
      ],
      "execution_count": null,
      "outputs": [
        {
          "output_type": "stream",
          "text": [
            "              precision    recall  f1-score   support\n",
            "\n",
            "           0       0.94      0.77      0.85      1607\n",
            "           1       0.46      0.78      0.58       393\n",
            "\n",
            "    accuracy                           0.78      2000\n",
            "   macro avg       0.70      0.78      0.71      2000\n",
            "weighted avg       0.84      0.78      0.79      2000\n",
            "\n"
          ],
          "name": "stdout"
        }
      ]
    },
    {
      "cell_type": "markdown",
      "metadata": {
        "id": "hmYoxxqt8sPd"
      },
      "source": [
        "<b>Проверка на тестовой выборке</b>"
      ]
    },
    {
      "cell_type": "code",
      "metadata": {
        "colab": {
          "base_uri": "https://localhost:8080/"
        },
        "id": "FXRcfBbD8sPd",
        "outputId": "5211491f-8524-4ce6-e2a6-f5a6f424b8bd"
      },
      "source": [
        "model_tree.fit(new_features, new_target) \n",
        "test_predictions_tree = model_tree.predict(features_test)\n",
        "\n",
        "print(metrics.classification_report(target_test,test_predictions_tree))"
      ],
      "execution_count": null,
      "outputs": [
        {
          "output_type": "stream",
          "text": [
            "              precision    recall  f1-score   support\n",
            "\n",
            "           0       0.93      0.75      0.83      1587\n",
            "           1       0.45      0.78      0.57       413\n",
            "\n",
            "    accuracy                           0.76      2000\n",
            "   macro avg       0.69      0.77      0.70      2000\n",
            "weighted avg       0.83      0.76      0.78      2000\n",
            "\n"
          ],
          "name": "stdout"
        }
      ]
    },
    {
      "cell_type": "code",
      "metadata": {
        "colab": {
          "base_uri": "https://localhost:8080/"
        },
        "id": "H2XDWLJW8sPd",
        "outputId": "ec304103-9f9a-4ba8-bf58-916fe3d4c212"
      },
      "source": [
        "probabilities_test_tree = model_tree.predict_proba(features_test)\n",
        "probabilities_one_test_tree = probabilities_test_tree[:, 1]\n",
        "\n",
        "auc_roc_tree = roc_auc_score(target_test, probabilities_one_test_tree)\n",
        "\n",
        "print(auc_roc_tree)"
      ],
      "execution_count": null,
      "outputs": [
        {
          "output_type": "stream",
          "text": [
            "0.842864466282492\n"
          ],
          "name": "stdout"
        }
      ]
    },
    {
      "cell_type": "code",
      "metadata": {
        "colab": {
          "base_uri": "https://localhost:8080/",
          "height": 295
        },
        "id": "v4sOE9aE8sPe",
        "outputId": "0c7e5673-c8f5-4ef5-d559-f35dbe57603d"
      },
      "source": [
        "fpr, tpr, thresholds = roc_curve(target_test, probabilities_one_test_tree)\n",
        "\n",
        "plt.figure()\n",
        "\n",
        "plt.plot(fpr, tpr)\n",
        "# ROC-кривая случайной модели (выглядит как прямая)\n",
        "plt.plot([0, 1], [0, 1], linestyle='--')\n",
        "plt.grid()\n",
        "\n",
        "# установим границы осей от 0 до 1 >\n",
        "plt.xlim([0.0, 1.0])\n",
        "plt.ylim([0.0, 1.0])\n",
        "\n",
        "plt.xlabel('False Positive Rate')\n",
        "plt.ylabel('True Positive Rate')\n",
        "\n",
        "plt.title('ROC-кривая')\n",
        "plt.show()"
      ],
      "execution_count": null,
      "outputs": [
        {
          "output_type": "display_data",
          "data": {
            "image/png": "[encoded data removed]",
            "text/plain": [
              "<Figure size 432x288 with 1 Axes>"
            ]
          },
          "metadata": {
            "tags": [],
            "needs_background": "light"
          }
        }
      ]
    },
    {
      "cell_type": "markdown",
      "metadata": {
        "id": "mI_1v5JR8sPe"
      },
      "source": [
        "<b>Модель случайный лес</b>"
      ]
    },
    {
      "cell_type": "code",
      "metadata": {
        "colab": {
          "base_uri": "https://localhost:8080/"
        },
        "id": "ZBySHPEp8sPe",
        "outputId": "250257f2-0f66-4b33-f46e-34102b6a2526"
      },
      "source": [
        "model_forest = RandomForestClassifier(random_state=42, class_weight='balanced', n_estimators=50, max_depth=12,min_samples_leaf=1,min_samples_split=6) \n",
        "model_forest.fit(features_train,target_train)\n",
        "predictions_valid_forest = model_forest.predict(features_valid)\n",
        "\n",
        "print(metrics.classification_report(target_valid,predictions_valid_forest))"
      ],
      "execution_count": null,
      "outputs": [
        {
          "output_type": "stream",
          "text": [
            "              precision    recall  f1-score   support\n",
            "\n",
            "           0       0.90      0.91      0.91      1607\n",
            "           1       0.63      0.61      0.62       393\n",
            "\n",
            "    accuracy                           0.85      2000\n",
            "   macro avg       0.77      0.76      0.76      2000\n",
            "weighted avg       0.85      0.85      0.85      2000\n",
            "\n"
          ],
          "name": "stdout"
        }
      ]
    },
    {
      "cell_type": "markdown",
      "metadata": {
        "id": "7wSYMxbL8sPf"
      },
      "source": [
        "<b>Проверка на тестовой выборке</b>"
      ]
    },
    {
      "cell_type": "code",
      "metadata": {
        "colab": {
          "base_uri": "https://localhost:8080/"
        },
        "id": "bOH5itCA8sPf",
        "outputId": "9c11fab2-e610-47eb-dbc0-1c3a59e480b3"
      },
      "source": [
        "model_forest.fit(new_features, new_target) \n",
        "test_predictions_forest = model_forest.predict(features_test)\n",
        "\n",
        "print(metrics.classification_report(target_test,test_predictions_forest))"
      ],
      "execution_count": null,
      "outputs": [
        {
          "output_type": "stream",
          "text": [
            "              precision    recall  f1-score   support\n",
            "\n",
            "           0       0.90      0.91      0.91      1587\n",
            "           1       0.65      0.62      0.63       413\n",
            "\n",
            "    accuracy                           0.85      2000\n",
            "   macro avg       0.77      0.77      0.77      2000\n",
            "weighted avg       0.85      0.85      0.85      2000\n",
            "\n"
          ],
          "name": "stdout"
        }
      ]
    },
    {
      "cell_type": "code",
      "metadata": {
        "colab": {
          "base_uri": "https://localhost:8080/"
        },
        "id": "O9Msjcoo8sPf",
        "outputId": "6f185d40-e0cc-4fc5-f6f1-1ee7bb1b3a5f"
      },
      "source": [
        "probabilities_test_forest = model_forest.predict_proba(features_test)\n",
        "probabilities_one_test_forest = probabilities_test_forest[:, 1]\n",
        "\n",
        "auc_roc_forest = roc_auc_score(target_test, probabilities_one_test_forest)\n",
        "\n",
        "print(auc_roc_forest)"
      ],
      "execution_count": null,
      "outputs": [
        {
          "output_type": "stream",
          "text": [
            "0.8697803430109348\n"
          ],
          "name": "stdout"
        }
      ]
    },
    {
      "cell_type": "code",
      "metadata": {
        "colab": {
          "base_uri": "https://localhost:8080/",
          "height": 295
        },
        "id": "0osQ3MN08sPf",
        "outputId": "65c9ca60-a0d0-4674-dd87-7ca51c52e7b3"
      },
      "source": [
        "fpr, tpr, thresholds = roc_curve(target_test, probabilities_one_test_forest)\n",
        "\n",
        "plt.figure()\n",
        "\n",
        "plt.plot(fpr, tpr)\n",
        "# ROC-кривая случайной модели (выглядит как прямая)\n",
        "plt.plot([0, 1], [0, 1], linestyle='--')\n",
        "plt.grid()\n",
        "\n",
        "# установим границы осей от 0 до 1 >\n",
        "plt.xlim([0.0, 1.0])\n",
        "plt.ylim([0.0, 1.0])\n",
        "\n",
        "plt.xlabel('False Positive Rate')\n",
        "plt.ylabel('True Positive Rate')\n",
        "\n",
        "plt.title('ROC-кривая')\n",
        "plt.show()"
      ],
      "execution_count": null,
      "outputs": [
        {
          "output_type": "display_data",
          "data": {
            "image/png": "[encoded data removed]",
            "text/plain": [
              "<Figure size 432x288 with 1 Axes>"
            ]
          },
          "metadata": {
            "tags": [],
            "needs_background": "light"
          }
        }
      ]
    },
    {
      "cell_type": "markdown",
      "metadata": {
        "id": "TRAQSNG-8sPg"
      },
      "source": [
        "<b>Модель логистическая регрессия</b>"
      ]
    },
    {
      "cell_type": "code",
      "metadata": {
        "colab": {
          "base_uri": "https://localhost:8080/"
        },
        "id": "iJptV7S08sPg",
        "outputId": "df47f650-e814-4941-e18d-80b558717674"
      },
      "source": [
        "model_reg = LogisticRegression(C=2,random_state=42, class_weight='balanced', penalty='l2',max_iter=10) \n",
        "model_reg.fit(features_train,target_train)\n",
        "predictions_valid_reg = model_reg.predict(features_valid)\n",
        "\n",
        "print(metrics.classification_report(target_valid,predictions_valid_reg))"
      ],
      "execution_count": null,
      "outputs": [
        {
          "output_type": "stream",
          "text": [
            "              precision    recall  f1-score   support\n",
            "\n",
            "           0       0.91      0.72      0.81      1607\n",
            "           1       0.39      0.72      0.51       393\n",
            "\n",
            "    accuracy                           0.72      2000\n",
            "   macro avg       0.65      0.72      0.66      2000\n",
            "weighted avg       0.81      0.72      0.75      2000\n",
            "\n"
          ],
          "name": "stdout"
        }
      ]
    },
    {
      "cell_type": "markdown",
      "metadata": {
        "id": "UP7NDy6g8sPg"
      },
      "source": [
        "<b>Проверка на тестовой выборке</b>"
      ]
    },
    {
      "cell_type": "code",
      "metadata": {
        "colab": {
          "base_uri": "https://localhost:8080/"
        },
        "id": "cDPxrrq78sPh",
        "outputId": "509a8910-5914-45d2-dabe-ae0b337c9cd7"
      },
      "source": [
        "model_reg.fit(new_features, new_target) \n",
        "test_predictions_reg = model_reg.predict(features_test)\n",
        "\n",
        "print(metrics.classification_report(target_test,test_predictions_reg))"
      ],
      "execution_count": null,
      "outputs": [
        {
          "output_type": "stream",
          "text": [
            "              precision    recall  f1-score   support\n",
            "\n",
            "           0       0.91      0.73      0.81      1587\n",
            "           1       0.41      0.72      0.52       413\n",
            "\n",
            "    accuracy                           0.73      2000\n",
            "   macro avg       0.66      0.72      0.66      2000\n",
            "weighted avg       0.81      0.72      0.75      2000\n",
            "\n"
          ],
          "name": "stdout"
        }
      ]
    },
    {
      "cell_type": "code",
      "metadata": {
        "colab": {
          "base_uri": "https://localhost:8080/"
        },
        "id": "CFURPEHD8sPh",
        "outputId": "6ddcfaf4-d161-4227-b627-c5c83acbbe21"
      },
      "source": [
        "probabilities_test_reg = model_reg.predict_proba(features_test)\n",
        "probabilities_one_test_reg = probabilities_test_reg[:, 1]\n",
        "\n",
        "auc_roc_reg = roc_auc_score(target_test, probabilities_one_test_reg)\n",
        "\n",
        "print(auc_roc_reg)"
      ],
      "execution_count": null,
      "outputs": [
        {
          "output_type": "stream",
          "text": [
            "0.785554848641581\n"
          ],
          "name": "stdout"
        }
      ]
    },
    {
      "cell_type": "code",
      "metadata": {
        "colab": {
          "base_uri": "https://localhost:8080/",
          "height": 295
        },
        "id": "FXljndhj8sPh",
        "outputId": "b0d85b49-e208-4b00-dec9-34671fbe86e4"
      },
      "source": [
        "fpr, tpr, thresholds = roc_curve(target_test, probabilities_one_test_reg)\n",
        "\n",
        "plt.figure()\n",
        "\n",
        "plt.plot(fpr, tpr)\n",
        "# ROC-кривая случайной модели (выглядит как прямая)\n",
        "plt.plot([0, 1], [0, 1], linestyle='--')\n",
        "plt.grid()\n",
        "\n",
        "# установим границы осей от 0 до 1 >\n",
        "plt.xlim([0.0, 1.0])\n",
        "plt.ylim([0.0, 1.0])\n",
        "\n",
        "plt.xlabel('False Positive Rate')\n",
        "plt.ylabel('True Positive Rate')\n",
        "\n",
        "plt.title('ROC-кривая')\n",
        "plt.show()"
      ],
      "execution_count": null,
      "outputs": [
        {
          "output_type": "display_data",
          "data": {
            "image/png": "[encoded data removed]",
            "text/plain": [
              "<Figure size 432x288 with 1 Axes>"
            ]
          },
          "metadata": {
            "tags": [],
            "needs_background": "light"
          }
        }
      ]
    },
    {
      "cell_type": "markdown",
      "metadata": {
        "id": "Bl2KBq-o8sPi"
      },
      "source": [
        "<b>Сбалансируем классы путем увеличения числа объектов меньшего класса</b>"
      ]
    },
    {
      "cell_type": "code",
      "metadata": {
        "id": "O9qJ1M2-8sPi"
      },
      "source": [
        "def upsample(features, target, repeat):\n",
        "    features_zeros = features[target == 0]\n",
        "    features_ones = features[target == 1]\n",
        "    target_zeros = target[target == 0]\n",
        "    target_ones = target[target == 1]\n",
        "    features_upsampled = pd.concat([features_zeros] + [features_ones] * repeat)\n",
        "    target_upsampled = pd.concat([target_zeros] + [target_ones] * repeat)\n",
        "    features_upsampled, target_upsampled = shuffle(features_upsampled, target_upsampled, random_state=42)\n",
        "    return features_upsampled, target_upsampled"
      ],
      "execution_count": null,
      "outputs": []
    },
    {
      "cell_type": "code",
      "metadata": {
        "id": "g8fuMcSJ8sPi"
      },
      "source": [
        "features_upsampled, target_upsampled = upsample(features_train,target_train,4)"
      ],
      "execution_count": null,
      "outputs": []
    },
    {
      "cell_type": "code",
      "metadata": {
        "colab": {
          "base_uri": "https://localhost:8080/"
        },
        "id": "RL9bn4TY8sPi",
        "outputId": "d5bcbe64-710f-49e3-8410-3415a7a51cc0"
      },
      "source": [
        "print(features_upsampled.shape)\n",
        "print(target_upsampled.shape)"
      ],
      "execution_count": null,
      "outputs": [
        {
          "output_type": "stream",
          "text": [
            "(9693, 11)\n",
            "(9693,)\n"
          ],
          "name": "stdout"
        }
      ]
    },
    {
      "cell_type": "markdown",
      "metadata": {
        "id": "LBUbmAFi8sPj"
      },
      "source": [
        "<b>Модель дерево решений</b>"
      ]
    },
    {
      "cell_type": "code",
      "metadata": {
        "colab": {
          "base_uri": "https://localhost:8080/"
        },
        "id": "pWYOy21d8sPj",
        "outputId": "14669e2c-2eea-4062-c049-c1a269857a30"
      },
      "source": [
        "model_tree = DecisionTreeClassifier(random_state=42, max_depth=6, min_samples_leaf=6,min_samples_split=2,splitter='best')\n",
        "model_tree.fit(features_upsampled, target_upsampled) \n",
        "predictions_valid_tree = model_tree.predict(features_valid)\n",
        "\n",
        "print(metrics.classification_report(target_valid,predictions_valid_tree))"
      ],
      "execution_count": null,
      "outputs": [
        {
          "output_type": "stream",
          "text": [
            "              precision    recall  f1-score   support\n",
            "\n",
            "           0       0.93      0.78      0.85      1607\n",
            "           1       0.46      0.78      0.58       393\n",
            "\n",
            "    accuracy                           0.78      2000\n",
            "   macro avg       0.70      0.78      0.71      2000\n",
            "weighted avg       0.84      0.78      0.80      2000\n",
            "\n"
          ],
          "name": "stdout"
        }
      ]
    },
    {
      "cell_type": "markdown",
      "metadata": {
        "id": "T2QwyNvg8sPj"
      },
      "source": [
        "<b>Модель случайный лес</b>"
      ]
    },
    {
      "cell_type": "code",
      "metadata": {
        "colab": {
          "base_uri": "https://localhost:8080/"
        },
        "id": "QJxtMprN8sPj",
        "outputId": "9dd885c1-0210-434c-93f2-5548f65bc8d5"
      },
      "source": [
        "model_forest = RandomForestClassifier(random_state=42, n_estimators=50, max_depth=12,min_samples_leaf=1,min_samples_split=6)\n",
        "model_forest.fit(features_upsampled, target_upsampled)\n",
        "predictions_valid_forest = model_forest.predict(features_valid)\n",
        "\n",
        "print(metrics.classification_report(target_valid,predictions_valid_forest))"
      ],
      "execution_count": null,
      "outputs": [
        {
          "output_type": "stream",
          "text": [
            "              precision    recall  f1-score   support\n",
            "\n",
            "           0       0.92      0.87      0.89      1607\n",
            "           1       0.56      0.67      0.61       393\n",
            "\n",
            "    accuracy                           0.83      2000\n",
            "   macro avg       0.74      0.77      0.75      2000\n",
            "weighted avg       0.85      0.83      0.84      2000\n",
            "\n"
          ],
          "name": "stdout"
        }
      ]
    },
    {
      "cell_type": "markdown",
      "metadata": {
        "id": "Ozu9yeN88sPk"
      },
      "source": [
        "<b>Модель логистическая регрессия</b>"
      ]
    },
    {
      "cell_type": "code",
      "metadata": {
        "colab": {
          "base_uri": "https://localhost:8080/"
        },
        "id": "YSCRdpYO8sPk",
        "outputId": "31503997-e5a3-47a5-fa49-ea61530884e8"
      },
      "source": [
        "model_reg = LogisticRegression(C=2,random_state=42, penalty='l2',max_iter=10) \n",
        "model_reg.fit(features_upsampled, target_upsampled)\n",
        "predictions_valid_reg = model_reg.predict(features_valid)\n",
        "\n",
        "print(metrics.classification_report(target_valid,predictions_valid_reg))"
      ],
      "execution_count": null,
      "outputs": [
        {
          "output_type": "stream",
          "text": [
            "              precision    recall  f1-score   support\n",
            "\n",
            "           0       0.92      0.71      0.80      1607\n",
            "           1       0.38      0.73      0.50       393\n",
            "\n",
            "    accuracy                           0.72      2000\n",
            "   macro avg       0.65      0.72      0.65      2000\n",
            "weighted avg       0.81      0.72      0.74      2000\n",
            "\n"
          ],
          "name": "stdout"
        }
      ]
    },
    {
      "cell_type": "markdown",
      "metadata": {
        "id": "rZkYSH9L8sPk"
      },
      "source": [
        "<b>Сбалансируем классы путем уменьшения числа объектов большего класса</b>"
      ]
    },
    {
      "cell_type": "code",
      "metadata": {
        "id": "N2xD7s7i8sPk"
      },
      "source": [
        "def downsample(features, target, fraction):\n",
        "    features_zeros = features[target == 0]\n",
        "    features_ones = features[target == 1]\n",
        "    target_zeros = target[target == 0]\n",
        "    target_ones = target[target == 1]\n",
        "    features_downsampled = pd.concat([features_zeros.sample(frac=fraction, random_state=42)] + [features_ones])\n",
        "    target_downsampled = pd.concat([target_zeros.sample(frac=fraction, random_state=42)] + [target_ones])\n",
        "    features_downsampled, target_downsampled = shuffle(features_downsampled, target_downsampled, random_state=42)\n",
        "    return features_downsampled, target_downsampled"
      ],
      "execution_count": null,
      "outputs": []
    },
    {
      "cell_type": "code",
      "metadata": {
        "id": "UEJLQNyI8sPl"
      },
      "source": [
        "features_downsampled, target_downsampled = downsample(features_train,target_train,0.4)"
      ],
      "execution_count": null,
      "outputs": []
    },
    {
      "cell_type": "code",
      "metadata": {
        "colab": {
          "base_uri": "https://localhost:8080/"
        },
        "id": "Rv9Al6KM8sPl",
        "outputId": "205bef00-0d7a-4276-870b-afff1d3c37ae"
      },
      "source": [
        "print(features_downsampled.shape)\n",
        "print(target_downsampled.shape)"
      ],
      "execution_count": null,
      "outputs": [
        {
          "output_type": "stream",
          "text": [
            "(3139, 11)\n",
            "(3139,)\n"
          ],
          "name": "stdout"
        }
      ]
    },
    {
      "cell_type": "markdown",
      "metadata": {
        "id": "sA94wHFG8sPl"
      },
      "source": [
        "<b>Модель дерево решений</b>"
      ]
    },
    {
      "cell_type": "code",
      "metadata": {
        "colab": {
          "base_uri": "https://localhost:8080/"
        },
        "id": "HAeuvTD38sPl",
        "outputId": "86f81f0c-3c28-4654-9c68-607a742ee6cb"
      },
      "source": [
        "model_tree = DecisionTreeClassifier(random_state=42, max_depth=6, min_samples_leaf=6,min_samples_split=2,splitter='best')\n",
        "model_tree.fit(features_downsampled, target_downsampled) \n",
        "predictions_valid_tree = model_tree.predict(features_valid)\n",
        "\n",
        "print(metrics.classification_report(target_valid,predictions_valid_tree))"
      ],
      "execution_count": null,
      "outputs": [
        {
          "output_type": "stream",
          "text": [
            "              precision    recall  f1-score   support\n",
            "\n",
            "           0       0.92      0.82      0.86      1607\n",
            "           1       0.48      0.69      0.57       393\n",
            "\n",
            "    accuracy                           0.79      2000\n",
            "   macro avg       0.70      0.76      0.72      2000\n",
            "weighted avg       0.83      0.79      0.81      2000\n",
            "\n"
          ],
          "name": "stdout"
        }
      ]
    },
    {
      "cell_type": "markdown",
      "metadata": {
        "id": "5psQqbvF8sPm"
      },
      "source": [
        "<b>Модель случайный лес</b>"
      ]
    },
    {
      "cell_type": "code",
      "metadata": {
        "colab": {
          "base_uri": "https://localhost:8080/"
        },
        "id": "Yga0LK7t8sPm",
        "outputId": "50476e4b-142c-497d-b7d3-2b7876609ce7"
      },
      "source": [
        "model_forest = RandomForestClassifier(random_state=42, n_estimators=50, max_depth=12,min_samples_leaf=1,min_samples_split=6)\n",
        "model_forest.fit(features_downsampled, target_downsampled)\n",
        "predictions_valid_forest = model_forest.predict(features_valid)\n",
        "\n",
        "print(metrics.classification_report(target_valid,predictions_valid_forest))"
      ],
      "execution_count": null,
      "outputs": [
        {
          "output_type": "stream",
          "text": [
            "              precision    recall  f1-score   support\n",
            "\n",
            "           0       0.92      0.88      0.90      1607\n",
            "           1       0.58      0.68      0.62       393\n",
            "\n",
            "    accuracy                           0.84      2000\n",
            "   macro avg       0.75      0.78      0.76      2000\n",
            "weighted avg       0.85      0.84      0.84      2000\n",
            "\n"
          ],
          "name": "stdout"
        }
      ]
    },
    {
      "cell_type": "markdown",
      "metadata": {
        "id": "2E5AiQ268sPm"
      },
      "source": [
        "<b>Модель логистическая регрессия</b>"
      ]
    },
    {
      "cell_type": "code",
      "metadata": {
        "colab": {
          "base_uri": "https://localhost:8080/"
        },
        "id": "JH3lE2G_8sPm",
        "outputId": "7c993ae3-7253-4da1-b5f8-0ec432233fd2"
      },
      "source": [
        "model_reg = LogisticRegression(C=2,random_state=42, penalty='l2',max_iter=10) \n",
        "model_reg.fit(features_downsampled, target_downsampled)\n",
        "predictions_valid_reg = model_reg.predict(features_valid)\n",
        "\n",
        "print(metrics.classification_report(target_valid,predictions_valid_reg))"
      ],
      "execution_count": null,
      "outputs": [
        {
          "output_type": "stream",
          "text": [
            "              precision    recall  f1-score   support\n",
            "\n",
            "           0       0.88      0.84      0.86      1607\n",
            "           1       0.46      0.55      0.50       393\n",
            "\n",
            "    accuracy                           0.79      2000\n",
            "   macro avg       0.67      0.70      0.68      2000\n",
            "weighted avg       0.80      0.79      0.79      2000\n",
            "\n"
          ],
          "name": "stdout"
        }
      ]
    },
    {
      "cell_type": "markdown",
      "metadata": {
        "id": "zd50FxVm8sPn"
      },
      "source": [
        "### Вывод по разделу\n",
        "1. Провели три исследования, учитывая дисбаланс классов.\n",
        "2. Качество каждой модели улучшили, если опираться на показатель F1-меру. Проведем исследование на тестовых выборках."
      ]
    },
    {
      "cell_type": "markdown",
      "metadata": {
        "id": "nG8lzanT8sPn"
      },
      "source": [
        "## Тестирование модели"
      ]
    },
    {
      "cell_type": "markdown",
      "metadata": {
        "id": "OYf0aBbg8sPn"
      },
      "source": [
        "<b>Сбалансируем классы путем увеличения числа объектов меньшего класса</b>"
      ]
    },
    {
      "cell_type": "code",
      "metadata": {
        "id": "N3kTk2p_8sPn"
      },
      "source": [
        "features_upsampled_n, target_upsampled_n = upsample(new_features,new_target,3)"
      ],
      "execution_count": null,
      "outputs": []
    },
    {
      "cell_type": "markdown",
      "metadata": {
        "id": "lHJLZbeM8sPo"
      },
      "source": [
        "<b>Модель дерево решений</b>"
      ]
    },
    {
      "cell_type": "code",
      "metadata": {
        "colab": {
          "base_uri": "https://localhost:8080/"
        },
        "id": "VdTGeeYi8sPo",
        "outputId": "3e42285b-a569-40a9-c1f8-ceb3cf91680b"
      },
      "source": [
        "model_tree.fit(features_upsampled_n, target_upsampled_n) \n",
        "test_predictions_tree = model_tree.predict(features_test)\n",
        "\n",
        "print(metrics.classification_report(target_test,test_predictions_tree))"
      ],
      "execution_count": null,
      "outputs": [
        {
          "output_type": "stream",
          "text": [
            "              precision    recall  f1-score   support\n",
            "\n",
            "           0       0.93      0.75      0.83      1587\n",
            "           1       0.45      0.78      0.57       413\n",
            "\n",
            "    accuracy                           0.76      2000\n",
            "   macro avg       0.69      0.77      0.70      2000\n",
            "weighted avg       0.83      0.76      0.78      2000\n",
            "\n"
          ],
          "name": "stdout"
        }
      ]
    },
    {
      "cell_type": "code",
      "metadata": {
        "colab": {
          "base_uri": "https://localhost:8080/"
        },
        "id": "LVmpS4aj8sPo",
        "outputId": "ba02d0e0-5c7d-4e7e-c441-769f35afb141"
      },
      "source": [
        "probabilities_test_tree = model_tree.predict_proba(features_test)\n",
        "probabilities_one_test_tree = probabilities_test_tree[:, 1]\n",
        "\n",
        "auc_roc_tree = roc_auc_score(target_test, probabilities_one_test_tree)\n",
        "\n",
        "print(auc_roc_tree)"
      ],
      "execution_count": null,
      "outputs": [
        {
          "output_type": "stream",
          "text": [
            "0.8382888511529054\n"
          ],
          "name": "stdout"
        }
      ]
    },
    {
      "cell_type": "code",
      "metadata": {
        "colab": {
          "base_uri": "https://localhost:8080/",
          "height": 295
        },
        "id": "kaI2Mdp48sPo",
        "outputId": "f51d4cff-0d95-4787-896f-c9fb59292922"
      },
      "source": [
        "fpr, tpr, thresholds = roc_curve(target_test, probabilities_one_test_tree)\n",
        "\n",
        "plt.figure()\n",
        "\n",
        "plt.plot(fpr, tpr)\n",
        "# ROC-кривая случайной модели (выглядит как прямая)\n",
        "plt.plot([0, 1], [0, 1], linestyle='--')\n",
        "plt.grid()\n",
        "\n",
        "# установим границы осей от 0 до 1 >\n",
        "plt.xlim([0.0, 1.0])\n",
        "plt.ylim([0.0, 1.0])\n",
        "\n",
        "plt.xlabel('False Positive Rate')\n",
        "plt.ylabel('True Positive Rate')\n",
        "\n",
        "plt.title('ROC-кривая')\n",
        "plt.show()"
      ],
      "execution_count": null,
      "outputs": [
        {
          "output_type": "display_data",
          "data": {
            "image/png": "[encoded data removed]",
            "text/plain": [
              "<Figure size 432x288 with 1 Axes>"
            ]
          },
          "metadata": {
            "tags": [],
            "needs_background": "light"
          }
        }
      ]
    },
    {
      "cell_type": "markdown",
      "metadata": {
        "id": "4IzWEF_l8sPp"
      },
      "source": [
        "<b>Модель случайный лес</b>"
      ]
    },
    {
      "cell_type": "code",
      "metadata": {
        "colab": {
          "base_uri": "https://localhost:8080/"
        },
        "id": "Gc3iVeju8sPp",
        "outputId": "6704545a-1cec-4967-c80b-ea4a308cd659"
      },
      "source": [
        "model_forest.fit(features_upsampled_n, target_upsampled_n)\n",
        "test_predictions_forest = model_forest.predict(features_test)\n",
        "\n",
        "print(metrics.classification_report(target_test,test_predictions_forest))"
      ],
      "execution_count": null,
      "outputs": [
        {
          "output_type": "stream",
          "text": [
            "              precision    recall  f1-score   support\n",
            "\n",
            "           0       0.91      0.90      0.90      1587\n",
            "           1       0.63      0.65      0.64       413\n",
            "\n",
            "    accuracy                           0.85      2000\n",
            "   macro avg       0.77      0.78      0.77      2000\n",
            "weighted avg       0.85      0.85      0.85      2000\n",
            "\n"
          ],
          "name": "stdout"
        }
      ]
    },
    {
      "cell_type": "code",
      "metadata": {
        "colab": {
          "base_uri": "https://localhost:8080/"
        },
        "id": "2LEkm_A-8sPp",
        "outputId": "d941c770-781f-45f1-f6b2-a9af954c6ffd"
      },
      "source": [
        "probabilities_test_forest = model_forest.predict_proba(features_test)\n",
        "probabilities_one_test_forest = probabilities_test_forest[:, 1]\n",
        "\n",
        "auc_roc_forest = roc_auc_score(target_test, probabilities_one_test_forest)\n",
        "\n",
        "print(auc_roc_forest)"
      ],
      "execution_count": null,
      "outputs": [
        {
          "output_type": "stream",
          "text": [
            "0.8706866168978885\n"
          ],
          "name": "stdout"
        }
      ]
    },
    {
      "cell_type": "code",
      "metadata": {
        "colab": {
          "base_uri": "https://localhost:8080/",
          "height": 295
        },
        "id": "rlGnnzD08sPq",
        "outputId": "3de6144b-a92f-47a2-ac02-c13e10368e7e"
      },
      "source": [
        "fpr, tpr, thresholds = roc_curve(target_test, probabilities_one_test_forest)\n",
        "\n",
        "plt.figure()\n",
        "\n",
        "plt.plot(fpr, tpr)\n",
        "# ROC-кривая случайной модели (выглядит как прямая)\n",
        "plt.plot([0, 1], [0, 1], linestyle='--')\n",
        "plt.grid()\n",
        "\n",
        "# установим границы осей от 0 до 1 >\n",
        "plt.xlim([0.0, 1.0])\n",
        "plt.ylim([0.0, 1.0])\n",
        "\n",
        "plt.xlabel('False Positive Rate')\n",
        "plt.ylabel('True Positive Rate')\n",
        "\n",
        "plt.title('ROC-кривая')\n",
        "plt.show()"
      ],
      "execution_count": null,
      "outputs": [
        {
          "output_type": "display_data",
          "data": {
            "image/png": "[encoded data removed]",
            "text/plain": [
              "<Figure size 432x288 with 1 Axes>"
            ]
          },
          "metadata": {
            "tags": [],
            "needs_background": "light"
          }
        }
      ]
    },
    {
      "cell_type": "markdown",
      "metadata": {
        "id": "Au6i86J78sPq"
      },
      "source": [
        "<b>Модель логистическая регрессия</b>"
      ]
    },
    {
      "cell_type": "code",
      "metadata": {
        "colab": {
          "base_uri": "https://localhost:8080/"
        },
        "id": "Khi-0eN08sPq",
        "outputId": "74bc9356-23c3-47b3-ef7b-6b8212a019d3"
      },
      "source": [
        "model_reg.fit(features_upsampled_n, target_upsampled_n)\n",
        "test_predictions_reg = model_reg.predict(features_test)\n",
        "\n",
        "print(metrics.classification_report(target_test,test_predictions_reg))"
      ],
      "execution_count": null,
      "outputs": [
        {
          "output_type": "stream",
          "text": [
            "              precision    recall  f1-score   support\n",
            "\n",
            "           0       0.89      0.81      0.85      1587\n",
            "           1       0.45      0.61      0.52       413\n",
            "\n",
            "    accuracy                           0.77      2000\n",
            "   macro avg       0.67      0.71      0.68      2000\n",
            "weighted avg       0.80      0.77      0.78      2000\n",
            "\n"
          ],
          "name": "stdout"
        }
      ]
    },
    {
      "cell_type": "code",
      "metadata": {
        "colab": {
          "base_uri": "https://localhost:8080/"
        },
        "id": "nD2cvDpm8sPr",
        "outputId": "82c95706-35d0-426e-a293-baf4d3221f37"
      },
      "source": [
        "probabilities_test_reg = model_reg.predict_proba(features_test)\n",
        "probabilities_one_test_reg = probabilities_test_reg[:, 1]\n",
        "\n",
        "auc_roc_reg = roc_auc_score(target_test, probabilities_one_test_reg)\n",
        "\n",
        "print(auc_roc_reg)"
      ],
      "execution_count": null,
      "outputs": [
        {
          "output_type": "stream",
          "text": [
            "0.7854831401017042\n"
          ],
          "name": "stdout"
        }
      ]
    },
    {
      "cell_type": "code",
      "metadata": {
        "colab": {
          "base_uri": "https://localhost:8080/",
          "height": 295
        },
        "id": "2EQRKL8M8sPr",
        "outputId": "400674b9-77a0-415d-d8ec-e6f478a95732"
      },
      "source": [
        "fpr, tpr, thresholds = roc_curve(target_test, probabilities_one_test_reg)\n",
        "\n",
        "plt.figure()\n",
        "\n",
        "plt.plot(fpr, tpr)\n",
        "# ROC-кривая случайной модели (выглядит как прямая)\n",
        "plt.plot([0, 1], [0, 1], linestyle='--')\n",
        "plt.grid()\n",
        "\n",
        "# установим границы осей от 0 до 1 >\n",
        "plt.xlim([0.0, 1.0])\n",
        "plt.ylim([0.0, 1.0])\n",
        "\n",
        "plt.xlabel('False Positive Rate')\n",
        "plt.ylabel('True Positive Rate')\n",
        "\n",
        "plt.title('ROC-кривая')\n",
        "plt.show()"
      ],
      "execution_count": null,
      "outputs": [
        {
          "output_type": "display_data",
          "data": {
            "image/png": "[encoded data removed]",
            "text/plain": [
              "<Figure size 432x288 with 1 Axes>"
            ]
          },
          "metadata": {
            "tags": [],
            "needs_background": "light"
          }
        }
      ]
    },
    {
      "cell_type": "markdown",
      "metadata": {
        "id": "wGbbZJUW8sPr"
      },
      "source": [
        "<b>Сбалансируем классы путем уменьшения числа объектов большего класса</b>"
      ]
    },
    {
      "cell_type": "code",
      "metadata": {
        "id": "8h522yWw8sPr"
      },
      "source": [
        "features_downsampled_n, target_downsampled_n = downsample(new_features,new_target,0.3)"
      ],
      "execution_count": null,
      "outputs": []
    },
    {
      "cell_type": "markdown",
      "metadata": {
        "id": "fJ5Jjy_98sPs"
      },
      "source": [
        "<b>Модель дерево решений</b>"
      ]
    },
    {
      "cell_type": "code",
      "metadata": {
        "colab": {
          "base_uri": "https://localhost:8080/"
        },
        "id": "t8VgWZY68sPs",
        "outputId": "4e1ace45-cd87-4062-9e2d-07c0ed44c3f2"
      },
      "source": [
        "model_tree.fit(features_downsampled_n, target_downsampled_n) \n",
        "test_predictions_tree = model_tree.predict(features_test)\n",
        "\n",
        "print(metrics.classification_report(target_test,test_predictions_tree))"
      ],
      "execution_count": null,
      "outputs": [
        {
          "output_type": "stream",
          "text": [
            "              precision    recall  f1-score   support\n",
            "\n",
            "           0       0.92      0.81      0.86      1587\n",
            "           1       0.49      0.71      0.58       413\n",
            "\n",
            "    accuracy                           0.79      2000\n",
            "   macro avg       0.70      0.76      0.72      2000\n",
            "weighted avg       0.83      0.79      0.80      2000\n",
            "\n"
          ],
          "name": "stdout"
        }
      ]
    },
    {
      "cell_type": "code",
      "metadata": {
        "colab": {
          "base_uri": "https://localhost:8080/"
        },
        "id": "yybqKA--8sPs",
        "outputId": "e8c260cb-f96b-443b-e8bf-b1c16045ae85"
      },
      "source": [
        "probabilities_test_tree = model_tree.predict_proba(features_test)\n",
        "probabilities_one_test_tree = probabilities_test_tree[:, 1]\n",
        "\n",
        "auc_roc_tree = roc_auc_score(target_test, probabilities_one_test_tree)\n",
        "\n",
        "print(auc_roc_tree)"
      ],
      "execution_count": null,
      "outputs": [
        {
          "output_type": "stream",
          "text": [
            "0.8400945332155483\n"
          ],
          "name": "stdout"
        }
      ]
    },
    {
      "cell_type": "code",
      "metadata": {
        "colab": {
          "base_uri": "https://localhost:8080/",
          "height": 295
        },
        "id": "_RKlr2um8sPs",
        "outputId": "3631dd92-fef2-40ba-f867-7a7df6bef9fa"
      },
      "source": [
        "fpr, tpr, thresholds = roc_curve(target_test, probabilities_one_test_tree)\n",
        "\n",
        "plt.figure()\n",
        "\n",
        "plt.plot(fpr, tpr)\n",
        "# ROC-кривая случайной модели (выглядит как прямая)\n",
        "plt.plot([0, 1], [0, 1], linestyle='--')\n",
        "plt.grid()\n",
        "\n",
        "# установим границы осей от 0 до 1 >\n",
        "plt.xlim([0.0, 1.0])\n",
        "plt.ylim([0.0, 1.0])\n",
        "\n",
        "plt.xlabel('False Positive Rate')\n",
        "plt.ylabel('True Positive Rate')\n",
        "\n",
        "plt.title('ROC-кривая')\n",
        "plt.show()"
      ],
      "execution_count": null,
      "outputs": [
        {
          "output_type": "display_data",
          "data": {
            "image/png": "[encoded data removed]",
            "text/plain": [
              "<Figure size 432x288 with 1 Axes>"
            ]
          },
          "metadata": {
            "tags": [],
            "needs_background": "light"
          }
        }
      ]
    },
    {
      "cell_type": "markdown",
      "metadata": {
        "id": "Qz9Ma63L8sPt"
      },
      "source": [
        "<b>Модель случайный лес</b>"
      ]
    },
    {
      "cell_type": "code",
      "metadata": {
        "colab": {
          "base_uri": "https://localhost:8080/"
        },
        "id": "w3S45_x58sPt",
        "outputId": "45ff0f0c-dd93-4854-e9cf-0034c5228c26"
      },
      "source": [
        "model_forest.fit(features_downsampled_n, target_downsampled_n)\n",
        "test_predictions_forest = model_forest.predict(features_test)\n",
        "\n",
        "print(metrics.classification_report(target_test,test_predictions_forest))"
      ],
      "execution_count": null,
      "outputs": [
        {
          "output_type": "stream",
          "text": [
            "              precision    recall  f1-score   support\n",
            "\n",
            "           0       0.92      0.83      0.87      1587\n",
            "           1       0.53      0.72      0.61       413\n",
            "\n",
            "    accuracy                           0.81      2000\n",
            "   macro avg       0.72      0.78      0.74      2000\n",
            "weighted avg       0.84      0.81      0.82      2000\n",
            "\n"
          ],
          "name": "stdout"
        }
      ]
    },
    {
      "cell_type": "code",
      "metadata": {
        "colab": {
          "base_uri": "https://localhost:8080/"
        },
        "id": "bywWhZZR8sPt",
        "outputId": "6dab9573-c72f-4e7d-cea9-591a9dc3616a"
      },
      "source": [
        "probabilities_test_forest = model_forest.predict_proba(features_test)\n",
        "probabilities_one_test_forest = probabilities_test_forest[:, 1]\n",
        "\n",
        "auc_roc_forest = roc_auc_score(target_test, probabilities_one_test_forest)\n",
        "\n",
        "print(auc_roc_forest)"
      ],
      "execution_count": null,
      "outputs": [
        {
          "output_type": "stream",
          "text": [
            "0.8664832758902158\n"
          ],
          "name": "stdout"
        }
      ]
    },
    {
      "cell_type": "code",
      "metadata": {
        "colab": {
          "base_uri": "https://localhost:8080/",
          "height": 295
        },
        "id": "b_lC3yvF8sPu",
        "outputId": "30027ff1-82f6-4bd6-b20d-80978eb6718c"
      },
      "source": [
        "fpr, tpr, thresholds = roc_curve(target_test, probabilities_one_test_forest)\n",
        "\n",
        "plt.figure()\n",
        "\n",
        "plt.plot(fpr, tpr)\n",
        "# ROC-кривая случайной модели (выглядит как прямая)\n",
        "plt.plot([0, 1], [0, 1], linestyle='--')\n",
        "plt.grid()\n",
        "\n",
        "# установим границы осей от 0 до 1 >\n",
        "plt.xlim([0.0, 1.0])\n",
        "plt.ylim([0.0, 1.0])\n",
        "\n",
        "plt.xlabel('False Positive Rate')\n",
        "plt.ylabel('True Positive Rate')\n",
        "\n",
        "plt.title('ROC-кривая')\n",
        "plt.show()"
      ],
      "execution_count": null,
      "outputs": [
        {
          "output_type": "display_data",
          "data": {
            "image/png": "[encoded data removed]",
            "text/plain": [
              "<Figure size 432x288 with 1 Axes>"
            ]
          },
          "metadata": {
            "tags": [],
            "needs_background": "light"
          }
        }
      ]
    },
    {
      "cell_type": "markdown",
      "metadata": {
        "id": "UZg6MRPy8sPu"
      },
      "source": [
        "<b>Модель логистическая регрессия</b>"
      ]
    },
    {
      "cell_type": "code",
      "metadata": {
        "colab": {
          "base_uri": "https://localhost:8080/"
        },
        "id": "dtbYXEha8sPu",
        "outputId": "856c7928-62b7-49cd-e267-9c7bd52c07eb"
      },
      "source": [
        "model_reg.fit(features_downsampled_n, target_downsampled_n)\n",
        "test_predictions_reg = model_reg.predict(features_test)\n",
        "\n",
        "print(metrics.classification_report(target_test,test_predictions_reg))"
      ],
      "execution_count": null,
      "outputs": [
        {
          "output_type": "stream",
          "text": [
            "              precision    recall  f1-score   support\n",
            "\n",
            "           0       0.89      0.78      0.83      1587\n",
            "           1       0.43      0.65      0.52       413\n",
            "\n",
            "    accuracy                           0.75      2000\n",
            "   macro avg       0.66      0.71      0.68      2000\n",
            "weighted avg       0.80      0.75      0.77      2000\n",
            "\n"
          ],
          "name": "stdout"
        }
      ]
    },
    {
      "cell_type": "code",
      "metadata": {
        "colab": {
          "base_uri": "https://localhost:8080/"
        },
        "id": "VwD52rLt8sPv",
        "outputId": "d94493be-02d6-4324-8902-7045ead2d281"
      },
      "source": [
        "probabilities_test_reg = model_reg.predict_proba(features_test)\n",
        "probabilities_one_test_reg = probabilities_test_reg[:, 1]\n",
        "\n",
        "auc_roc_reg = roc_auc_score(target_test, probabilities_one_test_reg)\n",
        "\n",
        "print(auc_roc_reg)"
      ],
      "execution_count": null,
      "outputs": [
        {
          "output_type": "stream",
          "text": [
            "0.7845875462100511\n"
          ],
          "name": "stdout"
        }
      ]
    },
    {
      "cell_type": "code",
      "metadata": {
        "colab": {
          "base_uri": "https://localhost:8080/",
          "height": 295
        },
        "id": "9GUEB4fL8sPv",
        "scrolled": true,
        "outputId": "e9f1c373-2fe6-42db-df81-60985f350d44"
      },
      "source": [
        "fpr, tpr, thresholds = roc_curve(target_test, probabilities_one_test_reg)\n",
        "\n",
        "plt.figure()\n",
        "\n",
        "plt.plot(fpr, tpr)\n",
        "# ROC-кривая случайной модели (выглядит как прямая)\n",
        "plt.plot([0, 1], [0, 1], linestyle='--')\n",
        "plt.grid()\n",
        "\n",
        "# установим границы осей от 0 до 1 >\n",
        "plt.xlim([0.0, 1.0])\n",
        "plt.ylim([0.0, 1.0])\n",
        "\n",
        "plt.xlabel('False Positive Rate')\n",
        "plt.ylabel('True Positive Rate')\n",
        "\n",
        "plt.title('ROC-кривая')\n",
        "plt.show()"
      ],
      "execution_count": null,
      "outputs": [
        {
          "output_type": "display_data",
          "data": {
            "image/png": "[encoded data removed]",
            "text/plain": [
              "<Figure size 432x288 with 1 Axes>"
            ]
          },
          "metadata": {
            "tags": [],
            "needs_background": "light"
          }
        }
      ]
    },
    {
      "cell_type": "markdown",
      "metadata": {
        "id": "O6nlMryw8sPv"
      },
      "source": [
        "### Вывод по разделу\n",
        "1. Рузультаты метрик касчеств моделей после взвешивания классов.\n",
        "<br>\n",
        "<table border=\"5\" width=\"50%\" cellpadding=\"7\" cellspasing=\"5\" bordercolor=\"#000000\" align=\"left\">\n",
        "    <tr>\n",
        "        <th>Модель</th>\n",
        "        <th>Accuracy</th>\n",
        "        <th>Precision</th>\n",
        "        <th>Recall</th>\n",
        "        <th>F1</th>\n",
        "        <th>AUC_ROC</th>\n",
        "    </tr>\n",
        "    <tr>\n",
        "        <th>Дерево решений</th>\n",
        "        <th>0.76</th>\n",
        "        <th>0.45</th>\n",
        "        <th>0.78</th>\n",
        "        <th>0.57</th>\n",
        "        <th>0.84</th>\n",
        "    </tr>\n",
        "     <tr>\n",
        "        <th>Случайный лес</th>\n",
        "        <th>0.85</th>\n",
        "        <th>0.63</th>\n",
        "        <th>0.65</th>\n",
        "        <th>0.64</th>\n",
        "        <th>0.87</th>\n",
        "    </tr>\n",
        "    <tr>\n",
        "        <th>Логистическая регрессия</th>\n",
        "        <th>0.77</th>\n",
        "        <th>0.45</th>\n",
        "        <th>0.61</th>\n",
        "        <th>0.52</th>\n",
        "        <th>0.79</th>\n",
        "    </tr>\n",
        "</table>"
      ]
    },
    {
      "cell_type": "markdown",
      "metadata": {
        "id": "UDalYWWm8sPw"
      },
      "source": [
        "2. Рузультаты метрик качеств моделей после сбалансирования классов, путем увеличения числа объектов меньшего класса.\n",
        "<br>\n",
        "<table border=\"5\" width=\"50%\" cellpadding=\"7\" cellspasing=\"5\" bordercolor=\"#000000\" align=\"left\">\n",
        "    <tr>\n",
        "        <th>Модель</th>\n",
        "        <th>Accuracy</th>\n",
        "        <th>Precision</th>\n",
        "        <th>Recall</th>\n",
        "        <th>F1</th>\n",
        "        <th>AUC_ROC</th>\n",
        "    </tr>\n",
        "    <tr>\n",
        "        <th>Дерево решений</th>\n",
        "        <th>0.76</th>\n",
        "        <th>0.45</th>\n",
        "        <th>0.78</th>\n",
        "        <th>0.57</th>\n",
        "        <th>0.84</th>\n",
        "    </tr>\n",
        "     <tr>\n",
        "        <th>Случайный лес</th>\n",
        "        <th>0.84</th>\n",
        "        <th>0.61</th>\n",
        "        <th>0.65</th>\n",
        "        <th>0.63</th>\n",
        "        <th>0.86</th>\n",
        "    </tr>\n",
        "    <tr>\n",
        "        <th>Логистическая регрессия</th>\n",
        "        <th>0.77</th>\n",
        "        <th>0.45</th>\n",
        "        <th>0.61</th>\n",
        "        <th>0.52</th>\n",
        "        <th>0.79</th>\n",
        "    </tr>\n",
        "</table>"
      ]
    },
    {
      "cell_type": "markdown",
      "metadata": {
        "id": "5RYkIR5v8sPw"
      },
      "source": [
        "3. Рузультаты метрик качеств моделей после сбалансирования классов, путем уменьшения числа объектов большего класса.\n",
        "<br>\n",
        "<table border=\"5\" width=\"50%\" cellpadding=\"7\" cellspasing=\"5\" bordercolor=\"#000000\" align=\"left\">\n",
        "    <tr>\n",
        "        <th>Модель</th>\n",
        "        <th>Accuracy</th>\n",
        "        <th>Precision</th>\n",
        "        <th>Recall</th>\n",
        "        <th>F1</th>\n",
        "        <th>AUC_ROC</th>\n",
        "    </tr>\n",
        "    <tr>\n",
        "        <th>Дерево решений</th>\n",
        "        <th>0.79</th>\n",
        "        <th>0.49</th>\n",
        "        <th>0.71</th>\n",
        "        <th>0.58</th>\n",
        "        <th>0.84</th>\n",
        "    </tr>\n",
        "     <tr>\n",
        "        <th>Случайный лес</th>\n",
        "        <th>0.81</th>\n",
        "        <th>0.53</th>\n",
        "        <th>0.72</th>\n",
        "        <th>0.61</th>\n",
        "        <th>0.87</th>\n",
        "    </tr>\n",
        "    <tr>\n",
        "        <th>Логистическая регрессия</th>\n",
        "        <th>0.75</th>\n",
        "        <th>0.43</th>\n",
        "        <th>0.65</th>\n",
        "        <th>0.52</th>\n",
        "        <th>0.78</th>\n",
        "    </tr>\n",
        "</table>"
      ]
    },
    {
      "cell_type": "markdown",
      "metadata": {
        "id": "Xxkm-jGeGY50"
      },
      "source": [
        "<b>Изходя из полученных результатов модель Случайный лес наиболее оптимальная для использования.</b>"
      ]
    },
    {
      "cell_type": "markdown",
      "metadata": {
        "id": "NaOsOsoa8sPw"
      },
      "source": [
        "## Чек-лист готовности проекта"
      ]
    },
    {
      "cell_type": "markdown",
      "metadata": {
        "id": "3uoLoi0J8sPw"
      },
      "source": [
        "Поставьте 'x' в выполненных пунктах. Далее нажмите Shift+Enter."
      ]
    },
    {
      "cell_type": "markdown",
      "metadata": {
        "id": "tHeCmQyY8sPx"
      },
      "source": [
        "- [x]  Jupyter Notebook открыт\n",
        "- [x]  Весь код выполняется без ошибок\n",
        "- [x]  Ячейки с кодом расположены в порядке исполнения\n",
        "- [x]  Выполнен шаг 1: данные подготовлены\n",
        "- [x]  Выполнен шаг 2: задача исследована\n",
        "    - [x]  Исследован баланс классов\n",
        "    - [x]  Изучены модели без учёта дисбаланса\n",
        "    - [x]  Написаны выводы по результатам исследования\n",
        "- [x]  Выполнен шаг 3: учтён дисбаланс\n",
        "    - [x]  Применено несколько способов борьбы с дисбалансом\n",
        "    - [x]  Написаны выводы по результатам исследования\n",
        "- [x]  Выполнен шаг 4: проведено тестирование\n",
        "- [x]  Удалось достичь *F1*-меры не менее 0.59\n",
        "- [x]  Исследована метрика *AUC-ROC*"
      ]
    }
  ]
}