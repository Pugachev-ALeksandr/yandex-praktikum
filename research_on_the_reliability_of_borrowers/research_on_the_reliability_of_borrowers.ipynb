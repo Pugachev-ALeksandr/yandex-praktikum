{
  "nbformat": 4,
  "nbformat_minor": 0,
  "metadata": {
    "celltoolbar": "Tags",
    "kernelspec": {
      "display_name": "Python 3",
      "language": "python",
      "name": "python3"
    },
    "language_info": {
      "codemirror_mode": {
        "name": "ipython",
        "version": 3
      },
      "file_extension": ".py",
      "mimetype": "text/x-python",
      "name": "python",
      "nbconvert_exporter": "python",
      "pygments_lexer": "ipython3",
      "version": "3.7.8"
    },
    "toc": {
      "base_numbering": 1,
      "nav_menu": {},
      "number_sections": true,
      "sideBar": true,
      "skip_h1_title": true,
      "title_cell": "Table of Contents",
      "title_sidebar": "Contents",
      "toc_cell": false,
      "toc_position": {},
      "toc_section_display": true,
      "toc_window_display": false
    },
    "colab": {
      "name": "research_on_the_reliability_of_borrowers.ipynb",
      "provenance": [],
      "collapsed_sections": [],
      "toc_visible": true
    }
  },
  "cells": [
    {
      "cell_type": "markdown",
      "metadata": {
        "id": "vRUKNtZuj_mu"
      },
      "source": [
        "# Исследование надёжности заёмщиков\n",
        "\n",
        "Заказчик — кредитный отдел банка. Нужно разобраться, влияет ли семейное положение и количество детей клиента на факт погашения кредита в срок. Входные данные от банка — статистика о платёжеспособности клиентов.\n",
        "\n",
        "Результаты исследования будут учтены при построении модели **кредитного скоринга** — специальной системы, которая оценивает способность потенциального заёмщика вернуть кредит банку."
      ]
    },
    {
      "cell_type": "markdown",
      "metadata": {
        "id": "zRxLErsXj_mv"
      },
      "source": [
        "## Шаг 1. Откройте файл с данными и изучите общую информацию"
      ]
    },
    {
      "cell_type": "markdown",
      "metadata": {
        "id": "K4RN8vmPj_mv"
      },
      "source": [
        "<div style=\"font-size: 20px\"><b>Откроем датасет и изучим общую информацию о данных</b></div> <br>\n",
        "Некоторые проблемы можно увидеть и обычным просмотром датасета через Excel, но воспользуемся некоторыми методами Pandas."
      ]
    },
    {
      "cell_type": "markdown",
      "metadata": {
        "id": "euotXIQyj_mv"
      },
      "source": [
        "**Подключение библиотек**"
      ]
    },
    {
      "cell_type": "code",
      "metadata": {
        "id": "EwzvtNp5j_mw"
      },
      "source": [
        "import pandas as pd\n",
        "\n",
        "from pymystem3 import Mystem\n",
        "m = Mystem()\n",
        "from collections import Counter"
      ],
      "execution_count": null,
      "outputs": []
    },
    {
      "cell_type": "markdown",
      "metadata": {
        "id": "aUGyVjj9j_mx"
      },
      "source": [
        "**Для просмотра выведем содержимое датасета**"
      ]
    },
    {
      "cell_type": "code",
      "metadata": {
        "id": "yJ6GXr-8j_mx",
        "outputId": "2f55111e-4fb6-4f66-b8e3-af83b9c2e53e"
      },
      "source": [
        "data = pd.read_csv('/datasets/data.csv')\n",
        "#print(data.head(15))\n",
        "display(data)"
      ],
      "execution_count": null,
      "outputs": [
        {
          "output_type": "display_data",
          "data": {
            "text/html": [
              "<div>\n",
              "<style scoped>\n",
              "    .dataframe tbody tr th:only-of-type {\n",
              "        vertical-align: middle;\n",
              "    }\n",
              "\n",
              "    .dataframe tbody tr th {\n",
              "        vertical-align: top;\n",
              "    }\n",
              "\n",
              "    .dataframe thead th {\n",
              "        text-align: right;\n",
              "    }\n",
              "</style>\n",
              "<table border=\"1\" class=\"dataframe\">\n",
              "  <thead>\n",
              "    <tr style=\"text-align: right;\">\n",
              "      <th></th>\n",
              "      <th>children</th>\n",
              "      <th>days_employed</th>\n",
              "      <th>dob_years</th>\n",
              "      <th>education</th>\n",
              "      <th>education_id</th>\n",
              "      <th>family_status</th>\n",
              "      <th>family_status_id</th>\n",
              "      <th>gender</th>\n",
              "      <th>income_type</th>\n",
              "      <th>debt</th>\n",
              "      <th>total_income</th>\n",
              "      <th>purpose</th>\n",
              "    </tr>\n",
              "  </thead>\n",
              "  <tbody>\n",
              "    <tr>\n",
              "      <td>0</td>\n",
              "      <td>1</td>\n",
              "      <td>-8437.673028</td>\n",
              "      <td>42</td>\n",
              "      <td>высшее</td>\n",
              "      <td>0</td>\n",
              "      <td>женат / замужем</td>\n",
              "      <td>0</td>\n",
              "      <td>F</td>\n",
              "      <td>сотрудник</td>\n",
              "      <td>0</td>\n",
              "      <td>253875.639453</td>\n",
              "      <td>покупка жилья</td>\n",
              "    </tr>\n",
              "    <tr>\n",
              "      <td>1</td>\n",
              "      <td>1</td>\n",
              "      <td>-4024.803754</td>\n",
              "      <td>36</td>\n",
              "      <td>среднее</td>\n",
              "      <td>1</td>\n",
              "      <td>женат / замужем</td>\n",
              "      <td>0</td>\n",
              "      <td>F</td>\n",
              "      <td>сотрудник</td>\n",
              "      <td>0</td>\n",
              "      <td>112080.014102</td>\n",
              "      <td>приобретение автомобиля</td>\n",
              "    </tr>\n",
              "    <tr>\n",
              "      <td>2</td>\n",
              "      <td>0</td>\n",
              "      <td>-5623.422610</td>\n",
              "      <td>33</td>\n",
              "      <td>Среднее</td>\n",
              "      <td>1</td>\n",
              "      <td>женат / замужем</td>\n",
              "      <td>0</td>\n",
              "      <td>M</td>\n",
              "      <td>сотрудник</td>\n",
              "      <td>0</td>\n",
              "      <td>145885.952297</td>\n",
              "      <td>покупка жилья</td>\n",
              "    </tr>\n",
              "    <tr>\n",
              "      <td>3</td>\n",
              "      <td>3</td>\n",
              "      <td>-4124.747207</td>\n",
              "      <td>32</td>\n",
              "      <td>среднее</td>\n",
              "      <td>1</td>\n",
              "      <td>женат / замужем</td>\n",
              "      <td>0</td>\n",
              "      <td>M</td>\n",
              "      <td>сотрудник</td>\n",
              "      <td>0</td>\n",
              "      <td>267628.550329</td>\n",
              "      <td>дополнительное образование</td>\n",
              "    </tr>\n",
              "    <tr>\n",
              "      <td>4</td>\n",
              "      <td>0</td>\n",
              "      <td>340266.072047</td>\n",
              "      <td>53</td>\n",
              "      <td>среднее</td>\n",
              "      <td>1</td>\n",
              "      <td>гражданский брак</td>\n",
              "      <td>1</td>\n",
              "      <td>F</td>\n",
              "      <td>пенсионер</td>\n",
              "      <td>0</td>\n",
              "      <td>158616.077870</td>\n",
              "      <td>сыграть свадьбу</td>\n",
              "    </tr>\n",
              "    <tr>\n",
              "      <td>...</td>\n",
              "      <td>...</td>\n",
              "      <td>...</td>\n",
              "      <td>...</td>\n",
              "      <td>...</td>\n",
              "      <td>...</td>\n",
              "      <td>...</td>\n",
              "      <td>...</td>\n",
              "      <td>...</td>\n",
              "      <td>...</td>\n",
              "      <td>...</td>\n",
              "      <td>...</td>\n",
              "      <td>...</td>\n",
              "    </tr>\n",
              "    <tr>\n",
              "      <td>21520</td>\n",
              "      <td>1</td>\n",
              "      <td>-4529.316663</td>\n",
              "      <td>43</td>\n",
              "      <td>среднее</td>\n",
              "      <td>1</td>\n",
              "      <td>гражданский брак</td>\n",
              "      <td>1</td>\n",
              "      <td>F</td>\n",
              "      <td>компаньон</td>\n",
              "      <td>0</td>\n",
              "      <td>224791.862382</td>\n",
              "      <td>операции с жильем</td>\n",
              "    </tr>\n",
              "    <tr>\n",
              "      <td>21521</td>\n",
              "      <td>0</td>\n",
              "      <td>343937.404131</td>\n",
              "      <td>67</td>\n",
              "      <td>среднее</td>\n",
              "      <td>1</td>\n",
              "      <td>женат / замужем</td>\n",
              "      <td>0</td>\n",
              "      <td>F</td>\n",
              "      <td>пенсионер</td>\n",
              "      <td>0</td>\n",
              "      <td>155999.806512</td>\n",
              "      <td>сделка с автомобилем</td>\n",
              "    </tr>\n",
              "    <tr>\n",
              "      <td>21522</td>\n",
              "      <td>1</td>\n",
              "      <td>-2113.346888</td>\n",
              "      <td>38</td>\n",
              "      <td>среднее</td>\n",
              "      <td>1</td>\n",
              "      <td>гражданский брак</td>\n",
              "      <td>1</td>\n",
              "      <td>M</td>\n",
              "      <td>сотрудник</td>\n",
              "      <td>1</td>\n",
              "      <td>89672.561153</td>\n",
              "      <td>недвижимость</td>\n",
              "    </tr>\n",
              "    <tr>\n",
              "      <td>21523</td>\n",
              "      <td>3</td>\n",
              "      <td>-3112.481705</td>\n",
              "      <td>38</td>\n",
              "      <td>среднее</td>\n",
              "      <td>1</td>\n",
              "      <td>женат / замужем</td>\n",
              "      <td>0</td>\n",
              "      <td>M</td>\n",
              "      <td>сотрудник</td>\n",
              "      <td>1</td>\n",
              "      <td>244093.050500</td>\n",
              "      <td>на покупку своего автомобиля</td>\n",
              "    </tr>\n",
              "    <tr>\n",
              "      <td>21524</td>\n",
              "      <td>2</td>\n",
              "      <td>-1984.507589</td>\n",
              "      <td>40</td>\n",
              "      <td>среднее</td>\n",
              "      <td>1</td>\n",
              "      <td>женат / замужем</td>\n",
              "      <td>0</td>\n",
              "      <td>F</td>\n",
              "      <td>сотрудник</td>\n",
              "      <td>0</td>\n",
              "      <td>82047.418899</td>\n",
              "      <td>на покупку автомобиля</td>\n",
              "    </tr>\n",
              "  </tbody>\n",
              "</table>\n",
              "<p>21525 rows × 12 columns</p>\n",
              "</div>"
            ],
            "text/plain": [
              "       children  days_employed  dob_years education  education_id  \\\n",
              "0             1   -8437.673028         42    высшее             0   \n",
              "1             1   -4024.803754         36   среднее             1   \n",
              "2             0   -5623.422610         33   Среднее             1   \n",
              "3             3   -4124.747207         32   среднее             1   \n",
              "4             0  340266.072047         53   среднее             1   \n",
              "...         ...            ...        ...       ...           ...   \n",
              "21520         1   -4529.316663         43   среднее             1   \n",
              "21521         0  343937.404131         67   среднее             1   \n",
              "21522         1   -2113.346888         38   среднее             1   \n",
              "21523         3   -3112.481705         38   среднее             1   \n",
              "21524         2   -1984.507589         40   среднее             1   \n",
              "\n",
              "          family_status  family_status_id gender income_type  debt  \\\n",
              "0       женат / замужем                 0      F   сотрудник     0   \n",
              "1       женат / замужем                 0      F   сотрудник     0   \n",
              "2       женат / замужем                 0      M   сотрудник     0   \n",
              "3       женат / замужем                 0      M   сотрудник     0   \n",
              "4      гражданский брак                 1      F   пенсионер     0   \n",
              "...                 ...               ...    ...         ...   ...   \n",
              "21520  гражданский брак                 1      F   компаньон     0   \n",
              "21521   женат / замужем                 0      F   пенсионер     0   \n",
              "21522  гражданский брак                 1      M   сотрудник     1   \n",
              "21523   женат / замужем                 0      M   сотрудник     1   \n",
              "21524   женат / замужем                 0      F   сотрудник     0   \n",
              "\n",
              "        total_income                       purpose  \n",
              "0      253875.639453                 покупка жилья  \n",
              "1      112080.014102       приобретение автомобиля  \n",
              "2      145885.952297                 покупка жилья  \n",
              "3      267628.550329    дополнительное образование  \n",
              "4      158616.077870               сыграть свадьбу  \n",
              "...              ...                           ...  \n",
              "21520  224791.862382             операции с жильем  \n",
              "21521  155999.806512          сделка с автомобилем  \n",
              "21522   89672.561153                  недвижимость  \n",
              "21523  244093.050500  на покупку своего автомобиля  \n",
              "21524   82047.418899         на покупку автомобиля  \n",
              "\n",
              "[21525 rows x 12 columns]"
            ]
          },
          "metadata": {
            "tags": []
          }
        }
      ]
    },
    {
      "cell_type": "markdown",
      "metadata": {
        "id": "csRofXK1j_m0"
      },
      "source": [
        "**Посмотрим общую информацию о датасете**"
      ]
    },
    {
      "cell_type": "code",
      "metadata": {
        "id": "F8XDBwZ4j_m0",
        "outputId": "1c0e2f5d-aecb-452d-97f6-9118dc15810b"
      },
      "source": [
        "data.info()"
      ],
      "execution_count": null,
      "outputs": [
        {
          "output_type": "stream",
          "text": [
            "<class 'pandas.core.frame.DataFrame'>\n",
            "RangeIndex: 21525 entries, 0 to 21524\n",
            "Data columns (total 12 columns):\n",
            "children            21525 non-null int64\n",
            "days_employed       19351 non-null float64\n",
            "dob_years           21525 non-null int64\n",
            "education           21525 non-null object\n",
            "education_id        21525 non-null int64\n",
            "family_status       21525 non-null object\n",
            "family_status_id    21525 non-null int64\n",
            "gender              21525 non-null object\n",
            "income_type         21525 non-null object\n",
            "debt                21525 non-null int64\n",
            "total_income        19351 non-null float64\n",
            "purpose             21525 non-null object\n",
            "dtypes: float64(2), int64(5), object(5)\n",
            "memory usage: 2.0+ MB\n"
          ],
          "name": "stdout"
        }
      ]
    },
    {
      "cell_type": "markdown",
      "metadata": {
        "id": "UvqgXyCGj_m0"
      },
      "source": [
        "**Вывод**: В столбцах 'days_employed' и 'total_income' присутствуют значения NaN, а также необходимо сметнить типы данных с float на int   "
      ]
    },
    {
      "cell_type": "markdown",
      "metadata": {
        "id": "nKH_JR_bj_m1"
      },
      "source": [
        "**Посмотрим уникальные значения и их количетсво в столбце** <i>'количество детей в семье'</i>"
      ]
    },
    {
      "cell_type": "code",
      "metadata": {
        "id": "Lolntd84j_m1",
        "outputId": "2d53000e-ee01-4cc9-f249-5cfce89e42ec"
      },
      "source": [
        "print(data['children'].value_counts())"
      ],
      "execution_count": null,
      "outputs": [
        {
          "output_type": "stream",
          "text": [
            " 0     14149\n",
            " 1      4818\n",
            " 2      2055\n",
            " 3       330\n",
            " 20       76\n",
            "-1        47\n",
            " 4        41\n",
            " 5         9\n",
            "Name: children, dtype: int64\n"
          ],
          "name": "stdout"
        }
      ]
    },
    {
      "cell_type": "markdown",
      "metadata": {
        "id": "qJH1pjdVj_m1"
      },
      "source": [
        "**Вывод**: Подозрительное значение -1 и 20 "
      ]
    },
    {
      "cell_type": "markdown",
      "metadata": {
        "id": "tXPZ1R4bj_m2"
      },
      "source": [
        "**Посмотрим уникальные значения и их количетсво в столбце** <i>'возраст клиента в годах'</i>"
      ]
    },
    {
      "cell_type": "code",
      "metadata": {
        "id": "-Kqvh1wOj_m2",
        "outputId": "89c2be51-34ac-4911-b54e-6cb8d5464885"
      },
      "source": [
        "print(data['dob_years'].value_counts())"
      ],
      "execution_count": null,
      "outputs": [
        {
          "output_type": "stream",
          "text": [
            "35    617\n",
            "40    609\n",
            "41    607\n",
            "34    603\n",
            "38    598\n",
            "42    597\n",
            "33    581\n",
            "39    573\n",
            "31    560\n",
            "36    555\n",
            "44    547\n",
            "29    545\n",
            "30    540\n",
            "48    538\n",
            "37    537\n",
            "50    514\n",
            "43    513\n",
            "32    510\n",
            "49    508\n",
            "28    503\n",
            "45    497\n",
            "27    493\n",
            "56    487\n",
            "52    484\n",
            "47    480\n",
            "54    479\n",
            "46    475\n",
            "58    461\n",
            "57    460\n",
            "53    459\n",
            "51    448\n",
            "59    444\n",
            "55    443\n",
            "26    408\n",
            "60    377\n",
            "25    357\n",
            "61    355\n",
            "62    352\n",
            "63    269\n",
            "64    265\n",
            "24    264\n",
            "23    254\n",
            "65    194\n",
            "66    183\n",
            "22    183\n",
            "67    167\n",
            "21    111\n",
            "0     101\n",
            "68     99\n",
            "69     85\n",
            "70     65\n",
            "71     58\n",
            "20     51\n",
            "72     33\n",
            "19     14\n",
            "73      8\n",
            "74      6\n",
            "75      1\n",
            "Name: dob_years, dtype: int64\n"
          ],
          "name": "stdout"
        }
      ]
    },
    {
      "cell_type": "markdown",
      "metadata": {
        "id": "QlYDCQxAj_m2"
      },
      "source": [
        "**Вывод:** Возраст некоторых клиентов 0"
      ]
    },
    {
      "cell_type": "markdown",
      "metadata": {
        "id": "S4Nd0LEFj_m2"
      },
      "source": [
        "**Посмотрим уникальные значения и их количетсво в столбце** <i>'уровень образования клиента'</i>"
      ]
    },
    {
      "cell_type": "code",
      "metadata": {
        "id": "N0IeBm5kj_m3",
        "outputId": "e6f01b95-380d-4544-e038-f0f60f783b87"
      },
      "source": [
        "print(data['education'].unique())"
      ],
      "execution_count": null,
      "outputs": [
        {
          "output_type": "stream",
          "text": [
            "['высшее' 'среднее' 'Среднее' 'СРЕДНЕЕ' 'ВЫСШЕЕ' 'неоконченное высшее'\n",
            " 'начальное' 'Высшее' 'НЕОКОНЧЕННОЕ ВЫСШЕЕ' 'Неоконченное высшее'\n",
            " 'НАЧАЛЬНОЕ' 'Начальное' 'Ученая степень' 'УЧЕНАЯ СТЕПЕНЬ'\n",
            " 'ученая степень']\n"
          ],
          "name": "stdout"
        }
      ]
    },
    {
      "cell_type": "markdown",
      "metadata": {
        "id": "tFeAL8l1j_m3"
      },
      "source": [
        "**Вывод:** Одинаковые названия, разные регистры"
      ]
    },
    {
      "cell_type": "markdown",
      "metadata": {
        "id": "F0J-gMILj_m3"
      },
      "source": [
        "**Посмотрим уникальные значения и их количетсво в столбце** <i>'пол клиента'</i>"
      ]
    },
    {
      "cell_type": "code",
      "metadata": {
        "id": "ovlCtwCxj_m4",
        "outputId": "b87066d4-07e3-454f-a2ef-28092201cced"
      },
      "source": [
        "print(data['gender'].value_counts())\n",
        "#print(data[data['gender'] == 'XNA'])"
      ],
      "execution_count": null,
      "outputs": [
        {
          "output_type": "stream",
          "text": [
            "F      14236\n",
            "M       7288\n",
            "XNA        1\n",
            "Name: gender, dtype: int64\n"
          ],
          "name": "stdout"
        }
      ]
    },
    {
      "cell_type": "markdown",
      "metadata": {
        "id": "3yEgzRjaj_m4"
      },
      "source": [
        "**Вывод:** Не понятное значение 'XNA'"
      ]
    },
    {
      "cell_type": "markdown",
      "metadata": {
        "id": "hM5Y_5Dkj_m4"
      },
      "source": [
        "**Посмотрим уникальные значения и их количетсво в столбце** <i>'цель получения кредита'</i>"
      ]
    },
    {
      "cell_type": "code",
      "metadata": {
        "id": "ViVxuEkSj_m4",
        "outputId": "62bfc4f3-5931-4f5c-e715-ea19fd9ec150"
      },
      "source": [
        "print(data['purpose'].value_counts())"
      ],
      "execution_count": null,
      "outputs": [
        {
          "output_type": "stream",
          "text": [
            "свадьба                                   797\n",
            "на проведение свадьбы                     777\n",
            "сыграть свадьбу                           774\n",
            "операции с недвижимостью                  676\n",
            "покупка коммерческой недвижимости         664\n",
            "операции с жильем                         653\n",
            "покупка жилья для сдачи                   653\n",
            "операции с коммерческой недвижимостью     651\n",
            "жилье                                     647\n",
            "покупка жилья                             647\n",
            "покупка жилья для семьи                   641\n",
            "строительство собственной недвижимости    635\n",
            "недвижимость                              634\n",
            "операции со своей недвижимостью           630\n",
            "строительство жилой недвижимости          626\n",
            "покупка недвижимости                      624\n",
            "строительство недвижимости                620\n",
            "покупка своего жилья                      620\n",
            "ремонт жилью                              612\n",
            "покупка жилой недвижимости                607\n",
            "на покупку своего автомобиля              505\n",
            "заняться высшим образованием              496\n",
            "автомобиль                                495\n",
            "сделка с подержанным автомобилем          489\n",
            "свой автомобиль                           480\n",
            "на покупку подержанного автомобиля        479\n",
            "автомобили                                478\n",
            "на покупку автомобиля                     472\n",
            "дополнительное образование                462\n",
            "приобретение автомобиля                   462\n",
            "сделка с автомобилем                      455\n",
            "высшее образование                        453\n",
            "образование                               447\n",
            "получение дополнительного образования     447\n",
            "получение образования                     443\n",
            "профильное образование                    436\n",
            "получение высшего образования             426\n",
            "заняться образованием                     412\n",
            "Name: purpose, dtype: int64\n"
          ],
          "name": "stdout"
        }
      ]
    },
    {
      "cell_type": "markdown",
      "metadata": {
        "id": "1GOibLu4j_m5"
      },
      "source": [
        "**Вывод:** Посмотрев хотя бы на первые 3 записи уже деалем вывод, что необходимо произвести лемматизацию"
      ]
    },
    {
      "cell_type": "markdown",
      "metadata": {
        "id": "IIKZbNidj_m5"
      },
      "source": [
        "**Посмотрим количество пропусков в датасете**"
      ]
    },
    {
      "cell_type": "code",
      "metadata": {
        "id": "X7CLSNoVj_m5",
        "outputId": "34eebd08-c4f4-4ee1-f9a1-6f260f5eff6f"
      },
      "source": [
        "print(data.isnull().sum())"
      ],
      "execution_count": null,
      "outputs": [
        {
          "output_type": "stream",
          "text": [
            "children               0\n",
            "days_employed       2174\n",
            "dob_years              0\n",
            "education              0\n",
            "education_id           0\n",
            "family_status          0\n",
            "family_status_id       0\n",
            "gender                 0\n",
            "income_type            0\n",
            "debt                   0\n",
            "total_income        2174\n",
            "purpose                0\n",
            "dtype: int64\n"
          ],
          "name": "stdout"
        }
      ]
    },
    {
      "cell_type": "markdown",
      "metadata": {
        "id": "octJo6uDj_m6"
      },
      "source": [
        "**Вывод:** Как и говорилось, присутсвуют строки с NaN в двух столбцах"
      ]
    },
    {
      "cell_type": "markdown",
      "metadata": {
        "id": "JIHLtqM7j_m6"
      },
      "source": [
        "**Посмотрим количество дубликатов в датасете**"
      ]
    },
    {
      "cell_type": "code",
      "metadata": {
        "id": "kbIZTSRJj_m6",
        "outputId": "46e56734-37ce-4690-abc0-fa8cba90bae7"
      },
      "source": [
        "print(data.duplicated().sum())"
      ],
      "execution_count": null,
      "outputs": [
        {
          "output_type": "stream",
          "text": [
            "54\n"
          ],
          "name": "stdout"
        }
      ]
    },
    {
      "cell_type": "markdown",
      "metadata": {
        "id": "yvN-JXr5j_m7"
      },
      "source": [
        "**Вывод:** Итого 54 дубликата"
      ]
    },
    {
      "cell_type": "markdown",
      "metadata": {
        "id": "JR0yioVZj_m7"
      },
      "source": [
        "**Вывод**\n",
        "\n",
        "Выявленны следующие проблемы, которые необходимо решить:\n",
        "1. В столбцах 'общий трудовой стаж в днях' и 'ежемесячный доход' некорректный тип данных(тип с плавающей точкой);\n",
        "2. В столбце 'количество детей в семье' встречаются как отрицательные значения(-1), так из начения, которые равны 20;\n",
        "3. В столбце 'общий трудовой стаж в днях' встречаются отрицательные значения;\n",
        "4. В столбцах 'общий трудовой стаж в днях' и 'ежемесячный доход' есть пустые строки;\n",
        "5. Разный регистр букв в столбцах 'уровень образования клиента' и 'семейное положение';\n",
        "6. В столбце 'возраст клиента в годах' встречаются значения 0;\n",
        "7. В файле с данными встречаются дубликаты;\n",
        "8. В одной записи в столбце 'пол клиента' не определен пол;\n",
        "9. В столбце 'цель получения кредита' обнаружены одинаковые цели на кредит, но имеют разные названия;"
      ]
    },
    {
      "cell_type": "markdown",
      "metadata": {
        "id": "BAJHLbguj_m8"
      },
      "source": [
        "## Шаг 2. Предобработка данных"
      ]
    },
    {
      "cell_type": "markdown",
      "metadata": {
        "id": "B05mRSUdj_m8"
      },
      "source": [
        "### Обработка пропусков"
      ]
    },
    {
      "cell_type": "markdown",
      "metadata": {
        "id": "WIibphmbj_m8"
      },
      "source": [
        "**Так как нужно оценить, влияет ли семейное положение и количество детей клиента на факт погашения кредита в срок, а не от стажа работы или дохода, то заменим пропуски в столбце стаж работы на 0, а доход заменим на среднее значение по группам.<br> \n",
        "Обосновать данные пропуски можно следующими предположениями:**\n",
        "1. Неофициальные работа или доход(заработок от акций, сдача недвижимости)\n",
        "2. Либо были какие-либо ошибки при выгрузки из системы\n",
        "3. Возможно, чтобы не указывать данную информацию, кредит был выдан под залог(недвижимости, машины). \n"
      ]
    },
    {
      "cell_type": "code",
      "metadata": {
        "id": "SysYdUW5j_m8"
      },
      "source": [
        "# <замена пустых значений на 0 в столбце 'days_employed'>\n",
        "data['days_employed'] = data['days_employed'].fillna(0)"
      ],
      "execution_count": null,
      "outputs": []
    },
    {
      "cell_type": "code",
      "metadata": {
        "id": "BZRwPelxj_m9",
        "outputId": "289d67ae-b71c-46f5-e6d9-93c307798d5b"
      },
      "source": [
        "# <подсчет среднего значения столбца 'total_income' по группам столбца 'income_type'>\n",
        "mean = data.groupby('income_type')['total_income'].mean()\n",
        "print(mean)"
      ],
      "execution_count": null,
      "outputs": [
        {
          "output_type": "stream",
          "text": [
            "income_type\n",
            "безработный        131339.751676\n",
            "в декрете           53829.130729\n",
            "госслужащий        170898.309923\n",
            "компаньон          202417.461462\n",
            "пенсионер          137127.465690\n",
            "предприниматель    499163.144947\n",
            "сотрудник          161380.260488\n",
            "студент             98201.625314\n",
            "Name: total_income, dtype: float64\n"
          ],
          "name": "stdout"
        }
      ]
    },
    {
      "cell_type": "code",
      "metadata": {
        "id": "z5lR_ai0j_m9",
        "outputId": "b2f92648-6c4c-4ef5-c1a7-cc1521b1ea6f"
      },
      "source": [
        "# <замена пустых значений столбца total_income на среднее по группам столбца income_type>\n",
        "data['total_income'] = data.groupby('income_type')['total_income'].transform(lambda x: x.fillna(x.mean()))\n",
        "display(data)"
      ],
      "execution_count": null,
      "outputs": [
        {
          "output_type": "display_data",
          "data": {
            "text/html": [
              "<div>\n",
              "<style scoped>\n",
              "    .dataframe tbody tr th:only-of-type {\n",
              "        vertical-align: middle;\n",
              "    }\n",
              "\n",
              "    .dataframe tbody tr th {\n",
              "        vertical-align: top;\n",
              "    }\n",
              "\n",
              "    .dataframe thead th {\n",
              "        text-align: right;\n",
              "    }\n",
              "</style>\n",
              "<table border=\"1\" class=\"dataframe\">\n",
              "  <thead>\n",
              "    <tr style=\"text-align: right;\">\n",
              "      <th></th>\n",
              "      <th>children</th>\n",
              "      <th>days_employed</th>\n",
              "      <th>dob_years</th>\n",
              "      <th>education</th>\n",
              "      <th>education_id</th>\n",
              "      <th>family_status</th>\n",
              "      <th>family_status_id</th>\n",
              "      <th>gender</th>\n",
              "      <th>income_type</th>\n",
              "      <th>debt</th>\n",
              "      <th>total_income</th>\n",
              "      <th>purpose</th>\n",
              "    </tr>\n",
              "  </thead>\n",
              "  <tbody>\n",
              "    <tr>\n",
              "      <td>0</td>\n",
              "      <td>1</td>\n",
              "      <td>-8437.673028</td>\n",
              "      <td>42</td>\n",
              "      <td>высшее</td>\n",
              "      <td>0</td>\n",
              "      <td>женат / замужем</td>\n",
              "      <td>0</td>\n",
              "      <td>F</td>\n",
              "      <td>сотрудник</td>\n",
              "      <td>0</td>\n",
              "      <td>253875.639453</td>\n",
              "      <td>покупка жилья</td>\n",
              "    </tr>\n",
              "    <tr>\n",
              "      <td>1</td>\n",
              "      <td>1</td>\n",
              "      <td>-4024.803754</td>\n",
              "      <td>36</td>\n",
              "      <td>среднее</td>\n",
              "      <td>1</td>\n",
              "      <td>женат / замужем</td>\n",
              "      <td>0</td>\n",
              "      <td>F</td>\n",
              "      <td>сотрудник</td>\n",
              "      <td>0</td>\n",
              "      <td>112080.014102</td>\n",
              "      <td>приобретение автомобиля</td>\n",
              "    </tr>\n",
              "    <tr>\n",
              "      <td>2</td>\n",
              "      <td>0</td>\n",
              "      <td>-5623.422610</td>\n",
              "      <td>33</td>\n",
              "      <td>Среднее</td>\n",
              "      <td>1</td>\n",
              "      <td>женат / замужем</td>\n",
              "      <td>0</td>\n",
              "      <td>M</td>\n",
              "      <td>сотрудник</td>\n",
              "      <td>0</td>\n",
              "      <td>145885.952297</td>\n",
              "      <td>покупка жилья</td>\n",
              "    </tr>\n",
              "    <tr>\n",
              "      <td>3</td>\n",
              "      <td>3</td>\n",
              "      <td>-4124.747207</td>\n",
              "      <td>32</td>\n",
              "      <td>среднее</td>\n",
              "      <td>1</td>\n",
              "      <td>женат / замужем</td>\n",
              "      <td>0</td>\n",
              "      <td>M</td>\n",
              "      <td>сотрудник</td>\n",
              "      <td>0</td>\n",
              "      <td>267628.550329</td>\n",
              "      <td>дополнительное образование</td>\n",
              "    </tr>\n",
              "    <tr>\n",
              "      <td>4</td>\n",
              "      <td>0</td>\n",
              "      <td>340266.072047</td>\n",
              "      <td>53</td>\n",
              "      <td>среднее</td>\n",
              "      <td>1</td>\n",
              "      <td>гражданский брак</td>\n",
              "      <td>1</td>\n",
              "      <td>F</td>\n",
              "      <td>пенсионер</td>\n",
              "      <td>0</td>\n",
              "      <td>158616.077870</td>\n",
              "      <td>сыграть свадьбу</td>\n",
              "    </tr>\n",
              "    <tr>\n",
              "      <td>...</td>\n",
              "      <td>...</td>\n",
              "      <td>...</td>\n",
              "      <td>...</td>\n",
              "      <td>...</td>\n",
              "      <td>...</td>\n",
              "      <td>...</td>\n",
              "      <td>...</td>\n",
              "      <td>...</td>\n",
              "      <td>...</td>\n",
              "      <td>...</td>\n",
              "      <td>...</td>\n",
              "      <td>...</td>\n",
              "    </tr>\n",
              "    <tr>\n",
              "      <td>21520</td>\n",
              "      <td>1</td>\n",
              "      <td>-4529.316663</td>\n",
              "      <td>43</td>\n",
              "      <td>среднее</td>\n",
              "      <td>1</td>\n",
              "      <td>гражданский брак</td>\n",
              "      <td>1</td>\n",
              "      <td>F</td>\n",
              "      <td>компаньон</td>\n",
              "      <td>0</td>\n",
              "      <td>224791.862382</td>\n",
              "      <td>операции с жильем</td>\n",
              "    </tr>\n",
              "    <tr>\n",
              "      <td>21521</td>\n",
              "      <td>0</td>\n",
              "      <td>343937.404131</td>\n",
              "      <td>67</td>\n",
              "      <td>среднее</td>\n",
              "      <td>1</td>\n",
              "      <td>женат / замужем</td>\n",
              "      <td>0</td>\n",
              "      <td>F</td>\n",
              "      <td>пенсионер</td>\n",
              "      <td>0</td>\n",
              "      <td>155999.806512</td>\n",
              "      <td>сделка с автомобилем</td>\n",
              "    </tr>\n",
              "    <tr>\n",
              "      <td>21522</td>\n",
              "      <td>1</td>\n",
              "      <td>-2113.346888</td>\n",
              "      <td>38</td>\n",
              "      <td>среднее</td>\n",
              "      <td>1</td>\n",
              "      <td>гражданский брак</td>\n",
              "      <td>1</td>\n",
              "      <td>M</td>\n",
              "      <td>сотрудник</td>\n",
              "      <td>1</td>\n",
              "      <td>89672.561153</td>\n",
              "      <td>недвижимость</td>\n",
              "    </tr>\n",
              "    <tr>\n",
              "      <td>21523</td>\n",
              "      <td>3</td>\n",
              "      <td>-3112.481705</td>\n",
              "      <td>38</td>\n",
              "      <td>среднее</td>\n",
              "      <td>1</td>\n",
              "      <td>женат / замужем</td>\n",
              "      <td>0</td>\n",
              "      <td>M</td>\n",
              "      <td>сотрудник</td>\n",
              "      <td>1</td>\n",
              "      <td>244093.050500</td>\n",
              "      <td>на покупку своего автомобиля</td>\n",
              "    </tr>\n",
              "    <tr>\n",
              "      <td>21524</td>\n",
              "      <td>2</td>\n",
              "      <td>-1984.507589</td>\n",
              "      <td>40</td>\n",
              "      <td>среднее</td>\n",
              "      <td>1</td>\n",
              "      <td>женат / замужем</td>\n",
              "      <td>0</td>\n",
              "      <td>F</td>\n",
              "      <td>сотрудник</td>\n",
              "      <td>0</td>\n",
              "      <td>82047.418899</td>\n",
              "      <td>на покупку автомобиля</td>\n",
              "    </tr>\n",
              "  </tbody>\n",
              "</table>\n",
              "<p>21525 rows × 12 columns</p>\n",
              "</div>"
            ],
            "text/plain": [
              "       children  days_employed  dob_years education  education_id  \\\n",
              "0             1   -8437.673028         42    высшее             0   \n",
              "1             1   -4024.803754         36   среднее             1   \n",
              "2             0   -5623.422610         33   Среднее             1   \n",
              "3             3   -4124.747207         32   среднее             1   \n",
              "4             0  340266.072047         53   среднее             1   \n",
              "...         ...            ...        ...       ...           ...   \n",
              "21520         1   -4529.316663         43   среднее             1   \n",
              "21521         0  343937.404131         67   среднее             1   \n",
              "21522         1   -2113.346888         38   среднее             1   \n",
              "21523         3   -3112.481705         38   среднее             1   \n",
              "21524         2   -1984.507589         40   среднее             1   \n",
              "\n",
              "          family_status  family_status_id gender income_type  debt  \\\n",
              "0       женат / замужем                 0      F   сотрудник     0   \n",
              "1       женат / замужем                 0      F   сотрудник     0   \n",
              "2       женат / замужем                 0      M   сотрудник     0   \n",
              "3       женат / замужем                 0      M   сотрудник     0   \n",
              "4      гражданский брак                 1      F   пенсионер     0   \n",
              "...                 ...               ...    ...         ...   ...   \n",
              "21520  гражданский брак                 1      F   компаньон     0   \n",
              "21521   женат / замужем                 0      F   пенсионер     0   \n",
              "21522  гражданский брак                 1      M   сотрудник     1   \n",
              "21523   женат / замужем                 0      M   сотрудник     1   \n",
              "21524   женат / замужем                 0      F   сотрудник     0   \n",
              "\n",
              "        total_income                       purpose  \n",
              "0      253875.639453                 покупка жилья  \n",
              "1      112080.014102       приобретение автомобиля  \n",
              "2      145885.952297                 покупка жилья  \n",
              "3      267628.550329    дополнительное образование  \n",
              "4      158616.077870               сыграть свадьбу  \n",
              "...              ...                           ...  \n",
              "21520  224791.862382             операции с жильем  \n",
              "21521  155999.806512          сделка с автомобилем  \n",
              "21522   89672.561153                  недвижимость  \n",
              "21523  244093.050500  на покупку своего автомобиля  \n",
              "21524   82047.418899         на покупку автомобиля  \n",
              "\n",
              "[21525 rows x 12 columns]"
            ]
          },
          "metadata": {
            "tags": []
          }
        }
      ]
    },
    {
      "cell_type": "code",
      "metadata": {
        "id": "txQrjJ-Aj_m-",
        "outputId": "d3900226-b39e-427b-c11f-f436b09642ba"
      },
      "source": [
        "# <проверяем, что избавились от пустых значений>\n",
        "print(data.isnull().sum())"
      ],
      "execution_count": null,
      "outputs": [
        {
          "output_type": "stream",
          "text": [
            "children            0\n",
            "days_employed       0\n",
            "dob_years           0\n",
            "education           0\n",
            "education_id        0\n",
            "family_status       0\n",
            "family_status_id    0\n",
            "gender              0\n",
            "income_type         0\n",
            "debt                0\n",
            "total_income        0\n",
            "purpose             0\n",
            "dtype: int64\n"
          ],
          "name": "stdout"
        }
      ]
    },
    {
      "cell_type": "markdown",
      "metadata": {
        "id": "_419XS29j_m-"
      },
      "source": [
        "**Вывод:** В данном случае произвели замену в столбце <i>days_employed</i>, приняли решение заменить стаж работы на 0. В пустых значениях столбца <i>total_income</i> решили заменить на среднее по группам столбца income_type."
      ]
    },
    {
      "cell_type": "markdown",
      "metadata": {
        "id": "9R2ZbA8Zj_m_"
      },
      "source": [
        "### Замена типа данных"
      ]
    },
    {
      "cell_type": "markdown",
      "metadata": {
        "id": "KMdvt_Ioj_nA"
      },
      "source": [
        "**Рассмотрим столбец** 'days_employed' **— общий трудовой стаж в днях. Заметим, что данные, которые мы получили являются артефактами(встречаются отрицательные значения).**"
      ]
    },
    {
      "cell_type": "code",
      "metadata": {
        "id": "dE2yWGmGj_nA",
        "outputId": "31bee053-ac49-4920-ab4c-c8e572d61dea"
      },
      "source": [
        "#<уберем отрицательные значения, используя метод abs() и проверим>\n",
        "data['days_employed'] = data['days_employed'].abs()\n",
        "print(data['days_employed'])"
      ],
      "execution_count": null,
      "outputs": [
        {
          "output_type": "stream",
          "text": [
            "0          8437.673028\n",
            "1          4024.803754\n",
            "2          5623.422610\n",
            "3          4124.747207\n",
            "4        340266.072047\n",
            "             ...      \n",
            "21520      4529.316663\n",
            "21521    343937.404131\n",
            "21522      2113.346888\n",
            "21523      3112.481705\n",
            "21524      1984.507589\n",
            "Name: days_employed, Length: 21525, dtype: float64\n"
          ],
          "name": "stdout"
        }
      ]
    },
    {
      "cell_type": "markdown",
      "metadata": {
        "id": "SlQng_dbj_nA"
      },
      "source": [
        "**Представим информацию в столбце** 'days_employed' **следующим образом:**<br>\n",
        "Найдем методом max() максимальный трудовой стаж и узнаем сколько этому человеку лет"
      ]
    },
    {
      "cell_type": "code",
      "metadata": {
        "id": "SUvYWZVEj_nB",
        "outputId": "aa9605cc-7721-42cb-94f9-5f9a8584c0b9"
      },
      "source": [
        "max_day = data['days_employed'].max()\n",
        "print(max_day)"
      ],
      "execution_count": null,
      "outputs": [
        {
          "output_type": "stream",
          "text": [
            "401755.40047533\n"
          ],
          "name": "stdout"
        }
      ]
    },
    {
      "cell_type": "code",
      "metadata": {
        "id": "O_rjej3Tj_nB",
        "outputId": "f7675d31-789b-47c0-af2c-e5e33364d786"
      },
      "source": [
        "max_dob_maxday = data[data['days_employed'] == data['days_employed'].max()]['dob_years']\n",
        "print(max_dob_maxday)"
      ],
      "execution_count": null,
      "outputs": [
        {
          "output_type": "stream",
          "text": [
            "6954    56\n",
            "Name: dob_years, dtype: int64\n"
          ],
          "name": "stdout"
        }
      ]
    },
    {
      "cell_type": "markdown",
      "metadata": {
        "id": "WofwoWZ7j_nB"
      },
      "source": [
        "Известно, что кредиты выдаются людям, которым не больше 75 лет.<br> \n",
        "Трудовой стаж начисляется с 16 лет.<br>\n",
        "Из тех данных, которые мы имеем, делаем вывод, что самый большой стаж у человека, которому 56 лет.<br>\n",
        "Предположим, что этот человек нарабатывал стаж с 16 лет, т.е. стаж = 56-16 = 40 лет. Предлагаю посчитать индекс, с помощью которого переведем данные о стаже в более реальный вид."
      ]
    },
    {
      "cell_type": "code",
      "metadata": {
        "id": "LF0ktosPj_nB",
        "outputId": "526b88d7-80ea-4d09-ba79-06fa60960d3a"
      },
      "source": [
        "#<взяли, не учитывая високосные года>\n",
        "index = ((max_dob_maxday - 16) * 365) / max_day\n",
        "print(index)"
      ],
      "execution_count": null,
      "outputs": [
        {
          "output_type": "stream",
          "text": [
            "6954    0.036341\n",
            "Name: dob_years, dtype: float64\n"
          ],
          "name": "stdout"
        }
      ]
    },
    {
      "cell_type": "code",
      "metadata": {
        "id": "6fUGX_Ztj_nC",
        "outputId": "796448e6-bfb0-4b4e-e734-39ef57901c6a"
      },
      "source": [
        "# <создадим столбец days_employed_correct, чтобы в дальнейшем сравнить исходные данные с корректированными>\n",
        "data['days_employed_correct'] = data['days_employed']\n",
        "print(display(data))"
      ],
      "execution_count": null,
      "outputs": [
        {
          "output_type": "display_data",
          "data": {
            "text/html": [
              "<div>\n",
              "<style scoped>\n",
              "    .dataframe tbody tr th:only-of-type {\n",
              "        vertical-align: middle;\n",
              "    }\n",
              "\n",
              "    .dataframe tbody tr th {\n",
              "        vertical-align: top;\n",
              "    }\n",
              "\n",
              "    .dataframe thead th {\n",
              "        text-align: right;\n",
              "    }\n",
              "</style>\n",
              "<table border=\"1\" class=\"dataframe\">\n",
              "  <thead>\n",
              "    <tr style=\"text-align: right;\">\n",
              "      <th></th>\n",
              "      <th>children</th>\n",
              "      <th>days_employed</th>\n",
              "      <th>dob_years</th>\n",
              "      <th>education</th>\n",
              "      <th>education_id</th>\n",
              "      <th>family_status</th>\n",
              "      <th>family_status_id</th>\n",
              "      <th>gender</th>\n",
              "      <th>income_type</th>\n",
              "      <th>debt</th>\n",
              "      <th>total_income</th>\n",
              "      <th>purpose</th>\n",
              "      <th>days_employed_correct</th>\n",
              "    </tr>\n",
              "  </thead>\n",
              "  <tbody>\n",
              "    <tr>\n",
              "      <td>0</td>\n",
              "      <td>1</td>\n",
              "      <td>8437.673028</td>\n",
              "      <td>42</td>\n",
              "      <td>высшее</td>\n",
              "      <td>0</td>\n",
              "      <td>женат / замужем</td>\n",
              "      <td>0</td>\n",
              "      <td>F</td>\n",
              "      <td>сотрудник</td>\n",
              "      <td>0</td>\n",
              "      <td>253875.639453</td>\n",
              "      <td>покупка жилья</td>\n",
              "      <td>8437.673028</td>\n",
              "    </tr>\n",
              "    <tr>\n",
              "      <td>1</td>\n",
              "      <td>1</td>\n",
              "      <td>4024.803754</td>\n",
              "      <td>36</td>\n",
              "      <td>среднее</td>\n",
              "      <td>1</td>\n",
              "      <td>женат / замужем</td>\n",
              "      <td>0</td>\n",
              "      <td>F</td>\n",
              "      <td>сотрудник</td>\n",
              "      <td>0</td>\n",
              "      <td>112080.014102</td>\n",
              "      <td>приобретение автомобиля</td>\n",
              "      <td>4024.803754</td>\n",
              "    </tr>\n",
              "    <tr>\n",
              "      <td>2</td>\n",
              "      <td>0</td>\n",
              "      <td>5623.422610</td>\n",
              "      <td>33</td>\n",
              "      <td>Среднее</td>\n",
              "      <td>1</td>\n",
              "      <td>женат / замужем</td>\n",
              "      <td>0</td>\n",
              "      <td>M</td>\n",
              "      <td>сотрудник</td>\n",
              "      <td>0</td>\n",
              "      <td>145885.952297</td>\n",
              "      <td>покупка жилья</td>\n",
              "      <td>5623.422610</td>\n",
              "    </tr>\n",
              "    <tr>\n",
              "      <td>3</td>\n",
              "      <td>3</td>\n",
              "      <td>4124.747207</td>\n",
              "      <td>32</td>\n",
              "      <td>среднее</td>\n",
              "      <td>1</td>\n",
              "      <td>женат / замужем</td>\n",
              "      <td>0</td>\n",
              "      <td>M</td>\n",
              "      <td>сотрудник</td>\n",
              "      <td>0</td>\n",
              "      <td>267628.550329</td>\n",
              "      <td>дополнительное образование</td>\n",
              "      <td>4124.747207</td>\n",
              "    </tr>\n",
              "    <tr>\n",
              "      <td>4</td>\n",
              "      <td>0</td>\n",
              "      <td>340266.072047</td>\n",
              "      <td>53</td>\n",
              "      <td>среднее</td>\n",
              "      <td>1</td>\n",
              "      <td>гражданский брак</td>\n",
              "      <td>1</td>\n",
              "      <td>F</td>\n",
              "      <td>пенсионер</td>\n",
              "      <td>0</td>\n",
              "      <td>158616.077870</td>\n",
              "      <td>сыграть свадьбу</td>\n",
              "      <td>340266.072047</td>\n",
              "    </tr>\n",
              "    <tr>\n",
              "      <td>...</td>\n",
              "      <td>...</td>\n",
              "      <td>...</td>\n",
              "      <td>...</td>\n",
              "      <td>...</td>\n",
              "      <td>...</td>\n",
              "      <td>...</td>\n",
              "      <td>...</td>\n",
              "      <td>...</td>\n",
              "      <td>...</td>\n",
              "      <td>...</td>\n",
              "      <td>...</td>\n",
              "      <td>...</td>\n",
              "      <td>...</td>\n",
              "    </tr>\n",
              "    <tr>\n",
              "      <td>21520</td>\n",
              "      <td>1</td>\n",
              "      <td>4529.316663</td>\n",
              "      <td>43</td>\n",
              "      <td>среднее</td>\n",
              "      <td>1</td>\n",
              "      <td>гражданский брак</td>\n",
              "      <td>1</td>\n",
              "      <td>F</td>\n",
              "      <td>компаньон</td>\n",
              "      <td>0</td>\n",
              "      <td>224791.862382</td>\n",
              "      <td>операции с жильем</td>\n",
              "      <td>4529.316663</td>\n",
              "    </tr>\n",
              "    <tr>\n",
              "      <td>21521</td>\n",
              "      <td>0</td>\n",
              "      <td>343937.404131</td>\n",
              "      <td>67</td>\n",
              "      <td>среднее</td>\n",
              "      <td>1</td>\n",
              "      <td>женат / замужем</td>\n",
              "      <td>0</td>\n",
              "      <td>F</td>\n",
              "      <td>пенсионер</td>\n",
              "      <td>0</td>\n",
              "      <td>155999.806512</td>\n",
              "      <td>сделка с автомобилем</td>\n",
              "      <td>343937.404131</td>\n",
              "    </tr>\n",
              "    <tr>\n",
              "      <td>21522</td>\n",
              "      <td>1</td>\n",
              "      <td>2113.346888</td>\n",
              "      <td>38</td>\n",
              "      <td>среднее</td>\n",
              "      <td>1</td>\n",
              "      <td>гражданский брак</td>\n",
              "      <td>1</td>\n",
              "      <td>M</td>\n",
              "      <td>сотрудник</td>\n",
              "      <td>1</td>\n",
              "      <td>89672.561153</td>\n",
              "      <td>недвижимость</td>\n",
              "      <td>2113.346888</td>\n",
              "    </tr>\n",
              "    <tr>\n",
              "      <td>21523</td>\n",
              "      <td>3</td>\n",
              "      <td>3112.481705</td>\n",
              "      <td>38</td>\n",
              "      <td>среднее</td>\n",
              "      <td>1</td>\n",
              "      <td>женат / замужем</td>\n",
              "      <td>0</td>\n",
              "      <td>M</td>\n",
              "      <td>сотрудник</td>\n",
              "      <td>1</td>\n",
              "      <td>244093.050500</td>\n",
              "      <td>на покупку своего автомобиля</td>\n",
              "      <td>3112.481705</td>\n",
              "    </tr>\n",
              "    <tr>\n",
              "      <td>21524</td>\n",
              "      <td>2</td>\n",
              "      <td>1984.507589</td>\n",
              "      <td>40</td>\n",
              "      <td>среднее</td>\n",
              "      <td>1</td>\n",
              "      <td>женат / замужем</td>\n",
              "      <td>0</td>\n",
              "      <td>F</td>\n",
              "      <td>сотрудник</td>\n",
              "      <td>0</td>\n",
              "      <td>82047.418899</td>\n",
              "      <td>на покупку автомобиля</td>\n",
              "      <td>1984.507589</td>\n",
              "    </tr>\n",
              "  </tbody>\n",
              "</table>\n",
              "<p>21525 rows × 13 columns</p>\n",
              "</div>"
            ],
            "text/plain": [
              "       children  days_employed  dob_years education  education_id  \\\n",
              "0             1    8437.673028         42    высшее             0   \n",
              "1             1    4024.803754         36   среднее             1   \n",
              "2             0    5623.422610         33   Среднее             1   \n",
              "3             3    4124.747207         32   среднее             1   \n",
              "4             0  340266.072047         53   среднее             1   \n",
              "...         ...            ...        ...       ...           ...   \n",
              "21520         1    4529.316663         43   среднее             1   \n",
              "21521         0  343937.404131         67   среднее             1   \n",
              "21522         1    2113.346888         38   среднее             1   \n",
              "21523         3    3112.481705         38   среднее             1   \n",
              "21524         2    1984.507589         40   среднее             1   \n",
              "\n",
              "          family_status  family_status_id gender income_type  debt  \\\n",
              "0       женат / замужем                 0      F   сотрудник     0   \n",
              "1       женат / замужем                 0      F   сотрудник     0   \n",
              "2       женат / замужем                 0      M   сотрудник     0   \n",
              "3       женат / замужем                 0      M   сотрудник     0   \n",
              "4      гражданский брак                 1      F   пенсионер     0   \n",
              "...                 ...               ...    ...         ...   ...   \n",
              "21520  гражданский брак                 1      F   компаньон     0   \n",
              "21521   женат / замужем                 0      F   пенсионер     0   \n",
              "21522  гражданский брак                 1      M   сотрудник     1   \n",
              "21523   женат / замужем                 0      M   сотрудник     1   \n",
              "21524   женат / замужем                 0      F   сотрудник     0   \n",
              "\n",
              "        total_income                       purpose  days_employed_correct  \n",
              "0      253875.639453                 покупка жилья            8437.673028  \n",
              "1      112080.014102       приобретение автомобиля            4024.803754  \n",
              "2      145885.952297                 покупка жилья            5623.422610  \n",
              "3      267628.550329    дополнительное образование            4124.747207  \n",
              "4      158616.077870               сыграть свадьбу          340266.072047  \n",
              "...              ...                           ...                    ...  \n",
              "21520  224791.862382             операции с жильем            4529.316663  \n",
              "21521  155999.806512          сделка с автомобилем          343937.404131  \n",
              "21522   89672.561153                  недвижимость            2113.346888  \n",
              "21523  244093.050500  на покупку своего автомобиля            3112.481705  \n",
              "21524   82047.418899         на покупку автомобиля            1984.507589  \n",
              "\n",
              "[21525 rows x 13 columns]"
            ]
          },
          "metadata": {
            "tags": []
          }
        },
        {
          "output_type": "stream",
          "text": [
            "None\n"
          ],
          "name": "stdout"
        }
      ]
    },
    {
      "cell_type": "code",
      "metadata": {
        "id": "w2X8AzaZj_nC"
      },
      "source": [
        "#<коэффициент возьмем с точностью до 3 знаков>\n",
        "data.loc[:,'days_employed_correct'] *= 0.036"
      ],
      "execution_count": null,
      "outputs": []
    },
    {
      "cell_type": "code",
      "metadata": {
        "id": "qnFMW0Pvj_nC",
        "outputId": "f1bce731-71dc-4979-e813-80b36fb07687"
      },
      "source": [
        "#<проверим появились ли более реальные значения>\n",
        "#print(data.head(10))\n",
        "display(data)"
      ],
      "execution_count": null,
      "outputs": [
        {
          "output_type": "display_data",
          "data": {
            "text/html": [
              "<div>\n",
              "<style scoped>\n",
              "    .dataframe tbody tr th:only-of-type {\n",
              "        vertical-align: middle;\n",
              "    }\n",
              "\n",
              "    .dataframe tbody tr th {\n",
              "        vertical-align: top;\n",
              "    }\n",
              "\n",
              "    .dataframe thead th {\n",
              "        text-align: right;\n",
              "    }\n",
              "</style>\n",
              "<table border=\"1\" class=\"dataframe\">\n",
              "  <thead>\n",
              "    <tr style=\"text-align: right;\">\n",
              "      <th></th>\n",
              "      <th>children</th>\n",
              "      <th>days_employed</th>\n",
              "      <th>dob_years</th>\n",
              "      <th>education</th>\n",
              "      <th>education_id</th>\n",
              "      <th>family_status</th>\n",
              "      <th>family_status_id</th>\n",
              "      <th>gender</th>\n",
              "      <th>income_type</th>\n",
              "      <th>debt</th>\n",
              "      <th>total_income</th>\n",
              "      <th>purpose</th>\n",
              "      <th>days_employed_correct</th>\n",
              "    </tr>\n",
              "  </thead>\n",
              "  <tbody>\n",
              "    <tr>\n",
              "      <td>0</td>\n",
              "      <td>1</td>\n",
              "      <td>8437.673028</td>\n",
              "      <td>42</td>\n",
              "      <td>высшее</td>\n",
              "      <td>0</td>\n",
              "      <td>женат / замужем</td>\n",
              "      <td>0</td>\n",
              "      <td>F</td>\n",
              "      <td>сотрудник</td>\n",
              "      <td>0</td>\n",
              "      <td>253875.639453</td>\n",
              "      <td>покупка жилья</td>\n",
              "      <td>303.756229</td>\n",
              "    </tr>\n",
              "    <tr>\n",
              "      <td>1</td>\n",
              "      <td>1</td>\n",
              "      <td>4024.803754</td>\n",
              "      <td>36</td>\n",
              "      <td>среднее</td>\n",
              "      <td>1</td>\n",
              "      <td>женат / замужем</td>\n",
              "      <td>0</td>\n",
              "      <td>F</td>\n",
              "      <td>сотрудник</td>\n",
              "      <td>0</td>\n",
              "      <td>112080.014102</td>\n",
              "      <td>приобретение автомобиля</td>\n",
              "      <td>144.892935</td>\n",
              "    </tr>\n",
              "    <tr>\n",
              "      <td>2</td>\n",
              "      <td>0</td>\n",
              "      <td>5623.422610</td>\n",
              "      <td>33</td>\n",
              "      <td>Среднее</td>\n",
              "      <td>1</td>\n",
              "      <td>женат / замужем</td>\n",
              "      <td>0</td>\n",
              "      <td>M</td>\n",
              "      <td>сотрудник</td>\n",
              "      <td>0</td>\n",
              "      <td>145885.952297</td>\n",
              "      <td>покупка жилья</td>\n",
              "      <td>202.443214</td>\n",
              "    </tr>\n",
              "    <tr>\n",
              "      <td>3</td>\n",
              "      <td>3</td>\n",
              "      <td>4124.747207</td>\n",
              "      <td>32</td>\n",
              "      <td>среднее</td>\n",
              "      <td>1</td>\n",
              "      <td>женат / замужем</td>\n",
              "      <td>0</td>\n",
              "      <td>M</td>\n",
              "      <td>сотрудник</td>\n",
              "      <td>0</td>\n",
              "      <td>267628.550329</td>\n",
              "      <td>дополнительное образование</td>\n",
              "      <td>148.490899</td>\n",
              "    </tr>\n",
              "    <tr>\n",
              "      <td>4</td>\n",
              "      <td>0</td>\n",
              "      <td>340266.072047</td>\n",
              "      <td>53</td>\n",
              "      <td>среднее</td>\n",
              "      <td>1</td>\n",
              "      <td>гражданский брак</td>\n",
              "      <td>1</td>\n",
              "      <td>F</td>\n",
              "      <td>пенсионер</td>\n",
              "      <td>0</td>\n",
              "      <td>158616.077870</td>\n",
              "      <td>сыграть свадьбу</td>\n",
              "      <td>12249.578594</td>\n",
              "    </tr>\n",
              "    <tr>\n",
              "      <td>...</td>\n",
              "      <td>...</td>\n",
              "      <td>...</td>\n",
              "      <td>...</td>\n",
              "      <td>...</td>\n",
              "      <td>...</td>\n",
              "      <td>...</td>\n",
              "      <td>...</td>\n",
              "      <td>...</td>\n",
              "      <td>...</td>\n",
              "      <td>...</td>\n",
              "      <td>...</td>\n",
              "      <td>...</td>\n",
              "      <td>...</td>\n",
              "    </tr>\n",
              "    <tr>\n",
              "      <td>21520</td>\n",
              "      <td>1</td>\n",
              "      <td>4529.316663</td>\n",
              "      <td>43</td>\n",
              "      <td>среднее</td>\n",
              "      <td>1</td>\n",
              "      <td>гражданский брак</td>\n",
              "      <td>1</td>\n",
              "      <td>F</td>\n",
              "      <td>компаньон</td>\n",
              "      <td>0</td>\n",
              "      <td>224791.862382</td>\n",
              "      <td>операции с жильем</td>\n",
              "      <td>163.055400</td>\n",
              "    </tr>\n",
              "    <tr>\n",
              "      <td>21521</td>\n",
              "      <td>0</td>\n",
              "      <td>343937.404131</td>\n",
              "      <td>67</td>\n",
              "      <td>среднее</td>\n",
              "      <td>1</td>\n",
              "      <td>женат / замужем</td>\n",
              "      <td>0</td>\n",
              "      <td>F</td>\n",
              "      <td>пенсионер</td>\n",
              "      <td>0</td>\n",
              "      <td>155999.806512</td>\n",
              "      <td>сделка с автомобилем</td>\n",
              "      <td>12381.746549</td>\n",
              "    </tr>\n",
              "    <tr>\n",
              "      <td>21522</td>\n",
              "      <td>1</td>\n",
              "      <td>2113.346888</td>\n",
              "      <td>38</td>\n",
              "      <td>среднее</td>\n",
              "      <td>1</td>\n",
              "      <td>гражданский брак</td>\n",
              "      <td>1</td>\n",
              "      <td>M</td>\n",
              "      <td>сотрудник</td>\n",
              "      <td>1</td>\n",
              "      <td>89672.561153</td>\n",
              "      <td>недвижимость</td>\n",
              "      <td>76.080488</td>\n",
              "    </tr>\n",
              "    <tr>\n",
              "      <td>21523</td>\n",
              "      <td>3</td>\n",
              "      <td>3112.481705</td>\n",
              "      <td>38</td>\n",
              "      <td>среднее</td>\n",
              "      <td>1</td>\n",
              "      <td>женат / замужем</td>\n",
              "      <td>0</td>\n",
              "      <td>M</td>\n",
              "      <td>сотрудник</td>\n",
              "      <td>1</td>\n",
              "      <td>244093.050500</td>\n",
              "      <td>на покупку своего автомобиля</td>\n",
              "      <td>112.049341</td>\n",
              "    </tr>\n",
              "    <tr>\n",
              "      <td>21524</td>\n",
              "      <td>2</td>\n",
              "      <td>1984.507589</td>\n",
              "      <td>40</td>\n",
              "      <td>среднее</td>\n",
              "      <td>1</td>\n",
              "      <td>женат / замужем</td>\n",
              "      <td>0</td>\n",
              "      <td>F</td>\n",
              "      <td>сотрудник</td>\n",
              "      <td>0</td>\n",
              "      <td>82047.418899</td>\n",
              "      <td>на покупку автомобиля</td>\n",
              "      <td>71.442273</td>\n",
              "    </tr>\n",
              "  </tbody>\n",
              "</table>\n",
              "<p>21525 rows × 13 columns</p>\n",
              "</div>"
            ],
            "text/plain": [
              "       children  days_employed  dob_years education  education_id  \\\n",
              "0             1    8437.673028         42    высшее             0   \n",
              "1             1    4024.803754         36   среднее             1   \n",
              "2             0    5623.422610         33   Среднее             1   \n",
              "3             3    4124.747207         32   среднее             1   \n",
              "4             0  340266.072047         53   среднее             1   \n",
              "...         ...            ...        ...       ...           ...   \n",
              "21520         1    4529.316663         43   среднее             1   \n",
              "21521         0  343937.404131         67   среднее             1   \n",
              "21522         1    2113.346888         38   среднее             1   \n",
              "21523         3    3112.481705         38   среднее             1   \n",
              "21524         2    1984.507589         40   среднее             1   \n",
              "\n",
              "          family_status  family_status_id gender income_type  debt  \\\n",
              "0       женат / замужем                 0      F   сотрудник     0   \n",
              "1       женат / замужем                 0      F   сотрудник     0   \n",
              "2       женат / замужем                 0      M   сотрудник     0   \n",
              "3       женат / замужем                 0      M   сотрудник     0   \n",
              "4      гражданский брак                 1      F   пенсионер     0   \n",
              "...                 ...               ...    ...         ...   ...   \n",
              "21520  гражданский брак                 1      F   компаньон     0   \n",
              "21521   женат / замужем                 0      F   пенсионер     0   \n",
              "21522  гражданский брак                 1      M   сотрудник     1   \n",
              "21523   женат / замужем                 0      M   сотрудник     1   \n",
              "21524   женат / замужем                 0      F   сотрудник     0   \n",
              "\n",
              "        total_income                       purpose  days_employed_correct  \n",
              "0      253875.639453                 покупка жилья             303.756229  \n",
              "1      112080.014102       приобретение автомобиля             144.892935  \n",
              "2      145885.952297                 покупка жилья             202.443214  \n",
              "3      267628.550329    дополнительное образование             148.490899  \n",
              "4      158616.077870               сыграть свадьбу           12249.578594  \n",
              "...              ...                           ...                    ...  \n",
              "21520  224791.862382             операции с жильем             163.055400  \n",
              "21521  155999.806512          сделка с автомобилем           12381.746549  \n",
              "21522   89672.561153                  недвижимость              76.080488  \n",
              "21523  244093.050500  на покупку своего автомобиля             112.049341  \n",
              "21524   82047.418899         на покупку автомобиля              71.442273  \n",
              "\n",
              "[21525 rows x 13 columns]"
            ]
          },
          "metadata": {
            "tags": []
          }
        }
      ]
    },
    {
      "cell_type": "markdown",
      "metadata": {
        "id": "IkUvpJcyj_nD"
      },
      "source": [
        "**Вывод:** Создали дополнительный столбец с открорректируемым доходом. Теперь мы наблюдаем более реальные значения, но стоит заметить, что это решение предложено для данного датасета.(теперь нет ни у кого стажа по 900 лет). В дальнейшем, сравним результаты."
      ]
    },
    {
      "cell_type": "markdown",
      "metadata": {
        "id": "syPYQ8ddj_nE"
      },
      "source": [
        "**Приведем дни стажа к типу 'int', так как стаж определяется полными днями.**"
      ]
    },
    {
      "cell_type": "code",
      "metadata": {
        "id": "z49lSnvWj_nE"
      },
      "source": [
        "#<приводим столбец 'days_employed' к типу int>\n",
        "data['days_employed'] = data['days_employed'].astype('int')"
      ],
      "execution_count": null,
      "outputs": []
    },
    {
      "cell_type": "markdown",
      "metadata": {
        "id": "5lCbhYZVj_nE"
      },
      "source": [
        "**Ежемесячный доход тоже приведем к типу 'int', как правило при выдаче кредита округляют сумму вашего дохода.**"
      ]
    },
    {
      "cell_type": "code",
      "metadata": {
        "id": "7UPnIFGfj_nE"
      },
      "source": [
        "#<приводим столбец 'total_income' к типу int>\n",
        "data['total_income'] = data['total_income'].astype('int')"
      ],
      "execution_count": null,
      "outputs": []
    },
    {
      "cell_type": "code",
      "metadata": {
        "id": "A6n8wRqEj_nE"
      },
      "source": [
        "#<приводим столбец ''days_employed_correct' к типу int>\n",
        "data['days_employed_correct'] = data['days_employed_correct'].astype('int')"
      ],
      "execution_count": null,
      "outputs": []
    },
    {
      "cell_type": "code",
      "metadata": {
        "id": "FS0vcfDhj_nF",
        "outputId": "e24c2890-640e-402e-875e-e70e7b947731"
      },
      "source": [
        "#<проверяем, что метод сработал>\n",
        "data.info()"
      ],
      "execution_count": null,
      "outputs": [
        {
          "output_type": "stream",
          "text": [
            "<class 'pandas.core.frame.DataFrame'>\n",
            "RangeIndex: 21525 entries, 0 to 21524\n",
            "Data columns (total 13 columns):\n",
            "children                 21525 non-null int64\n",
            "days_employed            21525 non-null int64\n",
            "dob_years                21525 non-null int64\n",
            "education                21525 non-null object\n",
            "education_id             21525 non-null int64\n",
            "family_status            21525 non-null object\n",
            "family_status_id         21525 non-null int64\n",
            "gender                   21525 non-null object\n",
            "income_type              21525 non-null object\n",
            "debt                     21525 non-null int64\n",
            "total_income             21525 non-null int64\n",
            "purpose                  21525 non-null object\n",
            "days_employed_correct    21525 non-null int64\n",
            "dtypes: int64(8), object(5)\n",
            "memory usage: 2.1+ MB\n"
          ],
          "name": "stdout"
        }
      ]
    },
    {
      "cell_type": "markdown",
      "metadata": {
        "id": "5xSExwJNj_nF"
      },
      "source": [
        "**Вывод**\n",
        "1. Привели столбцы <i>'total_income'</i>, <i>'days_employed'</i> и <i>'days_employed_correct'</i> к типу int\n",
        "2. Преобразовали значения столбца <i>'days_employed'</i> в более реалистичный вид и записали в столбец <i>'days_employed_correct'</i>"
      ]
    },
    {
      "cell_type": "markdown",
      "metadata": {
        "id": "yVNXGUpjj_nG"
      },
      "source": [
        "### Обработка дубликатов"
      ]
    },
    {
      "cell_type": "code",
      "metadata": {
        "id": "DYVIUDGqj_nG",
        "outputId": "7d8d8855-8951-4b7e-bac0-491aa8c2f032"
      },
      "source": [
        "#<посчитаем сумму дубликатов>\n",
        "print(data.duplicated().sum())"
      ],
      "execution_count": null,
      "outputs": [
        {
          "output_type": "stream",
          "text": [
            "54\n"
          ],
          "name": "stdout"
        }
      ]
    },
    {
      "cell_type": "code",
      "metadata": {
        "id": "281NAQkGj_nG"
      },
      "source": [
        "#<методом drop_duplicates() удалим дубликаты и обновим индексы методом reset_index()>\n",
        "data = data.drop_duplicates().reset_index(drop = True)"
      ],
      "execution_count": null,
      "outputs": []
    },
    {
      "cell_type": "code",
      "metadata": {
        "id": "ZPcssA5Cj_nH",
        "outputId": "bf397959-f25a-49b8-cabd-20ee4efeea1b"
      },
      "source": [
        "#<проверка>\n",
        "print(data.duplicated().sum())"
      ],
      "execution_count": null,
      "outputs": [
        {
          "output_type": "stream",
          "text": [
            "0\n"
          ],
          "name": "stdout"
        }
      ]
    },
    {
      "cell_type": "code",
      "metadata": {
        "id": "uUHrnBLSj_nH",
        "outputId": "9e03825e-9619-4c8f-9c92-0b7e213122cf"
      },
      "source": [
        "#<проверим уникальные значения столбца 'education'>\n",
        "data['education'].unique()"
      ],
      "execution_count": null,
      "outputs": [
        {
          "output_type": "execute_result",
          "data": {
            "text/plain": [
              "array(['высшее', 'среднее', 'Среднее', 'СРЕДНЕЕ', 'ВЫСШЕЕ',\n",
              "       'неоконченное высшее', 'начальное', 'Высшее',\n",
              "       'НЕОКОНЧЕННОЕ ВЫСШЕЕ', 'Неоконченное высшее', 'НАЧАЛЬНОЕ',\n",
              "       'Начальное', 'Ученая степень', 'УЧЕНАЯ СТЕПЕНЬ', 'ученая степень'],\n",
              "      dtype=object)"
            ]
          },
          "metadata": {
            "tags": []
          },
          "execution_count": 30
        }
      ]
    },
    {
      "cell_type": "code",
      "metadata": {
        "id": "gi36_EQlj_nH"
      },
      "source": [
        "#<приведем все названия к одному регистру методом str.lower()>\n",
        "data['education'] = data['education'].str.lower()\n",
        "data['family_status'] = data['family_status'].str.lower()"
      ],
      "execution_count": null,
      "outputs": []
    },
    {
      "cell_type": "code",
      "metadata": {
        "id": "4VOkPMpuj_nI",
        "outputId": "8f4f440c-7281-4a57-e804-4007995c3286"
      },
      "source": [
        "#<проверка>\n",
        "data['education'].unique()"
      ],
      "execution_count": null,
      "outputs": [
        {
          "output_type": "execute_result",
          "data": {
            "text/plain": [
              "array(['высшее', 'среднее', 'неоконченное высшее', 'начальное',\n",
              "       'ученая степень'], dtype=object)"
            ]
          },
          "metadata": {
            "tags": []
          },
          "execution_count": 32
        }
      ]
    },
    {
      "cell_type": "code",
      "metadata": {
        "id": "ve0oKKvmj_nI",
        "outputId": "3072766d-eca3-4c3e-b14b-40252c37d737"
      },
      "source": [
        "#<проверка>\n",
        "data['family_status'].unique()"
      ],
      "execution_count": null,
      "outputs": [
        {
          "output_type": "execute_result",
          "data": {
            "text/plain": [
              "array(['женат / замужем', 'гражданский брак', 'вдовец / вдова',\n",
              "       'в разводе', 'не женат / не замужем'], dtype=object)"
            ]
          },
          "metadata": {
            "tags": []
          },
          "execution_count": 33
        }
      ]
    },
    {
      "cell_type": "code",
      "metadata": {
        "id": "hoZdVw8Bj_nI",
        "outputId": "10c97585-273e-4514-aadd-888eb698bce7"
      },
      "source": [
        "#<проверим не появились ли еще дубликаты>\n",
        "print(data.duplicated().sum())"
      ],
      "execution_count": null,
      "outputs": [
        {
          "output_type": "stream",
          "text": [
            "17\n"
          ],
          "name": "stdout"
        }
      ]
    },
    {
      "cell_type": "code",
      "metadata": {
        "id": "wxyzidmrj_nJ"
      },
      "source": [
        "#<методом drop_duplicates() удалим дубликаты и обновим индексы методом reset_index()>\n",
        "data = data.drop_duplicates().reset_index(drop = True)"
      ],
      "execution_count": null,
      "outputs": []
    },
    {
      "cell_type": "code",
      "metadata": {
        "id": "UxdqqXvFj_nJ",
        "outputId": "51aaf5de-adfb-4179-ee64-30b4ed5ce3bc"
      },
      "source": [
        "#<проверим на этот раз>\n",
        "print(data.duplicated().sum())"
      ],
      "execution_count": null,
      "outputs": [
        {
          "output_type": "stream",
          "text": [
            "0\n"
          ],
          "name": "stdout"
        }
      ]
    },
    {
      "cell_type": "markdown",
      "metadata": {
        "id": "y_9q8xj4j_nJ"
      },
      "source": [
        "**Приведем к нормальным значениям столбец** 'children' **а именно, что делать со значениями -1 и 20**"
      ]
    },
    {
      "cell_type": "code",
      "metadata": {
        "id": "1qJ0xXtTj_nK",
        "outputId": "ea912463-69ea-4416-99e5-dff2af9cd1cc"
      },
      "source": [
        "#<посмотрим уникальные значения и их количетсво в столбце 'children'>\n",
        "print(data['children'].value_counts())"
      ],
      "execution_count": null,
      "outputs": [
        {
          "output_type": "stream",
          "text": [
            " 0     14091\n",
            " 1      4808\n",
            " 2      2052\n",
            " 3       330\n",
            " 20       76\n",
            "-1        47\n",
            " 4        41\n",
            " 5         9\n",
            "Name: children, dtype: int64\n"
          ],
          "name": "stdout"
        }
      ]
    },
    {
      "cell_type": "markdown",
      "metadata": {
        "id": "vVbuD7zoj_nK"
      },
      "source": [
        "**Так как строк с непонятным количеством детей всего 123 и это меньше 1% от всех записей, предлагаю удалить их.**"
      ]
    },
    {
      "cell_type": "code",
      "metadata": {
        "id": "0EP2H5r9j_nK"
      },
      "source": [
        "#<строки где значение -1, заменим на 1>\n",
        "data.loc[data['children'] == -1, 'children'] = 1"
      ],
      "execution_count": null,
      "outputs": []
    },
    {
      "cell_type": "code",
      "metadata": {
        "id": "sUkjlSozj_nK"
      },
      "source": [
        "#<строки где значение 20, заменим на 2>\n",
        "data.loc[data['children'] == 20, 'children'] = 2"
      ],
      "execution_count": null,
      "outputs": []
    },
    {
      "cell_type": "code",
      "metadata": {
        "id": "pvtfaQ-Cj_nL",
        "outputId": "4c586d28-bf86-49b7-9cb4-70eeb841f194"
      },
      "source": [
        "print(data['children'].value_counts())"
      ],
      "execution_count": null,
      "outputs": [
        {
          "output_type": "stream",
          "text": [
            "0    14091\n",
            "1     4855\n",
            "2     2128\n",
            "3      330\n",
            "4       41\n",
            "5        9\n",
            "Name: children, dtype: int64\n"
          ],
          "name": "stdout"
        }
      ]
    },
    {
      "cell_type": "code",
      "metadata": {
        "id": "fglxKjT4j_nM",
        "outputId": "3a98e0d1-77ca-4235-d857-1bbb8bd1b872"
      },
      "source": [
        "#<проверка>\n",
        "print(data['dob_years'].value_counts())"
      ],
      "execution_count": null,
      "outputs": [
        {
          "output_type": "stream",
          "text": [
            "35    616\n",
            "40    607\n",
            "41    605\n",
            "34    601\n",
            "38    597\n",
            "42    596\n",
            "33    581\n",
            "39    572\n",
            "31    559\n",
            "36    554\n",
            "44    545\n",
            "29    544\n",
            "30    537\n",
            "48    536\n",
            "37    536\n",
            "50    513\n",
            "43    512\n",
            "32    509\n",
            "49    508\n",
            "28    503\n",
            "45    496\n",
            "27    493\n",
            "52    484\n",
            "56    483\n",
            "47    477\n",
            "54    476\n",
            "46    472\n",
            "53    459\n",
            "57    456\n",
            "58    454\n",
            "51    446\n",
            "55    443\n",
            "59    443\n",
            "26    408\n",
            "60    374\n",
            "25    357\n",
            "61    354\n",
            "62    348\n",
            "63    269\n",
            "24    264\n",
            "64    260\n",
            "23    252\n",
            "65    193\n",
            "22    183\n",
            "66    182\n",
            "67    167\n",
            "21    111\n",
            "0     101\n",
            "68     99\n",
            "69     85\n",
            "70     65\n",
            "71     56\n",
            "20     51\n",
            "72     33\n",
            "19     14\n",
            "73      8\n",
            "74      6\n",
            "75      1\n",
            "Name: dob_years, dtype: int64\n"
          ],
          "name": "stdout"
        }
      ]
    },
    {
      "cell_type": "markdown",
      "metadata": {
        "id": "anrB5OZFj_nM"
      },
      "source": [
        "**Вывод**\n",
        "1. Стало понятно, что лучше сначала привести все к одному регистру(**.str.lower()**), а потом проверять на дубликаты(**duplicated().sum()**), иначе получится как у меня.\n",
        "2. Возможные проблемы возникновения дубликатов: либо ошибки в работе системы(сбои во время ввода данных), либо человеческий фактор при вводе информации(а если касается заполнении заявки и отправки ее, то возможно человек дважды нажал кнопку отправить заявку и система приняла 2 одинаковые заявки)"
      ]
    },
    {
      "cell_type": "markdown",
      "metadata": {
        "id": "gV1aq6zgj_nN"
      },
      "source": [
        "### Лемматизация"
      ]
    },
    {
      "cell_type": "code",
      "metadata": {
        "id": "qw4R2Ig4j_nN",
        "outputId": "9af05e4c-85f7-47af-85e0-7e0fd5416ce3"
      },
      "source": [
        "print(data['purpose'].value_counts())"
      ],
      "execution_count": null,
      "outputs": [
        {
          "output_type": "stream",
          "text": [
            "свадьба                                   791\n",
            "на проведение свадьбы                     768\n",
            "сыграть свадьбу                           765\n",
            "операции с недвижимостью                  675\n",
            "покупка коммерческой недвижимости         661\n",
            "операции с жильем                         652\n",
            "покупка жилья для сдачи                   651\n",
            "операции с коммерческой недвижимостью     650\n",
            "жилье                                     646\n",
            "покупка жилья                             646\n",
            "покупка жилья для семьи                   638\n",
            "строительство собственной недвижимости    635\n",
            "недвижимость                              633\n",
            "операции со своей недвижимостью           627\n",
            "строительство жилой недвижимости          624\n",
            "покупка недвижимости                      621\n",
            "покупка своего жилья                      620\n",
            "строительство недвижимости                619\n",
            "ремонт жилью                              607\n",
            "покупка жилой недвижимости                606\n",
            "на покупку своего автомобиля              505\n",
            "заняться высшим образованием              496\n",
            "автомобиль                                494\n",
            "сделка с подержанным автомобилем          486\n",
            "автомобили                                478\n",
            "свой автомобиль                           478\n",
            "на покупку подержанного автомобиля        478\n",
            "на покупку автомобиля                     471\n",
            "приобретение автомобиля                   461\n",
            "дополнительное образование                460\n",
            "сделка с автомобилем                      455\n",
            "высшее образование                        452\n",
            "образование                               447\n",
            "получение дополнительного образования     446\n",
            "получение образования                     442\n",
            "профильное образование                    436\n",
            "получение высшего образования             426\n",
            "заняться образованием                     408\n",
            "Name: purpose, dtype: int64\n"
          ],
          "name": "stdout"
        }
      ]
    },
    {
      "cell_type": "code",
      "metadata": {
        "id": "RLaLnfGVj_nN",
        "outputId": "01e3c78d-311c-4705-d293-60a1368f22fc"
      },
      "source": [
        "#<получим массив со всеми целями на кредит>\n",
        "purpose_massive = data['purpose'].unique()\n",
        "print(purpose_massive)"
      ],
      "execution_count": null,
      "outputs": [
        {
          "output_type": "stream",
          "text": [
            "['покупка жилья' 'приобретение автомобиля' 'дополнительное образование'\n",
            " 'сыграть свадьбу' 'операции с жильем' 'образование'\n",
            " 'на проведение свадьбы' 'покупка жилья для семьи' 'покупка недвижимости'\n",
            " 'покупка коммерческой недвижимости' 'покупка жилой недвижимости'\n",
            " 'строительство собственной недвижимости' 'недвижимость'\n",
            " 'строительство недвижимости' 'на покупку подержанного автомобиля'\n",
            " 'на покупку своего автомобиля' 'операции с коммерческой недвижимостью'\n",
            " 'строительство жилой недвижимости' 'жилье'\n",
            " 'операции со своей недвижимостью' 'автомобили' 'заняться образованием'\n",
            " 'сделка с подержанным автомобилем' 'получение образования' 'автомобиль'\n",
            " 'свадьба' 'получение дополнительного образования' 'покупка своего жилья'\n",
            " 'операции с недвижимостью' 'получение высшего образования'\n",
            " 'свой автомобиль' 'сделка с автомобилем' 'профильное образование'\n",
            " 'высшее образование' 'покупка жилья для сдачи' 'на покупку автомобиля'\n",
            " 'ремонт жилью' 'заняться высшим образованием']\n"
          ],
          "name": "stdout"
        }
      ]
    },
    {
      "cell_type": "code",
      "metadata": {
        "id": "WROjX7Cnj_nO",
        "outputId": "c63798ea-74af-4f45-f81e-cee43555c3a9"
      },
      "source": [
        "#<склеим>\n",
        "row = ', '.join(purpose_massive)\n",
        "print(row)"
      ],
      "execution_count": null,
      "outputs": [
        {
          "output_type": "stream",
          "text": [
            "покупка жилья, приобретение автомобиля, дополнительное образование, сыграть свадьбу, операции с жильем, образование, на проведение свадьбы, покупка жилья для семьи, покупка недвижимости, покупка коммерческой недвижимости, покупка жилой недвижимости, строительство собственной недвижимости, недвижимость, строительство недвижимости, на покупку подержанного автомобиля, на покупку своего автомобиля, операции с коммерческой недвижимостью, строительство жилой недвижимости, жилье, операции со своей недвижимостью, автомобили, заняться образованием, сделка с подержанным автомобилем, получение образования, автомобиль, свадьба, получение дополнительного образования, покупка своего жилья, операции с недвижимостью, получение высшего образования, свой автомобиль, сделка с автомобилем, профильное образование, высшее образование, покупка жилья для сдачи, на покупку автомобиля, ремонт жилью, заняться высшим образованием\n"
          ],
          "name": "stdout"
        }
      ]
    },
    {
      "cell_type": "code",
      "metadata": {
        "id": "-zCxpXrYj_nO",
        "outputId": "028c1c39-8e62-4538-c0c1-e004d4535fd5"
      },
      "source": [
        "#<cтрочку row лемматизируем, получаем список лемм и посчитаем сколько раз употребляемтся слово> \n",
        "lemmas = m.lemmatize(row)\n",
        "print(Counter(lemmas))"
      ],
      "execution_count": null,
      "outputs": [
        {
          "output_type": "stream",
          "text": [
            "Counter({' ': 59, ', ': 37, 'покупка': 10, 'недвижимость': 10, 'автомобиль': 9, 'образование': 9, 'жилье': 7, 'с': 5, 'операция': 4, 'на': 4, 'свой': 4, 'свадьба': 3, 'строительство': 3, 'получение': 3, 'высокий': 3, 'дополнительный': 2, 'для': 2, 'коммерческий': 2, 'жилой': 2, 'подержать': 2, 'заниматься': 2, 'сделка': 2, 'приобретение': 1, 'сыграть': 1, 'проведение': 1, 'семья': 1, 'собственный': 1, 'со': 1, 'профильный': 1, 'сдача': 1, 'ремонт': 1, '\\n': 1})\n"
          ],
          "name": "stdout"
        }
      ]
    },
    {
      "cell_type": "markdown",
      "metadata": {
        "id": "hAXcbWALj_nO"
      },
      "source": [
        "**Вывод**\n",
        "1. Выделяем следующие цели, на которые берут кредит: <b>недвижимость, автомобиль, образование, свадьба.</b>\n",
        "2. При помощи функции **m.lemmatize()** лемматизации и **Counter()** определили какое количество раз употребляется то или иное слово"
      ]
    },
    {
      "cell_type": "markdown",
      "metadata": {
        "id": "RKI3g9r7j_nP"
      },
      "source": [
        "### Категоризация данных"
      ]
    },
    {
      "cell_type": "markdown",
      "metadata": {
        "id": "6q9Z7FScj_nP"
      },
      "source": [
        "**Классифицируем по количеству детей** <i>'children'</i>"
      ]
    },
    {
      "cell_type": "code",
      "metadata": {
        "id": "1Hh_BPXXj_nP"
      },
      "source": [
        "#<напишем функцию, которая классифицирует людей по количеству детей>\n",
        "def children_group(children):\n",
        "    if children == 0:\n",
        "        return 'детей нет'\n",
        "    if ( 0 < children <= 2):\n",
        "        return 'немногодетная семья'\n",
        "    return 'многодетная семья'\n",
        "#print(children_group(0))\n",
        "#print(children_group(2))\n",
        "#print(children_group(3))"
      ],
      "execution_count": null,
      "outputs": []
    },
    {
      "cell_type": "markdown",
      "metadata": {
        "id": "HvhrEczVj_nQ"
      },
      "source": [
        "**Классифицируем по типу** <i>'family_status'</i>"
      ]
    },
    {
      "cell_type": "code",
      "metadata": {
        "id": "yzCKHYDBj_nQ",
        "outputId": "4f39c5f0-26d9-4af8-ae21-89510dbe6ee7"
      },
      "source": [
        "#<для отработки способа классифицируем то типу>\n",
        "family_dict = data[['family_status_id', 'family_status']]\n",
        "#<удалим дубликаты>\n",
        "family_dict = family_dict.drop_duplicates().reset_index(drop=True)\n",
        "print(family_dict.head())"
      ],
      "execution_count": null,
      "outputs": [
        {
          "output_type": "stream",
          "text": [
            "   family_status_id          family_status\n",
            "0                 0        женат / замужем\n",
            "1                 1       гражданский брак\n",
            "2                 2         вдовец / вдова\n",
            "3                 3              в разводе\n",
            "4                 4  не женат / не замужем\n"
          ],
          "name": "stdout"
        }
      ]
    },
    {
      "cell_type": "code",
      "metadata": {
        "id": "Qh30SIxYj_nR",
        "outputId": "70a39455-b54e-426c-9e8f-a69a6ec7a58f"
      },
      "source": [
        "family_log = data[['family_status_id', 'debt']]\n",
        "print(family_log)"
      ],
      "execution_count": null,
      "outputs": [
        {
          "output_type": "stream",
          "text": [
            "       family_status_id  debt\n",
            "0                     0     0\n",
            "1                     0     0\n",
            "2                     0     0\n",
            "3                     0     0\n",
            "4                     1     0\n",
            "...                 ...   ...\n",
            "21449                 1     0\n",
            "21450                 0     0\n",
            "21451                 1     1\n",
            "21452                 0     1\n",
            "21453                 0     0\n",
            "\n",
            "[21454 rows x 2 columns]\n"
          ],
          "name": "stdout"
        }
      ]
    },
    {
      "cell_type": "markdown",
      "metadata": {
        "id": "_U9ssk-dj_nR"
      },
      "source": [
        "**Классифицируем по уровню дохода** <i>'total_income'</i>"
      ]
    },
    {
      "cell_type": "code",
      "metadata": {
        "id": "Au8QYqjSj_nR",
        "outputId": "b41d39a2-34f8-497f-84ee-7935610f6a0b"
      },
      "source": [
        "#<посмотрим как можно классифицировать>\n",
        "pd.options.display.float_format = '{:.3f}'.format\n",
        "print(data['total_income'].max())\n",
        "print(data['total_income'].min())\n",
        "print(data['total_income'].mean())\n",
        "print(data['total_income'].describe())"
      ],
      "execution_count": null,
      "outputs": [
        {
          "output_type": "stream",
          "text": [
            "2265604\n",
            "20667\n",
            "167431.58371399273\n",
            "count     21454.000\n",
            "mean     167431.584\n",
            "std       98060.605\n",
            "min       20667.000\n",
            "25%      107623.000\n",
            "50%      151887.000\n",
            "75%      202417.000\n",
            "max     2265604.000\n",
            "Name: total_income, dtype: float64\n"
          ],
          "name": "stdout"
        }
      ]
    },
    {
      "cell_type": "code",
      "metadata": {
        "id": "NZG1M_tjj_nR"
      },
      "source": [
        "#<напишем функцию, которая классифицирует людей по доходу>\n",
        "def income_group(total_income):\n",
        "    if total_income <= 107623:\n",
        "        return 'низкий доход'\n",
        "    if (total_income >= 107624) & (total_income <= 151887):\n",
        "        return 'средний доход'\n",
        "    return 'высокий доход'"
      ],
      "execution_count": null,
      "outputs": []
    },
    {
      "cell_type": "code",
      "metadata": {
        "id": "VEBDmrn-j_nS",
        "outputId": "82e88491-0fb8-4248-870b-459e4332cc34"
      },
      "source": [
        "print(data['days_employed'].describe())"
      ],
      "execution_count": null,
      "outputs": [
        {
          "output_type": "stream",
          "text": [
            "count    21454.000\n",
            "mean     60355.051\n",
            "std     133531.413\n",
            "min          0.000\n",
            "25%        622.000\n",
            "50%       1821.500\n",
            "75%       4797.000\n",
            "max     401755.000\n",
            "Name: days_employed, dtype: float64\n"
          ],
          "name": "stdout"
        }
      ]
    },
    {
      "cell_type": "code",
      "metadata": {
        "id": "QS93QRcnj_nS",
        "outputId": "6f2b6fac-fede-409e-99a0-10b022cdf6d0"
      },
      "source": [
        "print(data['days_employed_correct'].describe())"
      ],
      "execution_count": null,
      "outputs": [
        {
          "output_type": "stream",
          "text": [
            "count   21454.000\n",
            "mean     2172.345\n",
            "std      4807.110\n",
            "min         0.000\n",
            "25%        22.000\n",
            "50%        65.000\n",
            "75%       172.000\n",
            "max     14463.000\n",
            "Name: days_employed_correct, dtype: float64\n"
          ],
          "name": "stdout"
        }
      ]
    },
    {
      "cell_type": "code",
      "metadata": {
        "id": "B_cM3a3Uj_nS"
      },
      "source": [
        "#<напишем функцию, которая классифицирует людей по стажу, используя столбец 'days_employed'>\n",
        "def days_employed_group(days_employed):\n",
        "    if days_employed <= 622:\n",
        "        return 'маленький стаж'\n",
        "    if (days_employed >= 623) & (days_employed <= 1821.5):\n",
        "        return 'средний средний'\n",
        "    return 'большой стаж'"
      ],
      "execution_count": null,
      "outputs": []
    },
    {
      "cell_type": "code",
      "metadata": {
        "id": "NgdDM2ymj_nT"
      },
      "source": [
        "#<напишем функцию, которая классифицирует людей по стажу 'days_employed_correct'>\n",
        "def days_employed_correct_group(days_employed_correct):\n",
        "    if days_employed_correct <= 22:\n",
        "        return 'маленький стаж'\n",
        "    if (days_employed_correct >= 23) & (days_employed_correct <= 65):\n",
        "        return 'средний средний'\n",
        "    return 'большой стаж'"
      ],
      "execution_count": null,
      "outputs": []
    },
    {
      "cell_type": "code",
      "metadata": {
        "id": "9NVzBmabj_nT"
      },
      "source": [
        "#<создадим столбец>\n",
        "data['days_employed_group'] = data['days_employed'].apply(days_employed_group)\n",
        "data['days_employed_correct_group'] = data['days_employed_correct'].apply(days_employed_correct_group)"
      ],
      "execution_count": null,
      "outputs": []
    },
    {
      "cell_type": "code",
      "metadata": {
        "id": "sPex86Rtj_nT",
        "outputId": "8e2d4eab-bb6e-49c2-a5e3-c1b6640a196a"
      },
      "source": [
        "#<посчитаем количество людей по каждому уровню стажа>\n",
        "print(data['days_employed_group'].value_counts())"
      ],
      "execution_count": null,
      "outputs": [
        {
          "output_type": "stream",
          "text": [
            "большой стаж       10727\n",
            "маленький стаж      5367\n",
            "средний средний     5360\n",
            "Name: days_employed_group, dtype: int64\n"
          ],
          "name": "stdout"
        }
      ]
    },
    {
      "cell_type": "code",
      "metadata": {
        "id": "5Mqe-2Nlj_nT",
        "outputId": "2fb9ae7c-88a2-4cb8-f824-971962d277b4"
      },
      "source": [
        "print(data['days_employed_correct_group'].value_counts())"
      ],
      "execution_count": null,
      "outputs": [
        {
          "output_type": "stream",
          "text": [
            "большой стаж       10684\n",
            "маленький стаж      5450\n",
            "средний средний     5320\n",
            "Name: days_employed_correct_group, dtype: int64\n"
          ],
          "name": "stdout"
        }
      ]
    },
    {
      "cell_type": "code",
      "metadata": {
        "id": "tXmgpugcj_nU",
        "outputId": "89cb4e87-5f68-48cf-9a1d-eea553048757"
      },
      "source": [
        "#<создадим столбец и проверим>\n",
        "data['income_group'] = data['total_income'].apply(income_group)\n",
        "display(data)"
      ],
      "execution_count": null,
      "outputs": [
        {
          "output_type": "display_data",
          "data": {
            "text/html": [
              "<div>\n",
              "<style scoped>\n",
              "    .dataframe tbody tr th:only-of-type {\n",
              "        vertical-align: middle;\n",
              "    }\n",
              "\n",
              "    .dataframe tbody tr th {\n",
              "        vertical-align: top;\n",
              "    }\n",
              "\n",
              "    .dataframe thead th {\n",
              "        text-align: right;\n",
              "    }\n",
              "</style>\n",
              "<table border=\"1\" class=\"dataframe\">\n",
              "  <thead>\n",
              "    <tr style=\"text-align: right;\">\n",
              "      <th></th>\n",
              "      <th>children</th>\n",
              "      <th>days_employed</th>\n",
              "      <th>dob_years</th>\n",
              "      <th>education</th>\n",
              "      <th>education_id</th>\n",
              "      <th>family_status</th>\n",
              "      <th>family_status_id</th>\n",
              "      <th>gender</th>\n",
              "      <th>income_type</th>\n",
              "      <th>debt</th>\n",
              "      <th>total_income</th>\n",
              "      <th>purpose</th>\n",
              "      <th>days_employed_correct</th>\n",
              "      <th>days_employed_group</th>\n",
              "      <th>days_employed_correct_group</th>\n",
              "      <th>income_group</th>\n",
              "    </tr>\n",
              "  </thead>\n",
              "  <tbody>\n",
              "    <tr>\n",
              "      <td>0</td>\n",
              "      <td>1</td>\n",
              "      <td>8437</td>\n",
              "      <td>42</td>\n",
              "      <td>высшее</td>\n",
              "      <td>0</td>\n",
              "      <td>женат / замужем</td>\n",
              "      <td>0</td>\n",
              "      <td>F</td>\n",
              "      <td>сотрудник</td>\n",
              "      <td>0</td>\n",
              "      <td>253875</td>\n",
              "      <td>покупка жилья</td>\n",
              "      <td>303</td>\n",
              "      <td>большой стаж</td>\n",
              "      <td>большой стаж</td>\n",
              "      <td>высокий доход</td>\n",
              "    </tr>\n",
              "    <tr>\n",
              "      <td>1</td>\n",
              "      <td>1</td>\n",
              "      <td>4024</td>\n",
              "      <td>36</td>\n",
              "      <td>среднее</td>\n",
              "      <td>1</td>\n",
              "      <td>женат / замужем</td>\n",
              "      <td>0</td>\n",
              "      <td>F</td>\n",
              "      <td>сотрудник</td>\n",
              "      <td>0</td>\n",
              "      <td>112080</td>\n",
              "      <td>приобретение автомобиля</td>\n",
              "      <td>144</td>\n",
              "      <td>большой стаж</td>\n",
              "      <td>большой стаж</td>\n",
              "      <td>средний доход</td>\n",
              "    </tr>\n",
              "    <tr>\n",
              "      <td>2</td>\n",
              "      <td>0</td>\n",
              "      <td>5623</td>\n",
              "      <td>33</td>\n",
              "      <td>среднее</td>\n",
              "      <td>1</td>\n",
              "      <td>женат / замужем</td>\n",
              "      <td>0</td>\n",
              "      <td>M</td>\n",
              "      <td>сотрудник</td>\n",
              "      <td>0</td>\n",
              "      <td>145885</td>\n",
              "      <td>покупка жилья</td>\n",
              "      <td>202</td>\n",
              "      <td>большой стаж</td>\n",
              "      <td>большой стаж</td>\n",
              "      <td>средний доход</td>\n",
              "    </tr>\n",
              "    <tr>\n",
              "      <td>3</td>\n",
              "      <td>3</td>\n",
              "      <td>4124</td>\n",
              "      <td>32</td>\n",
              "      <td>среднее</td>\n",
              "      <td>1</td>\n",
              "      <td>женат / замужем</td>\n",
              "      <td>0</td>\n",
              "      <td>M</td>\n",
              "      <td>сотрудник</td>\n",
              "      <td>0</td>\n",
              "      <td>267628</td>\n",
              "      <td>дополнительное образование</td>\n",
              "      <td>148</td>\n",
              "      <td>большой стаж</td>\n",
              "      <td>большой стаж</td>\n",
              "      <td>высокий доход</td>\n",
              "    </tr>\n",
              "    <tr>\n",
              "      <td>4</td>\n",
              "      <td>0</td>\n",
              "      <td>340266</td>\n",
              "      <td>53</td>\n",
              "      <td>среднее</td>\n",
              "      <td>1</td>\n",
              "      <td>гражданский брак</td>\n",
              "      <td>1</td>\n",
              "      <td>F</td>\n",
              "      <td>пенсионер</td>\n",
              "      <td>0</td>\n",
              "      <td>158616</td>\n",
              "      <td>сыграть свадьбу</td>\n",
              "      <td>12249</td>\n",
              "      <td>большой стаж</td>\n",
              "      <td>большой стаж</td>\n",
              "      <td>высокий доход</td>\n",
              "    </tr>\n",
              "    <tr>\n",
              "      <td>...</td>\n",
              "      <td>...</td>\n",
              "      <td>...</td>\n",
              "      <td>...</td>\n",
              "      <td>...</td>\n",
              "      <td>...</td>\n",
              "      <td>...</td>\n",
              "      <td>...</td>\n",
              "      <td>...</td>\n",
              "      <td>...</td>\n",
              "      <td>...</td>\n",
              "      <td>...</td>\n",
              "      <td>...</td>\n",
              "      <td>...</td>\n",
              "      <td>...</td>\n",
              "      <td>...</td>\n",
              "      <td>...</td>\n",
              "    </tr>\n",
              "    <tr>\n",
              "      <td>21449</td>\n",
              "      <td>1</td>\n",
              "      <td>4529</td>\n",
              "      <td>43</td>\n",
              "      <td>среднее</td>\n",
              "      <td>1</td>\n",
              "      <td>гражданский брак</td>\n",
              "      <td>1</td>\n",
              "      <td>F</td>\n",
              "      <td>компаньон</td>\n",
              "      <td>0</td>\n",
              "      <td>224791</td>\n",
              "      <td>операции с жильем</td>\n",
              "      <td>163</td>\n",
              "      <td>большой стаж</td>\n",
              "      <td>большой стаж</td>\n",
              "      <td>высокий доход</td>\n",
              "    </tr>\n",
              "    <tr>\n",
              "      <td>21450</td>\n",
              "      <td>0</td>\n",
              "      <td>343937</td>\n",
              "      <td>67</td>\n",
              "      <td>среднее</td>\n",
              "      <td>1</td>\n",
              "      <td>женат / замужем</td>\n",
              "      <td>0</td>\n",
              "      <td>F</td>\n",
              "      <td>пенсионер</td>\n",
              "      <td>0</td>\n",
              "      <td>155999</td>\n",
              "      <td>сделка с автомобилем</td>\n",
              "      <td>12381</td>\n",
              "      <td>большой стаж</td>\n",
              "      <td>большой стаж</td>\n",
              "      <td>высокий доход</td>\n",
              "    </tr>\n",
              "    <tr>\n",
              "      <td>21451</td>\n",
              "      <td>1</td>\n",
              "      <td>2113</td>\n",
              "      <td>38</td>\n",
              "      <td>среднее</td>\n",
              "      <td>1</td>\n",
              "      <td>гражданский брак</td>\n",
              "      <td>1</td>\n",
              "      <td>M</td>\n",
              "      <td>сотрудник</td>\n",
              "      <td>1</td>\n",
              "      <td>89672</td>\n",
              "      <td>недвижимость</td>\n",
              "      <td>76</td>\n",
              "      <td>большой стаж</td>\n",
              "      <td>большой стаж</td>\n",
              "      <td>низкий доход</td>\n",
              "    </tr>\n",
              "    <tr>\n",
              "      <td>21452</td>\n",
              "      <td>3</td>\n",
              "      <td>3112</td>\n",
              "      <td>38</td>\n",
              "      <td>среднее</td>\n",
              "      <td>1</td>\n",
              "      <td>женат / замужем</td>\n",
              "      <td>0</td>\n",
              "      <td>M</td>\n",
              "      <td>сотрудник</td>\n",
              "      <td>1</td>\n",
              "      <td>244093</td>\n",
              "      <td>на покупку своего автомобиля</td>\n",
              "      <td>112</td>\n",
              "      <td>большой стаж</td>\n",
              "      <td>большой стаж</td>\n",
              "      <td>высокий доход</td>\n",
              "    </tr>\n",
              "    <tr>\n",
              "      <td>21453</td>\n",
              "      <td>2</td>\n",
              "      <td>1984</td>\n",
              "      <td>40</td>\n",
              "      <td>среднее</td>\n",
              "      <td>1</td>\n",
              "      <td>женат / замужем</td>\n",
              "      <td>0</td>\n",
              "      <td>F</td>\n",
              "      <td>сотрудник</td>\n",
              "      <td>0</td>\n",
              "      <td>82047</td>\n",
              "      <td>на покупку автомобиля</td>\n",
              "      <td>71</td>\n",
              "      <td>большой стаж</td>\n",
              "      <td>большой стаж</td>\n",
              "      <td>низкий доход</td>\n",
              "    </tr>\n",
              "  </tbody>\n",
              "</table>\n",
              "<p>21454 rows × 16 columns</p>\n",
              "</div>"
            ],
            "text/plain": [
              "       children  days_employed  dob_years education  education_id  \\\n",
              "0             1           8437         42    высшее             0   \n",
              "1             1           4024         36   среднее             1   \n",
              "2             0           5623         33   среднее             1   \n",
              "3             3           4124         32   среднее             1   \n",
              "4             0         340266         53   среднее             1   \n",
              "...         ...            ...        ...       ...           ...   \n",
              "21449         1           4529         43   среднее             1   \n",
              "21450         0         343937         67   среднее             1   \n",
              "21451         1           2113         38   среднее             1   \n",
              "21452         3           3112         38   среднее             1   \n",
              "21453         2           1984         40   среднее             1   \n",
              "\n",
              "          family_status  family_status_id gender income_type  debt  \\\n",
              "0       женат / замужем                 0      F   сотрудник     0   \n",
              "1       женат / замужем                 0      F   сотрудник     0   \n",
              "2       женат / замужем                 0      M   сотрудник     0   \n",
              "3       женат / замужем                 0      M   сотрудник     0   \n",
              "4      гражданский брак                 1      F   пенсионер     0   \n",
              "...                 ...               ...    ...         ...   ...   \n",
              "21449  гражданский брак                 1      F   компаньон     0   \n",
              "21450   женат / замужем                 0      F   пенсионер     0   \n",
              "21451  гражданский брак                 1      M   сотрудник     1   \n",
              "21452   женат / замужем                 0      M   сотрудник     1   \n",
              "21453   женат / замужем                 0      F   сотрудник     0   \n",
              "\n",
              "       total_income                       purpose  days_employed_correct  \\\n",
              "0            253875                 покупка жилья                    303   \n",
              "1            112080       приобретение автомобиля                    144   \n",
              "2            145885                 покупка жилья                    202   \n",
              "3            267628    дополнительное образование                    148   \n",
              "4            158616               сыграть свадьбу                  12249   \n",
              "...             ...                           ...                    ...   \n",
              "21449        224791             операции с жильем                    163   \n",
              "21450        155999          сделка с автомобилем                  12381   \n",
              "21451         89672                  недвижимость                     76   \n",
              "21452        244093  на покупку своего автомобиля                    112   \n",
              "21453         82047         на покупку автомобиля                     71   \n",
              "\n",
              "      days_employed_group days_employed_correct_group   income_group  \n",
              "0            большой стаж                большой стаж  высокий доход  \n",
              "1            большой стаж                большой стаж  средний доход  \n",
              "2            большой стаж                большой стаж  средний доход  \n",
              "3            большой стаж                большой стаж  высокий доход  \n",
              "4            большой стаж                большой стаж  высокий доход  \n",
              "...                   ...                         ...            ...  \n",
              "21449        большой стаж                большой стаж  высокий доход  \n",
              "21450        большой стаж                большой стаж  высокий доход  \n",
              "21451        большой стаж                большой стаж   низкий доход  \n",
              "21452        большой стаж                большой стаж  высокий доход  \n",
              "21453        большой стаж                большой стаж   низкий доход  \n",
              "\n",
              "[21454 rows x 16 columns]"
            ]
          },
          "metadata": {
            "tags": []
          }
        }
      ]
    },
    {
      "cell_type": "code",
      "metadata": {
        "id": "hV4zw_dvj_nV",
        "outputId": "3c8c5ca2-fcc8-4940-b4bf-2f1817fdd78e"
      },
      "source": [
        "#<посчитаем количество людей по каждому уровню дохода>\n",
        "print(data['income_group'].value_counts())"
      ],
      "execution_count": null,
      "outputs": [
        {
          "output_type": "stream",
          "text": [
            "высокий доход    10727\n",
            "низкий доход      5364\n",
            "средний доход     5363\n",
            "Name: income_group, dtype: int64\n"
          ],
          "name": "stdout"
        }
      ]
    },
    {
      "cell_type": "markdown",
      "metadata": {
        "id": "SKJoBXv_j_nV"
      },
      "source": [
        "**Классифицируем по целям получения кредита** <i>'purpose'</i>"
      ]
    },
    {
      "cell_type": "code",
      "metadata": {
        "id": "UTXGz2EOj_nV"
      },
      "source": [
        "#<напишем функцию, которая классифицирует по целям кредита>\n",
        "def purpose_group(purpose):\n",
        "    if 'свад' in purpose:\n",
        "             return 'свадьба'\n",
        "    if 'авто' in purpose:\n",
        "             return 'автомобиль'\n",
        "    if 'образован' in purpose:\n",
        "             return 'образование'\n",
        "    if 'недвиж' or 'жил' in purpose:\n",
        "             return 'недвижимость'\n",
        "    return 'Ошибка'"
      ],
      "execution_count": null,
      "outputs": []
    },
    {
      "cell_type": "code",
      "metadata": {
        "id": "c1X-v-e6j_nW",
        "outputId": "506f52e8-7be8-4dfa-8358-4ccbc401da86"
      },
      "source": [
        "#<создадим столбец и проверим>\n",
        "data['purpose_group'] = data['purpose'].apply(purpose_group)\n",
        "display(data)"
      ],
      "execution_count": null,
      "outputs": [
        {
          "output_type": "display_data",
          "data": {
            "text/html": [
              "<div>\n",
              "<style scoped>\n",
              "    .dataframe tbody tr th:only-of-type {\n",
              "        vertical-align: middle;\n",
              "    }\n",
              "\n",
              "    .dataframe tbody tr th {\n",
              "        vertical-align: top;\n",
              "    }\n",
              "\n",
              "    .dataframe thead th {\n",
              "        text-align: right;\n",
              "    }\n",
              "</style>\n",
              "<table border=\"1\" class=\"dataframe\">\n",
              "  <thead>\n",
              "    <tr style=\"text-align: right;\">\n",
              "      <th></th>\n",
              "      <th>children</th>\n",
              "      <th>days_employed</th>\n",
              "      <th>dob_years</th>\n",
              "      <th>education</th>\n",
              "      <th>education_id</th>\n",
              "      <th>family_status</th>\n",
              "      <th>family_status_id</th>\n",
              "      <th>gender</th>\n",
              "      <th>income_type</th>\n",
              "      <th>debt</th>\n",
              "      <th>total_income</th>\n",
              "      <th>purpose</th>\n",
              "      <th>days_employed_correct</th>\n",
              "      <th>days_employed_group</th>\n",
              "      <th>days_employed_correct_group</th>\n",
              "      <th>income_group</th>\n",
              "      <th>purpose_group</th>\n",
              "    </tr>\n",
              "  </thead>\n",
              "  <tbody>\n",
              "    <tr>\n",
              "      <td>0</td>\n",
              "      <td>1</td>\n",
              "      <td>8437</td>\n",
              "      <td>42</td>\n",
              "      <td>высшее</td>\n",
              "      <td>0</td>\n",
              "      <td>женат / замужем</td>\n",
              "      <td>0</td>\n",
              "      <td>F</td>\n",
              "      <td>сотрудник</td>\n",
              "      <td>0</td>\n",
              "      <td>253875</td>\n",
              "      <td>покупка жилья</td>\n",
              "      <td>303</td>\n",
              "      <td>большой стаж</td>\n",
              "      <td>большой стаж</td>\n",
              "      <td>высокий доход</td>\n",
              "      <td>недвижимость</td>\n",
              "    </tr>\n",
              "    <tr>\n",
              "      <td>1</td>\n",
              "      <td>1</td>\n",
              "      <td>4024</td>\n",
              "      <td>36</td>\n",
              "      <td>среднее</td>\n",
              "      <td>1</td>\n",
              "      <td>женат / замужем</td>\n",
              "      <td>0</td>\n",
              "      <td>F</td>\n",
              "      <td>сотрудник</td>\n",
              "      <td>0</td>\n",
              "      <td>112080</td>\n",
              "      <td>приобретение автомобиля</td>\n",
              "      <td>144</td>\n",
              "      <td>большой стаж</td>\n",
              "      <td>большой стаж</td>\n",
              "      <td>средний доход</td>\n",
              "      <td>автомобиль</td>\n",
              "    </tr>\n",
              "    <tr>\n",
              "      <td>2</td>\n",
              "      <td>0</td>\n",
              "      <td>5623</td>\n",
              "      <td>33</td>\n",
              "      <td>среднее</td>\n",
              "      <td>1</td>\n",
              "      <td>женат / замужем</td>\n",
              "      <td>0</td>\n",
              "      <td>M</td>\n",
              "      <td>сотрудник</td>\n",
              "      <td>0</td>\n",
              "      <td>145885</td>\n",
              "      <td>покупка жилья</td>\n",
              "      <td>202</td>\n",
              "      <td>большой стаж</td>\n",
              "      <td>большой стаж</td>\n",
              "      <td>средний доход</td>\n",
              "      <td>недвижимость</td>\n",
              "    </tr>\n",
              "    <tr>\n",
              "      <td>3</td>\n",
              "      <td>3</td>\n",
              "      <td>4124</td>\n",
              "      <td>32</td>\n",
              "      <td>среднее</td>\n",
              "      <td>1</td>\n",
              "      <td>женат / замужем</td>\n",
              "      <td>0</td>\n",
              "      <td>M</td>\n",
              "      <td>сотрудник</td>\n",
              "      <td>0</td>\n",
              "      <td>267628</td>\n",
              "      <td>дополнительное образование</td>\n",
              "      <td>148</td>\n",
              "      <td>большой стаж</td>\n",
              "      <td>большой стаж</td>\n",
              "      <td>высокий доход</td>\n",
              "      <td>образование</td>\n",
              "    </tr>\n",
              "    <tr>\n",
              "      <td>4</td>\n",
              "      <td>0</td>\n",
              "      <td>340266</td>\n",
              "      <td>53</td>\n",
              "      <td>среднее</td>\n",
              "      <td>1</td>\n",
              "      <td>гражданский брак</td>\n",
              "      <td>1</td>\n",
              "      <td>F</td>\n",
              "      <td>пенсионер</td>\n",
              "      <td>0</td>\n",
              "      <td>158616</td>\n",
              "      <td>сыграть свадьбу</td>\n",
              "      <td>12249</td>\n",
              "      <td>большой стаж</td>\n",
              "      <td>большой стаж</td>\n",
              "      <td>высокий доход</td>\n",
              "      <td>свадьба</td>\n",
              "    </tr>\n",
              "    <tr>\n",
              "      <td>...</td>\n",
              "      <td>...</td>\n",
              "      <td>...</td>\n",
              "      <td>...</td>\n",
              "      <td>...</td>\n",
              "      <td>...</td>\n",
              "      <td>...</td>\n",
              "      <td>...</td>\n",
              "      <td>...</td>\n",
              "      <td>...</td>\n",
              "      <td>...</td>\n",
              "      <td>...</td>\n",
              "      <td>...</td>\n",
              "      <td>...</td>\n",
              "      <td>...</td>\n",
              "      <td>...</td>\n",
              "      <td>...</td>\n",
              "      <td>...</td>\n",
              "    </tr>\n",
              "    <tr>\n",
              "      <td>21449</td>\n",
              "      <td>1</td>\n",
              "      <td>4529</td>\n",
              "      <td>43</td>\n",
              "      <td>среднее</td>\n",
              "      <td>1</td>\n",
              "      <td>гражданский брак</td>\n",
              "      <td>1</td>\n",
              "      <td>F</td>\n",
              "      <td>компаньон</td>\n",
              "      <td>0</td>\n",
              "      <td>224791</td>\n",
              "      <td>операции с жильем</td>\n",
              "      <td>163</td>\n",
              "      <td>большой стаж</td>\n",
              "      <td>большой стаж</td>\n",
              "      <td>высокий доход</td>\n",
              "      <td>недвижимость</td>\n",
              "    </tr>\n",
              "    <tr>\n",
              "      <td>21450</td>\n",
              "      <td>0</td>\n",
              "      <td>343937</td>\n",
              "      <td>67</td>\n",
              "      <td>среднее</td>\n",
              "      <td>1</td>\n",
              "      <td>женат / замужем</td>\n",
              "      <td>0</td>\n",
              "      <td>F</td>\n",
              "      <td>пенсионер</td>\n",
              "      <td>0</td>\n",
              "      <td>155999</td>\n",
              "      <td>сделка с автомобилем</td>\n",
              "      <td>12381</td>\n",
              "      <td>большой стаж</td>\n",
              "      <td>большой стаж</td>\n",
              "      <td>высокий доход</td>\n",
              "      <td>автомобиль</td>\n",
              "    </tr>\n",
              "    <tr>\n",
              "      <td>21451</td>\n",
              "      <td>1</td>\n",
              "      <td>2113</td>\n",
              "      <td>38</td>\n",
              "      <td>среднее</td>\n",
              "      <td>1</td>\n",
              "      <td>гражданский брак</td>\n",
              "      <td>1</td>\n",
              "      <td>M</td>\n",
              "      <td>сотрудник</td>\n",
              "      <td>1</td>\n",
              "      <td>89672</td>\n",
              "      <td>недвижимость</td>\n",
              "      <td>76</td>\n",
              "      <td>большой стаж</td>\n",
              "      <td>большой стаж</td>\n",
              "      <td>низкий доход</td>\n",
              "      <td>недвижимость</td>\n",
              "    </tr>\n",
              "    <tr>\n",
              "      <td>21452</td>\n",
              "      <td>3</td>\n",
              "      <td>3112</td>\n",
              "      <td>38</td>\n",
              "      <td>среднее</td>\n",
              "      <td>1</td>\n",
              "      <td>женат / замужем</td>\n",
              "      <td>0</td>\n",
              "      <td>M</td>\n",
              "      <td>сотрудник</td>\n",
              "      <td>1</td>\n",
              "      <td>244093</td>\n",
              "      <td>на покупку своего автомобиля</td>\n",
              "      <td>112</td>\n",
              "      <td>большой стаж</td>\n",
              "      <td>большой стаж</td>\n",
              "      <td>высокий доход</td>\n",
              "      <td>автомобиль</td>\n",
              "    </tr>\n",
              "    <tr>\n",
              "      <td>21453</td>\n",
              "      <td>2</td>\n",
              "      <td>1984</td>\n",
              "      <td>40</td>\n",
              "      <td>среднее</td>\n",
              "      <td>1</td>\n",
              "      <td>женат / замужем</td>\n",
              "      <td>0</td>\n",
              "      <td>F</td>\n",
              "      <td>сотрудник</td>\n",
              "      <td>0</td>\n",
              "      <td>82047</td>\n",
              "      <td>на покупку автомобиля</td>\n",
              "      <td>71</td>\n",
              "      <td>большой стаж</td>\n",
              "      <td>большой стаж</td>\n",
              "      <td>низкий доход</td>\n",
              "      <td>автомобиль</td>\n",
              "    </tr>\n",
              "  </tbody>\n",
              "</table>\n",
              "<p>21454 rows × 17 columns</p>\n",
              "</div>"
            ],
            "text/plain": [
              "       children  days_employed  dob_years education  education_id  \\\n",
              "0             1           8437         42    высшее             0   \n",
              "1             1           4024         36   среднее             1   \n",
              "2             0           5623         33   среднее             1   \n",
              "3             3           4124         32   среднее             1   \n",
              "4             0         340266         53   среднее             1   \n",
              "...         ...            ...        ...       ...           ...   \n",
              "21449         1           4529         43   среднее             1   \n",
              "21450         0         343937         67   среднее             1   \n",
              "21451         1           2113         38   среднее             1   \n",
              "21452         3           3112         38   среднее             1   \n",
              "21453         2           1984         40   среднее             1   \n",
              "\n",
              "          family_status  family_status_id gender income_type  debt  \\\n",
              "0       женат / замужем                 0      F   сотрудник     0   \n",
              "1       женат / замужем                 0      F   сотрудник     0   \n",
              "2       женат / замужем                 0      M   сотрудник     0   \n",
              "3       женат / замужем                 0      M   сотрудник     0   \n",
              "4      гражданский брак                 1      F   пенсионер     0   \n",
              "...                 ...               ...    ...         ...   ...   \n",
              "21449  гражданский брак                 1      F   компаньон     0   \n",
              "21450   женат / замужем                 0      F   пенсионер     0   \n",
              "21451  гражданский брак                 1      M   сотрудник     1   \n",
              "21452   женат / замужем                 0      M   сотрудник     1   \n",
              "21453   женат / замужем                 0      F   сотрудник     0   \n",
              "\n",
              "       total_income                       purpose  days_employed_correct  \\\n",
              "0            253875                 покупка жилья                    303   \n",
              "1            112080       приобретение автомобиля                    144   \n",
              "2            145885                 покупка жилья                    202   \n",
              "3            267628    дополнительное образование                    148   \n",
              "4            158616               сыграть свадьбу                  12249   \n",
              "...             ...                           ...                    ...   \n",
              "21449        224791             операции с жильем                    163   \n",
              "21450        155999          сделка с автомобилем                  12381   \n",
              "21451         89672                  недвижимость                     76   \n",
              "21452        244093  на покупку своего автомобиля                    112   \n",
              "21453         82047         на покупку автомобиля                     71   \n",
              "\n",
              "      days_employed_group days_employed_correct_group   income_group  \\\n",
              "0            большой стаж                большой стаж  высокий доход   \n",
              "1            большой стаж                большой стаж  средний доход   \n",
              "2            большой стаж                большой стаж  средний доход   \n",
              "3            большой стаж                большой стаж  высокий доход   \n",
              "4            большой стаж                большой стаж  высокий доход   \n",
              "...                   ...                         ...            ...   \n",
              "21449        большой стаж                большой стаж  высокий доход   \n",
              "21450        большой стаж                большой стаж  высокий доход   \n",
              "21451        большой стаж                большой стаж   низкий доход   \n",
              "21452        большой стаж                большой стаж  высокий доход   \n",
              "21453        большой стаж                большой стаж   низкий доход   \n",
              "\n",
              "      purpose_group  \n",
              "0      недвижимость  \n",
              "1        автомобиль  \n",
              "2      недвижимость  \n",
              "3       образование  \n",
              "4           свадьба  \n",
              "...             ...  \n",
              "21449  недвижимость  \n",
              "21450    автомобиль  \n",
              "21451  недвижимость  \n",
              "21452    автомобиль  \n",
              "21453    автомобиль  \n",
              "\n",
              "[21454 rows x 17 columns]"
            ]
          },
          "metadata": {
            "tags": []
          }
        }
      ]
    },
    {
      "cell_type": "code",
      "metadata": {
        "id": "IBXbCLnOj_nW",
        "outputId": "33ca41e3-1023-41d4-bf9d-207899ace7c8"
      },
      "source": [
        "#<посчитаем количество людей по каждоq цели кредита>\n",
        "print(data['purpose_group'].value_counts())"
      ],
      "execution_count": null,
      "outputs": [
        {
          "output_type": "stream",
          "text": [
            "недвижимость    10811\n",
            "автомобиль       4306\n",
            "образование      4013\n",
            "свадьба          2324\n",
            "Name: purpose_group, dtype: int64\n"
          ],
          "name": "stdout"
        }
      ]
    },
    {
      "cell_type": "markdown",
      "metadata": {
        "id": "UxfrH7W6j_nW"
      },
      "source": [
        "**Вывод** \n",
        "1. Классифицировали данные различными способами, которые нам известны на данном этапе.\n",
        "2. Классификацию проводили на основе требований, чтобы в дальнейшем использовать ее и ответить на поставленные вопросы."
      ]
    },
    {
      "cell_type": "markdown",
      "metadata": {
        "id": "N_yWICwTj_nX"
      },
      "source": [
        "## Шаг 3. Ответьте на вопросы"
      ]
    },
    {
      "cell_type": "markdown",
      "metadata": {
        "id": "zwd99165j_nX"
      },
      "source": [
        "- Есть ли зависимость между наличием детей и возвратом кредита в срок?"
      ]
    },
    {
      "cell_type": "code",
      "metadata": {
        "scrolled": true,
        "id": "LeCdktonj_nX",
        "outputId": "cc351eb2-2ed9-4e91-c98d-7bda6fe891aa"
      },
      "source": [
        "#<создадим сводную таблицу и посчитаем долю должников>\n",
        "data_pivot = data.pivot_table(index = ['children'], columns = 'debt', values = 'total_income', aggfunc = 'count')\n",
        "data_pivot['ratio'] = data_pivot[1] / data_pivot[0] * 100\n",
        "print(data_pivot.sort_values(by = 'ratio', ascending = True))"
      ],
      "execution_count": null,
      "outputs": [
        {
          "output_type": "stream",
          "text": [
            "debt             0        1  ratio\n",
            "children                          \n",
            "0        13028.000 1063.000  8.159\n",
            "3          303.000   27.000  8.911\n",
            "1         4410.000  445.000 10.091\n",
            "2         1926.000  202.000 10.488\n",
            "4           37.000    4.000 10.811\n",
            "5            9.000      nan    nan\n"
          ],
          "name": "stdout"
        }
      ]
    },
    {
      "cell_type": "markdown",
      "metadata": {
        "id": "2VKfKkg5j_nX"
      },
      "source": [
        "**Вывод**  Из всех, лучше всего закрывают кредиты без детей. У тех, у кого 3 ребенка также показатель ниже по сравнению с другими.(Интересно задаться вопросом: Возможно у кого 3 ребенка, их доля чаще использует какую-либо Господдержу?!). В значении с 5 детьми, видим NaN, возможно из-за деления 0/0."
      ]
    },
    {
      "cell_type": "markdown",
      "metadata": {
        "id": "7Q0lnnn8j_nZ"
      },
      "source": [
        "- Есть ли зависимость между семейным положением и возвратом кредита в срок?"
      ]
    },
    {
      "cell_type": "code",
      "metadata": {
        "id": "X9wuNqPzj_nZ",
        "outputId": "6194d1f2-6e15-4ef3-9a9a-091c9f339fec"
      },
      "source": [
        "#<посчитаем сумму должников по каждому статусу>\n",
        "family_status_sum = family_log.groupby('family_status_id')['debt'].sum()\n",
        "print(family_status_sum)"
      ],
      "execution_count": null,
      "outputs": [
        {
          "output_type": "stream",
          "text": [
            "family_status_id\n",
            "0    931\n",
            "1    388\n",
            "2     63\n",
            "3     85\n",
            "4    274\n",
            "Name: debt, dtype: int64\n"
          ],
          "name": "stdout"
        }
      ]
    },
    {
      "cell_type": "code",
      "metadata": {
        "id": "3_Vh8Y1Rj_nZ",
        "outputId": "46219813-6916-44e8-d5f7-704eb84b0fb5"
      },
      "source": [
        "#<посчитаем количество людей по каждому статусу>\n",
        "family_status_count = family_log.groupby('family_status_id')['debt'].count()\n",
        "print(family_status_count)"
      ],
      "execution_count": null,
      "outputs": [
        {
          "output_type": "stream",
          "text": [
            "family_status_id\n",
            "0    12339\n",
            "1     4151\n",
            "2      959\n",
            "3     1195\n",
            "4     2810\n",
            "Name: debt, dtype: int64\n"
          ],
          "name": "stdout"
        }
      ]
    },
    {
      "cell_type": "code",
      "metadata": {
        "id": "Xq3YJ0Rgj_nZ",
        "outputId": "5a15ebba-0535-4408-d620-cfb1e8a41038"
      },
      "source": [
        "#<посчитаем долю людей, которые задолжали по кредиту>\n",
        "family_dict['ratio'] = family_status_sum / family_status_count * 100\n",
        "print(family_dict.sort_values(by = 'ratio', ascending = True))"
      ],
      "execution_count": null,
      "outputs": [
        {
          "output_type": "stream",
          "text": [
            "   family_status_id          family_status  ratio\n",
            "2                 2         вдовец / вдова  6.569\n",
            "3                 3              в разводе  7.113\n",
            "0                 0        женат / замужем  7.545\n",
            "1                 1       гражданский брак  9.347\n",
            "4                 4  не женат / не замужем  9.751\n"
          ],
          "name": "stdout"
        }
      ]
    },
    {
      "cell_type": "markdown",
      "metadata": {
        "id": "oioXJkGLj_na"
      },
      "source": [
        "**Вывод** Стоит заметить, что самые большие показатели должников у <i>не женат / не замужем</i> и <i>гражданский брак</i>.\n",
        "В первом случае понятно, что одному платить кредит намного сложнее. Во втором, можно объяснить тем, что в гражданском браке(если это рассматривать больше как сожительство), как правило, кредит выплачивает один человек, не обременяя другого. У остальных категорий с маленькими показателями, дела идут лучше. Находясь в их категории, человек, берущий кредит, чаще располагает более выгодным положением, при оформлении кредита(<i>женат / замужем</i> - работают вдвоем, есть подстраховка; <i>вдовец / вдова</i> - наследство от мужа/жены; <i>в разводе</i> - раздел имущества)"
      ]
    },
    {
      "cell_type": "markdown",
      "metadata": {
        "id": "mtZXLCzvj_nd"
      },
      "source": [
        "- Есть ли зависимость между уровнем дохода и возвратом кредита в срок?"
      ]
    },
    {
      "cell_type": "code",
      "metadata": {
        "id": "jBakRFNjj_nd",
        "outputId": "c88ee962-744e-4968-8675-75630d7191fa"
      },
      "source": [
        "#<создадим сводную таблицу и посчитаем долю должников>\n",
        "data_pivot_income = data.pivot_table(index = ['income_group'], columns = 'debt', values = 'education', aggfunc = 'count')\n",
        "data_pivot_income['ratio'] = data_pivot_income[1] / data_pivot_income[0] * 100\n",
        "print(data_pivot_income.sort_values(by = 'ratio', ascending = True))"
      ],
      "execution_count": null,
      "outputs": [
        {
          "output_type": "stream",
          "text": [
            "debt              0    1  ratio\n",
            "income_group                   \n",
            "высокий доход  9888  839  8.485\n",
            "низкий доход   4937  427  8.649\n",
            "средний доход  4888  475  9.718\n"
          ],
          "name": "stdout"
        }
      ]
    },
    {
      "cell_type": "markdown",
      "metadata": {
        "id": "IjMctLT8j_ne"
      },
      "source": [
        "**Вывод**\n",
        "1. Самый низкий показатель должников у тех, у кого **низкий доход**. Обусловленно это скорее всего тем, что они более ответственно подходят к оформлению и выплате кредитов(стараются погасить раньше). \n",
        "2. Самый высоки показатель должников у тех, у кого **средний доход**. Возможно эта доля людей берут слишком дорогие кредиты, переоценивают свои силы в его выплате. А также возможно, берут несколько кредитов(недвижимость, автомобиль).  "
      ]
    },
    {
      "cell_type": "markdown",
      "metadata": {
        "id": "krYaOHFfj_ne"
      },
      "source": [
        "- Как разные цели кредита влияют на его возврат в срок?"
      ]
    },
    {
      "cell_type": "code",
      "metadata": {
        "id": "miJ2DuTrj_ne",
        "outputId": "a5ba3227-e635-4962-e2a0-4be30a173e57"
      },
      "source": [
        "#<создадим сводную таблицу и посчитаем долю должников>\n",
        "data_pivot_purpose = data.pivot_table(index = ['purpose_group'], columns = 'debt', values = 'total_income', aggfunc = 'count')\n",
        "data_pivot_purpose['ratio'] = data_pivot_purpose[1] / data_pivot_purpose[0] * 100\n",
        "print(data_pivot_purpose.sort_values(by = 'ratio', ascending = True))"
      ],
      "execution_count": null,
      "outputs": [
        {
          "output_type": "stream",
          "text": [
            "debt               0    1  ratio\n",
            "purpose_group                   \n",
            "недвижимость   10029  782  7.797\n",
            "свадьба         2138  186  8.700\n",
            "образование     3643  370 10.156\n",
            "автомобиль      3903  403 10.325\n"
          ],
          "name": "stdout"
        }
      ]
    },
    {
      "cell_type": "markdown",
      "metadata": {
        "id": "o-qhsDS4j_nf"
      },
      "source": [
        "**Вывод** \n",
        "1. Как видим, у цели на **недвижимость** самый низкий показатель должников, скорее всего это обосновано тем, что кредит на недвижимость с самым маленьким процентом по кредиту, и он в основном на долгий срок.\n",
        "2. У остальных целей процент по кредиту выше и выдается на более маленький срок, что влечет за собой большую вероятность оказаться в долгах. "
      ]
    },
    {
      "cell_type": "markdown",
      "metadata": {
        "id": "WBhbqT_ej_nf"
      },
      "source": [
        "## Шаг 4. Общий вывод"
      ]
    },
    {
      "cell_type": "markdown",
      "metadata": {
        "id": "cn_34HCIj_ng"
      },
      "source": [
        "1. Выявили зависимости какая доля должников от определеных показателей и сделали соответсвующие выводы. На основе данных зависимостей можно сделать некоторые выводы, но для полной картины не достает еще немало факторов.(Например: в вопросе определение доли должников от количества детей. Очень много различных поддержек для многодетных семей, но не все о них знают) \n",
        "2. На основе произведенной нами предобработки данных, можно сказать, что в датасет попадают неккоректные данные. Это может быть связанно с тем, что система заполнения заявки на кредит не доработана:\n",
        "<ul>\n",
        "     <li>не реализована валидация полей формы </li>\n",
        "     <li>лучше использовать маски для полей</li>\n",
        "     <li>также желательно использовать автоматические счетчики для подсчета стажа работы(вводишь дату дд.мм.гг начала работы и вводишь дату дд.мм.гг окончания работы(или по сей день))</li>\n",
        "     <li>отпределиться с типами полей</li>\n",
        "     <li>для борьбы с дубликатами, если в системе присутсвует кнопка 'Оформить заявку' сделать проверку на отправку.</li>\n",
        "</ul>\n",
        "\n",
        "\n",
        "\n",
        "\n"
      ]
    },
    {
      "cell_type": "markdown",
      "metadata": {
        "id": "ZUw4WaJoj_ng"
      },
      "source": [
        "## Чек-лист готовности проекта\n",
        "\n",
        "Поставьте 'x' в выполненных пунктах. Далее нажмите Shift+Enter."
      ]
    },
    {
      "cell_type": "markdown",
      "metadata": {
        "id": "Di37Q8QLj_nh"
      },
      "source": [
        "- [x]  открыт файл;\n",
        "- [x]  файл изучен;\n",
        "- [x]  определены пропущенные значения;\n",
        "- [x]  заполнены пропущенные значения;\n",
        "- [x]  есть пояснение, какие пропущенные значения обнаружены;\n",
        "- [x]  описаны возможные причины появления пропусков в данных;\n",
        "- [x]  объяснено, по какому принципу заполнены пропуски;\n",
        "- [x]  заменен вещественный тип данных на целочисленный;\n",
        "- [x]  есть пояснение, какой метод используется для изменения типа данных и почему;\n",
        "- [x]  удалены дубликаты;\n",
        "- [x]  есть пояснение, какой метод используется для поиска и удаления дубликатов;\n",
        "- [x]  описаны возможные причины появления дубликатов в данных;\n",
        "- [x]  выделены леммы в значениях столбца с целями получения кредита;\n",
        "- [x]  описан процесс лемматизации;\n",
        "- [x]  данные категоризированы;\n",
        "- [x]  есть объяснение принципа категоризации данных;\n",
        "- [x]  есть ответ на вопрос: \"Есть ли зависимость между наличием детей и возвратом кредита в срок?\";\n",
        "- [x]  есть ответ на вопрос: \"Есть ли зависимость между семейным положением и возвратом кредита в срок?\";\n",
        "- [x]  есть ответ на вопрос: \"Есть ли зависимость между уровнем дохода и возвратом кредита в срок?\";\n",
        "- [x]  есть ответ на вопрос: \"Как разные цели кредита влияют на его возврат в срок?\";\n",
        "- [x]  в каждом этапе есть выводы;\n",
        "- [x]  есть общий вывод."
      ]
    }
  ]
}