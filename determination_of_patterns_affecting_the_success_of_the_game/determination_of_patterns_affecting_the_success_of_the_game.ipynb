{
  "nbformat": 4,
  "nbformat_minor": 0,
  "metadata": {
    "kernelspec": {
      "display_name": "Python 3",
      "language": "python",
      "name": "python3"
    },
    "language_info": {
      "codemirror_mode": {
        "name": "ipython",
        "version": 3
      },
      "file_extension": ".py",
      "mimetype": "text/x-python",
      "name": "python",
      "nbconvert_exporter": "python",
      "pygments_lexer": "ipython3",
      "version": "3.7.8"
    },
    "toc": {
      "base_numbering": 1,
      "nav_menu": {},
      "number_sections": true,
      "sideBar": true,
      "skip_h1_title": true,
      "title_cell": "Table of Contents",
      "title_sidebar": "Contents",
      "toc_cell": false,
      "toc_position": {},
      "toc_section_display": true,
      "toc_window_display": false
    },
    "colab": {
      "name": "determination_of_patterns_affecting_the_success_of_the_game.ipynb",
      "provenance": [],
      "collapsed_sections": [],
      "toc_visible": true
    }
  },
  "cells": [
    {
      "cell_type": "markdown",
      "metadata": {
        "id": "jqSmDOHh4ZhG"
      },
      "source": [
        "# Определение определяющих успешность  игры закономерностей"
      ]
    },
    {
      "cell_type": "markdown",
      "metadata": {
        "id": "PvMomGW74ZhH"
      },
      "source": [
        "Интернет-магазин «Стримчик» продаёт по всему миру компьютерные игры. Из открытых источников доступны исторические данные о продажах игр, оценки пользователей и экспертов, жанры и платформы (например, Xbox или PlayStation)."
      ]
    },
    {
      "cell_type": "markdown",
      "metadata": {
        "id": "85WgCCb_4ZhH"
      },
      "source": [
        "## Цель проекта:\n",
        "Выявить определяющие успешность игры закономерности. Это позволит сделать ставку на потенциально популярный продукт и спланировать рекламные кампании."
      ]
    },
    {
      "cell_type": "markdown",
      "metadata": {
        "id": "Fu0zbVPS4ZhH"
      },
      "source": [
        "## Описание проекта\n",
        "Перед вами данные до 2016 года. Представим, что сейчас декабрь 2016 г., и вы планируете кампанию на 2017-й. Нужно отработать принцип работы с данными. Неважно, прогнозируете ли вы продажи на 2017 год по данным 2016-го или же 2027-й — по данным 2026 года.\n",
        "В наборе данных попадается аббревиатура ESRB (Entertainment Software Rating Board) — это ассоциация, определяющая возрастной рейтинг компьютерных игр. ESRB оценивает игровой контент и присваивает ему подходящую возрастную категорию, например, «Для взрослых», «Для детей младшего возраста» или «Для подростков».\n"
      ]
    },
    {
      "cell_type": "markdown",
      "metadata": {
        "id": "mTFLrJGC4ZhI"
      },
      "source": [
        "## Описание данных\n",
        "<ul style=\"border:solid black 2px; padding: 20px\">\n",
        "    <b>Таблица games (информация о продажах игр):</b>\n",
        "    <li><i>Name</i> — название игры</li>\n",
        "    <li><i>Platform</i> — платформа</li>\n",
        "    <li><i>Year_of_Release</i> — год выпуска</li>\n",
        "    <li><i>Genre</i> — жанр игры</li>\n",
        "    <li><i>NA_sales</i> — продажи в Северной Америке (миллионы проданных копий)</li>\n",
        "    <li><i>EU_sales</i> — продажи в Европе (миллионы проданных копий)</li>\n",
        "    <li><i>JP_sales</i> — продажи в Японии (миллионы проданных копий)</li>\n",
        "    <li><i>Other_sales</i> — продажи в других странах (миллионы проданных копий)</li>\n",
        "    <li><i>Critic_Score</i> — оценка критиков (максимум 100)</li>\n",
        "    <li><i>User_Score</i> — оценка пользователей (максимум 10)</li>\n",
        "    <li><i>Rating</i> — рейтинг от организации ESRB (англ. Entertainment Software Rating Board). Эта ассоциация определяет рейтинг компьютерных игр и присваивает им подходящую возрастную категорию.</li>\n",
        "</ul>\n",
        "<b><u>Обратите внимание</u></b>: Данные за 2016 год могут быть неполными."
      ]
    },
    {
      "cell_type": "markdown",
      "metadata": {
        "id": "9EnpUcRC4ZhJ"
      },
      "source": [
        "## Откроем файл с данными и изучим общую информацию"
      ]
    },
    {
      "cell_type": "code",
      "metadata": {
        "id": "pqiIunIt4ZhJ"
      },
      "source": [
        "import pandas as pd\n",
        "import numpy as np\n",
        "import matplotlib.pyplot as plt\n",
        "import seaborn as sn\n",
        "import warnings\n",
        "warnings.filterwarnings('ignore')\n",
        "\n",
        "from scipy import stats as st"
      ],
      "execution_count": null,
      "outputs": []
    },
    {
      "cell_type": "code",
      "metadata": {
        "id": "GLdQqbZE4ZhK"
      },
      "source": [
        "df = pd.read_csv('/datasets/games.csv')"
      ],
      "execution_count": null,
      "outputs": []
    },
    {
      "cell_type": "code",
      "metadata": {
        "id": "IgYo7MaO4ZhK"
      },
      "source": [
        "# <приведем формат к читабельному виду>\n",
        "pd.options.display.float_format = '{:.2f}'.format"
      ],
      "execution_count": null,
      "outputs": []
    },
    {
      "cell_type": "code",
      "metadata": {
        "id": "ZUm_YnSo4ZhL",
        "outputId": "5f9cc3af-d09f-4440-98f3-6cae399ce8fb"
      },
      "source": [
        "display(df)"
      ],
      "execution_count": null,
      "outputs": [
        {
          "output_type": "display_data",
          "data": {
            "text/html": [
              "<div>\n",
              "<style scoped>\n",
              "    .dataframe tbody tr th:only-of-type {\n",
              "        vertical-align: middle;\n",
              "    }\n",
              "\n",
              "    .dataframe tbody tr th {\n",
              "        vertical-align: top;\n",
              "    }\n",
              "\n",
              "    .dataframe thead th {\n",
              "        text-align: right;\n",
              "    }\n",
              "</style>\n",
              "<table border=\"1\" class=\"dataframe\">\n",
              "  <thead>\n",
              "    <tr style=\"text-align: right;\">\n",
              "      <th></th>\n",
              "      <th>Name</th>\n",
              "      <th>Platform</th>\n",
              "      <th>Year_of_Release</th>\n",
              "      <th>Genre</th>\n",
              "      <th>NA_sales</th>\n",
              "      <th>EU_sales</th>\n",
              "      <th>JP_sales</th>\n",
              "      <th>Other_sales</th>\n",
              "      <th>Critic_Score</th>\n",
              "      <th>User_Score</th>\n",
              "      <th>Rating</th>\n",
              "    </tr>\n",
              "  </thead>\n",
              "  <tbody>\n",
              "    <tr>\n",
              "      <td>0</td>\n",
              "      <td>Wii Sports</td>\n",
              "      <td>Wii</td>\n",
              "      <td>2006.00</td>\n",
              "      <td>Sports</td>\n",
              "      <td>41.36</td>\n",
              "      <td>28.96</td>\n",
              "      <td>3.77</td>\n",
              "      <td>8.45</td>\n",
              "      <td>76.00</td>\n",
              "      <td>8</td>\n",
              "      <td>E</td>\n",
              "    </tr>\n",
              "    <tr>\n",
              "      <td>1</td>\n",
              "      <td>Super Mario Bros.</td>\n",
              "      <td>NES</td>\n",
              "      <td>1985.00</td>\n",
              "      <td>Platform</td>\n",
              "      <td>29.08</td>\n",
              "      <td>3.58</td>\n",
              "      <td>6.81</td>\n",
              "      <td>0.77</td>\n",
              "      <td>nan</td>\n",
              "      <td>NaN</td>\n",
              "      <td>NaN</td>\n",
              "    </tr>\n",
              "    <tr>\n",
              "      <td>2</td>\n",
              "      <td>Mario Kart Wii</td>\n",
              "      <td>Wii</td>\n",
              "      <td>2008.00</td>\n",
              "      <td>Racing</td>\n",
              "      <td>15.68</td>\n",
              "      <td>12.76</td>\n",
              "      <td>3.79</td>\n",
              "      <td>3.29</td>\n",
              "      <td>82.00</td>\n",
              "      <td>8.3</td>\n",
              "      <td>E</td>\n",
              "    </tr>\n",
              "    <tr>\n",
              "      <td>3</td>\n",
              "      <td>Wii Sports Resort</td>\n",
              "      <td>Wii</td>\n",
              "      <td>2009.00</td>\n",
              "      <td>Sports</td>\n",
              "      <td>15.61</td>\n",
              "      <td>10.93</td>\n",
              "      <td>3.28</td>\n",
              "      <td>2.95</td>\n",
              "      <td>80.00</td>\n",
              "      <td>8</td>\n",
              "      <td>E</td>\n",
              "    </tr>\n",
              "    <tr>\n",
              "      <td>4</td>\n",
              "      <td>Pokemon Red/Pokemon Blue</td>\n",
              "      <td>GB</td>\n",
              "      <td>1996.00</td>\n",
              "      <td>Role-Playing</td>\n",
              "      <td>11.27</td>\n",
              "      <td>8.89</td>\n",
              "      <td>10.22</td>\n",
              "      <td>1.00</td>\n",
              "      <td>nan</td>\n",
              "      <td>NaN</td>\n",
              "      <td>NaN</td>\n",
              "    </tr>\n",
              "    <tr>\n",
              "      <td>...</td>\n",
              "      <td>...</td>\n",
              "      <td>...</td>\n",
              "      <td>...</td>\n",
              "      <td>...</td>\n",
              "      <td>...</td>\n",
              "      <td>...</td>\n",
              "      <td>...</td>\n",
              "      <td>...</td>\n",
              "      <td>...</td>\n",
              "      <td>...</td>\n",
              "      <td>...</td>\n",
              "    </tr>\n",
              "    <tr>\n",
              "      <td>16710</td>\n",
              "      <td>Samurai Warriors: Sanada Maru</td>\n",
              "      <td>PS3</td>\n",
              "      <td>2016.00</td>\n",
              "      <td>Action</td>\n",
              "      <td>0.00</td>\n",
              "      <td>0.00</td>\n",
              "      <td>0.01</td>\n",
              "      <td>0.00</td>\n",
              "      <td>nan</td>\n",
              "      <td>NaN</td>\n",
              "      <td>NaN</td>\n",
              "    </tr>\n",
              "    <tr>\n",
              "      <td>16711</td>\n",
              "      <td>LMA Manager 2007</td>\n",
              "      <td>X360</td>\n",
              "      <td>2006.00</td>\n",
              "      <td>Sports</td>\n",
              "      <td>0.00</td>\n",
              "      <td>0.01</td>\n",
              "      <td>0.00</td>\n",
              "      <td>0.00</td>\n",
              "      <td>nan</td>\n",
              "      <td>NaN</td>\n",
              "      <td>NaN</td>\n",
              "    </tr>\n",
              "    <tr>\n",
              "      <td>16712</td>\n",
              "      <td>Haitaka no Psychedelica</td>\n",
              "      <td>PSV</td>\n",
              "      <td>2016.00</td>\n",
              "      <td>Adventure</td>\n",
              "      <td>0.00</td>\n",
              "      <td>0.00</td>\n",
              "      <td>0.01</td>\n",
              "      <td>0.00</td>\n",
              "      <td>nan</td>\n",
              "      <td>NaN</td>\n",
              "      <td>NaN</td>\n",
              "    </tr>\n",
              "    <tr>\n",
              "      <td>16713</td>\n",
              "      <td>Spirits &amp; Spells</td>\n",
              "      <td>GBA</td>\n",
              "      <td>2003.00</td>\n",
              "      <td>Platform</td>\n",
              "      <td>0.01</td>\n",
              "      <td>0.00</td>\n",
              "      <td>0.00</td>\n",
              "      <td>0.00</td>\n",
              "      <td>nan</td>\n",
              "      <td>NaN</td>\n",
              "      <td>NaN</td>\n",
              "    </tr>\n",
              "    <tr>\n",
              "      <td>16714</td>\n",
              "      <td>Winning Post 8 2016</td>\n",
              "      <td>PSV</td>\n",
              "      <td>2016.00</td>\n",
              "      <td>Simulation</td>\n",
              "      <td>0.00</td>\n",
              "      <td>0.00</td>\n",
              "      <td>0.01</td>\n",
              "      <td>0.00</td>\n",
              "      <td>nan</td>\n",
              "      <td>NaN</td>\n",
              "      <td>NaN</td>\n",
              "    </tr>\n",
              "  </tbody>\n",
              "</table>\n",
              "<p>16715 rows × 11 columns</p>\n",
              "</div>"
            ],
            "text/plain": [
              "                                Name Platform  Year_of_Release         Genre  \\\n",
              "0                         Wii Sports      Wii          2006.00        Sports   \n",
              "1                  Super Mario Bros.      NES          1985.00      Platform   \n",
              "2                     Mario Kart Wii      Wii          2008.00        Racing   \n",
              "3                  Wii Sports Resort      Wii          2009.00        Sports   \n",
              "4           Pokemon Red/Pokemon Blue       GB          1996.00  Role-Playing   \n",
              "...                              ...      ...              ...           ...   \n",
              "16710  Samurai Warriors: Sanada Maru      PS3          2016.00        Action   \n",
              "16711               LMA Manager 2007     X360          2006.00        Sports   \n",
              "16712        Haitaka no Psychedelica      PSV          2016.00     Adventure   \n",
              "16713               Spirits & Spells      GBA          2003.00      Platform   \n",
              "16714            Winning Post 8 2016      PSV          2016.00    Simulation   \n",
              "\n",
              "       NA_sales  EU_sales  JP_sales  Other_sales  Critic_Score User_Score  \\\n",
              "0         41.36     28.96      3.77         8.45         76.00          8   \n",
              "1         29.08      3.58      6.81         0.77           nan        NaN   \n",
              "2         15.68     12.76      3.79         3.29         82.00        8.3   \n",
              "3         15.61     10.93      3.28         2.95         80.00          8   \n",
              "4         11.27      8.89     10.22         1.00           nan        NaN   \n",
              "...         ...       ...       ...          ...           ...        ...   \n",
              "16710      0.00      0.00      0.01         0.00           nan        NaN   \n",
              "16711      0.00      0.01      0.00         0.00           nan        NaN   \n",
              "16712      0.00      0.00      0.01         0.00           nan        NaN   \n",
              "16713      0.01      0.00      0.00         0.00           nan        NaN   \n",
              "16714      0.00      0.00      0.01         0.00           nan        NaN   \n",
              "\n",
              "      Rating  \n",
              "0          E  \n",
              "1        NaN  \n",
              "2          E  \n",
              "3          E  \n",
              "4        NaN  \n",
              "...      ...  \n",
              "16710    NaN  \n",
              "16711    NaN  \n",
              "16712    NaN  \n",
              "16713    NaN  \n",
              "16714    NaN  \n",
              "\n",
              "[16715 rows x 11 columns]"
            ]
          },
          "metadata": {
            "tags": []
          }
        }
      ]
    },
    {
      "cell_type": "code",
      "metadata": {
        "id": "foUyDSDs4ZhM",
        "outputId": "6e291e3f-0508-4034-f62f-225063111fc3"
      },
      "source": [
        "print(df.columns)"
      ],
      "execution_count": null,
      "outputs": [
        {
          "output_type": "stream",
          "text": [
            "Index(['Name', 'Platform', 'Year_of_Release', 'Genre', 'NA_sales', 'EU_sales',\n",
            "       'JP_sales', 'Other_sales', 'Critic_Score', 'User_Score', 'Rating'],\n",
            "      dtype='object')\n"
          ],
          "name": "stdout"
        }
      ]
    },
    {
      "cell_type": "markdown",
      "metadata": {
        "id": "7bfAk5ZL4ZhM"
      },
      "source": [
        "<b>Названия столбцов необходимо привести к нижнему регистру.</b>"
      ]
    },
    {
      "cell_type": "code",
      "metadata": {
        "id": "R8C0jGz64ZhN",
        "outputId": "6ef8a40e-91eb-4b0f-e7e9-a908022265cc"
      },
      "source": [
        "df.info()"
      ],
      "execution_count": null,
      "outputs": [
        {
          "output_type": "stream",
          "text": [
            "<class 'pandas.core.frame.DataFrame'>\n",
            "RangeIndex: 16715 entries, 0 to 16714\n",
            "Data columns (total 11 columns):\n",
            "Name               16713 non-null object\n",
            "Platform           16715 non-null object\n",
            "Year_of_Release    16446 non-null float64\n",
            "Genre              16713 non-null object\n",
            "NA_sales           16715 non-null float64\n",
            "EU_sales           16715 non-null float64\n",
            "JP_sales           16715 non-null float64\n",
            "Other_sales        16715 non-null float64\n",
            "Critic_Score       8137 non-null float64\n",
            "User_Score         10014 non-null object\n",
            "Rating             9949 non-null object\n",
            "dtypes: float64(6), object(5)\n",
            "memory usage: 1.4+ MB\n"
          ],
          "name": "stdout"
        }
      ]
    },
    {
      "cell_type": "markdown",
      "metadata": {
        "id": "eKa019Cj4ZhN"
      },
      "source": [
        "1. <b>Столбец <i>'Year_of_Release'</i> можно привести к типу <u>int</u>, так как это год выпуска.</b>\n",
        "2. <b>Столбец <i>'User_Score'</i> нужно привести к типу <u>float</u>, так как это оценка(число).</b>"
      ]
    },
    {
      "cell_type": "code",
      "metadata": {
        "id": "FeTq5mAI4ZhN",
        "outputId": "eccc6b93-f1da-493a-994d-b918643492a0"
      },
      "source": [
        "df.isnull().sum()*100 / len(df)"
      ],
      "execution_count": null,
      "outputs": [
        {
          "output_type": "execute_result",
          "data": {
            "text/plain": [
              "Name               0.01\n",
              "Platform           0.00\n",
              "Year_of_Release    1.61\n",
              "Genre              0.01\n",
              "NA_sales           0.00\n",
              "EU_sales           0.00\n",
              "JP_sales           0.00\n",
              "Other_sales        0.00\n",
              "Critic_Score      51.32\n",
              "User_Score        40.09\n",
              "Rating            40.48\n",
              "dtype: float64"
            ]
          },
          "metadata": {
            "tags": []
          },
          "execution_count": 7
        }
      ]
    },
    {
      "cell_type": "markdown",
      "metadata": {
        "id": "_yxY4mvG4ZhO"
      },
      "source": [
        "<b>Немало пропусков наблюдается в столбцах <i>'Critic_Score'</i>, <i>'User_Score'</i>, <i>'Rating'</i>.</b>"
      ]
    },
    {
      "cell_type": "code",
      "metadata": {
        "id": "Fr_JTwPP4ZhO",
        "outputId": "cb5f0e36-5362-4924-c5ef-c6e564a8273a"
      },
      "source": [
        "df.describe()"
      ],
      "execution_count": null,
      "outputs": [
        {
          "output_type": "execute_result",
          "data": {
            "text/html": [
              "<div>\n",
              "<style scoped>\n",
              "    .dataframe tbody tr th:only-of-type {\n",
              "        vertical-align: middle;\n",
              "    }\n",
              "\n",
              "    .dataframe tbody tr th {\n",
              "        vertical-align: top;\n",
              "    }\n",
              "\n",
              "    .dataframe thead th {\n",
              "        text-align: right;\n",
              "    }\n",
              "</style>\n",
              "<table border=\"1\" class=\"dataframe\">\n",
              "  <thead>\n",
              "    <tr style=\"text-align: right;\">\n",
              "      <th></th>\n",
              "      <th>Year_of_Release</th>\n",
              "      <th>NA_sales</th>\n",
              "      <th>EU_sales</th>\n",
              "      <th>JP_sales</th>\n",
              "      <th>Other_sales</th>\n",
              "      <th>Critic_Score</th>\n",
              "    </tr>\n",
              "  </thead>\n",
              "  <tbody>\n",
              "    <tr>\n",
              "      <td>count</td>\n",
              "      <td>16446.00</td>\n",
              "      <td>16715.00</td>\n",
              "      <td>16715.00</td>\n",
              "      <td>16715.00</td>\n",
              "      <td>16715.00</td>\n",
              "      <td>8137.00</td>\n",
              "    </tr>\n",
              "    <tr>\n",
              "      <td>mean</td>\n",
              "      <td>2006.48</td>\n",
              "      <td>0.26</td>\n",
              "      <td>0.15</td>\n",
              "      <td>0.08</td>\n",
              "      <td>0.05</td>\n",
              "      <td>68.97</td>\n",
              "    </tr>\n",
              "    <tr>\n",
              "      <td>std</td>\n",
              "      <td>5.88</td>\n",
              "      <td>0.81</td>\n",
              "      <td>0.50</td>\n",
              "      <td>0.31</td>\n",
              "      <td>0.19</td>\n",
              "      <td>13.94</td>\n",
              "    </tr>\n",
              "    <tr>\n",
              "      <td>min</td>\n",
              "      <td>1980.00</td>\n",
              "      <td>0.00</td>\n",
              "      <td>0.00</td>\n",
              "      <td>0.00</td>\n",
              "      <td>0.00</td>\n",
              "      <td>13.00</td>\n",
              "    </tr>\n",
              "    <tr>\n",
              "      <td>25%</td>\n",
              "      <td>2003.00</td>\n",
              "      <td>0.00</td>\n",
              "      <td>0.00</td>\n",
              "      <td>0.00</td>\n",
              "      <td>0.00</td>\n",
              "      <td>60.00</td>\n",
              "    </tr>\n",
              "    <tr>\n",
              "      <td>50%</td>\n",
              "      <td>2007.00</td>\n",
              "      <td>0.08</td>\n",
              "      <td>0.02</td>\n",
              "      <td>0.00</td>\n",
              "      <td>0.01</td>\n",
              "      <td>71.00</td>\n",
              "    </tr>\n",
              "    <tr>\n",
              "      <td>75%</td>\n",
              "      <td>2010.00</td>\n",
              "      <td>0.24</td>\n",
              "      <td>0.11</td>\n",
              "      <td>0.04</td>\n",
              "      <td>0.03</td>\n",
              "      <td>79.00</td>\n",
              "    </tr>\n",
              "    <tr>\n",
              "      <td>max</td>\n",
              "      <td>2016.00</td>\n",
              "      <td>41.36</td>\n",
              "      <td>28.96</td>\n",
              "      <td>10.22</td>\n",
              "      <td>10.57</td>\n",
              "      <td>98.00</td>\n",
              "    </tr>\n",
              "  </tbody>\n",
              "</table>\n",
              "</div>"
            ],
            "text/plain": [
              "       Year_of_Release  NA_sales  EU_sales  JP_sales  Other_sales  \\\n",
              "count         16446.00  16715.00  16715.00  16715.00     16715.00   \n",
              "mean           2006.48      0.26      0.15      0.08         0.05   \n",
              "std               5.88      0.81      0.50      0.31         0.19   \n",
              "min            1980.00      0.00      0.00      0.00         0.00   \n",
              "25%            2003.00      0.00      0.00      0.00         0.00   \n",
              "50%            2007.00      0.08      0.02      0.00         0.01   \n",
              "75%            2010.00      0.24      0.11      0.04         0.03   \n",
              "max            2016.00     41.36     28.96     10.22        10.57   \n",
              "\n",
              "       Critic_Score  \n",
              "count       8137.00  \n",
              "mean          68.97  \n",
              "std           13.94  \n",
              "min           13.00  \n",
              "25%           60.00  \n",
              "50%           71.00  \n",
              "75%           79.00  \n",
              "max           98.00  "
            ]
          },
          "metadata": {
            "tags": []
          },
          "execution_count": 8
        }
      ]
    },
    {
      "cell_type": "code",
      "metadata": {
        "id": "hQoEJ57j4ZhO",
        "outputId": "52b9473c-fdb4-4a6e-bea2-fe1c6c369233"
      },
      "source": [
        "print(df.duplicated().sum())"
      ],
      "execution_count": null,
      "outputs": [
        {
          "output_type": "stream",
          "text": [
            "0\n"
          ],
          "name": "stdout"
        }
      ]
    },
    {
      "cell_type": "markdown",
      "metadata": {
        "id": "1fTg5U_O4ZhP"
      },
      "source": [
        "<b>Дубликатов не наблюдается.</b>"
      ]
    },
    {
      "cell_type": "markdown",
      "metadata": {
        "id": "Amty68eD4ZhP"
      },
      "source": [
        "<b>Вывод:</b><br>\n",
        "На данном этапе выявленны следующие проблемы, которые необходимо решить:\n",
        "1. В датасете, где это необходимо, привести данные к нужным типам;\n",
        "2. Привести названия столбцов к нижнему регистру;\n",
        "3. Необходимо разобраться с пустыми значениями датасета."
      ]
    },
    {
      "cell_type": "markdown",
      "metadata": {
        "id": "XJkcPAjy4ZhQ"
      },
      "source": [
        "## Подготовка данных"
      ]
    },
    {
      "cell_type": "code",
      "metadata": {
        "id": "6RXOybcO4ZhR"
      },
      "source": [
        "df.columns = df.columns.str.lower()"
      ],
      "execution_count": null,
      "outputs": []
    },
    {
      "cell_type": "markdown",
      "metadata": {
        "id": "T1UjaZT74ZhR"
      },
      "source": [
        "<b>Удалим строки, где пустые значения в столбце <i>'year_of_release'</i>, всего таких пустых значений около 1.6%. Если есть данные о них, а года релиза нет, возможно какая-то ошибка в системе или при заполннении данных.</b>"
      ]
    },
    {
      "cell_type": "code",
      "metadata": {
        "id": "u8-IEmQ74ZhR"
      },
      "source": [
        "df.dropna(subset = ['year_of_release'], inplace = True) "
      ],
      "execution_count": null,
      "outputs": []
    },
    {
      "cell_type": "code",
      "metadata": {
        "id": "kLyJTp6k4ZhR",
        "outputId": "27a119a0-e29d-42d3-8450-2cc89a661fca"
      },
      "source": [
        "display(df)"
      ],
      "execution_count": null,
      "outputs": [
        {
          "output_type": "display_data",
          "data": {
            "text/html": [
              "<div>\n",
              "<style scoped>\n",
              "    .dataframe tbody tr th:only-of-type {\n",
              "        vertical-align: middle;\n",
              "    }\n",
              "\n",
              "    .dataframe tbody tr th {\n",
              "        vertical-align: top;\n",
              "    }\n",
              "\n",
              "    .dataframe thead th {\n",
              "        text-align: right;\n",
              "    }\n",
              "</style>\n",
              "<table border=\"1\" class=\"dataframe\">\n",
              "  <thead>\n",
              "    <tr style=\"text-align: right;\">\n",
              "      <th></th>\n",
              "      <th>name</th>\n",
              "      <th>platform</th>\n",
              "      <th>year_of_release</th>\n",
              "      <th>genre</th>\n",
              "      <th>na_sales</th>\n",
              "      <th>eu_sales</th>\n",
              "      <th>jp_sales</th>\n",
              "      <th>other_sales</th>\n",
              "      <th>critic_score</th>\n",
              "      <th>user_score</th>\n",
              "      <th>rating</th>\n",
              "    </tr>\n",
              "  </thead>\n",
              "  <tbody>\n",
              "    <tr>\n",
              "      <td>0</td>\n",
              "      <td>Wii Sports</td>\n",
              "      <td>Wii</td>\n",
              "      <td>2006.00</td>\n",
              "      <td>Sports</td>\n",
              "      <td>41.36</td>\n",
              "      <td>28.96</td>\n",
              "      <td>3.77</td>\n",
              "      <td>8.45</td>\n",
              "      <td>76.00</td>\n",
              "      <td>8</td>\n",
              "      <td>E</td>\n",
              "    </tr>\n",
              "    <tr>\n",
              "      <td>1</td>\n",
              "      <td>Super Mario Bros.</td>\n",
              "      <td>NES</td>\n",
              "      <td>1985.00</td>\n",
              "      <td>Platform</td>\n",
              "      <td>29.08</td>\n",
              "      <td>3.58</td>\n",
              "      <td>6.81</td>\n",
              "      <td>0.77</td>\n",
              "      <td>nan</td>\n",
              "      <td>NaN</td>\n",
              "      <td>NaN</td>\n",
              "    </tr>\n",
              "    <tr>\n",
              "      <td>2</td>\n",
              "      <td>Mario Kart Wii</td>\n",
              "      <td>Wii</td>\n",
              "      <td>2008.00</td>\n",
              "      <td>Racing</td>\n",
              "      <td>15.68</td>\n",
              "      <td>12.76</td>\n",
              "      <td>3.79</td>\n",
              "      <td>3.29</td>\n",
              "      <td>82.00</td>\n",
              "      <td>8.3</td>\n",
              "      <td>E</td>\n",
              "    </tr>\n",
              "    <tr>\n",
              "      <td>3</td>\n",
              "      <td>Wii Sports Resort</td>\n",
              "      <td>Wii</td>\n",
              "      <td>2009.00</td>\n",
              "      <td>Sports</td>\n",
              "      <td>15.61</td>\n",
              "      <td>10.93</td>\n",
              "      <td>3.28</td>\n",
              "      <td>2.95</td>\n",
              "      <td>80.00</td>\n",
              "      <td>8</td>\n",
              "      <td>E</td>\n",
              "    </tr>\n",
              "    <tr>\n",
              "      <td>4</td>\n",
              "      <td>Pokemon Red/Pokemon Blue</td>\n",
              "      <td>GB</td>\n",
              "      <td>1996.00</td>\n",
              "      <td>Role-Playing</td>\n",
              "      <td>11.27</td>\n",
              "      <td>8.89</td>\n",
              "      <td>10.22</td>\n",
              "      <td>1.00</td>\n",
              "      <td>nan</td>\n",
              "      <td>NaN</td>\n",
              "      <td>NaN</td>\n",
              "    </tr>\n",
              "    <tr>\n",
              "      <td>...</td>\n",
              "      <td>...</td>\n",
              "      <td>...</td>\n",
              "      <td>...</td>\n",
              "      <td>...</td>\n",
              "      <td>...</td>\n",
              "      <td>...</td>\n",
              "      <td>...</td>\n",
              "      <td>...</td>\n",
              "      <td>...</td>\n",
              "      <td>...</td>\n",
              "      <td>...</td>\n",
              "    </tr>\n",
              "    <tr>\n",
              "      <td>16710</td>\n",
              "      <td>Samurai Warriors: Sanada Maru</td>\n",
              "      <td>PS3</td>\n",
              "      <td>2016.00</td>\n",
              "      <td>Action</td>\n",
              "      <td>0.00</td>\n",
              "      <td>0.00</td>\n",
              "      <td>0.01</td>\n",
              "      <td>0.00</td>\n",
              "      <td>nan</td>\n",
              "      <td>NaN</td>\n",
              "      <td>NaN</td>\n",
              "    </tr>\n",
              "    <tr>\n",
              "      <td>16711</td>\n",
              "      <td>LMA Manager 2007</td>\n",
              "      <td>X360</td>\n",
              "      <td>2006.00</td>\n",
              "      <td>Sports</td>\n",
              "      <td>0.00</td>\n",
              "      <td>0.01</td>\n",
              "      <td>0.00</td>\n",
              "      <td>0.00</td>\n",
              "      <td>nan</td>\n",
              "      <td>NaN</td>\n",
              "      <td>NaN</td>\n",
              "    </tr>\n",
              "    <tr>\n",
              "      <td>16712</td>\n",
              "      <td>Haitaka no Psychedelica</td>\n",
              "      <td>PSV</td>\n",
              "      <td>2016.00</td>\n",
              "      <td>Adventure</td>\n",
              "      <td>0.00</td>\n",
              "      <td>0.00</td>\n",
              "      <td>0.01</td>\n",
              "      <td>0.00</td>\n",
              "      <td>nan</td>\n",
              "      <td>NaN</td>\n",
              "      <td>NaN</td>\n",
              "    </tr>\n",
              "    <tr>\n",
              "      <td>16713</td>\n",
              "      <td>Spirits &amp; Spells</td>\n",
              "      <td>GBA</td>\n",
              "      <td>2003.00</td>\n",
              "      <td>Platform</td>\n",
              "      <td>0.01</td>\n",
              "      <td>0.00</td>\n",
              "      <td>0.00</td>\n",
              "      <td>0.00</td>\n",
              "      <td>nan</td>\n",
              "      <td>NaN</td>\n",
              "      <td>NaN</td>\n",
              "    </tr>\n",
              "    <tr>\n",
              "      <td>16714</td>\n",
              "      <td>Winning Post 8 2016</td>\n",
              "      <td>PSV</td>\n",
              "      <td>2016.00</td>\n",
              "      <td>Simulation</td>\n",
              "      <td>0.00</td>\n",
              "      <td>0.00</td>\n",
              "      <td>0.01</td>\n",
              "      <td>0.00</td>\n",
              "      <td>nan</td>\n",
              "      <td>NaN</td>\n",
              "      <td>NaN</td>\n",
              "    </tr>\n",
              "  </tbody>\n",
              "</table>\n",
              "<p>16446 rows × 11 columns</p>\n",
              "</div>"
            ],
            "text/plain": [
              "                                name platform  year_of_release         genre  \\\n",
              "0                         Wii Sports      Wii          2006.00        Sports   \n",
              "1                  Super Mario Bros.      NES          1985.00      Platform   \n",
              "2                     Mario Kart Wii      Wii          2008.00        Racing   \n",
              "3                  Wii Sports Resort      Wii          2009.00        Sports   \n",
              "4           Pokemon Red/Pokemon Blue       GB          1996.00  Role-Playing   \n",
              "...                              ...      ...              ...           ...   \n",
              "16710  Samurai Warriors: Sanada Maru      PS3          2016.00        Action   \n",
              "16711               LMA Manager 2007     X360          2006.00        Sports   \n",
              "16712        Haitaka no Psychedelica      PSV          2016.00     Adventure   \n",
              "16713               Spirits & Spells      GBA          2003.00      Platform   \n",
              "16714            Winning Post 8 2016      PSV          2016.00    Simulation   \n",
              "\n",
              "       na_sales  eu_sales  jp_sales  other_sales  critic_score user_score  \\\n",
              "0         41.36     28.96      3.77         8.45         76.00          8   \n",
              "1         29.08      3.58      6.81         0.77           nan        NaN   \n",
              "2         15.68     12.76      3.79         3.29         82.00        8.3   \n",
              "3         15.61     10.93      3.28         2.95         80.00          8   \n",
              "4         11.27      8.89     10.22         1.00           nan        NaN   \n",
              "...         ...       ...       ...          ...           ...        ...   \n",
              "16710      0.00      0.00      0.01         0.00           nan        NaN   \n",
              "16711      0.00      0.01      0.00         0.00           nan        NaN   \n",
              "16712      0.00      0.00      0.01         0.00           nan        NaN   \n",
              "16713      0.01      0.00      0.00         0.00           nan        NaN   \n",
              "16714      0.00      0.00      0.01         0.00           nan        NaN   \n",
              "\n",
              "      rating  \n",
              "0          E  \n",
              "1        NaN  \n",
              "2          E  \n",
              "3          E  \n",
              "4        NaN  \n",
              "...      ...  \n",
              "16710    NaN  \n",
              "16711    NaN  \n",
              "16712    NaN  \n",
              "16713    NaN  \n",
              "16714    NaN  \n",
              "\n",
              "[16446 rows x 11 columns]"
            ]
          },
          "metadata": {
            "tags": []
          }
        }
      ]
    },
    {
      "cell_type": "markdown",
      "metadata": {
        "id": "AeIV4EaE4ZhS"
      },
      "source": [
        "<b>Приведем <i>'year_of_release'</i> просто к int, так как там значения целочисленные</b>"
      ]
    },
    {
      "cell_type": "code",
      "metadata": {
        "id": "Ho3EBXx54ZhS"
      },
      "source": [
        "df['year_of_release'] = df['year_of_release'].astype('int')"
      ],
      "execution_count": null,
      "outputs": []
    },
    {
      "cell_type": "markdown",
      "metadata": {
        "id": "6AsN8zlA4ZhT"
      },
      "source": [
        "<b>Заменим значение 'tbd' на 'NaN', так как на момент выгрузки данных рейтинг либо не пересчитался, либо произошла ошибка.</b>"
      ]
    },
    {
      "cell_type": "code",
      "metadata": {
        "id": "EtgjHN064ZhT",
        "outputId": "a82c627d-0998-4530-e5ff-74c3f048fef4"
      },
      "source": [
        "df[df['user_score'] == 'tbd']['user_score'].count()"
      ],
      "execution_count": null,
      "outputs": [
        {
          "output_type": "execute_result",
          "data": {
            "text/plain": [
              "2376"
            ]
          },
          "metadata": {
            "tags": []
          },
          "execution_count": 14
        }
      ]
    },
    {
      "cell_type": "code",
      "metadata": {
        "id": "lBo4KsRB4ZhU",
        "outputId": "20112af3-a3c1-4e20-8131-8f361e3ebd52"
      },
      "source": [
        "df[df['critic_score'] == 'tbd']['critic_score'].count()"
      ],
      "execution_count": null,
      "outputs": [
        {
          "output_type": "execute_result",
          "data": {
            "text/plain": [
              "0"
            ]
          },
          "metadata": {
            "tags": []
          },
          "execution_count": 15
        }
      ]
    },
    {
      "cell_type": "code",
      "metadata": {
        "id": "7GDaN4gD4ZhV",
        "outputId": "215744c0-1114-43cc-a2a8-ff4594c74a69"
      },
      "source": [
        "df[df['rating'] == 'tbd']['rating'].count()"
      ],
      "execution_count": null,
      "outputs": [
        {
          "output_type": "execute_result",
          "data": {
            "text/plain": [
              "0"
            ]
          },
          "metadata": {
            "tags": []
          },
          "execution_count": 16
        }
      ]
    },
    {
      "cell_type": "code",
      "metadata": {
        "id": "oqDm9HCg4ZhV"
      },
      "source": [
        "df.loc[df['user_score'] == 'tbd', 'user_score'] = 'NaN'"
      ],
      "execution_count": null,
      "outputs": []
    },
    {
      "cell_type": "code",
      "metadata": {
        "id": "YKWu2pJZ4ZhV"
      },
      "source": [
        "df['user_score'] = df['user_score'].astype('float')"
      ],
      "execution_count": null,
      "outputs": []
    },
    {
      "cell_type": "code",
      "metadata": {
        "id": "IKWGn-hl4ZhV",
        "outputId": "678cf63d-52a0-4e5d-b5f7-e4d297c9d7a9"
      },
      "source": [
        "df.info()"
      ],
      "execution_count": null,
      "outputs": [
        {
          "output_type": "stream",
          "text": [
            "<class 'pandas.core.frame.DataFrame'>\n",
            "Int64Index: 16446 entries, 0 to 16714\n",
            "Data columns (total 11 columns):\n",
            "name               16444 non-null object\n",
            "platform           16446 non-null object\n",
            "year_of_release    16446 non-null int64\n",
            "genre              16444 non-null object\n",
            "na_sales           16446 non-null float64\n",
            "eu_sales           16446 non-null float64\n",
            "jp_sales           16446 non-null float64\n",
            "other_sales        16446 non-null float64\n",
            "critic_score       7983 non-null float64\n",
            "user_score         7463 non-null float64\n",
            "rating             9768 non-null object\n",
            "dtypes: float64(6), int64(1), object(4)\n",
            "memory usage: 1.5+ MB\n"
          ],
          "name": "stdout"
        }
      ]
    },
    {
      "cell_type": "markdown",
      "metadata": {
        "id": "U-ZRVll04ZhW"
      },
      "source": [
        "<b>Имеются пропуски в столбце названии игр и в жанре. Названия трогать не будем, пусть останется пустым, не повлияет на дальнейшие исследования. Что касается жанра, заменим пустые значения на 'No genre' - жанр не определен.</b>"
      ]
    },
    {
      "cell_type": "code",
      "metadata": {
        "id": "9NPTNPeo4ZhW"
      },
      "source": [
        "df['genre'] = df['genre'].fillna('No genre')"
      ],
      "execution_count": null,
      "outputs": []
    },
    {
      "cell_type": "code",
      "metadata": {
        "id": "XfH3aCCP4ZhW",
        "outputId": "639a60b7-ae3c-4361-ba28-2642d7698921"
      },
      "source": [
        "df.isnull().sum()*100 / len(df)"
      ],
      "execution_count": null,
      "outputs": [
        {
          "output_type": "execute_result",
          "data": {
            "text/plain": [
              "name               0.01\n",
              "platform           0.00\n",
              "year_of_release    0.00\n",
              "genre              0.00\n",
              "na_sales           0.00\n",
              "eu_sales           0.00\n",
              "jp_sales           0.00\n",
              "other_sales        0.00\n",
              "critic_score      51.46\n",
              "user_score        54.62\n",
              "rating            40.61\n",
              "dtype: float64"
            ]
          },
          "metadata": {
            "tags": []
          },
          "execution_count": 21
        }
      ]
    },
    {
      "cell_type": "code",
      "metadata": {
        "id": "3F8fTaE64ZhW",
        "outputId": "dcc99e8d-0575-493e-b093-32c8df1e08a5"
      },
      "source": [
        "display(df)"
      ],
      "execution_count": null,
      "outputs": [
        {
          "output_type": "display_data",
          "data": {
            "text/html": [
              "<div>\n",
              "<style scoped>\n",
              "    .dataframe tbody tr th:only-of-type {\n",
              "        vertical-align: middle;\n",
              "    }\n",
              "\n",
              "    .dataframe tbody tr th {\n",
              "        vertical-align: top;\n",
              "    }\n",
              "\n",
              "    .dataframe thead th {\n",
              "        text-align: right;\n",
              "    }\n",
              "</style>\n",
              "<table border=\"1\" class=\"dataframe\">\n",
              "  <thead>\n",
              "    <tr style=\"text-align: right;\">\n",
              "      <th></th>\n",
              "      <th>name</th>\n",
              "      <th>platform</th>\n",
              "      <th>year_of_release</th>\n",
              "      <th>genre</th>\n",
              "      <th>na_sales</th>\n",
              "      <th>eu_sales</th>\n",
              "      <th>jp_sales</th>\n",
              "      <th>other_sales</th>\n",
              "      <th>critic_score</th>\n",
              "      <th>user_score</th>\n",
              "      <th>rating</th>\n",
              "    </tr>\n",
              "  </thead>\n",
              "  <tbody>\n",
              "    <tr>\n",
              "      <td>0</td>\n",
              "      <td>Wii Sports</td>\n",
              "      <td>Wii</td>\n",
              "      <td>2006</td>\n",
              "      <td>Sports</td>\n",
              "      <td>41.36</td>\n",
              "      <td>28.96</td>\n",
              "      <td>3.77</td>\n",
              "      <td>8.45</td>\n",
              "      <td>76.00</td>\n",
              "      <td>8.00</td>\n",
              "      <td>E</td>\n",
              "    </tr>\n",
              "    <tr>\n",
              "      <td>1</td>\n",
              "      <td>Super Mario Bros.</td>\n",
              "      <td>NES</td>\n",
              "      <td>1985</td>\n",
              "      <td>Platform</td>\n",
              "      <td>29.08</td>\n",
              "      <td>3.58</td>\n",
              "      <td>6.81</td>\n",
              "      <td>0.77</td>\n",
              "      <td>nan</td>\n",
              "      <td>nan</td>\n",
              "      <td>NaN</td>\n",
              "    </tr>\n",
              "    <tr>\n",
              "      <td>2</td>\n",
              "      <td>Mario Kart Wii</td>\n",
              "      <td>Wii</td>\n",
              "      <td>2008</td>\n",
              "      <td>Racing</td>\n",
              "      <td>15.68</td>\n",
              "      <td>12.76</td>\n",
              "      <td>3.79</td>\n",
              "      <td>3.29</td>\n",
              "      <td>82.00</td>\n",
              "      <td>8.30</td>\n",
              "      <td>E</td>\n",
              "    </tr>\n",
              "    <tr>\n",
              "      <td>3</td>\n",
              "      <td>Wii Sports Resort</td>\n",
              "      <td>Wii</td>\n",
              "      <td>2009</td>\n",
              "      <td>Sports</td>\n",
              "      <td>15.61</td>\n",
              "      <td>10.93</td>\n",
              "      <td>3.28</td>\n",
              "      <td>2.95</td>\n",
              "      <td>80.00</td>\n",
              "      <td>8.00</td>\n",
              "      <td>E</td>\n",
              "    </tr>\n",
              "    <tr>\n",
              "      <td>4</td>\n",
              "      <td>Pokemon Red/Pokemon Blue</td>\n",
              "      <td>GB</td>\n",
              "      <td>1996</td>\n",
              "      <td>Role-Playing</td>\n",
              "      <td>11.27</td>\n",
              "      <td>8.89</td>\n",
              "      <td>10.22</td>\n",
              "      <td>1.00</td>\n",
              "      <td>nan</td>\n",
              "      <td>nan</td>\n",
              "      <td>NaN</td>\n",
              "    </tr>\n",
              "    <tr>\n",
              "      <td>...</td>\n",
              "      <td>...</td>\n",
              "      <td>...</td>\n",
              "      <td>...</td>\n",
              "      <td>...</td>\n",
              "      <td>...</td>\n",
              "      <td>...</td>\n",
              "      <td>...</td>\n",
              "      <td>...</td>\n",
              "      <td>...</td>\n",
              "      <td>...</td>\n",
              "      <td>...</td>\n",
              "    </tr>\n",
              "    <tr>\n",
              "      <td>16710</td>\n",
              "      <td>Samurai Warriors: Sanada Maru</td>\n",
              "      <td>PS3</td>\n",
              "      <td>2016</td>\n",
              "      <td>Action</td>\n",
              "      <td>0.00</td>\n",
              "      <td>0.00</td>\n",
              "      <td>0.01</td>\n",
              "      <td>0.00</td>\n",
              "      <td>nan</td>\n",
              "      <td>nan</td>\n",
              "      <td>NaN</td>\n",
              "    </tr>\n",
              "    <tr>\n",
              "      <td>16711</td>\n",
              "      <td>LMA Manager 2007</td>\n",
              "      <td>X360</td>\n",
              "      <td>2006</td>\n",
              "      <td>Sports</td>\n",
              "      <td>0.00</td>\n",
              "      <td>0.01</td>\n",
              "      <td>0.00</td>\n",
              "      <td>0.00</td>\n",
              "      <td>nan</td>\n",
              "      <td>nan</td>\n",
              "      <td>NaN</td>\n",
              "    </tr>\n",
              "    <tr>\n",
              "      <td>16712</td>\n",
              "      <td>Haitaka no Psychedelica</td>\n",
              "      <td>PSV</td>\n",
              "      <td>2016</td>\n",
              "      <td>Adventure</td>\n",
              "      <td>0.00</td>\n",
              "      <td>0.00</td>\n",
              "      <td>0.01</td>\n",
              "      <td>0.00</td>\n",
              "      <td>nan</td>\n",
              "      <td>nan</td>\n",
              "      <td>NaN</td>\n",
              "    </tr>\n",
              "    <tr>\n",
              "      <td>16713</td>\n",
              "      <td>Spirits &amp; Spells</td>\n",
              "      <td>GBA</td>\n",
              "      <td>2003</td>\n",
              "      <td>Platform</td>\n",
              "      <td>0.01</td>\n",
              "      <td>0.00</td>\n",
              "      <td>0.00</td>\n",
              "      <td>0.00</td>\n",
              "      <td>nan</td>\n",
              "      <td>nan</td>\n",
              "      <td>NaN</td>\n",
              "    </tr>\n",
              "    <tr>\n",
              "      <td>16714</td>\n",
              "      <td>Winning Post 8 2016</td>\n",
              "      <td>PSV</td>\n",
              "      <td>2016</td>\n",
              "      <td>Simulation</td>\n",
              "      <td>0.00</td>\n",
              "      <td>0.00</td>\n",
              "      <td>0.01</td>\n",
              "      <td>0.00</td>\n",
              "      <td>nan</td>\n",
              "      <td>nan</td>\n",
              "      <td>NaN</td>\n",
              "    </tr>\n",
              "  </tbody>\n",
              "</table>\n",
              "<p>16446 rows × 11 columns</p>\n",
              "</div>"
            ],
            "text/plain": [
              "                                name platform  year_of_release         genre  \\\n",
              "0                         Wii Sports      Wii             2006        Sports   \n",
              "1                  Super Mario Bros.      NES             1985      Platform   \n",
              "2                     Mario Kart Wii      Wii             2008        Racing   \n",
              "3                  Wii Sports Resort      Wii             2009        Sports   \n",
              "4           Pokemon Red/Pokemon Blue       GB             1996  Role-Playing   \n",
              "...                              ...      ...              ...           ...   \n",
              "16710  Samurai Warriors: Sanada Maru      PS3             2016        Action   \n",
              "16711               LMA Manager 2007     X360             2006        Sports   \n",
              "16712        Haitaka no Psychedelica      PSV             2016     Adventure   \n",
              "16713               Spirits & Spells      GBA             2003      Platform   \n",
              "16714            Winning Post 8 2016      PSV             2016    Simulation   \n",
              "\n",
              "       na_sales  eu_sales  jp_sales  other_sales  critic_score  user_score  \\\n",
              "0         41.36     28.96      3.77         8.45         76.00        8.00   \n",
              "1         29.08      3.58      6.81         0.77           nan         nan   \n",
              "2         15.68     12.76      3.79         3.29         82.00        8.30   \n",
              "3         15.61     10.93      3.28         2.95         80.00        8.00   \n",
              "4         11.27      8.89     10.22         1.00           nan         nan   \n",
              "...         ...       ...       ...          ...           ...         ...   \n",
              "16710      0.00      0.00      0.01         0.00           nan         nan   \n",
              "16711      0.00      0.01      0.00         0.00           nan         nan   \n",
              "16712      0.00      0.00      0.01         0.00           nan         nan   \n",
              "16713      0.01      0.00      0.00         0.00           nan         nan   \n",
              "16714      0.00      0.00      0.01         0.00           nan         nan   \n",
              "\n",
              "      rating  \n",
              "0          E  \n",
              "1        NaN  \n",
              "2          E  \n",
              "3          E  \n",
              "4        NaN  \n",
              "...      ...  \n",
              "16710    NaN  \n",
              "16711    NaN  \n",
              "16712    NaN  \n",
              "16713    NaN  \n",
              "16714    NaN  \n",
              "\n",
              "[16446 rows x 11 columns]"
            ]
          },
          "metadata": {
            "tags": []
          }
        }
      ]
    },
    {
      "cell_type": "markdown",
      "metadata": {
        "id": "LFZsi3qM4ZhX"
      },
      "source": [
        "<b>В столбце <i>'rating'</i> также присутствуют пустые значения, возможно огнанизация ESRB пока не определила рейтинг для данных игр. Заменим их на RP.\n",
        "<ul style=\"border:solid black 2px; padding: 20px\">\n",
        "    <li>E - для всех</li>\n",
        "    <li>М - от 17</li>\n",
        "    <li>T - от 13 лет</li>\n",
        "    <li>Е10+ - от 10 лет</li>\n",
        "    <li>ЕС - от 3 лет</li>\n",
        "    <li>RP - ожидается</li>\n",
        "    <li>AO - только 18+</li>\n",
        "</ul>\n",
        "    Зашел на сайт ESRB, теперь понял, что означают данные буквы.</b>"
      ]
    },
    {
      "cell_type": "code",
      "metadata": {
        "id": "6sXqdOmD4ZhX"
      },
      "source": [
        "df['rating'] = df['rating'].fillna('RP')"
      ],
      "execution_count": null,
      "outputs": []
    },
    {
      "cell_type": "code",
      "metadata": {
        "id": "x4zTExZC4ZhY",
        "outputId": "133072ac-e5bf-4b73-b743-eaab659961bf"
      },
      "source": [
        "df['rating'].value_counts()"
      ],
      "execution_count": null,
      "outputs": [
        {
          "output_type": "execute_result",
          "data": {
            "text/plain": [
              "RP      6679\n",
              "E       3921\n",
              "T       2905\n",
              "M       1536\n",
              "E10+    1393\n",
              "EC         8\n",
              "K-A        3\n",
              "AO         1\n",
              "Name: rating, dtype: int64"
            ]
          },
          "metadata": {
            "tags": []
          },
          "execution_count": 24
        }
      ]
    },
    {
      "cell_type": "code",
      "metadata": {
        "id": "NX8cJeIm4ZhY",
        "outputId": "274fdaae-81d0-4aa7-f492-b77561f193ae"
      },
      "source": [
        "display(df)"
      ],
      "execution_count": null,
      "outputs": [
        {
          "output_type": "display_data",
          "data": {
            "text/html": [
              "<div>\n",
              "<style scoped>\n",
              "    .dataframe tbody tr th:only-of-type {\n",
              "        vertical-align: middle;\n",
              "    }\n",
              "\n",
              "    .dataframe tbody tr th {\n",
              "        vertical-align: top;\n",
              "    }\n",
              "\n",
              "    .dataframe thead th {\n",
              "        text-align: right;\n",
              "    }\n",
              "</style>\n",
              "<table border=\"1\" class=\"dataframe\">\n",
              "  <thead>\n",
              "    <tr style=\"text-align: right;\">\n",
              "      <th></th>\n",
              "      <th>name</th>\n",
              "      <th>platform</th>\n",
              "      <th>year_of_release</th>\n",
              "      <th>genre</th>\n",
              "      <th>na_sales</th>\n",
              "      <th>eu_sales</th>\n",
              "      <th>jp_sales</th>\n",
              "      <th>other_sales</th>\n",
              "      <th>critic_score</th>\n",
              "      <th>user_score</th>\n",
              "      <th>rating</th>\n",
              "    </tr>\n",
              "  </thead>\n",
              "  <tbody>\n",
              "    <tr>\n",
              "      <td>0</td>\n",
              "      <td>Wii Sports</td>\n",
              "      <td>Wii</td>\n",
              "      <td>2006</td>\n",
              "      <td>Sports</td>\n",
              "      <td>41.36</td>\n",
              "      <td>28.96</td>\n",
              "      <td>3.77</td>\n",
              "      <td>8.45</td>\n",
              "      <td>76.00</td>\n",
              "      <td>8.00</td>\n",
              "      <td>E</td>\n",
              "    </tr>\n",
              "    <tr>\n",
              "      <td>1</td>\n",
              "      <td>Super Mario Bros.</td>\n",
              "      <td>NES</td>\n",
              "      <td>1985</td>\n",
              "      <td>Platform</td>\n",
              "      <td>29.08</td>\n",
              "      <td>3.58</td>\n",
              "      <td>6.81</td>\n",
              "      <td>0.77</td>\n",
              "      <td>nan</td>\n",
              "      <td>nan</td>\n",
              "      <td>RP</td>\n",
              "    </tr>\n",
              "    <tr>\n",
              "      <td>2</td>\n",
              "      <td>Mario Kart Wii</td>\n",
              "      <td>Wii</td>\n",
              "      <td>2008</td>\n",
              "      <td>Racing</td>\n",
              "      <td>15.68</td>\n",
              "      <td>12.76</td>\n",
              "      <td>3.79</td>\n",
              "      <td>3.29</td>\n",
              "      <td>82.00</td>\n",
              "      <td>8.30</td>\n",
              "      <td>E</td>\n",
              "    </tr>\n",
              "    <tr>\n",
              "      <td>3</td>\n",
              "      <td>Wii Sports Resort</td>\n",
              "      <td>Wii</td>\n",
              "      <td>2009</td>\n",
              "      <td>Sports</td>\n",
              "      <td>15.61</td>\n",
              "      <td>10.93</td>\n",
              "      <td>3.28</td>\n",
              "      <td>2.95</td>\n",
              "      <td>80.00</td>\n",
              "      <td>8.00</td>\n",
              "      <td>E</td>\n",
              "    </tr>\n",
              "    <tr>\n",
              "      <td>4</td>\n",
              "      <td>Pokemon Red/Pokemon Blue</td>\n",
              "      <td>GB</td>\n",
              "      <td>1996</td>\n",
              "      <td>Role-Playing</td>\n",
              "      <td>11.27</td>\n",
              "      <td>8.89</td>\n",
              "      <td>10.22</td>\n",
              "      <td>1.00</td>\n",
              "      <td>nan</td>\n",
              "      <td>nan</td>\n",
              "      <td>RP</td>\n",
              "    </tr>\n",
              "    <tr>\n",
              "      <td>...</td>\n",
              "      <td>...</td>\n",
              "      <td>...</td>\n",
              "      <td>...</td>\n",
              "      <td>...</td>\n",
              "      <td>...</td>\n",
              "      <td>...</td>\n",
              "      <td>...</td>\n",
              "      <td>...</td>\n",
              "      <td>...</td>\n",
              "      <td>...</td>\n",
              "      <td>...</td>\n",
              "    </tr>\n",
              "    <tr>\n",
              "      <td>16710</td>\n",
              "      <td>Samurai Warriors: Sanada Maru</td>\n",
              "      <td>PS3</td>\n",
              "      <td>2016</td>\n",
              "      <td>Action</td>\n",
              "      <td>0.00</td>\n",
              "      <td>0.00</td>\n",
              "      <td>0.01</td>\n",
              "      <td>0.00</td>\n",
              "      <td>nan</td>\n",
              "      <td>nan</td>\n",
              "      <td>RP</td>\n",
              "    </tr>\n",
              "    <tr>\n",
              "      <td>16711</td>\n",
              "      <td>LMA Manager 2007</td>\n",
              "      <td>X360</td>\n",
              "      <td>2006</td>\n",
              "      <td>Sports</td>\n",
              "      <td>0.00</td>\n",
              "      <td>0.01</td>\n",
              "      <td>0.00</td>\n",
              "      <td>0.00</td>\n",
              "      <td>nan</td>\n",
              "      <td>nan</td>\n",
              "      <td>RP</td>\n",
              "    </tr>\n",
              "    <tr>\n",
              "      <td>16712</td>\n",
              "      <td>Haitaka no Psychedelica</td>\n",
              "      <td>PSV</td>\n",
              "      <td>2016</td>\n",
              "      <td>Adventure</td>\n",
              "      <td>0.00</td>\n",
              "      <td>0.00</td>\n",
              "      <td>0.01</td>\n",
              "      <td>0.00</td>\n",
              "      <td>nan</td>\n",
              "      <td>nan</td>\n",
              "      <td>RP</td>\n",
              "    </tr>\n",
              "    <tr>\n",
              "      <td>16713</td>\n",
              "      <td>Spirits &amp; Spells</td>\n",
              "      <td>GBA</td>\n",
              "      <td>2003</td>\n",
              "      <td>Platform</td>\n",
              "      <td>0.01</td>\n",
              "      <td>0.00</td>\n",
              "      <td>0.00</td>\n",
              "      <td>0.00</td>\n",
              "      <td>nan</td>\n",
              "      <td>nan</td>\n",
              "      <td>RP</td>\n",
              "    </tr>\n",
              "    <tr>\n",
              "      <td>16714</td>\n",
              "      <td>Winning Post 8 2016</td>\n",
              "      <td>PSV</td>\n",
              "      <td>2016</td>\n",
              "      <td>Simulation</td>\n",
              "      <td>0.00</td>\n",
              "      <td>0.00</td>\n",
              "      <td>0.01</td>\n",
              "      <td>0.00</td>\n",
              "      <td>nan</td>\n",
              "      <td>nan</td>\n",
              "      <td>RP</td>\n",
              "    </tr>\n",
              "  </tbody>\n",
              "</table>\n",
              "<p>16446 rows × 11 columns</p>\n",
              "</div>"
            ],
            "text/plain": [
              "                                name platform  year_of_release         genre  \\\n",
              "0                         Wii Sports      Wii             2006        Sports   \n",
              "1                  Super Mario Bros.      NES             1985      Platform   \n",
              "2                     Mario Kart Wii      Wii             2008        Racing   \n",
              "3                  Wii Sports Resort      Wii             2009        Sports   \n",
              "4           Pokemon Red/Pokemon Blue       GB             1996  Role-Playing   \n",
              "...                              ...      ...              ...           ...   \n",
              "16710  Samurai Warriors: Sanada Maru      PS3             2016        Action   \n",
              "16711               LMA Manager 2007     X360             2006        Sports   \n",
              "16712        Haitaka no Psychedelica      PSV             2016     Adventure   \n",
              "16713               Spirits & Spells      GBA             2003      Platform   \n",
              "16714            Winning Post 8 2016      PSV             2016    Simulation   \n",
              "\n",
              "       na_sales  eu_sales  jp_sales  other_sales  critic_score  user_score  \\\n",
              "0         41.36     28.96      3.77         8.45         76.00        8.00   \n",
              "1         29.08      3.58      6.81         0.77           nan         nan   \n",
              "2         15.68     12.76      3.79         3.29         82.00        8.30   \n",
              "3         15.61     10.93      3.28         2.95         80.00        8.00   \n",
              "4         11.27      8.89     10.22         1.00           nan         nan   \n",
              "...         ...       ...       ...          ...           ...         ...   \n",
              "16710      0.00      0.00      0.01         0.00           nan         nan   \n",
              "16711      0.00      0.01      0.00         0.00           nan         nan   \n",
              "16712      0.00      0.00      0.01         0.00           nan         nan   \n",
              "16713      0.01      0.00      0.00         0.00           nan         nan   \n",
              "16714      0.00      0.00      0.01         0.00           nan         nan   \n",
              "\n",
              "      rating  \n",
              "0          E  \n",
              "1         RP  \n",
              "2          E  \n",
              "3          E  \n",
              "4         RP  \n",
              "...      ...  \n",
              "16710     RP  \n",
              "16711     RP  \n",
              "16712     RP  \n",
              "16713     RP  \n",
              "16714     RP  \n",
              "\n",
              "[16446 rows x 11 columns]"
            ]
          },
          "metadata": {
            "tags": []
          }
        }
      ]
    },
    {
      "cell_type": "markdown",
      "metadata": {
        "id": "rc4c-c4u4ZhY"
      },
      "source": [
        "<b>Посмотрим нет ли совпадающих названий, но с разными регистрами.</b>"
      ]
    },
    {
      "cell_type": "code",
      "metadata": {
        "id": "LjzdLcnN4ZhZ",
        "outputId": "8d011641-3e7e-4f1e-bb6c-31f35545603f"
      },
      "source": [
        "df['genre'].value_counts()"
      ],
      "execution_count": null,
      "outputs": [
        {
          "output_type": "execute_result",
          "data": {
            "text/plain": [
              "Action          3307\n",
              "Sports          2306\n",
              "Misc            1721\n",
              "Role-Playing    1481\n",
              "Shooter         1296\n",
              "Adventure       1293\n",
              "Racing          1226\n",
              "Platform         878\n",
              "Simulation       857\n",
              "Fighting         837\n",
              "Strategy         673\n",
              "Puzzle           569\n",
              "No genre           2\n",
              "Name: genre, dtype: int64"
            ]
          },
          "metadata": {
            "tags": []
          },
          "execution_count": 26
        }
      ]
    },
    {
      "cell_type": "code",
      "metadata": {
        "id": "2L3vUXtW4ZhZ",
        "outputId": "766942a0-27af-46bc-cf51-382e989bde77"
      },
      "source": [
        "df['platform'].value_counts()"
      ],
      "execution_count": null,
      "outputs": [
        {
          "output_type": "execute_result",
          "data": {
            "text/plain": [
              "PS2     2127\n",
              "DS      2121\n",
              "PS3     1306\n",
              "Wii     1286\n",
              "X360    1232\n",
              "PSP     1193\n",
              "PS      1190\n",
              "PC       957\n",
              "GBA      811\n",
              "XB       803\n",
              "GC       542\n",
              "3DS      512\n",
              "PSV      429\n",
              "PS4      392\n",
              "N64      316\n",
              "XOne     247\n",
              "SNES     239\n",
              "SAT      173\n",
              "WiiU     147\n",
              "2600     116\n",
              "NES       98\n",
              "GB        97\n",
              "DC        52\n",
              "GEN       29\n",
              "NG        12\n",
              "SCD        6\n",
              "WS         6\n",
              "3DO        3\n",
              "TG16       2\n",
              "PCFX       1\n",
              "GG         1\n",
              "Name: platform, dtype: int64"
            ]
          },
          "metadata": {
            "tags": []
          },
          "execution_count": 27
        }
      ]
    },
    {
      "cell_type": "markdown",
      "metadata": {
        "id": "55kY0kx64Zha"
      },
      "source": [
        "<ul style=\"border:solid black 2px; padding: 20px\">\n",
        "    <li>Посчитаем суммарные продажи во всех регионах и запишем их в отдельный столбец.</li>\n",
        "</ul> "
      ]
    },
    {
      "cell_type": "code",
      "metadata": {
        "id": "_g6SpveK4Zha"
      },
      "source": [
        "df['total_sales'] = df['na_sales'] + df['eu_sales'] + df['jp_sales'] + df['other_sales']"
      ],
      "execution_count": null,
      "outputs": []
    },
    {
      "cell_type": "code",
      "metadata": {
        "id": "5TZcZ4HN4Zha",
        "outputId": "b5bb6522-7621-4eef-fdf3-9ecae501adf0"
      },
      "source": [
        "display(df)"
      ],
      "execution_count": null,
      "outputs": [
        {
          "output_type": "display_data",
          "data": {
            "text/html": [
              "<div>\n",
              "<style scoped>\n",
              "    .dataframe tbody tr th:only-of-type {\n",
              "        vertical-align: middle;\n",
              "    }\n",
              "\n",
              "    .dataframe tbody tr th {\n",
              "        vertical-align: top;\n",
              "    }\n",
              "\n",
              "    .dataframe thead th {\n",
              "        text-align: right;\n",
              "    }\n",
              "</style>\n",
              "<table border=\"1\" class=\"dataframe\">\n",
              "  <thead>\n",
              "    <tr style=\"text-align: right;\">\n",
              "      <th></th>\n",
              "      <th>name</th>\n",
              "      <th>platform</th>\n",
              "      <th>year_of_release</th>\n",
              "      <th>genre</th>\n",
              "      <th>na_sales</th>\n",
              "      <th>eu_sales</th>\n",
              "      <th>jp_sales</th>\n",
              "      <th>other_sales</th>\n",
              "      <th>critic_score</th>\n",
              "      <th>user_score</th>\n",
              "      <th>rating</th>\n",
              "      <th>total_sales</th>\n",
              "    </tr>\n",
              "  </thead>\n",
              "  <tbody>\n",
              "    <tr>\n",
              "      <td>0</td>\n",
              "      <td>Wii Sports</td>\n",
              "      <td>Wii</td>\n",
              "      <td>2006</td>\n",
              "      <td>Sports</td>\n",
              "      <td>41.36</td>\n",
              "      <td>28.96</td>\n",
              "      <td>3.77</td>\n",
              "      <td>8.45</td>\n",
              "      <td>76.00</td>\n",
              "      <td>8.00</td>\n",
              "      <td>E</td>\n",
              "      <td>82.54</td>\n",
              "    </tr>\n",
              "    <tr>\n",
              "      <td>1</td>\n",
              "      <td>Super Mario Bros.</td>\n",
              "      <td>NES</td>\n",
              "      <td>1985</td>\n",
              "      <td>Platform</td>\n",
              "      <td>29.08</td>\n",
              "      <td>3.58</td>\n",
              "      <td>6.81</td>\n",
              "      <td>0.77</td>\n",
              "      <td>nan</td>\n",
              "      <td>nan</td>\n",
              "      <td>RP</td>\n",
              "      <td>40.24</td>\n",
              "    </tr>\n",
              "    <tr>\n",
              "      <td>2</td>\n",
              "      <td>Mario Kart Wii</td>\n",
              "      <td>Wii</td>\n",
              "      <td>2008</td>\n",
              "      <td>Racing</td>\n",
              "      <td>15.68</td>\n",
              "      <td>12.76</td>\n",
              "      <td>3.79</td>\n",
              "      <td>3.29</td>\n",
              "      <td>82.00</td>\n",
              "      <td>8.30</td>\n",
              "      <td>E</td>\n",
              "      <td>35.52</td>\n",
              "    </tr>\n",
              "    <tr>\n",
              "      <td>3</td>\n",
              "      <td>Wii Sports Resort</td>\n",
              "      <td>Wii</td>\n",
              "      <td>2009</td>\n",
              "      <td>Sports</td>\n",
              "      <td>15.61</td>\n",
              "      <td>10.93</td>\n",
              "      <td>3.28</td>\n",
              "      <td>2.95</td>\n",
              "      <td>80.00</td>\n",
              "      <td>8.00</td>\n",
              "      <td>E</td>\n",
              "      <td>32.77</td>\n",
              "    </tr>\n",
              "    <tr>\n",
              "      <td>4</td>\n",
              "      <td>Pokemon Red/Pokemon Blue</td>\n",
              "      <td>GB</td>\n",
              "      <td>1996</td>\n",
              "      <td>Role-Playing</td>\n",
              "      <td>11.27</td>\n",
              "      <td>8.89</td>\n",
              "      <td>10.22</td>\n",
              "      <td>1.00</td>\n",
              "      <td>nan</td>\n",
              "      <td>nan</td>\n",
              "      <td>RP</td>\n",
              "      <td>31.38</td>\n",
              "    </tr>\n",
              "    <tr>\n",
              "      <td>...</td>\n",
              "      <td>...</td>\n",
              "      <td>...</td>\n",
              "      <td>...</td>\n",
              "      <td>...</td>\n",
              "      <td>...</td>\n",
              "      <td>...</td>\n",
              "      <td>...</td>\n",
              "      <td>...</td>\n",
              "      <td>...</td>\n",
              "      <td>...</td>\n",
              "      <td>...</td>\n",
              "      <td>...</td>\n",
              "    </tr>\n",
              "    <tr>\n",
              "      <td>16710</td>\n",
              "      <td>Samurai Warriors: Sanada Maru</td>\n",
              "      <td>PS3</td>\n",
              "      <td>2016</td>\n",
              "      <td>Action</td>\n",
              "      <td>0.00</td>\n",
              "      <td>0.00</td>\n",
              "      <td>0.01</td>\n",
              "      <td>0.00</td>\n",
              "      <td>nan</td>\n",
              "      <td>nan</td>\n",
              "      <td>RP</td>\n",
              "      <td>0.01</td>\n",
              "    </tr>\n",
              "    <tr>\n",
              "      <td>16711</td>\n",
              "      <td>LMA Manager 2007</td>\n",
              "      <td>X360</td>\n",
              "      <td>2006</td>\n",
              "      <td>Sports</td>\n",
              "      <td>0.00</td>\n",
              "      <td>0.01</td>\n",
              "      <td>0.00</td>\n",
              "      <td>0.00</td>\n",
              "      <td>nan</td>\n",
              "      <td>nan</td>\n",
              "      <td>RP</td>\n",
              "      <td>0.01</td>\n",
              "    </tr>\n",
              "    <tr>\n",
              "      <td>16712</td>\n",
              "      <td>Haitaka no Psychedelica</td>\n",
              "      <td>PSV</td>\n",
              "      <td>2016</td>\n",
              "      <td>Adventure</td>\n",
              "      <td>0.00</td>\n",
              "      <td>0.00</td>\n",
              "      <td>0.01</td>\n",
              "      <td>0.00</td>\n",
              "      <td>nan</td>\n",
              "      <td>nan</td>\n",
              "      <td>RP</td>\n",
              "      <td>0.01</td>\n",
              "    </tr>\n",
              "    <tr>\n",
              "      <td>16713</td>\n",
              "      <td>Spirits &amp; Spells</td>\n",
              "      <td>GBA</td>\n",
              "      <td>2003</td>\n",
              "      <td>Platform</td>\n",
              "      <td>0.01</td>\n",
              "      <td>0.00</td>\n",
              "      <td>0.00</td>\n",
              "      <td>0.00</td>\n",
              "      <td>nan</td>\n",
              "      <td>nan</td>\n",
              "      <td>RP</td>\n",
              "      <td>0.01</td>\n",
              "    </tr>\n",
              "    <tr>\n",
              "      <td>16714</td>\n",
              "      <td>Winning Post 8 2016</td>\n",
              "      <td>PSV</td>\n",
              "      <td>2016</td>\n",
              "      <td>Simulation</td>\n",
              "      <td>0.00</td>\n",
              "      <td>0.00</td>\n",
              "      <td>0.01</td>\n",
              "      <td>0.00</td>\n",
              "      <td>nan</td>\n",
              "      <td>nan</td>\n",
              "      <td>RP</td>\n",
              "      <td>0.01</td>\n",
              "    </tr>\n",
              "  </tbody>\n",
              "</table>\n",
              "<p>16446 rows × 12 columns</p>\n",
              "</div>"
            ],
            "text/plain": [
              "                                name platform  year_of_release         genre  \\\n",
              "0                         Wii Sports      Wii             2006        Sports   \n",
              "1                  Super Mario Bros.      NES             1985      Platform   \n",
              "2                     Mario Kart Wii      Wii             2008        Racing   \n",
              "3                  Wii Sports Resort      Wii             2009        Sports   \n",
              "4           Pokemon Red/Pokemon Blue       GB             1996  Role-Playing   \n",
              "...                              ...      ...              ...           ...   \n",
              "16710  Samurai Warriors: Sanada Maru      PS3             2016        Action   \n",
              "16711               LMA Manager 2007     X360             2006        Sports   \n",
              "16712        Haitaka no Psychedelica      PSV             2016     Adventure   \n",
              "16713               Spirits & Spells      GBA             2003      Platform   \n",
              "16714            Winning Post 8 2016      PSV             2016    Simulation   \n",
              "\n",
              "       na_sales  eu_sales  jp_sales  other_sales  critic_score  user_score  \\\n",
              "0         41.36     28.96      3.77         8.45         76.00        8.00   \n",
              "1         29.08      3.58      6.81         0.77           nan         nan   \n",
              "2         15.68     12.76      3.79         3.29         82.00        8.30   \n",
              "3         15.61     10.93      3.28         2.95         80.00        8.00   \n",
              "4         11.27      8.89     10.22         1.00           nan         nan   \n",
              "...         ...       ...       ...          ...           ...         ...   \n",
              "16710      0.00      0.00      0.01         0.00           nan         nan   \n",
              "16711      0.00      0.01      0.00         0.00           nan         nan   \n",
              "16712      0.00      0.00      0.01         0.00           nan         nan   \n",
              "16713      0.01      0.00      0.00         0.00           nan         nan   \n",
              "16714      0.00      0.00      0.01         0.00           nan         nan   \n",
              "\n",
              "      rating  total_sales  \n",
              "0          E        82.54  \n",
              "1         RP        40.24  \n",
              "2          E        35.52  \n",
              "3          E        32.77  \n",
              "4         RP        31.38  \n",
              "...      ...          ...  \n",
              "16710     RP         0.01  \n",
              "16711     RP         0.01  \n",
              "16712     RP         0.01  \n",
              "16713     RP         0.01  \n",
              "16714     RP         0.01  \n",
              "\n",
              "[16446 rows x 12 columns]"
            ]
          },
          "metadata": {
            "tags": []
          }
        }
      ]
    },
    {
      "cell_type": "markdown",
      "metadata": {
        "id": "A0m2GBJW4Zha"
      },
      "source": [
        "<b> Вывод:</b>\n",
        "1. Привели данные к нужным типам, нашли и исправили ошибки в данных(привели к нижнему регистру название столбцов).\n",
        "2. Где это было необходимо, избавились от пустых значений.\n",
        "3. Посчитали суммарные продажи во всех регионах и записали их в отдельный столбец."
      ]
    },
    {
      "cell_type": "markdown",
      "metadata": {
        "id": "P3GcM2XX4Zhc"
      },
      "source": [
        "##  Проведем исследовательский анализ данных"
      ]
    },
    {
      "cell_type": "markdown",
      "metadata": {
        "id": "C-K_MJaL4Zhc"
      },
      "source": [
        "<ul style=\"border:solid black 2px; padding: 20px\">\n",
        "    <li>Посмотрим, сколько игр выпускалось в разные годы. Важны ли данные за все периоды?</li>\n",
        "</ul>"
      ]
    },
    {
      "cell_type": "code",
      "metadata": {
        "id": "3DCu-dJp4Zhc",
        "outputId": "9b4c2735-eabd-40b1-e082-a1640279aca0"
      },
      "source": [
        "df['year_of_release'].plot(kind = 'hist',bins = 35, grid =True)\n",
        "plt.xlabel('Год')\n",
        "plt.ylabel('Кол-тво игр')\n",
        "plt.show()"
      ],
      "execution_count": null,
      "outputs": [
        {
          "output_type": "display_data",
          "data": {
            "image/png": "[encoded data removed]",
            "text/plain": [
              "<Figure size 432x288 with 1 Axes>"
            ]
          },
          "metadata": {
            "tags": [],
            "needs_background": "light"
          }
        }
      ]
    },
    {
      "cell_type": "code",
      "metadata": {
        "id": "zkulG3bQ4Zhc",
        "outputId": "a4614323-befd-43b4-d7e5-20018839f6d3"
      },
      "source": [
        "df.boxplot(['year_of_release'], figsize = (8,8))\n",
        "plt.ylabel('Кол-тво игр в год')\n",
        "plt.show()"
      ],
      "execution_count": null,
      "outputs": [
        {
          "output_type": "display_data",
          "data": {
            "image/png": "[encoded data removed]",
            "text/plain": [
              "<Figure size 576x576 with 1 Axes>"
            ]
          },
          "metadata": {
            "tags": [],
            "needs_background": "light"
          }
        }
      ]
    },
    {
      "cell_type": "code",
      "metadata": {
        "id": "Vj_v1Fui4Zhd",
        "outputId": "5454a13c-5939-4531-cbad-d7ea1d5ae099"
      },
      "source": [
        "df['year_of_release'].describe()"
      ],
      "execution_count": null,
      "outputs": [
        {
          "output_type": "execute_result",
          "data": {
            "text/plain": [
              "count   16446.00\n",
              "mean     2006.48\n",
              "std         5.88\n",
              "min      1980.00\n",
              "25%      2003.00\n",
              "50%      2007.00\n",
              "75%      2010.00\n",
              "max      2016.00\n",
              "Name: year_of_release, dtype: float64"
            ]
          },
          "metadata": {
            "tags": []
          },
          "execution_count": 32
        }
      ]
    },
    {
      "cell_type": "code",
      "metadata": {
        "id": "RyfHuZXW4Zhd",
        "outputId": "a388396f-04ba-4eda-bae5-099d32a395e2"
      },
      "source": [
        "df['year_of_release'].value_counts()"
      ],
      "execution_count": null,
      "outputs": [
        {
          "output_type": "execute_result",
          "data": {
            "text/plain": [
              "2008    1427\n",
              "2009    1426\n",
              "2010    1255\n",
              "2007    1197\n",
              "2011    1136\n",
              "2006    1006\n",
              "2005     939\n",
              "2002     829\n",
              "2003     775\n",
              "2004     762\n",
              "2012     653\n",
              "2015     606\n",
              "2014     581\n",
              "2013     544\n",
              "2016     502\n",
              "2001     482\n",
              "1998     379\n",
              "2000     350\n",
              "1999     338\n",
              "1997     289\n",
              "1996     263\n",
              "1995     219\n",
              "1994     121\n",
              "1993      62\n",
              "1981      46\n",
              "1992      43\n",
              "1991      41\n",
              "1982      36\n",
              "1986      21\n",
              "1983      17\n",
              "1989      17\n",
              "1987      16\n",
              "1990      16\n",
              "1988      15\n",
              "1984      14\n",
              "1985      14\n",
              "1980       9\n",
              "Name: year_of_release, dtype: int64"
            ]
          },
          "metadata": {
            "tags": []
          },
          "execution_count": 33
        }
      ]
    },
    {
      "cell_type": "code",
      "metadata": {
        "id": "2UTxoPgh4Zhd"
      },
      "source": [
        "# <coздадим функцию, чтобы избавиться от выбросов>\n",
        "def section_query(data, column):\n",
        "    q1 = data[column].quantile(0.25)\n",
        "    q3 = data[column].quantile(0.75)\n",
        "    iqr = q3 - q1\n",
        "    section = data[(data[column] >= (q1 - 1.5 * iqr)) & (data[column] <= (q3 + 1.5 * iqr))]\n",
        "    return section  "
      ],
      "execution_count": null,
      "outputs": []
    },
    {
      "cell_type": "code",
      "metadata": {
        "id": "qkRizTBX4Zhe"
      },
      "source": [
        "games_date = section_query(df, 'year_of_release')"
      ],
      "execution_count": null,
      "outputs": []
    },
    {
      "cell_type": "code",
      "metadata": {
        "id": "wztv-ZvK4Zhe",
        "outputId": "dcb8587e-76c4-4860-d8e9-d74b61614bf1"
      },
      "source": [
        "games_date['year_of_release'].plot(kind = 'hist',bins = 24, grid =True)\n",
        "plt.xlabel('Год')\n",
        "plt.ylabel('Кол-тво игр')\n",
        "plt.show()"
      ],
      "execution_count": null,
      "outputs": [
        {
          "output_type": "display_data",
          "data": {
            "image/png": "[encoded data removed]",
            "text/plain": [
              "<Figure size 432x288 with 1 Axes>"
            ]
          },
          "metadata": {
            "tags": [],
            "needs_background": "light"
          }
        }
      ]
    },
    {
      "cell_type": "code",
      "metadata": {
        "id": "InVbiNuj4Zhe",
        "outputId": "991f27f5-3c81-4806-ee4a-ac3ed7cbcd0e"
      },
      "source": [
        "games_date['year_of_release'].value_counts()"
      ],
      "execution_count": null,
      "outputs": [
        {
          "output_type": "execute_result",
          "data": {
            "text/plain": [
              "2008    1427\n",
              "2009    1426\n",
              "2010    1255\n",
              "2007    1197\n",
              "2011    1136\n",
              "2006    1006\n",
              "2005     939\n",
              "2002     829\n",
              "2003     775\n",
              "2004     762\n",
              "2012     653\n",
              "2015     606\n",
              "2014     581\n",
              "2013     544\n",
              "2016     502\n",
              "2001     482\n",
              "1998     379\n",
              "2000     350\n",
              "1999     338\n",
              "1997     289\n",
              "1996     263\n",
              "1995     219\n",
              "1994     121\n",
              "1993      62\n",
              "Name: year_of_release, dtype: int64"
            ]
          },
          "metadata": {
            "tags": []
          },
          "execution_count": 37
        }
      ]
    },
    {
      "cell_type": "code",
      "metadata": {
        "id": "5c1fNpFZ4Zhe",
        "outputId": "53a6acb4-3436-4b64-fe72-3389e23e5e7b"
      },
      "source": [
        "games_date['year_of_release'].describe()"
      ],
      "execution_count": null,
      "outputs": [
        {
          "output_type": "execute_result",
          "data": {
            "text/plain": [
              "count   16141.00\n",
              "mean     2006.87\n",
              "std         5.20\n",
              "min      1993.00\n",
              "25%      2003.00\n",
              "50%      2008.00\n",
              "75%      2010.00\n",
              "max      2016.00\n",
              "Name: year_of_release, dtype: float64"
            ]
          },
          "metadata": {
            "tags": []
          },
          "execution_count": 38
        }
      ]
    },
    {
      "cell_type": "markdown",
      "metadata": {
        "id": "6HpV9lJ14Zhf"
      },
      "source": [
        "<b>Очень слабый преиод выпуска игр с 1980 по 1992. Понятно что в этот преиод только все начиналось, и не было подходящих ресурсов, мощностей для реализации большего. Поэтому данные за это период не так важны. С 1993 года до 2008-2009 идет существенный рост выпуска игр(очень хорошо заметен прогресс), далее снова спад, связанный скорее всего с появлением игр на мобильных платформах и онлайн игр.</b>"
      ]
    },
    {
      "cell_type": "markdown",
      "metadata": {
        "id": "L6DHC4Yh4Zhf"
      },
      "source": [
        "<ul style=\"border:solid black 2px; padding: 20px\">\n",
        "    <li>Посмотрим, как менялись продажи по платформам. Выберем платформы с наибольшими суммарными продажами и постройте распределение по годам. За какой характерный срок появляются новые и исчезают старые платформы?</li>\n",
        "</ul>"
      ]
    },
    {
      "cell_type": "code",
      "metadata": {
        "id": "28A3khKw4Zhf",
        "outputId": "ec61486d-5dc7-425d-95b2-8fba31bb864f"
      },
      "source": [
        "display(games_date)"
      ],
      "execution_count": null,
      "outputs": [
        {
          "output_type": "display_data",
          "data": {
            "text/html": [
              "<div>\n",
              "<style scoped>\n",
              "    .dataframe tbody tr th:only-of-type {\n",
              "        vertical-align: middle;\n",
              "    }\n",
              "\n",
              "    .dataframe tbody tr th {\n",
              "        vertical-align: top;\n",
              "    }\n",
              "\n",
              "    .dataframe thead th {\n",
              "        text-align: right;\n",
              "    }\n",
              "</style>\n",
              "<table border=\"1\" class=\"dataframe\">\n",
              "  <thead>\n",
              "    <tr style=\"text-align: right;\">\n",
              "      <th></th>\n",
              "      <th>name</th>\n",
              "      <th>platform</th>\n",
              "      <th>year_of_release</th>\n",
              "      <th>genre</th>\n",
              "      <th>na_sales</th>\n",
              "      <th>eu_sales</th>\n",
              "      <th>jp_sales</th>\n",
              "      <th>other_sales</th>\n",
              "      <th>critic_score</th>\n",
              "      <th>user_score</th>\n",
              "      <th>rating</th>\n",
              "      <th>total_sales</th>\n",
              "    </tr>\n",
              "  </thead>\n",
              "  <tbody>\n",
              "    <tr>\n",
              "      <td>0</td>\n",
              "      <td>Wii Sports</td>\n",
              "      <td>Wii</td>\n",
              "      <td>2006</td>\n",
              "      <td>Sports</td>\n",
              "      <td>41.36</td>\n",
              "      <td>28.96</td>\n",
              "      <td>3.77</td>\n",
              "      <td>8.45</td>\n",
              "      <td>76.00</td>\n",
              "      <td>8.00</td>\n",
              "      <td>E</td>\n",
              "      <td>82.54</td>\n",
              "    </tr>\n",
              "    <tr>\n",
              "      <td>2</td>\n",
              "      <td>Mario Kart Wii</td>\n",
              "      <td>Wii</td>\n",
              "      <td>2008</td>\n",
              "      <td>Racing</td>\n",
              "      <td>15.68</td>\n",
              "      <td>12.76</td>\n",
              "      <td>3.79</td>\n",
              "      <td>3.29</td>\n",
              "      <td>82.00</td>\n",
              "      <td>8.30</td>\n",
              "      <td>E</td>\n",
              "      <td>35.52</td>\n",
              "    </tr>\n",
              "    <tr>\n",
              "      <td>3</td>\n",
              "      <td>Wii Sports Resort</td>\n",
              "      <td>Wii</td>\n",
              "      <td>2009</td>\n",
              "      <td>Sports</td>\n",
              "      <td>15.61</td>\n",
              "      <td>10.93</td>\n",
              "      <td>3.28</td>\n",
              "      <td>2.95</td>\n",
              "      <td>80.00</td>\n",
              "      <td>8.00</td>\n",
              "      <td>E</td>\n",
              "      <td>32.77</td>\n",
              "    </tr>\n",
              "    <tr>\n",
              "      <td>4</td>\n",
              "      <td>Pokemon Red/Pokemon Blue</td>\n",
              "      <td>GB</td>\n",
              "      <td>1996</td>\n",
              "      <td>Role-Playing</td>\n",
              "      <td>11.27</td>\n",
              "      <td>8.89</td>\n",
              "      <td>10.22</td>\n",
              "      <td>1.00</td>\n",
              "      <td>nan</td>\n",
              "      <td>nan</td>\n",
              "      <td>RP</td>\n",
              "      <td>31.38</td>\n",
              "    </tr>\n",
              "    <tr>\n",
              "      <td>6</td>\n",
              "      <td>New Super Mario Bros.</td>\n",
              "      <td>DS</td>\n",
              "      <td>2006</td>\n",
              "      <td>Platform</td>\n",
              "      <td>11.28</td>\n",
              "      <td>9.14</td>\n",
              "      <td>6.50</td>\n",
              "      <td>2.88</td>\n",
              "      <td>89.00</td>\n",
              "      <td>8.50</td>\n",
              "      <td>E</td>\n",
              "      <td>29.80</td>\n",
              "    </tr>\n",
              "    <tr>\n",
              "      <td>...</td>\n",
              "      <td>...</td>\n",
              "      <td>...</td>\n",
              "      <td>...</td>\n",
              "      <td>...</td>\n",
              "      <td>...</td>\n",
              "      <td>...</td>\n",
              "      <td>...</td>\n",
              "      <td>...</td>\n",
              "      <td>...</td>\n",
              "      <td>...</td>\n",
              "      <td>...</td>\n",
              "      <td>...</td>\n",
              "    </tr>\n",
              "    <tr>\n",
              "      <td>16710</td>\n",
              "      <td>Samurai Warriors: Sanada Maru</td>\n",
              "      <td>PS3</td>\n",
              "      <td>2016</td>\n",
              "      <td>Action</td>\n",
              "      <td>0.00</td>\n",
              "      <td>0.00</td>\n",
              "      <td>0.01</td>\n",
              "      <td>0.00</td>\n",
              "      <td>nan</td>\n",
              "      <td>nan</td>\n",
              "      <td>RP</td>\n",
              "      <td>0.01</td>\n",
              "    </tr>\n",
              "    <tr>\n",
              "      <td>16711</td>\n",
              "      <td>LMA Manager 2007</td>\n",
              "      <td>X360</td>\n",
              "      <td>2006</td>\n",
              "      <td>Sports</td>\n",
              "      <td>0.00</td>\n",
              "      <td>0.01</td>\n",
              "      <td>0.00</td>\n",
              "      <td>0.00</td>\n",
              "      <td>nan</td>\n",
              "      <td>nan</td>\n",
              "      <td>RP</td>\n",
              "      <td>0.01</td>\n",
              "    </tr>\n",
              "    <tr>\n",
              "      <td>16712</td>\n",
              "      <td>Haitaka no Psychedelica</td>\n",
              "      <td>PSV</td>\n",
              "      <td>2016</td>\n",
              "      <td>Adventure</td>\n",
              "      <td>0.00</td>\n",
              "      <td>0.00</td>\n",
              "      <td>0.01</td>\n",
              "      <td>0.00</td>\n",
              "      <td>nan</td>\n",
              "      <td>nan</td>\n",
              "      <td>RP</td>\n",
              "      <td>0.01</td>\n",
              "    </tr>\n",
              "    <tr>\n",
              "      <td>16713</td>\n",
              "      <td>Spirits &amp; Spells</td>\n",
              "      <td>GBA</td>\n",
              "      <td>2003</td>\n",
              "      <td>Platform</td>\n",
              "      <td>0.01</td>\n",
              "      <td>0.00</td>\n",
              "      <td>0.00</td>\n",
              "      <td>0.00</td>\n",
              "      <td>nan</td>\n",
              "      <td>nan</td>\n",
              "      <td>RP</td>\n",
              "      <td>0.01</td>\n",
              "    </tr>\n",
              "    <tr>\n",
              "      <td>16714</td>\n",
              "      <td>Winning Post 8 2016</td>\n",
              "      <td>PSV</td>\n",
              "      <td>2016</td>\n",
              "      <td>Simulation</td>\n",
              "      <td>0.00</td>\n",
              "      <td>0.00</td>\n",
              "      <td>0.01</td>\n",
              "      <td>0.00</td>\n",
              "      <td>nan</td>\n",
              "      <td>nan</td>\n",
              "      <td>RP</td>\n",
              "      <td>0.01</td>\n",
              "    </tr>\n",
              "  </tbody>\n",
              "</table>\n",
              "<p>16141 rows × 12 columns</p>\n",
              "</div>"
            ],
            "text/plain": [
              "                                name platform  year_of_release         genre  \\\n",
              "0                         Wii Sports      Wii             2006        Sports   \n",
              "2                     Mario Kart Wii      Wii             2008        Racing   \n",
              "3                  Wii Sports Resort      Wii             2009        Sports   \n",
              "4           Pokemon Red/Pokemon Blue       GB             1996  Role-Playing   \n",
              "6              New Super Mario Bros.       DS             2006      Platform   \n",
              "...                              ...      ...              ...           ...   \n",
              "16710  Samurai Warriors: Sanada Maru      PS3             2016        Action   \n",
              "16711               LMA Manager 2007     X360             2006        Sports   \n",
              "16712        Haitaka no Psychedelica      PSV             2016     Adventure   \n",
              "16713               Spirits & Spells      GBA             2003      Platform   \n",
              "16714            Winning Post 8 2016      PSV             2016    Simulation   \n",
              "\n",
              "       na_sales  eu_sales  jp_sales  other_sales  critic_score  user_score  \\\n",
              "0         41.36     28.96      3.77         8.45         76.00        8.00   \n",
              "2         15.68     12.76      3.79         3.29         82.00        8.30   \n",
              "3         15.61     10.93      3.28         2.95         80.00        8.00   \n",
              "4         11.27      8.89     10.22         1.00           nan         nan   \n",
              "6         11.28      9.14      6.50         2.88         89.00        8.50   \n",
              "...         ...       ...       ...          ...           ...         ...   \n",
              "16710      0.00      0.00      0.01         0.00           nan         nan   \n",
              "16711      0.00      0.01      0.00         0.00           nan         nan   \n",
              "16712      0.00      0.00      0.01         0.00           nan         nan   \n",
              "16713      0.01      0.00      0.00         0.00           nan         nan   \n",
              "16714      0.00      0.00      0.01         0.00           nan         nan   \n",
              "\n",
              "      rating  total_sales  \n",
              "0          E        82.54  \n",
              "2          E        35.52  \n",
              "3          E        32.77  \n",
              "4         RP        31.38  \n",
              "6          E        29.80  \n",
              "...      ...          ...  \n",
              "16710     RP         0.01  \n",
              "16711     RP         0.01  \n",
              "16712     RP         0.01  \n",
              "16713     RP         0.01  \n",
              "16714     RP         0.01  \n",
              "\n",
              "[16141 rows x 12 columns]"
            ]
          },
          "metadata": {
            "tags": []
          }
        }
      ]
    },
    {
      "cell_type": "code",
      "metadata": {
        "id": "uQ6lfUxJ4Zhg",
        "outputId": "87b9dcf5-de3a-4f49-9a94-d04dc7c93074"
      },
      "source": [
        "games_date.groupby('platform')['total_sales'].sum().sort_values(ascending = False)"
      ],
      "execution_count": null,
      "outputs": [
        {
          "output_type": "execute_result",
          "data": {
            "text/plain": [
              "platform\n",
              "PS2    1233.56\n",
              "X360    961.24\n",
              "PS3     931.34\n",
              "Wii     891.18\n",
              "DS      802.76\n",
              "PS      727.58\n",
              "PS4     314.14\n",
              "GBA     312.88\n",
              "PSP     289.53\n",
              "3DS     257.81\n",
              "PC      252.66\n",
              "XB      251.57\n",
              "N64     218.01\n",
              "GC      196.73\n",
              "XOne    159.32\n",
              "GB      152.08\n",
              "SNES    124.69\n",
              "WiiU     82.19\n",
              "PSV      53.81\n",
              "SAT      33.59\n",
              "DC       15.95\n",
              "GEN      11.20\n",
              "NES       3.72\n",
              "SCD       1.86\n",
              "NG        1.44\n",
              "WS        1.42\n",
              "TG16      0.16\n",
              "3DO       0.10\n",
              "PCFX      0.03\n",
              "Name: total_sales, dtype: float64"
            ]
          },
          "metadata": {
            "tags": []
          },
          "execution_count": 40
        }
      ]
    },
    {
      "cell_type": "code",
      "metadata": {
        "id": "GGy5-ntV4Zhg",
        "outputId": "3ccd8d52-4e92-4650-d07d-517838c8d861"
      },
      "source": [
        "games_date.groupby('platform')['total_sales'].sum().sort_values(ascending = True).plot(kind = 'bar', figsize=(8,5),grid = True)\n",
        "plt.legend()\n",
        "plt.xticks(rotation = 45)\n",
        "plt.show()"
      ],
      "execution_count": null,
      "outputs": [
        {
          "output_type": "display_data",
          "data": {
            "image/png": "[encoded data removed]",
            "text/plain": [
              "<Figure size 576x360 with 1 Axes>"
            ]
          },
          "metadata": {
            "tags": [],
            "needs_background": "light"
          }
        }
      ]
    },
    {
      "cell_type": "markdown",
      "metadata": {
        "id": "jqt-bGqH4Zhg"
      },
      "source": [
        "<b>Очень высокие продажи были у PS2 по сравнению с остальными.</b>"
      ]
    },
    {
      "cell_type": "code",
      "metadata": {
        "id": "hR2JQ3cY4Zhh",
        "outputId": "88039853-b2c2-477d-fc2d-53851386f1ad"
      },
      "source": [
        "games_date[games_date['platform'] == 'PS2']['year_of_release'].plot(kind = 'hist',bins = 10, grid =True, alpha = 0.3)\n",
        "games_date[games_date['platform'] == 'X360']['year_of_release'].plot(kind = 'hist',bins = 10, grid =True, alpha = 0.3)\n",
        "games_date[games_date['platform'] == 'PS3']['year_of_release'].plot(kind = 'hist',bins = 10, grid =True, alpha = 0.3)\n",
        "#games_date[games_date['platform'] == 'Wii']['year_of_release'].plot(kind = 'hist',bins = 10, grid =True, alpha = 0.3)\n",
        "#games_date[games_date['platform'] == 'DS']['year_of_release'].plot(kind = 'hist',bins = 10, grid =True, alpha = 0.3)\n",
        "#games_date[games_date['platform'] == 'PS']['year_of_release'].plot(kind = 'hist',bins = 10, grid =True, alpha = 0.3)\n",
        "plt.xlabel('Год')\n",
        "plt.ylabel('Кол-тво продаж')\n",
        "plt.show()"
      ],
      "execution_count": null,
      "outputs": [
        {
          "output_type": "display_data",
          "data": {
            "image/png": "[encoded data removed]",
            "text/plain": [
              "<Figure size 432x288 with 1 Axes>"
            ]
          },
          "metadata": {
            "tags": [],
            "needs_background": "light"
          }
        }
      ]
    },
    {
      "cell_type": "code",
      "metadata": {
        "id": "e2S4zLve4Zhh",
        "outputId": "873e25be-641e-4831-f3b7-ac73c4af28bb"
      },
      "source": [
        "games_date[games_date['platform'] == 'Wii']['year_of_release'].plot(kind = 'hist',bins = 10, grid =True, alpha = 0.3)\n",
        "games_date[games_date['platform'] == 'DS']['year_of_release'].plot(kind = 'hist',bins = 10, grid =True, alpha = 0.3)\n",
        "games_date[games_date['platform'] == 'PS']['year_of_release'].plot(kind = 'hist',bins = 10, grid =True, alpha = 0.3)\n",
        "plt.xlabel('Год')\n",
        "plt.ylabel('Кол-тво продаж')\n",
        "plt.show()"
      ],
      "execution_count": null,
      "outputs": [
        {
          "output_type": "display_data",
          "data": {
            "image/png": "[encoded data removed]",
            "text/plain": [
              "<Figure size 432x288 with 1 Axes>"
            ]
          },
          "metadata": {
            "tags": [],
            "needs_background": "light"
          }
        }
      ]
    },
    {
      "cell_type": "markdown",
      "metadata": {
        "id": "s9U9z1nN4Zhi"
      },
      "source": [
        "<b>Жизнь PS2</b>"
      ]
    },
    {
      "cell_type": "code",
      "metadata": {
        "id": "lSls1WFr4Zhi",
        "outputId": "336c686d-4c79-4eee-db5c-3f20900553d9"
      },
      "source": [
        "games_date[games_date['platform'] == 'PS2']['year_of_release'].max() - games_date[games_date['platform'] == 'PS2']['year_of_release'].min()"
      ],
      "execution_count": null,
      "outputs": [
        {
          "output_type": "execute_result",
          "data": {
            "text/plain": [
              "11"
            ]
          },
          "metadata": {
            "tags": []
          },
          "execution_count": 44
        }
      ]
    },
    {
      "cell_type": "markdown",
      "metadata": {
        "id": "qnaFF3dL4Zhi"
      },
      "source": [
        "<b>Жизнь X360</b>"
      ]
    },
    {
      "cell_type": "code",
      "metadata": {
        "id": "3c_uSbcu4Zhj",
        "outputId": "74ae16a5-b3bd-40c5-e852-2f80b7254af0"
      },
      "source": [
        "games_date[games_date['platform'] == 'X360']['year_of_release'].max() - games_date[games_date['platform'] == 'X360']['year_of_release'].min()"
      ],
      "execution_count": null,
      "outputs": [
        {
          "output_type": "execute_result",
          "data": {
            "text/plain": [
              "11"
            ]
          },
          "metadata": {
            "tags": []
          },
          "execution_count": 45
        }
      ]
    },
    {
      "cell_type": "markdown",
      "metadata": {
        "id": "I__BnObM4Zhj"
      },
      "source": [
        "<b>Жизнь PS3</b>"
      ]
    },
    {
      "cell_type": "code",
      "metadata": {
        "id": "T6xr4LAG4Zhj",
        "outputId": "978eb94f-509c-455a-ca6c-c5c80dc4478a"
      },
      "source": [
        "games_date[games_date['platform'] == 'PS3']['year_of_release'].max() - games_date[games_date['platform'] == 'PS3']['year_of_release'].min()"
      ],
      "execution_count": null,
      "outputs": [
        {
          "output_type": "execute_result",
          "data": {
            "text/plain": [
              "10"
            ]
          },
          "metadata": {
            "tags": []
          },
          "execution_count": 46
        }
      ]
    },
    {
      "cell_type": "markdown",
      "metadata": {
        "id": "ATPqBBjl4Zhj"
      },
      "source": [
        "<b>Жизнь Wii</b>"
      ]
    },
    {
      "cell_type": "code",
      "metadata": {
        "id": "Hp3Hcpf54Zhk",
        "outputId": "d31473cf-ec82-44d4-a55b-981b5ddf991d"
      },
      "source": [
        "games_date[games_date['platform'] == 'Wii']['year_of_release'].max() - games_date[games_date['platform'] == 'Wii']['year_of_release'].min()"
      ],
      "execution_count": null,
      "outputs": [
        {
          "output_type": "execute_result",
          "data": {
            "text/plain": [
              "10"
            ]
          },
          "metadata": {
            "tags": []
          },
          "execution_count": 47
        }
      ]
    },
    {
      "cell_type": "markdown",
      "metadata": {
        "id": "chMCJ6mw4Zhk"
      },
      "source": [
        "<b>Жизнь DS</b>"
      ]
    },
    {
      "cell_type": "code",
      "metadata": {
        "id": "4MigGrWP4Zhk",
        "outputId": "f00ef955-07d4-4749-fd0f-506056ac7b62"
      },
      "source": [
        "games_date[games_date['platform'] == 'DS']['year_of_release'].max() - games_date[games_date['platform'] == 'DS']['year_of_release'].min()"
      ],
      "execution_count": null,
      "outputs": [
        {
          "output_type": "execute_result",
          "data": {
            "text/plain": [
              "9"
            ]
          },
          "metadata": {
            "tags": []
          },
          "execution_count": 48
        }
      ]
    },
    {
      "cell_type": "markdown",
      "metadata": {
        "id": "0he2d0ur4Zhl"
      },
      "source": [
        "<b>Жизнь PS</b>"
      ]
    },
    {
      "cell_type": "code",
      "metadata": {
        "id": "33VKrHSu4Zhl",
        "outputId": "8d57f5e6-cf08-4532-ac18-101d2d3a0337"
      },
      "source": [
        "games_date[games_date['platform'] == 'PS']['year_of_release'].max() - games_date[games_date['platform'] == 'PS']['year_of_release'].min()"
      ],
      "execution_count": null,
      "outputs": [
        {
          "output_type": "execute_result",
          "data": {
            "text/plain": [
              "9"
            ]
          },
          "metadata": {
            "tags": []
          },
          "execution_count": 49
        }
      ]
    },
    {
      "cell_type": "markdown",
      "metadata": {
        "id": "YR5QORNc4Zhl"
      },
      "source": [
        "<b>Заметим, что каждая платформа в среднем живет 10 лет. После 2005 года среди платформ растет конкуренция.</b>"
      ]
    },
    {
      "cell_type": "markdown",
      "metadata": {
        "id": "1WRxfMDq4Zhm"
      },
      "source": [
        "<ul style=\"border:solid black 2px; padding: 20px\">\n",
        "    <li>Возьмите данные за соответствующий актуальный период. Актуальный период определите самостоятельно в результате исследования предыдущих вопросов. Основной фактор — эти данные помогут построить прогноз на 2017 год.</li>\n",
        "    <li>Не учитывайте в работе данные за предыдущие годы.</li>\n",
        "</ul>\n"
      ]
    },
    {
      "cell_type": "code",
      "metadata": {
        "id": "76ktTRPN4Zhm"
      },
      "source": [
        "games_date = games_date.query('year_of_release >= 2006')"
      ],
      "execution_count": null,
      "outputs": []
    },
    {
      "cell_type": "code",
      "metadata": {
        "id": "xm9N3Hyx4Zhm",
        "outputId": "5e3dce8f-944e-4b77-a1bd-bbf345221ca3"
      },
      "source": [
        "display(df)"
      ],
      "execution_count": null,
      "outputs": [
        {
          "output_type": "display_data",
          "data": {
            "text/html": [
              "<div>\n",
              "<style scoped>\n",
              "    .dataframe tbody tr th:only-of-type {\n",
              "        vertical-align: middle;\n",
              "    }\n",
              "\n",
              "    .dataframe tbody tr th {\n",
              "        vertical-align: top;\n",
              "    }\n",
              "\n",
              "    .dataframe thead th {\n",
              "        text-align: right;\n",
              "    }\n",
              "</style>\n",
              "<table border=\"1\" class=\"dataframe\">\n",
              "  <thead>\n",
              "    <tr style=\"text-align: right;\">\n",
              "      <th></th>\n",
              "      <th>name</th>\n",
              "      <th>platform</th>\n",
              "      <th>year_of_release</th>\n",
              "      <th>genre</th>\n",
              "      <th>na_sales</th>\n",
              "      <th>eu_sales</th>\n",
              "      <th>jp_sales</th>\n",
              "      <th>other_sales</th>\n",
              "      <th>critic_score</th>\n",
              "      <th>user_score</th>\n",
              "      <th>rating</th>\n",
              "      <th>total_sales</th>\n",
              "    </tr>\n",
              "  </thead>\n",
              "  <tbody>\n",
              "    <tr>\n",
              "      <td>0</td>\n",
              "      <td>Wii Sports</td>\n",
              "      <td>Wii</td>\n",
              "      <td>2006</td>\n",
              "      <td>Sports</td>\n",
              "      <td>41.36</td>\n",
              "      <td>28.96</td>\n",
              "      <td>3.77</td>\n",
              "      <td>8.45</td>\n",
              "      <td>76.00</td>\n",
              "      <td>8.00</td>\n",
              "      <td>E</td>\n",
              "      <td>82.54</td>\n",
              "    </tr>\n",
              "    <tr>\n",
              "      <td>1</td>\n",
              "      <td>Super Mario Bros.</td>\n",
              "      <td>NES</td>\n",
              "      <td>1985</td>\n",
              "      <td>Platform</td>\n",
              "      <td>29.08</td>\n",
              "      <td>3.58</td>\n",
              "      <td>6.81</td>\n",
              "      <td>0.77</td>\n",
              "      <td>nan</td>\n",
              "      <td>nan</td>\n",
              "      <td>RP</td>\n",
              "      <td>40.24</td>\n",
              "    </tr>\n",
              "    <tr>\n",
              "      <td>2</td>\n",
              "      <td>Mario Kart Wii</td>\n",
              "      <td>Wii</td>\n",
              "      <td>2008</td>\n",
              "      <td>Racing</td>\n",
              "      <td>15.68</td>\n",
              "      <td>12.76</td>\n",
              "      <td>3.79</td>\n",
              "      <td>3.29</td>\n",
              "      <td>82.00</td>\n",
              "      <td>8.30</td>\n",
              "      <td>E</td>\n",
              "      <td>35.52</td>\n",
              "    </tr>\n",
              "    <tr>\n",
              "      <td>3</td>\n",
              "      <td>Wii Sports Resort</td>\n",
              "      <td>Wii</td>\n",
              "      <td>2009</td>\n",
              "      <td>Sports</td>\n",
              "      <td>15.61</td>\n",
              "      <td>10.93</td>\n",
              "      <td>3.28</td>\n",
              "      <td>2.95</td>\n",
              "      <td>80.00</td>\n",
              "      <td>8.00</td>\n",
              "      <td>E</td>\n",
              "      <td>32.77</td>\n",
              "    </tr>\n",
              "    <tr>\n",
              "      <td>4</td>\n",
              "      <td>Pokemon Red/Pokemon Blue</td>\n",
              "      <td>GB</td>\n",
              "      <td>1996</td>\n",
              "      <td>Role-Playing</td>\n",
              "      <td>11.27</td>\n",
              "      <td>8.89</td>\n",
              "      <td>10.22</td>\n",
              "      <td>1.00</td>\n",
              "      <td>nan</td>\n",
              "      <td>nan</td>\n",
              "      <td>RP</td>\n",
              "      <td>31.38</td>\n",
              "    </tr>\n",
              "    <tr>\n",
              "      <td>...</td>\n",
              "      <td>...</td>\n",
              "      <td>...</td>\n",
              "      <td>...</td>\n",
              "      <td>...</td>\n",
              "      <td>...</td>\n",
              "      <td>...</td>\n",
              "      <td>...</td>\n",
              "      <td>...</td>\n",
              "      <td>...</td>\n",
              "      <td>...</td>\n",
              "      <td>...</td>\n",
              "      <td>...</td>\n",
              "    </tr>\n",
              "    <tr>\n",
              "      <td>16710</td>\n",
              "      <td>Samurai Warriors: Sanada Maru</td>\n",
              "      <td>PS3</td>\n",
              "      <td>2016</td>\n",
              "      <td>Action</td>\n",
              "      <td>0.00</td>\n",
              "      <td>0.00</td>\n",
              "      <td>0.01</td>\n",
              "      <td>0.00</td>\n",
              "      <td>nan</td>\n",
              "      <td>nan</td>\n",
              "      <td>RP</td>\n",
              "      <td>0.01</td>\n",
              "    </tr>\n",
              "    <tr>\n",
              "      <td>16711</td>\n",
              "      <td>LMA Manager 2007</td>\n",
              "      <td>X360</td>\n",
              "      <td>2006</td>\n",
              "      <td>Sports</td>\n",
              "      <td>0.00</td>\n",
              "      <td>0.01</td>\n",
              "      <td>0.00</td>\n",
              "      <td>0.00</td>\n",
              "      <td>nan</td>\n",
              "      <td>nan</td>\n",
              "      <td>RP</td>\n",
              "      <td>0.01</td>\n",
              "    </tr>\n",
              "    <tr>\n",
              "      <td>16712</td>\n",
              "      <td>Haitaka no Psychedelica</td>\n",
              "      <td>PSV</td>\n",
              "      <td>2016</td>\n",
              "      <td>Adventure</td>\n",
              "      <td>0.00</td>\n",
              "      <td>0.00</td>\n",
              "      <td>0.01</td>\n",
              "      <td>0.00</td>\n",
              "      <td>nan</td>\n",
              "      <td>nan</td>\n",
              "      <td>RP</td>\n",
              "      <td>0.01</td>\n",
              "    </tr>\n",
              "    <tr>\n",
              "      <td>16713</td>\n",
              "      <td>Spirits &amp; Spells</td>\n",
              "      <td>GBA</td>\n",
              "      <td>2003</td>\n",
              "      <td>Platform</td>\n",
              "      <td>0.01</td>\n",
              "      <td>0.00</td>\n",
              "      <td>0.00</td>\n",
              "      <td>0.00</td>\n",
              "      <td>nan</td>\n",
              "      <td>nan</td>\n",
              "      <td>RP</td>\n",
              "      <td>0.01</td>\n",
              "    </tr>\n",
              "    <tr>\n",
              "      <td>16714</td>\n",
              "      <td>Winning Post 8 2016</td>\n",
              "      <td>PSV</td>\n",
              "      <td>2016</td>\n",
              "      <td>Simulation</td>\n",
              "      <td>0.00</td>\n",
              "      <td>0.00</td>\n",
              "      <td>0.01</td>\n",
              "      <td>0.00</td>\n",
              "      <td>nan</td>\n",
              "      <td>nan</td>\n",
              "      <td>RP</td>\n",
              "      <td>0.01</td>\n",
              "    </tr>\n",
              "  </tbody>\n",
              "</table>\n",
              "<p>16446 rows × 12 columns</p>\n",
              "</div>"
            ],
            "text/plain": [
              "                                name platform  year_of_release         genre  \\\n",
              "0                         Wii Sports      Wii             2006        Sports   \n",
              "1                  Super Mario Bros.      NES             1985      Platform   \n",
              "2                     Mario Kart Wii      Wii             2008        Racing   \n",
              "3                  Wii Sports Resort      Wii             2009        Sports   \n",
              "4           Pokemon Red/Pokemon Blue       GB             1996  Role-Playing   \n",
              "...                              ...      ...              ...           ...   \n",
              "16710  Samurai Warriors: Sanada Maru      PS3             2016        Action   \n",
              "16711               LMA Manager 2007     X360             2006        Sports   \n",
              "16712        Haitaka no Psychedelica      PSV             2016     Adventure   \n",
              "16713               Spirits & Spells      GBA             2003      Platform   \n",
              "16714            Winning Post 8 2016      PSV             2016    Simulation   \n",
              "\n",
              "       na_sales  eu_sales  jp_sales  other_sales  critic_score  user_score  \\\n",
              "0         41.36     28.96      3.77         8.45         76.00        8.00   \n",
              "1         29.08      3.58      6.81         0.77           nan         nan   \n",
              "2         15.68     12.76      3.79         3.29         82.00        8.30   \n",
              "3         15.61     10.93      3.28         2.95         80.00        8.00   \n",
              "4         11.27      8.89     10.22         1.00           nan         nan   \n",
              "...         ...       ...       ...          ...           ...         ...   \n",
              "16710      0.00      0.00      0.01         0.00           nan         nan   \n",
              "16711      0.00      0.01      0.00         0.00           nan         nan   \n",
              "16712      0.00      0.00      0.01         0.00           nan         nan   \n",
              "16713      0.01      0.00      0.00         0.00           nan         nan   \n",
              "16714      0.00      0.00      0.01         0.00           nan         nan   \n",
              "\n",
              "      rating  total_sales  \n",
              "0          E        82.54  \n",
              "1         RP        40.24  \n",
              "2          E        35.52  \n",
              "3          E        32.77  \n",
              "4         RP        31.38  \n",
              "...      ...          ...  \n",
              "16710     RP         0.01  \n",
              "16711     RP         0.01  \n",
              "16712     RP         0.01  \n",
              "16713     RP         0.01  \n",
              "16714     RP         0.01  \n",
              "\n",
              "[16446 rows x 12 columns]"
            ]
          },
          "metadata": {
            "tags": []
          }
        }
      ]
    },
    {
      "cell_type": "markdown",
      "metadata": {
        "id": "XoKZOc6b4Zhn"
      },
      "source": [
        "<ul style=\"border:solid black 2px; padding: 20px\">\n",
        "    <li>Какие платформы лидируют по продажам, растут или падают? Выберем несколько потенциально прибыльных платформ.</li>\n",
        "</ul>"
      ]
    },
    {
      "cell_type": "code",
      "metadata": {
        "id": "ejXN6Klc4Zhn",
        "outputId": "da4bcf9b-cbb0-412c-e637-19f0fc787b7b"
      },
      "source": [
        "games_date.groupby('platform')['total_sales'].sum().sort_values(ascending = False)"
      ],
      "execution_count": null,
      "outputs": [
        {
          "output_type": "execute_result",
          "data": {
            "text/plain": [
              "platform\n",
              "X360   952.99\n",
              "PS3    931.34\n",
              "Wii    891.18\n",
              "DS     655.35\n",
              "PS4    314.14\n",
              "PS2    265.80\n",
              "3DS    257.81\n",
              "PSP    238.63\n",
              "PC     163.42\n",
              "XOne   159.32\n",
              "WiiU    82.19\n",
              "PSV     53.81\n",
              "GC      11.53\n",
              "XB      10.77\n",
              "GBA      8.68\n",
              "DC       0.06\n",
              "Name: total_sales, dtype: float64"
            ]
          },
          "metadata": {
            "tags": []
          },
          "execution_count": 52
        }
      ]
    },
    {
      "cell_type": "code",
      "metadata": {
        "id": "Bru7R6Cb4Zhn",
        "outputId": "b35a9c4e-1b17-487d-efc5-f25e14f1eb69"
      },
      "source": [
        "games_date.groupby('platform')['total_sales'].sum().sort_values(ascending = True).plot(kind = 'bar', figsize=(8,5),grid = True)\n",
        "plt.legend()\n",
        "plt.xticks(rotation = 45)\n",
        "plt.show()"
      ],
      "execution_count": null,
      "outputs": [
        {
          "output_type": "display_data",
          "data": {
            "image/png": "[encoded data removed]",
            "text/plain": [
              "<Figure size 576x360 with 1 Axes>"
            ]
          },
          "metadata": {
            "tags": [],
            "needs_background": "light"
          }
        }
      ]
    },
    {
      "cell_type": "markdown",
      "metadata": {
        "id": "uh6B_D3a4Zho"
      },
      "source": [
        "<b>Лидеры продаж за последние 10 лет X360, PS3, Wii, но возможно их пик прошел.</b>"
      ]
    },
    {
      "cell_type": "code",
      "metadata": {
        "id": "oHgXhw-m4Zho",
        "outputId": "36befc9f-939e-4952-a273-1a70ab86b963"
      },
      "source": [
        "games_date[games_date['platform'] == 'PC']['year_of_release'].plot(kind = 'hist',bins = 15, grid =True, alpha = 0.5)\n",
        "plt.xlabel('Год')\n",
        "plt.ylabel('Кол-тво продаж')\n",
        "plt.show()"
      ],
      "execution_count": null,
      "outputs": [
        {
          "output_type": "display_data",
          "data": {
            "image/png": "[encoded data removed]",
            "text/plain": [
              "<Figure size 432x288 with 1 Axes>"
            ]
          },
          "metadata": {
            "tags": [],
            "needs_background": "light"
          }
        }
      ]
    },
    {
      "cell_type": "markdown",
      "metadata": {
        "id": "AVYn6pO64Zho"
      },
      "source": [
        "<b>Наблюдается небольшой рост продаж после 2014 года</b>"
      ]
    },
    {
      "cell_type": "code",
      "metadata": {
        "id": "JpTczzPq4Zho",
        "outputId": "30be733f-adb9-46db-b59a-bf4b8fcb7cb5"
      },
      "source": [
        "games_date[games_date['platform'] == 'XOne']['year_of_release'].plot(kind = 'hist',bins = 10, grid =True, alpha = 0.3, color = 'black')\n",
        "plt.xlabel('Год')\n",
        "plt.ylabel('Кол-тво продаж')\n",
        "plt.show()"
      ],
      "execution_count": null,
      "outputs": [
        {
          "output_type": "display_data",
          "data": {
            "image/png": "[encoded data removed]",
            "text/plain": [
              "<Figure size 432x288 with 1 Axes>"
            ]
          },
          "metadata": {
            "tags": [],
            "needs_background": "light"
          }
        }
      ]
    },
    {
      "cell_type": "markdown",
      "metadata": {
        "id": "EyvIC8l14Zhp"
      },
      "source": [
        "<b>Пока что прошло 3 года после выпуска платформы, наблюдается положительная динамика роста продаж с каждым годом</b>"
      ]
    },
    {
      "cell_type": "code",
      "metadata": {
        "id": "xUVDnUen4Zhp",
        "outputId": "89bd1e1b-b4a3-473e-c2fe-3aa8c538a622"
      },
      "source": [
        "games_date[games_date['platform'] == '3DS']['year_of_release'].plot(kind = 'hist',bins = 15, grid =True, alpha = 0.5, color = 'yellow')\n",
        "plt.xlabel('Год')\n",
        "plt.ylabel('Кол-тво продаж')\n",
        "plt.show()"
      ],
      "execution_count": null,
      "outputs": [
        {
          "output_type": "display_data",
          "data": {
            "image/png": "[encoded data removed]",
            "text/plain": [
              "<Figure size 432x288 with 1 Axes>"
            ]
          },
          "metadata": {
            "tags": [],
            "needs_background": "light"
          }
        }
      ]
    },
    {
      "cell_type": "markdown",
      "metadata": {
        "id": "_OMSoU-P4Zhp"
      },
      "source": [
        "<b>Платформе уже 5 лет, скорее всего пик прошел, заметно, что в 2016 году продажи упали почти в 2 раза по сравению с 2015</b>"
      ]
    },
    {
      "cell_type": "code",
      "metadata": {
        "id": "rQ2mIN-t4Zhp",
        "outputId": "9bc267e9-57f3-4c49-ea4b-25bbd5d4c25d"
      },
      "source": [
        "games_date[games_date['platform'] == 'PS4']['year_of_release'].plot(kind = 'hist',bins = 10, grid =True, alpha = 0.3)\n",
        "plt.xlabel('Год')\n",
        "plt.ylabel('Кол-тво продаж')\n",
        "plt.show()"
      ],
      "execution_count": null,
      "outputs": [
        {
          "output_type": "display_data",
          "data": {
            "image/png": "[encoded data removed]",
            "text/plain": [
              "<Figure size 432x288 with 1 Axes>"
            ]
          },
          "metadata": {
            "tags": [],
            "needs_background": "light"
          }
        }
      ]
    },
    {
      "cell_type": "markdown",
      "metadata": {
        "id": "lHZt1MpD4Zhq"
      },
      "source": [
        "<b>Платформе PS4 также как и XOne 3 года, положительная динамика продаж с каждым годом. PS4 прямой конкурент XOne</b>"
      ]
    },
    {
      "cell_type": "code",
      "metadata": {
        "id": "EFHojUC94Zhq",
        "outputId": "5570838d-296c-4f6b-f173-d03cf6ac4cc9"
      },
      "source": [
        "games_date[games_date['platform'] == 'X360']['year_of_release'].plot(kind = 'hist',bins = 10, grid =True, alpha = 0.3, color = 'black')\n",
        "plt.xlabel('Год')\n",
        "plt.ylabel('Кол-тво продаж')\n",
        "plt.show()"
      ],
      "execution_count": null,
      "outputs": [
        {
          "output_type": "display_data",
          "data": {
            "image/png": "[encoded data removed]",
            "text/plain": [
              "<Figure size 432x288 with 1 Axes>"
            ]
          },
          "metadata": {
            "tags": [],
            "needs_background": "light"
          }
        }
      ]
    },
    {
      "cell_type": "markdown",
      "metadata": {
        "id": "mvw634Pf4Zhq"
      },
      "source": [
        "<b>Эпоха X360 подошла к концу, продажи с каждым годом все меньше и меньше</b>"
      ]
    },
    {
      "cell_type": "code",
      "metadata": {
        "id": "5dssob-C4Zhq",
        "outputId": "c1ef98a1-c7d9-4ba3-8fe5-1e8b4991843d"
      },
      "source": [
        "games_date[games_date['platform'] == 'PS3']['year_of_release'].plot(kind = 'hist',bins = 15, grid =True, alpha = 0.3, color = 'green')\n",
        "plt.xlabel('Год')\n",
        "plt.ylabel('Кол-тво продаж')\n",
        "plt.show()"
      ],
      "execution_count": null,
      "outputs": [
        {
          "output_type": "display_data",
          "data": {
            "image/png": "[encoded data removed]",
            "text/plain": [
              "<Figure size 432x288 with 1 Axes>"
            ]
          },
          "metadata": {
            "tags": [],
            "needs_background": "light"
          }
        }
      ]
    },
    {
      "cell_type": "markdown",
      "metadata": {
        "id": "xYqCYcfi4Zhr"
      },
      "source": [
        "<b>Еще одни конкуренты своего периода PS3 и X360, и у обоих падают продажи, на их место пришли PS4 и XOne.</b>"
      ]
    },
    {
      "cell_type": "code",
      "metadata": {
        "id": "c7SaRk4d4Zhr",
        "outputId": "4ef10e13-5f6a-4f37-f148-a90ba63576e7"
      },
      "source": [
        "games_date[games_date['year_of_release'] == 2015]['platform'].value_counts()"
      ],
      "execution_count": null,
      "outputs": [
        {
          "output_type": "execute_result",
          "data": {
            "text/plain": [
              "PS4     137\n",
              "PSV     110\n",
              "3DS      86\n",
              "XOne     80\n",
              "PS3      73\n",
              "PC       50\n",
              "X360     35\n",
              "WiiU     28\n",
              "Wii       4\n",
              "PSP       3\n",
              "Name: platform, dtype: int64"
            ]
          },
          "metadata": {
            "tags": []
          },
          "execution_count": 60
        }
      ]
    },
    {
      "cell_type": "code",
      "metadata": {
        "id": "oFmOIwf_4Zhr",
        "outputId": "b707a6c2-e424-40ed-dea9-d619b83fbd7b"
      },
      "source": [
        "games_date[games_date['year_of_release'] == 2016]['platform'].value_counts()"
      ],
      "execution_count": null,
      "outputs": [
        {
          "output_type": "execute_result",
          "data": {
            "text/plain": [
              "PS4     164\n",
              "XOne     87\n",
              "PSV      85\n",
              "PC       54\n",
              "3DS      46\n",
              "PS3      38\n",
              "WiiU     14\n",
              "X360     13\n",
              "Wii       1\n",
              "Name: platform, dtype: int64"
            ]
          },
          "metadata": {
            "tags": []
          },
          "execution_count": 61
        }
      ]
    },
    {
      "cell_type": "markdown",
      "metadata": {
        "id": "aB4-enEA4Zhs"
      },
      "source": [
        "<b>Если взять ТОП-6 лидеров продаж, то только у PS4, XOne прослеживается положительная динамика роста продаж к 2016 году, у PC   после падения продаж до 2013, наблюдается незначительный рост продаж. PS4, XOne судя по всему только находятся в начальной своей стадии, что говорит о возможном росте продаж в след году.</b>"
      ]
    },
    {
      "cell_type": "markdown",
      "metadata": {
        "id": "ljdJCHVF4Zhs"
      },
      "source": [
        "<ul style=\"border:solid black 2px; padding: 20px\">\n",
        "    <li>Построим график «ящик с усами» по глобальным продажам игр в разбивке по платформам. Опишем результат.</li>\n",
        "</ul>"
      ]
    },
    {
      "cell_type": "markdown",
      "metadata": {
        "id": "cBx6t9ib4Zht"
      },
      "source": [
        "<b>Построим по всем платформам за последние 10 лет</b>"
      ]
    },
    {
      "cell_type": "code",
      "metadata": {
        "id": "MgL0GUUs4Zht",
        "outputId": "b872bfcc-3ffa-4f18-b703-95921fdcd0f6"
      },
      "source": [
        "games_date.boxplot(['total_sales'], by='platform', figsize = (15,10))\n",
        "plt.ylabel('Продажи')\n",
        "plt.ylim(-1, 15)\n",
        "plt.show()"
      ],
      "execution_count": null,
      "outputs": [
        {
          "output_type": "display_data",
          "data": {
            "image/png": "[encoded data removed]",
            "text/plain": [
              "<Figure size 1080x720 with 1 Axes>"
            ]
          },
          "metadata": {
            "tags": [],
            "needs_background": "light"
          }
        }
      ]
    },
    {
      "cell_type": "markdown",
      "metadata": {
        "id": "QQJWpXst4Zht"
      },
      "source": [
        "<b>Схожие распределения и медианы у PS3 и X360, PS4 и XOne, все они скошены вправо.</b>\n",
        "- Заметно кто лидирует по продажам, PS3, PS4, X360, XOne немного отстает. \n",
        "- Данные платформы являются наиболее популярными."
      ]
    },
    {
      "cell_type": "markdown",
      "metadata": {
        "id": "rpWZPbGf4Zhu"
      },
      "source": [
        "<b>Построим диаграмму размаха по трем выбранным платформам</b>"
      ]
    },
    {
      "cell_type": "code",
      "metadata": {
        "id": "_VXY-SPa4Zhu"
      },
      "source": [
        "platform_select = games_date.query('platform == \"PS4\" or platform == \"XOne\" or platform == \"PC\"')"
      ],
      "execution_count": null,
      "outputs": []
    },
    {
      "cell_type": "code",
      "metadata": {
        "id": "kB-fm8H14Zhv",
        "outputId": "e2574f30-38a8-47a2-fcd1-873de96bb423"
      },
      "source": [
        "display(platform_select)"
      ],
      "execution_count": null,
      "outputs": [
        {
          "output_type": "display_data",
          "data": {
            "text/html": [
              "<div>\n",
              "<style scoped>\n",
              "    .dataframe tbody tr th:only-of-type {\n",
              "        vertical-align: middle;\n",
              "    }\n",
              "\n",
              "    .dataframe tbody tr th {\n",
              "        vertical-align: top;\n",
              "    }\n",
              "\n",
              "    .dataframe thead th {\n",
              "        text-align: right;\n",
              "    }\n",
              "</style>\n",
              "<table border=\"1\" class=\"dataframe\">\n",
              "  <thead>\n",
              "    <tr style=\"text-align: right;\">\n",
              "      <th></th>\n",
              "      <th>name</th>\n",
              "      <th>platform</th>\n",
              "      <th>year_of_release</th>\n",
              "      <th>genre</th>\n",
              "      <th>na_sales</th>\n",
              "      <th>eu_sales</th>\n",
              "      <th>jp_sales</th>\n",
              "      <th>other_sales</th>\n",
              "      <th>critic_score</th>\n",
              "      <th>user_score</th>\n",
              "      <th>rating</th>\n",
              "      <th>total_sales</th>\n",
              "    </tr>\n",
              "  </thead>\n",
              "  <tbody>\n",
              "    <tr>\n",
              "      <td>31</td>\n",
              "      <td>Call of Duty: Black Ops 3</td>\n",
              "      <td>PS4</td>\n",
              "      <td>2015</td>\n",
              "      <td>Shooter</td>\n",
              "      <td>6.03</td>\n",
              "      <td>5.86</td>\n",
              "      <td>0.36</td>\n",
              "      <td>2.38</td>\n",
              "      <td>nan</td>\n",
              "      <td>nan</td>\n",
              "      <td>RP</td>\n",
              "      <td>14.63</td>\n",
              "    </tr>\n",
              "    <tr>\n",
              "      <td>42</td>\n",
              "      <td>Grand Theft Auto V</td>\n",
              "      <td>PS4</td>\n",
              "      <td>2014</td>\n",
              "      <td>Action</td>\n",
              "      <td>3.96</td>\n",
              "      <td>6.31</td>\n",
              "      <td>0.38</td>\n",
              "      <td>1.97</td>\n",
              "      <td>97.00</td>\n",
              "      <td>8.30</td>\n",
              "      <td>M</td>\n",
              "      <td>12.62</td>\n",
              "    </tr>\n",
              "    <tr>\n",
              "      <td>77</td>\n",
              "      <td>FIFA 16</td>\n",
              "      <td>PS4</td>\n",
              "      <td>2015</td>\n",
              "      <td>Sports</td>\n",
              "      <td>1.12</td>\n",
              "      <td>6.12</td>\n",
              "      <td>0.06</td>\n",
              "      <td>1.28</td>\n",
              "      <td>82.00</td>\n",
              "      <td>4.30</td>\n",
              "      <td>E</td>\n",
              "      <td>8.58</td>\n",
              "    </tr>\n",
              "    <tr>\n",
              "      <td>85</td>\n",
              "      <td>The Sims 3</td>\n",
              "      <td>PC</td>\n",
              "      <td>2009</td>\n",
              "      <td>Simulation</td>\n",
              "      <td>0.99</td>\n",
              "      <td>6.42</td>\n",
              "      <td>0.00</td>\n",
              "      <td>0.60</td>\n",
              "      <td>86.00</td>\n",
              "      <td>7.60</td>\n",
              "      <td>T</td>\n",
              "      <td>8.01</td>\n",
              "    </tr>\n",
              "    <tr>\n",
              "      <td>87</td>\n",
              "      <td>Star Wars Battlefront (2015)</td>\n",
              "      <td>PS4</td>\n",
              "      <td>2015</td>\n",
              "      <td>Shooter</td>\n",
              "      <td>2.99</td>\n",
              "      <td>3.49</td>\n",
              "      <td>0.22</td>\n",
              "      <td>1.28</td>\n",
              "      <td>nan</td>\n",
              "      <td>nan</td>\n",
              "      <td>RP</td>\n",
              "      <td>7.98</td>\n",
              "    </tr>\n",
              "    <tr>\n",
              "      <td>...</td>\n",
              "      <td>...</td>\n",
              "      <td>...</td>\n",
              "      <td>...</td>\n",
              "      <td>...</td>\n",
              "      <td>...</td>\n",
              "      <td>...</td>\n",
              "      <td>...</td>\n",
              "      <td>...</td>\n",
              "      <td>...</td>\n",
              "      <td>...</td>\n",
              "      <td>...</td>\n",
              "      <td>...</td>\n",
              "    </tr>\n",
              "    <tr>\n",
              "      <td>16690</td>\n",
              "      <td>Pony Friends 2</td>\n",
              "      <td>PC</td>\n",
              "      <td>2009</td>\n",
              "      <td>Simulation</td>\n",
              "      <td>0.00</td>\n",
              "      <td>0.01</td>\n",
              "      <td>0.00</td>\n",
              "      <td>0.00</td>\n",
              "      <td>nan</td>\n",
              "      <td>nan</td>\n",
              "      <td>RP</td>\n",
              "      <td>0.01</td>\n",
              "    </tr>\n",
              "    <tr>\n",
              "      <td>16692</td>\n",
              "      <td>Metal Gear Solid V: Ground Zeroes</td>\n",
              "      <td>PC</td>\n",
              "      <td>2014</td>\n",
              "      <td>Action</td>\n",
              "      <td>0.00</td>\n",
              "      <td>0.01</td>\n",
              "      <td>0.00</td>\n",
              "      <td>0.00</td>\n",
              "      <td>80.00</td>\n",
              "      <td>7.60</td>\n",
              "      <td>M</td>\n",
              "      <td>0.01</td>\n",
              "    </tr>\n",
              "    <tr>\n",
              "      <td>16696</td>\n",
              "      <td>Breach</td>\n",
              "      <td>PC</td>\n",
              "      <td>2011</td>\n",
              "      <td>Shooter</td>\n",
              "      <td>0.01</td>\n",
              "      <td>0.00</td>\n",
              "      <td>0.00</td>\n",
              "      <td>0.00</td>\n",
              "      <td>61.00</td>\n",
              "      <td>5.80</td>\n",
              "      <td>T</td>\n",
              "      <td>0.01</td>\n",
              "    </tr>\n",
              "    <tr>\n",
              "      <td>16702</td>\n",
              "      <td>STORM: Frontline Nation</td>\n",
              "      <td>PC</td>\n",
              "      <td>2011</td>\n",
              "      <td>Strategy</td>\n",
              "      <td>0.00</td>\n",
              "      <td>0.01</td>\n",
              "      <td>0.00</td>\n",
              "      <td>0.00</td>\n",
              "      <td>60.00</td>\n",
              "      <td>7.20</td>\n",
              "      <td>E10+</td>\n",
              "      <td>0.01</td>\n",
              "    </tr>\n",
              "    <tr>\n",
              "      <td>16705</td>\n",
              "      <td>15 Days</td>\n",
              "      <td>PC</td>\n",
              "      <td>2009</td>\n",
              "      <td>Adventure</td>\n",
              "      <td>0.00</td>\n",
              "      <td>0.01</td>\n",
              "      <td>0.00</td>\n",
              "      <td>0.00</td>\n",
              "      <td>63.00</td>\n",
              "      <td>5.80</td>\n",
              "      <td>RP</td>\n",
              "      <td>0.01</td>\n",
              "    </tr>\n",
              "  </tbody>\n",
              "</table>\n",
              "<p>1415 rows × 12 columns</p>\n",
              "</div>"
            ],
            "text/plain": [
              "                                    name platform  year_of_release  \\\n",
              "31             Call of Duty: Black Ops 3      PS4             2015   \n",
              "42                    Grand Theft Auto V      PS4             2014   \n",
              "77                               FIFA 16      PS4             2015   \n",
              "85                            The Sims 3       PC             2009   \n",
              "87          Star Wars Battlefront (2015)      PS4             2015   \n",
              "...                                  ...      ...              ...   \n",
              "16690                     Pony Friends 2       PC             2009   \n",
              "16692  Metal Gear Solid V: Ground Zeroes       PC             2014   \n",
              "16696                             Breach       PC             2011   \n",
              "16702            STORM: Frontline Nation       PC             2011   \n",
              "16705                            15 Days       PC             2009   \n",
              "\n",
              "            genre  na_sales  eu_sales  jp_sales  other_sales  critic_score  \\\n",
              "31        Shooter      6.03      5.86      0.36         2.38           nan   \n",
              "42         Action      3.96      6.31      0.38         1.97         97.00   \n",
              "77         Sports      1.12      6.12      0.06         1.28         82.00   \n",
              "85     Simulation      0.99      6.42      0.00         0.60         86.00   \n",
              "87        Shooter      2.99      3.49      0.22         1.28           nan   \n",
              "...           ...       ...       ...       ...          ...           ...   \n",
              "16690  Simulation      0.00      0.01      0.00         0.00           nan   \n",
              "16692      Action      0.00      0.01      0.00         0.00         80.00   \n",
              "16696     Shooter      0.01      0.00      0.00         0.00         61.00   \n",
              "16702    Strategy      0.00      0.01      0.00         0.00         60.00   \n",
              "16705   Adventure      0.00      0.01      0.00         0.00         63.00   \n",
              "\n",
              "       user_score rating  total_sales  \n",
              "31            nan     RP        14.63  \n",
              "42           8.30      M        12.62  \n",
              "77           4.30      E         8.58  \n",
              "85           7.60      T         8.01  \n",
              "87            nan     RP         7.98  \n",
              "...           ...    ...          ...  \n",
              "16690         nan     RP         0.01  \n",
              "16692        7.60      M         0.01  \n",
              "16696        5.80      T         0.01  \n",
              "16702        7.20   E10+         0.01  \n",
              "16705        5.80     RP         0.01  \n",
              "\n",
              "[1415 rows x 12 columns]"
            ]
          },
          "metadata": {
            "tags": []
          }
        }
      ]
    },
    {
      "cell_type": "code",
      "metadata": {
        "id": "SqSFKX9F4Zhv",
        "outputId": "1df66ec4-4c50-4074-fedb-b651163ffde7"
      },
      "source": [
        "platform_select.describe()"
      ],
      "execution_count": null,
      "outputs": [
        {
          "output_type": "execute_result",
          "data": {
            "text/html": [
              "<div>\n",
              "<style scoped>\n",
              "    .dataframe tbody tr th:only-of-type {\n",
              "        vertical-align: middle;\n",
              "    }\n",
              "\n",
              "    .dataframe tbody tr th {\n",
              "        vertical-align: top;\n",
              "    }\n",
              "\n",
              "    .dataframe thead th {\n",
              "        text-align: right;\n",
              "    }\n",
              "</style>\n",
              "<table border=\"1\" class=\"dataframe\">\n",
              "  <thead>\n",
              "    <tr style=\"text-align: right;\">\n",
              "      <th></th>\n",
              "      <th>year_of_release</th>\n",
              "      <th>na_sales</th>\n",
              "      <th>eu_sales</th>\n",
              "      <th>jp_sales</th>\n",
              "      <th>other_sales</th>\n",
              "      <th>critic_score</th>\n",
              "      <th>user_score</th>\n",
              "      <th>total_sales</th>\n",
              "    </tr>\n",
              "  </thead>\n",
              "  <tbody>\n",
              "    <tr>\n",
              "      <td>count</td>\n",
              "      <td>1415.00</td>\n",
              "      <td>1415.00</td>\n",
              "      <td>1415.00</td>\n",
              "      <td>1415.00</td>\n",
              "      <td>1415.00</td>\n",
              "      <td>996.00</td>\n",
              "      <td>1054.00</td>\n",
              "      <td>1415.00</td>\n",
              "    </tr>\n",
              "    <tr>\n",
              "      <td>mean</td>\n",
              "      <td>2012.63</td>\n",
              "      <td>0.17</td>\n",
              "      <td>0.21</td>\n",
              "      <td>0.01</td>\n",
              "      <td>0.06</td>\n",
              "      <td>73.75</td>\n",
              "      <td>6.76</td>\n",
              "      <td>0.45</td>\n",
              "    </tr>\n",
              "    <tr>\n",
              "      <td>std</td>\n",
              "      <td>3.10</td>\n",
              "      <td>0.45</td>\n",
              "      <td>0.52</td>\n",
              "      <td>0.04</td>\n",
              "      <td>0.16</td>\n",
              "      <td>11.90</td>\n",
              "      <td>1.49</td>\n",
              "      <td>1.07</td>\n",
              "    </tr>\n",
              "    <tr>\n",
              "      <td>min</td>\n",
              "      <td>2006.00</td>\n",
              "      <td>0.00</td>\n",
              "      <td>0.00</td>\n",
              "      <td>0.00</td>\n",
              "      <td>0.00</td>\n",
              "      <td>19.00</td>\n",
              "      <td>1.40</td>\n",
              "      <td>0.01</td>\n",
              "    </tr>\n",
              "    <tr>\n",
              "      <td>25%</td>\n",
              "      <td>2010.00</td>\n",
              "      <td>0.00</td>\n",
              "      <td>0.02</td>\n",
              "      <td>0.00</td>\n",
              "      <td>0.00</td>\n",
              "      <td>67.00</td>\n",
              "      <td>5.93</td>\n",
              "      <td>0.03</td>\n",
              "    </tr>\n",
              "    <tr>\n",
              "      <td>50%</td>\n",
              "      <td>2014.00</td>\n",
              "      <td>0.02</td>\n",
              "      <td>0.04</td>\n",
              "      <td>0.00</td>\n",
              "      <td>0.01</td>\n",
              "      <td>76.00</td>\n",
              "      <td>7.10</td>\n",
              "      <td>0.08</td>\n",
              "    </tr>\n",
              "    <tr>\n",
              "      <td>75%</td>\n",
              "      <td>2015.00</td>\n",
              "      <td>0.11</td>\n",
              "      <td>0.16</td>\n",
              "      <td>0.00</td>\n",
              "      <td>0.04</td>\n",
              "      <td>82.00</td>\n",
              "      <td>7.90</td>\n",
              "      <td>0.37</td>\n",
              "    </tr>\n",
              "    <tr>\n",
              "      <td>max</td>\n",
              "      <td>2016.00</td>\n",
              "      <td>6.03</td>\n",
              "      <td>6.42</td>\n",
              "      <td>0.49</td>\n",
              "      <td>2.38</td>\n",
              "      <td>97.00</td>\n",
              "      <td>9.30</td>\n",
              "      <td>14.63</td>\n",
              "    </tr>\n",
              "  </tbody>\n",
              "</table>\n",
              "</div>"
            ],
            "text/plain": [
              "       year_of_release  na_sales  eu_sales  jp_sales  other_sales  \\\n",
              "count          1415.00   1415.00   1415.00   1415.00      1415.00   \n",
              "mean           2012.63      0.17      0.21      0.01         0.06   \n",
              "std               3.10      0.45      0.52      0.04         0.16   \n",
              "min            2006.00      0.00      0.00      0.00         0.00   \n",
              "25%            2010.00      0.00      0.02      0.00         0.00   \n",
              "50%            2014.00      0.02      0.04      0.00         0.01   \n",
              "75%            2015.00      0.11      0.16      0.00         0.04   \n",
              "max            2016.00      6.03      6.42      0.49         2.38   \n",
              "\n",
              "       critic_score  user_score  total_sales  \n",
              "count        996.00     1054.00      1415.00  \n",
              "mean          73.75        6.76         0.45  \n",
              "std           11.90        1.49         1.07  \n",
              "min           19.00        1.40         0.01  \n",
              "25%           67.00        5.93         0.03  \n",
              "50%           76.00        7.10         0.08  \n",
              "75%           82.00        7.90         0.37  \n",
              "max           97.00        9.30        14.63  "
            ]
          },
          "metadata": {
            "tags": []
          },
          "execution_count": 65
        }
      ]
    },
    {
      "cell_type": "code",
      "metadata": {
        "id": "rhx-gEBd4Zhv",
        "outputId": "019c6bbc-10ed-4f4c-c966-ba8f96ad1baa"
      },
      "source": [
        "platform_select.boxplot(['total_sales'], by='platform', figsize = (10,10), vert = False)\n",
        "plt.xlabel('Продажи')\n",
        "plt.xlim(-1, 15)\n",
        "plt.show()"
      ],
      "execution_count": null,
      "outputs": [
        {
          "output_type": "display_data",
          "data": {
            "image/png": "[encoded data removed]",
            "text/plain": [
              "<Figure size 720x720 with 1 Axes>"
            ]
          },
          "metadata": {
            "tags": [],
            "needs_background": "light"
          }
        }
      ]
    },
    {
      "cell_type": "code",
      "metadata": {
        "id": "cbG_0-AU4Zhv",
        "outputId": "a6a1b65c-4f92-4ca0-a377-858e48e08c67"
      },
      "source": [
        "platform_select.boxplot(['total_sales'], by='platform', figsize = (10,10), vert = False)\n",
        "plt.xlabel('Продажи')\n",
        "plt.xlim(-1, 10)\n",
        "plt.show()"
      ],
      "execution_count": null,
      "outputs": [
        {
          "output_type": "display_data",
          "data": {
            "image/png": "[encoded data removed]",
            "text/plain": [
              "<Figure size 720x720 with 1 Axes>"
            ]
          },
          "metadata": {
            "tags": [],
            "needs_background": "light"
          }
        }
      ]
    },
    {
      "cell_type": "code",
      "metadata": {
        "id": "JT2hcWyw4Zhw",
        "outputId": "a618d8fe-3a5a-4cce-f4a6-4bcd1f1a506d"
      },
      "source": [
        "platform_select.groupby(['platform']).agg({'total_sales':{'sum', 'mean', 'median'}})"
      ],
      "execution_count": null,
      "outputs": [
        {
          "output_type": "execute_result",
          "data": {
            "text/html": [
              "<div>\n",
              "<style scoped>\n",
              "    .dataframe tbody tr th:only-of-type {\n",
              "        vertical-align: middle;\n",
              "    }\n",
              "\n",
              "    .dataframe tbody tr th {\n",
              "        vertical-align: top;\n",
              "    }\n",
              "\n",
              "    .dataframe thead tr th {\n",
              "        text-align: left;\n",
              "    }\n",
              "\n",
              "    .dataframe thead tr:last-of-type th {\n",
              "        text-align: right;\n",
              "    }\n",
              "</style>\n",
              "<table border=\"1\" class=\"dataframe\">\n",
              "  <thead>\n",
              "    <tr>\n",
              "      <th></th>\n",
              "      <th colspan=\"3\" halign=\"left\">total_sales</th>\n",
              "    </tr>\n",
              "    <tr>\n",
              "      <th></th>\n",
              "      <th>sum</th>\n",
              "      <th>mean</th>\n",
              "      <th>median</th>\n",
              "    </tr>\n",
              "    <tr>\n",
              "      <th>platform</th>\n",
              "      <th></th>\n",
              "      <th></th>\n",
              "      <th></th>\n",
              "    </tr>\n",
              "  </thead>\n",
              "  <tbody>\n",
              "    <tr>\n",
              "      <td>PC</td>\n",
              "      <td>163.42</td>\n",
              "      <td>0.21</td>\n",
              "      <td>0.05</td>\n",
              "    </tr>\n",
              "    <tr>\n",
              "      <td>PS4</td>\n",
              "      <td>314.14</td>\n",
              "      <td>0.80</td>\n",
              "      <td>0.20</td>\n",
              "    </tr>\n",
              "    <tr>\n",
              "      <td>XOne</td>\n",
              "      <td>159.32</td>\n",
              "      <td>0.65</td>\n",
              "      <td>0.22</td>\n",
              "    </tr>\n",
              "  </tbody>\n",
              "</table>\n",
              "</div>"
            ],
            "text/plain": [
              "         total_sales            \n",
              "                 sum mean median\n",
              "platform                        \n",
              "PC            163.42 0.21   0.05\n",
              "PS4           314.14 0.80   0.20\n",
              "XOne          159.32 0.65   0.22"
            ]
          },
          "metadata": {
            "tags": []
          },
          "execution_count": 68
        }
      ]
    },
    {
      "cell_type": "markdown",
      "metadata": {
        "id": "3WlMHu3u4Zhw"
      },
      "source": [
        "<b>Близки медианы у PS4 и XOne, все они скошены вправо.</b>"
      ]
    },
    {
      "cell_type": "markdown",
      "metadata": {
        "id": "X2ViUlTq4Zhw"
      },
      "source": [
        "<b>Заметим насколько больше продаж, а значит и популярнее у нас игры на платформе PS4 </b>"
      ]
    },
    {
      "cell_type": "markdown",
      "metadata": {
        "id": "68Nm_8qS4Zhx"
      },
      "source": [
        "<ul style=\"border:solid black 2px; padding: 20px\">\n",
        "    <li>Посмотрим, как влияют на продажи внутри одной популярной платформы отзывы пользователей и критиков. Построим диаграмму рассеяния и посчитайте корреляцию между отзывами и продажами. Сформулируйте выводы.</li>\n",
        "</ul>"
      ]
    },
    {
      "cell_type": "code",
      "metadata": {
        "id": "hgvLvNfo4Zhx",
        "outputId": "29ab3d9c-94fb-4c41-ea59-2f45ba743c0d"
      },
      "source": [
        "display(platform_select)"
      ],
      "execution_count": null,
      "outputs": [
        {
          "output_type": "display_data",
          "data": {
            "text/html": [
              "<div>\n",
              "<style scoped>\n",
              "    .dataframe tbody tr th:only-of-type {\n",
              "        vertical-align: middle;\n",
              "    }\n",
              "\n",
              "    .dataframe tbody tr th {\n",
              "        vertical-align: top;\n",
              "    }\n",
              "\n",
              "    .dataframe thead th {\n",
              "        text-align: right;\n",
              "    }\n",
              "</style>\n",
              "<table border=\"1\" class=\"dataframe\">\n",
              "  <thead>\n",
              "    <tr style=\"text-align: right;\">\n",
              "      <th></th>\n",
              "      <th>name</th>\n",
              "      <th>platform</th>\n",
              "      <th>year_of_release</th>\n",
              "      <th>genre</th>\n",
              "      <th>na_sales</th>\n",
              "      <th>eu_sales</th>\n",
              "      <th>jp_sales</th>\n",
              "      <th>other_sales</th>\n",
              "      <th>critic_score</th>\n",
              "      <th>user_score</th>\n",
              "      <th>rating</th>\n",
              "      <th>total_sales</th>\n",
              "    </tr>\n",
              "  </thead>\n",
              "  <tbody>\n",
              "    <tr>\n",
              "      <td>31</td>\n",
              "      <td>Call of Duty: Black Ops 3</td>\n",
              "      <td>PS4</td>\n",
              "      <td>2015</td>\n",
              "      <td>Shooter</td>\n",
              "      <td>6.03</td>\n",
              "      <td>5.86</td>\n",
              "      <td>0.36</td>\n",
              "      <td>2.38</td>\n",
              "      <td>nan</td>\n",
              "      <td>nan</td>\n",
              "      <td>RP</td>\n",
              "      <td>14.63</td>\n",
              "    </tr>\n",
              "    <tr>\n",
              "      <td>42</td>\n",
              "      <td>Grand Theft Auto V</td>\n",
              "      <td>PS4</td>\n",
              "      <td>2014</td>\n",
              "      <td>Action</td>\n",
              "      <td>3.96</td>\n",
              "      <td>6.31</td>\n",
              "      <td>0.38</td>\n",
              "      <td>1.97</td>\n",
              "      <td>97.00</td>\n",
              "      <td>8.30</td>\n",
              "      <td>M</td>\n",
              "      <td>12.62</td>\n",
              "    </tr>\n",
              "    <tr>\n",
              "      <td>77</td>\n",
              "      <td>FIFA 16</td>\n",
              "      <td>PS4</td>\n",
              "      <td>2015</td>\n",
              "      <td>Sports</td>\n",
              "      <td>1.12</td>\n",
              "      <td>6.12</td>\n",
              "      <td>0.06</td>\n",
              "      <td>1.28</td>\n",
              "      <td>82.00</td>\n",
              "      <td>4.30</td>\n",
              "      <td>E</td>\n",
              "      <td>8.58</td>\n",
              "    </tr>\n",
              "    <tr>\n",
              "      <td>85</td>\n",
              "      <td>The Sims 3</td>\n",
              "      <td>PC</td>\n",
              "      <td>2009</td>\n",
              "      <td>Simulation</td>\n",
              "      <td>0.99</td>\n",
              "      <td>6.42</td>\n",
              "      <td>0.00</td>\n",
              "      <td>0.60</td>\n",
              "      <td>86.00</td>\n",
              "      <td>7.60</td>\n",
              "      <td>T</td>\n",
              "      <td>8.01</td>\n",
              "    </tr>\n",
              "    <tr>\n",
              "      <td>87</td>\n",
              "      <td>Star Wars Battlefront (2015)</td>\n",
              "      <td>PS4</td>\n",
              "      <td>2015</td>\n",
              "      <td>Shooter</td>\n",
              "      <td>2.99</td>\n",
              "      <td>3.49</td>\n",
              "      <td>0.22</td>\n",
              "      <td>1.28</td>\n",
              "      <td>nan</td>\n",
              "      <td>nan</td>\n",
              "      <td>RP</td>\n",
              "      <td>7.98</td>\n",
              "    </tr>\n",
              "    <tr>\n",
              "      <td>...</td>\n",
              "      <td>...</td>\n",
              "      <td>...</td>\n",
              "      <td>...</td>\n",
              "      <td>...</td>\n",
              "      <td>...</td>\n",
              "      <td>...</td>\n",
              "      <td>...</td>\n",
              "      <td>...</td>\n",
              "      <td>...</td>\n",
              "      <td>...</td>\n",
              "      <td>...</td>\n",
              "      <td>...</td>\n",
              "    </tr>\n",
              "    <tr>\n",
              "      <td>16690</td>\n",
              "      <td>Pony Friends 2</td>\n",
              "      <td>PC</td>\n",
              "      <td>2009</td>\n",
              "      <td>Simulation</td>\n",
              "      <td>0.00</td>\n",
              "      <td>0.01</td>\n",
              "      <td>0.00</td>\n",
              "      <td>0.00</td>\n",
              "      <td>nan</td>\n",
              "      <td>nan</td>\n",
              "      <td>RP</td>\n",
              "      <td>0.01</td>\n",
              "    </tr>\n",
              "    <tr>\n",
              "      <td>16692</td>\n",
              "      <td>Metal Gear Solid V: Ground Zeroes</td>\n",
              "      <td>PC</td>\n",
              "      <td>2014</td>\n",
              "      <td>Action</td>\n",
              "      <td>0.00</td>\n",
              "      <td>0.01</td>\n",
              "      <td>0.00</td>\n",
              "      <td>0.00</td>\n",
              "      <td>80.00</td>\n",
              "      <td>7.60</td>\n",
              "      <td>M</td>\n",
              "      <td>0.01</td>\n",
              "    </tr>\n",
              "    <tr>\n",
              "      <td>16696</td>\n",
              "      <td>Breach</td>\n",
              "      <td>PC</td>\n",
              "      <td>2011</td>\n",
              "      <td>Shooter</td>\n",
              "      <td>0.01</td>\n",
              "      <td>0.00</td>\n",
              "      <td>0.00</td>\n",
              "      <td>0.00</td>\n",
              "      <td>61.00</td>\n",
              "      <td>5.80</td>\n",
              "      <td>T</td>\n",
              "      <td>0.01</td>\n",
              "    </tr>\n",
              "    <tr>\n",
              "      <td>16702</td>\n",
              "      <td>STORM: Frontline Nation</td>\n",
              "      <td>PC</td>\n",
              "      <td>2011</td>\n",
              "      <td>Strategy</td>\n",
              "      <td>0.00</td>\n",
              "      <td>0.01</td>\n",
              "      <td>0.00</td>\n",
              "      <td>0.00</td>\n",
              "      <td>60.00</td>\n",
              "      <td>7.20</td>\n",
              "      <td>E10+</td>\n",
              "      <td>0.01</td>\n",
              "    </tr>\n",
              "    <tr>\n",
              "      <td>16705</td>\n",
              "      <td>15 Days</td>\n",
              "      <td>PC</td>\n",
              "      <td>2009</td>\n",
              "      <td>Adventure</td>\n",
              "      <td>0.00</td>\n",
              "      <td>0.01</td>\n",
              "      <td>0.00</td>\n",
              "      <td>0.00</td>\n",
              "      <td>63.00</td>\n",
              "      <td>5.80</td>\n",
              "      <td>RP</td>\n",
              "      <td>0.01</td>\n",
              "    </tr>\n",
              "  </tbody>\n",
              "</table>\n",
              "<p>1415 rows × 12 columns</p>\n",
              "</div>"
            ],
            "text/plain": [
              "                                    name platform  year_of_release  \\\n",
              "31             Call of Duty: Black Ops 3      PS4             2015   \n",
              "42                    Grand Theft Auto V      PS4             2014   \n",
              "77                               FIFA 16      PS4             2015   \n",
              "85                            The Sims 3       PC             2009   \n",
              "87          Star Wars Battlefront (2015)      PS4             2015   \n",
              "...                                  ...      ...              ...   \n",
              "16690                     Pony Friends 2       PC             2009   \n",
              "16692  Metal Gear Solid V: Ground Zeroes       PC             2014   \n",
              "16696                             Breach       PC             2011   \n",
              "16702            STORM: Frontline Nation       PC             2011   \n",
              "16705                            15 Days       PC             2009   \n",
              "\n",
              "            genre  na_sales  eu_sales  jp_sales  other_sales  critic_score  \\\n",
              "31        Shooter      6.03      5.86      0.36         2.38           nan   \n",
              "42         Action      3.96      6.31      0.38         1.97         97.00   \n",
              "77         Sports      1.12      6.12      0.06         1.28         82.00   \n",
              "85     Simulation      0.99      6.42      0.00         0.60         86.00   \n",
              "87        Shooter      2.99      3.49      0.22         1.28           nan   \n",
              "...           ...       ...       ...       ...          ...           ...   \n",
              "16690  Simulation      0.00      0.01      0.00         0.00           nan   \n",
              "16692      Action      0.00      0.01      0.00         0.00         80.00   \n",
              "16696     Shooter      0.01      0.00      0.00         0.00         61.00   \n",
              "16702    Strategy      0.00      0.01      0.00         0.00         60.00   \n",
              "16705   Adventure      0.00      0.01      0.00         0.00         63.00   \n",
              "\n",
              "       user_score rating  total_sales  \n",
              "31            nan     RP        14.63  \n",
              "42           8.30      M        12.62  \n",
              "77           4.30      E         8.58  \n",
              "85           7.60      T         8.01  \n",
              "87            nan     RP         7.98  \n",
              "...           ...    ...          ...  \n",
              "16690         nan     RP         0.01  \n",
              "16692        7.60      M         0.01  \n",
              "16696        5.80      T         0.01  \n",
              "16702        7.20   E10+         0.01  \n",
              "16705        5.80     RP         0.01  \n",
              "\n",
              "[1415 rows x 12 columns]"
            ]
          },
          "metadata": {
            "tags": []
          }
        }
      ]
    },
    {
      "cell_type": "markdown",
      "metadata": {
        "id": "StkTsVgt4Zhx"
      },
      "source": [
        "<b>Рассмотрим платформу PS4</b>"
      ]
    },
    {
      "cell_type": "code",
      "metadata": {
        "id": "rMjzHAlK4Zhx"
      },
      "source": [
        "corrMatrix_PS4 = platform_select[platform_select['platform'] == 'PS4']"
      ],
      "execution_count": null,
      "outputs": []
    },
    {
      "cell_type": "code",
      "metadata": {
        "id": "iSZZfFyX4Zhy"
      },
      "source": [
        "corrMatrix_PS4 = corrMatrix_PS4[['total_sales','user_score','critic_score']]"
      ],
      "execution_count": null,
      "outputs": []
    },
    {
      "cell_type": "code",
      "metadata": {
        "id": "DcAgZozC4Zhy",
        "outputId": "a2213f36-211b-42c1-afa1-c6444a47a3f1"
      },
      "source": [
        "pd.plotting.scatter_matrix(corrMatrix_PS4, figsize=(9,9))\n",
        "plt.show()"
      ],
      "execution_count": null,
      "outputs": [
        {
          "output_type": "display_data",
          "data": {
            "image/png": "[encoded data removed]",
            "text/plain": [
              "<Figure size 648x648 with 9 Axes>"
            ]
          },
          "metadata": {
            "tags": [],
            "needs_background": "light"
          }
        }
      ]
    },
    {
      "cell_type": "code",
      "metadata": {
        "id": "36E9hQna4Zhy"
      },
      "source": [
        "corrMatrix_PS4 = corrMatrix_PS4.corr()"
      ],
      "execution_count": null,
      "outputs": []
    },
    {
      "cell_type": "code",
      "metadata": {
        "id": "I_uzLCqx4Zhy",
        "outputId": "8affd0da-aca5-454b-fe07-0251bea5003e"
      },
      "source": [
        "sn.heatmap(corrMatrix_PS4, annot=True)\n",
        "plt.show()"
      ],
      "execution_count": null,
      "outputs": [
        {
          "output_type": "display_data",
          "data": {
            "image/png": "[encoded data removed]",
            "text/plain": [
              "<Figure size 432x288 with 2 Axes>"
            ]
          },
          "metadata": {
            "tags": [],
            "needs_background": "light"
          }
        }
      ]
    },
    {
      "cell_type": "markdown",
      "metadata": {
        "id": "CPy-8LDH4Zhz"
      },
      "source": [
        "1. <b>Корреляция между продажами и отзывами пользователей <b>-0,032</b> говорит о том, что связи нет. Выходит, отзывы пользователей никак не влияют на увеличение продаж.\n",
        "2. Корреляция между продажами и отзывами критиков <b>0,41</b>, говорит о наличии связи, однако слабой. Выходит, отзывами критиков могут повлиять на продажи, но так бывает не всегда.\n",
        "3. Корреляция между отзывами пользователей и отзывами критиков <b>0,56</b>, говорит о наличии связи, однако слабой. Выходит, отзывы критиков могут совпасть с отзывами пользователей, но так бывает не всегда.\n",
        "</b>"
      ]
    },
    {
      "cell_type": "markdown",
      "metadata": {
        "id": "h-OSoRQ64Zhz"
      },
      "source": [
        "<ul style=\"border:solid black 2px; padding: 20px\">\n",
        "    <li>Соотнесем выводы с продажами игр на других платформах.</li>\n",
        "</ul>"
      ]
    },
    {
      "cell_type": "code",
      "metadata": {
        "id": "pRw3LtDO4Zhz"
      },
      "source": [
        "corrMatrix_PC = platform_select[platform_select['platform'] == 'PC']\n",
        "corrMatrix_PC = corrMatrix_PC[['total_sales','user_score','critic_score']].corr()"
      ],
      "execution_count": null,
      "outputs": []
    },
    {
      "cell_type": "code",
      "metadata": {
        "id": "fecN5RiN4Zh0"
      },
      "source": [
        "corrMatrix_XOne = platform_select[platform_select['platform'] == 'XOne']\n",
        "corrMatrix_XOne = corrMatrix_XOne[['total_sales','user_score','critic_score']].corr()"
      ],
      "execution_count": null,
      "outputs": []
    },
    {
      "cell_type": "code",
      "metadata": {
        "id": "8MGTwl9E4Zh0",
        "outputId": "bb49f909-6a9c-45e0-f756-1a131bfb581e"
      },
      "source": [
        "sn.heatmap(corrMatrix_PC, annot=True)\n",
        "plt.show()"
      ],
      "execution_count": null,
      "outputs": [
        {
          "output_type": "display_data",
          "data": {
            "image/png": "[encoded data removed]",
            "text/plain": [
              "<Figure size 432x288 with 2 Axes>"
            ]
          },
          "metadata": {
            "tags": [],
            "needs_background": "light"
          }
        }
      ]
    },
    {
      "cell_type": "code",
      "metadata": {
        "id": "PDZfeKX04Zh0",
        "outputId": "5fc7f259-4bc2-4657-f5b8-b59c3b96089f"
      },
      "source": [
        "sn.heatmap(corrMatrix_XOne, annot=True)\n",
        "plt.show()"
      ],
      "execution_count": null,
      "outputs": [
        {
          "output_type": "display_data",
          "data": {
            "image/png": "[encoded data removed]",
            "text/plain": [
              "<Figure size 432x288 with 2 Axes>"
            ]
          },
          "metadata": {
            "tags": [],
            "needs_background": "light"
          }
        }
      ]
    },
    {
      "cell_type": "markdown",
      "metadata": {
        "id": "waiDyElx4Zh1"
      },
      "source": [
        "<b>Схожая ситуация завсисимостей как и на платформе PS4.</b>"
      ]
    },
    {
      "cell_type": "markdown",
      "metadata": {
        "id": "y9_SbvEp4Zh1"
      },
      "source": [
        "<ul style=\"border:solid black 2px; padding: 20px\">\n",
        "    <li>Посмотрим на общее распределение игр по жанрам. Что можно сказать о самых прибыльных жанрах? Выделяются ли жанры с высокими и низкими продажами?</li>\n",
        "</ul>"
      ]
    },
    {
      "cell_type": "markdown",
      "metadata": {
        "id": "2UZldPHf4Zh1"
      },
      "source": [
        "<b>Рассмотрим за все время</b>"
      ]
    },
    {
      "cell_type": "code",
      "metadata": {
        "id": "pwlujLbE4Zh1",
        "outputId": "d30a9ed8-03fb-4e95-f984-f27c1acb432c"
      },
      "source": [
        "df['genre'].value_counts()"
      ],
      "execution_count": null,
      "outputs": [
        {
          "output_type": "execute_result",
          "data": {
            "text/plain": [
              "Action          3307\n",
              "Sports          2306\n",
              "Misc            1721\n",
              "Role-Playing    1481\n",
              "Shooter         1296\n",
              "Adventure       1293\n",
              "Racing          1226\n",
              "Platform         878\n",
              "Simulation       857\n",
              "Fighting         837\n",
              "Strategy         673\n",
              "Puzzle           569\n",
              "No genre           2\n",
              "Name: genre, dtype: int64"
            ]
          },
          "metadata": {
            "tags": []
          },
          "execution_count": 79
        }
      ]
    },
    {
      "cell_type": "code",
      "metadata": {
        "id": "ihtJmCcU4Zh1",
        "outputId": "caaf111a-8b2e-4fcf-a5ac-7be44c1a1b33"
      },
      "source": [
        "df['genre'].value_counts().plot(kind = 'bar', figsize=(8,5),grid = True)\n",
        "plt.legend()\n",
        "plt.xticks(rotation = 45)\n",
        "plt.show()"
      ],
      "execution_count": null,
      "outputs": [
        {
          "output_type": "display_data",
          "data": {
            "image/png": "[encoded data removed]",
            "text/plain": [
              "<Figure size 576x360 with 1 Axes>"
            ]
          },
          "metadata": {
            "tags": [],
            "needs_background": "light"
          }
        }
      ]
    },
    {
      "cell_type": "code",
      "metadata": {
        "id": "sbws92FB4Zh2",
        "outputId": "bd6f521b-15e9-405f-d790-dd2bba6cb9fd"
      },
      "source": [
        "df.groupby('genre').agg({'total_sales':'sum'}).sort_values(by='total_sales', ascending = False).plot(kind = 'bar', figsize=(8,5),grid = True)\n",
        "plt.xticks(rotation = 45)\n",
        "plt.show()"
      ],
      "execution_count": null,
      "outputs": [
        {
          "output_type": "display_data",
          "data": {
            "image/png": "[encoded data removed]",
            "text/plain": [
              "<Figure size 576x360 with 1 Axes>"
            ]
          },
          "metadata": {
            "tags": [],
            "needs_background": "light"
          }
        }
      ]
    },
    {
      "cell_type": "markdown",
      "metadata": {
        "id": "9FH4eUgk4Zh2"
      },
      "source": [
        "<b>Лидируют в списке Action и Sports. Самые популярные жанры приносят большую прибыль, все логично. Удивляет жанр Adventure, весьма популярный, а прибыли от него маловато, что не скажешь про Shooter, где все наоборот.</b>"
      ]
    },
    {
      "cell_type": "markdown",
      "metadata": {
        "id": "5vhyvHEw4Zh2"
      },
      "source": [
        "<b>Рассмотрим за последние 10 лет.</b>"
      ]
    },
    {
      "cell_type": "code",
      "metadata": {
        "id": "eo7K6AtT4Zh3",
        "outputId": "684b222f-20ed-4257-db11-2a6d4dd746d5"
      },
      "source": [
        "games_date['genre'].value_counts()"
      ],
      "execution_count": null,
      "outputs": [
        {
          "output_type": "execute_result",
          "data": {
            "text/plain": [
              "Action          2382\n",
              "Sports          1262\n",
              "Misc            1253\n",
              "Adventure       1023\n",
              "Role-Playing     996\n",
              "Shooter          737\n",
              "Simulation       606\n",
              "Racing           562\n",
              "Fighting         413\n",
              "Strategy         393\n",
              "Puzzle           366\n",
              "Platform         340\n",
              "Name: genre, dtype: int64"
            ]
          },
          "metadata": {
            "tags": []
          },
          "execution_count": 82
        }
      ]
    },
    {
      "cell_type": "code",
      "metadata": {
        "id": "Ju7JaI7i4Zh3",
        "outputId": "886ada86-c59f-486e-aef1-ae77aa9360f4"
      },
      "source": [
        "games_date['genre'].value_counts().plot(kind = 'bar', figsize=(8,5),grid = True)\n",
        "plt.legend()\n",
        "plt.xticks(rotation = 45)\n",
        "plt.show()"
      ],
      "execution_count": null,
      "outputs": [
        {
          "output_type": "display_data",
          "data": {
            "image/png": "[encoded data removed]",
            "text/plain": [
              "<Figure size 576x360 with 1 Axes>"
            ]
          },
          "metadata": {
            "tags": [],
            "needs_background": "light"
          }
        }
      ]
    },
    {
      "cell_type": "code",
      "metadata": {
        "id": "AJe_3Pua4Zh3",
        "outputId": "3086c974-7995-49c6-f1d5-c898df6745a6"
      },
      "source": [
        "games_date.groupby('genre').agg({'total_sales':'sum'}).sort_values(by='total_sales', ascending = False).plot(kind = 'bar', figsize=(8,5),grid = True)\n",
        "plt.xticks(rotation = 45)\n",
        "plt.show()"
      ],
      "execution_count": null,
      "outputs": [
        {
          "output_type": "display_data",
          "data": {
            "image/png": "[encoded data removed]",
            "text/plain": [
              "<Figure size 576x360 with 1 Axes>"
            ]
          },
          "metadata": {
            "tags": [],
            "needs_background": "light"
          }
        }
      ]
    },
    {
      "cell_type": "markdown",
      "metadata": {
        "id": "g06fGWEp4Zh3"
      },
      "source": [
        "<b>Наблюдается схожая картина, интересы не меняются.</b>"
      ]
    },
    {
      "cell_type": "markdown",
      "metadata": {
        "id": "F4cmizTd4Zh4"
      },
      "source": [
        "## Составим портрет пользователя каждого региона"
      ]
    },
    {
      "cell_type": "markdown",
      "metadata": {
        "id": "seHhpqZg4Zh4"
      },
      "source": [
        "<b>Определим для пользователя каждого региона (NA, EU, JP):</b>"
      ]
    },
    {
      "cell_type": "markdown",
      "metadata": {
        "id": "wixznVai4Zh4"
      },
      "source": [
        "<ul style=\"border:solid black 2px; padding: 20px\">\n",
        "    <li>Самые популярные платформы (топ-5). Опишем различия в долях продаж.</li>\n",
        "</ul>"
      ]
    },
    {
      "cell_type": "code",
      "metadata": {
        "id": "XUXjP7CQ4Zh5",
        "outputId": "9478a0e1-35ee-474f-f7eb-aac56d92bbaf"
      },
      "source": [
        "display(games_date)"
      ],
      "execution_count": null,
      "outputs": [
        {
          "output_type": "display_data",
          "data": {
            "text/html": [
              "<div>\n",
              "<style scoped>\n",
              "    .dataframe tbody tr th:only-of-type {\n",
              "        vertical-align: middle;\n",
              "    }\n",
              "\n",
              "    .dataframe tbody tr th {\n",
              "        vertical-align: top;\n",
              "    }\n",
              "\n",
              "    .dataframe thead th {\n",
              "        text-align: right;\n",
              "    }\n",
              "</style>\n",
              "<table border=\"1\" class=\"dataframe\">\n",
              "  <thead>\n",
              "    <tr style=\"text-align: right;\">\n",
              "      <th></th>\n",
              "      <th>name</th>\n",
              "      <th>platform</th>\n",
              "      <th>year_of_release</th>\n",
              "      <th>genre</th>\n",
              "      <th>na_sales</th>\n",
              "      <th>eu_sales</th>\n",
              "      <th>jp_sales</th>\n",
              "      <th>other_sales</th>\n",
              "      <th>critic_score</th>\n",
              "      <th>user_score</th>\n",
              "      <th>rating</th>\n",
              "      <th>total_sales</th>\n",
              "    </tr>\n",
              "  </thead>\n",
              "  <tbody>\n",
              "    <tr>\n",
              "      <td>0</td>\n",
              "      <td>Wii Sports</td>\n",
              "      <td>Wii</td>\n",
              "      <td>2006</td>\n",
              "      <td>Sports</td>\n",
              "      <td>41.36</td>\n",
              "      <td>28.96</td>\n",
              "      <td>3.77</td>\n",
              "      <td>8.45</td>\n",
              "      <td>76.00</td>\n",
              "      <td>8.00</td>\n",
              "      <td>E</td>\n",
              "      <td>82.54</td>\n",
              "    </tr>\n",
              "    <tr>\n",
              "      <td>2</td>\n",
              "      <td>Mario Kart Wii</td>\n",
              "      <td>Wii</td>\n",
              "      <td>2008</td>\n",
              "      <td>Racing</td>\n",
              "      <td>15.68</td>\n",
              "      <td>12.76</td>\n",
              "      <td>3.79</td>\n",
              "      <td>3.29</td>\n",
              "      <td>82.00</td>\n",
              "      <td>8.30</td>\n",
              "      <td>E</td>\n",
              "      <td>35.52</td>\n",
              "    </tr>\n",
              "    <tr>\n",
              "      <td>3</td>\n",
              "      <td>Wii Sports Resort</td>\n",
              "      <td>Wii</td>\n",
              "      <td>2009</td>\n",
              "      <td>Sports</td>\n",
              "      <td>15.61</td>\n",
              "      <td>10.93</td>\n",
              "      <td>3.28</td>\n",
              "      <td>2.95</td>\n",
              "      <td>80.00</td>\n",
              "      <td>8.00</td>\n",
              "      <td>E</td>\n",
              "      <td>32.77</td>\n",
              "    </tr>\n",
              "    <tr>\n",
              "      <td>6</td>\n",
              "      <td>New Super Mario Bros.</td>\n",
              "      <td>DS</td>\n",
              "      <td>2006</td>\n",
              "      <td>Platform</td>\n",
              "      <td>11.28</td>\n",
              "      <td>9.14</td>\n",
              "      <td>6.50</td>\n",
              "      <td>2.88</td>\n",
              "      <td>89.00</td>\n",
              "      <td>8.50</td>\n",
              "      <td>E</td>\n",
              "      <td>29.80</td>\n",
              "    </tr>\n",
              "    <tr>\n",
              "      <td>7</td>\n",
              "      <td>Wii Play</td>\n",
              "      <td>Wii</td>\n",
              "      <td>2006</td>\n",
              "      <td>Misc</td>\n",
              "      <td>13.96</td>\n",
              "      <td>9.18</td>\n",
              "      <td>2.93</td>\n",
              "      <td>2.84</td>\n",
              "      <td>58.00</td>\n",
              "      <td>6.60</td>\n",
              "      <td>E</td>\n",
              "      <td>28.91</td>\n",
              "    </tr>\n",
              "    <tr>\n",
              "      <td>...</td>\n",
              "      <td>...</td>\n",
              "      <td>...</td>\n",
              "      <td>...</td>\n",
              "      <td>...</td>\n",
              "      <td>...</td>\n",
              "      <td>...</td>\n",
              "      <td>...</td>\n",
              "      <td>...</td>\n",
              "      <td>...</td>\n",
              "      <td>...</td>\n",
              "      <td>...</td>\n",
              "      <td>...</td>\n",
              "    </tr>\n",
              "    <tr>\n",
              "      <td>16709</td>\n",
              "      <td>SCORE International Baja 1000: The Official Game</td>\n",
              "      <td>PS2</td>\n",
              "      <td>2008</td>\n",
              "      <td>Racing</td>\n",
              "      <td>0.00</td>\n",
              "      <td>0.00</td>\n",
              "      <td>0.00</td>\n",
              "      <td>0.00</td>\n",
              "      <td>nan</td>\n",
              "      <td>nan</td>\n",
              "      <td>RP</td>\n",
              "      <td>0.00</td>\n",
              "    </tr>\n",
              "    <tr>\n",
              "      <td>16710</td>\n",
              "      <td>Samurai Warriors: Sanada Maru</td>\n",
              "      <td>PS3</td>\n",
              "      <td>2016</td>\n",
              "      <td>Action</td>\n",
              "      <td>0.00</td>\n",
              "      <td>0.00</td>\n",
              "      <td>0.01</td>\n",
              "      <td>0.00</td>\n",
              "      <td>nan</td>\n",
              "      <td>nan</td>\n",
              "      <td>RP</td>\n",
              "      <td>0.01</td>\n",
              "    </tr>\n",
              "    <tr>\n",
              "      <td>16711</td>\n",
              "      <td>LMA Manager 2007</td>\n",
              "      <td>X360</td>\n",
              "      <td>2006</td>\n",
              "      <td>Sports</td>\n",
              "      <td>0.00</td>\n",
              "      <td>0.01</td>\n",
              "      <td>0.00</td>\n",
              "      <td>0.00</td>\n",
              "      <td>nan</td>\n",
              "      <td>nan</td>\n",
              "      <td>RP</td>\n",
              "      <td>0.01</td>\n",
              "    </tr>\n",
              "    <tr>\n",
              "      <td>16712</td>\n",
              "      <td>Haitaka no Psychedelica</td>\n",
              "      <td>PSV</td>\n",
              "      <td>2016</td>\n",
              "      <td>Adventure</td>\n",
              "      <td>0.00</td>\n",
              "      <td>0.00</td>\n",
              "      <td>0.01</td>\n",
              "      <td>0.00</td>\n",
              "      <td>nan</td>\n",
              "      <td>nan</td>\n",
              "      <td>RP</td>\n",
              "      <td>0.01</td>\n",
              "    </tr>\n",
              "    <tr>\n",
              "      <td>16714</td>\n",
              "      <td>Winning Post 8 2016</td>\n",
              "      <td>PSV</td>\n",
              "      <td>2016</td>\n",
              "      <td>Simulation</td>\n",
              "      <td>0.00</td>\n",
              "      <td>0.00</td>\n",
              "      <td>0.01</td>\n",
              "      <td>0.00</td>\n",
              "      <td>nan</td>\n",
              "      <td>nan</td>\n",
              "      <td>RP</td>\n",
              "      <td>0.01</td>\n",
              "    </tr>\n",
              "  </tbody>\n",
              "</table>\n",
              "<p>10333 rows × 12 columns</p>\n",
              "</div>"
            ],
            "text/plain": [
              "                                                   name platform  \\\n",
              "0                                            Wii Sports      Wii   \n",
              "2                                        Mario Kart Wii      Wii   \n",
              "3                                     Wii Sports Resort      Wii   \n",
              "6                                 New Super Mario Bros.       DS   \n",
              "7                                              Wii Play      Wii   \n",
              "...                                                 ...      ...   \n",
              "16709  SCORE International Baja 1000: The Official Game      PS2   \n",
              "16710                     Samurai Warriors: Sanada Maru      PS3   \n",
              "16711                                  LMA Manager 2007     X360   \n",
              "16712                           Haitaka no Psychedelica      PSV   \n",
              "16714                               Winning Post 8 2016      PSV   \n",
              "\n",
              "       year_of_release       genre  na_sales  eu_sales  jp_sales  other_sales  \\\n",
              "0                 2006      Sports     41.36     28.96      3.77         8.45   \n",
              "2                 2008      Racing     15.68     12.76      3.79         3.29   \n",
              "3                 2009      Sports     15.61     10.93      3.28         2.95   \n",
              "6                 2006    Platform     11.28      9.14      6.50         2.88   \n",
              "7                 2006        Misc     13.96      9.18      2.93         2.84   \n",
              "...                ...         ...       ...       ...       ...          ...   \n",
              "16709             2008      Racing      0.00      0.00      0.00         0.00   \n",
              "16710             2016      Action      0.00      0.00      0.01         0.00   \n",
              "16711             2006      Sports      0.00      0.01      0.00         0.00   \n",
              "16712             2016   Adventure      0.00      0.00      0.01         0.00   \n",
              "16714             2016  Simulation      0.00      0.00      0.01         0.00   \n",
              "\n",
              "       critic_score  user_score rating  total_sales  \n",
              "0             76.00        8.00      E        82.54  \n",
              "2             82.00        8.30      E        35.52  \n",
              "3             80.00        8.00      E        32.77  \n",
              "6             89.00        8.50      E        29.80  \n",
              "7             58.00        6.60      E        28.91  \n",
              "...             ...         ...    ...          ...  \n",
              "16709           nan         nan     RP         0.00  \n",
              "16710           nan         nan     RP         0.01  \n",
              "16711           nan         nan     RP         0.01  \n",
              "16712           nan         nan     RP         0.01  \n",
              "16714           nan         nan     RP         0.01  \n",
              "\n",
              "[10333 rows x 12 columns]"
            ]
          },
          "metadata": {
            "tags": []
          }
        }
      ]
    },
    {
      "cell_type": "code",
      "metadata": {
        "id": "FjmDera54Zh5",
        "outputId": "d27366be-c79c-4e8c-9b8f-5aa844a7df2e"
      },
      "source": [
        "games_date.groupby('platform').agg({'na_sales':'mean'}).sort_values(by='na_sales', ascending = False).head(5).plot(kind = 'bar', figsize=(8,5),grid = True)\n",
        "plt.ylim(0, 0.5)\n",
        "plt.xticks(rotation = 0)\n",
        "plt.show()"
      ],
      "execution_count": null,
      "outputs": [
        {
          "output_type": "display_data",
          "data": {
            "image/png": "[encoded data removed]",
            "text/plain": [
              "<Figure size 576x360 with 1 Axes>"
            ]
          },
          "metadata": {
            "tags": [],
            "needs_background": "light"
          }
        }
      ]
    },
    {
      "cell_type": "markdown",
      "metadata": {
        "id": "otPYB7qs4Zh5"
      },
      "source": [
        "<b>В Северной Америке больше отдают предпочтение X360, XOne.</b>"
      ]
    },
    {
      "cell_type": "code",
      "metadata": {
        "id": "_F6B8Uuo4Zh6",
        "outputId": "c8008b4c-9f18-44a5-eb75-94f4eab85a67"
      },
      "source": [
        "games_date.groupby('platform').agg({'eu_sales':'mean'}).sort_values(by='eu_sales', ascending = False).head(5).plot(kind = 'bar', figsize=(8,5),grid = True)\n",
        "plt.ylim(0, 0.5)\n",
        "plt.xticks(rotation = 0)\n",
        "plt.show()"
      ],
      "execution_count": null,
      "outputs": [
        {
          "output_type": "display_data",
          "data": {
            "image/png": "[encoded data removed]",
            "text/plain": [
              "<Figure size 576x360 with 1 Axes>"
            ]
          },
          "metadata": {
            "tags": [],
            "needs_background": "light"
          }
        }
      ]
    },
    {
      "cell_type": "markdown",
      "metadata": {
        "id": "EvyItNDD4Zh6"
      },
      "source": [
        "<b>В Европе больше PS4 и PS3</b>"
      ]
    },
    {
      "cell_type": "code",
      "metadata": {
        "id": "-_xnTeqo4Zh6",
        "outputId": "72c4bf9b-4975-4295-bfd5-2c282fe0ff7d"
      },
      "source": [
        "games_date.groupby('platform').agg({'jp_sales':'mean'}).sort_values(by='jp_sales', ascending = False).head(5).plot(kind = 'bar', figsize=(8,5),grid = True)\n",
        "plt.ylim(0, 0.5)\n",
        "plt.xticks(rotation = 0)\n",
        "plt.show()"
      ],
      "execution_count": null,
      "outputs": [
        {
          "output_type": "display_data",
          "data": {
            "image/png": "[encoded data removed]",
            "text/plain": [
              "<Figure size 576x360 with 1 Axes>"
            ]
          },
          "metadata": {
            "tags": [],
            "needs_background": "light"
          }
        }
      ]
    },
    {
      "cell_type": "markdown",
      "metadata": {
        "id": "lauObj8u4Zh6"
      },
      "source": [
        "<b>Заметим, что рынки по интересам среди платформ ТОП-5 у Северной Америки и Европы совпадают. В Северной Америке преобладают продажи Х360, в Европе PS4. Продажи Wii и XOne в Северной Америке почти в два раза выше, чем в Европе. В Японии рынок интересов совершенно другой и прибыль с них намного меньше.</b>"
      ]
    },
    {
      "cell_type": "markdown",
      "metadata": {
        "id": "aYi04sfz4Zh7"
      },
      "source": [
        "<ul style=\"border:solid black 2px; padding: 20px\">\n",
        "    <li>Самые популярные жанры (топ-5). Поясним разницу.</li>\n",
        "</ul>"
      ]
    },
    {
      "cell_type": "code",
      "metadata": {
        "id": "yQXixUx-4Zh7",
        "outputId": "45a02020-28ba-46c1-9b5a-d940e529ac9d"
      },
      "source": [
        "games_date.groupby('genre').agg({'na_sales':'sum'}).sort_values(by='na_sales', ascending = False).head(5).plot(kind = 'bar', figsize=(8,5),grid = True)\n",
        "plt.ylim(0, 600)\n",
        "plt.xticks(rotation = 0)\n",
        "plt.show()"
      ],
      "execution_count": null,
      "outputs": [
        {
          "output_type": "display_data",
          "data": {
            "image/png": "[encoded data removed]",
            "text/plain": [
              "<Figure size 576x360 with 1 Axes>"
            ]
          },
          "metadata": {
            "tags": [],
            "needs_background": "light"
          }
        }
      ]
    },
    {
      "cell_type": "code",
      "metadata": {
        "id": "A5IJaO5t4Zh7",
        "outputId": "64ef2c61-f116-4d32-e497-f69167be38f9"
      },
      "source": [
        "games_date.groupby('genre').agg({'eu_sales':'sum'}).sort_values(by='eu_sales', ascending = False).head(5).plot(kind = 'bar', figsize=(8,5),grid = True)\n",
        "plt.ylim(0, 600)\n",
        "plt.xticks(rotation = 0)\n",
        "plt.show()"
      ],
      "execution_count": null,
      "outputs": [
        {
          "output_type": "display_data",
          "data": {
            "image/png": "[encoded data removed]",
            "text/plain": [
              "<Figure size 576x360 with 1 Axes>"
            ]
          },
          "metadata": {
            "tags": [],
            "needs_background": "light"
          }
        }
      ]
    },
    {
      "cell_type": "code",
      "metadata": {
        "id": "MsW0A05t4Zh7",
        "outputId": "25d43396-146c-40f2-e28b-86f205c43e9b"
      },
      "source": [
        "games_date.groupby('genre').agg({'jp_sales':'sum'}).sort_values(by='jp_sales', ascending = False).head(5).plot(kind = 'bar', figsize=(8,5),grid = True)\n",
        "plt.ylim(0, 600)\n",
        "plt.xticks(rotation = 0)\n",
        "plt.show()"
      ],
      "execution_count": null,
      "outputs": [
        {
          "output_type": "display_data",
          "data": {
            "image/png": "[encoded data removed]",
            "text/plain": [
              "<Figure size 576x360 with 1 Axes>"
            ]
          },
          "metadata": {
            "tags": [],
            "needs_background": "light"
          }
        }
      ]
    },
    {
      "cell_type": "markdown",
      "metadata": {
        "id": "8ZxTEWj24Zh8"
      },
      "source": [
        "<b>Снова совпадение интересов по жанрам у Северной Америки и Европы, но по продажам Северная Америка значительно преобладает, возможно это связано, с более развитой игровой индустрией, рекламой и продвижением. В Японии преобладают ролевые игры, и продажи ниже чем в Европе, но и людей в Японии намного меньше, отсюда и продаж возможно меньше.</b>"
      ]
    },
    {
      "cell_type": "markdown",
      "metadata": {
        "id": "dbsJfuPU4Zh8"
      },
      "source": [
        "<ul style=\"border:solid black 2px; padding: 20px\">\n",
        "    <li>Влияет ли рейтинг ESRB на продажи в отдельном регионе?</li>\n",
        "</ul>"
      ]
    },
    {
      "cell_type": "code",
      "metadata": {
        "id": "GJljr9hU4Zh8",
        "outputId": "18506121-910c-4c8b-c925-95b938aeb000"
      },
      "source": [
        "display(games_date)"
      ],
      "execution_count": null,
      "outputs": [
        {
          "output_type": "display_data",
          "data": {
            "text/html": [
              "<div>\n",
              "<style scoped>\n",
              "    .dataframe tbody tr th:only-of-type {\n",
              "        vertical-align: middle;\n",
              "    }\n",
              "\n",
              "    .dataframe tbody tr th {\n",
              "        vertical-align: top;\n",
              "    }\n",
              "\n",
              "    .dataframe thead th {\n",
              "        text-align: right;\n",
              "    }\n",
              "</style>\n",
              "<table border=\"1\" class=\"dataframe\">\n",
              "  <thead>\n",
              "    <tr style=\"text-align: right;\">\n",
              "      <th></th>\n",
              "      <th>name</th>\n",
              "      <th>platform</th>\n",
              "      <th>year_of_release</th>\n",
              "      <th>genre</th>\n",
              "      <th>na_sales</th>\n",
              "      <th>eu_sales</th>\n",
              "      <th>jp_sales</th>\n",
              "      <th>other_sales</th>\n",
              "      <th>critic_score</th>\n",
              "      <th>user_score</th>\n",
              "      <th>rating</th>\n",
              "      <th>total_sales</th>\n",
              "    </tr>\n",
              "  </thead>\n",
              "  <tbody>\n",
              "    <tr>\n",
              "      <td>0</td>\n",
              "      <td>Wii Sports</td>\n",
              "      <td>Wii</td>\n",
              "      <td>2006</td>\n",
              "      <td>Sports</td>\n",
              "      <td>41.36</td>\n",
              "      <td>28.96</td>\n",
              "      <td>3.77</td>\n",
              "      <td>8.45</td>\n",
              "      <td>76.00</td>\n",
              "      <td>8.00</td>\n",
              "      <td>E</td>\n",
              "      <td>82.54</td>\n",
              "    </tr>\n",
              "    <tr>\n",
              "      <td>2</td>\n",
              "      <td>Mario Kart Wii</td>\n",
              "      <td>Wii</td>\n",
              "      <td>2008</td>\n",
              "      <td>Racing</td>\n",
              "      <td>15.68</td>\n",
              "      <td>12.76</td>\n",
              "      <td>3.79</td>\n",
              "      <td>3.29</td>\n",
              "      <td>82.00</td>\n",
              "      <td>8.30</td>\n",
              "      <td>E</td>\n",
              "      <td>35.52</td>\n",
              "    </tr>\n",
              "    <tr>\n",
              "      <td>3</td>\n",
              "      <td>Wii Sports Resort</td>\n",
              "      <td>Wii</td>\n",
              "      <td>2009</td>\n",
              "      <td>Sports</td>\n",
              "      <td>15.61</td>\n",
              "      <td>10.93</td>\n",
              "      <td>3.28</td>\n",
              "      <td>2.95</td>\n",
              "      <td>80.00</td>\n",
              "      <td>8.00</td>\n",
              "      <td>E</td>\n",
              "      <td>32.77</td>\n",
              "    </tr>\n",
              "    <tr>\n",
              "      <td>6</td>\n",
              "      <td>New Super Mario Bros.</td>\n",
              "      <td>DS</td>\n",
              "      <td>2006</td>\n",
              "      <td>Platform</td>\n",
              "      <td>11.28</td>\n",
              "      <td>9.14</td>\n",
              "      <td>6.50</td>\n",
              "      <td>2.88</td>\n",
              "      <td>89.00</td>\n",
              "      <td>8.50</td>\n",
              "      <td>E</td>\n",
              "      <td>29.80</td>\n",
              "    </tr>\n",
              "    <tr>\n",
              "      <td>7</td>\n",
              "      <td>Wii Play</td>\n",
              "      <td>Wii</td>\n",
              "      <td>2006</td>\n",
              "      <td>Misc</td>\n",
              "      <td>13.96</td>\n",
              "      <td>9.18</td>\n",
              "      <td>2.93</td>\n",
              "      <td>2.84</td>\n",
              "      <td>58.00</td>\n",
              "      <td>6.60</td>\n",
              "      <td>E</td>\n",
              "      <td>28.91</td>\n",
              "    </tr>\n",
              "    <tr>\n",
              "      <td>...</td>\n",
              "      <td>...</td>\n",
              "      <td>...</td>\n",
              "      <td>...</td>\n",
              "      <td>...</td>\n",
              "      <td>...</td>\n",
              "      <td>...</td>\n",
              "      <td>...</td>\n",
              "      <td>...</td>\n",
              "      <td>...</td>\n",
              "      <td>...</td>\n",
              "      <td>...</td>\n",
              "      <td>...</td>\n",
              "    </tr>\n",
              "    <tr>\n",
              "      <td>16709</td>\n",
              "      <td>SCORE International Baja 1000: The Official Game</td>\n",
              "      <td>PS2</td>\n",
              "      <td>2008</td>\n",
              "      <td>Racing</td>\n",
              "      <td>0.00</td>\n",
              "      <td>0.00</td>\n",
              "      <td>0.00</td>\n",
              "      <td>0.00</td>\n",
              "      <td>nan</td>\n",
              "      <td>nan</td>\n",
              "      <td>RP</td>\n",
              "      <td>0.00</td>\n",
              "    </tr>\n",
              "    <tr>\n",
              "      <td>16710</td>\n",
              "      <td>Samurai Warriors: Sanada Maru</td>\n",
              "      <td>PS3</td>\n",
              "      <td>2016</td>\n",
              "      <td>Action</td>\n",
              "      <td>0.00</td>\n",
              "      <td>0.00</td>\n",
              "      <td>0.01</td>\n",
              "      <td>0.00</td>\n",
              "      <td>nan</td>\n",
              "      <td>nan</td>\n",
              "      <td>RP</td>\n",
              "      <td>0.01</td>\n",
              "    </tr>\n",
              "    <tr>\n",
              "      <td>16711</td>\n",
              "      <td>LMA Manager 2007</td>\n",
              "      <td>X360</td>\n",
              "      <td>2006</td>\n",
              "      <td>Sports</td>\n",
              "      <td>0.00</td>\n",
              "      <td>0.01</td>\n",
              "      <td>0.00</td>\n",
              "      <td>0.00</td>\n",
              "      <td>nan</td>\n",
              "      <td>nan</td>\n",
              "      <td>RP</td>\n",
              "      <td>0.01</td>\n",
              "    </tr>\n",
              "    <tr>\n",
              "      <td>16712</td>\n",
              "      <td>Haitaka no Psychedelica</td>\n",
              "      <td>PSV</td>\n",
              "      <td>2016</td>\n",
              "      <td>Adventure</td>\n",
              "      <td>0.00</td>\n",
              "      <td>0.00</td>\n",
              "      <td>0.01</td>\n",
              "      <td>0.00</td>\n",
              "      <td>nan</td>\n",
              "      <td>nan</td>\n",
              "      <td>RP</td>\n",
              "      <td>0.01</td>\n",
              "    </tr>\n",
              "    <tr>\n",
              "      <td>16714</td>\n",
              "      <td>Winning Post 8 2016</td>\n",
              "      <td>PSV</td>\n",
              "      <td>2016</td>\n",
              "      <td>Simulation</td>\n",
              "      <td>0.00</td>\n",
              "      <td>0.00</td>\n",
              "      <td>0.01</td>\n",
              "      <td>0.00</td>\n",
              "      <td>nan</td>\n",
              "      <td>nan</td>\n",
              "      <td>RP</td>\n",
              "      <td>0.01</td>\n",
              "    </tr>\n",
              "  </tbody>\n",
              "</table>\n",
              "<p>10333 rows × 12 columns</p>\n",
              "</div>"
            ],
            "text/plain": [
              "                                                   name platform  \\\n",
              "0                                            Wii Sports      Wii   \n",
              "2                                        Mario Kart Wii      Wii   \n",
              "3                                     Wii Sports Resort      Wii   \n",
              "6                                 New Super Mario Bros.       DS   \n",
              "7                                              Wii Play      Wii   \n",
              "...                                                 ...      ...   \n",
              "16709  SCORE International Baja 1000: The Official Game      PS2   \n",
              "16710                     Samurai Warriors: Sanada Maru      PS3   \n",
              "16711                                  LMA Manager 2007     X360   \n",
              "16712                           Haitaka no Psychedelica      PSV   \n",
              "16714                               Winning Post 8 2016      PSV   \n",
              "\n",
              "       year_of_release       genre  na_sales  eu_sales  jp_sales  other_sales  \\\n",
              "0                 2006      Sports     41.36     28.96      3.77         8.45   \n",
              "2                 2008      Racing     15.68     12.76      3.79         3.29   \n",
              "3                 2009      Sports     15.61     10.93      3.28         2.95   \n",
              "6                 2006    Platform     11.28      9.14      6.50         2.88   \n",
              "7                 2006        Misc     13.96      9.18      2.93         2.84   \n",
              "...                ...         ...       ...       ...       ...          ...   \n",
              "16709             2008      Racing      0.00      0.00      0.00         0.00   \n",
              "16710             2016      Action      0.00      0.00      0.01         0.00   \n",
              "16711             2006      Sports      0.00      0.01      0.00         0.00   \n",
              "16712             2016   Adventure      0.00      0.00      0.01         0.00   \n",
              "16714             2016  Simulation      0.00      0.00      0.01         0.00   \n",
              "\n",
              "       critic_score  user_score rating  total_sales  \n",
              "0             76.00        8.00      E        82.54  \n",
              "2             82.00        8.30      E        35.52  \n",
              "3             80.00        8.00      E        32.77  \n",
              "6             89.00        8.50      E        29.80  \n",
              "7             58.00        6.60      E        28.91  \n",
              "...             ...         ...    ...          ...  \n",
              "16709           nan         nan     RP         0.00  \n",
              "16710           nan         nan     RP         0.01  \n",
              "16711           nan         nan     RP         0.01  \n",
              "16712           nan         nan     RP         0.01  \n",
              "16714           nan         nan     RP         0.01  \n",
              "\n",
              "[10333 rows x 12 columns]"
            ]
          },
          "metadata": {
            "tags": []
          }
        }
      ]
    },
    {
      "cell_type": "markdown",
      "metadata": {
        "id": "Ik0GdffW4Zh9"
      },
      "source": [
        "<b>Рейтинги ESRB в Северной Америке</b>"
      ]
    },
    {
      "cell_type": "code",
      "metadata": {
        "id": "d-3Z1e294Zh9",
        "outputId": "de5b22d9-974b-4b5c-9d5f-853d25512114"
      },
      "source": [
        "games_date.groupby('rating').agg({'na_sales':'sum'}).sort_values(by='na_sales', ascending = True).plot(kind = 'bar', figsize=(8,5),grid = True)\n",
        "plt.xticks(rotation = 0)\n",
        "plt.show()"
      ],
      "execution_count": null,
      "outputs": [
        {
          "output_type": "display_data",
          "data": {
            "image/png": "[encoded data removed]",
            "text/plain": [
              "<Figure size 576x360 with 1 Axes>"
            ]
          },
          "metadata": {
            "tags": [],
            "needs_background": "light"
          }
        }
      ]
    },
    {
      "cell_type": "markdown",
      "metadata": {
        "id": "JO5TGU4G4Zh9"
      },
      "source": [
        "<b>Рейтинги ESRB в Европе</b>"
      ]
    },
    {
      "cell_type": "code",
      "metadata": {
        "id": "i2k_Qd1z4Zh9",
        "outputId": "c91e5754-4e69-496d-ff41-1759b0ca3a30"
      },
      "source": [
        "games_date.groupby('rating').agg({'eu_sales':'sum'}).sort_values(by='eu_sales', ascending = True).plot(kind = 'bar', figsize=(8,5),grid = True)\n",
        "plt.xticks(rotation = 0)\n",
        "plt.show()"
      ],
      "execution_count": null,
      "outputs": [
        {
          "output_type": "display_data",
          "data": {
            "image/png": "[encoded data removed]",
            "text/plain": [
              "<Figure size 576x360 with 1 Axes>"
            ]
          },
          "metadata": {
            "tags": [],
            "needs_background": "light"
          }
        }
      ]
    },
    {
      "cell_type": "markdown",
      "metadata": {
        "id": "KFeQnLcn4Zh-"
      },
      "source": [
        "<b>Рейтинги ESRB в Японии</b>"
      ]
    },
    {
      "cell_type": "code",
      "metadata": {
        "id": "zTpG4IC44Zh-",
        "outputId": "f1608a1a-fcd3-41eb-bf00-0e9394c807b9"
      },
      "source": [
        "games_date.groupby('rating').agg({'jp_sales':'sum'}).sort_values(by='jp_sales', ascending = True).plot(kind = 'bar', figsize=(8,5),grid = True)\n",
        "plt.xticks(rotation = 0)\n",
        "plt.show()"
      ],
      "execution_count": null,
      "outputs": [
        {
          "output_type": "display_data",
          "data": {
            "image/png": "[encoded data removed]",
            "text/plain": [
              "<Figure size 576x360 with 1 Axes>"
            ]
          },
          "metadata": {
            "tags": [],
            "needs_background": "light"
          }
        }
      ]
    },
    {
      "cell_type": "markdown",
      "metadata": {
        "id": "p-5JchM64Zh-"
      },
      "source": [
        "<b>Конечно же рейтинг ESRB влияет на продажи в каждом из регионов. Если игры находятся в рейтинге Е, то там самая большая продажа. Получается выгодно выпускать игры с рейтингом E и M, T.<b>"
      ]
    },
    {
      "cell_type": "markdown",
      "metadata": {
        "id": "vDex0Y-24Zh_"
      },
      "source": [
        "## Проверяем гипотезы"
      ]
    },
    {
      "cell_type": "markdown",
      "metadata": {
        "id": "dmFEapJk4Zh_"
      },
      "source": [
        "<ul style=\"border:solid black 2px; padding: 20px\">\n",
        "    <li>Средние пользовательские рейтинги платформ Xbox One и PC одинаковые;</li>\n",
        "</ul>"
      ]
    },
    {
      "cell_type": "markdown",
      "metadata": {
        "id": "NtYjv-4-4Zh_"
      },
      "source": [
        "<b>Используем t-критерий Стъюдента, так как сравниваемые выборки независимы между собой.</b>"
      ]
    },
    {
      "cell_type": "markdown",
      "metadata": {
        "id": "IwD1u-rs4ZiA"
      },
      "source": [
        "<b>Так как у нас генеральных совокупности две, и нам необходимо сопоставить их средние, то применим гипотезу о равенстве средних двух генеральных совокупностей.</b>"
      ]
    },
    {
      "cell_type": "markdown",
      "metadata": {
        "id": "x9Flx9bt4ZiA"
      },
      "source": [
        "<b> Сформулируем гипотезы:\n",
        "    <ul>\n",
        "        <li>H0: Cредние пользовательские рейтинги платформ Xbox One и PC одинаковые;</li>\n",
        "        <li>H1: Средние пользовательские рейтинги платформ Xbox One и PC различается;</li>\n",
        "    </ul> \n",
        "</b>"
      ]
    },
    {
      "cell_type": "code",
      "metadata": {
        "id": "Q_MTa5g84ZiA",
        "outputId": "90e2e32b-28f4-4da5-bf3c-b9e123b461af"
      },
      "source": [
        "display(games_date)"
      ],
      "execution_count": null,
      "outputs": [
        {
          "output_type": "display_data",
          "data": {
            "text/html": [
              "<div>\n",
              "<style scoped>\n",
              "    .dataframe tbody tr th:only-of-type {\n",
              "        vertical-align: middle;\n",
              "    }\n",
              "\n",
              "    .dataframe tbody tr th {\n",
              "        vertical-align: top;\n",
              "    }\n",
              "\n",
              "    .dataframe thead th {\n",
              "        text-align: right;\n",
              "    }\n",
              "</style>\n",
              "<table border=\"1\" class=\"dataframe\">\n",
              "  <thead>\n",
              "    <tr style=\"text-align: right;\">\n",
              "      <th></th>\n",
              "      <th>name</th>\n",
              "      <th>platform</th>\n",
              "      <th>year_of_release</th>\n",
              "      <th>genre</th>\n",
              "      <th>na_sales</th>\n",
              "      <th>eu_sales</th>\n",
              "      <th>jp_sales</th>\n",
              "      <th>other_sales</th>\n",
              "      <th>critic_score</th>\n",
              "      <th>user_score</th>\n",
              "      <th>rating</th>\n",
              "      <th>total_sales</th>\n",
              "    </tr>\n",
              "  </thead>\n",
              "  <tbody>\n",
              "    <tr>\n",
              "      <td>0</td>\n",
              "      <td>Wii Sports</td>\n",
              "      <td>Wii</td>\n",
              "      <td>2006</td>\n",
              "      <td>Sports</td>\n",
              "      <td>41.36</td>\n",
              "      <td>28.96</td>\n",
              "      <td>3.77</td>\n",
              "      <td>8.45</td>\n",
              "      <td>76.00</td>\n",
              "      <td>8.00</td>\n",
              "      <td>E</td>\n",
              "      <td>82.54</td>\n",
              "    </tr>\n",
              "    <tr>\n",
              "      <td>2</td>\n",
              "      <td>Mario Kart Wii</td>\n",
              "      <td>Wii</td>\n",
              "      <td>2008</td>\n",
              "      <td>Racing</td>\n",
              "      <td>15.68</td>\n",
              "      <td>12.76</td>\n",
              "      <td>3.79</td>\n",
              "      <td>3.29</td>\n",
              "      <td>82.00</td>\n",
              "      <td>8.30</td>\n",
              "      <td>E</td>\n",
              "      <td>35.52</td>\n",
              "    </tr>\n",
              "    <tr>\n",
              "      <td>3</td>\n",
              "      <td>Wii Sports Resort</td>\n",
              "      <td>Wii</td>\n",
              "      <td>2009</td>\n",
              "      <td>Sports</td>\n",
              "      <td>15.61</td>\n",
              "      <td>10.93</td>\n",
              "      <td>3.28</td>\n",
              "      <td>2.95</td>\n",
              "      <td>80.00</td>\n",
              "      <td>8.00</td>\n",
              "      <td>E</td>\n",
              "      <td>32.77</td>\n",
              "    </tr>\n",
              "    <tr>\n",
              "      <td>6</td>\n",
              "      <td>New Super Mario Bros.</td>\n",
              "      <td>DS</td>\n",
              "      <td>2006</td>\n",
              "      <td>Platform</td>\n",
              "      <td>11.28</td>\n",
              "      <td>9.14</td>\n",
              "      <td>6.50</td>\n",
              "      <td>2.88</td>\n",
              "      <td>89.00</td>\n",
              "      <td>8.50</td>\n",
              "      <td>E</td>\n",
              "      <td>29.80</td>\n",
              "    </tr>\n",
              "    <tr>\n",
              "      <td>7</td>\n",
              "      <td>Wii Play</td>\n",
              "      <td>Wii</td>\n",
              "      <td>2006</td>\n",
              "      <td>Misc</td>\n",
              "      <td>13.96</td>\n",
              "      <td>9.18</td>\n",
              "      <td>2.93</td>\n",
              "      <td>2.84</td>\n",
              "      <td>58.00</td>\n",
              "      <td>6.60</td>\n",
              "      <td>E</td>\n",
              "      <td>28.91</td>\n",
              "    </tr>\n",
              "    <tr>\n",
              "      <td>...</td>\n",
              "      <td>...</td>\n",
              "      <td>...</td>\n",
              "      <td>...</td>\n",
              "      <td>...</td>\n",
              "      <td>...</td>\n",
              "      <td>...</td>\n",
              "      <td>...</td>\n",
              "      <td>...</td>\n",
              "      <td>...</td>\n",
              "      <td>...</td>\n",
              "      <td>...</td>\n",
              "      <td>...</td>\n",
              "    </tr>\n",
              "    <tr>\n",
              "      <td>16709</td>\n",
              "      <td>SCORE International Baja 1000: The Official Game</td>\n",
              "      <td>PS2</td>\n",
              "      <td>2008</td>\n",
              "      <td>Racing</td>\n",
              "      <td>0.00</td>\n",
              "      <td>0.00</td>\n",
              "      <td>0.00</td>\n",
              "      <td>0.00</td>\n",
              "      <td>nan</td>\n",
              "      <td>nan</td>\n",
              "      <td>RP</td>\n",
              "      <td>0.00</td>\n",
              "    </tr>\n",
              "    <tr>\n",
              "      <td>16710</td>\n",
              "      <td>Samurai Warriors: Sanada Maru</td>\n",
              "      <td>PS3</td>\n",
              "      <td>2016</td>\n",
              "      <td>Action</td>\n",
              "      <td>0.00</td>\n",
              "      <td>0.00</td>\n",
              "      <td>0.01</td>\n",
              "      <td>0.00</td>\n",
              "      <td>nan</td>\n",
              "      <td>nan</td>\n",
              "      <td>RP</td>\n",
              "      <td>0.01</td>\n",
              "    </tr>\n",
              "    <tr>\n",
              "      <td>16711</td>\n",
              "      <td>LMA Manager 2007</td>\n",
              "      <td>X360</td>\n",
              "      <td>2006</td>\n",
              "      <td>Sports</td>\n",
              "      <td>0.00</td>\n",
              "      <td>0.01</td>\n",
              "      <td>0.00</td>\n",
              "      <td>0.00</td>\n",
              "      <td>nan</td>\n",
              "      <td>nan</td>\n",
              "      <td>RP</td>\n",
              "      <td>0.01</td>\n",
              "    </tr>\n",
              "    <tr>\n",
              "      <td>16712</td>\n",
              "      <td>Haitaka no Psychedelica</td>\n",
              "      <td>PSV</td>\n",
              "      <td>2016</td>\n",
              "      <td>Adventure</td>\n",
              "      <td>0.00</td>\n",
              "      <td>0.00</td>\n",
              "      <td>0.01</td>\n",
              "      <td>0.00</td>\n",
              "      <td>nan</td>\n",
              "      <td>nan</td>\n",
              "      <td>RP</td>\n",
              "      <td>0.01</td>\n",
              "    </tr>\n",
              "    <tr>\n",
              "      <td>16714</td>\n",
              "      <td>Winning Post 8 2016</td>\n",
              "      <td>PSV</td>\n",
              "      <td>2016</td>\n",
              "      <td>Simulation</td>\n",
              "      <td>0.00</td>\n",
              "      <td>0.00</td>\n",
              "      <td>0.01</td>\n",
              "      <td>0.00</td>\n",
              "      <td>nan</td>\n",
              "      <td>nan</td>\n",
              "      <td>RP</td>\n",
              "      <td>0.01</td>\n",
              "    </tr>\n",
              "  </tbody>\n",
              "</table>\n",
              "<p>10333 rows × 12 columns</p>\n",
              "</div>"
            ],
            "text/plain": [
              "                                                   name platform  \\\n",
              "0                                            Wii Sports      Wii   \n",
              "2                                        Mario Kart Wii      Wii   \n",
              "3                                     Wii Sports Resort      Wii   \n",
              "6                                 New Super Mario Bros.       DS   \n",
              "7                                              Wii Play      Wii   \n",
              "...                                                 ...      ...   \n",
              "16709  SCORE International Baja 1000: The Official Game      PS2   \n",
              "16710                     Samurai Warriors: Sanada Maru      PS3   \n",
              "16711                                  LMA Manager 2007     X360   \n",
              "16712                           Haitaka no Psychedelica      PSV   \n",
              "16714                               Winning Post 8 2016      PSV   \n",
              "\n",
              "       year_of_release       genre  na_sales  eu_sales  jp_sales  other_sales  \\\n",
              "0                 2006      Sports     41.36     28.96      3.77         8.45   \n",
              "2                 2008      Racing     15.68     12.76      3.79         3.29   \n",
              "3                 2009      Sports     15.61     10.93      3.28         2.95   \n",
              "6                 2006    Platform     11.28      9.14      6.50         2.88   \n",
              "7                 2006        Misc     13.96      9.18      2.93         2.84   \n",
              "...                ...         ...       ...       ...       ...          ...   \n",
              "16709             2008      Racing      0.00      0.00      0.00         0.00   \n",
              "16710             2016      Action      0.00      0.00      0.01         0.00   \n",
              "16711             2006      Sports      0.00      0.01      0.00         0.00   \n",
              "16712             2016   Adventure      0.00      0.00      0.01         0.00   \n",
              "16714             2016  Simulation      0.00      0.00      0.01         0.00   \n",
              "\n",
              "       critic_score  user_score rating  total_sales  \n",
              "0             76.00        8.00      E        82.54  \n",
              "2             82.00        8.30      E        35.52  \n",
              "3             80.00        8.00      E        32.77  \n",
              "6             89.00        8.50      E        29.80  \n",
              "7             58.00        6.60      E        28.91  \n",
              "...             ...         ...    ...          ...  \n",
              "16709           nan         nan     RP         0.00  \n",
              "16710           nan         nan     RP         0.01  \n",
              "16711           nan         nan     RP         0.01  \n",
              "16712           nan         nan     RP         0.01  \n",
              "16714           nan         nan     RP         0.01  \n",
              "\n",
              "[10333 rows x 12 columns]"
            ]
          },
          "metadata": {
            "tags": []
          }
        }
      ]
    },
    {
      "cell_type": "code",
      "metadata": {
        "id": "3d9Ya17l4ZiA"
      },
      "source": [
        "alpha = 0.05"
      ],
      "execution_count": null,
      "outputs": []
    },
    {
      "cell_type": "code",
      "metadata": {
        "id": "pPjv6BUF4ZiB"
      },
      "source": [
        "df.dropna(subset = ['user_score'], inplace = True)"
      ],
      "execution_count": null,
      "outputs": []
    },
    {
      "cell_type": "code",
      "metadata": {
        "id": "gAKhYMQO4ZiB"
      },
      "source": [
        "xbox_one = df[(df['platform'] == 'XOne')]['user_score']\n",
        "pc = df[(df['platform'] == 'PC') ]['user_score']"
      ],
      "execution_count": null,
      "outputs": []
    },
    {
      "cell_type": "code",
      "metadata": {
        "id": "x7scgS614ZiB",
        "outputId": "7b1ee0f9-3d79-4861-deb5-6e7b6665ab2a"
      },
      "source": [
        "xbox_one.var()"
      ],
      "execution_count": null,
      "outputs": [
        {
          "output_type": "execute_result",
          "data": {
            "text/plain": [
              "1.9069968429360695"
            ]
          },
          "metadata": {
            "tags": []
          },
          "execution_count": 100
        }
      ]
    },
    {
      "cell_type": "code",
      "metadata": {
        "id": "qrDA3JVh4ZiB",
        "outputId": "235ab763-5db9-4b22-f684-d40341f3b33f"
      },
      "source": [
        "pc.var()"
      ],
      "execution_count": null,
      "outputs": [
        {
          "output_type": "execute_result",
          "data": {
            "text/plain": [
              "2.349224375076853"
            ]
          },
          "metadata": {
            "tags": []
          },
          "execution_count": 101
        }
      ]
    },
    {
      "cell_type": "code",
      "metadata": {
        "id": "d69nv2As4ZiC"
      },
      "source": [
        "results = st.ttest_ind(xbox_one, pc)"
      ],
      "execution_count": null,
      "outputs": []
    },
    {
      "cell_type": "code",
      "metadata": {
        "id": "1k3sHb0Z4ZiC",
        "outputId": "56c14384-3b4a-4c55-8345-04b60333d50a"
      },
      "source": [
        "print('p-значение:', results.pvalue)\n",
        "\n",
        "if (results.pvalue < alpha):\n",
        "    print('Отвергаем нулевую гипотезу')\n",
        "else:\n",
        "    print('Не получилось отвергнуть нулевую гипотезу')"
      ],
      "execution_count": null,
      "outputs": [
        {
          "output_type": "stream",
          "text": [
            "p-значение: 1.3037979620149106e-05\n",
            "Отвергаем нулевую гипотезу\n"
          ],
          "name": "stdout"
        }
      ]
    },
    {
      "cell_type": "markdown",
      "metadata": {
        "id": "4iCzuU7n4ZiC"
      },
      "source": [
        "<b>Присутствуют значимые различия между выборками.</b>"
      ]
    },
    {
      "cell_type": "markdown",
      "metadata": {
        "id": "MSaLYleQ4ZiD"
      },
      "source": [
        "<ul style=\"border:solid black 2px; padding: 20px\">\n",
        "    <li>Средние пользовательские рейтинги жанров Action (англ. «действие», экшен-игры) и Sports (англ. «спортивные соревнования») разные;</li>\n",
        "</ul>"
      ]
    },
    {
      "cell_type": "markdown",
      "metadata": {
        "id": "yqg2ndt84ZiD"
      },
      "source": [
        "<b> Сформулируем гипотезы:\n",
        "    <ul>\n",
        "        <li>H0: Средние пользовательские рейтинги жанров Action и Sports не разные;</li>\n",
        "        <li>H1: Средние пользовательские рейтинги жанров Action и Sports разные;</li>\n",
        "    </ul> \n",
        "</b>"
      ]
    },
    {
      "cell_type": "code",
      "metadata": {
        "id": "j97rvNXc4ZiE"
      },
      "source": [
        "action_df = df[df['genre'] == 'Action']['user_score']\n",
        "sports_df = df[df['genre'] == 'Sports']['user_score']"
      ],
      "execution_count": null,
      "outputs": []
    },
    {
      "cell_type": "code",
      "metadata": {
        "id": "VzjKLDBo4ZiE",
        "outputId": "5b3c5251-f4a8-426f-c2f4-f06995a6669a"
      },
      "source": [
        "action_df.var()"
      ],
      "execution_count": null,
      "outputs": [
        {
          "output_type": "execute_result",
          "data": {
            "text/plain": [
              "2.027493768262496"
            ]
          },
          "metadata": {
            "tags": []
          },
          "execution_count": 105
        }
      ]
    },
    {
      "cell_type": "code",
      "metadata": {
        "id": "sNgfFdTK4ZiE",
        "outputId": "3f5aa9bc-b70d-4d1c-c329-b3087e1c9de9"
      },
      "source": [
        "sports_df.var()"
      ],
      "execution_count": null,
      "outputs": [
        {
          "output_type": "execute_result",
          "data": {
            "text/plain": [
              "2.623055812519272"
            ]
          },
          "metadata": {
            "tags": []
          },
          "execution_count": 106
        }
      ]
    },
    {
      "cell_type": "code",
      "metadata": {
        "id": "wl07lcv_4ZiE"
      },
      "source": [
        "results = st.ttest_ind(action_df, sports_df)"
      ],
      "execution_count": null,
      "outputs": []
    },
    {
      "cell_type": "code",
      "metadata": {
        "id": "TEfFi4PW4ZiF",
        "outputId": "ccaec8a2-5626-4f4f-c948-e2a5bd790e86"
      },
      "source": [
        "print('p-значение:', results.pvalue)\n",
        "\n",
        "if (results.pvalue < alpha):\n",
        "    print('Отвергаем нулевую гипотезу')\n",
        "else:\n",
        "    print('Не получилось отвергнуть нулевую гипотезу')"
      ],
      "execution_count": null,
      "outputs": [
        {
          "output_type": "stream",
          "text": [
            "p-значение: 0.06480928064420527\n",
            "Не получилось отвергнуть нулевую гипотезу\n"
          ],
          "name": "stdout"
        }
      ]
    },
    {
      "cell_type": "markdown",
      "metadata": {
        "id": "nlk7XGbR4ZiF"
      },
      "source": [
        "<b>Полученное значение p-value говорит о том, что хотя пользовательские рейтинги Action и Sports неодинаковые, но с вероятностью примерно 6% такое или большее различие можно получить случайно.</b> "
      ]
    },
    {
      "cell_type": "markdown",
      "metadata": {
        "id": "GkWfJH1v4ZiF"
      },
      "source": [
        "## Общий вывод"
      ]
    },
    {
      "cell_type": "markdown",
      "metadata": {
        "id": "pEhBIf254ZiG"
      },
      "source": [
        "1. С точки зрения прибыли, компании нужно скорректировать рекламный бюджет по отношению к играм жанров <b>Action, Sports</b>(их продается больше) на рынке Северной Америки и Европы, в Японии также стоит больше отметить <b>Role-Playing</b>. \n",
        "2. Необходимо учесть, что рекламную политику стоит проводить по играм, которые на платформах <b>PS4 и XOne</b>, все таки у них наблюдается положительная динамика по количеству продаж за год. Так как данные по этим платформам у нас с 2013-2016 и мы видим рост, а в среднем платформы живут на рынке 10 лет, то вероятно года 2-3 продажи будут расти. Возможно, не стоит забывать и про игры на <b>PC</b>, так как последние 2 года также наблюдается рост, хоть и очень незначительный.\n",
        "3. Также при запуске рекламной компании нужно учесть данные о рейтингах(возрастной категории) от компании ESRB, так как оказывается, наиболее прибыльнее игры с рейтингами <b>E(для всех), Т(13+), М(18+)</b>.  \n",
        "5. Средние пользовательские рейтинги платформ <b>Xbox One и PC</b> разные, значимые различия есть, тем не менее между средними пользовательскими рейтингами жанров <b>Action и Sports</b> делать вывод о значимом различии между средними не стоит."
      ]
    },
    {
      "cell_type": "markdown",
      "metadata": {
        "id": "B7Ypjtt94ZiG"
      },
      "source": [
        "<b>Рекомендации по совершенствованию системы:</b>\n",
        "1. Реализовать автоматичесткий подсчет общей выручки с продаж.\n",
        "2. Реализовать фильтрацию показателей по годам, по платформам или по жанрам в целом, также можно и по рейтингам, рынкам.\n",
        "3. Обратить внимание на типы данных, там, где числовые значения, выгружать в int или float."
      ]
    }
  ]
}