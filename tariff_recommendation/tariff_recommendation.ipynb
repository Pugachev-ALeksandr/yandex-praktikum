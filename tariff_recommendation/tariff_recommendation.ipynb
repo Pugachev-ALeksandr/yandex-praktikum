{
  "nbformat": 4,
  "nbformat_minor": 0,
  "metadata": {
    "colab": {
      "name": "tariff_recommendation.ipynb",
      "provenance": [],
      "collapsed_sections": [],
      "toc_visible": true
    },
    "kernelspec": {
      "display_name": "Python 3",
      "language": "python",
      "name": "python3"
    },
    "language_info": {
      "codemirror_mode": {
        "name": "ipython",
        "version": 3
      },
      "file_extension": ".py",
      "mimetype": "text/x-python",
      "name": "python",
      "nbconvert_exporter": "python",
      "pygments_lexer": "ipython3",
      "version": "3.7.8"
    },
    "toc": {
      "base_numbering": 1,
      "nav_menu": {},
      "number_sections": true,
      "sideBar": true,
      "skip_h1_title": true,
      "title_cell": "Table of Contents",
      "title_sidebar": "Contents",
      "toc_cell": false,
      "toc_position": {
        "height": "calc(100% - 180px)",
        "left": "10px",
        "top": "150px",
        "width": "323.722px"
      },
      "toc_section_display": true,
      "toc_window_display": true
    }
  },
  "cells": [
    {
      "cell_type": "markdown",
      "metadata": {
        "id": "NPscIVsrZQ2E"
      },
      "source": [
        "# Рекомендация тарифов"
      ]
    },
    {
      "cell_type": "markdown",
      "metadata": {
        "id": "WO3UX57mZQ2F"
      },
      "source": [
        "### Описание проекта:\n",
        "Оператор мобильной связи «Мегалайн» выяснил: многие клиенты пользуются архивными тарифами. Они хотят построить систему, способную проанализировать поведение клиентов и предложить пользователям новый тариф: «Смарт» или «Ультра».\n",
        "В вашем распоряжении данные о поведении клиентов, которые уже перешли на эти тарифы (из проекта курса «Статистический анализ данных»). Нужно построить модель для задачи классификации, которая выберет подходящий тариф. Предобработка данных не понадобится — вы её уже сделали."
      ]
    },
    {
      "cell_type": "markdown",
      "metadata": {
        "id": "WR2fQlnOZQ2H"
      },
      "source": [
        "### Цель проекта:\n",
        "Построить модель для задачи классификации с максимально большим значением *accuracy*, которая выберет подходящий тариф. Нужно довести долю правильных ответов по крайней мере до 0.75. Проверить *accuracy* на тестовой выборке."
      ]
    },
    {
      "cell_type": "markdown",
      "metadata": {
        "id": "yp8xZ4wbZQ2H"
      },
      "source": [
        "### Описание данных\n",
        "<b>Каждый объект в наборе данных — это информация о поведении одного пользователя за месяц. Известно:</b>\n",
        "<ul style=\"border:solid black 2px; padding: 20px\">\n",
        "    <b>Таблица users_behavior:</b>\n",
        "    <li><i>calls</i> — количество звонков</li>\n",
        "    <li><i>minutes</i> — суммарная длительность звонков в минутах,</li>\n",
        "    <li><i>messages</i> — количество sms-сообщений,</li>\n",
        "    <li><i>mb_used</i> — израсходованный интернет-трафик в Мб,</li>\n",
        "    <li><i>is_ultra</i> — каким тарифом пользовался в течение месяца («Ультра» — 1, «Смарт» — 0).</li>\n",
        "</ul>"
      ]
    },
    {
      "cell_type": "markdown",
      "metadata": {
        "id": "tXY2b8UKZQ2I"
      },
      "source": [
        "## Откроем и изучим файл"
      ]
    },
    {
      "cell_type": "code",
      "metadata": {
        "id": "Tsu0jhIvZQ2I"
      },
      "source": [
        "import pandas as pd\n",
        "import numpy as np\n",
        "from sklearn.tree import DecisionTreeClassifier\n",
        "from sklearn.ensemble import RandomForestClassifier\n",
        "from sklearn.linear_model import LogisticRegression\n",
        "from sklearn.dummy import DummyClassifier\n",
        "from sklearn.model_selection import train_test_split\n",
        "from sklearn.model_selection import GridSearchCV\n",
        "from sklearn import metrics \n",
        "from sklearn.metrics import accuracy_score, precision_score, recall_score\n",
        "from sklearn.metrics import confusion_matrix\n",
        "import seaborn as sns\n",
        "import matplotlib.pyplot as plt\n",
        "import warnings\n",
        "warnings.filterwarnings('ignore')"
      ],
      "execution_count": null,
      "outputs": []
    },
    {
      "cell_type": "code",
      "metadata": {
        "id": "5DqtmoYGZQ2J"
      },
      "source": [
        "df = pd.read_csv('/datasets/users_behavior.csv')"
      ],
      "execution_count": null,
      "outputs": []
    },
    {
      "cell_type": "code",
      "metadata": {
        "colab": {
          "base_uri": "https://localhost:8080/",
          "height": 402
        },
        "id": "QO0E1-tzZQ2J",
        "outputId": "45b5aaaa-06ef-474a-e16c-51e7507c9216"
      },
      "source": [
        "display(df)"
      ],
      "execution_count": null,
      "outputs": [
        {
          "output_type": "display_data",
          "data": {
            "text/html": [
              "<div>\n",
              "<style scoped>\n",
              "    .dataframe tbody tr th:only-of-type {\n",
              "        vertical-align: middle;\n",
              "    }\n",
              "\n",
              "    .dataframe tbody tr th {\n",
              "        vertical-align: top;\n",
              "    }\n",
              "\n",
              "    .dataframe thead th {\n",
              "        text-align: right;\n",
              "    }\n",
              "</style>\n",
              "<table border=\"1\" class=\"dataframe\">\n",
              "  <thead>\n",
              "    <tr style=\"text-align: right;\">\n",
              "      <th></th>\n",
              "      <th>calls</th>\n",
              "      <th>minutes</th>\n",
              "      <th>messages</th>\n",
              "      <th>mb_used</th>\n",
              "      <th>is_ultra</th>\n",
              "    </tr>\n",
              "  </thead>\n",
              "  <tbody>\n",
              "    <tr>\n",
              "      <td>0</td>\n",
              "      <td>40.0</td>\n",
              "      <td>311.90</td>\n",
              "      <td>83.0</td>\n",
              "      <td>19915.42</td>\n",
              "      <td>0</td>\n",
              "    </tr>\n",
              "    <tr>\n",
              "      <td>1</td>\n",
              "      <td>85.0</td>\n",
              "      <td>516.75</td>\n",
              "      <td>56.0</td>\n",
              "      <td>22696.96</td>\n",
              "      <td>0</td>\n",
              "    </tr>\n",
              "    <tr>\n",
              "      <td>2</td>\n",
              "      <td>77.0</td>\n",
              "      <td>467.66</td>\n",
              "      <td>86.0</td>\n",
              "      <td>21060.45</td>\n",
              "      <td>0</td>\n",
              "    </tr>\n",
              "    <tr>\n",
              "      <td>3</td>\n",
              "      <td>106.0</td>\n",
              "      <td>745.53</td>\n",
              "      <td>81.0</td>\n",
              "      <td>8437.39</td>\n",
              "      <td>1</td>\n",
              "    </tr>\n",
              "    <tr>\n",
              "      <td>4</td>\n",
              "      <td>66.0</td>\n",
              "      <td>418.74</td>\n",
              "      <td>1.0</td>\n",
              "      <td>14502.75</td>\n",
              "      <td>0</td>\n",
              "    </tr>\n",
              "    <tr>\n",
              "      <td>...</td>\n",
              "      <td>...</td>\n",
              "      <td>...</td>\n",
              "      <td>...</td>\n",
              "      <td>...</td>\n",
              "      <td>...</td>\n",
              "    </tr>\n",
              "    <tr>\n",
              "      <td>3209</td>\n",
              "      <td>122.0</td>\n",
              "      <td>910.98</td>\n",
              "      <td>20.0</td>\n",
              "      <td>35124.90</td>\n",
              "      <td>1</td>\n",
              "    </tr>\n",
              "    <tr>\n",
              "      <td>3210</td>\n",
              "      <td>25.0</td>\n",
              "      <td>190.36</td>\n",
              "      <td>0.0</td>\n",
              "      <td>3275.61</td>\n",
              "      <td>0</td>\n",
              "    </tr>\n",
              "    <tr>\n",
              "      <td>3211</td>\n",
              "      <td>97.0</td>\n",
              "      <td>634.44</td>\n",
              "      <td>70.0</td>\n",
              "      <td>13974.06</td>\n",
              "      <td>0</td>\n",
              "    </tr>\n",
              "    <tr>\n",
              "      <td>3212</td>\n",
              "      <td>64.0</td>\n",
              "      <td>462.32</td>\n",
              "      <td>90.0</td>\n",
              "      <td>31239.78</td>\n",
              "      <td>0</td>\n",
              "    </tr>\n",
              "    <tr>\n",
              "      <td>3213</td>\n",
              "      <td>80.0</td>\n",
              "      <td>566.09</td>\n",
              "      <td>6.0</td>\n",
              "      <td>29480.52</td>\n",
              "      <td>1</td>\n",
              "    </tr>\n",
              "  </tbody>\n",
              "</table>\n",
              "<p>3214 rows × 5 columns</p>\n",
              "</div>"
            ],
            "text/plain": [
              "      calls  minutes  messages   mb_used  is_ultra\n",
              "0      40.0   311.90      83.0  19915.42         0\n",
              "1      85.0   516.75      56.0  22696.96         0\n",
              "2      77.0   467.66      86.0  21060.45         0\n",
              "3     106.0   745.53      81.0   8437.39         1\n",
              "4      66.0   418.74       1.0  14502.75         0\n",
              "...     ...      ...       ...       ...       ...\n",
              "3209  122.0   910.98      20.0  35124.90         1\n",
              "3210   25.0   190.36       0.0   3275.61         0\n",
              "3211   97.0   634.44      70.0  13974.06         0\n",
              "3212   64.0   462.32      90.0  31239.78         0\n",
              "3213   80.0   566.09       6.0  29480.52         1\n",
              "\n",
              "[3214 rows x 5 columns]"
            ]
          },
          "metadata": {
            "tags": []
          }
        }
      ]
    },
    {
      "cell_type": "code",
      "metadata": {
        "colab": {
          "base_uri": "https://localhost:8080/"
        },
        "id": "bRPxPLOzZQ2K",
        "outputId": "872446ee-0f67-466b-f182-0de02e7449c2"
      },
      "source": [
        "df.info()"
      ],
      "execution_count": null,
      "outputs": [
        {
          "output_type": "stream",
          "text": [
            "<class 'pandas.core.frame.DataFrame'>\n",
            "RangeIndex: 3214 entries, 0 to 3213\n",
            "Data columns (total 5 columns):\n",
            "calls       3214 non-null float64\n",
            "minutes     3214 non-null float64\n",
            "messages    3214 non-null float64\n",
            "mb_used     3214 non-null float64\n",
            "is_ultra    3214 non-null int64\n",
            "dtypes: float64(4), int64(1)\n",
            "memory usage: 125.7 KB\n"
          ],
          "name": "stdout"
        }
      ]
    },
    {
      "cell_type": "code",
      "metadata": {
        "colab": {
          "base_uri": "https://localhost:8080/"
        },
        "id": "j_UowViMZQ2K",
        "outputId": "5566b94a-9f6f-48be-f5e3-206ee7008500"
      },
      "source": [
        "print(df.duplicated().sum())"
      ],
      "execution_count": null,
      "outputs": [
        {
          "output_type": "stream",
          "text": [
            "0\n"
          ],
          "name": "stdout"
        }
      ]
    },
    {
      "cell_type": "code",
      "metadata": {
        "colab": {
          "base_uri": "https://localhost:8080/",
          "height": 284
        },
        "id": "dl_X2MYFZQ2L",
        "outputId": "c1ef1e44-47e5-4346-83fc-720b4300c6f6"
      },
      "source": [
        "df.describe()"
      ],
      "execution_count": null,
      "outputs": [
        {
          "output_type": "execute_result",
          "data": {
            "text/html": [
              "<div>\n",
              "<style scoped>\n",
              "    .dataframe tbody tr th:only-of-type {\n",
              "        vertical-align: middle;\n",
              "    }\n",
              "\n",
              "    .dataframe tbody tr th {\n",
              "        vertical-align: top;\n",
              "    }\n",
              "\n",
              "    .dataframe thead th {\n",
              "        text-align: right;\n",
              "    }\n",
              "</style>\n",
              "<table border=\"1\" class=\"dataframe\">\n",
              "  <thead>\n",
              "    <tr style=\"text-align: right;\">\n",
              "      <th></th>\n",
              "      <th>calls</th>\n",
              "      <th>minutes</th>\n",
              "      <th>messages</th>\n",
              "      <th>mb_used</th>\n",
              "      <th>is_ultra</th>\n",
              "    </tr>\n",
              "  </thead>\n",
              "  <tbody>\n",
              "    <tr>\n",
              "      <td>count</td>\n",
              "      <td>3214.000000</td>\n",
              "      <td>3214.000000</td>\n",
              "      <td>3214.000000</td>\n",
              "      <td>3214.000000</td>\n",
              "      <td>3214.000000</td>\n",
              "    </tr>\n",
              "    <tr>\n",
              "      <td>mean</td>\n",
              "      <td>63.038892</td>\n",
              "      <td>438.208787</td>\n",
              "      <td>38.281269</td>\n",
              "      <td>17207.673836</td>\n",
              "      <td>0.306472</td>\n",
              "    </tr>\n",
              "    <tr>\n",
              "      <td>std</td>\n",
              "      <td>33.236368</td>\n",
              "      <td>234.569872</td>\n",
              "      <td>36.148326</td>\n",
              "      <td>7570.968246</td>\n",
              "      <td>0.461100</td>\n",
              "    </tr>\n",
              "    <tr>\n",
              "      <td>min</td>\n",
              "      <td>0.000000</td>\n",
              "      <td>0.000000</td>\n",
              "      <td>0.000000</td>\n",
              "      <td>0.000000</td>\n",
              "      <td>0.000000</td>\n",
              "    </tr>\n",
              "    <tr>\n",
              "      <td>25%</td>\n",
              "      <td>40.000000</td>\n",
              "      <td>274.575000</td>\n",
              "      <td>9.000000</td>\n",
              "      <td>12491.902500</td>\n",
              "      <td>0.000000</td>\n",
              "    </tr>\n",
              "    <tr>\n",
              "      <td>50%</td>\n",
              "      <td>62.000000</td>\n",
              "      <td>430.600000</td>\n",
              "      <td>30.000000</td>\n",
              "      <td>16943.235000</td>\n",
              "      <td>0.000000</td>\n",
              "    </tr>\n",
              "    <tr>\n",
              "      <td>75%</td>\n",
              "      <td>82.000000</td>\n",
              "      <td>571.927500</td>\n",
              "      <td>57.000000</td>\n",
              "      <td>21424.700000</td>\n",
              "      <td>1.000000</td>\n",
              "    </tr>\n",
              "    <tr>\n",
              "      <td>max</td>\n",
              "      <td>244.000000</td>\n",
              "      <td>1632.060000</td>\n",
              "      <td>224.000000</td>\n",
              "      <td>49745.730000</td>\n",
              "      <td>1.000000</td>\n",
              "    </tr>\n",
              "  </tbody>\n",
              "</table>\n",
              "</div>"
            ],
            "text/plain": [
              "             calls      minutes     messages       mb_used     is_ultra\n",
              "count  3214.000000  3214.000000  3214.000000   3214.000000  3214.000000\n",
              "mean     63.038892   438.208787    38.281269  17207.673836     0.306472\n",
              "std      33.236368   234.569872    36.148326   7570.968246     0.461100\n",
              "min       0.000000     0.000000     0.000000      0.000000     0.000000\n",
              "25%      40.000000   274.575000     9.000000  12491.902500     0.000000\n",
              "50%      62.000000   430.600000    30.000000  16943.235000     0.000000\n",
              "75%      82.000000   571.927500    57.000000  21424.700000     1.000000\n",
              "max     244.000000  1632.060000   224.000000  49745.730000     1.000000"
            ]
          },
          "metadata": {
            "tags": []
          },
          "execution_count": 6
        }
      ]
    },
    {
      "cell_type": "code",
      "metadata": {
        "colab": {
          "base_uri": "https://localhost:8080/"
        },
        "id": "pvv6y6BjZQ2L",
        "outputId": "8e27c5d9-f53b-49d8-bebb-2d3d11c376d2"
      },
      "source": [
        "df['is_ultra'].mean()"
      ],
      "execution_count": null,
      "outputs": [
        {
          "output_type": "execute_result",
          "data": {
            "text/plain": [
              "0.30647168637212197"
            ]
          },
          "metadata": {
            "tags": []
          },
          "execution_count": 7
        }
      ]
    },
    {
      "cell_type": "markdown",
      "metadata": {
        "id": "vus2JRcWZQ2M"
      },
      "source": [
        "<b>Почти 70% пользователей используют тариф \"Смарт\"</b>"
      ]
    },
    {
      "cell_type": "code",
      "metadata": {
        "colab": {
          "base_uri": "https://localhost:8080/",
          "height": 136
        },
        "id": "RyFcmKd-ZQ2M",
        "outputId": "003f7b90-be97-4850-ce40-ddd03a3462ae"
      },
      "source": [
        "df.groupby('is_ultra')['calls'].agg(['count','mean','median'])"
      ],
      "execution_count": null,
      "outputs": [
        {
          "output_type": "execute_result",
          "data": {
            "text/html": [
              "<div>\n",
              "<style scoped>\n",
              "    .dataframe tbody tr th:only-of-type {\n",
              "        vertical-align: middle;\n",
              "    }\n",
              "\n",
              "    .dataframe tbody tr th {\n",
              "        vertical-align: top;\n",
              "    }\n",
              "\n",
              "    .dataframe thead th {\n",
              "        text-align: right;\n",
              "    }\n",
              "</style>\n",
              "<table border=\"1\" class=\"dataframe\">\n",
              "  <thead>\n",
              "    <tr style=\"text-align: right;\">\n",
              "      <th></th>\n",
              "      <th>count</th>\n",
              "      <th>mean</th>\n",
              "      <th>median</th>\n",
              "    </tr>\n",
              "    <tr>\n",
              "      <th>is_ultra</th>\n",
              "      <th></th>\n",
              "      <th></th>\n",
              "      <th></th>\n",
              "    </tr>\n",
              "  </thead>\n",
              "  <tbody>\n",
              "    <tr>\n",
              "      <td>0</td>\n",
              "      <td>2229</td>\n",
              "      <td>58.463437</td>\n",
              "      <td>60.0</td>\n",
              "    </tr>\n",
              "    <tr>\n",
              "      <td>1</td>\n",
              "      <td>985</td>\n",
              "      <td>73.392893</td>\n",
              "      <td>74.0</td>\n",
              "    </tr>\n",
              "  </tbody>\n",
              "</table>\n",
              "</div>"
            ],
            "text/plain": [
              "          count       mean  median\n",
              "is_ultra                          \n",
              "0          2229  58.463437    60.0\n",
              "1           985  73.392893    74.0"
            ]
          },
          "metadata": {
            "tags": []
          },
          "execution_count": 8
        }
      ]
    },
    {
      "cell_type": "code",
      "metadata": {
        "colab": {
          "base_uri": "https://localhost:8080/",
          "height": 136
        },
        "id": "AAg5hnYZZQ2M",
        "outputId": "b7160f09-c6b9-4469-d19c-3cf95405088b"
      },
      "source": [
        "df.groupby('is_ultra')['minutes'].agg(['count','mean','median'])"
      ],
      "execution_count": null,
      "outputs": [
        {
          "output_type": "execute_result",
          "data": {
            "text/html": [
              "<div>\n",
              "<style scoped>\n",
              "    .dataframe tbody tr th:only-of-type {\n",
              "        vertical-align: middle;\n",
              "    }\n",
              "\n",
              "    .dataframe tbody tr th {\n",
              "        vertical-align: top;\n",
              "    }\n",
              "\n",
              "    .dataframe thead th {\n",
              "        text-align: right;\n",
              "    }\n",
              "</style>\n",
              "<table border=\"1\" class=\"dataframe\">\n",
              "  <thead>\n",
              "    <tr style=\"text-align: right;\">\n",
              "      <th></th>\n",
              "      <th>count</th>\n",
              "      <th>mean</th>\n",
              "      <th>median</th>\n",
              "    </tr>\n",
              "    <tr>\n",
              "      <th>is_ultra</th>\n",
              "      <th></th>\n",
              "      <th></th>\n",
              "      <th></th>\n",
              "    </tr>\n",
              "  </thead>\n",
              "  <tbody>\n",
              "    <tr>\n",
              "      <td>0</td>\n",
              "      <td>2229</td>\n",
              "      <td>405.942952</td>\n",
              "      <td>410.56</td>\n",
              "    </tr>\n",
              "    <tr>\n",
              "      <td>1</td>\n",
              "      <td>985</td>\n",
              "      <td>511.224569</td>\n",
              "      <td>502.55</td>\n",
              "    </tr>\n",
              "  </tbody>\n",
              "</table>\n",
              "</div>"
            ],
            "text/plain": [
              "          count        mean  median\n",
              "is_ultra                           \n",
              "0          2229  405.942952  410.56\n",
              "1           985  511.224569  502.55"
            ]
          },
          "metadata": {
            "tags": []
          },
          "execution_count": 9
        }
      ]
    },
    {
      "cell_type": "code",
      "metadata": {
        "colab": {
          "base_uri": "https://localhost:8080/",
          "height": 136
        },
        "id": "_6LU6XkfZQ2N",
        "outputId": "612bbac0-932c-40e2-bd28-18ffd7bfaff9"
      },
      "source": [
        "df.groupby('is_ultra')['messages'].agg(['count','mean','median'])"
      ],
      "execution_count": null,
      "outputs": [
        {
          "output_type": "execute_result",
          "data": {
            "text/html": [
              "<div>\n",
              "<style scoped>\n",
              "    .dataframe tbody tr th:only-of-type {\n",
              "        vertical-align: middle;\n",
              "    }\n",
              "\n",
              "    .dataframe tbody tr th {\n",
              "        vertical-align: top;\n",
              "    }\n",
              "\n",
              "    .dataframe thead th {\n",
              "        text-align: right;\n",
              "    }\n",
              "</style>\n",
              "<table border=\"1\" class=\"dataframe\">\n",
              "  <thead>\n",
              "    <tr style=\"text-align: right;\">\n",
              "      <th></th>\n",
              "      <th>count</th>\n",
              "      <th>mean</th>\n",
              "      <th>median</th>\n",
              "    </tr>\n",
              "    <tr>\n",
              "      <th>is_ultra</th>\n",
              "      <th></th>\n",
              "      <th></th>\n",
              "      <th></th>\n",
              "    </tr>\n",
              "  </thead>\n",
              "  <tbody>\n",
              "    <tr>\n",
              "      <td>0</td>\n",
              "      <td>2229</td>\n",
              "      <td>33.384029</td>\n",
              "      <td>28.0</td>\n",
              "    </tr>\n",
              "    <tr>\n",
              "      <td>1</td>\n",
              "      <td>985</td>\n",
              "      <td>49.363452</td>\n",
              "      <td>38.0</td>\n",
              "    </tr>\n",
              "  </tbody>\n",
              "</table>\n",
              "</div>"
            ],
            "text/plain": [
              "          count       mean  median\n",
              "is_ultra                          \n",
              "0          2229  33.384029    28.0\n",
              "1           985  49.363452    38.0"
            ]
          },
          "metadata": {
            "tags": []
          },
          "execution_count": 10
        }
      ]
    },
    {
      "cell_type": "code",
      "metadata": {
        "colab": {
          "base_uri": "https://localhost:8080/",
          "height": 136
        },
        "id": "UKnTUYusZQ2N",
        "outputId": "35ee113a-c01d-40ae-e4b2-e5e98fb381fa"
      },
      "source": [
        "df.groupby('is_ultra')['mb_used'].agg(['count','mean','median'])"
      ],
      "execution_count": null,
      "outputs": [
        {
          "output_type": "execute_result",
          "data": {
            "text/html": [
              "<div>\n",
              "<style scoped>\n",
              "    .dataframe tbody tr th:only-of-type {\n",
              "        vertical-align: middle;\n",
              "    }\n",
              "\n",
              "    .dataframe tbody tr th {\n",
              "        vertical-align: top;\n",
              "    }\n",
              "\n",
              "    .dataframe thead th {\n",
              "        text-align: right;\n",
              "    }\n",
              "</style>\n",
              "<table border=\"1\" class=\"dataframe\">\n",
              "  <thead>\n",
              "    <tr style=\"text-align: right;\">\n",
              "      <th></th>\n",
              "      <th>count</th>\n",
              "      <th>mean</th>\n",
              "      <th>median</th>\n",
              "    </tr>\n",
              "    <tr>\n",
              "      <th>is_ultra</th>\n",
              "      <th></th>\n",
              "      <th></th>\n",
              "      <th></th>\n",
              "    </tr>\n",
              "  </thead>\n",
              "  <tbody>\n",
              "    <tr>\n",
              "      <td>0</td>\n",
              "      <td>2229</td>\n",
              "      <td>16208.466949</td>\n",
              "      <td>16506.93</td>\n",
              "    </tr>\n",
              "    <tr>\n",
              "      <td>1</td>\n",
              "      <td>985</td>\n",
              "      <td>19468.823228</td>\n",
              "      <td>19308.01</td>\n",
              "    </tr>\n",
              "  </tbody>\n",
              "</table>\n",
              "</div>"
            ],
            "text/plain": [
              "          count          mean    median\n",
              "is_ultra                               \n",
              "0          2229  16208.466949  16506.93\n",
              "1           985  19468.823228  19308.01"
            ]
          },
          "metadata": {
            "tags": []
          },
          "execution_count": 11
        }
      ]
    },
    {
      "cell_type": "code",
      "metadata": {
        "id": "z56pDxTcBsuB",
        "outputId": "495bd17e-c6a0-43f3-f8c1-5b4dcea55dbc"
      },
      "source": [
        "df"
      ],
      "execution_count": null,
      "outputs": [
        {
          "output_type": "execute_result",
          "data": {
            "text/html": [
              "<div>\n",
              "<style scoped>\n",
              "    .dataframe tbody tr th:only-of-type {\n",
              "        vertical-align: middle;\n",
              "    }\n",
              "\n",
              "    .dataframe tbody tr th {\n",
              "        vertical-align: top;\n",
              "    }\n",
              "\n",
              "    .dataframe thead th {\n",
              "        text-align: right;\n",
              "    }\n",
              "</style>\n",
              "<table border=\"1\" class=\"dataframe\">\n",
              "  <thead>\n",
              "    <tr style=\"text-align: right;\">\n",
              "      <th></th>\n",
              "      <th>calls</th>\n",
              "      <th>minutes</th>\n",
              "      <th>messages</th>\n",
              "      <th>mb_used</th>\n",
              "      <th>is_ultra</th>\n",
              "    </tr>\n",
              "  </thead>\n",
              "  <tbody>\n",
              "    <tr>\n",
              "      <td>0</td>\n",
              "      <td>40.0</td>\n",
              "      <td>311.90</td>\n",
              "      <td>83.0</td>\n",
              "      <td>19915.42</td>\n",
              "      <td>0</td>\n",
              "    </tr>\n",
              "    <tr>\n",
              "      <td>1</td>\n",
              "      <td>85.0</td>\n",
              "      <td>516.75</td>\n",
              "      <td>56.0</td>\n",
              "      <td>22696.96</td>\n",
              "      <td>0</td>\n",
              "    </tr>\n",
              "    <tr>\n",
              "      <td>2</td>\n",
              "      <td>77.0</td>\n",
              "      <td>467.66</td>\n",
              "      <td>86.0</td>\n",
              "      <td>21060.45</td>\n",
              "      <td>0</td>\n",
              "    </tr>\n",
              "    <tr>\n",
              "      <td>3</td>\n",
              "      <td>106.0</td>\n",
              "      <td>745.53</td>\n",
              "      <td>81.0</td>\n",
              "      <td>8437.39</td>\n",
              "      <td>1</td>\n",
              "    </tr>\n",
              "    <tr>\n",
              "      <td>4</td>\n",
              "      <td>66.0</td>\n",
              "      <td>418.74</td>\n",
              "      <td>1.0</td>\n",
              "      <td>14502.75</td>\n",
              "      <td>0</td>\n",
              "    </tr>\n",
              "    <tr>\n",
              "      <td>...</td>\n",
              "      <td>...</td>\n",
              "      <td>...</td>\n",
              "      <td>...</td>\n",
              "      <td>...</td>\n",
              "      <td>...</td>\n",
              "    </tr>\n",
              "    <tr>\n",
              "      <td>3209</td>\n",
              "      <td>122.0</td>\n",
              "      <td>910.98</td>\n",
              "      <td>20.0</td>\n",
              "      <td>35124.90</td>\n",
              "      <td>1</td>\n",
              "    </tr>\n",
              "    <tr>\n",
              "      <td>3210</td>\n",
              "      <td>25.0</td>\n",
              "      <td>190.36</td>\n",
              "      <td>0.0</td>\n",
              "      <td>3275.61</td>\n",
              "      <td>0</td>\n",
              "    </tr>\n",
              "    <tr>\n",
              "      <td>3211</td>\n",
              "      <td>97.0</td>\n",
              "      <td>634.44</td>\n",
              "      <td>70.0</td>\n",
              "      <td>13974.06</td>\n",
              "      <td>0</td>\n",
              "    </tr>\n",
              "    <tr>\n",
              "      <td>3212</td>\n",
              "      <td>64.0</td>\n",
              "      <td>462.32</td>\n",
              "      <td>90.0</td>\n",
              "      <td>31239.78</td>\n",
              "      <td>0</td>\n",
              "    </tr>\n",
              "    <tr>\n",
              "      <td>3213</td>\n",
              "      <td>80.0</td>\n",
              "      <td>566.09</td>\n",
              "      <td>6.0</td>\n",
              "      <td>29480.52</td>\n",
              "      <td>1</td>\n",
              "    </tr>\n",
              "  </tbody>\n",
              "</table>\n",
              "<p>3214 rows × 5 columns</p>\n",
              "</div>"
            ],
            "text/plain": [
              "      calls  minutes  messages   mb_used  is_ultra\n",
              "0      40.0   311.90      83.0  19915.42         0\n",
              "1      85.0   516.75      56.0  22696.96         0\n",
              "2      77.0   467.66      86.0  21060.45         0\n",
              "3     106.0   745.53      81.0   8437.39         1\n",
              "4      66.0   418.74       1.0  14502.75         0\n",
              "...     ...      ...       ...       ...       ...\n",
              "3209  122.0   910.98      20.0  35124.90         1\n",
              "3210   25.0   190.36       0.0   3275.61         0\n",
              "3211   97.0   634.44      70.0  13974.06         0\n",
              "3212   64.0   462.32      90.0  31239.78         0\n",
              "3213   80.0   566.09       6.0  29480.52         1\n",
              "\n",
              "[3214 rows x 5 columns]"
            ]
          },
          "metadata": {
            "tags": []
          },
          "execution_count": 12
        }
      ]
    },
    {
      "cell_type": "markdown",
      "metadata": {
        "id": "jSQpazSXBsuC"
      },
      "source": [
        "<b>Рассчитаем зависимость между признаками</b>"
      ]
    },
    {
      "cell_type": "code",
      "metadata": {
        "id": "WbHjge6DBsuC"
      },
      "source": [
        "corrMatrix = df[['calls','minutes','messages','mb_used','is_ultra']].corr()"
      ],
      "execution_count": null,
      "outputs": []
    },
    {
      "cell_type": "code",
      "metadata": {
        "id": "ZRs_TWkGBsuC",
        "outputId": "681ca29b-c6b2-4490-947a-d428460d16fb"
      },
      "source": [
        "sns.heatmap(corrMatrix, annot=True)\n",
        "plt.show()"
      ],
      "execution_count": null,
      "outputs": [
        {
          "output_type": "display_data",
          "data": {
            "image/png": "[encoded data removed]",
            "text/plain": [
              "<Figure size 432x288 with 2 Axes>"
            ]
          },
          "metadata": {
            "tags": [],
            "needs_background": "light"
          }
        }
      ]
    },
    {
      "cell_type": "markdown",
      "metadata": {
        "id": "8HgrVP5kBsuD"
      },
      "source": [
        "<b>Действительно наблюдается сильная взаимосвязь между <i>'calls'</i> и <i>'minutes'</i>.</b>"
      ]
    },
    {
      "cell_type": "markdown",
      "metadata": {
        "id": "kFuiw_NuZQ2O"
      },
      "source": [
        "## Разобьем данные на выборки"
      ]
    },
    {
      "cell_type": "markdown",
      "metadata": {
        "id": "8zTmbvr9ZQ2O"
      },
      "source": [
        "<b>Разобьем данные на три выборки в соотношении 3:1:1. Обучающая выборка будет содержать в себе 60% данных, валидационная 20% и тестовая 20%.</b>"
      ]
    },
    {
      "cell_type": "code",
      "metadata": {
        "id": "dcj9FLB4ZQ2O"
      },
      "source": [
        "df_train, df_valid = train_test_split(df, test_size=0.2, random_state=42)"
      ],
      "execution_count": null,
      "outputs": []
    },
    {
      "cell_type": "code",
      "metadata": {
        "id": "FTA0j1b7ZQ2O"
      },
      "source": [
        "df_train, df_test = train_test_split(df_train, test_size=0.25, random_state=42)"
      ],
      "execution_count": null,
      "outputs": []
    },
    {
      "cell_type": "code",
      "metadata": {
        "colab": {
          "base_uri": "https://localhost:8080/"
        },
        "id": "v52q8x4kZQ2P",
        "outputId": "b7cb0f24-7cda-4321-eabd-e7550699fd57"
      },
      "source": [
        "0.25 * 0.8"
      ],
      "execution_count": null,
      "outputs": [
        {
          "output_type": "execute_result",
          "data": {
            "text/plain": [
              "0.2"
            ]
          },
          "metadata": {
            "tags": []
          },
          "execution_count": 17
        }
      ]
    },
    {
      "cell_type": "code",
      "metadata": {
        "id": "b3BhkMbKZQ2P"
      },
      "source": [
        "features_train = df_train.drop(['is_ultra', 'minutes'], axis=1)\n",
        "target_train  = df_train['is_ultra']"
      ],
      "execution_count": null,
      "outputs": []
    },
    {
      "cell_type": "code",
      "metadata": {
        "id": "9eWypViHZQ2P"
      },
      "source": [
        "features_valid = df_valid.drop(['is_ultra', 'minutes'], axis=1)\n",
        "target_valid  = df_valid['is_ultra']"
      ],
      "execution_count": null,
      "outputs": []
    },
    {
      "cell_type": "code",
      "metadata": {
        "id": "x4kxWi0cZQ2Q"
      },
      "source": [
        "test_features = df_test.drop(['is_ultra', 'minutes'], axis=1)\n",
        "test_target  = df_test['is_ultra']"
      ],
      "execution_count": null,
      "outputs": []
    },
    {
      "cell_type": "markdown",
      "metadata": {
        "id": "hJnvvoWzZQ2Q"
      },
      "source": [
        "<b>Убедимся, что разбили правильно.</b>"
      ]
    },
    {
      "cell_type": "code",
      "metadata": {
        "colab": {
          "base_uri": "https://localhost:8080/"
        },
        "id": "Lu7c9Gg_ZQ2Q",
        "outputId": "0437b143-5cfa-4150-dbfa-9f1474ac0a4a"
      },
      "source": [
        "print(features_train.shape)\n",
        "print(target_train.shape)\n",
        "print(features_valid.shape)\n",
        "print(target_valid.shape)\n",
        "print(test_features.shape)\n",
        "print(test_target.shape)"
      ],
      "execution_count": null,
      "outputs": [
        {
          "output_type": "stream",
          "text": [
            "(1928, 3)\n",
            "(1928,)\n",
            "(643, 3)\n",
            "(643,)\n",
            "(643, 3)\n",
            "(643,)\n"
          ],
          "name": "stdout"
        }
      ]
    },
    {
      "cell_type": "code",
      "metadata": {
        "colab": {
          "base_uri": "https://localhost:8080/"
        },
        "id": "wlcSGJOUZQ2R",
        "outputId": "d1435470-69b4-4c03-f7c5-00a85558d3fa"
      },
      "source": [
        "len(df)"
      ],
      "execution_count": null,
      "outputs": [
        {
          "output_type": "execute_result",
          "data": {
            "text/plain": [
              "3214"
            ]
          },
          "metadata": {
            "tags": []
          },
          "execution_count": 22
        }
      ]
    },
    {
      "cell_type": "code",
      "metadata": {
        "colab": {
          "base_uri": "https://localhost:8080/"
        },
        "id": "nCq9yUc9ZQ2R",
        "outputId": "171afe24-0d4b-4767-cc11-c40507e707a6"
      },
      "source": [
        "len(features_train) + len(features_valid) + len(test_features)"
      ],
      "execution_count": null,
      "outputs": [
        {
          "output_type": "execute_result",
          "data": {
            "text/plain": [
              "3214"
            ]
          },
          "metadata": {
            "tags": []
          },
          "execution_count": 23
        }
      ]
    },
    {
      "cell_type": "code",
      "metadata": {
        "colab": {
          "base_uri": "https://localhost:8080/",
          "height": 402
        },
        "id": "uQaDbsMFZQ2R",
        "outputId": "e2ab3318-b705-49ff-886f-e9f66699a236"
      },
      "source": [
        "display(features_train)"
      ],
      "execution_count": null,
      "outputs": [
        {
          "output_type": "display_data",
          "data": {
            "text/html": [
              "<div>\n",
              "<style scoped>\n",
              "    .dataframe tbody tr th:only-of-type {\n",
              "        vertical-align: middle;\n",
              "    }\n",
              "\n",
              "    .dataframe tbody tr th {\n",
              "        vertical-align: top;\n",
              "    }\n",
              "\n",
              "    .dataframe thead th {\n",
              "        text-align: right;\n",
              "    }\n",
              "</style>\n",
              "<table border=\"1\" class=\"dataframe\">\n",
              "  <thead>\n",
              "    <tr style=\"text-align: right;\">\n",
              "      <th></th>\n",
              "      <th>calls</th>\n",
              "      <th>messages</th>\n",
              "      <th>mb_used</th>\n",
              "    </tr>\n",
              "  </thead>\n",
              "  <tbody>\n",
              "    <tr>\n",
              "      <td>3187</td>\n",
              "      <td>35.0</td>\n",
              "      <td>4.0</td>\n",
              "      <td>14857.57</td>\n",
              "    </tr>\n",
              "    <tr>\n",
              "      <td>1889</td>\n",
              "      <td>84.0</td>\n",
              "      <td>0.0</td>\n",
              "      <td>16028.42</td>\n",
              "    </tr>\n",
              "    <tr>\n",
              "      <td>1253</td>\n",
              "      <td>62.0</td>\n",
              "      <td>7.0</td>\n",
              "      <td>21571.89</td>\n",
              "    </tr>\n",
              "    <tr>\n",
              "      <td>1147</td>\n",
              "      <td>75.0</td>\n",
              "      <td>49.0</td>\n",
              "      <td>17120.31</td>\n",
              "    </tr>\n",
              "    <tr>\n",
              "      <td>2801</td>\n",
              "      <td>34.0</td>\n",
              "      <td>83.0</td>\n",
              "      <td>13463.84</td>\n",
              "    </tr>\n",
              "    <tr>\n",
              "      <td>...</td>\n",
              "      <td>...</td>\n",
              "      <td>...</td>\n",
              "      <td>...</td>\n",
              "    </tr>\n",
              "    <tr>\n",
              "      <td>2623</td>\n",
              "      <td>59.0</td>\n",
              "      <td>14.0</td>\n",
              "      <td>12135.58</td>\n",
              "    </tr>\n",
              "    <tr>\n",
              "      <td>1143</td>\n",
              "      <td>63.0</td>\n",
              "      <td>23.0</td>\n",
              "      <td>13945.79</td>\n",
              "    </tr>\n",
              "    <tr>\n",
              "      <td>2202</td>\n",
              "      <td>101.0</td>\n",
              "      <td>64.0</td>\n",
              "      <td>13229.44</td>\n",
              "    </tr>\n",
              "    <tr>\n",
              "      <td>1846</td>\n",
              "      <td>25.0</td>\n",
              "      <td>84.0</td>\n",
              "      <td>16150.12</td>\n",
              "    </tr>\n",
              "    <tr>\n",
              "      <td>2477</td>\n",
              "      <td>68.0</td>\n",
              "      <td>45.0</td>\n",
              "      <td>13544.52</td>\n",
              "    </tr>\n",
              "  </tbody>\n",
              "</table>\n",
              "<p>1928 rows × 3 columns</p>\n",
              "</div>"
            ],
            "text/plain": [
              "      calls  messages   mb_used\n",
              "3187   35.0       4.0  14857.57\n",
              "1889   84.0       0.0  16028.42\n",
              "1253   62.0       7.0  21571.89\n",
              "1147   75.0      49.0  17120.31\n",
              "2801   34.0      83.0  13463.84\n",
              "...     ...       ...       ...\n",
              "2623   59.0      14.0  12135.58\n",
              "1143   63.0      23.0  13945.79\n",
              "2202  101.0      64.0  13229.44\n",
              "1846   25.0      84.0  16150.12\n",
              "2477   68.0      45.0  13544.52\n",
              "\n",
              "[1928 rows x 3 columns]"
            ]
          },
          "metadata": {
            "tags": []
          }
        }
      ]
    },
    {
      "cell_type": "code",
      "metadata": {
        "colab": {
          "base_uri": "https://localhost:8080/",
          "height": 218
        },
        "id": "kpl4sM_bZQ2S",
        "outputId": "4ab0540f-2776-4e16-9f84-b4d09a05216a"
      },
      "source": [
        "display(target_train)"
      ],
      "execution_count": null,
      "outputs": [
        {
          "output_type": "display_data",
          "data": {
            "text/plain": [
              "3187    0\n",
              "1889    0\n",
              "1253    0\n",
              "1147    0\n",
              "2801    0\n",
              "       ..\n",
              "2623    0\n",
              "1143    0\n",
              "2202    0\n",
              "1846    1\n",
              "2477    0\n",
              "Name: is_ultra, Length: 1928, dtype: int64"
            ]
          },
          "metadata": {
            "tags": []
          }
        }
      ]
    },
    {
      "cell_type": "code",
      "metadata": {
        "colab": {
          "base_uri": "https://localhost:8080/",
          "height": 402
        },
        "id": "2VR__2tgZQ2S",
        "outputId": "e0d39162-fa4b-4d39-d405-239a8e6d7736"
      },
      "source": [
        "display(features_valid)"
      ],
      "execution_count": null,
      "outputs": [
        {
          "output_type": "display_data",
          "data": {
            "text/html": [
              "<div>\n",
              "<style scoped>\n",
              "    .dataframe tbody tr th:only-of-type {\n",
              "        vertical-align: middle;\n",
              "    }\n",
              "\n",
              "    .dataframe tbody tr th {\n",
              "        vertical-align: top;\n",
              "    }\n",
              "\n",
              "    .dataframe thead th {\n",
              "        text-align: right;\n",
              "    }\n",
              "</style>\n",
              "<table border=\"1\" class=\"dataframe\">\n",
              "  <thead>\n",
              "    <tr style=\"text-align: right;\">\n",
              "      <th></th>\n",
              "      <th>calls</th>\n",
              "      <th>messages</th>\n",
              "      <th>mb_used</th>\n",
              "    </tr>\n",
              "  </thead>\n",
              "  <tbody>\n",
              "    <tr>\n",
              "      <td>506</td>\n",
              "      <td>46.0</td>\n",
              "      <td>35.0</td>\n",
              "      <td>11428.54</td>\n",
              "    </tr>\n",
              "    <tr>\n",
              "      <td>2513</td>\n",
              "      <td>39.0</td>\n",
              "      <td>0.0</td>\n",
              "      <td>20480.11</td>\n",
              "    </tr>\n",
              "    <tr>\n",
              "      <td>354</td>\n",
              "      <td>39.0</td>\n",
              "      <td>0.0</td>\n",
              "      <td>19998.80</td>\n",
              "    </tr>\n",
              "    <tr>\n",
              "      <td>1080</td>\n",
              "      <td>36.0</td>\n",
              "      <td>19.0</td>\n",
              "      <td>23525.07</td>\n",
              "    </tr>\n",
              "    <tr>\n",
              "      <td>2389</td>\n",
              "      <td>35.0</td>\n",
              "      <td>52.0</td>\n",
              "      <td>35177.94</td>\n",
              "    </tr>\n",
              "    <tr>\n",
              "      <td>...</td>\n",
              "      <td>...</td>\n",
              "      <td>...</td>\n",
              "      <td>...</td>\n",
              "    </tr>\n",
              "    <tr>\n",
              "      <td>366</td>\n",
              "      <td>64.0</td>\n",
              "      <td>36.0</td>\n",
              "      <td>17413.75</td>\n",
              "    </tr>\n",
              "    <tr>\n",
              "      <td>1952</td>\n",
              "      <td>100.0</td>\n",
              "      <td>31.0</td>\n",
              "      <td>17726.01</td>\n",
              "    </tr>\n",
              "    <tr>\n",
              "      <td>29</td>\n",
              "      <td>50.0</td>\n",
              "      <td>44.0</td>\n",
              "      <td>9998.83</td>\n",
              "    </tr>\n",
              "    <tr>\n",
              "      <td>2682</td>\n",
              "      <td>0.0</td>\n",
              "      <td>23.0</td>\n",
              "      <td>21934.04</td>\n",
              "    </tr>\n",
              "    <tr>\n",
              "      <td>22</td>\n",
              "      <td>48.0</td>\n",
              "      <td>66.0</td>\n",
              "      <td>16469.90</td>\n",
              "    </tr>\n",
              "  </tbody>\n",
              "</table>\n",
              "<p>643 rows × 3 columns</p>\n",
              "</div>"
            ],
            "text/plain": [
              "      calls  messages   mb_used\n",
              "506    46.0      35.0  11428.54\n",
              "2513   39.0       0.0  20480.11\n",
              "354    39.0       0.0  19998.80\n",
              "1080   36.0      19.0  23525.07\n",
              "2389   35.0      52.0  35177.94\n",
              "...     ...       ...       ...\n",
              "366    64.0      36.0  17413.75\n",
              "1952  100.0      31.0  17726.01\n",
              "29     50.0      44.0   9998.83\n",
              "2682    0.0      23.0  21934.04\n",
              "22     48.0      66.0  16469.90\n",
              "\n",
              "[643 rows x 3 columns]"
            ]
          },
          "metadata": {
            "tags": []
          }
        }
      ]
    },
    {
      "cell_type": "code",
      "metadata": {
        "colab": {
          "base_uri": "https://localhost:8080/",
          "height": 218
        },
        "id": "C1Dt-iCtZQ2S",
        "outputId": "c9773f24-edd6-4e3b-ad7d-ffa8bb6c7432"
      },
      "source": [
        "display(target_valid)"
      ],
      "execution_count": null,
      "outputs": [
        {
          "output_type": "display_data",
          "data": {
            "text/plain": [
              "506     0\n",
              "2513    0\n",
              "354     0\n",
              "1080    1\n",
              "2389    1\n",
              "       ..\n",
              "366     0\n",
              "1952    1\n",
              "29      1\n",
              "2682    1\n",
              "22      1\n",
              "Name: is_ultra, Length: 643, dtype: int64"
            ]
          },
          "metadata": {
            "tags": []
          }
        }
      ]
    },
    {
      "cell_type": "code",
      "metadata": {
        "colab": {
          "base_uri": "https://localhost:8080/",
          "height": 402
        },
        "id": "_tg18BsQZQ2T",
        "outputId": "d473df6a-c18c-4e17-bd2b-81aa0873a3b3"
      },
      "source": [
        "display(test_features)"
      ],
      "execution_count": null,
      "outputs": [
        {
          "output_type": "display_data",
          "data": {
            "text/html": [
              "<div>\n",
              "<style scoped>\n",
              "    .dataframe tbody tr th:only-of-type {\n",
              "        vertical-align: middle;\n",
              "    }\n",
              "\n",
              "    .dataframe tbody tr th {\n",
              "        vertical-align: top;\n",
              "    }\n",
              "\n",
              "    .dataframe thead th {\n",
              "        text-align: right;\n",
              "    }\n",
              "</style>\n",
              "<table border=\"1\" class=\"dataframe\">\n",
              "  <thead>\n",
              "    <tr style=\"text-align: right;\">\n",
              "      <th></th>\n",
              "      <th>calls</th>\n",
              "      <th>messages</th>\n",
              "      <th>mb_used</th>\n",
              "    </tr>\n",
              "  </thead>\n",
              "  <tbody>\n",
              "    <tr>\n",
              "      <td>2644</td>\n",
              "      <td>48.0</td>\n",
              "      <td>13.0</td>\n",
              "      <td>29072.01</td>\n",
              "    </tr>\n",
              "    <tr>\n",
              "      <td>1931</td>\n",
              "      <td>131.0</td>\n",
              "      <td>104.0</td>\n",
              "      <td>27163.13</td>\n",
              "    </tr>\n",
              "    <tr>\n",
              "      <td>2767</td>\n",
              "      <td>27.0</td>\n",
              "      <td>45.0</td>\n",
              "      <td>6976.25</td>\n",
              "    </tr>\n",
              "    <tr>\n",
              "      <td>1288</td>\n",
              "      <td>6.0</td>\n",
              "      <td>5.0</td>\n",
              "      <td>370.06</td>\n",
              "    </tr>\n",
              "    <tr>\n",
              "      <td>92</td>\n",
              "      <td>33.0</td>\n",
              "      <td>62.0</td>\n",
              "      <td>8470.33</td>\n",
              "    </tr>\n",
              "    <tr>\n",
              "      <td>...</td>\n",
              "      <td>...</td>\n",
              "      <td>...</td>\n",
              "      <td>...</td>\n",
              "    </tr>\n",
              "    <tr>\n",
              "      <td>163</td>\n",
              "      <td>89.0</td>\n",
              "      <td>57.0</td>\n",
              "      <td>22924.76</td>\n",
              "    </tr>\n",
              "    <tr>\n",
              "      <td>1229</td>\n",
              "      <td>88.0</td>\n",
              "      <td>5.0</td>\n",
              "      <td>14365.65</td>\n",
              "    </tr>\n",
              "    <tr>\n",
              "      <td>2760</td>\n",
              "      <td>52.0</td>\n",
              "      <td>84.0</td>\n",
              "      <td>9536.33</td>\n",
              "    </tr>\n",
              "    <tr>\n",
              "      <td>3029</td>\n",
              "      <td>30.0</td>\n",
              "      <td>61.0</td>\n",
              "      <td>23605.50</td>\n",
              "    </tr>\n",
              "    <tr>\n",
              "      <td>1400</td>\n",
              "      <td>2.0</td>\n",
              "      <td>2.0</td>\n",
              "      <td>201.08</td>\n",
              "    </tr>\n",
              "  </tbody>\n",
              "</table>\n",
              "<p>643 rows × 3 columns</p>\n",
              "</div>"
            ],
            "text/plain": [
              "      calls  messages   mb_used\n",
              "2644   48.0      13.0  29072.01\n",
              "1931  131.0     104.0  27163.13\n",
              "2767   27.0      45.0   6976.25\n",
              "1288    6.0       5.0    370.06\n",
              "92     33.0      62.0   8470.33\n",
              "...     ...       ...       ...\n",
              "163    89.0      57.0  22924.76\n",
              "1229   88.0       5.0  14365.65\n",
              "2760   52.0      84.0   9536.33\n",
              "3029   30.0      61.0  23605.50\n",
              "1400    2.0       2.0    201.08\n",
              "\n",
              "[643 rows x 3 columns]"
            ]
          },
          "metadata": {
            "tags": []
          }
        }
      ]
    },
    {
      "cell_type": "code",
      "metadata": {
        "colab": {
          "base_uri": "https://localhost:8080/",
          "height": 218
        },
        "id": "yG9OO2hqZQ2T",
        "outputId": "e9512d4b-cb2b-4a4b-ea9d-a88eda6cc886"
      },
      "source": [
        "display(test_target)"
      ],
      "execution_count": null,
      "outputs": [
        {
          "output_type": "display_data",
          "data": {
            "text/plain": [
              "2644    0\n",
              "1931    1\n",
              "2767    1\n",
              "1288    0\n",
              "92      0\n",
              "       ..\n",
              "163     0\n",
              "1229    1\n",
              "2760    1\n",
              "3029    1\n",
              "1400    0\n",
              "Name: is_ultra, Length: 643, dtype: int64"
            ]
          },
          "metadata": {
            "tags": []
          }
        }
      ]
    },
    {
      "cell_type": "markdown",
      "metadata": {
        "id": "DPVe7sqoZQ2T"
      },
      "source": [
        "### Вывод по разделу\n",
        "<b>Методом <i>train_test_split()</i> разбили данные на три выборки: обучающую(60%), валидационную(20%), тестовую(20%).</b>"
      ]
    },
    {
      "cell_type": "markdown",
      "metadata": {
        "id": "1vJoSrOCZQ2T"
      },
      "source": [
        "## Исследуем модели"
      ]
    },
    {
      "cell_type": "markdown",
      "metadata": {
        "id": "KbXUTN0AZQ2V"
      },
      "source": [
        "<b>Модель дерево решений</b>"
      ]
    },
    {
      "cell_type": "markdown",
      "metadata": {
        "id": "T27DA9LZZQ2V"
      },
      "source": [
        "<b>Попробуем применить GridSearchCV для нахождения гиперпараметров.</b>"
      ]
    },
    {
      "cell_type": "code",
      "metadata": {
        "colab": {
          "base_uri": "https://localhost:8080/"
        },
        "id": "KnYKN8WPZQ2V",
        "outputId": "12136878-54bd-47e8-9c87-a2b1ea120b61"
      },
      "source": [
        "splitter = ['best','random']\n",
        "max_depth = [4,5,6,7,8,9,10,15]\n",
        "min_samples_split = [2,3,4,5,6,7,8,9]\n",
        "min_samples_leaf = [2,3,4,5,6,7,8,9]\n",
        "param_grid = {'splitter': splitter,\n",
        "               'max_depth': max_depth,\n",
        "               'min_samples_split': min_samples_split,\n",
        "               'min_samples_leaf': min_samples_leaf}\n",
        "gs_tree = GridSearchCV(DecisionTreeClassifier(random_state=42), param_grid)\n",
        "gs_tree.fit(features_train,target_train)\n",
        "gs_tree.best_params_"
      ],
      "execution_count": null,
      "outputs": [
        {
          "output_type": "execute_result",
          "data": {
            "text/plain": [
              "{'max_depth': 7,\n",
              " 'min_samples_leaf': 8,\n",
              " 'min_samples_split': 2,\n",
              " 'splitter': 'best'}"
            ]
          },
          "metadata": {
            "tags": []
          },
          "execution_count": 30
        }
      ]
    },
    {
      "cell_type": "code",
      "metadata": {
        "colab": {
          "base_uri": "https://localhost:8080/"
        },
        "id": "0wUkSycNZQ2W",
        "outputId": "29c6104c-17e5-4dff-b7ff-30298c9232f0"
      },
      "source": [
        "model_tree_gs = DecisionTreeClassifier(random_state=42, max_depth=4, min_samples_leaf=9,splitter='best')\n",
        "model_tree_gs.fit(features_train, target_train) \n",
        "predictions_valid_tree_gs = model_tree_gs.predict(features_valid)\n",
        "result_tree_gs = accuracy_score(target_valid, predictions_valid_tree_gs)\n",
        "print(\"Accuracy модели дерево решений на валидационной выборке:\",result_tree_gs)"
      ],
      "execution_count": null,
      "outputs": [
        {
          "output_type": "stream",
          "text": [
            "Accuracy модели дерево решений на валидационной выборке: 0.7884914463452566\n"
          ],
          "name": "stdout"
        }
      ]
    },
    {
      "cell_type": "markdown",
      "metadata": {
        "id": "AK04QLk9ZQ2W"
      },
      "source": [
        "<b>Переберем гиперпараметры циклом, наилучшим получился этот вариант.</b>"
      ]
    },
    {
      "cell_type": "code",
      "metadata": {
        "id": "BwOkZzmfZQ2X"
      },
      "source": [
        "# for depth in range(1,15):\n",
        "#     for leaf in range(1,8):\n",
        "#         for split in range(2,8):\n",
        "#             model_tree = DecisionTreeClassifier(random_state=42, max_depth=depth, min_samples_leaf=leaf,min_samples_split=split)\n",
        "#             model_tree.fit(features_train, target_train) \n",
        "#             predictions_valid_tree = model_tree.predict(features_valid)\n",
        "#             result_tree = accuracy_score(target_valid, predictions_valid_tree)\n",
        "#             print(\"depth,leaf,split =\", depth,leaf,split, \": \", end='')\n",
        "#             print(result_tree)"
      ],
      "execution_count": null,
      "outputs": []
    },
    {
      "cell_type": "code",
      "metadata": {
        "colab": {
          "base_uri": "https://localhost:8080/"
        },
        "id": "5ekLk9qnZQ2X",
        "outputId": "a557417f-a22a-4f7f-bcdd-36b4399c3b4c"
      },
      "source": [
        "model_tree = DecisionTreeClassifier(random_state=42, max_depth=6, min_samples_leaf=7)\n",
        "model_tree.fit(features_train, target_train) \n",
        "predictions_valid_tree = model_tree.predict(features_valid)\n",
        "result_tree = accuracy_score(target_valid, predictions_valid_tree)\n",
        "print(\"Accuracy модели дерево решений на валидационной выборке:\",result_tree)"
      ],
      "execution_count": null,
      "outputs": [
        {
          "output_type": "stream",
          "text": [
            "Accuracy модели дерево решений на валидационной выборке: 0.7931570762052877\n"
          ],
          "name": "stdout"
        }
      ]
    },
    {
      "cell_type": "markdown",
      "metadata": {
        "id": "INc1b5LgZQ2X"
      },
      "source": [
        "<b>Модель случайный лес</b>"
      ]
    },
    {
      "cell_type": "markdown",
      "metadata": {
        "id": "UENniJvQZQ2Y"
      },
      "source": [
        "<b>Попробуем применить GridSearchCV для нахождения гиперпараметров.</b>"
      ]
    },
    {
      "cell_type": "code",
      "metadata": {
        "colab": {
          "base_uri": "https://localhost:8080/"
        },
        "id": "DtTw2qosZQ2Y",
        "outputId": "6a07e587-86ea-453b-8686-472a2ef19a55"
      },
      "source": [
        "n_estimators = [15,50,60,70]\n",
        "max_depth = [9,12,15]\n",
        "min_samples_split = [2,4,6,8]\n",
        "min_samples_leaf = [1,3,5,7,9]\n",
        "param_grid = {'n_estimators': n_estimators,\n",
        "               'max_depth': max_depth,\n",
        "               'min_samples_split': min_samples_split,\n",
        "               'min_samples_leaf': min_samples_leaf}\n",
        "gs = GridSearchCV(RandomForestClassifier(random_state=42), param_grid)\n",
        "gs.fit(features_train,target_train)\n",
        "gs.best_params_"
      ],
      "execution_count": null,
      "outputs": [
        {
          "output_type": "execute_result",
          "data": {
            "text/plain": [
              "{'max_depth': 9,\n",
              " 'min_samples_leaf': 1,\n",
              " 'min_samples_split': 2,\n",
              " 'n_estimators': 60}"
            ]
          },
          "metadata": {
            "tags": []
          },
          "execution_count": 34
        }
      ]
    },
    {
      "cell_type": "code",
      "metadata": {
        "colab": {
          "base_uri": "https://localhost:8080/"
        },
        "id": "LwMvx_MJZQ2Y",
        "outputId": "65fc2ec3-2c07-472b-fa2a-6230a762482c"
      },
      "source": [
        "model_forest_gr = RandomForestClassifier(random_state=42, n_estimators=60, max_depth=9,min_samples_leaf=5) \n",
        "model_forest_gr.fit(features_train,target_train)\n",
        "predictions_valid_forest_gr = model_forest_gr.predict(features_valid)\n",
        "result_forest_gr = accuracy_score(target_valid, predictions_valid_forest_gr)\n",
        "\n",
        "print(\"Accuracy модели случайный лес на валидационной выборке:\",result_forest_gr)"
      ],
      "execution_count": null,
      "outputs": [
        {
          "output_type": "stream",
          "text": [
            "Accuracy модели случайный лес на валидационной выборке: 0.8087091757387247\n"
          ],
          "name": "stdout"
        }
      ]
    },
    {
      "cell_type": "markdown",
      "metadata": {
        "id": "nn7BlcBRZQ2Z"
      },
      "source": [
        "<b>Поиск конечно осуществляется не быстро, но все же подобрать гиперпараметры получается.</b>"
      ]
    },
    {
      "cell_type": "markdown",
      "metadata": {
        "id": "ErEsua8iZQ2Z"
      },
      "source": [
        "<b>Здесь я попробовал сам перебрать гиперпараметры, наилучшим получился этот вариант.</b>"
      ]
    },
    {
      "cell_type": "code",
      "metadata": {
        "id": "Fn8yT8kwZQ2a"
      },
      "source": [
        "# best_model = None\n",
        "# best_result = 0\n",
        "# for est in range(1, 15):\n",
        "#     for depth in range(1,10):\n",
        "#         for leaf in range(1,8):\n",
        "#             for split in range(2,8):\n",
        "#                 model_forest = RandomForestClassifier(random_state=42, n_estimators=est, max_depth=depth,min_samples_leaf=leaf,min_samples_split=split) \n",
        "#                 model_forest.fit(features_train,target_train) \n",
        "#                 predictions_valid_forest = model_forest.predict(features_valid)\n",
        "#                 result_forest = accuracy_score(target_valid, predictions_valid_forest)\n",
        "#                 if result_forest > best_result:\n",
        "#                     best_model = model_forest\n",
        "#                     best_result = result_forest\n",
        "#                 print(\"Accuracy наилучшей модели на валидационной выборке:\", est, depth,leaf,split, best_result)"
      ],
      "execution_count": null,
      "outputs": []
    },
    {
      "cell_type": "code",
      "metadata": {
        "colab": {
          "base_uri": "https://localhost:8080/"
        },
        "id": "sWbcFvw7ZQ2a",
        "outputId": "9eb052bd-fe1e-4359-dd7b-a51bd1822ebd"
      },
      "source": [
        "model_forest = RandomForestClassifier(random_state=42, n_estimators=13, max_depth=9,min_samples_leaf=2,min_samples_split=2) \n",
        "model_forest.fit(features_train,target_train)\n",
        "predictions_valid_forest = model_forest.predict(features_valid)\n",
        "result_forest = accuracy_score(target_valid, predictions_valid_forest)\n",
        "\n",
        "print(\"Accuracy модели случайный лес на валидационной выборке:\",result_forest)"
      ],
      "execution_count": null,
      "outputs": [
        {
          "output_type": "stream",
          "text": [
            "Accuracy модели случайный лес на валидационной выборке: 0.8211508553654744\n"
          ],
          "name": "stdout"
        }
      ]
    },
    {
      "cell_type": "markdown",
      "metadata": {
        "id": "VXUSMovZZQ2a"
      },
      "source": [
        "<b>Модель логистическая регрессия</b>"
      ]
    },
    {
      "cell_type": "markdown",
      "metadata": {
        "id": "WVpI1uaHZQ2b"
      },
      "source": [
        "<b>Попробуем применить GridSearchCV к логистической модели</b>"
      ]
    },
    {
      "cell_type": "code",
      "metadata": {
        "colab": {
          "base_uri": "https://localhost:8080/"
        },
        "id": "3wVOg53vZQ2b",
        "outputId": "6c07a456-50bf-49fd-b3af-dbd52209d784"
      },
      "source": [
        "penalty = ['l1','l2']\n",
        "C = [1,2,3,4,5,6,7,8,9]\n",
        "max_iter = [50,100,150,200]\n",
        "param_grid = {'penalty': penalty,\n",
        "               'C': C,\n",
        "               'max_iter': max_iter}\n",
        "gs_reg = GridSearchCV(LogisticRegression(random_state=42), param_grid)\n",
        "gs_reg.fit(features_train,target_train)\n",
        "gs_reg.best_params_"
      ],
      "execution_count": null,
      "outputs": [
        {
          "output_type": "execute_result",
          "data": {
            "text/plain": [
              "{'C': 3, 'max_iter': 50, 'penalty': 'l1'}"
            ]
          },
          "metadata": {
            "tags": []
          },
          "execution_count": 38
        }
      ]
    },
    {
      "cell_type": "code",
      "metadata": {
        "colab": {
          "base_uri": "https://localhost:8080/"
        },
        "id": "S2-ROJp1ZQ2b",
        "outputId": "7fb88cd4-d4b9-417c-eff8-8071537e8e17"
      },
      "source": [
        "model_reg = LogisticRegression(C=3,random_state=42, penalty='l1',max_iter=50) \n",
        "model_reg.fit(features_train,target_train)\n",
        "predictions_valid_reg = model_reg.predict(features_valid)\n",
        "result_reg = accuracy_score(target_valid, predictions_valid_reg)\n",
        "\n",
        "print(\"Accuracy модели логистической регрессии на валидационной выборке:\", result_reg)"
      ],
      "execution_count": null,
      "outputs": [
        {
          "output_type": "stream",
          "text": [
            "Accuracy модели логистической регрессии на валидационной выборке: 0.7573872472783826\n"
          ],
          "name": "stdout"
        }
      ]
    },
    {
      "cell_type": "markdown",
      "metadata": {
        "id": "yQRsiD4lZQ2c"
      },
      "source": [
        "### Вывод по разделу\n",
        "\n",
        "1. <b>Построили 3 модели: дерево решений, случайный лес и логистическая регрессия. \n",
        "2. Попробовал использовать подбор гиперпараметров методом GridSearchCV, а также обычными циклами for. Результаты получились немного разными, возможно нужно более детально разобрать GridSearchCV. \n",
        "3. Также добились доли правильных ответов больше 0.75.</b><br>\n",
        "<table border=\"5\" width=\"300\" cellpadding=\"5\" cellspasing=\"2\" bordercolor=\"#000000\" align=\"left\">\n",
        "    <tr>\n",
        "        <th>Модель</th>\n",
        "        <th>Доля правильных ответов</th>\n",
        "    </tr>\n",
        "    <tr>\n",
        "        <th>Дерево решений</th>\n",
        "        <th>0.7931</th>\n",
        "    </tr>\n",
        "     <tr>\n",
        "        <th>Случайный лес</th>\n",
        "        <th>0.8211</th>\n",
        "    </tr>\n",
        "    <tr>\n",
        "        <th>Логистическая регрессия</th>\n",
        "        <th>0.7573</th>\n",
        "    </tr>"
      ]
    },
    {
      "cell_type": "markdown",
      "metadata": {
        "id": "u9-mjj8WZQ2c"
      },
      "source": [
        "## Проверим модель на тестовой выборке"
      ]
    },
    {
      "cell_type": "markdown",
      "metadata": {
        "id": "nJ5MRdwhBsuT"
      },
      "source": [
        "<b>Объединим обучающую выборку и валидационную</b>"
      ]
    },
    {
      "cell_type": "code",
      "metadata": {
        "id": "29kzS7NfBsuT",
        "outputId": "8f636c0c-fd0b-4ddb-aadc-af49710c4195"
      },
      "source": [
        "display(features_train)"
      ],
      "execution_count": null,
      "outputs": [
        {
          "output_type": "display_data",
          "data": {
            "text/html": [
              "<div>\n",
              "<style scoped>\n",
              "    .dataframe tbody tr th:only-of-type {\n",
              "        vertical-align: middle;\n",
              "    }\n",
              "\n",
              "    .dataframe tbody tr th {\n",
              "        vertical-align: top;\n",
              "    }\n",
              "\n",
              "    .dataframe thead th {\n",
              "        text-align: right;\n",
              "    }\n",
              "</style>\n",
              "<table border=\"1\" class=\"dataframe\">\n",
              "  <thead>\n",
              "    <tr style=\"text-align: right;\">\n",
              "      <th></th>\n",
              "      <th>calls</th>\n",
              "      <th>messages</th>\n",
              "      <th>mb_used</th>\n",
              "    </tr>\n",
              "  </thead>\n",
              "  <tbody>\n",
              "    <tr>\n",
              "      <td>3187</td>\n",
              "      <td>35.0</td>\n",
              "      <td>4.0</td>\n",
              "      <td>14857.57</td>\n",
              "    </tr>\n",
              "    <tr>\n",
              "      <td>1889</td>\n",
              "      <td>84.0</td>\n",
              "      <td>0.0</td>\n",
              "      <td>16028.42</td>\n",
              "    </tr>\n",
              "    <tr>\n",
              "      <td>1253</td>\n",
              "      <td>62.0</td>\n",
              "      <td>7.0</td>\n",
              "      <td>21571.89</td>\n",
              "    </tr>\n",
              "    <tr>\n",
              "      <td>1147</td>\n",
              "      <td>75.0</td>\n",
              "      <td>49.0</td>\n",
              "      <td>17120.31</td>\n",
              "    </tr>\n",
              "    <tr>\n",
              "      <td>2801</td>\n",
              "      <td>34.0</td>\n",
              "      <td>83.0</td>\n",
              "      <td>13463.84</td>\n",
              "    </tr>\n",
              "    <tr>\n",
              "      <td>...</td>\n",
              "      <td>...</td>\n",
              "      <td>...</td>\n",
              "      <td>...</td>\n",
              "    </tr>\n",
              "    <tr>\n",
              "      <td>2623</td>\n",
              "      <td>59.0</td>\n",
              "      <td>14.0</td>\n",
              "      <td>12135.58</td>\n",
              "    </tr>\n",
              "    <tr>\n",
              "      <td>1143</td>\n",
              "      <td>63.0</td>\n",
              "      <td>23.0</td>\n",
              "      <td>13945.79</td>\n",
              "    </tr>\n",
              "    <tr>\n",
              "      <td>2202</td>\n",
              "      <td>101.0</td>\n",
              "      <td>64.0</td>\n",
              "      <td>13229.44</td>\n",
              "    </tr>\n",
              "    <tr>\n",
              "      <td>1846</td>\n",
              "      <td>25.0</td>\n",
              "      <td>84.0</td>\n",
              "      <td>16150.12</td>\n",
              "    </tr>\n",
              "    <tr>\n",
              "      <td>2477</td>\n",
              "      <td>68.0</td>\n",
              "      <td>45.0</td>\n",
              "      <td>13544.52</td>\n",
              "    </tr>\n",
              "  </tbody>\n",
              "</table>\n",
              "<p>1928 rows × 3 columns</p>\n",
              "</div>"
            ],
            "text/plain": [
              "      calls  messages   mb_used\n",
              "3187   35.0       4.0  14857.57\n",
              "1889   84.0       0.0  16028.42\n",
              "1253   62.0       7.0  21571.89\n",
              "1147   75.0      49.0  17120.31\n",
              "2801   34.0      83.0  13463.84\n",
              "...     ...       ...       ...\n",
              "2623   59.0      14.0  12135.58\n",
              "1143   63.0      23.0  13945.79\n",
              "2202  101.0      64.0  13229.44\n",
              "1846   25.0      84.0  16150.12\n",
              "2477   68.0      45.0  13544.52\n",
              "\n",
              "[1928 rows x 3 columns]"
            ]
          },
          "metadata": {
            "tags": []
          }
        }
      ]
    },
    {
      "cell_type": "code",
      "metadata": {
        "id": "29vNItFWBsuU",
        "outputId": "7932b59d-3173-47ea-a1d8-c6d957b5ea4a"
      },
      "source": [
        "display(features_valid)"
      ],
      "execution_count": null,
      "outputs": [
        {
          "output_type": "display_data",
          "data": {
            "text/html": [
              "<div>\n",
              "<style scoped>\n",
              "    .dataframe tbody tr th:only-of-type {\n",
              "        vertical-align: middle;\n",
              "    }\n",
              "\n",
              "    .dataframe tbody tr th {\n",
              "        vertical-align: top;\n",
              "    }\n",
              "\n",
              "    .dataframe thead th {\n",
              "        text-align: right;\n",
              "    }\n",
              "</style>\n",
              "<table border=\"1\" class=\"dataframe\">\n",
              "  <thead>\n",
              "    <tr style=\"text-align: right;\">\n",
              "      <th></th>\n",
              "      <th>calls</th>\n",
              "      <th>messages</th>\n",
              "      <th>mb_used</th>\n",
              "    </tr>\n",
              "  </thead>\n",
              "  <tbody>\n",
              "    <tr>\n",
              "      <td>506</td>\n",
              "      <td>46.0</td>\n",
              "      <td>35.0</td>\n",
              "      <td>11428.54</td>\n",
              "    </tr>\n",
              "    <tr>\n",
              "      <td>2513</td>\n",
              "      <td>39.0</td>\n",
              "      <td>0.0</td>\n",
              "      <td>20480.11</td>\n",
              "    </tr>\n",
              "    <tr>\n",
              "      <td>354</td>\n",
              "      <td>39.0</td>\n",
              "      <td>0.0</td>\n",
              "      <td>19998.80</td>\n",
              "    </tr>\n",
              "    <tr>\n",
              "      <td>1080</td>\n",
              "      <td>36.0</td>\n",
              "      <td>19.0</td>\n",
              "      <td>23525.07</td>\n",
              "    </tr>\n",
              "    <tr>\n",
              "      <td>2389</td>\n",
              "      <td>35.0</td>\n",
              "      <td>52.0</td>\n",
              "      <td>35177.94</td>\n",
              "    </tr>\n",
              "    <tr>\n",
              "      <td>...</td>\n",
              "      <td>...</td>\n",
              "      <td>...</td>\n",
              "      <td>...</td>\n",
              "    </tr>\n",
              "    <tr>\n",
              "      <td>366</td>\n",
              "      <td>64.0</td>\n",
              "      <td>36.0</td>\n",
              "      <td>17413.75</td>\n",
              "    </tr>\n",
              "    <tr>\n",
              "      <td>1952</td>\n",
              "      <td>100.0</td>\n",
              "      <td>31.0</td>\n",
              "      <td>17726.01</td>\n",
              "    </tr>\n",
              "    <tr>\n",
              "      <td>29</td>\n",
              "      <td>50.0</td>\n",
              "      <td>44.0</td>\n",
              "      <td>9998.83</td>\n",
              "    </tr>\n",
              "    <tr>\n",
              "      <td>2682</td>\n",
              "      <td>0.0</td>\n",
              "      <td>23.0</td>\n",
              "      <td>21934.04</td>\n",
              "    </tr>\n",
              "    <tr>\n",
              "      <td>22</td>\n",
              "      <td>48.0</td>\n",
              "      <td>66.0</td>\n",
              "      <td>16469.90</td>\n",
              "    </tr>\n",
              "  </tbody>\n",
              "</table>\n",
              "<p>643 rows × 3 columns</p>\n",
              "</div>"
            ],
            "text/plain": [
              "      calls  messages   mb_used\n",
              "506    46.0      35.0  11428.54\n",
              "2513   39.0       0.0  20480.11\n",
              "354    39.0       0.0  19998.80\n",
              "1080   36.0      19.0  23525.07\n",
              "2389   35.0      52.0  35177.94\n",
              "...     ...       ...       ...\n",
              "366    64.0      36.0  17413.75\n",
              "1952  100.0      31.0  17726.01\n",
              "29     50.0      44.0   9998.83\n",
              "2682    0.0      23.0  21934.04\n",
              "22     48.0      66.0  16469.90\n",
              "\n",
              "[643 rows x 3 columns]"
            ]
          },
          "metadata": {
            "tags": []
          }
        }
      ]
    },
    {
      "cell_type": "code",
      "metadata": {
        "id": "2Qc-C1FoBsuU"
      },
      "source": [
        "new_features = pd.concat([features_train, features_valid])\n",
        "new_target = pd.concat([target_train, target_valid])"
      ],
      "execution_count": null,
      "outputs": []
    },
    {
      "cell_type": "code",
      "metadata": {
        "id": "tQvDomi6BsuU",
        "outputId": "50dda4ea-4423-4483-bc33-2dc7ce2b599b"
      },
      "source": [
        "display(new_features)"
      ],
      "execution_count": null,
      "outputs": [
        {
          "output_type": "display_data",
          "data": {
            "text/html": [
              "<div>\n",
              "<style scoped>\n",
              "    .dataframe tbody tr th:only-of-type {\n",
              "        vertical-align: middle;\n",
              "    }\n",
              "\n",
              "    .dataframe tbody tr th {\n",
              "        vertical-align: top;\n",
              "    }\n",
              "\n",
              "    .dataframe thead th {\n",
              "        text-align: right;\n",
              "    }\n",
              "</style>\n",
              "<table border=\"1\" class=\"dataframe\">\n",
              "  <thead>\n",
              "    <tr style=\"text-align: right;\">\n",
              "      <th></th>\n",
              "      <th>calls</th>\n",
              "      <th>messages</th>\n",
              "      <th>mb_used</th>\n",
              "    </tr>\n",
              "  </thead>\n",
              "  <tbody>\n",
              "    <tr>\n",
              "      <td>3187</td>\n",
              "      <td>35.0</td>\n",
              "      <td>4.0</td>\n",
              "      <td>14857.57</td>\n",
              "    </tr>\n",
              "    <tr>\n",
              "      <td>1889</td>\n",
              "      <td>84.0</td>\n",
              "      <td>0.0</td>\n",
              "      <td>16028.42</td>\n",
              "    </tr>\n",
              "    <tr>\n",
              "      <td>1253</td>\n",
              "      <td>62.0</td>\n",
              "      <td>7.0</td>\n",
              "      <td>21571.89</td>\n",
              "    </tr>\n",
              "    <tr>\n",
              "      <td>1147</td>\n",
              "      <td>75.0</td>\n",
              "      <td>49.0</td>\n",
              "      <td>17120.31</td>\n",
              "    </tr>\n",
              "    <tr>\n",
              "      <td>2801</td>\n",
              "      <td>34.0</td>\n",
              "      <td>83.0</td>\n",
              "      <td>13463.84</td>\n",
              "    </tr>\n",
              "    <tr>\n",
              "      <td>...</td>\n",
              "      <td>...</td>\n",
              "      <td>...</td>\n",
              "      <td>...</td>\n",
              "    </tr>\n",
              "    <tr>\n",
              "      <td>366</td>\n",
              "      <td>64.0</td>\n",
              "      <td>36.0</td>\n",
              "      <td>17413.75</td>\n",
              "    </tr>\n",
              "    <tr>\n",
              "      <td>1952</td>\n",
              "      <td>100.0</td>\n",
              "      <td>31.0</td>\n",
              "      <td>17726.01</td>\n",
              "    </tr>\n",
              "    <tr>\n",
              "      <td>29</td>\n",
              "      <td>50.0</td>\n",
              "      <td>44.0</td>\n",
              "      <td>9998.83</td>\n",
              "    </tr>\n",
              "    <tr>\n",
              "      <td>2682</td>\n",
              "      <td>0.0</td>\n",
              "      <td>23.0</td>\n",
              "      <td>21934.04</td>\n",
              "    </tr>\n",
              "    <tr>\n",
              "      <td>22</td>\n",
              "      <td>48.0</td>\n",
              "      <td>66.0</td>\n",
              "      <td>16469.90</td>\n",
              "    </tr>\n",
              "  </tbody>\n",
              "</table>\n",
              "<p>2571 rows × 3 columns</p>\n",
              "</div>"
            ],
            "text/plain": [
              "      calls  messages   mb_used\n",
              "3187   35.0       4.0  14857.57\n",
              "1889   84.0       0.0  16028.42\n",
              "1253   62.0       7.0  21571.89\n",
              "1147   75.0      49.0  17120.31\n",
              "2801   34.0      83.0  13463.84\n",
              "...     ...       ...       ...\n",
              "366    64.0      36.0  17413.75\n",
              "1952  100.0      31.0  17726.01\n",
              "29     50.0      44.0   9998.83\n",
              "2682    0.0      23.0  21934.04\n",
              "22     48.0      66.0  16469.90\n",
              "\n",
              "[2571 rows x 3 columns]"
            ]
          },
          "metadata": {
            "tags": []
          }
        }
      ]
    },
    {
      "cell_type": "code",
      "metadata": {
        "id": "McUH9KkcBsuU",
        "outputId": "b7291cb4-8cdf-42d0-c542-e7a67a699678"
      },
      "source": [
        "display(new_target)"
      ],
      "execution_count": null,
      "outputs": [
        {
          "output_type": "display_data",
          "data": {
            "text/plain": [
              "3187    0\n",
              "1889    0\n",
              "1253    0\n",
              "1147    0\n",
              "2801    0\n",
              "       ..\n",
              "366     0\n",
              "1952    1\n",
              "29      1\n",
              "2682    1\n",
              "22      1\n",
              "Name: is_ultra, Length: 2571, dtype: int64"
            ]
          },
          "metadata": {
            "tags": []
          }
        }
      ]
    },
    {
      "cell_type": "code",
      "metadata": {
        "id": "fK7KXynABsuV",
        "outputId": "6ea8ad45-00d0-4338-cf65-c791abc585a1"
      },
      "source": [
        "len(df) - len(new_features)"
      ],
      "execution_count": null,
      "outputs": [
        {
          "output_type": "execute_result",
          "data": {
            "text/plain": [
              "643"
            ]
          },
          "metadata": {
            "tags": []
          },
          "execution_count": 45
        }
      ]
    },
    {
      "cell_type": "code",
      "metadata": {
        "colab": {
          "base_uri": "https://localhost:8080/"
        },
        "id": "D9FwGu39ZQ2c",
        "outputId": "08ef1af1-8cf5-402b-a28e-17f3307f121d"
      },
      "source": [
        "model_tree.fit(new_features, new_target) \n",
        "test_predictions_tree = model_tree.predict(test_features)\n",
        "accuracy_tree_test = accuracy_score(test_target, test_predictions_tree)\n",
        "\n",
        "print('Accuracy модели дерева решений на тестовой выборке:',accuracy_tree_test)"
      ],
      "execution_count": null,
      "outputs": [
        {
          "output_type": "stream",
          "text": [
            "Accuracy модели дерева решений на тестовой выборке: 0.7869362363919129\n"
          ],
          "name": "stdout"
        }
      ]
    },
    {
      "cell_type": "code",
      "metadata": {
        "colab": {
          "base_uri": "https://localhost:8080/"
        },
        "id": "PYHLDQgzZQ2d",
        "outputId": "b9776091-92c7-41a3-add4-eec653d62c22"
      },
      "source": [
        "model_forest.fit(new_features, new_target) \n",
        "test_predictions_forest = model_forest.predict(test_features)\n",
        "accuracy_forest_test = accuracy_score(test_target, test_predictions_forest)\n",
        "\n",
        "print('Accuracy модели случайного леса на тестовой выборке:',accuracy_forest_test)"
      ],
      "execution_count": null,
      "outputs": [
        {
          "output_type": "stream",
          "text": [
            "Accuracy модели случайного леса на тестовой выборке: 0.8102643856920684\n"
          ],
          "name": "stdout"
        }
      ]
    },
    {
      "cell_type": "code",
      "metadata": {
        "colab": {
          "base_uri": "https://localhost:8080/"
        },
        "id": "OGINtrnCZQ2d",
        "outputId": "de731b70-5a85-4792-d770-6d1c2ab5383d"
      },
      "source": [
        "model_reg.fit(new_features, new_target) \n",
        "test_predictions_reg = model_reg.predict(test_features)\n",
        "accuracy_reg_test = accuracy_score(test_target, test_predictions_reg)\n",
        "\n",
        "print(\"Accuracy модели логистической регрессии на тестовой выборке:\", accuracy_reg_test)"
      ],
      "execution_count": null,
      "outputs": [
        {
          "output_type": "stream",
          "text": [
            "Accuracy модели логистической регрессии на тестовой выборке: 0.744945567651633\n"
          ],
          "name": "stdout"
        }
      ]
    },
    {
      "cell_type": "markdown",
      "metadata": {
        "id": "bM2vtl9xZQ2d"
      },
      "source": [
        "### Вывод по разделу\n",
        "<b>На тестовой выборке результаты схожи с предыдущими результатами. Стоит заметить, что модели \"Логистическая регрессия\" и \"Дерево решений\" проигрывают по доле правильных ответов модели \"Случайный лес\".</b>"
      ]
    },
    {
      "cell_type": "markdown",
      "metadata": {
        "id": "kVY_HJ5gZQ2e"
      },
      "source": [
        "## Проверим модели на адекватность"
      ]
    },
    {
      "cell_type": "markdown",
      "metadata": {
        "id": "_KeRdI3BZQ2e"
      },
      "source": [
        "<b>Рассчитаем Точность и Полноту модели, а также построим Матрицу неточностей.</b>"
      ]
    },
    {
      "cell_type": "markdown",
      "metadata": {
        "id": "dE6rzIG52C2T"
      },
      "source": [
        "<b>Модель дерево решений</b>"
      ]
    },
    {
      "cell_type": "code",
      "metadata": {
        "colab": {
          "base_uri": "https://localhost:8080/"
        },
        "id": "NpJ0d_hrZQ2e",
        "outputId": "9862b7a5-b6cb-4a8e-b61d-fee986a71e87"
      },
      "source": [
        "print(metrics.classification_report(test_target,test_predictions_tree))"
      ],
      "execution_count": null,
      "outputs": [
        {
          "output_type": "stream",
          "text": [
            "              precision    recall  f1-score   support\n",
            "\n",
            "           0       0.79      0.95      0.86       451\n",
            "           1       0.77      0.41      0.53       192\n",
            "\n",
            "    accuracy                           0.79       643\n",
            "   macro avg       0.78      0.68      0.70       643\n",
            "weighted avg       0.78      0.79      0.76       643\n",
            "\n"
          ],
          "name": "stdout"
        }
      ]
    },
    {
      "cell_type": "code",
      "metadata": {
        "colab": {
          "base_uri": "https://localhost:8080/",
          "height": 279
        },
        "id": "HQRNT0AUZQ2e",
        "outputId": "8b1a5c77-832a-46dd-eb70-9491ec6b6cf7"
      },
      "source": [
        "mat_tree = confusion_matrix(test_target,test_predictions_tree)\n",
        "sns.heatmap(mat_tree.T, square=True, annot=True, fmt='d', cbar=True)\n",
        "plt.xlabel('Настоящие метки')\n",
        "plt.ylabel('Прогнозируемые метки')\n",
        "plt.show()"
      ],
      "execution_count": null,
      "outputs": [
        {
          "output_type": "display_data",
          "data": {
            "image/png": "[encoded data removed]",
            "text/plain": [
              "<Figure size 432x288 with 2 Axes>"
            ]
          },
          "metadata": {
            "tags": [],
            "needs_background": "light"
          }
        }
      ]
    },
    {
      "cell_type": "code",
      "metadata": {
        "colab": {
          "base_uri": "https://localhost:8080/"
        },
        "id": "eU6EfT4CzCwE",
        "outputId": "7d181aee-d0fc-4786-8d44-8dc2936dc160"
      },
      "source": [
        "455/155"
      ],
      "execution_count": null,
      "outputs": [
        {
          "output_type": "execute_result",
          "data": {
            "text/plain": [
              "2.935483870967742"
            ]
          },
          "metadata": {
            "tags": []
          },
          "execution_count": 51
        }
      ]
    },
    {
      "cell_type": "markdown",
      "metadata": {
        "id": "WwGZ-T2KyoD2"
      },
      "source": [
        "<b>Классы по размеру отличаются почти в 3 раза. Средняя точность по всем классам равна 80%, т.е. около 80% положительных решений правильные. Что касается полноты, то она составляет 70%.</b>"
      ]
    },
    {
      "cell_type": "markdown",
      "metadata": {
        "id": "1tXMU6nJ2YGF"
      },
      "source": [
        "<b>Модель случайный лес</b>"
      ]
    },
    {
      "cell_type": "code",
      "metadata": {
        "colab": {
          "base_uri": "https://localhost:8080/"
        },
        "id": "AGOo7geDZQ2f",
        "outputId": "894ed36d-3f0d-42c3-8140-a24214d2d07d"
      },
      "source": [
        "print(metrics.classification_report(test_target,test_predictions_forest))"
      ],
      "execution_count": null,
      "outputs": [
        {
          "output_type": "stream",
          "text": [
            "              precision    recall  f1-score   support\n",
            "\n",
            "           0       0.82      0.94      0.87       451\n",
            "           1       0.79      0.50      0.61       192\n",
            "\n",
            "    accuracy                           0.81       643\n",
            "   macro avg       0.80      0.72      0.74       643\n",
            "weighted avg       0.81      0.81      0.80       643\n",
            "\n"
          ],
          "name": "stdout"
        }
      ]
    },
    {
      "cell_type": "code",
      "metadata": {
        "colab": {
          "base_uri": "https://localhost:8080/",
          "height": 279
        },
        "id": "jNS2BfUMZQ2f",
        "outputId": "2204a50c-c7b6-4f91-b3a9-c8bae65b3ff8"
      },
      "source": [
        "mat_forest = confusion_matrix(test_target,test_predictions_forest)\n",
        "sns.heatmap(mat_forest.T, square=True, annot=True, fmt='d', cbar=True)\n",
        "plt.xlabel('Настоящие метки')\n",
        "plt.ylabel('Прогнозируемые метки')\n",
        "plt.show()"
      ],
      "execution_count": null,
      "outputs": [
        {
          "output_type": "display_data",
          "data": {
            "image/png": "[encoded data removed]",
            "text/plain": [
              "<Figure size 432x288 with 2 Axes>"
            ]
          },
          "metadata": {
            "tags": [],
            "needs_background": "light"
          }
        }
      ]
    },
    {
      "cell_type": "markdown",
      "metadata": {
        "id": "KD5bDvSi1rxy"
      },
      "source": [
        "<b>Средняя точность по всем классам равна 80%, т.е. около 80% положительных решений правильные. Что касается полноты, то она составляет 73%. Схожие показатели с моделью дерево решений.</b>"
      ]
    },
    {
      "cell_type": "markdown",
      "metadata": {
        "id": "cHecXfPn2e1O"
      },
      "source": [
        "<b>Модель логистическая регрессия</b>"
      ]
    },
    {
      "cell_type": "code",
      "metadata": {
        "colab": {
          "base_uri": "https://localhost:8080/"
        },
        "id": "3VPGNT1jZQ2f",
        "outputId": "5f0b2d3c-a7cf-4ab9-ffe5-ff191b6fa6fd"
      },
      "source": [
        "print(metrics.classification_report(test_target,test_predictions_reg))"
      ],
      "execution_count": null,
      "outputs": [
        {
          "output_type": "stream",
          "text": [
            "              precision    recall  f1-score   support\n",
            "\n",
            "           0       0.74      0.98      0.84       451\n",
            "           1       0.80      0.19      0.31       192\n",
            "\n",
            "    accuracy                           0.74       643\n",
            "   macro avg       0.77      0.59      0.58       643\n",
            "weighted avg       0.76      0.74      0.68       643\n",
            "\n"
          ],
          "name": "stdout"
        }
      ]
    },
    {
      "cell_type": "code",
      "metadata": {
        "colab": {
          "base_uri": "https://localhost:8080/",
          "height": 279
        },
        "id": "AxFnsObDZQ2g",
        "outputId": "99bf7799-1821-4e7c-fa36-67a2717f049b"
      },
      "source": [
        "mat_reg = confusion_matrix(test_target,test_predictions_reg)\n",
        "sns.heatmap(mat_reg.T, square=True, annot=True, fmt='d', cbar=True)\n",
        "plt.xlabel('Настоящие метки')\n",
        "plt.ylabel('Прогнозируемые метки')\n",
        "plt.show()"
      ],
      "execution_count": null,
      "outputs": [
        {
          "output_type": "display_data",
          "data": {
            "image/png": "[encoded data removed]",
            "text/plain": [
              "<Figure size 432x288 with 2 Axes>"
            ]
          },
          "metadata": {
            "tags": [],
            "needs_background": "light"
          }
        }
      ]
    },
    {
      "cell_type": "markdown",
      "metadata": {
        "id": "iUHMOsYI2uFY"
      },
      "source": [
        "<b>Средняя точность по всем классам равна 78%, т.е. около 78% положительных решений правильные. Что касается полноты, то она составляет 61%. По сравнению с остальными моделями показатели намного хуже.</b>"
      ]
    },
    {
      "cell_type": "markdown",
      "metadata": {
        "id": "S0Ez9VoZBsua"
      },
      "source": [
        "<div class=\"alert alert-block alert-success\">\n",
        "<b>Комментарий ревьюера</b>\n",
        "\n",
        "Здорово, что ты знаешь все эти метрики - они очень важные. Про них как раз следующий спринт.\n",
        "\n",
        "</div>\n"
      ]
    },
    {
      "cell_type": "code",
      "metadata": {
        "id": "ZDj0LUyHBsub",
        "outputId": "e580cbaf-1ce8-425b-a137-6c518783a4c8"
      },
      "source": [
        "df['is_ultra'].value_counts(normalize=True)"
      ],
      "execution_count": null,
      "outputs": [
        {
          "output_type": "execute_result",
          "data": {
            "text/plain": [
              "0    0.693528\n",
              "1    0.306472\n",
              "Name: is_ultra, dtype: float64"
            ]
          },
          "metadata": {
            "tags": []
          },
          "execution_count": 56
        }
      ]
    },
    {
      "cell_type": "code",
      "metadata": {
        "id": "13zfeuClBsub",
        "outputId": "05509e42-1745-4011-bb18-876ffa4725dd"
      },
      "source": [
        "dummy = DummyClassifier(strategy='most_frequent').fit(new_features,new_target)\n",
        "dummy_pred = dummy.predict(test_features)\n",
        "result_dummy = accuracy_score(test_target,dummy_pred)\n",
        "print(\"Accuracy модели\", result_dummy)"
      ],
      "execution_count": null,
      "outputs": [
        {
          "output_type": "stream",
          "text": [
            "Accuracy модели 0.7013996889580093\n"
          ],
          "name": "stdout"
        }
      ]
    },
    {
      "cell_type": "markdown",
      "metadata": {
        "id": "HdkzMVcZBsub"
      },
      "source": [
        "<b>Судя по accuracy этой модели, мы неплохо обучили наши 3 модели.</b>"
      ]
    },
    {
      "cell_type": "markdown",
      "metadata": {
        "id": "tYfk5QPO3WWj"
      },
      "source": [
        "### Вывод\n",
        "1. Построили 3 модели: дерево решений, случайный лес, логистическая регрессия.\n",
        "2. Сравнили показатели метрики качества, которые оценивают качество работы модели.\n",
        "<table border=\"5\" width=\"300\" cellpadding=\"5\" cellspasing=\"2\" bordercolor=\"#000000\" align=\"left\">\n",
        "    <tr>\n",
        "        <th>Модель</th>\n",
        "        <th>Доля правильных ответов</th>\n",
        "        <th>Точность</th>\n",
        "        <th>Полнота</th>\n",
        "    </tr>\n",
        "    <tr>\n",
        "        <th>Дерево решений</th>\n",
        "        <th>0.8118</th>\n",
        "        <th>0.78</th>\n",
        "        <th>0.68</th>\n",
        "    </tr>\n",
        "     <tr>\n",
        "        <th>Случайный лес</th>\n",
        "        <th>0.8227</th>\n",
        "        <th>0.8</th>\n",
        "        <th>0.72</th>\n",
        "    </tr>\n",
        "    <tr>\n",
        "        <th>Логистическая регрессия</th>\n",
        "        <th>0.7620</th>\n",
        "        <th>0.77</th>\n",
        "        <th>0.59</th>\n",
        "    </tr>\n",
        "<br>\n",
        "3. Из трех моделей предпочтение стоит отдать модели Случайный лес, так как там наиболее большая точность. Так же стоит проверить модель на более реливантной выборке, так как сейчас соотношение классов почти 3:1. "
      ]
    },
    {
      "cell_type": "markdown",
      "metadata": {
        "id": "78yGXvfCZQ2g"
      },
      "source": [
        "## Чек-лист готовности проекта"
      ]
    },
    {
      "cell_type": "markdown",
      "metadata": {
        "id": "TSAXNUnfZQ2g"
      },
      "source": [
        "Поставьте 'x' в выполненных пунктах. Далее нажмите Shift+Enter."
      ]
    },
    {
      "cell_type": "markdown",
      "metadata": {
        "id": "-hZI8XGIZQ2g"
      },
      "source": [
        "- [x] Jupyter Notebook открыт\n",
        "- [x] Весь код исполняется без ошибок\n",
        "- [x] Ячейки с кодом расположены в порядке исполнения\n",
        "- [x] Выполнено задание 1: данные загружены и изучены\n",
        "- [x] Выполнено задание 2: данные разбиты на три выборки\n",
        "- [x] Выполнено задание 3: проведено исследование моделей\n",
        "    - [x] Рассмотрено больше одной модели\n",
        "    - [x] Рассмотрено хотя бы 3 значения гипепараметров для какой-нибудь модели\n",
        "    - [x] Написаны выводы по результатам исследования\n",
        "- [x] Выполнено задание 4: Проведено тестирование\n",
        "- [x] Удалось достичь accuracy не меньше 0.75\n"
      ]
    }
  ]
}