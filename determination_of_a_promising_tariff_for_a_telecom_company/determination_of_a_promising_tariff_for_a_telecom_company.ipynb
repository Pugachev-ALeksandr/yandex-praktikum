{
  "nbformat": 4,
  "nbformat_minor": 0,
  "metadata": {
    "celltoolbar": "Отсутствует",
    "kernelspec": {
      "display_name": "Python 3",
      "language": "python",
      "name": "python3"
    },
    "language_info": {
      "codemirror_mode": {
        "name": "ipython",
        "version": 3
      },
      "file_extension": ".py",
      "mimetype": "text/x-python",
      "name": "python",
      "nbconvert_exporter": "python",
      "pygments_lexer": "ipython3",
      "version": "3.7.8"
    },
    "colab": {
      "name": "determination_of_a_promising_tariff_for_a_telecom_company.ipynb",
      "provenance": [],
      "collapsed_sections": [
        "lAP_1suItzoQ"
      ],
      "toc_visible": true
    }
  },
  "cells": [
    {
      "cell_type": "markdown",
      "metadata": {
        "id": "gqaeXhz6tzn5"
      },
      "source": [
        "# Определение перспективного тарифа для телеком компании"
      ]
    },
    {
      "cell_type": "markdown",
      "metadata": {
        "id": "ivXPctHEtzn6"
      },
      "source": [
        "Компания «Мегалайн» — федеральный оператор сотовой связи. Они предлагают клиентам два тарифных плана: «Смарт» и «Ультра». \n",
        "## Цель проекта\n",
        "Чтобы скорректировать рекламный бюджет, коммерческий департамент хочет понять, какой тариф приносит больше денег.\n",
        "Предстоит сделать предварительный анализ тарифов на небольшой выборке клиентов. Представлены данные 500 пользователей «Мегалайна»: кто они, откуда, каким тарифом пользуются, сколько звонков и сообщений каждый отправил за 2018 год. Нужно проанализировать поведение клиентов и сделать вывод — какой тариф лучше."
      ]
    },
    {
      "cell_type": "markdown",
      "metadata": {
        "id": "f9x0Audqtzn6"
      },
      "source": [
        "## Описание тарифов\n",
        "<ul style=\"border:solid black 2px; padding: 20px\">\n",
        "    <b>Тариф «Смарт»</b>\n",
        "    <li>Ежемесячная плата: 550 рублей</li>\n",
        "    <li>Включено 500 минут разговора, 50 сообщений и 15 Гб интернет-трафика</li>\n",
        "    <li>Стоимость услуг сверх тарифного пакета:\n",
        "        <dl>\n",
        "          <dt>минута разговора: 3 рубля</dt>\n",
        "          <dt>сообщение: 3 рубля</dt>\n",
        "          <dt>1 Гб интернет-трафика: 200 рублей</dt>\n",
        "        </dl>\n",
        "    </li>\n",
        "</ul>    \n",
        "<ul style=\"border:solid black 2px; padding: 20px\">\n",
        "    <b>Тариф «Ультра»</b>\n",
        "    <li>Ежемесячная плата: 1950 рублей</li>\n",
        "    <li>Включено 3000 минут разговора, 1000 сообщений и 30 Гб интернет-трафика</li>\n",
        "    <li>Стоимость услуг сверх тарифного пакета:\n",
        "        <dl>\n",
        "          <dt>минута разговора: 1 рубль</dt>\n",
        "          <dt>сообщение: 1 рубль</dt>\n",
        "          <dt>1 Гб интернет-трафика: 150 рублей</dt>\n",
        "        </dl>\n",
        "    </li>\n",
        "</ul>\n",
        "<b><u>Обратите внимание</u></b>: «Мегалайн» всегда округляет вверх значения минут и мегабайтов. Если пользователь проговорил всего 1 секунду, в тарифе засчитывается целая минута."
      ]
    },
    {
      "cell_type": "markdown",
      "metadata": {
        "id": "cDcxbBPWtzn6"
      },
      "source": [
        "## Описание данных\n",
        "<ul style=\"border:solid black 2px; padding: 20px\">\n",
        "    <b>Таблица users (информация о пользователях):</b>\n",
        "    <li><i>user_id</i> — уникальный идентификатор пользователя</li>\n",
        "    <li><i>first_name</i> — имя пользователя</li>\n",
        "    <li><i>last_name</i> — фамилия пользователя</li>\n",
        "    <li><i>age</i> — возраст пользователя (годы)</li>\n",
        "    <li><i>reg_date</i> — дата подключения тарифа (день, месяц, год)</li>\n",
        "    <li><i>churn_date</i> — дата прекращения пользования тарифом (если значение пропущено, то тариф ещё действовал на момент выгрузки данных)</li>\n",
        "    <li><i>city</i> — город проживания пользователя</li>\n",
        "    <li><i>tariff</i> — название тарифного плана</li>\n",
        "</ul>\n",
        "<ul style=\"border:solid black 2px; padding: 20px\">\n",
        "    <b>Таблица calls (информация о звонках):</b>\n",
        "    <li><i>id</i> — уникальный номер звонка</li>\n",
        "    <li><i>call_date</i> — дата звонка</li>\n",
        "    <li><i>duration</i> — длительность звонка в минутах</li>\n",
        "    <li><i>user_id</i> — идентификатор пользователя, сделавшего звонок</li>\n",
        "</ul>\n",
        "<ul style=\"border:solid black 2px; padding: 20px\">\n",
        "    <b>Таблица messages (информация о сообщениях):</b>\n",
        "    <li><i>id</i> — уникальный номер сообщения</li>\n",
        "    <li><i>message_date</i> — дата сообщения</li>\n",
        "    <li><i>user_id</i> — идентификатор пользователя, отправившего сообщение</li>\n",
        "</ul>\n",
        "<ul style=\"border:solid black 2px; padding: 20px\">\n",
        "    <b>Таблица internet (информация об интернет-сессиях):</b>\n",
        "    <li><i>id</i> — уникальный номер сессии</li>\n",
        "    <li><i>mb_used</i> — объём потраченного за сессию интернет-трафика (в мегабайтах)</li>\n",
        "    <li><i>session_date</i> — дата интернет-сессии</li>\n",
        "    <li><i>user_id</i> — идентификатор пользователя</li>\n",
        "</ul>\n",
        "<ul style=\"border:solid black 2px; padding: 20px\">\n",
        "    <b>Таблица tariffs (информация о тарифах):</b>\n",
        "    <li><i>tariff_name</i> — название тарифа</li>\n",
        "    <li><i>rub_monthly_fee</i> — ежемесячная абонентская плата в рублях</li>\n",
        "    <li><i>minutes_included</i> — количество минут разговора в месяц, включённых в абонентскую плату</li>\n",
        "    <li><i>messages_included</i> — количество сообщений в месяц, включённых в абонентскую плату</li>\n",
        "    <li><i>mb_per_month_included</i> — объём интернет-трафика, включённого в абонентскую плату (в мегабайтах)</li>\n",
        "    <li><i>rub_per_minute</i> — стоимость минуты разговора сверх тарифного пакета (например, если в тарифе 100 минут разговора в месяц, то со 101 минуты будет взиматься плата)</li>\n",
        "    <li><i>rub_per_message</i> — стоимость отправки сообщения сверх тарифного пакета</li>\n",
        "    <li><i>rub_per_gb</i> — стоимость дополнительного гигабайта интернет-трафика сверх тарифного пакета (1 гигабайт = 1024 мегабайта)</li>\n",
        "</ul>\n"
      ]
    },
    {
      "cell_type": "markdown",
      "metadata": {
        "id": "a7Dw8KACtzn7"
      },
      "source": [
        "## Шаг 1. Откроем файлы с данными и изучим общую информацию"
      ]
    },
    {
      "cell_type": "code",
      "metadata": {
        "id": "vmWtyLZztzn8"
      },
      "source": [
        "import pandas as pd\n",
        "import numpy as np\n",
        "import matplotlib.pyplot as plt\n",
        "\n",
        "from scipy import stats as st"
      ],
      "execution_count": null,
      "outputs": []
    },
    {
      "cell_type": "code",
      "metadata": {
        "id": "wzimXSRytzn8"
      },
      "source": [
        "calls = pd.read_csv('/datasets/calls.csv')\n",
        "internet = pd.read_csv('/datasets/internet.csv')\n",
        "messages = pd.read_csv('/datasets/messages.csv')\n",
        "tariffs = pd.read_csv('/datasets/tariffs.csv')\n",
        "users = pd.read_csv('/datasets/users.csv')"
      ],
      "execution_count": null,
      "outputs": []
    },
    {
      "cell_type": "code",
      "metadata": {
        "id": "DleZczGltzn8"
      },
      "source": [
        "# <приведем формат к читабельному виду>\n",
        "pd.options.display.float_format = '{:.2f}'.format"
      ],
      "execution_count": null,
      "outputs": []
    },
    {
      "cell_type": "code",
      "metadata": {
        "id": "9gFui3FRtzn9",
        "outputId": "07923d88-1c72-41c9-f361-a8b987505fe6"
      },
      "source": [
        "display(calls)"
      ],
      "execution_count": null,
      "outputs": [
        {
          "output_type": "display_data",
          "data": {
            "text/html": [
              "<div>\n",
              "<style scoped>\n",
              "    .dataframe tbody tr th:only-of-type {\n",
              "        vertical-align: middle;\n",
              "    }\n",
              "\n",
              "    .dataframe tbody tr th {\n",
              "        vertical-align: top;\n",
              "    }\n",
              "\n",
              "    .dataframe thead th {\n",
              "        text-align: right;\n",
              "    }\n",
              "</style>\n",
              "<table border=\"1\" class=\"dataframe\">\n",
              "  <thead>\n",
              "    <tr style=\"text-align: right;\">\n",
              "      <th></th>\n",
              "      <th>id</th>\n",
              "      <th>call_date</th>\n",
              "      <th>duration</th>\n",
              "      <th>user_id</th>\n",
              "    </tr>\n",
              "  </thead>\n",
              "  <tbody>\n",
              "    <tr>\n",
              "      <td>0</td>\n",
              "      <td>1000_0</td>\n",
              "      <td>2018-07-25</td>\n",
              "      <td>0.00</td>\n",
              "      <td>1000</td>\n",
              "    </tr>\n",
              "    <tr>\n",
              "      <td>1</td>\n",
              "      <td>1000_1</td>\n",
              "      <td>2018-08-17</td>\n",
              "      <td>0.00</td>\n",
              "      <td>1000</td>\n",
              "    </tr>\n",
              "    <tr>\n",
              "      <td>2</td>\n",
              "      <td>1000_2</td>\n",
              "      <td>2018-06-11</td>\n",
              "      <td>2.85</td>\n",
              "      <td>1000</td>\n",
              "    </tr>\n",
              "    <tr>\n",
              "      <td>3</td>\n",
              "      <td>1000_3</td>\n",
              "      <td>2018-09-21</td>\n",
              "      <td>13.80</td>\n",
              "      <td>1000</td>\n",
              "    </tr>\n",
              "    <tr>\n",
              "      <td>4</td>\n",
              "      <td>1000_4</td>\n",
              "      <td>2018-12-15</td>\n",
              "      <td>5.18</td>\n",
              "      <td>1000</td>\n",
              "    </tr>\n",
              "    <tr>\n",
              "      <td>...</td>\n",
              "      <td>...</td>\n",
              "      <td>...</td>\n",
              "      <td>...</td>\n",
              "      <td>...</td>\n",
              "    </tr>\n",
              "    <tr>\n",
              "      <td>202602</td>\n",
              "      <td>1499_215</td>\n",
              "      <td>2018-12-26</td>\n",
              "      <td>0.76</td>\n",
              "      <td>1499</td>\n",
              "    </tr>\n",
              "    <tr>\n",
              "      <td>202603</td>\n",
              "      <td>1499_216</td>\n",
              "      <td>2018-10-18</td>\n",
              "      <td>18.83</td>\n",
              "      <td>1499</td>\n",
              "    </tr>\n",
              "    <tr>\n",
              "      <td>202604</td>\n",
              "      <td>1499_217</td>\n",
              "      <td>2018-11-10</td>\n",
              "      <td>10.81</td>\n",
              "      <td>1499</td>\n",
              "    </tr>\n",
              "    <tr>\n",
              "      <td>202605</td>\n",
              "      <td>1499_218</td>\n",
              "      <td>2018-10-06</td>\n",
              "      <td>4.27</td>\n",
              "      <td>1499</td>\n",
              "    </tr>\n",
              "    <tr>\n",
              "      <td>202606</td>\n",
              "      <td>1499_219</td>\n",
              "      <td>2018-12-14</td>\n",
              "      <td>19.62</td>\n",
              "      <td>1499</td>\n",
              "    </tr>\n",
              "  </tbody>\n",
              "</table>\n",
              "<p>202607 rows × 4 columns</p>\n",
              "</div>"
            ],
            "text/plain": [
              "              id   call_date  duration  user_id\n",
              "0         1000_0  2018-07-25      0.00     1000\n",
              "1         1000_1  2018-08-17      0.00     1000\n",
              "2         1000_2  2018-06-11      2.85     1000\n",
              "3         1000_3  2018-09-21     13.80     1000\n",
              "4         1000_4  2018-12-15      5.18     1000\n",
              "...          ...         ...       ...      ...\n",
              "202602  1499_215  2018-12-26      0.76     1499\n",
              "202603  1499_216  2018-10-18     18.83     1499\n",
              "202604  1499_217  2018-11-10     10.81     1499\n",
              "202605  1499_218  2018-10-06      4.27     1499\n",
              "202606  1499_219  2018-12-14     19.62     1499\n",
              "\n",
              "[202607 rows x 4 columns]"
            ]
          },
          "metadata": {
            "tags": []
          }
        }
      ]
    },
    {
      "cell_type": "markdown",
      "metadata": {
        "id": "KbMjRQMmtzn-"
      },
      "source": [
        "<b>Нужно разобраться с нулевыми значниями столбца <i>'duration'</i></b>"
      ]
    },
    {
      "cell_type": "code",
      "metadata": {
        "id": "8s2hzIjitzn-",
        "outputId": "c5fc8be2-be25-48c9-f359-e69c5a1e5e35"
      },
      "source": [
        "calls.describe()"
      ],
      "execution_count": null,
      "outputs": [
        {
          "output_type": "execute_result",
          "data": {
            "text/html": [
              "<div>\n",
              "<style scoped>\n",
              "    .dataframe tbody tr th:only-of-type {\n",
              "        vertical-align: middle;\n",
              "    }\n",
              "\n",
              "    .dataframe tbody tr th {\n",
              "        vertical-align: top;\n",
              "    }\n",
              "\n",
              "    .dataframe thead th {\n",
              "        text-align: right;\n",
              "    }\n",
              "</style>\n",
              "<table border=\"1\" class=\"dataframe\">\n",
              "  <thead>\n",
              "    <tr style=\"text-align: right;\">\n",
              "      <th></th>\n",
              "      <th>duration</th>\n",
              "      <th>user_id</th>\n",
              "    </tr>\n",
              "  </thead>\n",
              "  <tbody>\n",
              "    <tr>\n",
              "      <td>count</td>\n",
              "      <td>202607.00</td>\n",
              "      <td>202607.00</td>\n",
              "    </tr>\n",
              "    <tr>\n",
              "      <td>mean</td>\n",
              "      <td>6.76</td>\n",
              "      <td>1253.94</td>\n",
              "    </tr>\n",
              "    <tr>\n",
              "      <td>std</td>\n",
              "      <td>5.84</td>\n",
              "      <td>144.72</td>\n",
              "    </tr>\n",
              "    <tr>\n",
              "      <td>min</td>\n",
              "      <td>0.00</td>\n",
              "      <td>1000.00</td>\n",
              "    </tr>\n",
              "    <tr>\n",
              "      <td>25%</td>\n",
              "      <td>1.30</td>\n",
              "      <td>1126.00</td>\n",
              "    </tr>\n",
              "    <tr>\n",
              "      <td>50%</td>\n",
              "      <td>6.00</td>\n",
              "      <td>1260.00</td>\n",
              "    </tr>\n",
              "    <tr>\n",
              "      <td>75%</td>\n",
              "      <td>10.70</td>\n",
              "      <td>1379.00</td>\n",
              "    </tr>\n",
              "    <tr>\n",
              "      <td>max</td>\n",
              "      <td>38.00</td>\n",
              "      <td>1499.00</td>\n",
              "    </tr>\n",
              "  </tbody>\n",
              "</table>\n",
              "</div>"
            ],
            "text/plain": [
              "       duration   user_id\n",
              "count 202607.00 202607.00\n",
              "mean       6.76   1253.94\n",
              "std        5.84    144.72\n",
              "min        0.00   1000.00\n",
              "25%        1.30   1126.00\n",
              "50%        6.00   1260.00\n",
              "75%       10.70   1379.00\n",
              "max       38.00   1499.00"
            ]
          },
          "metadata": {
            "tags": []
          },
          "execution_count": 6
        }
      ]
    },
    {
      "cell_type": "code",
      "metadata": {
        "id": "EjvrOP6dtzn-",
        "outputId": "64eb44cb-69ca-4586-9261-abc8a52e058c"
      },
      "source": [
        "print(calls.duplicated().sum())"
      ],
      "execution_count": null,
      "outputs": [
        {
          "output_type": "stream",
          "text": [
            "0\n"
          ],
          "name": "stdout"
        }
      ]
    },
    {
      "cell_type": "code",
      "metadata": {
        "id": "xkBK5yHYtzn-",
        "outputId": "7c5d90a4-7469-48c9-ceaa-c9f3458618ea"
      },
      "source": [
        "display(internet)"
      ],
      "execution_count": null,
      "outputs": [
        {
          "output_type": "display_data",
          "data": {
            "text/html": [
              "<div>\n",
              "<style scoped>\n",
              "    .dataframe tbody tr th:only-of-type {\n",
              "        vertical-align: middle;\n",
              "    }\n",
              "\n",
              "    .dataframe tbody tr th {\n",
              "        vertical-align: top;\n",
              "    }\n",
              "\n",
              "    .dataframe thead th {\n",
              "        text-align: right;\n",
              "    }\n",
              "</style>\n",
              "<table border=\"1\" class=\"dataframe\">\n",
              "  <thead>\n",
              "    <tr style=\"text-align: right;\">\n",
              "      <th></th>\n",
              "      <th>Unnamed: 0</th>\n",
              "      <th>id</th>\n",
              "      <th>mb_used</th>\n",
              "      <th>session_date</th>\n",
              "      <th>user_id</th>\n",
              "    </tr>\n",
              "  </thead>\n",
              "  <tbody>\n",
              "    <tr>\n",
              "      <td>0</td>\n",
              "      <td>0</td>\n",
              "      <td>1000_0</td>\n",
              "      <td>112.95</td>\n",
              "      <td>2018-11-25</td>\n",
              "      <td>1000</td>\n",
              "    </tr>\n",
              "    <tr>\n",
              "      <td>1</td>\n",
              "      <td>1</td>\n",
              "      <td>1000_1</td>\n",
              "      <td>1052.81</td>\n",
              "      <td>2018-09-07</td>\n",
              "      <td>1000</td>\n",
              "    </tr>\n",
              "    <tr>\n",
              "      <td>2</td>\n",
              "      <td>2</td>\n",
              "      <td>1000_2</td>\n",
              "      <td>1197.26</td>\n",
              "      <td>2018-06-25</td>\n",
              "      <td>1000</td>\n",
              "    </tr>\n",
              "    <tr>\n",
              "      <td>3</td>\n",
              "      <td>3</td>\n",
              "      <td>1000_3</td>\n",
              "      <td>550.27</td>\n",
              "      <td>2018-08-22</td>\n",
              "      <td>1000</td>\n",
              "    </tr>\n",
              "    <tr>\n",
              "      <td>4</td>\n",
              "      <td>4</td>\n",
              "      <td>1000_4</td>\n",
              "      <td>302.56</td>\n",
              "      <td>2018-09-24</td>\n",
              "      <td>1000</td>\n",
              "    </tr>\n",
              "    <tr>\n",
              "      <td>...</td>\n",
              "      <td>...</td>\n",
              "      <td>...</td>\n",
              "      <td>...</td>\n",
              "      <td>...</td>\n",
              "      <td>...</td>\n",
              "    </tr>\n",
              "    <tr>\n",
              "      <td>149391</td>\n",
              "      <td>149391</td>\n",
              "      <td>1499_152</td>\n",
              "      <td>318.90</td>\n",
              "      <td>2018-10-03</td>\n",
              "      <td>1499</td>\n",
              "    </tr>\n",
              "    <tr>\n",
              "      <td>149392</td>\n",
              "      <td>149392</td>\n",
              "      <td>1499_153</td>\n",
              "      <td>490.13</td>\n",
              "      <td>2018-12-14</td>\n",
              "      <td>1499</td>\n",
              "    </tr>\n",
              "    <tr>\n",
              "      <td>149393</td>\n",
              "      <td>149393</td>\n",
              "      <td>1499_154</td>\n",
              "      <td>0.00</td>\n",
              "      <td>2018-10-27</td>\n",
              "      <td>1499</td>\n",
              "    </tr>\n",
              "    <tr>\n",
              "      <td>149394</td>\n",
              "      <td>149394</td>\n",
              "      <td>1499_155</td>\n",
              "      <td>1246.32</td>\n",
              "      <td>2018-11-26</td>\n",
              "      <td>1499</td>\n",
              "    </tr>\n",
              "    <tr>\n",
              "      <td>149395</td>\n",
              "      <td>149395</td>\n",
              "      <td>1499_156</td>\n",
              "      <td>544.37</td>\n",
              "      <td>2018-10-26</td>\n",
              "      <td>1499</td>\n",
              "    </tr>\n",
              "  </tbody>\n",
              "</table>\n",
              "<p>149396 rows × 5 columns</p>\n",
              "</div>"
            ],
            "text/plain": [
              "        Unnamed: 0        id  mb_used session_date  user_id\n",
              "0                0    1000_0   112.95   2018-11-25     1000\n",
              "1                1    1000_1  1052.81   2018-09-07     1000\n",
              "2                2    1000_2  1197.26   2018-06-25     1000\n",
              "3                3    1000_3   550.27   2018-08-22     1000\n",
              "4                4    1000_4   302.56   2018-09-24     1000\n",
              "...            ...       ...      ...          ...      ...\n",
              "149391      149391  1499_152   318.90   2018-10-03     1499\n",
              "149392      149392  1499_153   490.13   2018-12-14     1499\n",
              "149393      149393  1499_154     0.00   2018-10-27     1499\n",
              "149394      149394  1499_155  1246.32   2018-11-26     1499\n",
              "149395      149395  1499_156   544.37   2018-10-26     1499\n",
              "\n",
              "[149396 rows x 5 columns]"
            ]
          },
          "metadata": {
            "tags": []
          }
        }
      ]
    },
    {
      "cell_type": "markdown",
      "metadata": {
        "id": "xkSANGXntzn_"
      },
      "source": [
        "<b>Видимо лишний столбец <i>'Unnamed'</i></b>"
      ]
    },
    {
      "cell_type": "code",
      "metadata": {
        "id": "IkLYtTIktzn_",
        "outputId": "85aaac6f-c8c0-4f8f-b435-e0e6935b422b"
      },
      "source": [
        "internet.describe()"
      ],
      "execution_count": null,
      "outputs": [
        {
          "output_type": "execute_result",
          "data": {
            "text/html": [
              "<div>\n",
              "<style scoped>\n",
              "    .dataframe tbody tr th:only-of-type {\n",
              "        vertical-align: middle;\n",
              "    }\n",
              "\n",
              "    .dataframe tbody tr th {\n",
              "        vertical-align: top;\n",
              "    }\n",
              "\n",
              "    .dataframe thead th {\n",
              "        text-align: right;\n",
              "    }\n",
              "</style>\n",
              "<table border=\"1\" class=\"dataframe\">\n",
              "  <thead>\n",
              "    <tr style=\"text-align: right;\">\n",
              "      <th></th>\n",
              "      <th>Unnamed: 0</th>\n",
              "      <th>mb_used</th>\n",
              "      <th>user_id</th>\n",
              "    </tr>\n",
              "  </thead>\n",
              "  <tbody>\n",
              "    <tr>\n",
              "      <td>count</td>\n",
              "      <td>149396.00</td>\n",
              "      <td>149396.00</td>\n",
              "      <td>149396.00</td>\n",
              "    </tr>\n",
              "    <tr>\n",
              "      <td>mean</td>\n",
              "      <td>74697.50</td>\n",
              "      <td>370.19</td>\n",
              "      <td>1252.10</td>\n",
              "    </tr>\n",
              "    <tr>\n",
              "      <td>std</td>\n",
              "      <td>43127.05</td>\n",
              "      <td>278.30</td>\n",
              "      <td>144.05</td>\n",
              "    </tr>\n",
              "    <tr>\n",
              "      <td>min</td>\n",
              "      <td>0.00</td>\n",
              "      <td>0.00</td>\n",
              "      <td>1000.00</td>\n",
              "    </tr>\n",
              "    <tr>\n",
              "      <td>25%</td>\n",
              "      <td>37348.75</td>\n",
              "      <td>138.19</td>\n",
              "      <td>1130.00</td>\n",
              "    </tr>\n",
              "    <tr>\n",
              "      <td>50%</td>\n",
              "      <td>74697.50</td>\n",
              "      <td>348.01</td>\n",
              "      <td>1251.00</td>\n",
              "    </tr>\n",
              "    <tr>\n",
              "      <td>75%</td>\n",
              "      <td>112046.25</td>\n",
              "      <td>559.55</td>\n",
              "      <td>1380.00</td>\n",
              "    </tr>\n",
              "    <tr>\n",
              "      <td>max</td>\n",
              "      <td>149395.00</td>\n",
              "      <td>1724.83</td>\n",
              "      <td>1499.00</td>\n",
              "    </tr>\n",
              "  </tbody>\n",
              "</table>\n",
              "</div>"
            ],
            "text/plain": [
              "       Unnamed: 0   mb_used   user_id\n",
              "count   149396.00 149396.00 149396.00\n",
              "mean     74697.50    370.19   1252.10\n",
              "std      43127.05    278.30    144.05\n",
              "min          0.00      0.00   1000.00\n",
              "25%      37348.75    138.19   1130.00\n",
              "50%      74697.50    348.01   1251.00\n",
              "75%     112046.25    559.55   1380.00\n",
              "max     149395.00   1724.83   1499.00"
            ]
          },
          "metadata": {
            "tags": []
          },
          "execution_count": 9
        }
      ]
    },
    {
      "cell_type": "code",
      "metadata": {
        "id": "CyGIVtsqtzn_",
        "outputId": "1f34cc82-153e-484d-9d60-43674a32f214"
      },
      "source": [
        "print(internet.duplicated().sum())"
      ],
      "execution_count": null,
      "outputs": [
        {
          "output_type": "stream",
          "text": [
            "0\n"
          ],
          "name": "stdout"
        }
      ]
    },
    {
      "cell_type": "code",
      "metadata": {
        "id": "ddw6nQ6rtzn_",
        "outputId": "e1483382-f362-43c0-9bb3-0ae4d51a8bae"
      },
      "source": [
        "display(messages)"
      ],
      "execution_count": null,
      "outputs": [
        {
          "output_type": "display_data",
          "data": {
            "text/html": [
              "<div>\n",
              "<style scoped>\n",
              "    .dataframe tbody tr th:only-of-type {\n",
              "        vertical-align: middle;\n",
              "    }\n",
              "\n",
              "    .dataframe tbody tr th {\n",
              "        vertical-align: top;\n",
              "    }\n",
              "\n",
              "    .dataframe thead th {\n",
              "        text-align: right;\n",
              "    }\n",
              "</style>\n",
              "<table border=\"1\" class=\"dataframe\">\n",
              "  <thead>\n",
              "    <tr style=\"text-align: right;\">\n",
              "      <th></th>\n",
              "      <th>id</th>\n",
              "      <th>message_date</th>\n",
              "      <th>user_id</th>\n",
              "    </tr>\n",
              "  </thead>\n",
              "  <tbody>\n",
              "    <tr>\n",
              "      <td>0</td>\n",
              "      <td>1000_0</td>\n",
              "      <td>2018-06-27</td>\n",
              "      <td>1000</td>\n",
              "    </tr>\n",
              "    <tr>\n",
              "      <td>1</td>\n",
              "      <td>1000_1</td>\n",
              "      <td>2018-10-08</td>\n",
              "      <td>1000</td>\n",
              "    </tr>\n",
              "    <tr>\n",
              "      <td>2</td>\n",
              "      <td>1000_2</td>\n",
              "      <td>2018-08-04</td>\n",
              "      <td>1000</td>\n",
              "    </tr>\n",
              "    <tr>\n",
              "      <td>3</td>\n",
              "      <td>1000_3</td>\n",
              "      <td>2018-06-16</td>\n",
              "      <td>1000</td>\n",
              "    </tr>\n",
              "    <tr>\n",
              "      <td>4</td>\n",
              "      <td>1000_4</td>\n",
              "      <td>2018-12-05</td>\n",
              "      <td>1000</td>\n",
              "    </tr>\n",
              "    <tr>\n",
              "      <td>...</td>\n",
              "      <td>...</td>\n",
              "      <td>...</td>\n",
              "      <td>...</td>\n",
              "    </tr>\n",
              "    <tr>\n",
              "      <td>123031</td>\n",
              "      <td>1499_179</td>\n",
              "      <td>2018-12-12</td>\n",
              "      <td>1499</td>\n",
              "    </tr>\n",
              "    <tr>\n",
              "      <td>123032</td>\n",
              "      <td>1499_180</td>\n",
              "      <td>2018-09-28</td>\n",
              "      <td>1499</td>\n",
              "    </tr>\n",
              "    <tr>\n",
              "      <td>123033</td>\n",
              "      <td>1499_181</td>\n",
              "      <td>2018-09-27</td>\n",
              "      <td>1499</td>\n",
              "    </tr>\n",
              "    <tr>\n",
              "      <td>123034</td>\n",
              "      <td>1499_182</td>\n",
              "      <td>2018-11-15</td>\n",
              "      <td>1499</td>\n",
              "    </tr>\n",
              "    <tr>\n",
              "      <td>123035</td>\n",
              "      <td>1499_183</td>\n",
              "      <td>2018-11-16</td>\n",
              "      <td>1499</td>\n",
              "    </tr>\n",
              "  </tbody>\n",
              "</table>\n",
              "<p>123036 rows × 3 columns</p>\n",
              "</div>"
            ],
            "text/plain": [
              "              id message_date  user_id\n",
              "0         1000_0   2018-06-27     1000\n",
              "1         1000_1   2018-10-08     1000\n",
              "2         1000_2   2018-08-04     1000\n",
              "3         1000_3   2018-06-16     1000\n",
              "4         1000_4   2018-12-05     1000\n",
              "...          ...          ...      ...\n",
              "123031  1499_179   2018-12-12     1499\n",
              "123032  1499_180   2018-09-28     1499\n",
              "123033  1499_181   2018-09-27     1499\n",
              "123034  1499_182   2018-11-15     1499\n",
              "123035  1499_183   2018-11-16     1499\n",
              "\n",
              "[123036 rows x 3 columns]"
            ]
          },
          "metadata": {
            "tags": []
          }
        }
      ]
    },
    {
      "cell_type": "code",
      "metadata": {
        "id": "1_unmthqtzn_",
        "outputId": "83397cab-85c9-440a-c4be-bacefc1c3de3"
      },
      "source": [
        "messages.describe()"
      ],
      "execution_count": null,
      "outputs": [
        {
          "output_type": "execute_result",
          "data": {
            "text/html": [
              "<div>\n",
              "<style scoped>\n",
              "    .dataframe tbody tr th:only-of-type {\n",
              "        vertical-align: middle;\n",
              "    }\n",
              "\n",
              "    .dataframe tbody tr th {\n",
              "        vertical-align: top;\n",
              "    }\n",
              "\n",
              "    .dataframe thead th {\n",
              "        text-align: right;\n",
              "    }\n",
              "</style>\n",
              "<table border=\"1\" class=\"dataframe\">\n",
              "  <thead>\n",
              "    <tr style=\"text-align: right;\">\n",
              "      <th></th>\n",
              "      <th>user_id</th>\n",
              "    </tr>\n",
              "  </thead>\n",
              "  <tbody>\n",
              "    <tr>\n",
              "      <td>count</td>\n",
              "      <td>123036.00</td>\n",
              "    </tr>\n",
              "    <tr>\n",
              "      <td>mean</td>\n",
              "      <td>1256.99</td>\n",
              "    </tr>\n",
              "    <tr>\n",
              "      <td>std</td>\n",
              "      <td>143.52</td>\n",
              "    </tr>\n",
              "    <tr>\n",
              "      <td>min</td>\n",
              "      <td>1000.00</td>\n",
              "    </tr>\n",
              "    <tr>\n",
              "      <td>25%</td>\n",
              "      <td>1134.00</td>\n",
              "    </tr>\n",
              "    <tr>\n",
              "      <td>50%</td>\n",
              "      <td>1271.00</td>\n",
              "    </tr>\n",
              "    <tr>\n",
              "      <td>75%</td>\n",
              "      <td>1381.00</td>\n",
              "    </tr>\n",
              "    <tr>\n",
              "      <td>max</td>\n",
              "      <td>1499.00</td>\n",
              "    </tr>\n",
              "  </tbody>\n",
              "</table>\n",
              "</div>"
            ],
            "text/plain": [
              "        user_id\n",
              "count 123036.00\n",
              "mean    1256.99\n",
              "std      143.52\n",
              "min     1000.00\n",
              "25%     1134.00\n",
              "50%     1271.00\n",
              "75%     1381.00\n",
              "max     1499.00"
            ]
          },
          "metadata": {
            "tags": []
          },
          "execution_count": 12
        }
      ]
    },
    {
      "cell_type": "code",
      "metadata": {
        "id": "mAi2cBxetzoA",
        "outputId": "53a7d6bd-57eb-4070-a97e-66b256d8ad8f"
      },
      "source": [
        "print(messages.duplicated().sum())"
      ],
      "execution_count": null,
      "outputs": [
        {
          "output_type": "stream",
          "text": [
            "0\n"
          ],
          "name": "stdout"
        }
      ]
    },
    {
      "cell_type": "code",
      "metadata": {
        "id": "8a6TUFsrtzoA",
        "outputId": "ee7598af-37b7-45c0-fc71-23b0d22d0025"
      },
      "source": [
        "display(tariffs)"
      ],
      "execution_count": null,
      "outputs": [
        {
          "output_type": "display_data",
          "data": {
            "text/html": [
              "<div>\n",
              "<style scoped>\n",
              "    .dataframe tbody tr th:only-of-type {\n",
              "        vertical-align: middle;\n",
              "    }\n",
              "\n",
              "    .dataframe tbody tr th {\n",
              "        vertical-align: top;\n",
              "    }\n",
              "\n",
              "    .dataframe thead th {\n",
              "        text-align: right;\n",
              "    }\n",
              "</style>\n",
              "<table border=\"1\" class=\"dataframe\">\n",
              "  <thead>\n",
              "    <tr style=\"text-align: right;\">\n",
              "      <th></th>\n",
              "      <th>messages_included</th>\n",
              "      <th>mb_per_month_included</th>\n",
              "      <th>minutes_included</th>\n",
              "      <th>rub_monthly_fee</th>\n",
              "      <th>rub_per_gb</th>\n",
              "      <th>rub_per_message</th>\n",
              "      <th>rub_per_minute</th>\n",
              "      <th>tariff_name</th>\n",
              "    </tr>\n",
              "  </thead>\n",
              "  <tbody>\n",
              "    <tr>\n",
              "      <td>0</td>\n",
              "      <td>50</td>\n",
              "      <td>15360</td>\n",
              "      <td>500</td>\n",
              "      <td>550</td>\n",
              "      <td>200</td>\n",
              "      <td>3</td>\n",
              "      <td>3</td>\n",
              "      <td>smart</td>\n",
              "    </tr>\n",
              "    <tr>\n",
              "      <td>1</td>\n",
              "      <td>1000</td>\n",
              "      <td>30720</td>\n",
              "      <td>3000</td>\n",
              "      <td>1950</td>\n",
              "      <td>150</td>\n",
              "      <td>1</td>\n",
              "      <td>1</td>\n",
              "      <td>ultra</td>\n",
              "    </tr>\n",
              "  </tbody>\n",
              "</table>\n",
              "</div>"
            ],
            "text/plain": [
              "   messages_included  mb_per_month_included  minutes_included  \\\n",
              "0                 50                  15360               500   \n",
              "1               1000                  30720              3000   \n",
              "\n",
              "   rub_monthly_fee  rub_per_gb  rub_per_message  rub_per_minute tariff_name  \n",
              "0              550         200                3               3       smart  \n",
              "1             1950         150                1               1       ultra  "
            ]
          },
          "metadata": {
            "tags": []
          }
        }
      ]
    },
    {
      "cell_type": "code",
      "metadata": {
        "id": "RpwSGBy9tzoA",
        "outputId": "a81c37dd-f8fc-4e11-df7d-e83d1a9b606c"
      },
      "source": [
        "display(users)"
      ],
      "execution_count": null,
      "outputs": [
        {
          "output_type": "display_data",
          "data": {
            "text/html": [
              "<div>\n",
              "<style scoped>\n",
              "    .dataframe tbody tr th:only-of-type {\n",
              "        vertical-align: middle;\n",
              "    }\n",
              "\n",
              "    .dataframe tbody tr th {\n",
              "        vertical-align: top;\n",
              "    }\n",
              "\n",
              "    .dataframe thead th {\n",
              "        text-align: right;\n",
              "    }\n",
              "</style>\n",
              "<table border=\"1\" class=\"dataframe\">\n",
              "  <thead>\n",
              "    <tr style=\"text-align: right;\">\n",
              "      <th></th>\n",
              "      <th>user_id</th>\n",
              "      <th>age</th>\n",
              "      <th>churn_date</th>\n",
              "      <th>city</th>\n",
              "      <th>first_name</th>\n",
              "      <th>last_name</th>\n",
              "      <th>reg_date</th>\n",
              "      <th>tariff</th>\n",
              "    </tr>\n",
              "  </thead>\n",
              "  <tbody>\n",
              "    <tr>\n",
              "      <td>0</td>\n",
              "      <td>1000</td>\n",
              "      <td>52</td>\n",
              "      <td>NaN</td>\n",
              "      <td>Краснодар</td>\n",
              "      <td>Рафаил</td>\n",
              "      <td>Верещагин</td>\n",
              "      <td>2018-05-25</td>\n",
              "      <td>ultra</td>\n",
              "    </tr>\n",
              "    <tr>\n",
              "      <td>1</td>\n",
              "      <td>1001</td>\n",
              "      <td>41</td>\n",
              "      <td>NaN</td>\n",
              "      <td>Москва</td>\n",
              "      <td>Иван</td>\n",
              "      <td>Ежов</td>\n",
              "      <td>2018-11-01</td>\n",
              "      <td>smart</td>\n",
              "    </tr>\n",
              "    <tr>\n",
              "      <td>2</td>\n",
              "      <td>1002</td>\n",
              "      <td>59</td>\n",
              "      <td>NaN</td>\n",
              "      <td>Стерлитамак</td>\n",
              "      <td>Евгений</td>\n",
              "      <td>Абрамович</td>\n",
              "      <td>2018-06-17</td>\n",
              "      <td>smart</td>\n",
              "    </tr>\n",
              "    <tr>\n",
              "      <td>3</td>\n",
              "      <td>1003</td>\n",
              "      <td>23</td>\n",
              "      <td>NaN</td>\n",
              "      <td>Москва</td>\n",
              "      <td>Белла</td>\n",
              "      <td>Белякова</td>\n",
              "      <td>2018-08-17</td>\n",
              "      <td>ultra</td>\n",
              "    </tr>\n",
              "    <tr>\n",
              "      <td>4</td>\n",
              "      <td>1004</td>\n",
              "      <td>68</td>\n",
              "      <td>NaN</td>\n",
              "      <td>Новокузнецк</td>\n",
              "      <td>Татьяна</td>\n",
              "      <td>Авдеенко</td>\n",
              "      <td>2018-05-14</td>\n",
              "      <td>ultra</td>\n",
              "    </tr>\n",
              "    <tr>\n",
              "      <td>...</td>\n",
              "      <td>...</td>\n",
              "      <td>...</td>\n",
              "      <td>...</td>\n",
              "      <td>...</td>\n",
              "      <td>...</td>\n",
              "      <td>...</td>\n",
              "      <td>...</td>\n",
              "      <td>...</td>\n",
              "    </tr>\n",
              "    <tr>\n",
              "      <td>495</td>\n",
              "      <td>1495</td>\n",
              "      <td>65</td>\n",
              "      <td>NaN</td>\n",
              "      <td>Иркутск</td>\n",
              "      <td>Авксентий</td>\n",
              "      <td>Фокин</td>\n",
              "      <td>2018-08-28</td>\n",
              "      <td>ultra</td>\n",
              "    </tr>\n",
              "    <tr>\n",
              "      <td>496</td>\n",
              "      <td>1496</td>\n",
              "      <td>36</td>\n",
              "      <td>NaN</td>\n",
              "      <td>Вологда</td>\n",
              "      <td>Трифон</td>\n",
              "      <td>Блохин</td>\n",
              "      <td>2018-01-27</td>\n",
              "      <td>smart</td>\n",
              "    </tr>\n",
              "    <tr>\n",
              "      <td>497</td>\n",
              "      <td>1497</td>\n",
              "      <td>32</td>\n",
              "      <td>NaN</td>\n",
              "      <td>Челябинск</td>\n",
              "      <td>Каролина</td>\n",
              "      <td>Агеева</td>\n",
              "      <td>2018-10-09</td>\n",
              "      <td>smart</td>\n",
              "    </tr>\n",
              "    <tr>\n",
              "      <td>498</td>\n",
              "      <td>1498</td>\n",
              "      <td>68</td>\n",
              "      <td>2018-10-25</td>\n",
              "      <td>Владикавказ</td>\n",
              "      <td>Всеволод</td>\n",
              "      <td>Акимчин</td>\n",
              "      <td>2018-07-19</td>\n",
              "      <td>smart</td>\n",
              "    </tr>\n",
              "    <tr>\n",
              "      <td>499</td>\n",
              "      <td>1499</td>\n",
              "      <td>35</td>\n",
              "      <td>NaN</td>\n",
              "      <td>Пермь</td>\n",
              "      <td>Гектор</td>\n",
              "      <td>Корнилов</td>\n",
              "      <td>2018-09-27</td>\n",
              "      <td>smart</td>\n",
              "    </tr>\n",
              "  </tbody>\n",
              "</table>\n",
              "<p>500 rows × 8 columns</p>\n",
              "</div>"
            ],
            "text/plain": [
              "     user_id  age  churn_date         city first_name  last_name    reg_date  \\\n",
              "0       1000   52         NaN    Краснодар     Рафаил  Верещагин  2018-05-25   \n",
              "1       1001   41         NaN       Москва       Иван       Ежов  2018-11-01   \n",
              "2       1002   59         NaN  Стерлитамак    Евгений  Абрамович  2018-06-17   \n",
              "3       1003   23         NaN       Москва      Белла   Белякова  2018-08-17   \n",
              "4       1004   68         NaN  Новокузнецк    Татьяна   Авдеенко  2018-05-14   \n",
              "..       ...  ...         ...          ...        ...        ...         ...   \n",
              "495     1495   65         NaN      Иркутск  Авксентий      Фокин  2018-08-28   \n",
              "496     1496   36         NaN      Вологда     Трифон     Блохин  2018-01-27   \n",
              "497     1497   32         NaN    Челябинск   Каролина     Агеева  2018-10-09   \n",
              "498     1498   68  2018-10-25  Владикавказ   Всеволод    Акимчин  2018-07-19   \n",
              "499     1499   35         NaN        Пермь     Гектор   Корнилов  2018-09-27   \n",
              "\n",
              "    tariff  \n",
              "0    ultra  \n",
              "1    smart  \n",
              "2    smart  \n",
              "3    ultra  \n",
              "4    ultra  \n",
              "..     ...  \n",
              "495  ultra  \n",
              "496  smart  \n",
              "497  smart  \n",
              "498  smart  \n",
              "499  smart  \n",
              "\n",
              "[500 rows x 8 columns]"
            ]
          },
          "metadata": {
            "tags": []
          }
        }
      ]
    },
    {
      "cell_type": "code",
      "metadata": {
        "id": "IBPrly28tzoA",
        "outputId": "2d4390a1-d4f0-477d-fc49-b965cef89c6c"
      },
      "source": [
        "users.describe()"
      ],
      "execution_count": null,
      "outputs": [
        {
          "output_type": "execute_result",
          "data": {
            "text/html": [
              "<div>\n",
              "<style scoped>\n",
              "    .dataframe tbody tr th:only-of-type {\n",
              "        vertical-align: middle;\n",
              "    }\n",
              "\n",
              "    .dataframe tbody tr th {\n",
              "        vertical-align: top;\n",
              "    }\n",
              "\n",
              "    .dataframe thead th {\n",
              "        text-align: right;\n",
              "    }\n",
              "</style>\n",
              "<table border=\"1\" class=\"dataframe\">\n",
              "  <thead>\n",
              "    <tr style=\"text-align: right;\">\n",
              "      <th></th>\n",
              "      <th>user_id</th>\n",
              "      <th>age</th>\n",
              "    </tr>\n",
              "  </thead>\n",
              "  <tbody>\n",
              "    <tr>\n",
              "      <td>count</td>\n",
              "      <td>500.00</td>\n",
              "      <td>500.00</td>\n",
              "    </tr>\n",
              "    <tr>\n",
              "      <td>mean</td>\n",
              "      <td>1249.50</td>\n",
              "      <td>46.59</td>\n",
              "    </tr>\n",
              "    <tr>\n",
              "      <td>std</td>\n",
              "      <td>144.48</td>\n",
              "      <td>16.67</td>\n",
              "    </tr>\n",
              "    <tr>\n",
              "      <td>min</td>\n",
              "      <td>1000.00</td>\n",
              "      <td>18.00</td>\n",
              "    </tr>\n",
              "    <tr>\n",
              "      <td>25%</td>\n",
              "      <td>1124.75</td>\n",
              "      <td>32.00</td>\n",
              "    </tr>\n",
              "    <tr>\n",
              "      <td>50%</td>\n",
              "      <td>1249.50</td>\n",
              "      <td>46.00</td>\n",
              "    </tr>\n",
              "    <tr>\n",
              "      <td>75%</td>\n",
              "      <td>1374.25</td>\n",
              "      <td>62.00</td>\n",
              "    </tr>\n",
              "    <tr>\n",
              "      <td>max</td>\n",
              "      <td>1499.00</td>\n",
              "      <td>75.00</td>\n",
              "    </tr>\n",
              "  </tbody>\n",
              "</table>\n",
              "</div>"
            ],
            "text/plain": [
              "       user_id    age\n",
              "count   500.00 500.00\n",
              "mean   1249.50  46.59\n",
              "std     144.48  16.67\n",
              "min    1000.00  18.00\n",
              "25%    1124.75  32.00\n",
              "50%    1249.50  46.00\n",
              "75%    1374.25  62.00\n",
              "max    1499.00  75.00"
            ]
          },
          "metadata": {
            "tags": []
          },
          "execution_count": 16
        }
      ]
    },
    {
      "cell_type": "code",
      "metadata": {
        "id": "iewl3eUGtzoA",
        "outputId": "5d2be751-6db8-438f-a62a-86c97bd150d3"
      },
      "source": [
        "print(users.duplicated().sum())"
      ],
      "execution_count": null,
      "outputs": [
        {
          "output_type": "stream",
          "text": [
            "0\n"
          ],
          "name": "stdout"
        }
      ]
    },
    {
      "cell_type": "code",
      "metadata": {
        "id": "hBjvTV8GtzoB",
        "outputId": "bf791377-6fca-4c9f-e1f0-5a9bec7499bf"
      },
      "source": [
        "users.isnull().sum()*100 / len(users)"
      ],
      "execution_count": null,
      "outputs": [
        {
          "output_type": "execute_result",
          "data": {
            "text/plain": [
              "user_id       0.00\n",
              "age           0.00\n",
              "churn_date   92.40\n",
              "city          0.00\n",
              "first_name    0.00\n",
              "last_name     0.00\n",
              "reg_date      0.00\n",
              "tariff        0.00\n",
              "dtype: float64"
            ]
          },
          "metadata": {
            "tags": []
          },
          "execution_count": 18
        }
      ]
    },
    {
      "cell_type": "markdown",
      "metadata": {
        "id": "EWSf6uamtzoB"
      },
      "source": [
        "<b>Много пустых значений в столбце <i>'churn_date'</i>, но в описании говорилось, что если значение пропущено, то тариф еще действует.</b>"
      ]
    },
    {
      "cell_type": "markdown",
      "metadata": {
        "id": "Y_GtsB5ztzoB"
      },
      "source": [
        "### Просмотрим общую информацию по каждому датасету"
      ]
    },
    {
      "cell_type": "code",
      "metadata": {
        "id": "IfSSrHE-tzoB",
        "outputId": "157925e2-d11a-4dd7-c1a5-ef432aeb474a"
      },
      "source": [
        "users.info()"
      ],
      "execution_count": null,
      "outputs": [
        {
          "output_type": "stream",
          "text": [
            "<class 'pandas.core.frame.DataFrame'>\n",
            "RangeIndex: 500 entries, 0 to 499\n",
            "Data columns (total 8 columns):\n",
            "user_id       500 non-null int64\n",
            "age           500 non-null int64\n",
            "churn_date    38 non-null object\n",
            "city          500 non-null object\n",
            "first_name    500 non-null object\n",
            "last_name     500 non-null object\n",
            "reg_date      500 non-null object\n",
            "tariff        500 non-null object\n",
            "dtypes: int64(2), object(6)\n",
            "memory usage: 31.4+ KB\n"
          ],
          "name": "stdout"
        }
      ]
    },
    {
      "cell_type": "markdown",
      "metadata": {
        "id": "T_iIioWitzoB"
      },
      "source": [
        "<b>Столбцы <i>'churn_date'</i> и <i>'reg_date'</i> нужно привести к типу <u>datetime</u></b>"
      ]
    },
    {
      "cell_type": "code",
      "metadata": {
        "id": "LeYQVghetzoB",
        "outputId": "d6f5c53e-cc4a-44d9-c260-cf764e06753e"
      },
      "source": [
        "calls.info()"
      ],
      "execution_count": null,
      "outputs": [
        {
          "output_type": "stream",
          "text": [
            "<class 'pandas.core.frame.DataFrame'>\n",
            "RangeIndex: 202607 entries, 0 to 202606\n",
            "Data columns (total 4 columns):\n",
            "id           202607 non-null object\n",
            "call_date    202607 non-null object\n",
            "duration     202607 non-null float64\n",
            "user_id      202607 non-null int64\n",
            "dtypes: float64(1), int64(1), object(2)\n",
            "memory usage: 6.2+ MB\n"
          ],
          "name": "stdout"
        }
      ]
    },
    {
      "cell_type": "markdown",
      "metadata": {
        "id": "G5vduYW2tzoC"
      },
      "source": [
        "<b>Столбец <i>'call_date'</i> нужно привести к типу <u>datetime</u>, столбец <i>'id'</i> к типу <u>int</u></b>"
      ]
    },
    {
      "cell_type": "code",
      "metadata": {
        "id": "KisJG9_mtzoC",
        "outputId": "3a59525c-64a7-4282-bfd1-b57bef95281b"
      },
      "source": [
        "internet.info()"
      ],
      "execution_count": null,
      "outputs": [
        {
          "output_type": "stream",
          "text": [
            "<class 'pandas.core.frame.DataFrame'>\n",
            "RangeIndex: 149396 entries, 0 to 149395\n",
            "Data columns (total 5 columns):\n",
            "Unnamed: 0      149396 non-null int64\n",
            "id              149396 non-null object\n",
            "mb_used         149396 non-null float64\n",
            "session_date    149396 non-null object\n",
            "user_id         149396 non-null int64\n",
            "dtypes: float64(1), int64(2), object(2)\n",
            "memory usage: 5.7+ MB\n"
          ],
          "name": "stdout"
        }
      ]
    },
    {
      "cell_type": "markdown",
      "metadata": {
        "id": "pSDhsbQ3tzoC"
      },
      "source": [
        "<b>Столбец <i>'session_date'</i> нужно привести к типу <u>datetime</u>, столбец <i>'id'</i> к типу <u>int</u>, а столбец <i>'Unnamed: 0'</i> удалить(дублирует <i>'id'</i>)</b>"
      ]
    },
    {
      "cell_type": "code",
      "metadata": {
        "id": "-yGL-deBtzoC",
        "outputId": "0b3f25f6-85d2-4db2-b4df-1ac2856793bd"
      },
      "source": [
        "messages.info()"
      ],
      "execution_count": null,
      "outputs": [
        {
          "output_type": "stream",
          "text": [
            "<class 'pandas.core.frame.DataFrame'>\n",
            "RangeIndex: 123036 entries, 0 to 123035\n",
            "Data columns (total 3 columns):\n",
            "id              123036 non-null object\n",
            "message_date    123036 non-null object\n",
            "user_id         123036 non-null int64\n",
            "dtypes: int64(1), object(2)\n",
            "memory usage: 2.8+ MB\n"
          ],
          "name": "stdout"
        }
      ]
    },
    {
      "cell_type": "markdown",
      "metadata": {
        "id": "lx1g9QhttzoC"
      },
      "source": [
        "<b>Столбец <i>'message_date'</i> нужно привести к типу <u>datetime</u>, столбец <i>'id'</i> к типу <u>int</u></b>"
      ]
    },
    {
      "cell_type": "code",
      "metadata": {
        "id": "rc4T4P_ItzoC",
        "outputId": "2a77a6c9-5bcb-4b98-d520-3afe105a3d1a"
      },
      "source": [
        "tariffs.info()"
      ],
      "execution_count": null,
      "outputs": [
        {
          "output_type": "stream",
          "text": [
            "<class 'pandas.core.frame.DataFrame'>\n",
            "RangeIndex: 2 entries, 0 to 1\n",
            "Data columns (total 8 columns):\n",
            "messages_included        2 non-null int64\n",
            "mb_per_month_included    2 non-null int64\n",
            "minutes_included         2 non-null int64\n",
            "rub_monthly_fee          2 non-null int64\n",
            "rub_per_gb               2 non-null int64\n",
            "rub_per_message          2 non-null int64\n",
            "rub_per_minute           2 non-null int64\n",
            "tariff_name              2 non-null object\n",
            "dtypes: int64(7), object(1)\n",
            "memory usage: 256.0+ bytes\n"
          ],
          "name": "stdout"
        }
      ]
    },
    {
      "cell_type": "markdown",
      "metadata": {
        "id": "0SZLqFqitzoC"
      },
      "source": [
        "### Вывод:\n",
        "На данном этапе выявленны следующие проблемы, которые необходимо решить:\n",
        "1. Необходимо разобраться с нулевыми значениями датасета <b><u>calls</u></b> в столбце <b>'duration'</b>.\n",
        "2. Во всех датасетах, где это необходимо, привести данные к нужным типам.\n",
        "3. В датасете <b><u>internet</u></b> лишний столбец <b>'Unnamed: 0'</b>.\n",
        "4. В датасете <b><u>internet</u></b> нужно округлить вверх значения в столбце <b>'mb_used'</b> и перевести объем потраченного интернета из Мб в Гб."
      ]
    },
    {
      "cell_type": "markdown",
      "metadata": {
        "id": "79-J4ZpMtzoD"
      },
      "source": [
        "## Шаг 2. Предобработка данных"
      ]
    },
    {
      "cell_type": "markdown",
      "metadata": {
        "id": "QoTn3fZxtzoD"
      },
      "source": [
        "<b>Приведем к типу datetime cтолбцы 'churn_date' и 'reg_date' в датасете users</b>"
      ]
    },
    {
      "cell_type": "code",
      "metadata": {
        "id": "ShpzmLoBtzoD"
      },
      "source": [
        "users['churn_date'] = pd.to_datetime(users['churn_date'], format = '%Y-%m-%d')\n",
        "#users['churn_date'] = pd.to_datetime(users['churn_date']).apply(lambda x: x.date())"
      ],
      "execution_count": null,
      "outputs": []
    },
    {
      "cell_type": "code",
      "metadata": {
        "id": "ENM9IeiXtzoD"
      },
      "source": [
        "users['reg_date'] = pd.to_datetime(users['reg_date'], format = \"%Y-%m-%d\")"
      ],
      "execution_count": null,
      "outputs": []
    },
    {
      "cell_type": "code",
      "metadata": {
        "id": "znkhRtdKtzoD",
        "outputId": "a50fdfa9-fbc9-4b10-f401-d6b208def255"
      },
      "source": [
        "users.info()"
      ],
      "execution_count": null,
      "outputs": [
        {
          "output_type": "stream",
          "text": [
            "<class 'pandas.core.frame.DataFrame'>\n",
            "RangeIndex: 500 entries, 0 to 499\n",
            "Data columns (total 8 columns):\n",
            "user_id       500 non-null int64\n",
            "age           500 non-null int64\n",
            "churn_date    38 non-null datetime64[ns]\n",
            "city          500 non-null object\n",
            "first_name    500 non-null object\n",
            "last_name     500 non-null object\n",
            "reg_date      500 non-null datetime64[ns]\n",
            "tariff        500 non-null object\n",
            "dtypes: datetime64[ns](2), int64(2), object(4)\n",
            "memory usage: 31.4+ KB\n"
          ],
          "name": "stdout"
        }
      ]
    },
    {
      "cell_type": "markdown",
      "metadata": {
        "id": "uJjm6fQ7tzoD"
      },
      "source": [
        "<b>Приведем к типу datetime cтолбец 'call_date', а 'id' к типу int в датасете calls. Также разберемся с нулевыми значениями столбца 'duration' и приведем к типу int, так как у компании условие, что округляются значения вверх до минуты. Предположим, что нулевые звонки, не совсем нулевые, длились секунду, но система не доработана, при выгрузки данных округлились до 0, а не до 1. Поэтому заменим 0 на 1.</b>"
      ]
    },
    {
      "cell_type": "code",
      "metadata": {
        "id": "HeE6OSNRtzoD"
      },
      "source": [
        "calls['call_date'] = pd.to_datetime(calls['call_date'], format = \"%Y-%m-%d\")"
      ],
      "execution_count": null,
      "outputs": []
    },
    {
      "cell_type": "code",
      "metadata": {
        "id": "X1kQSrOptzoE"
      },
      "source": [
        "calls['id'] = calls['id'].astype('int')"
      ],
      "execution_count": null,
      "outputs": []
    },
    {
      "cell_type": "code",
      "metadata": {
        "id": "YBg3zUVntzoE"
      },
      "source": [
        "calls['duration'] = np.ceil(calls['duration']).astype('int')"
      ],
      "execution_count": null,
      "outputs": []
    },
    {
      "cell_type": "code",
      "metadata": {
        "id": "dsyuUl-htzoE",
        "outputId": "36f339a9-4640-44fd-c033-51d8af840d76"
      },
      "source": [
        "calls.info()"
      ],
      "execution_count": null,
      "outputs": [
        {
          "output_type": "stream",
          "text": [
            "<class 'pandas.core.frame.DataFrame'>\n",
            "RangeIndex: 202607 entries, 0 to 202606\n",
            "Data columns (total 4 columns):\n",
            "id           202607 non-null int64\n",
            "call_date    202607 non-null datetime64[ns]\n",
            "duration     202607 non-null int64\n",
            "user_id      202607 non-null int64\n",
            "dtypes: datetime64[ns](1), int64(3)\n",
            "memory usage: 6.2 MB\n"
          ],
          "name": "stdout"
        }
      ]
    },
    {
      "cell_type": "code",
      "metadata": {
        "id": "UZTYtrvxtzoE"
      },
      "source": [
        "calls['duration'] = calls['duration'].replace(0,1)"
      ],
      "execution_count": null,
      "outputs": []
    },
    {
      "cell_type": "code",
      "metadata": {
        "id": "qPJyZe8ztzoE",
        "outputId": "43967e30-8fbc-4a7c-a9a4-1596738b23e7"
      },
      "source": [
        "display(calls)"
      ],
      "execution_count": null,
      "outputs": [
        {
          "output_type": "display_data",
          "data": {
            "text/html": [
              "<div>\n",
              "<style scoped>\n",
              "    .dataframe tbody tr th:only-of-type {\n",
              "        vertical-align: middle;\n",
              "    }\n",
              "\n",
              "    .dataframe tbody tr th {\n",
              "        vertical-align: top;\n",
              "    }\n",
              "\n",
              "    .dataframe thead th {\n",
              "        text-align: right;\n",
              "    }\n",
              "</style>\n",
              "<table border=\"1\" class=\"dataframe\">\n",
              "  <thead>\n",
              "    <tr style=\"text-align: right;\">\n",
              "      <th></th>\n",
              "      <th>id</th>\n",
              "      <th>call_date</th>\n",
              "      <th>duration</th>\n",
              "      <th>user_id</th>\n",
              "    </tr>\n",
              "  </thead>\n",
              "  <tbody>\n",
              "    <tr>\n",
              "      <td>0</td>\n",
              "      <td>10000</td>\n",
              "      <td>2018-07-25</td>\n",
              "      <td>1</td>\n",
              "      <td>1000</td>\n",
              "    </tr>\n",
              "    <tr>\n",
              "      <td>1</td>\n",
              "      <td>10001</td>\n",
              "      <td>2018-08-17</td>\n",
              "      <td>1</td>\n",
              "      <td>1000</td>\n",
              "    </tr>\n",
              "    <tr>\n",
              "      <td>2</td>\n",
              "      <td>10002</td>\n",
              "      <td>2018-06-11</td>\n",
              "      <td>3</td>\n",
              "      <td>1000</td>\n",
              "    </tr>\n",
              "    <tr>\n",
              "      <td>3</td>\n",
              "      <td>10003</td>\n",
              "      <td>2018-09-21</td>\n",
              "      <td>14</td>\n",
              "      <td>1000</td>\n",
              "    </tr>\n",
              "    <tr>\n",
              "      <td>4</td>\n",
              "      <td>10004</td>\n",
              "      <td>2018-12-15</td>\n",
              "      <td>6</td>\n",
              "      <td>1000</td>\n",
              "    </tr>\n",
              "    <tr>\n",
              "      <td>...</td>\n",
              "      <td>...</td>\n",
              "      <td>...</td>\n",
              "      <td>...</td>\n",
              "      <td>...</td>\n",
              "    </tr>\n",
              "    <tr>\n",
              "      <td>202602</td>\n",
              "      <td>1499215</td>\n",
              "      <td>2018-12-26</td>\n",
              "      <td>1</td>\n",
              "      <td>1499</td>\n",
              "    </tr>\n",
              "    <tr>\n",
              "      <td>202603</td>\n",
              "      <td>1499216</td>\n",
              "      <td>2018-10-18</td>\n",
              "      <td>19</td>\n",
              "      <td>1499</td>\n",
              "    </tr>\n",
              "    <tr>\n",
              "      <td>202604</td>\n",
              "      <td>1499217</td>\n",
              "      <td>2018-11-10</td>\n",
              "      <td>11</td>\n",
              "      <td>1499</td>\n",
              "    </tr>\n",
              "    <tr>\n",
              "      <td>202605</td>\n",
              "      <td>1499218</td>\n",
              "      <td>2018-10-06</td>\n",
              "      <td>5</td>\n",
              "      <td>1499</td>\n",
              "    </tr>\n",
              "    <tr>\n",
              "      <td>202606</td>\n",
              "      <td>1499219</td>\n",
              "      <td>2018-12-14</td>\n",
              "      <td>20</td>\n",
              "      <td>1499</td>\n",
              "    </tr>\n",
              "  </tbody>\n",
              "</table>\n",
              "<p>202607 rows × 4 columns</p>\n",
              "</div>"
            ],
            "text/plain": [
              "             id  call_date  duration  user_id\n",
              "0         10000 2018-07-25         1     1000\n",
              "1         10001 2018-08-17         1     1000\n",
              "2         10002 2018-06-11         3     1000\n",
              "3         10003 2018-09-21        14     1000\n",
              "4         10004 2018-12-15         6     1000\n",
              "...         ...        ...       ...      ...\n",
              "202602  1499215 2018-12-26         1     1499\n",
              "202603  1499216 2018-10-18        19     1499\n",
              "202604  1499217 2018-11-10        11     1499\n",
              "202605  1499218 2018-10-06         5     1499\n",
              "202606  1499219 2018-12-14        20     1499\n",
              "\n",
              "[202607 rows x 4 columns]"
            ]
          },
          "metadata": {
            "tags": []
          }
        }
      ]
    },
    {
      "cell_type": "markdown",
      "metadata": {
        "id": "GYdE9nw4tzoF"
      },
      "source": [
        "<b>Приведем к типу datetime cтолбец 'message_date', а 'id' к типу int в датасете messages</b>"
      ]
    },
    {
      "cell_type": "code",
      "metadata": {
        "id": "7dRHuORCtzoF"
      },
      "source": [
        "messages['message_date'] = pd.to_datetime(messages['message_date'], format = \"%Y-%m-%d\")"
      ],
      "execution_count": null,
      "outputs": []
    },
    {
      "cell_type": "code",
      "metadata": {
        "id": "awmIp5TRtzoF"
      },
      "source": [
        "messages['id'] = messages['id'].astype('int')"
      ],
      "execution_count": null,
      "outputs": []
    },
    {
      "cell_type": "code",
      "metadata": {
        "id": "UOrx2AlPtzoF",
        "outputId": "d48118d2-9f7d-4c89-ffc4-edbc85236b2e"
      },
      "source": [
        "messages.info()"
      ],
      "execution_count": null,
      "outputs": [
        {
          "output_type": "stream",
          "text": [
            "<class 'pandas.core.frame.DataFrame'>\n",
            "RangeIndex: 123036 entries, 0 to 123035\n",
            "Data columns (total 3 columns):\n",
            "id              123036 non-null int64\n",
            "message_date    123036 non-null datetime64[ns]\n",
            "user_id         123036 non-null int64\n",
            "dtypes: datetime64[ns](1), int64(2)\n",
            "memory usage: 2.8 MB\n"
          ],
          "name": "stdout"
        }
      ]
    },
    {
      "cell_type": "markdown",
      "metadata": {
        "id": "rVDhOI11tzoF"
      },
      "source": [
        "<b>Приведем к типу datetime cтолбец 'session_date', а 'id' к типу int в датасете internet. Также округлим вверх значения столбца 'mb_used', так как у компании условие, что округляются значения вверх до мегабайта и пере.</b>"
      ]
    },
    {
      "cell_type": "code",
      "metadata": {
        "id": "5PYL37MYtzoF",
        "outputId": "4a4aad9b-bae4-428b-9c78-18237e10919a"
      },
      "source": [
        "display(internet)"
      ],
      "execution_count": null,
      "outputs": [
        {
          "output_type": "display_data",
          "data": {
            "text/html": [
              "<div>\n",
              "<style scoped>\n",
              "    .dataframe tbody tr th:only-of-type {\n",
              "        vertical-align: middle;\n",
              "    }\n",
              "\n",
              "    .dataframe tbody tr th {\n",
              "        vertical-align: top;\n",
              "    }\n",
              "\n",
              "    .dataframe thead th {\n",
              "        text-align: right;\n",
              "    }\n",
              "</style>\n",
              "<table border=\"1\" class=\"dataframe\">\n",
              "  <thead>\n",
              "    <tr style=\"text-align: right;\">\n",
              "      <th></th>\n",
              "      <th>Unnamed: 0</th>\n",
              "      <th>id</th>\n",
              "      <th>mb_used</th>\n",
              "      <th>session_date</th>\n",
              "      <th>user_id</th>\n",
              "    </tr>\n",
              "  </thead>\n",
              "  <tbody>\n",
              "    <tr>\n",
              "      <td>0</td>\n",
              "      <td>0</td>\n",
              "      <td>1000_0</td>\n",
              "      <td>112.95</td>\n",
              "      <td>2018-11-25</td>\n",
              "      <td>1000</td>\n",
              "    </tr>\n",
              "    <tr>\n",
              "      <td>1</td>\n",
              "      <td>1</td>\n",
              "      <td>1000_1</td>\n",
              "      <td>1052.81</td>\n",
              "      <td>2018-09-07</td>\n",
              "      <td>1000</td>\n",
              "    </tr>\n",
              "    <tr>\n",
              "      <td>2</td>\n",
              "      <td>2</td>\n",
              "      <td>1000_2</td>\n",
              "      <td>1197.26</td>\n",
              "      <td>2018-06-25</td>\n",
              "      <td>1000</td>\n",
              "    </tr>\n",
              "    <tr>\n",
              "      <td>3</td>\n",
              "      <td>3</td>\n",
              "      <td>1000_3</td>\n",
              "      <td>550.27</td>\n",
              "      <td>2018-08-22</td>\n",
              "      <td>1000</td>\n",
              "    </tr>\n",
              "    <tr>\n",
              "      <td>4</td>\n",
              "      <td>4</td>\n",
              "      <td>1000_4</td>\n",
              "      <td>302.56</td>\n",
              "      <td>2018-09-24</td>\n",
              "      <td>1000</td>\n",
              "    </tr>\n",
              "    <tr>\n",
              "      <td>...</td>\n",
              "      <td>...</td>\n",
              "      <td>...</td>\n",
              "      <td>...</td>\n",
              "      <td>...</td>\n",
              "      <td>...</td>\n",
              "    </tr>\n",
              "    <tr>\n",
              "      <td>149391</td>\n",
              "      <td>149391</td>\n",
              "      <td>1499_152</td>\n",
              "      <td>318.90</td>\n",
              "      <td>2018-10-03</td>\n",
              "      <td>1499</td>\n",
              "    </tr>\n",
              "    <tr>\n",
              "      <td>149392</td>\n",
              "      <td>149392</td>\n",
              "      <td>1499_153</td>\n",
              "      <td>490.13</td>\n",
              "      <td>2018-12-14</td>\n",
              "      <td>1499</td>\n",
              "    </tr>\n",
              "    <tr>\n",
              "      <td>149393</td>\n",
              "      <td>149393</td>\n",
              "      <td>1499_154</td>\n",
              "      <td>0.00</td>\n",
              "      <td>2018-10-27</td>\n",
              "      <td>1499</td>\n",
              "    </tr>\n",
              "    <tr>\n",
              "      <td>149394</td>\n",
              "      <td>149394</td>\n",
              "      <td>1499_155</td>\n",
              "      <td>1246.32</td>\n",
              "      <td>2018-11-26</td>\n",
              "      <td>1499</td>\n",
              "    </tr>\n",
              "    <tr>\n",
              "      <td>149395</td>\n",
              "      <td>149395</td>\n",
              "      <td>1499_156</td>\n",
              "      <td>544.37</td>\n",
              "      <td>2018-10-26</td>\n",
              "      <td>1499</td>\n",
              "    </tr>\n",
              "  </tbody>\n",
              "</table>\n",
              "<p>149396 rows × 5 columns</p>\n",
              "</div>"
            ],
            "text/plain": [
              "        Unnamed: 0        id  mb_used session_date  user_id\n",
              "0                0    1000_0   112.95   2018-11-25     1000\n",
              "1                1    1000_1  1052.81   2018-09-07     1000\n",
              "2                2    1000_2  1197.26   2018-06-25     1000\n",
              "3                3    1000_3   550.27   2018-08-22     1000\n",
              "4                4    1000_4   302.56   2018-09-24     1000\n",
              "...            ...       ...      ...          ...      ...\n",
              "149391      149391  1499_152   318.90   2018-10-03     1499\n",
              "149392      149392  1499_153   490.13   2018-12-14     1499\n",
              "149393      149393  1499_154     0.00   2018-10-27     1499\n",
              "149394      149394  1499_155  1246.32   2018-11-26     1499\n",
              "149395      149395  1499_156   544.37   2018-10-26     1499\n",
              "\n",
              "[149396 rows x 5 columns]"
            ]
          },
          "metadata": {
            "tags": []
          }
        }
      ]
    },
    {
      "cell_type": "code",
      "metadata": {
        "id": "NnI6CCfTtzoF"
      },
      "source": [
        "internet['session_date'] = pd.to_datetime(internet['session_date'], format = \"%Y-%m-%d\")"
      ],
      "execution_count": null,
      "outputs": []
    },
    {
      "cell_type": "code",
      "metadata": {
        "id": "pkbBzEaptzoG"
      },
      "source": [
        "internet['id'] = internet['id'].astype('int')"
      ],
      "execution_count": null,
      "outputs": []
    },
    {
      "cell_type": "code",
      "metadata": {
        "id": "C7tC3oqUtzoG"
      },
      "source": [
        "internet['mb_used'] = np.ceil(internet['mb_used'])"
      ],
      "execution_count": null,
      "outputs": []
    },
    {
      "cell_type": "code",
      "metadata": {
        "id": "V4VKhnZWtzoG",
        "outputId": "25075b34-12a0-42b7-aeab-50174b979e54"
      },
      "source": [
        "display(internet)"
      ],
      "execution_count": null,
      "outputs": [
        {
          "output_type": "display_data",
          "data": {
            "text/html": [
              "<div>\n",
              "<style scoped>\n",
              "    .dataframe tbody tr th:only-of-type {\n",
              "        vertical-align: middle;\n",
              "    }\n",
              "\n",
              "    .dataframe tbody tr th {\n",
              "        vertical-align: top;\n",
              "    }\n",
              "\n",
              "    .dataframe thead th {\n",
              "        text-align: right;\n",
              "    }\n",
              "</style>\n",
              "<table border=\"1\" class=\"dataframe\">\n",
              "  <thead>\n",
              "    <tr style=\"text-align: right;\">\n",
              "      <th></th>\n",
              "      <th>Unnamed: 0</th>\n",
              "      <th>id</th>\n",
              "      <th>mb_used</th>\n",
              "      <th>session_date</th>\n",
              "      <th>user_id</th>\n",
              "    </tr>\n",
              "  </thead>\n",
              "  <tbody>\n",
              "    <tr>\n",
              "      <td>0</td>\n",
              "      <td>0</td>\n",
              "      <td>10000</td>\n",
              "      <td>113.00</td>\n",
              "      <td>2018-11-25</td>\n",
              "      <td>1000</td>\n",
              "    </tr>\n",
              "    <tr>\n",
              "      <td>1</td>\n",
              "      <td>1</td>\n",
              "      <td>10001</td>\n",
              "      <td>1053.00</td>\n",
              "      <td>2018-09-07</td>\n",
              "      <td>1000</td>\n",
              "    </tr>\n",
              "    <tr>\n",
              "      <td>2</td>\n",
              "      <td>2</td>\n",
              "      <td>10002</td>\n",
              "      <td>1198.00</td>\n",
              "      <td>2018-06-25</td>\n",
              "      <td>1000</td>\n",
              "    </tr>\n",
              "    <tr>\n",
              "      <td>3</td>\n",
              "      <td>3</td>\n",
              "      <td>10003</td>\n",
              "      <td>551.00</td>\n",
              "      <td>2018-08-22</td>\n",
              "      <td>1000</td>\n",
              "    </tr>\n",
              "    <tr>\n",
              "      <td>4</td>\n",
              "      <td>4</td>\n",
              "      <td>10004</td>\n",
              "      <td>303.00</td>\n",
              "      <td>2018-09-24</td>\n",
              "      <td>1000</td>\n",
              "    </tr>\n",
              "    <tr>\n",
              "      <td>...</td>\n",
              "      <td>...</td>\n",
              "      <td>...</td>\n",
              "      <td>...</td>\n",
              "      <td>...</td>\n",
              "      <td>...</td>\n",
              "    </tr>\n",
              "    <tr>\n",
              "      <td>149391</td>\n",
              "      <td>149391</td>\n",
              "      <td>1499152</td>\n",
              "      <td>319.00</td>\n",
              "      <td>2018-10-03</td>\n",
              "      <td>1499</td>\n",
              "    </tr>\n",
              "    <tr>\n",
              "      <td>149392</td>\n",
              "      <td>149392</td>\n",
              "      <td>1499153</td>\n",
              "      <td>491.00</td>\n",
              "      <td>2018-12-14</td>\n",
              "      <td>1499</td>\n",
              "    </tr>\n",
              "    <tr>\n",
              "      <td>149393</td>\n",
              "      <td>149393</td>\n",
              "      <td>1499154</td>\n",
              "      <td>0.00</td>\n",
              "      <td>2018-10-27</td>\n",
              "      <td>1499</td>\n",
              "    </tr>\n",
              "    <tr>\n",
              "      <td>149394</td>\n",
              "      <td>149394</td>\n",
              "      <td>1499155</td>\n",
              "      <td>1247.00</td>\n",
              "      <td>2018-11-26</td>\n",
              "      <td>1499</td>\n",
              "    </tr>\n",
              "    <tr>\n",
              "      <td>149395</td>\n",
              "      <td>149395</td>\n",
              "      <td>1499156</td>\n",
              "      <td>545.00</td>\n",
              "      <td>2018-10-26</td>\n",
              "      <td>1499</td>\n",
              "    </tr>\n",
              "  </tbody>\n",
              "</table>\n",
              "<p>149396 rows × 5 columns</p>\n",
              "</div>"
            ],
            "text/plain": [
              "        Unnamed: 0       id  mb_used session_date  user_id\n",
              "0                0    10000   113.00   2018-11-25     1000\n",
              "1                1    10001  1053.00   2018-09-07     1000\n",
              "2                2    10002  1198.00   2018-06-25     1000\n",
              "3                3    10003   551.00   2018-08-22     1000\n",
              "4                4    10004   303.00   2018-09-24     1000\n",
              "...            ...      ...      ...          ...      ...\n",
              "149391      149391  1499152   319.00   2018-10-03     1499\n",
              "149392      149392  1499153   491.00   2018-12-14     1499\n",
              "149393      149393  1499154     0.00   2018-10-27     1499\n",
              "149394      149394  1499155  1247.00   2018-11-26     1499\n",
              "149395      149395  1499156   545.00   2018-10-26     1499\n",
              "\n",
              "[149396 rows x 5 columns]"
            ]
          },
          "metadata": {
            "tags": []
          }
        }
      ]
    },
    {
      "cell_type": "code",
      "metadata": {
        "id": "NS10joCOtzoG"
      },
      "source": [
        "# <переведем в Гб> \n",
        "internet['mb_used'] = internet['mb_used'] / 1024"
      ],
      "execution_count": null,
      "outputs": []
    },
    {
      "cell_type": "code",
      "metadata": {
        "id": "z2nEHx81tzoG"
      },
      "source": [
        "internet = internet.rename(columns = {'mb_used':'gb_used'})"
      ],
      "execution_count": null,
      "outputs": []
    },
    {
      "cell_type": "code",
      "metadata": {
        "id": "gifnCe78tzoG",
        "outputId": "25e60a3d-26cc-4b1a-c60e-9ce2b5c175f2"
      },
      "source": [
        "display(internet)"
      ],
      "execution_count": null,
      "outputs": [
        {
          "output_type": "display_data",
          "data": {
            "text/html": [
              "<div>\n",
              "<style scoped>\n",
              "    .dataframe tbody tr th:only-of-type {\n",
              "        vertical-align: middle;\n",
              "    }\n",
              "\n",
              "    .dataframe tbody tr th {\n",
              "        vertical-align: top;\n",
              "    }\n",
              "\n",
              "    .dataframe thead th {\n",
              "        text-align: right;\n",
              "    }\n",
              "</style>\n",
              "<table border=\"1\" class=\"dataframe\">\n",
              "  <thead>\n",
              "    <tr style=\"text-align: right;\">\n",
              "      <th></th>\n",
              "      <th>Unnamed: 0</th>\n",
              "      <th>id</th>\n",
              "      <th>gb_used</th>\n",
              "      <th>session_date</th>\n",
              "      <th>user_id</th>\n",
              "    </tr>\n",
              "  </thead>\n",
              "  <tbody>\n",
              "    <tr>\n",
              "      <td>0</td>\n",
              "      <td>0</td>\n",
              "      <td>10000</td>\n",
              "      <td>0.11</td>\n",
              "      <td>2018-11-25</td>\n",
              "      <td>1000</td>\n",
              "    </tr>\n",
              "    <tr>\n",
              "      <td>1</td>\n",
              "      <td>1</td>\n",
              "      <td>10001</td>\n",
              "      <td>1.03</td>\n",
              "      <td>2018-09-07</td>\n",
              "      <td>1000</td>\n",
              "    </tr>\n",
              "    <tr>\n",
              "      <td>2</td>\n",
              "      <td>2</td>\n",
              "      <td>10002</td>\n",
              "      <td>1.17</td>\n",
              "      <td>2018-06-25</td>\n",
              "      <td>1000</td>\n",
              "    </tr>\n",
              "    <tr>\n",
              "      <td>3</td>\n",
              "      <td>3</td>\n",
              "      <td>10003</td>\n",
              "      <td>0.54</td>\n",
              "      <td>2018-08-22</td>\n",
              "      <td>1000</td>\n",
              "    </tr>\n",
              "    <tr>\n",
              "      <td>4</td>\n",
              "      <td>4</td>\n",
              "      <td>10004</td>\n",
              "      <td>0.30</td>\n",
              "      <td>2018-09-24</td>\n",
              "      <td>1000</td>\n",
              "    </tr>\n",
              "    <tr>\n",
              "      <td>...</td>\n",
              "      <td>...</td>\n",
              "      <td>...</td>\n",
              "      <td>...</td>\n",
              "      <td>...</td>\n",
              "      <td>...</td>\n",
              "    </tr>\n",
              "    <tr>\n",
              "      <td>149391</td>\n",
              "      <td>149391</td>\n",
              "      <td>1499152</td>\n",
              "      <td>0.31</td>\n",
              "      <td>2018-10-03</td>\n",
              "      <td>1499</td>\n",
              "    </tr>\n",
              "    <tr>\n",
              "      <td>149392</td>\n",
              "      <td>149392</td>\n",
              "      <td>1499153</td>\n",
              "      <td>0.48</td>\n",
              "      <td>2018-12-14</td>\n",
              "      <td>1499</td>\n",
              "    </tr>\n",
              "    <tr>\n",
              "      <td>149393</td>\n",
              "      <td>149393</td>\n",
              "      <td>1499154</td>\n",
              "      <td>0.00</td>\n",
              "      <td>2018-10-27</td>\n",
              "      <td>1499</td>\n",
              "    </tr>\n",
              "    <tr>\n",
              "      <td>149394</td>\n",
              "      <td>149394</td>\n",
              "      <td>1499155</td>\n",
              "      <td>1.22</td>\n",
              "      <td>2018-11-26</td>\n",
              "      <td>1499</td>\n",
              "    </tr>\n",
              "    <tr>\n",
              "      <td>149395</td>\n",
              "      <td>149395</td>\n",
              "      <td>1499156</td>\n",
              "      <td>0.53</td>\n",
              "      <td>2018-10-26</td>\n",
              "      <td>1499</td>\n",
              "    </tr>\n",
              "  </tbody>\n",
              "</table>\n",
              "<p>149396 rows × 5 columns</p>\n",
              "</div>"
            ],
            "text/plain": [
              "        Unnamed: 0       id  gb_used session_date  user_id\n",
              "0                0    10000     0.11   2018-11-25     1000\n",
              "1                1    10001     1.03   2018-09-07     1000\n",
              "2                2    10002     1.17   2018-06-25     1000\n",
              "3                3    10003     0.54   2018-08-22     1000\n",
              "4                4    10004     0.30   2018-09-24     1000\n",
              "...            ...      ...      ...          ...      ...\n",
              "149391      149391  1499152     0.31   2018-10-03     1499\n",
              "149392      149392  1499153     0.48   2018-12-14     1499\n",
              "149393      149393  1499154     0.00   2018-10-27     1499\n",
              "149394      149394  1499155     1.22   2018-11-26     1499\n",
              "149395      149395  1499156     0.53   2018-10-26     1499\n",
              "\n",
              "[149396 rows x 5 columns]"
            ]
          },
          "metadata": {
            "tags": []
          }
        }
      ]
    },
    {
      "cell_type": "code",
      "metadata": {
        "id": "Zq4wEtKLtzoG",
        "outputId": "9af5a9f6-7426-4049-860d-1c4a642fcf7d"
      },
      "source": [
        "internet.info()"
      ],
      "execution_count": null,
      "outputs": [
        {
          "output_type": "stream",
          "text": [
            "<class 'pandas.core.frame.DataFrame'>\n",
            "RangeIndex: 149396 entries, 0 to 149395\n",
            "Data columns (total 5 columns):\n",
            "Unnamed: 0      149396 non-null int64\n",
            "id              149396 non-null int64\n",
            "gb_used         149396 non-null float64\n",
            "session_date    149396 non-null datetime64[ns]\n",
            "user_id         149396 non-null int64\n",
            "dtypes: datetime64[ns](1), float64(1), int64(3)\n",
            "memory usage: 5.7 MB\n"
          ],
          "name": "stdout"
        }
      ]
    },
    {
      "cell_type": "markdown",
      "metadata": {
        "id": "woMydb5-tzoH"
      },
      "source": [
        "<b>Удалим столбец 'Unnamed: 0' в датасете internet</b>"
      ]
    },
    {
      "cell_type": "code",
      "metadata": {
        "id": "Q_gyLG9CtzoH"
      },
      "source": [
        "internet = internet.drop('Unnamed: 0', 1)"
      ],
      "execution_count": null,
      "outputs": []
    },
    {
      "cell_type": "code",
      "metadata": {
        "id": "nsfPFVnetzoH",
        "outputId": "5e344c82-4447-4bc3-e956-dc41c404d69e"
      },
      "source": [
        "display(internet)"
      ],
      "execution_count": null,
      "outputs": [
        {
          "output_type": "display_data",
          "data": {
            "text/html": [
              "<div>\n",
              "<style scoped>\n",
              "    .dataframe tbody tr th:only-of-type {\n",
              "        vertical-align: middle;\n",
              "    }\n",
              "\n",
              "    .dataframe tbody tr th {\n",
              "        vertical-align: top;\n",
              "    }\n",
              "\n",
              "    .dataframe thead th {\n",
              "        text-align: right;\n",
              "    }\n",
              "</style>\n",
              "<table border=\"1\" class=\"dataframe\">\n",
              "  <thead>\n",
              "    <tr style=\"text-align: right;\">\n",
              "      <th></th>\n",
              "      <th>id</th>\n",
              "      <th>gb_used</th>\n",
              "      <th>session_date</th>\n",
              "      <th>user_id</th>\n",
              "    </tr>\n",
              "  </thead>\n",
              "  <tbody>\n",
              "    <tr>\n",
              "      <td>0</td>\n",
              "      <td>10000</td>\n",
              "      <td>0.11</td>\n",
              "      <td>2018-11-25</td>\n",
              "      <td>1000</td>\n",
              "    </tr>\n",
              "    <tr>\n",
              "      <td>1</td>\n",
              "      <td>10001</td>\n",
              "      <td>1.03</td>\n",
              "      <td>2018-09-07</td>\n",
              "      <td>1000</td>\n",
              "    </tr>\n",
              "    <tr>\n",
              "      <td>2</td>\n",
              "      <td>10002</td>\n",
              "      <td>1.17</td>\n",
              "      <td>2018-06-25</td>\n",
              "      <td>1000</td>\n",
              "    </tr>\n",
              "    <tr>\n",
              "      <td>3</td>\n",
              "      <td>10003</td>\n",
              "      <td>0.54</td>\n",
              "      <td>2018-08-22</td>\n",
              "      <td>1000</td>\n",
              "    </tr>\n",
              "    <tr>\n",
              "      <td>4</td>\n",
              "      <td>10004</td>\n",
              "      <td>0.30</td>\n",
              "      <td>2018-09-24</td>\n",
              "      <td>1000</td>\n",
              "    </tr>\n",
              "    <tr>\n",
              "      <td>...</td>\n",
              "      <td>...</td>\n",
              "      <td>...</td>\n",
              "      <td>...</td>\n",
              "      <td>...</td>\n",
              "    </tr>\n",
              "    <tr>\n",
              "      <td>149391</td>\n",
              "      <td>1499152</td>\n",
              "      <td>0.31</td>\n",
              "      <td>2018-10-03</td>\n",
              "      <td>1499</td>\n",
              "    </tr>\n",
              "    <tr>\n",
              "      <td>149392</td>\n",
              "      <td>1499153</td>\n",
              "      <td>0.48</td>\n",
              "      <td>2018-12-14</td>\n",
              "      <td>1499</td>\n",
              "    </tr>\n",
              "    <tr>\n",
              "      <td>149393</td>\n",
              "      <td>1499154</td>\n",
              "      <td>0.00</td>\n",
              "      <td>2018-10-27</td>\n",
              "      <td>1499</td>\n",
              "    </tr>\n",
              "    <tr>\n",
              "      <td>149394</td>\n",
              "      <td>1499155</td>\n",
              "      <td>1.22</td>\n",
              "      <td>2018-11-26</td>\n",
              "      <td>1499</td>\n",
              "    </tr>\n",
              "    <tr>\n",
              "      <td>149395</td>\n",
              "      <td>1499156</td>\n",
              "      <td>0.53</td>\n",
              "      <td>2018-10-26</td>\n",
              "      <td>1499</td>\n",
              "    </tr>\n",
              "  </tbody>\n",
              "</table>\n",
              "<p>149396 rows × 4 columns</p>\n",
              "</div>"
            ],
            "text/plain": [
              "             id  gb_used session_date  user_id\n",
              "0         10000     0.11   2018-11-25     1000\n",
              "1         10001     1.03   2018-09-07     1000\n",
              "2         10002     1.17   2018-06-25     1000\n",
              "3         10003     0.54   2018-08-22     1000\n",
              "4         10004     0.30   2018-09-24     1000\n",
              "...         ...      ...          ...      ...\n",
              "149391  1499152     0.31   2018-10-03     1499\n",
              "149392  1499153     0.48   2018-12-14     1499\n",
              "149393  1499154     0.00   2018-10-27     1499\n",
              "149394  1499155     1.22   2018-11-26     1499\n",
              "149395  1499156     0.53   2018-10-26     1499\n",
              "\n",
              "[149396 rows x 4 columns]"
            ]
          },
          "metadata": {
            "tags": []
          }
        }
      ]
    },
    {
      "cell_type": "markdown",
      "metadata": {
        "id": "B6NB0xsOtzoH"
      },
      "source": [
        "<b>Переведем 'mb_per_month_included' Гб</b>"
      ]
    },
    {
      "cell_type": "code",
      "metadata": {
        "id": "U6Zh38sgtzoH",
        "outputId": "f99110d3-f01e-4a52-c4f4-e566c107fafe"
      },
      "source": [
        "display(tariffs)"
      ],
      "execution_count": null,
      "outputs": [
        {
          "output_type": "display_data",
          "data": {
            "text/html": [
              "<div>\n",
              "<style scoped>\n",
              "    .dataframe tbody tr th:only-of-type {\n",
              "        vertical-align: middle;\n",
              "    }\n",
              "\n",
              "    .dataframe tbody tr th {\n",
              "        vertical-align: top;\n",
              "    }\n",
              "\n",
              "    .dataframe thead th {\n",
              "        text-align: right;\n",
              "    }\n",
              "</style>\n",
              "<table border=\"1\" class=\"dataframe\">\n",
              "  <thead>\n",
              "    <tr style=\"text-align: right;\">\n",
              "      <th></th>\n",
              "      <th>messages_included</th>\n",
              "      <th>mb_per_month_included</th>\n",
              "      <th>minutes_included</th>\n",
              "      <th>rub_monthly_fee</th>\n",
              "      <th>rub_per_gb</th>\n",
              "      <th>rub_per_message</th>\n",
              "      <th>rub_per_minute</th>\n",
              "      <th>tariff_name</th>\n",
              "    </tr>\n",
              "  </thead>\n",
              "  <tbody>\n",
              "    <tr>\n",
              "      <td>0</td>\n",
              "      <td>50</td>\n",
              "      <td>15360</td>\n",
              "      <td>500</td>\n",
              "      <td>550</td>\n",
              "      <td>200</td>\n",
              "      <td>3</td>\n",
              "      <td>3</td>\n",
              "      <td>smart</td>\n",
              "    </tr>\n",
              "    <tr>\n",
              "      <td>1</td>\n",
              "      <td>1000</td>\n",
              "      <td>30720</td>\n",
              "      <td>3000</td>\n",
              "      <td>1950</td>\n",
              "      <td>150</td>\n",
              "      <td>1</td>\n",
              "      <td>1</td>\n",
              "      <td>ultra</td>\n",
              "    </tr>\n",
              "  </tbody>\n",
              "</table>\n",
              "</div>"
            ],
            "text/plain": [
              "   messages_included  mb_per_month_included  minutes_included  \\\n",
              "0                 50                  15360               500   \n",
              "1               1000                  30720              3000   \n",
              "\n",
              "   rub_monthly_fee  rub_per_gb  rub_per_message  rub_per_minute tariff_name  \n",
              "0              550         200                3               3       smart  \n",
              "1             1950         150                1               1       ultra  "
            ]
          },
          "metadata": {
            "tags": []
          }
        }
      ]
    },
    {
      "cell_type": "code",
      "metadata": {
        "id": "UVKAioLWtzoI"
      },
      "source": [
        "tariffs['mb_per_month_included'] = tariffs['mb_per_month_included'] / 1024"
      ],
      "execution_count": null,
      "outputs": []
    },
    {
      "cell_type": "code",
      "metadata": {
        "id": "KCI1W_gYtzoI"
      },
      "source": [
        "tariffs= tariffs.rename(columns = {'mb_per_month_included':'gb_per_month_included'})"
      ],
      "execution_count": null,
      "outputs": []
    },
    {
      "cell_type": "code",
      "metadata": {
        "id": "orH8o26BtzoI",
        "outputId": "5ad4a22e-15de-4e2d-e98b-878313979def"
      },
      "source": [
        "display(tariffs)"
      ],
      "execution_count": null,
      "outputs": [
        {
          "output_type": "display_data",
          "data": {
            "text/html": [
              "<div>\n",
              "<style scoped>\n",
              "    .dataframe tbody tr th:only-of-type {\n",
              "        vertical-align: middle;\n",
              "    }\n",
              "\n",
              "    .dataframe tbody tr th {\n",
              "        vertical-align: top;\n",
              "    }\n",
              "\n",
              "    .dataframe thead th {\n",
              "        text-align: right;\n",
              "    }\n",
              "</style>\n",
              "<table border=\"1\" class=\"dataframe\">\n",
              "  <thead>\n",
              "    <tr style=\"text-align: right;\">\n",
              "      <th></th>\n",
              "      <th>messages_included</th>\n",
              "      <th>gb_per_month_included</th>\n",
              "      <th>minutes_included</th>\n",
              "      <th>rub_monthly_fee</th>\n",
              "      <th>rub_per_gb</th>\n",
              "      <th>rub_per_message</th>\n",
              "      <th>rub_per_minute</th>\n",
              "      <th>tariff_name</th>\n",
              "    </tr>\n",
              "  </thead>\n",
              "  <tbody>\n",
              "    <tr>\n",
              "      <td>0</td>\n",
              "      <td>50</td>\n",
              "      <td>15.00</td>\n",
              "      <td>500</td>\n",
              "      <td>550</td>\n",
              "      <td>200</td>\n",
              "      <td>3</td>\n",
              "      <td>3</td>\n",
              "      <td>smart</td>\n",
              "    </tr>\n",
              "    <tr>\n",
              "      <td>1</td>\n",
              "      <td>1000</td>\n",
              "      <td>30.00</td>\n",
              "      <td>3000</td>\n",
              "      <td>1950</td>\n",
              "      <td>150</td>\n",
              "      <td>1</td>\n",
              "      <td>1</td>\n",
              "      <td>ultra</td>\n",
              "    </tr>\n",
              "  </tbody>\n",
              "</table>\n",
              "</div>"
            ],
            "text/plain": [
              "   messages_included  gb_per_month_included  minutes_included  \\\n",
              "0                 50                  15.00               500   \n",
              "1               1000                  30.00              3000   \n",
              "\n",
              "   rub_monthly_fee  rub_per_gb  rub_per_message  rub_per_minute tariff_name  \n",
              "0              550         200                3               3       smart  \n",
              "1             1950         150                1               1       ultra  "
            ]
          },
          "metadata": {
            "tags": []
          }
        }
      ]
    },
    {
      "cell_type": "markdown",
      "metadata": {
        "id": "pExLZ50xtzoI"
      },
      "source": [
        "### Посчитаем для каждого пользователя:"
      ]
    },
    {
      "cell_type": "markdown",
      "metadata": {
        "id": "UPZ6Q68StzoI"
      },
      "source": [
        "<ul style=\"border:solid black 2px; padding: 20px\">\n",
        "    <li>Количество сделанных звонков и израсходованных минут разговора по месяцам;</li>\n",
        "</ul> "
      ]
    },
    {
      "cell_type": "code",
      "metadata": {
        "id": "bm32F63EtzoI",
        "outputId": "9d5f189f-6fe3-42ac-8ea9-39908b50372e"
      },
      "source": [
        "display(calls)"
      ],
      "execution_count": null,
      "outputs": [
        {
          "output_type": "display_data",
          "data": {
            "text/html": [
              "<div>\n",
              "<style scoped>\n",
              "    .dataframe tbody tr th:only-of-type {\n",
              "        vertical-align: middle;\n",
              "    }\n",
              "\n",
              "    .dataframe tbody tr th {\n",
              "        vertical-align: top;\n",
              "    }\n",
              "\n",
              "    .dataframe thead th {\n",
              "        text-align: right;\n",
              "    }\n",
              "</style>\n",
              "<table border=\"1\" class=\"dataframe\">\n",
              "  <thead>\n",
              "    <tr style=\"text-align: right;\">\n",
              "      <th></th>\n",
              "      <th>id</th>\n",
              "      <th>call_date</th>\n",
              "      <th>duration</th>\n",
              "      <th>user_id</th>\n",
              "    </tr>\n",
              "  </thead>\n",
              "  <tbody>\n",
              "    <tr>\n",
              "      <td>0</td>\n",
              "      <td>10000</td>\n",
              "      <td>2018-07-25</td>\n",
              "      <td>1</td>\n",
              "      <td>1000</td>\n",
              "    </tr>\n",
              "    <tr>\n",
              "      <td>1</td>\n",
              "      <td>10001</td>\n",
              "      <td>2018-08-17</td>\n",
              "      <td>1</td>\n",
              "      <td>1000</td>\n",
              "    </tr>\n",
              "    <tr>\n",
              "      <td>2</td>\n",
              "      <td>10002</td>\n",
              "      <td>2018-06-11</td>\n",
              "      <td>3</td>\n",
              "      <td>1000</td>\n",
              "    </tr>\n",
              "    <tr>\n",
              "      <td>3</td>\n",
              "      <td>10003</td>\n",
              "      <td>2018-09-21</td>\n",
              "      <td>14</td>\n",
              "      <td>1000</td>\n",
              "    </tr>\n",
              "    <tr>\n",
              "      <td>4</td>\n",
              "      <td>10004</td>\n",
              "      <td>2018-12-15</td>\n",
              "      <td>6</td>\n",
              "      <td>1000</td>\n",
              "    </tr>\n",
              "    <tr>\n",
              "      <td>...</td>\n",
              "      <td>...</td>\n",
              "      <td>...</td>\n",
              "      <td>...</td>\n",
              "      <td>...</td>\n",
              "    </tr>\n",
              "    <tr>\n",
              "      <td>202602</td>\n",
              "      <td>1499215</td>\n",
              "      <td>2018-12-26</td>\n",
              "      <td>1</td>\n",
              "      <td>1499</td>\n",
              "    </tr>\n",
              "    <tr>\n",
              "      <td>202603</td>\n",
              "      <td>1499216</td>\n",
              "      <td>2018-10-18</td>\n",
              "      <td>19</td>\n",
              "      <td>1499</td>\n",
              "    </tr>\n",
              "    <tr>\n",
              "      <td>202604</td>\n",
              "      <td>1499217</td>\n",
              "      <td>2018-11-10</td>\n",
              "      <td>11</td>\n",
              "      <td>1499</td>\n",
              "    </tr>\n",
              "    <tr>\n",
              "      <td>202605</td>\n",
              "      <td>1499218</td>\n",
              "      <td>2018-10-06</td>\n",
              "      <td>5</td>\n",
              "      <td>1499</td>\n",
              "    </tr>\n",
              "    <tr>\n",
              "      <td>202606</td>\n",
              "      <td>1499219</td>\n",
              "      <td>2018-12-14</td>\n",
              "      <td>20</td>\n",
              "      <td>1499</td>\n",
              "    </tr>\n",
              "  </tbody>\n",
              "</table>\n",
              "<p>202607 rows × 4 columns</p>\n",
              "</div>"
            ],
            "text/plain": [
              "             id  call_date  duration  user_id\n",
              "0         10000 2018-07-25         1     1000\n",
              "1         10001 2018-08-17         1     1000\n",
              "2         10002 2018-06-11         3     1000\n",
              "3         10003 2018-09-21        14     1000\n",
              "4         10004 2018-12-15         6     1000\n",
              "...         ...        ...       ...      ...\n",
              "202602  1499215 2018-12-26         1     1499\n",
              "202603  1499216 2018-10-18        19     1499\n",
              "202604  1499217 2018-11-10        11     1499\n",
              "202605  1499218 2018-10-06         5     1499\n",
              "202606  1499219 2018-12-14        20     1499\n",
              "\n",
              "[202607 rows x 4 columns]"
            ]
          },
          "metadata": {
            "tags": []
          }
        }
      ]
    },
    {
      "cell_type": "code",
      "metadata": {
        "id": "u81yQmaJtzoJ"
      },
      "source": [
        "#calls['month'] = calls['call_date'].dt.month_name()\n",
        "calls['month'] = pd.DatetimeIndex(calls['call_date']).month"
      ],
      "execution_count": null,
      "outputs": []
    },
    {
      "cell_type": "code",
      "metadata": {
        "id": "tE9cuObCtzoJ",
        "outputId": "ff8c3866-1d6d-4573-dc56-5549f113d5a4"
      },
      "source": [
        "display(calls)"
      ],
      "execution_count": null,
      "outputs": [
        {
          "output_type": "display_data",
          "data": {
            "text/html": [
              "<div>\n",
              "<style scoped>\n",
              "    .dataframe tbody tr th:only-of-type {\n",
              "        vertical-align: middle;\n",
              "    }\n",
              "\n",
              "    .dataframe tbody tr th {\n",
              "        vertical-align: top;\n",
              "    }\n",
              "\n",
              "    .dataframe thead th {\n",
              "        text-align: right;\n",
              "    }\n",
              "</style>\n",
              "<table border=\"1\" class=\"dataframe\">\n",
              "  <thead>\n",
              "    <tr style=\"text-align: right;\">\n",
              "      <th></th>\n",
              "      <th>id</th>\n",
              "      <th>call_date</th>\n",
              "      <th>duration</th>\n",
              "      <th>user_id</th>\n",
              "      <th>month</th>\n",
              "    </tr>\n",
              "  </thead>\n",
              "  <tbody>\n",
              "    <tr>\n",
              "      <td>0</td>\n",
              "      <td>10000</td>\n",
              "      <td>2018-07-25</td>\n",
              "      <td>1</td>\n",
              "      <td>1000</td>\n",
              "      <td>7</td>\n",
              "    </tr>\n",
              "    <tr>\n",
              "      <td>1</td>\n",
              "      <td>10001</td>\n",
              "      <td>2018-08-17</td>\n",
              "      <td>1</td>\n",
              "      <td>1000</td>\n",
              "      <td>8</td>\n",
              "    </tr>\n",
              "    <tr>\n",
              "      <td>2</td>\n",
              "      <td>10002</td>\n",
              "      <td>2018-06-11</td>\n",
              "      <td>3</td>\n",
              "      <td>1000</td>\n",
              "      <td>6</td>\n",
              "    </tr>\n",
              "    <tr>\n",
              "      <td>3</td>\n",
              "      <td>10003</td>\n",
              "      <td>2018-09-21</td>\n",
              "      <td>14</td>\n",
              "      <td>1000</td>\n",
              "      <td>9</td>\n",
              "    </tr>\n",
              "    <tr>\n",
              "      <td>4</td>\n",
              "      <td>10004</td>\n",
              "      <td>2018-12-15</td>\n",
              "      <td>6</td>\n",
              "      <td>1000</td>\n",
              "      <td>12</td>\n",
              "    </tr>\n",
              "    <tr>\n",
              "      <td>...</td>\n",
              "      <td>...</td>\n",
              "      <td>...</td>\n",
              "      <td>...</td>\n",
              "      <td>...</td>\n",
              "      <td>...</td>\n",
              "    </tr>\n",
              "    <tr>\n",
              "      <td>202602</td>\n",
              "      <td>1499215</td>\n",
              "      <td>2018-12-26</td>\n",
              "      <td>1</td>\n",
              "      <td>1499</td>\n",
              "      <td>12</td>\n",
              "    </tr>\n",
              "    <tr>\n",
              "      <td>202603</td>\n",
              "      <td>1499216</td>\n",
              "      <td>2018-10-18</td>\n",
              "      <td>19</td>\n",
              "      <td>1499</td>\n",
              "      <td>10</td>\n",
              "    </tr>\n",
              "    <tr>\n",
              "      <td>202604</td>\n",
              "      <td>1499217</td>\n",
              "      <td>2018-11-10</td>\n",
              "      <td>11</td>\n",
              "      <td>1499</td>\n",
              "      <td>11</td>\n",
              "    </tr>\n",
              "    <tr>\n",
              "      <td>202605</td>\n",
              "      <td>1499218</td>\n",
              "      <td>2018-10-06</td>\n",
              "      <td>5</td>\n",
              "      <td>1499</td>\n",
              "      <td>10</td>\n",
              "    </tr>\n",
              "    <tr>\n",
              "      <td>202606</td>\n",
              "      <td>1499219</td>\n",
              "      <td>2018-12-14</td>\n",
              "      <td>20</td>\n",
              "      <td>1499</td>\n",
              "      <td>12</td>\n",
              "    </tr>\n",
              "  </tbody>\n",
              "</table>\n",
              "<p>202607 rows × 5 columns</p>\n",
              "</div>"
            ],
            "text/plain": [
              "             id  call_date  duration  user_id  month\n",
              "0         10000 2018-07-25         1     1000      7\n",
              "1         10001 2018-08-17         1     1000      8\n",
              "2         10002 2018-06-11         3     1000      6\n",
              "3         10003 2018-09-21        14     1000      9\n",
              "4         10004 2018-12-15         6     1000     12\n",
              "...         ...        ...       ...      ...    ...\n",
              "202602  1499215 2018-12-26         1     1499     12\n",
              "202603  1499216 2018-10-18        19     1499     10\n",
              "202604  1499217 2018-11-10        11     1499     11\n",
              "202605  1499218 2018-10-06         5     1499     10\n",
              "202606  1499219 2018-12-14        20     1499     12\n",
              "\n",
              "[202607 rows x 5 columns]"
            ]
          },
          "metadata": {
            "tags": []
          }
        }
      ]
    },
    {
      "cell_type": "code",
      "metadata": {
        "id": "S8BeD8OotzoJ"
      },
      "source": [
        "#user_calls = calls.pivot_table(index = ['user_id','call_month'],values = ['duration', 'id'], aggfunc = {'duration':'sum', 'id':'count'}).reset_index().rename(columns={'duration':'total_duration', 'id':'total_calls'})\n",
        "users_calls = calls.groupby(['user_id','month']).agg({'duration':'sum', 'id':'count'}).reset_index().rename(columns={'duration':'total_duration', 'id':'total_calls'})"
      ],
      "execution_count": null,
      "outputs": []
    },
    {
      "cell_type": "code",
      "metadata": {
        "id": "e1PEUvKVtzoJ",
        "outputId": "1f7f08ff-1e15-49a5-988e-0c674613ea20"
      },
      "source": [
        "#display(user_calls)\n",
        "display(users_calls)"
      ],
      "execution_count": null,
      "outputs": [
        {
          "output_type": "display_data",
          "data": {
            "text/html": [
              "<div>\n",
              "<style scoped>\n",
              "    .dataframe tbody tr th:only-of-type {\n",
              "        vertical-align: middle;\n",
              "    }\n",
              "\n",
              "    .dataframe tbody tr th {\n",
              "        vertical-align: top;\n",
              "    }\n",
              "\n",
              "    .dataframe thead th {\n",
              "        text-align: right;\n",
              "    }\n",
              "</style>\n",
              "<table border=\"1\" class=\"dataframe\">\n",
              "  <thead>\n",
              "    <tr style=\"text-align: right;\">\n",
              "      <th></th>\n",
              "      <th>user_id</th>\n",
              "      <th>month</th>\n",
              "      <th>total_duration</th>\n",
              "      <th>total_calls</th>\n",
              "    </tr>\n",
              "  </thead>\n",
              "  <tbody>\n",
              "    <tr>\n",
              "      <td>0</td>\n",
              "      <td>1000</td>\n",
              "      <td>5</td>\n",
              "      <td>164</td>\n",
              "      <td>22</td>\n",
              "    </tr>\n",
              "    <tr>\n",
              "      <td>1</td>\n",
              "      <td>1000</td>\n",
              "      <td>6</td>\n",
              "      <td>187</td>\n",
              "      <td>43</td>\n",
              "    </tr>\n",
              "    <tr>\n",
              "      <td>2</td>\n",
              "      <td>1000</td>\n",
              "      <td>7</td>\n",
              "      <td>346</td>\n",
              "      <td>47</td>\n",
              "    </tr>\n",
              "    <tr>\n",
              "      <td>3</td>\n",
              "      <td>1000</td>\n",
              "      <td>8</td>\n",
              "      <td>418</td>\n",
              "      <td>52</td>\n",
              "    </tr>\n",
              "    <tr>\n",
              "      <td>4</td>\n",
              "      <td>1000</td>\n",
              "      <td>9</td>\n",
              "      <td>478</td>\n",
              "      <td>58</td>\n",
              "    </tr>\n",
              "    <tr>\n",
              "      <td>...</td>\n",
              "      <td>...</td>\n",
              "      <td>...</td>\n",
              "      <td>...</td>\n",
              "      <td>...</td>\n",
              "    </tr>\n",
              "    <tr>\n",
              "      <td>3169</td>\n",
              "      <td>1498</td>\n",
              "      <td>10</td>\n",
              "      <td>258</td>\n",
              "      <td>41</td>\n",
              "    </tr>\n",
              "    <tr>\n",
              "      <td>3170</td>\n",
              "      <td>1499</td>\n",
              "      <td>9</td>\n",
              "      <td>71</td>\n",
              "      <td>9</td>\n",
              "    </tr>\n",
              "    <tr>\n",
              "      <td>3171</td>\n",
              "      <td>1499</td>\n",
              "      <td>10</td>\n",
              "      <td>473</td>\n",
              "      <td>68</td>\n",
              "    </tr>\n",
              "    <tr>\n",
              "      <td>3172</td>\n",
              "      <td>1499</td>\n",
              "      <td>11</td>\n",
              "      <td>624</td>\n",
              "      <td>74</td>\n",
              "    </tr>\n",
              "    <tr>\n",
              "      <td>3173</td>\n",
              "      <td>1499</td>\n",
              "      <td>12</td>\n",
              "      <td>505</td>\n",
              "      <td>69</td>\n",
              "    </tr>\n",
              "  </tbody>\n",
              "</table>\n",
              "<p>3174 rows × 4 columns</p>\n",
              "</div>"
            ],
            "text/plain": [
              "      user_id  month  total_duration  total_calls\n",
              "0        1000      5             164           22\n",
              "1        1000      6             187           43\n",
              "2        1000      7             346           47\n",
              "3        1000      8             418           52\n",
              "4        1000      9             478           58\n",
              "...       ...    ...             ...          ...\n",
              "3169     1498     10             258           41\n",
              "3170     1499      9              71            9\n",
              "3171     1499     10             473           68\n",
              "3172     1499     11             624           74\n",
              "3173     1499     12             505           69\n",
              "\n",
              "[3174 rows x 4 columns]"
            ]
          },
          "metadata": {
            "tags": []
          }
        }
      ]
    },
    {
      "cell_type": "markdown",
      "metadata": {
        "id": "nTVU817CtzoJ"
      },
      "source": [
        "<ul style=\"border:solid black 2px; padding: 20px\">\n",
        "    <li>Количество отправленных сообщений по месяцам;</li>\n",
        "</ul> "
      ]
    },
    {
      "cell_type": "code",
      "metadata": {
        "id": "fLX1nfHUtzoJ",
        "outputId": "4974170c-76a5-497a-8d68-45d6a898423b"
      },
      "source": [
        "display(messages)"
      ],
      "execution_count": null,
      "outputs": [
        {
          "output_type": "display_data",
          "data": {
            "text/html": [
              "<div>\n",
              "<style scoped>\n",
              "    .dataframe tbody tr th:only-of-type {\n",
              "        vertical-align: middle;\n",
              "    }\n",
              "\n",
              "    .dataframe tbody tr th {\n",
              "        vertical-align: top;\n",
              "    }\n",
              "\n",
              "    .dataframe thead th {\n",
              "        text-align: right;\n",
              "    }\n",
              "</style>\n",
              "<table border=\"1\" class=\"dataframe\">\n",
              "  <thead>\n",
              "    <tr style=\"text-align: right;\">\n",
              "      <th></th>\n",
              "      <th>id</th>\n",
              "      <th>message_date</th>\n",
              "      <th>user_id</th>\n",
              "    </tr>\n",
              "  </thead>\n",
              "  <tbody>\n",
              "    <tr>\n",
              "      <td>0</td>\n",
              "      <td>10000</td>\n",
              "      <td>2018-06-27</td>\n",
              "      <td>1000</td>\n",
              "    </tr>\n",
              "    <tr>\n",
              "      <td>1</td>\n",
              "      <td>10001</td>\n",
              "      <td>2018-10-08</td>\n",
              "      <td>1000</td>\n",
              "    </tr>\n",
              "    <tr>\n",
              "      <td>2</td>\n",
              "      <td>10002</td>\n",
              "      <td>2018-08-04</td>\n",
              "      <td>1000</td>\n",
              "    </tr>\n",
              "    <tr>\n",
              "      <td>3</td>\n",
              "      <td>10003</td>\n",
              "      <td>2018-06-16</td>\n",
              "      <td>1000</td>\n",
              "    </tr>\n",
              "    <tr>\n",
              "      <td>4</td>\n",
              "      <td>10004</td>\n",
              "      <td>2018-12-05</td>\n",
              "      <td>1000</td>\n",
              "    </tr>\n",
              "    <tr>\n",
              "      <td>...</td>\n",
              "      <td>...</td>\n",
              "      <td>...</td>\n",
              "      <td>...</td>\n",
              "    </tr>\n",
              "    <tr>\n",
              "      <td>123031</td>\n",
              "      <td>1499179</td>\n",
              "      <td>2018-12-12</td>\n",
              "      <td>1499</td>\n",
              "    </tr>\n",
              "    <tr>\n",
              "      <td>123032</td>\n",
              "      <td>1499180</td>\n",
              "      <td>2018-09-28</td>\n",
              "      <td>1499</td>\n",
              "    </tr>\n",
              "    <tr>\n",
              "      <td>123033</td>\n",
              "      <td>1499181</td>\n",
              "      <td>2018-09-27</td>\n",
              "      <td>1499</td>\n",
              "    </tr>\n",
              "    <tr>\n",
              "      <td>123034</td>\n",
              "      <td>1499182</td>\n",
              "      <td>2018-11-15</td>\n",
              "      <td>1499</td>\n",
              "    </tr>\n",
              "    <tr>\n",
              "      <td>123035</td>\n",
              "      <td>1499183</td>\n",
              "      <td>2018-11-16</td>\n",
              "      <td>1499</td>\n",
              "    </tr>\n",
              "  </tbody>\n",
              "</table>\n",
              "<p>123036 rows × 3 columns</p>\n",
              "</div>"
            ],
            "text/plain": [
              "             id message_date  user_id\n",
              "0         10000   2018-06-27     1000\n",
              "1         10001   2018-10-08     1000\n",
              "2         10002   2018-08-04     1000\n",
              "3         10003   2018-06-16     1000\n",
              "4         10004   2018-12-05     1000\n",
              "...         ...          ...      ...\n",
              "123031  1499179   2018-12-12     1499\n",
              "123032  1499180   2018-09-28     1499\n",
              "123033  1499181   2018-09-27     1499\n",
              "123034  1499182   2018-11-15     1499\n",
              "123035  1499183   2018-11-16     1499\n",
              "\n",
              "[123036 rows x 3 columns]"
            ]
          },
          "metadata": {
            "tags": []
          }
        }
      ]
    },
    {
      "cell_type": "code",
      "metadata": {
        "id": "qg4KRMxEtzoK"
      },
      "source": [
        "#messages['month'] = messages['message_date'].dt.month_name()\n",
        "messages['month'] = pd.DatetimeIndex(messages['message_date']).month"
      ],
      "execution_count": null,
      "outputs": []
    },
    {
      "cell_type": "code",
      "metadata": {
        "id": "T1DYFT0btzoK",
        "outputId": "ce86cdc2-6a54-4c70-cfe9-2be54187a098"
      },
      "source": [
        "display(messages)"
      ],
      "execution_count": null,
      "outputs": [
        {
          "output_type": "display_data",
          "data": {
            "text/html": [
              "<div>\n",
              "<style scoped>\n",
              "    .dataframe tbody tr th:only-of-type {\n",
              "        vertical-align: middle;\n",
              "    }\n",
              "\n",
              "    .dataframe tbody tr th {\n",
              "        vertical-align: top;\n",
              "    }\n",
              "\n",
              "    .dataframe thead th {\n",
              "        text-align: right;\n",
              "    }\n",
              "</style>\n",
              "<table border=\"1\" class=\"dataframe\">\n",
              "  <thead>\n",
              "    <tr style=\"text-align: right;\">\n",
              "      <th></th>\n",
              "      <th>id</th>\n",
              "      <th>message_date</th>\n",
              "      <th>user_id</th>\n",
              "      <th>month</th>\n",
              "    </tr>\n",
              "  </thead>\n",
              "  <tbody>\n",
              "    <tr>\n",
              "      <td>0</td>\n",
              "      <td>10000</td>\n",
              "      <td>2018-06-27</td>\n",
              "      <td>1000</td>\n",
              "      <td>6</td>\n",
              "    </tr>\n",
              "    <tr>\n",
              "      <td>1</td>\n",
              "      <td>10001</td>\n",
              "      <td>2018-10-08</td>\n",
              "      <td>1000</td>\n",
              "      <td>10</td>\n",
              "    </tr>\n",
              "    <tr>\n",
              "      <td>2</td>\n",
              "      <td>10002</td>\n",
              "      <td>2018-08-04</td>\n",
              "      <td>1000</td>\n",
              "      <td>8</td>\n",
              "    </tr>\n",
              "    <tr>\n",
              "      <td>3</td>\n",
              "      <td>10003</td>\n",
              "      <td>2018-06-16</td>\n",
              "      <td>1000</td>\n",
              "      <td>6</td>\n",
              "    </tr>\n",
              "    <tr>\n",
              "      <td>4</td>\n",
              "      <td>10004</td>\n",
              "      <td>2018-12-05</td>\n",
              "      <td>1000</td>\n",
              "      <td>12</td>\n",
              "    </tr>\n",
              "    <tr>\n",
              "      <td>...</td>\n",
              "      <td>...</td>\n",
              "      <td>...</td>\n",
              "      <td>...</td>\n",
              "      <td>...</td>\n",
              "    </tr>\n",
              "    <tr>\n",
              "      <td>123031</td>\n",
              "      <td>1499179</td>\n",
              "      <td>2018-12-12</td>\n",
              "      <td>1499</td>\n",
              "      <td>12</td>\n",
              "    </tr>\n",
              "    <tr>\n",
              "      <td>123032</td>\n",
              "      <td>1499180</td>\n",
              "      <td>2018-09-28</td>\n",
              "      <td>1499</td>\n",
              "      <td>9</td>\n",
              "    </tr>\n",
              "    <tr>\n",
              "      <td>123033</td>\n",
              "      <td>1499181</td>\n",
              "      <td>2018-09-27</td>\n",
              "      <td>1499</td>\n",
              "      <td>9</td>\n",
              "    </tr>\n",
              "    <tr>\n",
              "      <td>123034</td>\n",
              "      <td>1499182</td>\n",
              "      <td>2018-11-15</td>\n",
              "      <td>1499</td>\n",
              "      <td>11</td>\n",
              "    </tr>\n",
              "    <tr>\n",
              "      <td>123035</td>\n",
              "      <td>1499183</td>\n",
              "      <td>2018-11-16</td>\n",
              "      <td>1499</td>\n",
              "      <td>11</td>\n",
              "    </tr>\n",
              "  </tbody>\n",
              "</table>\n",
              "<p>123036 rows × 4 columns</p>\n",
              "</div>"
            ],
            "text/plain": [
              "             id message_date  user_id  month\n",
              "0         10000   2018-06-27     1000      6\n",
              "1         10001   2018-10-08     1000     10\n",
              "2         10002   2018-08-04     1000      8\n",
              "3         10003   2018-06-16     1000      6\n",
              "4         10004   2018-12-05     1000     12\n",
              "...         ...          ...      ...    ...\n",
              "123031  1499179   2018-12-12     1499     12\n",
              "123032  1499180   2018-09-28     1499      9\n",
              "123033  1499181   2018-09-27     1499      9\n",
              "123034  1499182   2018-11-15     1499     11\n",
              "123035  1499183   2018-11-16     1499     11\n",
              "\n",
              "[123036 rows x 4 columns]"
            ]
          },
          "metadata": {
            "tags": []
          }
        }
      ]
    },
    {
      "cell_type": "code",
      "metadata": {
        "id": "MGN89ezJtzoK"
      },
      "source": [
        "#user_messages = messages.pivot_table(index = ['user_id','message_month'],values = ['id'], aggfunc = {'id':'count'}).reset_index().rename(columns={'id':'total_messages'})\n",
        "users_messages = messages.groupby(['user_id','month']).agg({'id':'count'}).reset_index().rename(columns={'id':'total_messages'})"
      ],
      "execution_count": null,
      "outputs": []
    },
    {
      "cell_type": "code",
      "metadata": {
        "id": "zk86aKPutzoK",
        "outputId": "3321d187-09ba-4f3e-d1a9-42aa3afecd87"
      },
      "source": [
        "#display(user_messages)\n",
        "display(users_messages)"
      ],
      "execution_count": null,
      "outputs": [
        {
          "output_type": "display_data",
          "data": {
            "text/html": [
              "<div>\n",
              "<style scoped>\n",
              "    .dataframe tbody tr th:only-of-type {\n",
              "        vertical-align: middle;\n",
              "    }\n",
              "\n",
              "    .dataframe tbody tr th {\n",
              "        vertical-align: top;\n",
              "    }\n",
              "\n",
              "    .dataframe thead th {\n",
              "        text-align: right;\n",
              "    }\n",
              "</style>\n",
              "<table border=\"1\" class=\"dataframe\">\n",
              "  <thead>\n",
              "    <tr style=\"text-align: right;\">\n",
              "      <th></th>\n",
              "      <th>user_id</th>\n",
              "      <th>month</th>\n",
              "      <th>total_messages</th>\n",
              "    </tr>\n",
              "  </thead>\n",
              "  <tbody>\n",
              "    <tr>\n",
              "      <td>0</td>\n",
              "      <td>1000</td>\n",
              "      <td>5</td>\n",
              "      <td>22</td>\n",
              "    </tr>\n",
              "    <tr>\n",
              "      <td>1</td>\n",
              "      <td>1000</td>\n",
              "      <td>6</td>\n",
              "      <td>60</td>\n",
              "    </tr>\n",
              "    <tr>\n",
              "      <td>2</td>\n",
              "      <td>1000</td>\n",
              "      <td>7</td>\n",
              "      <td>75</td>\n",
              "    </tr>\n",
              "    <tr>\n",
              "      <td>3</td>\n",
              "      <td>1000</td>\n",
              "      <td>8</td>\n",
              "      <td>81</td>\n",
              "    </tr>\n",
              "    <tr>\n",
              "      <td>4</td>\n",
              "      <td>1000</td>\n",
              "      <td>9</td>\n",
              "      <td>57</td>\n",
              "    </tr>\n",
              "    <tr>\n",
              "      <td>...</td>\n",
              "      <td>...</td>\n",
              "      <td>...</td>\n",
              "      <td>...</td>\n",
              "    </tr>\n",
              "    <tr>\n",
              "      <td>2712</td>\n",
              "      <td>1498</td>\n",
              "      <td>10</td>\n",
              "      <td>42</td>\n",
              "    </tr>\n",
              "    <tr>\n",
              "      <td>2713</td>\n",
              "      <td>1499</td>\n",
              "      <td>9</td>\n",
              "      <td>11</td>\n",
              "    </tr>\n",
              "    <tr>\n",
              "      <td>2714</td>\n",
              "      <td>1499</td>\n",
              "      <td>10</td>\n",
              "      <td>48</td>\n",
              "    </tr>\n",
              "    <tr>\n",
              "      <td>2715</td>\n",
              "      <td>1499</td>\n",
              "      <td>11</td>\n",
              "      <td>59</td>\n",
              "    </tr>\n",
              "    <tr>\n",
              "      <td>2716</td>\n",
              "      <td>1499</td>\n",
              "      <td>12</td>\n",
              "      <td>66</td>\n",
              "    </tr>\n",
              "  </tbody>\n",
              "</table>\n",
              "<p>2717 rows × 3 columns</p>\n",
              "</div>"
            ],
            "text/plain": [
              "      user_id  month  total_messages\n",
              "0        1000      5              22\n",
              "1        1000      6              60\n",
              "2        1000      7              75\n",
              "3        1000      8              81\n",
              "4        1000      9              57\n",
              "...       ...    ...             ...\n",
              "2712     1498     10              42\n",
              "2713     1499      9              11\n",
              "2714     1499     10              48\n",
              "2715     1499     11              59\n",
              "2716     1499     12              66\n",
              "\n",
              "[2717 rows x 3 columns]"
            ]
          },
          "metadata": {
            "tags": []
          }
        }
      ]
    },
    {
      "cell_type": "markdown",
      "metadata": {
        "id": "9bOZon9DtzoK"
      },
      "source": [
        "<ul style=\"border:solid black 2px; padding: 20px\">\n",
        "    <li>Объем израсходованного интернет-трафика по месяцам;</li>\n",
        "</ul> "
      ]
    },
    {
      "cell_type": "code",
      "metadata": {
        "id": "Me40tT_KtzoK",
        "outputId": "9d0de451-d1bb-48bb-acd8-afd537cdf598"
      },
      "source": [
        "display(internet)"
      ],
      "execution_count": null,
      "outputs": [
        {
          "output_type": "display_data",
          "data": {
            "text/html": [
              "<div>\n",
              "<style scoped>\n",
              "    .dataframe tbody tr th:only-of-type {\n",
              "        vertical-align: middle;\n",
              "    }\n",
              "\n",
              "    .dataframe tbody tr th {\n",
              "        vertical-align: top;\n",
              "    }\n",
              "\n",
              "    .dataframe thead th {\n",
              "        text-align: right;\n",
              "    }\n",
              "</style>\n",
              "<table border=\"1\" class=\"dataframe\">\n",
              "  <thead>\n",
              "    <tr style=\"text-align: right;\">\n",
              "      <th></th>\n",
              "      <th>id</th>\n",
              "      <th>gb_used</th>\n",
              "      <th>session_date</th>\n",
              "      <th>user_id</th>\n",
              "    </tr>\n",
              "  </thead>\n",
              "  <tbody>\n",
              "    <tr>\n",
              "      <td>0</td>\n",
              "      <td>10000</td>\n",
              "      <td>0.11</td>\n",
              "      <td>2018-11-25</td>\n",
              "      <td>1000</td>\n",
              "    </tr>\n",
              "    <tr>\n",
              "      <td>1</td>\n",
              "      <td>10001</td>\n",
              "      <td>1.03</td>\n",
              "      <td>2018-09-07</td>\n",
              "      <td>1000</td>\n",
              "    </tr>\n",
              "    <tr>\n",
              "      <td>2</td>\n",
              "      <td>10002</td>\n",
              "      <td>1.17</td>\n",
              "      <td>2018-06-25</td>\n",
              "      <td>1000</td>\n",
              "    </tr>\n",
              "    <tr>\n",
              "      <td>3</td>\n",
              "      <td>10003</td>\n",
              "      <td>0.54</td>\n",
              "      <td>2018-08-22</td>\n",
              "      <td>1000</td>\n",
              "    </tr>\n",
              "    <tr>\n",
              "      <td>4</td>\n",
              "      <td>10004</td>\n",
              "      <td>0.30</td>\n",
              "      <td>2018-09-24</td>\n",
              "      <td>1000</td>\n",
              "    </tr>\n",
              "    <tr>\n",
              "      <td>...</td>\n",
              "      <td>...</td>\n",
              "      <td>...</td>\n",
              "      <td>...</td>\n",
              "      <td>...</td>\n",
              "    </tr>\n",
              "    <tr>\n",
              "      <td>149391</td>\n",
              "      <td>1499152</td>\n",
              "      <td>0.31</td>\n",
              "      <td>2018-10-03</td>\n",
              "      <td>1499</td>\n",
              "    </tr>\n",
              "    <tr>\n",
              "      <td>149392</td>\n",
              "      <td>1499153</td>\n",
              "      <td>0.48</td>\n",
              "      <td>2018-12-14</td>\n",
              "      <td>1499</td>\n",
              "    </tr>\n",
              "    <tr>\n",
              "      <td>149393</td>\n",
              "      <td>1499154</td>\n",
              "      <td>0.00</td>\n",
              "      <td>2018-10-27</td>\n",
              "      <td>1499</td>\n",
              "    </tr>\n",
              "    <tr>\n",
              "      <td>149394</td>\n",
              "      <td>1499155</td>\n",
              "      <td>1.22</td>\n",
              "      <td>2018-11-26</td>\n",
              "      <td>1499</td>\n",
              "    </tr>\n",
              "    <tr>\n",
              "      <td>149395</td>\n",
              "      <td>1499156</td>\n",
              "      <td>0.53</td>\n",
              "      <td>2018-10-26</td>\n",
              "      <td>1499</td>\n",
              "    </tr>\n",
              "  </tbody>\n",
              "</table>\n",
              "<p>149396 rows × 4 columns</p>\n",
              "</div>"
            ],
            "text/plain": [
              "             id  gb_used session_date  user_id\n",
              "0         10000     0.11   2018-11-25     1000\n",
              "1         10001     1.03   2018-09-07     1000\n",
              "2         10002     1.17   2018-06-25     1000\n",
              "3         10003     0.54   2018-08-22     1000\n",
              "4         10004     0.30   2018-09-24     1000\n",
              "...         ...      ...          ...      ...\n",
              "149391  1499152     0.31   2018-10-03     1499\n",
              "149392  1499153     0.48   2018-12-14     1499\n",
              "149393  1499154     0.00   2018-10-27     1499\n",
              "149394  1499155     1.22   2018-11-26     1499\n",
              "149395  1499156     0.53   2018-10-26     1499\n",
              "\n",
              "[149396 rows x 4 columns]"
            ]
          },
          "metadata": {
            "tags": []
          }
        }
      ]
    },
    {
      "cell_type": "code",
      "metadata": {
        "id": "rxJxrUpatzoL"
      },
      "source": [
        "#internet[\"month\"] = internet['session_date'].dt.month_name()\n",
        "internet['month'] = pd.DatetimeIndex(internet['session_date']).month"
      ],
      "execution_count": null,
      "outputs": []
    },
    {
      "cell_type": "code",
      "metadata": {
        "id": "V2pPJhmbtzoL",
        "outputId": "d49e9ac1-76b8-4cb0-a6dd-a2a974f5ad03"
      },
      "source": [
        "display(internet)"
      ],
      "execution_count": null,
      "outputs": [
        {
          "output_type": "display_data",
          "data": {
            "text/html": [
              "<div>\n",
              "<style scoped>\n",
              "    .dataframe tbody tr th:only-of-type {\n",
              "        vertical-align: middle;\n",
              "    }\n",
              "\n",
              "    .dataframe tbody tr th {\n",
              "        vertical-align: top;\n",
              "    }\n",
              "\n",
              "    .dataframe thead th {\n",
              "        text-align: right;\n",
              "    }\n",
              "</style>\n",
              "<table border=\"1\" class=\"dataframe\">\n",
              "  <thead>\n",
              "    <tr style=\"text-align: right;\">\n",
              "      <th></th>\n",
              "      <th>id</th>\n",
              "      <th>gb_used</th>\n",
              "      <th>session_date</th>\n",
              "      <th>user_id</th>\n",
              "      <th>month</th>\n",
              "    </tr>\n",
              "  </thead>\n",
              "  <tbody>\n",
              "    <tr>\n",
              "      <td>0</td>\n",
              "      <td>10000</td>\n",
              "      <td>0.11</td>\n",
              "      <td>2018-11-25</td>\n",
              "      <td>1000</td>\n",
              "      <td>11</td>\n",
              "    </tr>\n",
              "    <tr>\n",
              "      <td>1</td>\n",
              "      <td>10001</td>\n",
              "      <td>1.03</td>\n",
              "      <td>2018-09-07</td>\n",
              "      <td>1000</td>\n",
              "      <td>9</td>\n",
              "    </tr>\n",
              "    <tr>\n",
              "      <td>2</td>\n",
              "      <td>10002</td>\n",
              "      <td>1.17</td>\n",
              "      <td>2018-06-25</td>\n",
              "      <td>1000</td>\n",
              "      <td>6</td>\n",
              "    </tr>\n",
              "    <tr>\n",
              "      <td>3</td>\n",
              "      <td>10003</td>\n",
              "      <td>0.54</td>\n",
              "      <td>2018-08-22</td>\n",
              "      <td>1000</td>\n",
              "      <td>8</td>\n",
              "    </tr>\n",
              "    <tr>\n",
              "      <td>4</td>\n",
              "      <td>10004</td>\n",
              "      <td>0.30</td>\n",
              "      <td>2018-09-24</td>\n",
              "      <td>1000</td>\n",
              "      <td>9</td>\n",
              "    </tr>\n",
              "    <tr>\n",
              "      <td>...</td>\n",
              "      <td>...</td>\n",
              "      <td>...</td>\n",
              "      <td>...</td>\n",
              "      <td>...</td>\n",
              "      <td>...</td>\n",
              "    </tr>\n",
              "    <tr>\n",
              "      <td>149391</td>\n",
              "      <td>1499152</td>\n",
              "      <td>0.31</td>\n",
              "      <td>2018-10-03</td>\n",
              "      <td>1499</td>\n",
              "      <td>10</td>\n",
              "    </tr>\n",
              "    <tr>\n",
              "      <td>149392</td>\n",
              "      <td>1499153</td>\n",
              "      <td>0.48</td>\n",
              "      <td>2018-12-14</td>\n",
              "      <td>1499</td>\n",
              "      <td>12</td>\n",
              "    </tr>\n",
              "    <tr>\n",
              "      <td>149393</td>\n",
              "      <td>1499154</td>\n",
              "      <td>0.00</td>\n",
              "      <td>2018-10-27</td>\n",
              "      <td>1499</td>\n",
              "      <td>10</td>\n",
              "    </tr>\n",
              "    <tr>\n",
              "      <td>149394</td>\n",
              "      <td>1499155</td>\n",
              "      <td>1.22</td>\n",
              "      <td>2018-11-26</td>\n",
              "      <td>1499</td>\n",
              "      <td>11</td>\n",
              "    </tr>\n",
              "    <tr>\n",
              "      <td>149395</td>\n",
              "      <td>1499156</td>\n",
              "      <td>0.53</td>\n",
              "      <td>2018-10-26</td>\n",
              "      <td>1499</td>\n",
              "      <td>10</td>\n",
              "    </tr>\n",
              "  </tbody>\n",
              "</table>\n",
              "<p>149396 rows × 5 columns</p>\n",
              "</div>"
            ],
            "text/plain": [
              "             id  gb_used session_date  user_id  month\n",
              "0         10000     0.11   2018-11-25     1000     11\n",
              "1         10001     1.03   2018-09-07     1000      9\n",
              "2         10002     1.17   2018-06-25     1000      6\n",
              "3         10003     0.54   2018-08-22     1000      8\n",
              "4         10004     0.30   2018-09-24     1000      9\n",
              "...         ...      ...          ...      ...    ...\n",
              "149391  1499152     0.31   2018-10-03     1499     10\n",
              "149392  1499153     0.48   2018-12-14     1499     12\n",
              "149393  1499154     0.00   2018-10-27     1499     10\n",
              "149394  1499155     1.22   2018-11-26     1499     11\n",
              "149395  1499156     0.53   2018-10-26     1499     10\n",
              "\n",
              "[149396 rows x 5 columns]"
            ]
          },
          "metadata": {
            "tags": []
          }
        }
      ]
    },
    {
      "cell_type": "code",
      "metadata": {
        "id": "ll4CGKsBtzoL"
      },
      "source": [
        "#user_internet = internet.pivot_table(index = ['user_id','session_month'],values = ['mb_used'], aggfunc = {'mb_used':'sum'}).reset_index().rename(columns={'mb_used':'total_mb_used'})\n",
        "users_internet = internet.groupby(['user_id','month']).agg({'gb_used':'sum'}).reset_index().rename(columns={'gb_used':'total_gb_used'})"
      ],
      "execution_count": null,
      "outputs": []
    },
    {
      "cell_type": "code",
      "metadata": {
        "id": "hoXadTuttzoL",
        "outputId": "c1ab1950-8e43-43a3-cfbf-5e772df93211"
      },
      "source": [
        "#display(user_internet)\n",
        "display(users_internet)"
      ],
      "execution_count": null,
      "outputs": [
        {
          "output_type": "display_data",
          "data": {
            "text/html": [
              "<div>\n",
              "<style scoped>\n",
              "    .dataframe tbody tr th:only-of-type {\n",
              "        vertical-align: middle;\n",
              "    }\n",
              "\n",
              "    .dataframe tbody tr th {\n",
              "        vertical-align: top;\n",
              "    }\n",
              "\n",
              "    .dataframe thead th {\n",
              "        text-align: right;\n",
              "    }\n",
              "</style>\n",
              "<table border=\"1\" class=\"dataframe\">\n",
              "  <thead>\n",
              "    <tr style=\"text-align: right;\">\n",
              "      <th></th>\n",
              "      <th>user_id</th>\n",
              "      <th>month</th>\n",
              "      <th>total_gb_used</th>\n",
              "    </tr>\n",
              "  </thead>\n",
              "  <tbody>\n",
              "    <tr>\n",
              "      <td>0</td>\n",
              "      <td>1000</td>\n",
              "      <td>5</td>\n",
              "      <td>2.20</td>\n",
              "    </tr>\n",
              "    <tr>\n",
              "      <td>1</td>\n",
              "      <td>1000</td>\n",
              "      <td>6</td>\n",
              "      <td>22.71</td>\n",
              "    </tr>\n",
              "    <tr>\n",
              "      <td>2</td>\n",
              "      <td>1000</td>\n",
              "      <td>7</td>\n",
              "      <td>13.69</td>\n",
              "    </tr>\n",
              "    <tr>\n",
              "      <td>3</td>\n",
              "      <td>1000</td>\n",
              "      <td>8</td>\n",
              "      <td>13.74</td>\n",
              "    </tr>\n",
              "    <tr>\n",
              "      <td>4</td>\n",
              "      <td>1000</td>\n",
              "      <td>9</td>\n",
              "      <td>14.24</td>\n",
              "    </tr>\n",
              "    <tr>\n",
              "      <td>...</td>\n",
              "      <td>...</td>\n",
              "      <td>...</td>\n",
              "      <td>...</td>\n",
              "    </tr>\n",
              "    <tr>\n",
              "      <td>3198</td>\n",
              "      <td>1498</td>\n",
              "      <td>10</td>\n",
              "      <td>20.12</td>\n",
              "    </tr>\n",
              "    <tr>\n",
              "      <td>3199</td>\n",
              "      <td>1499</td>\n",
              "      <td>9</td>\n",
              "      <td>1.80</td>\n",
              "    </tr>\n",
              "    <tr>\n",
              "      <td>3200</td>\n",
              "      <td>1499</td>\n",
              "      <td>10</td>\n",
              "      <td>17.39</td>\n",
              "    </tr>\n",
              "    <tr>\n",
              "      <td>3201</td>\n",
              "      <td>1499</td>\n",
              "      <td>11</td>\n",
              "      <td>17.56</td>\n",
              "    </tr>\n",
              "    <tr>\n",
              "      <td>3202</td>\n",
              "      <td>1499</td>\n",
              "      <td>12</td>\n",
              "      <td>12.77</td>\n",
              "    </tr>\n",
              "  </tbody>\n",
              "</table>\n",
              "<p>3203 rows × 3 columns</p>\n",
              "</div>"
            ],
            "text/plain": [
              "      user_id  month  total_gb_used\n",
              "0        1000      5           2.20\n",
              "1        1000      6          22.71\n",
              "2        1000      7          13.69\n",
              "3        1000      8          13.74\n",
              "4        1000      9          14.24\n",
              "...       ...    ...            ...\n",
              "3198     1498     10          20.12\n",
              "3199     1499      9           1.80\n",
              "3200     1499     10          17.39\n",
              "3201     1499     11          17.56\n",
              "3202     1499     12          12.77\n",
              "\n",
              "[3203 rows x 3 columns]"
            ]
          },
          "metadata": {
            "tags": []
          }
        }
      ]
    },
    {
      "cell_type": "markdown",
      "metadata": {
        "id": "yXCY3sNetzoL"
      },
      "source": [
        "<ul style=\"border:solid black 2px; padding: 20px\">\n",
        "    <li>Помесячную выручку с каждого пользователя (вычтите бесплатный лимит из суммарного количества звонков, сообщений и интернет-трафика; остаток умножьте на значение из тарифного плана; прибавьте абонентскую плату, соответствующую тарифному плану).</li>\n",
        "</ul> "
      ]
    },
    {
      "cell_type": "markdown",
      "metadata": {
        "id": "y8_lgfWUtzoL"
      },
      "source": [
        "<b>Для данного раздела необходимо склеить сгруппированные нами таблицы в одну. Для этого применим метод merge()</b>"
      ]
    },
    {
      "cell_type": "code",
      "metadata": {
        "id": "fcTkAW8JtzoM",
        "outputId": "c3e830e2-6ed8-4aff-97f7-0f4ff9c5b72f"
      },
      "source": [
        "df = users_calls.merge(users_messages, on = ['user_id','month'], how = 'outer')\n",
        "display(df)"
      ],
      "execution_count": null,
      "outputs": [
        {
          "output_type": "display_data",
          "data": {
            "text/html": [
              "<div>\n",
              "<style scoped>\n",
              "    .dataframe tbody tr th:only-of-type {\n",
              "        vertical-align: middle;\n",
              "    }\n",
              "\n",
              "    .dataframe tbody tr th {\n",
              "        vertical-align: top;\n",
              "    }\n",
              "\n",
              "    .dataframe thead th {\n",
              "        text-align: right;\n",
              "    }\n",
              "</style>\n",
              "<table border=\"1\" class=\"dataframe\">\n",
              "  <thead>\n",
              "    <tr style=\"text-align: right;\">\n",
              "      <th></th>\n",
              "      <th>user_id</th>\n",
              "      <th>month</th>\n",
              "      <th>total_duration</th>\n",
              "      <th>total_calls</th>\n",
              "      <th>total_messages</th>\n",
              "    </tr>\n",
              "  </thead>\n",
              "  <tbody>\n",
              "    <tr>\n",
              "      <td>0</td>\n",
              "      <td>1000</td>\n",
              "      <td>5</td>\n",
              "      <td>164.00</td>\n",
              "      <td>22.00</td>\n",
              "      <td>22.00</td>\n",
              "    </tr>\n",
              "    <tr>\n",
              "      <td>1</td>\n",
              "      <td>1000</td>\n",
              "      <td>6</td>\n",
              "      <td>187.00</td>\n",
              "      <td>43.00</td>\n",
              "      <td>60.00</td>\n",
              "    </tr>\n",
              "    <tr>\n",
              "      <td>2</td>\n",
              "      <td>1000</td>\n",
              "      <td>7</td>\n",
              "      <td>346.00</td>\n",
              "      <td>47.00</td>\n",
              "      <td>75.00</td>\n",
              "    </tr>\n",
              "    <tr>\n",
              "      <td>3</td>\n",
              "      <td>1000</td>\n",
              "      <td>8</td>\n",
              "      <td>418.00</td>\n",
              "      <td>52.00</td>\n",
              "      <td>81.00</td>\n",
              "    </tr>\n",
              "    <tr>\n",
              "      <td>4</td>\n",
              "      <td>1000</td>\n",
              "      <td>9</td>\n",
              "      <td>478.00</td>\n",
              "      <td>58.00</td>\n",
              "      <td>57.00</td>\n",
              "    </tr>\n",
              "    <tr>\n",
              "      <td>...</td>\n",
              "      <td>...</td>\n",
              "      <td>...</td>\n",
              "      <td>...</td>\n",
              "      <td>...</td>\n",
              "      <td>...</td>\n",
              "    </tr>\n",
              "    <tr>\n",
              "      <td>3208</td>\n",
              "      <td>1489</td>\n",
              "      <td>8</td>\n",
              "      <td>nan</td>\n",
              "      <td>nan</td>\n",
              "      <td>17.00</td>\n",
              "    </tr>\n",
              "    <tr>\n",
              "      <td>3209</td>\n",
              "      <td>1489</td>\n",
              "      <td>9</td>\n",
              "      <td>nan</td>\n",
              "      <td>nan</td>\n",
              "      <td>32.00</td>\n",
              "    </tr>\n",
              "    <tr>\n",
              "      <td>3210</td>\n",
              "      <td>1489</td>\n",
              "      <td>10</td>\n",
              "      <td>nan</td>\n",
              "      <td>nan</td>\n",
              "      <td>21.00</td>\n",
              "    </tr>\n",
              "    <tr>\n",
              "      <td>3211</td>\n",
              "      <td>1489</td>\n",
              "      <td>11</td>\n",
              "      <td>nan</td>\n",
              "      <td>nan</td>\n",
              "      <td>20.00</td>\n",
              "    </tr>\n",
              "    <tr>\n",
              "      <td>3212</td>\n",
              "      <td>1489</td>\n",
              "      <td>12</td>\n",
              "      <td>nan</td>\n",
              "      <td>nan</td>\n",
              "      <td>35.00</td>\n",
              "    </tr>\n",
              "  </tbody>\n",
              "</table>\n",
              "<p>3213 rows × 5 columns</p>\n",
              "</div>"
            ],
            "text/plain": [
              "      user_id  month  total_duration  total_calls  total_messages\n",
              "0        1000      5          164.00        22.00           22.00\n",
              "1        1000      6          187.00        43.00           60.00\n",
              "2        1000      7          346.00        47.00           75.00\n",
              "3        1000      8          418.00        52.00           81.00\n",
              "4        1000      9          478.00        58.00           57.00\n",
              "...       ...    ...             ...          ...             ...\n",
              "3208     1489      8             nan          nan           17.00\n",
              "3209     1489      9             nan          nan           32.00\n",
              "3210     1489     10             nan          nan           21.00\n",
              "3211     1489     11             nan          nan           20.00\n",
              "3212     1489     12             nan          nan           35.00\n",
              "\n",
              "[3213 rows x 5 columns]"
            ]
          },
          "metadata": {
            "tags": []
          }
        }
      ]
    },
    {
      "cell_type": "code",
      "metadata": {
        "id": "B-nZ7FMztzoM",
        "outputId": "dc8cfa44-92aa-40ec-eabd-9f89a2193fcf"
      },
      "source": [
        "df = df.merge(users_internet, on = ['user_id','month'], how = 'outer')\n",
        "display(df)"
      ],
      "execution_count": null,
      "outputs": [
        {
          "output_type": "display_data",
          "data": {
            "text/html": [
              "<div>\n",
              "<style scoped>\n",
              "    .dataframe tbody tr th:only-of-type {\n",
              "        vertical-align: middle;\n",
              "    }\n",
              "\n",
              "    .dataframe tbody tr th {\n",
              "        vertical-align: top;\n",
              "    }\n",
              "\n",
              "    .dataframe thead th {\n",
              "        text-align: right;\n",
              "    }\n",
              "</style>\n",
              "<table border=\"1\" class=\"dataframe\">\n",
              "  <thead>\n",
              "    <tr style=\"text-align: right;\">\n",
              "      <th></th>\n",
              "      <th>user_id</th>\n",
              "      <th>month</th>\n",
              "      <th>total_duration</th>\n",
              "      <th>total_calls</th>\n",
              "      <th>total_messages</th>\n",
              "      <th>total_gb_used</th>\n",
              "    </tr>\n",
              "  </thead>\n",
              "  <tbody>\n",
              "    <tr>\n",
              "      <td>0</td>\n",
              "      <td>1000</td>\n",
              "      <td>5</td>\n",
              "      <td>164.00</td>\n",
              "      <td>22.00</td>\n",
              "      <td>22.00</td>\n",
              "      <td>2.20</td>\n",
              "    </tr>\n",
              "    <tr>\n",
              "      <td>1</td>\n",
              "      <td>1000</td>\n",
              "      <td>6</td>\n",
              "      <td>187.00</td>\n",
              "      <td>43.00</td>\n",
              "      <td>60.00</td>\n",
              "      <td>22.71</td>\n",
              "    </tr>\n",
              "    <tr>\n",
              "      <td>2</td>\n",
              "      <td>1000</td>\n",
              "      <td>7</td>\n",
              "      <td>346.00</td>\n",
              "      <td>47.00</td>\n",
              "      <td>75.00</td>\n",
              "      <td>13.69</td>\n",
              "    </tr>\n",
              "    <tr>\n",
              "      <td>3</td>\n",
              "      <td>1000</td>\n",
              "      <td>8</td>\n",
              "      <td>418.00</td>\n",
              "      <td>52.00</td>\n",
              "      <td>81.00</td>\n",
              "      <td>13.74</td>\n",
              "    </tr>\n",
              "    <tr>\n",
              "      <td>4</td>\n",
              "      <td>1000</td>\n",
              "      <td>9</td>\n",
              "      <td>478.00</td>\n",
              "      <td>58.00</td>\n",
              "      <td>57.00</td>\n",
              "      <td>14.24</td>\n",
              "    </tr>\n",
              "    <tr>\n",
              "      <td>...</td>\n",
              "      <td>...</td>\n",
              "      <td>...</td>\n",
              "      <td>...</td>\n",
              "      <td>...</td>\n",
              "      <td>...</td>\n",
              "      <td>...</td>\n",
              "    </tr>\n",
              "    <tr>\n",
              "      <td>3209</td>\n",
              "      <td>1489</td>\n",
              "      <td>9</td>\n",
              "      <td>nan</td>\n",
              "      <td>nan</td>\n",
              "      <td>32.00</td>\n",
              "      <td>16.83</td>\n",
              "    </tr>\n",
              "    <tr>\n",
              "      <td>3210</td>\n",
              "      <td>1489</td>\n",
              "      <td>10</td>\n",
              "      <td>nan</td>\n",
              "      <td>nan</td>\n",
              "      <td>21.00</td>\n",
              "      <td>19.13</td>\n",
              "    </tr>\n",
              "    <tr>\n",
              "      <td>3211</td>\n",
              "      <td>1489</td>\n",
              "      <td>11</td>\n",
              "      <td>nan</td>\n",
              "      <td>nan</td>\n",
              "      <td>20.00</td>\n",
              "      <td>17.11</td>\n",
              "    </tr>\n",
              "    <tr>\n",
              "      <td>3212</td>\n",
              "      <td>1489</td>\n",
              "      <td>12</td>\n",
              "      <td>nan</td>\n",
              "      <td>nan</td>\n",
              "      <td>35.00</td>\n",
              "      <td>16.93</td>\n",
              "    </tr>\n",
              "    <tr>\n",
              "      <td>3213</td>\n",
              "      <td>1476</td>\n",
              "      <td>4</td>\n",
              "      <td>nan</td>\n",
              "      <td>nan</td>\n",
              "      <td>nan</td>\n",
              "      <td>0.52</td>\n",
              "    </tr>\n",
              "  </tbody>\n",
              "</table>\n",
              "<p>3214 rows × 6 columns</p>\n",
              "</div>"
            ],
            "text/plain": [
              "      user_id  month  total_duration  total_calls  total_messages  \\\n",
              "0        1000      5          164.00        22.00           22.00   \n",
              "1        1000      6          187.00        43.00           60.00   \n",
              "2        1000      7          346.00        47.00           75.00   \n",
              "3        1000      8          418.00        52.00           81.00   \n",
              "4        1000      9          478.00        58.00           57.00   \n",
              "...       ...    ...             ...          ...             ...   \n",
              "3209     1489      9             nan          nan           32.00   \n",
              "3210     1489     10             nan          nan           21.00   \n",
              "3211     1489     11             nan          nan           20.00   \n",
              "3212     1489     12             nan          nan           35.00   \n",
              "3213     1476      4             nan          nan             nan   \n",
              "\n",
              "      total_gb_used  \n",
              "0              2.20  \n",
              "1             22.71  \n",
              "2             13.69  \n",
              "3             13.74  \n",
              "4             14.24  \n",
              "...             ...  \n",
              "3209          16.83  \n",
              "3210          19.13  \n",
              "3211          17.11  \n",
              "3212          16.93  \n",
              "3213           0.52  \n",
              "\n",
              "[3214 rows x 6 columns]"
            ]
          },
          "metadata": {
            "tags": []
          }
        }
      ]
    },
    {
      "cell_type": "markdown",
      "metadata": {
        "id": "jAFy_leKtzoM"
      },
      "source": [
        "<b>К полученой таблице склеим таблицу users и tariffs</b>"
      ]
    },
    {
      "cell_type": "code",
      "metadata": {
        "id": "-Gr-E_gXtzoM",
        "outputId": "b07d36bf-9122-476c-ed4d-53a4b62ca7ad"
      },
      "source": [
        "# <в итоговую таблицу включим id из левой таблицы>\n",
        "df = df.merge(users, on = 'user_id', how = 'left')\n",
        "display(df)"
      ],
      "execution_count": null,
      "outputs": [
        {
          "output_type": "display_data",
          "data": {
            "text/html": [
              "<div>\n",
              "<style scoped>\n",
              "    .dataframe tbody tr th:only-of-type {\n",
              "        vertical-align: middle;\n",
              "    }\n",
              "\n",
              "    .dataframe tbody tr th {\n",
              "        vertical-align: top;\n",
              "    }\n",
              "\n",
              "    .dataframe thead th {\n",
              "        text-align: right;\n",
              "    }\n",
              "</style>\n",
              "<table border=\"1\" class=\"dataframe\">\n",
              "  <thead>\n",
              "    <tr style=\"text-align: right;\">\n",
              "      <th></th>\n",
              "      <th>user_id</th>\n",
              "      <th>month</th>\n",
              "      <th>total_duration</th>\n",
              "      <th>total_calls</th>\n",
              "      <th>total_messages</th>\n",
              "      <th>total_gb_used</th>\n",
              "      <th>age</th>\n",
              "      <th>churn_date</th>\n",
              "      <th>city</th>\n",
              "      <th>first_name</th>\n",
              "      <th>last_name</th>\n",
              "      <th>reg_date</th>\n",
              "      <th>tariff</th>\n",
              "    </tr>\n",
              "  </thead>\n",
              "  <tbody>\n",
              "    <tr>\n",
              "      <td>0</td>\n",
              "      <td>1000</td>\n",
              "      <td>5</td>\n",
              "      <td>164.00</td>\n",
              "      <td>22.00</td>\n",
              "      <td>22.00</td>\n",
              "      <td>2.20</td>\n",
              "      <td>52</td>\n",
              "      <td>NaT</td>\n",
              "      <td>Краснодар</td>\n",
              "      <td>Рафаил</td>\n",
              "      <td>Верещагин</td>\n",
              "      <td>2018-05-25</td>\n",
              "      <td>ultra</td>\n",
              "    </tr>\n",
              "    <tr>\n",
              "      <td>1</td>\n",
              "      <td>1000</td>\n",
              "      <td>6</td>\n",
              "      <td>187.00</td>\n",
              "      <td>43.00</td>\n",
              "      <td>60.00</td>\n",
              "      <td>22.71</td>\n",
              "      <td>52</td>\n",
              "      <td>NaT</td>\n",
              "      <td>Краснодар</td>\n",
              "      <td>Рафаил</td>\n",
              "      <td>Верещагин</td>\n",
              "      <td>2018-05-25</td>\n",
              "      <td>ultra</td>\n",
              "    </tr>\n",
              "    <tr>\n",
              "      <td>2</td>\n",
              "      <td>1000</td>\n",
              "      <td>7</td>\n",
              "      <td>346.00</td>\n",
              "      <td>47.00</td>\n",
              "      <td>75.00</td>\n",
              "      <td>13.69</td>\n",
              "      <td>52</td>\n",
              "      <td>NaT</td>\n",
              "      <td>Краснодар</td>\n",
              "      <td>Рафаил</td>\n",
              "      <td>Верещагин</td>\n",
              "      <td>2018-05-25</td>\n",
              "      <td>ultra</td>\n",
              "    </tr>\n",
              "    <tr>\n",
              "      <td>3</td>\n",
              "      <td>1000</td>\n",
              "      <td>8</td>\n",
              "      <td>418.00</td>\n",
              "      <td>52.00</td>\n",
              "      <td>81.00</td>\n",
              "      <td>13.74</td>\n",
              "      <td>52</td>\n",
              "      <td>NaT</td>\n",
              "      <td>Краснодар</td>\n",
              "      <td>Рафаил</td>\n",
              "      <td>Верещагин</td>\n",
              "      <td>2018-05-25</td>\n",
              "      <td>ultra</td>\n",
              "    </tr>\n",
              "    <tr>\n",
              "      <td>4</td>\n",
              "      <td>1000</td>\n",
              "      <td>9</td>\n",
              "      <td>478.00</td>\n",
              "      <td>58.00</td>\n",
              "      <td>57.00</td>\n",
              "      <td>14.24</td>\n",
              "      <td>52</td>\n",
              "      <td>NaT</td>\n",
              "      <td>Краснодар</td>\n",
              "      <td>Рафаил</td>\n",
              "      <td>Верещагин</td>\n",
              "      <td>2018-05-25</td>\n",
              "      <td>ultra</td>\n",
              "    </tr>\n",
              "    <tr>\n",
              "      <td>...</td>\n",
              "      <td>...</td>\n",
              "      <td>...</td>\n",
              "      <td>...</td>\n",
              "      <td>...</td>\n",
              "      <td>...</td>\n",
              "      <td>...</td>\n",
              "      <td>...</td>\n",
              "      <td>...</td>\n",
              "      <td>...</td>\n",
              "      <td>...</td>\n",
              "      <td>...</td>\n",
              "      <td>...</td>\n",
              "      <td>...</td>\n",
              "    </tr>\n",
              "    <tr>\n",
              "      <td>3209</td>\n",
              "      <td>1489</td>\n",
              "      <td>9</td>\n",
              "      <td>nan</td>\n",
              "      <td>nan</td>\n",
              "      <td>32.00</td>\n",
              "      <td>16.83</td>\n",
              "      <td>35</td>\n",
              "      <td>NaT</td>\n",
              "      <td>Санкт-Петербург</td>\n",
              "      <td>Павел</td>\n",
              "      <td>Гончаров</td>\n",
              "      <td>2018-08-15</td>\n",
              "      <td>smart</td>\n",
              "    </tr>\n",
              "    <tr>\n",
              "      <td>3210</td>\n",
              "      <td>1489</td>\n",
              "      <td>10</td>\n",
              "      <td>nan</td>\n",
              "      <td>nan</td>\n",
              "      <td>21.00</td>\n",
              "      <td>19.13</td>\n",
              "      <td>35</td>\n",
              "      <td>NaT</td>\n",
              "      <td>Санкт-Петербург</td>\n",
              "      <td>Павел</td>\n",
              "      <td>Гончаров</td>\n",
              "      <td>2018-08-15</td>\n",
              "      <td>smart</td>\n",
              "    </tr>\n",
              "    <tr>\n",
              "      <td>3211</td>\n",
              "      <td>1489</td>\n",
              "      <td>11</td>\n",
              "      <td>nan</td>\n",
              "      <td>nan</td>\n",
              "      <td>20.00</td>\n",
              "      <td>17.11</td>\n",
              "      <td>35</td>\n",
              "      <td>NaT</td>\n",
              "      <td>Санкт-Петербург</td>\n",
              "      <td>Павел</td>\n",
              "      <td>Гончаров</td>\n",
              "      <td>2018-08-15</td>\n",
              "      <td>smart</td>\n",
              "    </tr>\n",
              "    <tr>\n",
              "      <td>3212</td>\n",
              "      <td>1489</td>\n",
              "      <td>12</td>\n",
              "      <td>nan</td>\n",
              "      <td>nan</td>\n",
              "      <td>35.00</td>\n",
              "      <td>16.93</td>\n",
              "      <td>35</td>\n",
              "      <td>NaT</td>\n",
              "      <td>Санкт-Петербург</td>\n",
              "      <td>Павел</td>\n",
              "      <td>Гончаров</td>\n",
              "      <td>2018-08-15</td>\n",
              "      <td>smart</td>\n",
              "    </tr>\n",
              "    <tr>\n",
              "      <td>3213</td>\n",
              "      <td>1476</td>\n",
              "      <td>4</td>\n",
              "      <td>nan</td>\n",
              "      <td>nan</td>\n",
              "      <td>nan</td>\n",
              "      <td>0.52</td>\n",
              "      <td>50</td>\n",
              "      <td>NaT</td>\n",
              "      <td>Москва</td>\n",
              "      <td>Валентина</td>\n",
              "      <td>Семенова</td>\n",
              "      <td>2018-04-30</td>\n",
              "      <td>ultra</td>\n",
              "    </tr>\n",
              "  </tbody>\n",
              "</table>\n",
              "<p>3214 rows × 13 columns</p>\n",
              "</div>"
            ],
            "text/plain": [
              "      user_id  month  total_duration  total_calls  total_messages  \\\n",
              "0        1000      5          164.00        22.00           22.00   \n",
              "1        1000      6          187.00        43.00           60.00   \n",
              "2        1000      7          346.00        47.00           75.00   \n",
              "3        1000      8          418.00        52.00           81.00   \n",
              "4        1000      9          478.00        58.00           57.00   \n",
              "...       ...    ...             ...          ...             ...   \n",
              "3209     1489      9             nan          nan           32.00   \n",
              "3210     1489     10             nan          nan           21.00   \n",
              "3211     1489     11             nan          nan           20.00   \n",
              "3212     1489     12             nan          nan           35.00   \n",
              "3213     1476      4             nan          nan             nan   \n",
              "\n",
              "      total_gb_used  age churn_date             city first_name  last_name  \\\n",
              "0              2.20   52        NaT        Краснодар     Рафаил  Верещагин   \n",
              "1             22.71   52        NaT        Краснодар     Рафаил  Верещагин   \n",
              "2             13.69   52        NaT        Краснодар     Рафаил  Верещагин   \n",
              "3             13.74   52        NaT        Краснодар     Рафаил  Верещагин   \n",
              "4             14.24   52        NaT        Краснодар     Рафаил  Верещагин   \n",
              "...             ...  ...        ...              ...        ...        ...   \n",
              "3209          16.83   35        NaT  Санкт-Петербург      Павел   Гончаров   \n",
              "3210          19.13   35        NaT  Санкт-Петербург      Павел   Гончаров   \n",
              "3211          17.11   35        NaT  Санкт-Петербург      Павел   Гончаров   \n",
              "3212          16.93   35        NaT  Санкт-Петербург      Павел   Гончаров   \n",
              "3213           0.52   50        NaT           Москва  Валентина   Семенова   \n",
              "\n",
              "       reg_date tariff  \n",
              "0    2018-05-25  ultra  \n",
              "1    2018-05-25  ultra  \n",
              "2    2018-05-25  ultra  \n",
              "3    2018-05-25  ultra  \n",
              "4    2018-05-25  ultra  \n",
              "...         ...    ...  \n",
              "3209 2018-08-15  smart  \n",
              "3210 2018-08-15  smart  \n",
              "3211 2018-08-15  smart  \n",
              "3212 2018-08-15  smart  \n",
              "3213 2018-04-30  ultra  \n",
              "\n",
              "[3214 rows x 13 columns]"
            ]
          },
          "metadata": {
            "tags": []
          }
        }
      ]
    },
    {
      "cell_type": "code",
      "metadata": {
        "id": "PSCTf2NxtzoN",
        "outputId": "beaa2322-7529-4ca8-bdb6-f7ccd092c16e"
      },
      "source": [
        "display(tariffs)"
      ],
      "execution_count": null,
      "outputs": [
        {
          "output_type": "display_data",
          "data": {
            "text/html": [
              "<div>\n",
              "<style scoped>\n",
              "    .dataframe tbody tr th:only-of-type {\n",
              "        vertical-align: middle;\n",
              "    }\n",
              "\n",
              "    .dataframe tbody tr th {\n",
              "        vertical-align: top;\n",
              "    }\n",
              "\n",
              "    .dataframe thead th {\n",
              "        text-align: right;\n",
              "    }\n",
              "</style>\n",
              "<table border=\"1\" class=\"dataframe\">\n",
              "  <thead>\n",
              "    <tr style=\"text-align: right;\">\n",
              "      <th></th>\n",
              "      <th>messages_included</th>\n",
              "      <th>gb_per_month_included</th>\n",
              "      <th>minutes_included</th>\n",
              "      <th>rub_monthly_fee</th>\n",
              "      <th>rub_per_gb</th>\n",
              "      <th>rub_per_message</th>\n",
              "      <th>rub_per_minute</th>\n",
              "      <th>tariff_name</th>\n",
              "    </tr>\n",
              "  </thead>\n",
              "  <tbody>\n",
              "    <tr>\n",
              "      <td>0</td>\n",
              "      <td>50</td>\n",
              "      <td>15.00</td>\n",
              "      <td>500</td>\n",
              "      <td>550</td>\n",
              "      <td>200</td>\n",
              "      <td>3</td>\n",
              "      <td>3</td>\n",
              "      <td>smart</td>\n",
              "    </tr>\n",
              "    <tr>\n",
              "      <td>1</td>\n",
              "      <td>1000</td>\n",
              "      <td>30.00</td>\n",
              "      <td>3000</td>\n",
              "      <td>1950</td>\n",
              "      <td>150</td>\n",
              "      <td>1</td>\n",
              "      <td>1</td>\n",
              "      <td>ultra</td>\n",
              "    </tr>\n",
              "  </tbody>\n",
              "</table>\n",
              "</div>"
            ],
            "text/plain": [
              "   messages_included  gb_per_month_included  minutes_included  \\\n",
              "0                 50                  15.00               500   \n",
              "1               1000                  30.00              3000   \n",
              "\n",
              "   rub_monthly_fee  rub_per_gb  rub_per_message  rub_per_minute tariff_name  \n",
              "0              550         200                3               3       smart  \n",
              "1             1950         150                1               1       ultra  "
            ]
          },
          "metadata": {
            "tags": []
          }
        }
      ]
    },
    {
      "cell_type": "code",
      "metadata": {
        "id": "YXWIOWuOtzoN"
      },
      "source": [
        "# <переименуем название столбца 'tariff_name', по нему будем склеивать таблицы>\n",
        "tariffs = tariffs.rename(columns = {'tariff_name':'tariff'})"
      ],
      "execution_count": null,
      "outputs": []
    },
    {
      "cell_type": "code",
      "metadata": {
        "id": "jSRdwr10tzoN",
        "outputId": "26fdce66-9eab-4d69-84f9-f2811a8ac26e"
      },
      "source": [
        "print(tariffs.columns)"
      ],
      "execution_count": null,
      "outputs": [
        {
          "output_type": "stream",
          "text": [
            "Index(['messages_included', 'gb_per_month_included', 'minutes_included',\n",
            "       'rub_monthly_fee', 'rub_per_gb', 'rub_per_message', 'rub_per_minute',\n",
            "       'tariff'],\n",
            "      dtype='object')\n"
          ],
          "name": "stdout"
        }
      ]
    },
    {
      "cell_type": "code",
      "metadata": {
        "id": "RXRBXENWtzoN",
        "outputId": "a645ba58-6353-4a20-d798-76990d70fc4e"
      },
      "source": [
        "df = df.merge(tariffs, on = 'tariff', how = 'left')\n",
        "display(df)"
      ],
      "execution_count": null,
      "outputs": [
        {
          "output_type": "display_data",
          "data": {
            "text/html": [
              "<div>\n",
              "<style scoped>\n",
              "    .dataframe tbody tr th:only-of-type {\n",
              "        vertical-align: middle;\n",
              "    }\n",
              "\n",
              "    .dataframe tbody tr th {\n",
              "        vertical-align: top;\n",
              "    }\n",
              "\n",
              "    .dataframe thead th {\n",
              "        text-align: right;\n",
              "    }\n",
              "</style>\n",
              "<table border=\"1\" class=\"dataframe\">\n",
              "  <thead>\n",
              "    <tr style=\"text-align: right;\">\n",
              "      <th></th>\n",
              "      <th>user_id</th>\n",
              "      <th>month</th>\n",
              "      <th>total_duration</th>\n",
              "      <th>total_calls</th>\n",
              "      <th>total_messages</th>\n",
              "      <th>total_gb_used</th>\n",
              "      <th>age</th>\n",
              "      <th>churn_date</th>\n",
              "      <th>city</th>\n",
              "      <th>first_name</th>\n",
              "      <th>last_name</th>\n",
              "      <th>reg_date</th>\n",
              "      <th>tariff</th>\n",
              "      <th>messages_included</th>\n",
              "      <th>gb_per_month_included</th>\n",
              "      <th>minutes_included</th>\n",
              "      <th>rub_monthly_fee</th>\n",
              "      <th>rub_per_gb</th>\n",
              "      <th>rub_per_message</th>\n",
              "      <th>rub_per_minute</th>\n",
              "    </tr>\n",
              "  </thead>\n",
              "  <tbody>\n",
              "    <tr>\n",
              "      <td>0</td>\n",
              "      <td>1000</td>\n",
              "      <td>5</td>\n",
              "      <td>164.00</td>\n",
              "      <td>22.00</td>\n",
              "      <td>22.00</td>\n",
              "      <td>2.20</td>\n",
              "      <td>52</td>\n",
              "      <td>NaT</td>\n",
              "      <td>Краснодар</td>\n",
              "      <td>Рафаил</td>\n",
              "      <td>Верещагин</td>\n",
              "      <td>2018-05-25</td>\n",
              "      <td>ultra</td>\n",
              "      <td>1000</td>\n",
              "      <td>30.00</td>\n",
              "      <td>3000</td>\n",
              "      <td>1950</td>\n",
              "      <td>150</td>\n",
              "      <td>1</td>\n",
              "      <td>1</td>\n",
              "    </tr>\n",
              "    <tr>\n",
              "      <td>1</td>\n",
              "      <td>1000</td>\n",
              "      <td>6</td>\n",
              "      <td>187.00</td>\n",
              "      <td>43.00</td>\n",
              "      <td>60.00</td>\n",
              "      <td>22.71</td>\n",
              "      <td>52</td>\n",
              "      <td>NaT</td>\n",
              "      <td>Краснодар</td>\n",
              "      <td>Рафаил</td>\n",
              "      <td>Верещагин</td>\n",
              "      <td>2018-05-25</td>\n",
              "      <td>ultra</td>\n",
              "      <td>1000</td>\n",
              "      <td>30.00</td>\n",
              "      <td>3000</td>\n",
              "      <td>1950</td>\n",
              "      <td>150</td>\n",
              "      <td>1</td>\n",
              "      <td>1</td>\n",
              "    </tr>\n",
              "    <tr>\n",
              "      <td>2</td>\n",
              "      <td>1000</td>\n",
              "      <td>7</td>\n",
              "      <td>346.00</td>\n",
              "      <td>47.00</td>\n",
              "      <td>75.00</td>\n",
              "      <td>13.69</td>\n",
              "      <td>52</td>\n",
              "      <td>NaT</td>\n",
              "      <td>Краснодар</td>\n",
              "      <td>Рафаил</td>\n",
              "      <td>Верещагин</td>\n",
              "      <td>2018-05-25</td>\n",
              "      <td>ultra</td>\n",
              "      <td>1000</td>\n",
              "      <td>30.00</td>\n",
              "      <td>3000</td>\n",
              "      <td>1950</td>\n",
              "      <td>150</td>\n",
              "      <td>1</td>\n",
              "      <td>1</td>\n",
              "    </tr>\n",
              "    <tr>\n",
              "      <td>3</td>\n",
              "      <td>1000</td>\n",
              "      <td>8</td>\n",
              "      <td>418.00</td>\n",
              "      <td>52.00</td>\n",
              "      <td>81.00</td>\n",
              "      <td>13.74</td>\n",
              "      <td>52</td>\n",
              "      <td>NaT</td>\n",
              "      <td>Краснодар</td>\n",
              "      <td>Рафаил</td>\n",
              "      <td>Верещагин</td>\n",
              "      <td>2018-05-25</td>\n",
              "      <td>ultra</td>\n",
              "      <td>1000</td>\n",
              "      <td>30.00</td>\n",
              "      <td>3000</td>\n",
              "      <td>1950</td>\n",
              "      <td>150</td>\n",
              "      <td>1</td>\n",
              "      <td>1</td>\n",
              "    </tr>\n",
              "    <tr>\n",
              "      <td>4</td>\n",
              "      <td>1000</td>\n",
              "      <td>9</td>\n",
              "      <td>478.00</td>\n",
              "      <td>58.00</td>\n",
              "      <td>57.00</td>\n",
              "      <td>14.24</td>\n",
              "      <td>52</td>\n",
              "      <td>NaT</td>\n",
              "      <td>Краснодар</td>\n",
              "      <td>Рафаил</td>\n",
              "      <td>Верещагин</td>\n",
              "      <td>2018-05-25</td>\n",
              "      <td>ultra</td>\n",
              "      <td>1000</td>\n",
              "      <td>30.00</td>\n",
              "      <td>3000</td>\n",
              "      <td>1950</td>\n",
              "      <td>150</td>\n",
              "      <td>1</td>\n",
              "      <td>1</td>\n",
              "    </tr>\n",
              "    <tr>\n",
              "      <td>...</td>\n",
              "      <td>...</td>\n",
              "      <td>...</td>\n",
              "      <td>...</td>\n",
              "      <td>...</td>\n",
              "      <td>...</td>\n",
              "      <td>...</td>\n",
              "      <td>...</td>\n",
              "      <td>...</td>\n",
              "      <td>...</td>\n",
              "      <td>...</td>\n",
              "      <td>...</td>\n",
              "      <td>...</td>\n",
              "      <td>...</td>\n",
              "      <td>...</td>\n",
              "      <td>...</td>\n",
              "      <td>...</td>\n",
              "      <td>...</td>\n",
              "      <td>...</td>\n",
              "      <td>...</td>\n",
              "      <td>...</td>\n",
              "    </tr>\n",
              "    <tr>\n",
              "      <td>3209</td>\n",
              "      <td>1489</td>\n",
              "      <td>9</td>\n",
              "      <td>nan</td>\n",
              "      <td>nan</td>\n",
              "      <td>32.00</td>\n",
              "      <td>16.83</td>\n",
              "      <td>35</td>\n",
              "      <td>NaT</td>\n",
              "      <td>Санкт-Петербург</td>\n",
              "      <td>Павел</td>\n",
              "      <td>Гончаров</td>\n",
              "      <td>2018-08-15</td>\n",
              "      <td>smart</td>\n",
              "      <td>50</td>\n",
              "      <td>15.00</td>\n",
              "      <td>500</td>\n",
              "      <td>550</td>\n",
              "      <td>200</td>\n",
              "      <td>3</td>\n",
              "      <td>3</td>\n",
              "    </tr>\n",
              "    <tr>\n",
              "      <td>3210</td>\n",
              "      <td>1489</td>\n",
              "      <td>10</td>\n",
              "      <td>nan</td>\n",
              "      <td>nan</td>\n",
              "      <td>21.00</td>\n",
              "      <td>19.13</td>\n",
              "      <td>35</td>\n",
              "      <td>NaT</td>\n",
              "      <td>Санкт-Петербург</td>\n",
              "      <td>Павел</td>\n",
              "      <td>Гончаров</td>\n",
              "      <td>2018-08-15</td>\n",
              "      <td>smart</td>\n",
              "      <td>50</td>\n",
              "      <td>15.00</td>\n",
              "      <td>500</td>\n",
              "      <td>550</td>\n",
              "      <td>200</td>\n",
              "      <td>3</td>\n",
              "      <td>3</td>\n",
              "    </tr>\n",
              "    <tr>\n",
              "      <td>3211</td>\n",
              "      <td>1489</td>\n",
              "      <td>11</td>\n",
              "      <td>nan</td>\n",
              "      <td>nan</td>\n",
              "      <td>20.00</td>\n",
              "      <td>17.11</td>\n",
              "      <td>35</td>\n",
              "      <td>NaT</td>\n",
              "      <td>Санкт-Петербург</td>\n",
              "      <td>Павел</td>\n",
              "      <td>Гончаров</td>\n",
              "      <td>2018-08-15</td>\n",
              "      <td>smart</td>\n",
              "      <td>50</td>\n",
              "      <td>15.00</td>\n",
              "      <td>500</td>\n",
              "      <td>550</td>\n",
              "      <td>200</td>\n",
              "      <td>3</td>\n",
              "      <td>3</td>\n",
              "    </tr>\n",
              "    <tr>\n",
              "      <td>3212</td>\n",
              "      <td>1489</td>\n",
              "      <td>12</td>\n",
              "      <td>nan</td>\n",
              "      <td>nan</td>\n",
              "      <td>35.00</td>\n",
              "      <td>16.93</td>\n",
              "      <td>35</td>\n",
              "      <td>NaT</td>\n",
              "      <td>Санкт-Петербург</td>\n",
              "      <td>Павел</td>\n",
              "      <td>Гончаров</td>\n",
              "      <td>2018-08-15</td>\n",
              "      <td>smart</td>\n",
              "      <td>50</td>\n",
              "      <td>15.00</td>\n",
              "      <td>500</td>\n",
              "      <td>550</td>\n",
              "      <td>200</td>\n",
              "      <td>3</td>\n",
              "      <td>3</td>\n",
              "    </tr>\n",
              "    <tr>\n",
              "      <td>3213</td>\n",
              "      <td>1476</td>\n",
              "      <td>4</td>\n",
              "      <td>nan</td>\n",
              "      <td>nan</td>\n",
              "      <td>nan</td>\n",
              "      <td>0.52</td>\n",
              "      <td>50</td>\n",
              "      <td>NaT</td>\n",
              "      <td>Москва</td>\n",
              "      <td>Валентина</td>\n",
              "      <td>Семенова</td>\n",
              "      <td>2018-04-30</td>\n",
              "      <td>ultra</td>\n",
              "      <td>1000</td>\n",
              "      <td>30.00</td>\n",
              "      <td>3000</td>\n",
              "      <td>1950</td>\n",
              "      <td>150</td>\n",
              "      <td>1</td>\n",
              "      <td>1</td>\n",
              "    </tr>\n",
              "  </tbody>\n",
              "</table>\n",
              "<p>3214 rows × 20 columns</p>\n",
              "</div>"
            ],
            "text/plain": [
              "      user_id  month  total_duration  total_calls  total_messages  \\\n",
              "0        1000      5          164.00        22.00           22.00   \n",
              "1        1000      6          187.00        43.00           60.00   \n",
              "2        1000      7          346.00        47.00           75.00   \n",
              "3        1000      8          418.00        52.00           81.00   \n",
              "4        1000      9          478.00        58.00           57.00   \n",
              "...       ...    ...             ...          ...             ...   \n",
              "3209     1489      9             nan          nan           32.00   \n",
              "3210     1489     10             nan          nan           21.00   \n",
              "3211     1489     11             nan          nan           20.00   \n",
              "3212     1489     12             nan          nan           35.00   \n",
              "3213     1476      4             nan          nan             nan   \n",
              "\n",
              "      total_gb_used  age churn_date             city first_name  last_name  \\\n",
              "0              2.20   52        NaT        Краснодар     Рафаил  Верещагин   \n",
              "1             22.71   52        NaT        Краснодар     Рафаил  Верещагин   \n",
              "2             13.69   52        NaT        Краснодар     Рафаил  Верещагин   \n",
              "3             13.74   52        NaT        Краснодар     Рафаил  Верещагин   \n",
              "4             14.24   52        NaT        Краснодар     Рафаил  Верещагин   \n",
              "...             ...  ...        ...              ...        ...        ...   \n",
              "3209          16.83   35        NaT  Санкт-Петербург      Павел   Гончаров   \n",
              "3210          19.13   35        NaT  Санкт-Петербург      Павел   Гончаров   \n",
              "3211          17.11   35        NaT  Санкт-Петербург      Павел   Гончаров   \n",
              "3212          16.93   35        NaT  Санкт-Петербург      Павел   Гончаров   \n",
              "3213           0.52   50        NaT           Москва  Валентина   Семенова   \n",
              "\n",
              "       reg_date tariff  messages_included  gb_per_month_included  \\\n",
              "0    2018-05-25  ultra               1000                  30.00   \n",
              "1    2018-05-25  ultra               1000                  30.00   \n",
              "2    2018-05-25  ultra               1000                  30.00   \n",
              "3    2018-05-25  ultra               1000                  30.00   \n",
              "4    2018-05-25  ultra               1000                  30.00   \n",
              "...         ...    ...                ...                    ...   \n",
              "3209 2018-08-15  smart                 50                  15.00   \n",
              "3210 2018-08-15  smart                 50                  15.00   \n",
              "3211 2018-08-15  smart                 50                  15.00   \n",
              "3212 2018-08-15  smart                 50                  15.00   \n",
              "3213 2018-04-30  ultra               1000                  30.00   \n",
              "\n",
              "      minutes_included  rub_monthly_fee  rub_per_gb  rub_per_message  \\\n",
              "0                 3000             1950         150                1   \n",
              "1                 3000             1950         150                1   \n",
              "2                 3000             1950         150                1   \n",
              "3                 3000             1950         150                1   \n",
              "4                 3000             1950         150                1   \n",
              "...                ...              ...         ...              ...   \n",
              "3209               500              550         200                3   \n",
              "3210               500              550         200                3   \n",
              "3211               500              550         200                3   \n",
              "3212               500              550         200                3   \n",
              "3213              3000             1950         150                1   \n",
              "\n",
              "      rub_per_minute  \n",
              "0                  1  \n",
              "1                  1  \n",
              "2                  1  \n",
              "3                  1  \n",
              "4                  1  \n",
              "...              ...  \n",
              "3209               3  \n",
              "3210               3  \n",
              "3211               3  \n",
              "3212               3  \n",
              "3213               1  \n",
              "\n",
              "[3214 rows x 20 columns]"
            ]
          },
          "metadata": {
            "tags": []
          }
        }
      ]
    },
    {
      "cell_type": "code",
      "metadata": {
        "id": "4gXF1m5utzoN",
        "outputId": "db993e47-27b1-440f-d47b-b8be54f6abf3"
      },
      "source": [
        "print(df.isnull().sum())"
      ],
      "execution_count": null,
      "outputs": [
        {
          "output_type": "stream",
          "text": [
            "user_id                     0\n",
            "month                       0\n",
            "total_duration             40\n",
            "total_calls                40\n",
            "total_messages            497\n",
            "total_gb_used              11\n",
            "age                         0\n",
            "churn_date               3027\n",
            "city                        0\n",
            "first_name                  0\n",
            "last_name                   0\n",
            "reg_date                    0\n",
            "tariff                      0\n",
            "messages_included           0\n",
            "gb_per_month_included       0\n",
            "minutes_included            0\n",
            "rub_monthly_fee             0\n",
            "rub_per_gb                  0\n",
            "rub_per_message             0\n",
            "rub_per_minute              0\n",
            "dtype: int64\n"
          ],
          "name": "stdout"
        }
      ]
    },
    {
      "cell_type": "markdown",
      "metadata": {
        "id": "qH0XfkYptzoO"
      },
      "source": [
        "<b>Заменим пустые значения в столбцах 'total_duration', 'total_calls', 'total_messages', 'total_gb_used' на 0. так как возможно пользователями не использовались данные услуги</b>"
      ]
    },
    {
      "cell_type": "code",
      "metadata": {
        "id": "W6mX3ctKtzoO"
      },
      "source": [
        "df['total_duration'] = df['total_duration'].fillna(0)"
      ],
      "execution_count": null,
      "outputs": []
    },
    {
      "cell_type": "code",
      "metadata": {
        "id": "Qx6X4X1gtzoO"
      },
      "source": [
        "df['total_calls'] = df['total_calls'].fillna(0)"
      ],
      "execution_count": null,
      "outputs": []
    },
    {
      "cell_type": "code",
      "metadata": {
        "id": "99t2F9xOtzoO"
      },
      "source": [
        "df['total_messages'] = df['total_messages'].fillna(0)"
      ],
      "execution_count": null,
      "outputs": []
    },
    {
      "cell_type": "code",
      "metadata": {
        "id": "sAJerNzBtzoO"
      },
      "source": [
        "df['total_gb_used'] = df['total_gb_used'].fillna(0)"
      ],
      "execution_count": null,
      "outputs": []
    },
    {
      "cell_type": "code",
      "metadata": {
        "id": "4YeUabuWtzoO",
        "outputId": "6a6cb2d0-c56f-47e6-ecd5-aa5896d38869"
      },
      "source": [
        "print(df.isnull().sum())"
      ],
      "execution_count": null,
      "outputs": [
        {
          "output_type": "stream",
          "text": [
            "user_id                     0\n",
            "month                       0\n",
            "total_duration              0\n",
            "total_calls                 0\n",
            "total_messages              0\n",
            "total_gb_used               0\n",
            "age                         0\n",
            "churn_date               3027\n",
            "city                        0\n",
            "first_name                  0\n",
            "last_name                   0\n",
            "reg_date                    0\n",
            "tariff                      0\n",
            "messages_included           0\n",
            "gb_per_month_included       0\n",
            "minutes_included            0\n",
            "rub_monthly_fee             0\n",
            "rub_per_gb                  0\n",
            "rub_per_message             0\n",
            "rub_per_minute              0\n",
            "dtype: int64\n"
          ],
          "name": "stdout"
        }
      ]
    },
    {
      "cell_type": "code",
      "metadata": {
        "id": "-tEFJPR6tzoP",
        "outputId": "47782327-6df5-46d0-e844-09e159b78395"
      },
      "source": [
        "print(df.duplicated().sum())"
      ],
      "execution_count": null,
      "outputs": [
        {
          "output_type": "stream",
          "text": [
            "0\n"
          ],
          "name": "stdout"
        }
      ]
    },
    {
      "cell_type": "code",
      "metadata": {
        "id": "9W2v2PhktzoP",
        "outputId": "50fa9674-31c0-49d6-cd68-05f36c9b08be"
      },
      "source": [
        "display(df)"
      ],
      "execution_count": null,
      "outputs": [
        {
          "output_type": "display_data",
          "data": {
            "text/html": [
              "<div>\n",
              "<style scoped>\n",
              "    .dataframe tbody tr th:only-of-type {\n",
              "        vertical-align: middle;\n",
              "    }\n",
              "\n",
              "    .dataframe tbody tr th {\n",
              "        vertical-align: top;\n",
              "    }\n",
              "\n",
              "    .dataframe thead th {\n",
              "        text-align: right;\n",
              "    }\n",
              "</style>\n",
              "<table border=\"1\" class=\"dataframe\">\n",
              "  <thead>\n",
              "    <tr style=\"text-align: right;\">\n",
              "      <th></th>\n",
              "      <th>user_id</th>\n",
              "      <th>month</th>\n",
              "      <th>total_duration</th>\n",
              "      <th>total_calls</th>\n",
              "      <th>total_messages</th>\n",
              "      <th>total_gb_used</th>\n",
              "      <th>age</th>\n",
              "      <th>churn_date</th>\n",
              "      <th>city</th>\n",
              "      <th>first_name</th>\n",
              "      <th>last_name</th>\n",
              "      <th>reg_date</th>\n",
              "      <th>tariff</th>\n",
              "      <th>messages_included</th>\n",
              "      <th>gb_per_month_included</th>\n",
              "      <th>minutes_included</th>\n",
              "      <th>rub_monthly_fee</th>\n",
              "      <th>rub_per_gb</th>\n",
              "      <th>rub_per_message</th>\n",
              "      <th>rub_per_minute</th>\n",
              "    </tr>\n",
              "  </thead>\n",
              "  <tbody>\n",
              "    <tr>\n",
              "      <td>0</td>\n",
              "      <td>1000</td>\n",
              "      <td>5</td>\n",
              "      <td>164.00</td>\n",
              "      <td>22.00</td>\n",
              "      <td>22.00</td>\n",
              "      <td>2.20</td>\n",
              "      <td>52</td>\n",
              "      <td>NaT</td>\n",
              "      <td>Краснодар</td>\n",
              "      <td>Рафаил</td>\n",
              "      <td>Верещагин</td>\n",
              "      <td>2018-05-25</td>\n",
              "      <td>ultra</td>\n",
              "      <td>1000</td>\n",
              "      <td>30.00</td>\n",
              "      <td>3000</td>\n",
              "      <td>1950</td>\n",
              "      <td>150</td>\n",
              "      <td>1</td>\n",
              "      <td>1</td>\n",
              "    </tr>\n",
              "    <tr>\n",
              "      <td>1</td>\n",
              "      <td>1000</td>\n",
              "      <td>6</td>\n",
              "      <td>187.00</td>\n",
              "      <td>43.00</td>\n",
              "      <td>60.00</td>\n",
              "      <td>22.71</td>\n",
              "      <td>52</td>\n",
              "      <td>NaT</td>\n",
              "      <td>Краснодар</td>\n",
              "      <td>Рафаил</td>\n",
              "      <td>Верещагин</td>\n",
              "      <td>2018-05-25</td>\n",
              "      <td>ultra</td>\n",
              "      <td>1000</td>\n",
              "      <td>30.00</td>\n",
              "      <td>3000</td>\n",
              "      <td>1950</td>\n",
              "      <td>150</td>\n",
              "      <td>1</td>\n",
              "      <td>1</td>\n",
              "    </tr>\n",
              "    <tr>\n",
              "      <td>2</td>\n",
              "      <td>1000</td>\n",
              "      <td>7</td>\n",
              "      <td>346.00</td>\n",
              "      <td>47.00</td>\n",
              "      <td>75.00</td>\n",
              "      <td>13.69</td>\n",
              "      <td>52</td>\n",
              "      <td>NaT</td>\n",
              "      <td>Краснодар</td>\n",
              "      <td>Рафаил</td>\n",
              "      <td>Верещагин</td>\n",
              "      <td>2018-05-25</td>\n",
              "      <td>ultra</td>\n",
              "      <td>1000</td>\n",
              "      <td>30.00</td>\n",
              "      <td>3000</td>\n",
              "      <td>1950</td>\n",
              "      <td>150</td>\n",
              "      <td>1</td>\n",
              "      <td>1</td>\n",
              "    </tr>\n",
              "    <tr>\n",
              "      <td>3</td>\n",
              "      <td>1000</td>\n",
              "      <td>8</td>\n",
              "      <td>418.00</td>\n",
              "      <td>52.00</td>\n",
              "      <td>81.00</td>\n",
              "      <td>13.74</td>\n",
              "      <td>52</td>\n",
              "      <td>NaT</td>\n",
              "      <td>Краснодар</td>\n",
              "      <td>Рафаил</td>\n",
              "      <td>Верещагин</td>\n",
              "      <td>2018-05-25</td>\n",
              "      <td>ultra</td>\n",
              "      <td>1000</td>\n",
              "      <td>30.00</td>\n",
              "      <td>3000</td>\n",
              "      <td>1950</td>\n",
              "      <td>150</td>\n",
              "      <td>1</td>\n",
              "      <td>1</td>\n",
              "    </tr>\n",
              "    <tr>\n",
              "      <td>4</td>\n",
              "      <td>1000</td>\n",
              "      <td>9</td>\n",
              "      <td>478.00</td>\n",
              "      <td>58.00</td>\n",
              "      <td>57.00</td>\n",
              "      <td>14.24</td>\n",
              "      <td>52</td>\n",
              "      <td>NaT</td>\n",
              "      <td>Краснодар</td>\n",
              "      <td>Рафаил</td>\n",
              "      <td>Верещагин</td>\n",
              "      <td>2018-05-25</td>\n",
              "      <td>ultra</td>\n",
              "      <td>1000</td>\n",
              "      <td>30.00</td>\n",
              "      <td>3000</td>\n",
              "      <td>1950</td>\n",
              "      <td>150</td>\n",
              "      <td>1</td>\n",
              "      <td>1</td>\n",
              "    </tr>\n",
              "    <tr>\n",
              "      <td>...</td>\n",
              "      <td>...</td>\n",
              "      <td>...</td>\n",
              "      <td>...</td>\n",
              "      <td>...</td>\n",
              "      <td>...</td>\n",
              "      <td>...</td>\n",
              "      <td>...</td>\n",
              "      <td>...</td>\n",
              "      <td>...</td>\n",
              "      <td>...</td>\n",
              "      <td>...</td>\n",
              "      <td>...</td>\n",
              "      <td>...</td>\n",
              "      <td>...</td>\n",
              "      <td>...</td>\n",
              "      <td>...</td>\n",
              "      <td>...</td>\n",
              "      <td>...</td>\n",
              "      <td>...</td>\n",
              "      <td>...</td>\n",
              "    </tr>\n",
              "    <tr>\n",
              "      <td>3209</td>\n",
              "      <td>1489</td>\n",
              "      <td>9</td>\n",
              "      <td>0.00</td>\n",
              "      <td>0.00</td>\n",
              "      <td>32.00</td>\n",
              "      <td>16.83</td>\n",
              "      <td>35</td>\n",
              "      <td>NaT</td>\n",
              "      <td>Санкт-Петербург</td>\n",
              "      <td>Павел</td>\n",
              "      <td>Гончаров</td>\n",
              "      <td>2018-08-15</td>\n",
              "      <td>smart</td>\n",
              "      <td>50</td>\n",
              "      <td>15.00</td>\n",
              "      <td>500</td>\n",
              "      <td>550</td>\n",
              "      <td>200</td>\n",
              "      <td>3</td>\n",
              "      <td>3</td>\n",
              "    </tr>\n",
              "    <tr>\n",
              "      <td>3210</td>\n",
              "      <td>1489</td>\n",
              "      <td>10</td>\n",
              "      <td>0.00</td>\n",
              "      <td>0.00</td>\n",
              "      <td>21.00</td>\n",
              "      <td>19.13</td>\n",
              "      <td>35</td>\n",
              "      <td>NaT</td>\n",
              "      <td>Санкт-Петербург</td>\n",
              "      <td>Павел</td>\n",
              "      <td>Гончаров</td>\n",
              "      <td>2018-08-15</td>\n",
              "      <td>smart</td>\n",
              "      <td>50</td>\n",
              "      <td>15.00</td>\n",
              "      <td>500</td>\n",
              "      <td>550</td>\n",
              "      <td>200</td>\n",
              "      <td>3</td>\n",
              "      <td>3</td>\n",
              "    </tr>\n",
              "    <tr>\n",
              "      <td>3211</td>\n",
              "      <td>1489</td>\n",
              "      <td>11</td>\n",
              "      <td>0.00</td>\n",
              "      <td>0.00</td>\n",
              "      <td>20.00</td>\n",
              "      <td>17.11</td>\n",
              "      <td>35</td>\n",
              "      <td>NaT</td>\n",
              "      <td>Санкт-Петербург</td>\n",
              "      <td>Павел</td>\n",
              "      <td>Гончаров</td>\n",
              "      <td>2018-08-15</td>\n",
              "      <td>smart</td>\n",
              "      <td>50</td>\n",
              "      <td>15.00</td>\n",
              "      <td>500</td>\n",
              "      <td>550</td>\n",
              "      <td>200</td>\n",
              "      <td>3</td>\n",
              "      <td>3</td>\n",
              "    </tr>\n",
              "    <tr>\n",
              "      <td>3212</td>\n",
              "      <td>1489</td>\n",
              "      <td>12</td>\n",
              "      <td>0.00</td>\n",
              "      <td>0.00</td>\n",
              "      <td>35.00</td>\n",
              "      <td>16.93</td>\n",
              "      <td>35</td>\n",
              "      <td>NaT</td>\n",
              "      <td>Санкт-Петербург</td>\n",
              "      <td>Павел</td>\n",
              "      <td>Гончаров</td>\n",
              "      <td>2018-08-15</td>\n",
              "      <td>smart</td>\n",
              "      <td>50</td>\n",
              "      <td>15.00</td>\n",
              "      <td>500</td>\n",
              "      <td>550</td>\n",
              "      <td>200</td>\n",
              "      <td>3</td>\n",
              "      <td>3</td>\n",
              "    </tr>\n",
              "    <tr>\n",
              "      <td>3213</td>\n",
              "      <td>1476</td>\n",
              "      <td>4</td>\n",
              "      <td>0.00</td>\n",
              "      <td>0.00</td>\n",
              "      <td>0.00</td>\n",
              "      <td>0.52</td>\n",
              "      <td>50</td>\n",
              "      <td>NaT</td>\n",
              "      <td>Москва</td>\n",
              "      <td>Валентина</td>\n",
              "      <td>Семенова</td>\n",
              "      <td>2018-04-30</td>\n",
              "      <td>ultra</td>\n",
              "      <td>1000</td>\n",
              "      <td>30.00</td>\n",
              "      <td>3000</td>\n",
              "      <td>1950</td>\n",
              "      <td>150</td>\n",
              "      <td>1</td>\n",
              "      <td>1</td>\n",
              "    </tr>\n",
              "  </tbody>\n",
              "</table>\n",
              "<p>3214 rows × 20 columns</p>\n",
              "</div>"
            ],
            "text/plain": [
              "      user_id  month  total_duration  total_calls  total_messages  \\\n",
              "0        1000      5          164.00        22.00           22.00   \n",
              "1        1000      6          187.00        43.00           60.00   \n",
              "2        1000      7          346.00        47.00           75.00   \n",
              "3        1000      8          418.00        52.00           81.00   \n",
              "4        1000      9          478.00        58.00           57.00   \n",
              "...       ...    ...             ...          ...             ...   \n",
              "3209     1489      9            0.00         0.00           32.00   \n",
              "3210     1489     10            0.00         0.00           21.00   \n",
              "3211     1489     11            0.00         0.00           20.00   \n",
              "3212     1489     12            0.00         0.00           35.00   \n",
              "3213     1476      4            0.00         0.00            0.00   \n",
              "\n",
              "      total_gb_used  age churn_date             city first_name  last_name  \\\n",
              "0              2.20   52        NaT        Краснодар     Рафаил  Верещагин   \n",
              "1             22.71   52        NaT        Краснодар     Рафаил  Верещагин   \n",
              "2             13.69   52        NaT        Краснодар     Рафаил  Верещагин   \n",
              "3             13.74   52        NaT        Краснодар     Рафаил  Верещагин   \n",
              "4             14.24   52        NaT        Краснодар     Рафаил  Верещагин   \n",
              "...             ...  ...        ...              ...        ...        ...   \n",
              "3209          16.83   35        NaT  Санкт-Петербург      Павел   Гончаров   \n",
              "3210          19.13   35        NaT  Санкт-Петербург      Павел   Гончаров   \n",
              "3211          17.11   35        NaT  Санкт-Петербург      Павел   Гончаров   \n",
              "3212          16.93   35        NaT  Санкт-Петербург      Павел   Гончаров   \n",
              "3213           0.52   50        NaT           Москва  Валентина   Семенова   \n",
              "\n",
              "       reg_date tariff  messages_included  gb_per_month_included  \\\n",
              "0    2018-05-25  ultra               1000                  30.00   \n",
              "1    2018-05-25  ultra               1000                  30.00   \n",
              "2    2018-05-25  ultra               1000                  30.00   \n",
              "3    2018-05-25  ultra               1000                  30.00   \n",
              "4    2018-05-25  ultra               1000                  30.00   \n",
              "...         ...    ...                ...                    ...   \n",
              "3209 2018-08-15  smart                 50                  15.00   \n",
              "3210 2018-08-15  smart                 50                  15.00   \n",
              "3211 2018-08-15  smart                 50                  15.00   \n",
              "3212 2018-08-15  smart                 50                  15.00   \n",
              "3213 2018-04-30  ultra               1000                  30.00   \n",
              "\n",
              "      minutes_included  rub_monthly_fee  rub_per_gb  rub_per_message  \\\n",
              "0                 3000             1950         150                1   \n",
              "1                 3000             1950         150                1   \n",
              "2                 3000             1950         150                1   \n",
              "3                 3000             1950         150                1   \n",
              "4                 3000             1950         150                1   \n",
              "...                ...              ...         ...              ...   \n",
              "3209               500              550         200                3   \n",
              "3210               500              550         200                3   \n",
              "3211               500              550         200                3   \n",
              "3212               500              550         200                3   \n",
              "3213              3000             1950         150                1   \n",
              "\n",
              "      rub_per_minute  \n",
              "0                  1  \n",
              "1                  1  \n",
              "2                  1  \n",
              "3                  1  \n",
              "4                  1  \n",
              "...              ...  \n",
              "3209               3  \n",
              "3210               3  \n",
              "3211               3  \n",
              "3212               3  \n",
              "3213               1  \n",
              "\n",
              "[3214 rows x 20 columns]"
            ]
          },
          "metadata": {
            "tags": []
          }
        }
      ]
    },
    {
      "cell_type": "code",
      "metadata": {
        "id": "XGBSdKRKtzoP"
      },
      "source": [
        "def total_excess_tariff(row):\n",
        "    calls_proceeds = (row['total_duration'] - row['minutes_included']) * row['rub_per_minute']\n",
        "    messages_proceeds = (row['total_messages'] - row['messages_included']) * row['rub_per_message']\n",
        "    internet_proceeds = (row['total_gb_used'] - row['gb_per_month_included']) * row['rub_per_gb']\n",
        "    total = 0\n",
        "    for i in [calls_proceeds, messages_proceeds, internet_proceeds]:\n",
        "        if i > 0:\n",
        "            total += i\n",
        "    return total"
      ],
      "execution_count": null,
      "outputs": []
    },
    {
      "cell_type": "code",
      "metadata": {
        "id": "FKXKF-w7tzoP"
      },
      "source": [
        "df['total_excess_tariff'] = df.apply(lambda x: total_excess_tariff(x), axis = 1)"
      ],
      "execution_count": null,
      "outputs": []
    },
    {
      "cell_type": "code",
      "metadata": {
        "id": "fEq1O5TitzoP"
      },
      "source": [
        "df['total_proceeds'] = df['total_excess_tariff'] + df['rub_monthly_fee']"
      ],
      "execution_count": null,
      "outputs": []
    },
    {
      "cell_type": "code",
      "metadata": {
        "id": "LV7qnGO9tzoP",
        "outputId": "48431ac2-c910-42e7-e043-8f624c093077"
      },
      "source": [
        "display(df.sort_values(by = 'total_proceeds', ascending = False))"
      ],
      "execution_count": null,
      "outputs": [
        {
          "output_type": "display_data",
          "data": {
            "text/html": [
              "<div>\n",
              "<style scoped>\n",
              "    .dataframe tbody tr th:only-of-type {\n",
              "        vertical-align: middle;\n",
              "    }\n",
              "\n",
              "    .dataframe tbody tr th {\n",
              "        vertical-align: top;\n",
              "    }\n",
              "\n",
              "    .dataframe thead th {\n",
              "        text-align: right;\n",
              "    }\n",
              "</style>\n",
              "<table border=\"1\" class=\"dataframe\">\n",
              "  <thead>\n",
              "    <tr style=\"text-align: right;\">\n",
              "      <th></th>\n",
              "      <th>user_id</th>\n",
              "      <th>month</th>\n",
              "      <th>total_duration</th>\n",
              "      <th>total_calls</th>\n",
              "      <th>total_messages</th>\n",
              "      <th>total_gb_used</th>\n",
              "      <th>age</th>\n",
              "      <th>churn_date</th>\n",
              "      <th>city</th>\n",
              "      <th>first_name</th>\n",
              "      <th>...</th>\n",
              "      <th>tariff</th>\n",
              "      <th>messages_included</th>\n",
              "      <th>gb_per_month_included</th>\n",
              "      <th>minutes_included</th>\n",
              "      <th>rub_monthly_fee</th>\n",
              "      <th>rub_per_gb</th>\n",
              "      <th>rub_per_message</th>\n",
              "      <th>rub_per_minute</th>\n",
              "      <th>total_excess_tariff</th>\n",
              "      <th>total_proceeds</th>\n",
              "    </tr>\n",
              "  </thead>\n",
              "  <tbody>\n",
              "    <tr>\n",
              "      <td>3106</td>\n",
              "      <td>1486</td>\n",
              "      <td>12</td>\n",
              "      <td>1025.00</td>\n",
              "      <td>133.00</td>\n",
              "      <td>83.00</td>\n",
              "      <td>37.71</td>\n",
              "      <td>35</td>\n",
              "      <td>NaT</td>\n",
              "      <td>Нижний Новгород</td>\n",
              "      <td>Матвей</td>\n",
              "      <td>...</td>\n",
              "      <td>smart</td>\n",
              "      <td>50</td>\n",
              "      <td>15.00</td>\n",
              "      <td>500</td>\n",
              "      <td>550</td>\n",
              "      <td>200</td>\n",
              "      <td>3</td>\n",
              "      <td>3</td>\n",
              "      <td>6215.02</td>\n",
              "      <td>6765.02</td>\n",
              "    </tr>\n",
              "    <tr>\n",
              "      <td>1622</td>\n",
              "      <td>1261</td>\n",
              "      <td>12</td>\n",
              "      <td>1102.00</td>\n",
              "      <td>141.00</td>\n",
              "      <td>22.00</td>\n",
              "      <td>31.93</td>\n",
              "      <td>46</td>\n",
              "      <td>NaT</td>\n",
              "      <td>Казань</td>\n",
              "      <td>Мадина</td>\n",
              "      <td>...</td>\n",
              "      <td>smart</td>\n",
              "      <td>50</td>\n",
              "      <td>15.00</td>\n",
              "      <td>500</td>\n",
              "      <td>550</td>\n",
              "      <td>200</td>\n",
              "      <td>3</td>\n",
              "      <td>3</td>\n",
              "      <td>5192.13</td>\n",
              "      <td>5742.13</td>\n",
              "    </tr>\n",
              "    <tr>\n",
              "      <td>260</td>\n",
              "      <td>1042</td>\n",
              "      <td>12</td>\n",
              "      <td>755.00</td>\n",
              "      <td>121.00</td>\n",
              "      <td>75.00</td>\n",
              "      <td>36.35</td>\n",
              "      <td>42</td>\n",
              "      <td>NaT</td>\n",
              "      <td>Хабаровск</td>\n",
              "      <td>Константин</td>\n",
              "      <td>...</td>\n",
              "      <td>smart</td>\n",
              "      <td>50</td>\n",
              "      <td>15.00</td>\n",
              "      <td>500</td>\n",
              "      <td>550</td>\n",
              "      <td>200</td>\n",
              "      <td>3</td>\n",
              "      <td>3</td>\n",
              "      <td>5109.34</td>\n",
              "      <td>5659.34</td>\n",
              "    </tr>\n",
              "    <tr>\n",
              "      <td>3105</td>\n",
              "      <td>1486</td>\n",
              "      <td>11</td>\n",
              "      <td>788.00</td>\n",
              "      <td>108.00</td>\n",
              "      <td>96.00</td>\n",
              "      <td>35.47</td>\n",
              "      <td>35</td>\n",
              "      <td>NaT</td>\n",
              "      <td>Нижний Новгород</td>\n",
              "      <td>Матвей</td>\n",
              "      <td>...</td>\n",
              "      <td>smart</td>\n",
              "      <td>50</td>\n",
              "      <td>15.00</td>\n",
              "      <td>500</td>\n",
              "      <td>550</td>\n",
              "      <td>200</td>\n",
              "      <td>3</td>\n",
              "      <td>3</td>\n",
              "      <td>5095.55</td>\n",
              "      <td>5645.55</td>\n",
              "    </tr>\n",
              "    <tr>\n",
              "      <td>1793</td>\n",
              "      <td>1286</td>\n",
              "      <td>12</td>\n",
              "      <td>751.00</td>\n",
              "      <td>95.00</td>\n",
              "      <td>68.00</td>\n",
              "      <td>34.33</td>\n",
              "      <td>19</td>\n",
              "      <td>NaT</td>\n",
              "      <td>Москва</td>\n",
              "      <td>Рашид</td>\n",
              "      <td>...</td>\n",
              "      <td>smart</td>\n",
              "      <td>50</td>\n",
              "      <td>15.00</td>\n",
              "      <td>500</td>\n",
              "      <td>550</td>\n",
              "      <td>200</td>\n",
              "      <td>3</td>\n",
              "      <td>3</td>\n",
              "      <td>4672.43</td>\n",
              "      <td>5222.43</td>\n",
              "    </tr>\n",
              "    <tr>\n",
              "      <td>...</td>\n",
              "      <td>...</td>\n",
              "      <td>...</td>\n",
              "      <td>...</td>\n",
              "      <td>...</td>\n",
              "      <td>...</td>\n",
              "      <td>...</td>\n",
              "      <td>...</td>\n",
              "      <td>...</td>\n",
              "      <td>...</td>\n",
              "      <td>...</td>\n",
              "      <td>...</td>\n",
              "      <td>...</td>\n",
              "      <td>...</td>\n",
              "      <td>...</td>\n",
              "      <td>...</td>\n",
              "      <td>...</td>\n",
              "      <td>...</td>\n",
              "      <td>...</td>\n",
              "      <td>...</td>\n",
              "      <td>...</td>\n",
              "      <td>...</td>\n",
              "    </tr>\n",
              "    <tr>\n",
              "      <td>1396</td>\n",
              "      <td>1221</td>\n",
              "      <td>11</td>\n",
              "      <td>356.00</td>\n",
              "      <td>46.00</td>\n",
              "      <td>26.00</td>\n",
              "      <td>8.19</td>\n",
              "      <td>40</td>\n",
              "      <td>NaT</td>\n",
              "      <td>Белгород</td>\n",
              "      <td>Джемма</td>\n",
              "      <td>...</td>\n",
              "      <td>smart</td>\n",
              "      <td>50</td>\n",
              "      <td>15.00</td>\n",
              "      <td>500</td>\n",
              "      <td>550</td>\n",
              "      <td>200</td>\n",
              "      <td>3</td>\n",
              "      <td>3</td>\n",
              "      <td>0.00</td>\n",
              "      <td>550.00</td>\n",
              "    </tr>\n",
              "    <tr>\n",
              "      <td>1395</td>\n",
              "      <td>1221</td>\n",
              "      <td>10</td>\n",
              "      <td>278.00</td>\n",
              "      <td>34.00</td>\n",
              "      <td>38.00</td>\n",
              "      <td>8.71</td>\n",
              "      <td>40</td>\n",
              "      <td>NaT</td>\n",
              "      <td>Белгород</td>\n",
              "      <td>Джемма</td>\n",
              "      <td>...</td>\n",
              "      <td>smart</td>\n",
              "      <td>50</td>\n",
              "      <td>15.00</td>\n",
              "      <td>500</td>\n",
              "      <td>550</td>\n",
              "      <td>200</td>\n",
              "      <td>3</td>\n",
              "      <td>3</td>\n",
              "      <td>0.00</td>\n",
              "      <td>550.00</td>\n",
              "    </tr>\n",
              "    <tr>\n",
              "      <td>1394</td>\n",
              "      <td>1221</td>\n",
              "      <td>9</td>\n",
              "      <td>209.00</td>\n",
              "      <td>26.00</td>\n",
              "      <td>19.00</td>\n",
              "      <td>11.08</td>\n",
              "      <td>40</td>\n",
              "      <td>NaT</td>\n",
              "      <td>Белгород</td>\n",
              "      <td>Джемма</td>\n",
              "      <td>...</td>\n",
              "      <td>smart</td>\n",
              "      <td>50</td>\n",
              "      <td>15.00</td>\n",
              "      <td>500</td>\n",
              "      <td>550</td>\n",
              "      <td>200</td>\n",
              "      <td>3</td>\n",
              "      <td>3</td>\n",
              "      <td>0.00</td>\n",
              "      <td>550.00</td>\n",
              "    </tr>\n",
              "    <tr>\n",
              "      <td>2479</td>\n",
              "      <td>1393</td>\n",
              "      <td>2</td>\n",
              "      <td>180.00</td>\n",
              "      <td>26.00</td>\n",
              "      <td>16.00</td>\n",
              "      <td>6.29</td>\n",
              "      <td>56</td>\n",
              "      <td>NaT</td>\n",
              "      <td>Краснодар</td>\n",
              "      <td>Артём</td>\n",
              "      <td>...</td>\n",
              "      <td>smart</td>\n",
              "      <td>50</td>\n",
              "      <td>15.00</td>\n",
              "      <td>500</td>\n",
              "      <td>550</td>\n",
              "      <td>200</td>\n",
              "      <td>3</td>\n",
              "      <td>3</td>\n",
              "      <td>0.00</td>\n",
              "      <td>550.00</td>\n",
              "    </tr>\n",
              "    <tr>\n",
              "      <td>373</td>\n",
              "      <td>1059</td>\n",
              "      <td>4</td>\n",
              "      <td>339.00</td>\n",
              "      <td>43.00</td>\n",
              "      <td>6.00</td>\n",
              "      <td>8.21</td>\n",
              "      <td>47</td>\n",
              "      <td>NaT</td>\n",
              "      <td>Курск</td>\n",
              "      <td>Глеб</td>\n",
              "      <td>...</td>\n",
              "      <td>smart</td>\n",
              "      <td>50</td>\n",
              "      <td>15.00</td>\n",
              "      <td>500</td>\n",
              "      <td>550</td>\n",
              "      <td>200</td>\n",
              "      <td>3</td>\n",
              "      <td>3</td>\n",
              "      <td>0.00</td>\n",
              "      <td>550.00</td>\n",
              "    </tr>\n",
              "  </tbody>\n",
              "</table>\n",
              "<p>3214 rows × 22 columns</p>\n",
              "</div>"
            ],
            "text/plain": [
              "      user_id  month  total_duration  total_calls  total_messages  \\\n",
              "3106     1486     12         1025.00       133.00           83.00   \n",
              "1622     1261     12         1102.00       141.00           22.00   \n",
              "260      1042     12          755.00       121.00           75.00   \n",
              "3105     1486     11          788.00       108.00           96.00   \n",
              "1793     1286     12          751.00        95.00           68.00   \n",
              "...       ...    ...             ...          ...             ...   \n",
              "1396     1221     11          356.00        46.00           26.00   \n",
              "1395     1221     10          278.00        34.00           38.00   \n",
              "1394     1221      9          209.00        26.00           19.00   \n",
              "2479     1393      2          180.00        26.00           16.00   \n",
              "373      1059      4          339.00        43.00            6.00   \n",
              "\n",
              "      total_gb_used  age churn_date             city  first_name  ... tariff  \\\n",
              "3106          37.71   35        NaT  Нижний Новгород      Матвей  ...  smart   \n",
              "1622          31.93   46        NaT           Казань      Мадина  ...  smart   \n",
              "260           36.35   42        NaT        Хабаровск  Константин  ...  smart   \n",
              "3105          35.47   35        NaT  Нижний Новгород      Матвей  ...  smart   \n",
              "1793          34.33   19        NaT           Москва       Рашид  ...  smart   \n",
              "...             ...  ...        ...              ...         ...  ...    ...   \n",
              "1396           8.19   40        NaT         Белгород      Джемма  ...  smart   \n",
              "1395           8.71   40        NaT         Белгород      Джемма  ...  smart   \n",
              "1394          11.08   40        NaT         Белгород      Джемма  ...  smart   \n",
              "2479           6.29   56        NaT        Краснодар       Артём  ...  smart   \n",
              "373            8.21   47        NaT            Курск        Глеб  ...  smart   \n",
              "\n",
              "     messages_included gb_per_month_included  minutes_included  \\\n",
              "3106                50                 15.00               500   \n",
              "1622                50                 15.00               500   \n",
              "260                 50                 15.00               500   \n",
              "3105                50                 15.00               500   \n",
              "1793                50                 15.00               500   \n",
              "...                ...                   ...               ...   \n",
              "1396                50                 15.00               500   \n",
              "1395                50                 15.00               500   \n",
              "1394                50                 15.00               500   \n",
              "2479                50                 15.00               500   \n",
              "373                 50                 15.00               500   \n",
              "\n",
              "      rub_monthly_fee  rub_per_gb  rub_per_message  rub_per_minute  \\\n",
              "3106              550         200                3               3   \n",
              "1622              550         200                3               3   \n",
              "260               550         200                3               3   \n",
              "3105              550         200                3               3   \n",
              "1793              550         200                3               3   \n",
              "...               ...         ...              ...             ...   \n",
              "1396              550         200                3               3   \n",
              "1395              550         200                3               3   \n",
              "1394              550         200                3               3   \n",
              "2479              550         200                3               3   \n",
              "373               550         200                3               3   \n",
              "\n",
              "      total_excess_tariff  total_proceeds  \n",
              "3106              6215.02         6765.02  \n",
              "1622              5192.13         5742.13  \n",
              "260               5109.34         5659.34  \n",
              "3105              5095.55         5645.55  \n",
              "1793              4672.43         5222.43  \n",
              "...                   ...             ...  \n",
              "1396                 0.00          550.00  \n",
              "1395                 0.00          550.00  \n",
              "1394                 0.00          550.00  \n",
              "2479                 0.00          550.00  \n",
              "373                  0.00          550.00  \n",
              "\n",
              "[3214 rows x 22 columns]"
            ]
          },
          "metadata": {
            "tags": []
          }
        }
      ]
    },
    {
      "cell_type": "markdown",
      "metadata": {
        "id": "lAP_1suItzoQ"
      },
      "source": [
        "### Вывод:\n",
        "1. Привели данные к нужным типам, нашли и исправили ошибки в данных.\n",
        "2. Сгруппировали таблицы по заданным признакам и склеили в одну, также рассчитали дополнительные параметры, чтобы осуществить дальнейший анализ."
      ]
    },
    {
      "cell_type": "markdown",
      "metadata": {
        "id": "m7PHFU35tzoQ"
      },
      "source": [
        "## Шаг 3. Проанализируем данные"
      ]
    },
    {
      "cell_type": "code",
      "metadata": {
        "id": "pZuBeW8StzoQ",
        "outputId": "f866e5ec-5ad5-432a-cb10-ce77327c2370"
      },
      "source": [
        "print(df['tariff'].value_counts())"
      ],
      "execution_count": null,
      "outputs": [
        {
          "output_type": "stream",
          "text": [
            "smart    2229\n",
            "ultra     985\n",
            "Name: tariff, dtype: int64\n"
          ],
          "name": "stdout"
        }
      ]
    },
    {
      "cell_type": "markdown",
      "metadata": {
        "id": "3AHXRRH2tzoQ"
      },
      "source": [
        "<b>Разобьем df по тарифу на две выборки</b>"
      ]
    },
    {
      "cell_type": "code",
      "metadata": {
        "id": "ISU0QLPHtzoQ",
        "outputId": "2212c6ca-4ae7-4d41-ddee-c799f7b382e8"
      },
      "source": [
        "smart_df = df.query('tariff == \"smart\"')\n",
        "display(smart_df)"
      ],
      "execution_count": null,
      "outputs": [
        {
          "output_type": "display_data",
          "data": {
            "text/html": [
              "<div>\n",
              "<style scoped>\n",
              "    .dataframe tbody tr th:only-of-type {\n",
              "        vertical-align: middle;\n",
              "    }\n",
              "\n",
              "    .dataframe tbody tr th {\n",
              "        vertical-align: top;\n",
              "    }\n",
              "\n",
              "    .dataframe thead th {\n",
              "        text-align: right;\n",
              "    }\n",
              "</style>\n",
              "<table border=\"1\" class=\"dataframe\">\n",
              "  <thead>\n",
              "    <tr style=\"text-align: right;\">\n",
              "      <th></th>\n",
              "      <th>user_id</th>\n",
              "      <th>month</th>\n",
              "      <th>total_duration</th>\n",
              "      <th>total_calls</th>\n",
              "      <th>total_messages</th>\n",
              "      <th>total_gb_used</th>\n",
              "      <th>age</th>\n",
              "      <th>churn_date</th>\n",
              "      <th>city</th>\n",
              "      <th>first_name</th>\n",
              "      <th>...</th>\n",
              "      <th>tariff</th>\n",
              "      <th>messages_included</th>\n",
              "      <th>gb_per_month_included</th>\n",
              "      <th>minutes_included</th>\n",
              "      <th>rub_monthly_fee</th>\n",
              "      <th>rub_per_gb</th>\n",
              "      <th>rub_per_message</th>\n",
              "      <th>rub_per_minute</th>\n",
              "      <th>total_excess_tariff</th>\n",
              "      <th>total_proceeds</th>\n",
              "    </tr>\n",
              "  </thead>\n",
              "  <tbody>\n",
              "    <tr>\n",
              "      <td>8</td>\n",
              "      <td>1001</td>\n",
              "      <td>11</td>\n",
              "      <td>444.00</td>\n",
              "      <td>59.00</td>\n",
              "      <td>0.00</td>\n",
              "      <td>18.02</td>\n",
              "      <td>41</td>\n",
              "      <td>NaT</td>\n",
              "      <td>Москва</td>\n",
              "      <td>Иван</td>\n",
              "      <td>...</td>\n",
              "      <td>smart</td>\n",
              "      <td>50</td>\n",
              "      <td>15.00</td>\n",
              "      <td>500</td>\n",
              "      <td>550</td>\n",
              "      <td>200</td>\n",
              "      <td>3</td>\n",
              "      <td>3</td>\n",
              "      <td>603.91</td>\n",
              "      <td>1153.91</td>\n",
              "    </tr>\n",
              "    <tr>\n",
              "      <td>9</td>\n",
              "      <td>1001</td>\n",
              "      <td>12</td>\n",
              "      <td>430.00</td>\n",
              "      <td>63.00</td>\n",
              "      <td>0.00</td>\n",
              "      <td>13.72</td>\n",
              "      <td>41</td>\n",
              "      <td>NaT</td>\n",
              "      <td>Москва</td>\n",
              "      <td>Иван</td>\n",
              "      <td>...</td>\n",
              "      <td>smart</td>\n",
              "      <td>50</td>\n",
              "      <td>15.00</td>\n",
              "      <td>500</td>\n",
              "      <td>550</td>\n",
              "      <td>200</td>\n",
              "      <td>3</td>\n",
              "      <td>3</td>\n",
              "      <td>0.00</td>\n",
              "      <td>550.00</td>\n",
              "    </tr>\n",
              "    <tr>\n",
              "      <td>10</td>\n",
              "      <td>1002</td>\n",
              "      <td>6</td>\n",
              "      <td>118.00</td>\n",
              "      <td>15.00</td>\n",
              "      <td>4.00</td>\n",
              "      <td>10.62</td>\n",
              "      <td>59</td>\n",
              "      <td>NaT</td>\n",
              "      <td>Стерлитамак</td>\n",
              "      <td>Евгений</td>\n",
              "      <td>...</td>\n",
              "      <td>smart</td>\n",
              "      <td>50</td>\n",
              "      <td>15.00</td>\n",
              "      <td>500</td>\n",
              "      <td>550</td>\n",
              "      <td>200</td>\n",
              "      <td>3</td>\n",
              "      <td>3</td>\n",
              "      <td>0.00</td>\n",
              "      <td>550.00</td>\n",
              "    </tr>\n",
              "    <tr>\n",
              "      <td>11</td>\n",
              "      <td>1002</td>\n",
              "      <td>7</td>\n",
              "      <td>219.00</td>\n",
              "      <td>26.00</td>\n",
              "      <td>11.00</td>\n",
              "      <td>17.19</td>\n",
              "      <td>59</td>\n",
              "      <td>NaT</td>\n",
              "      <td>Стерлитамак</td>\n",
              "      <td>Евгений</td>\n",
              "      <td>...</td>\n",
              "      <td>smart</td>\n",
              "      <td>50</td>\n",
              "      <td>15.00</td>\n",
              "      <td>500</td>\n",
              "      <td>550</td>\n",
              "      <td>200</td>\n",
              "      <td>3</td>\n",
              "      <td>3</td>\n",
              "      <td>437.70</td>\n",
              "      <td>987.70</td>\n",
              "    </tr>\n",
              "    <tr>\n",
              "      <td>12</td>\n",
              "      <td>1002</td>\n",
              "      <td>8</td>\n",
              "      <td>294.00</td>\n",
              "      <td>42.00</td>\n",
              "      <td>13.00</td>\n",
              "      <td>19.87</td>\n",
              "      <td>59</td>\n",
              "      <td>NaT</td>\n",
              "      <td>Стерлитамак</td>\n",
              "      <td>Евгений</td>\n",
              "      <td>...</td>\n",
              "      <td>smart</td>\n",
              "      <td>50</td>\n",
              "      <td>15.00</td>\n",
              "      <td>500</td>\n",
              "      <td>550</td>\n",
              "      <td>200</td>\n",
              "      <td>3</td>\n",
              "      <td>3</td>\n",
              "      <td>974.02</td>\n",
              "      <td>1524.02</td>\n",
              "    </tr>\n",
              "    <tr>\n",
              "      <td>...</td>\n",
              "      <td>...</td>\n",
              "      <td>...</td>\n",
              "      <td>...</td>\n",
              "      <td>...</td>\n",
              "      <td>...</td>\n",
              "      <td>...</td>\n",
              "      <td>...</td>\n",
              "      <td>...</td>\n",
              "      <td>...</td>\n",
              "      <td>...</td>\n",
              "      <td>...</td>\n",
              "      <td>...</td>\n",
              "      <td>...</td>\n",
              "      <td>...</td>\n",
              "      <td>...</td>\n",
              "      <td>...</td>\n",
              "      <td>...</td>\n",
              "      <td>...</td>\n",
              "      <td>...</td>\n",
              "      <td>...</td>\n",
              "      <td>...</td>\n",
              "    </tr>\n",
              "    <tr>\n",
              "      <td>3208</td>\n",
              "      <td>1489</td>\n",
              "      <td>8</td>\n",
              "      <td>0.00</td>\n",
              "      <td>0.00</td>\n",
              "      <td>17.00</td>\n",
              "      <td>10.81</td>\n",
              "      <td>35</td>\n",
              "      <td>NaT</td>\n",
              "      <td>Санкт-Петербург</td>\n",
              "      <td>Павел</td>\n",
              "      <td>...</td>\n",
              "      <td>smart</td>\n",
              "      <td>50</td>\n",
              "      <td>15.00</td>\n",
              "      <td>500</td>\n",
              "      <td>550</td>\n",
              "      <td>200</td>\n",
              "      <td>3</td>\n",
              "      <td>3</td>\n",
              "      <td>0.00</td>\n",
              "      <td>550.00</td>\n",
              "    </tr>\n",
              "    <tr>\n",
              "      <td>3209</td>\n",
              "      <td>1489</td>\n",
              "      <td>9</td>\n",
              "      <td>0.00</td>\n",
              "      <td>0.00</td>\n",
              "      <td>32.00</td>\n",
              "      <td>16.83</td>\n",
              "      <td>35</td>\n",
              "      <td>NaT</td>\n",
              "      <td>Санкт-Петербург</td>\n",
              "      <td>Павел</td>\n",
              "      <td>...</td>\n",
              "      <td>smart</td>\n",
              "      <td>50</td>\n",
              "      <td>15.00</td>\n",
              "      <td>500</td>\n",
              "      <td>550</td>\n",
              "      <td>200</td>\n",
              "      <td>3</td>\n",
              "      <td>3</td>\n",
              "      <td>365.62</td>\n",
              "      <td>915.62</td>\n",
              "    </tr>\n",
              "    <tr>\n",
              "      <td>3210</td>\n",
              "      <td>1489</td>\n",
              "      <td>10</td>\n",
              "      <td>0.00</td>\n",
              "      <td>0.00</td>\n",
              "      <td>21.00</td>\n",
              "      <td>19.13</td>\n",
              "      <td>35</td>\n",
              "      <td>NaT</td>\n",
              "      <td>Санкт-Петербург</td>\n",
              "      <td>Павел</td>\n",
              "      <td>...</td>\n",
              "      <td>smart</td>\n",
              "      <td>50</td>\n",
              "      <td>15.00</td>\n",
              "      <td>500</td>\n",
              "      <td>550</td>\n",
              "      <td>200</td>\n",
              "      <td>3</td>\n",
              "      <td>3</td>\n",
              "      <td>825.78</td>\n",
              "      <td>1375.78</td>\n",
              "    </tr>\n",
              "    <tr>\n",
              "      <td>3211</td>\n",
              "      <td>1489</td>\n",
              "      <td>11</td>\n",
              "      <td>0.00</td>\n",
              "      <td>0.00</td>\n",
              "      <td>20.00</td>\n",
              "      <td>17.11</td>\n",
              "      <td>35</td>\n",
              "      <td>NaT</td>\n",
              "      <td>Санкт-Петербург</td>\n",
              "      <td>Павел</td>\n",
              "      <td>...</td>\n",
              "      <td>smart</td>\n",
              "      <td>50</td>\n",
              "      <td>15.00</td>\n",
              "      <td>500</td>\n",
              "      <td>550</td>\n",
              "      <td>200</td>\n",
              "      <td>3</td>\n",
              "      <td>3</td>\n",
              "      <td>421.09</td>\n",
              "      <td>971.09</td>\n",
              "    </tr>\n",
              "    <tr>\n",
              "      <td>3212</td>\n",
              "      <td>1489</td>\n",
              "      <td>12</td>\n",
              "      <td>0.00</td>\n",
              "      <td>0.00</td>\n",
              "      <td>35.00</td>\n",
              "      <td>16.93</td>\n",
              "      <td>35</td>\n",
              "      <td>NaT</td>\n",
              "      <td>Санкт-Петербург</td>\n",
              "      <td>Павел</td>\n",
              "      <td>...</td>\n",
              "      <td>smart</td>\n",
              "      <td>50</td>\n",
              "      <td>15.00</td>\n",
              "      <td>500</td>\n",
              "      <td>550</td>\n",
              "      <td>200</td>\n",
              "      <td>3</td>\n",
              "      <td>3</td>\n",
              "      <td>386.91</td>\n",
              "      <td>936.91</td>\n",
              "    </tr>\n",
              "  </tbody>\n",
              "</table>\n",
              "<p>2229 rows × 22 columns</p>\n",
              "</div>"
            ],
            "text/plain": [
              "      user_id  month  total_duration  total_calls  total_messages  \\\n",
              "8        1001     11          444.00        59.00            0.00   \n",
              "9        1001     12          430.00        63.00            0.00   \n",
              "10       1002      6          118.00        15.00            4.00   \n",
              "11       1002      7          219.00        26.00           11.00   \n",
              "12       1002      8          294.00        42.00           13.00   \n",
              "...       ...    ...             ...          ...             ...   \n",
              "3208     1489      8            0.00         0.00           17.00   \n",
              "3209     1489      9            0.00         0.00           32.00   \n",
              "3210     1489     10            0.00         0.00           21.00   \n",
              "3211     1489     11            0.00         0.00           20.00   \n",
              "3212     1489     12            0.00         0.00           35.00   \n",
              "\n",
              "      total_gb_used  age churn_date             city first_name  ... tariff  \\\n",
              "8             18.02   41        NaT           Москва       Иван  ...  smart   \n",
              "9             13.72   41        NaT           Москва       Иван  ...  smart   \n",
              "10            10.62   59        NaT      Стерлитамак    Евгений  ...  smart   \n",
              "11            17.19   59        NaT      Стерлитамак    Евгений  ...  smart   \n",
              "12            19.87   59        NaT      Стерлитамак    Евгений  ...  smart   \n",
              "...             ...  ...        ...              ...        ...  ...    ...   \n",
              "3208          10.81   35        NaT  Санкт-Петербург      Павел  ...  smart   \n",
              "3209          16.83   35        NaT  Санкт-Петербург      Павел  ...  smart   \n",
              "3210          19.13   35        NaT  Санкт-Петербург      Павел  ...  smart   \n",
              "3211          17.11   35        NaT  Санкт-Петербург      Павел  ...  smart   \n",
              "3212          16.93   35        NaT  Санкт-Петербург      Павел  ...  smart   \n",
              "\n",
              "     messages_included gb_per_month_included  minutes_included  \\\n",
              "8                   50                 15.00               500   \n",
              "9                   50                 15.00               500   \n",
              "10                  50                 15.00               500   \n",
              "11                  50                 15.00               500   \n",
              "12                  50                 15.00               500   \n",
              "...                ...                   ...               ...   \n",
              "3208                50                 15.00               500   \n",
              "3209                50                 15.00               500   \n",
              "3210                50                 15.00               500   \n",
              "3211                50                 15.00               500   \n",
              "3212                50                 15.00               500   \n",
              "\n",
              "      rub_monthly_fee  rub_per_gb  rub_per_message  rub_per_minute  \\\n",
              "8                 550         200                3               3   \n",
              "9                 550         200                3               3   \n",
              "10                550         200                3               3   \n",
              "11                550         200                3               3   \n",
              "12                550         200                3               3   \n",
              "...               ...         ...              ...             ...   \n",
              "3208              550         200                3               3   \n",
              "3209              550         200                3               3   \n",
              "3210              550         200                3               3   \n",
              "3211              550         200                3               3   \n",
              "3212              550         200                3               3   \n",
              "\n",
              "      total_excess_tariff  total_proceeds  \n",
              "8                  603.91         1153.91  \n",
              "9                    0.00          550.00  \n",
              "10                   0.00          550.00  \n",
              "11                 437.70          987.70  \n",
              "12                 974.02         1524.02  \n",
              "...                   ...             ...  \n",
              "3208                 0.00          550.00  \n",
              "3209               365.62          915.62  \n",
              "3210               825.78         1375.78  \n",
              "3211               421.09          971.09  \n",
              "3212               386.91          936.91  \n",
              "\n",
              "[2229 rows x 22 columns]"
            ]
          },
          "metadata": {
            "tags": []
          }
        }
      ]
    },
    {
      "cell_type": "code",
      "metadata": {
        "id": "w9MOJUm_tzoQ",
        "outputId": "fb2709fc-e603-41b5-98aa-86643ece026a"
      },
      "source": [
        "smart_df[['total_duration','total_messages','total_gb_used','total_excess_tariff','total_proceeds']].describe()"
      ],
      "execution_count": null,
      "outputs": [
        {
          "output_type": "execute_result",
          "data": {
            "text/html": [
              "<div>\n",
              "<style scoped>\n",
              "    .dataframe tbody tr th:only-of-type {\n",
              "        vertical-align: middle;\n",
              "    }\n",
              "\n",
              "    .dataframe tbody tr th {\n",
              "        vertical-align: top;\n",
              "    }\n",
              "\n",
              "    .dataframe thead th {\n",
              "        text-align: right;\n",
              "    }\n",
              "</style>\n",
              "<table border=\"1\" class=\"dataframe\">\n",
              "  <thead>\n",
              "    <tr style=\"text-align: right;\">\n",
              "      <th></th>\n",
              "      <th>total_duration</th>\n",
              "      <th>total_messages</th>\n",
              "      <th>total_gb_used</th>\n",
              "      <th>total_excess_tariff</th>\n",
              "      <th>total_proceeds</th>\n",
              "    </tr>\n",
              "  </thead>\n",
              "  <tbody>\n",
              "    <tr>\n",
              "      <td>count</td>\n",
              "      <td>2229.00</td>\n",
              "      <td>2229.00</td>\n",
              "      <td>2229.00</td>\n",
              "      <td>2229.00</td>\n",
              "      <td>2229.00</td>\n",
              "    </tr>\n",
              "    <tr>\n",
              "      <td>mean</td>\n",
              "      <td>429.45</td>\n",
              "      <td>33.38</td>\n",
              "      <td>15.85</td>\n",
              "      <td>700.33</td>\n",
              "      <td>1250.33</td>\n",
              "    </tr>\n",
              "    <tr>\n",
              "      <td>std</td>\n",
              "      <td>194.87</td>\n",
              "      <td>28.23</td>\n",
              "      <td>5.74</td>\n",
              "      <td>797.03</td>\n",
              "      <td>797.03</td>\n",
              "    </tr>\n",
              "    <tr>\n",
              "      <td>min</td>\n",
              "      <td>0.00</td>\n",
              "      <td>0.00</td>\n",
              "      <td>0.00</td>\n",
              "      <td>0.00</td>\n",
              "      <td>550.00</td>\n",
              "    </tr>\n",
              "    <tr>\n",
              "      <td>25%</td>\n",
              "      <td>291.00</td>\n",
              "      <td>10.00</td>\n",
              "      <td>12.36</td>\n",
              "      <td>3.00</td>\n",
              "      <td>553.00</td>\n",
              "    </tr>\n",
              "    <tr>\n",
              "      <td>50%</td>\n",
              "      <td>435.00</td>\n",
              "      <td>28.00</td>\n",
              "      <td>16.14</td>\n",
              "      <td>436.49</td>\n",
              "      <td>986.49</td>\n",
              "    </tr>\n",
              "    <tr>\n",
              "      <td>75%</td>\n",
              "      <td>560.00</td>\n",
              "      <td>51.00</td>\n",
              "      <td>19.60</td>\n",
              "      <td>1151.56</td>\n",
              "      <td>1701.56</td>\n",
              "    </tr>\n",
              "    <tr>\n",
              "      <td>max</td>\n",
              "      <td>1471.00</td>\n",
              "      <td>143.00</td>\n",
              "      <td>37.71</td>\n",
              "      <td>6215.02</td>\n",
              "      <td>6765.02</td>\n",
              "    </tr>\n",
              "  </tbody>\n",
              "</table>\n",
              "</div>"
            ],
            "text/plain": [
              "       total_duration  total_messages  total_gb_used  total_excess_tariff  \\\n",
              "count         2229.00         2229.00        2229.00              2229.00   \n",
              "mean           429.45           33.38          15.85               700.33   \n",
              "std            194.87           28.23           5.74               797.03   \n",
              "min              0.00            0.00           0.00                 0.00   \n",
              "25%            291.00           10.00          12.36                 3.00   \n",
              "50%            435.00           28.00          16.14               436.49   \n",
              "75%            560.00           51.00          19.60              1151.56   \n",
              "max           1471.00          143.00          37.71              6215.02   \n",
              "\n",
              "       total_proceeds  \n",
              "count         2229.00  \n",
              "mean          1250.33  \n",
              "std            797.03  \n",
              "min            550.00  \n",
              "25%            553.00  \n",
              "50%            986.49  \n",
              "75%           1701.56  \n",
              "max           6765.02  "
            ]
          },
          "metadata": {
            "tags": []
          },
          "execution_count": 87
        }
      ]
    },
    {
      "cell_type": "code",
      "metadata": {
        "id": "dj6MZCPNtzoR",
        "outputId": "2490a0e4-4d52-4996-a14d-60895e66a97e"
      },
      "source": [
        "ultra_df = df.query('tariff == \"ultra\"')\n",
        "display(ultra_df)"
      ],
      "execution_count": null,
      "outputs": [
        {
          "output_type": "display_data",
          "data": {
            "text/html": [
              "<div>\n",
              "<style scoped>\n",
              "    .dataframe tbody tr th:only-of-type {\n",
              "        vertical-align: middle;\n",
              "    }\n",
              "\n",
              "    .dataframe tbody tr th {\n",
              "        vertical-align: top;\n",
              "    }\n",
              "\n",
              "    .dataframe thead th {\n",
              "        text-align: right;\n",
              "    }\n",
              "</style>\n",
              "<table border=\"1\" class=\"dataframe\">\n",
              "  <thead>\n",
              "    <tr style=\"text-align: right;\">\n",
              "      <th></th>\n",
              "      <th>user_id</th>\n",
              "      <th>month</th>\n",
              "      <th>total_duration</th>\n",
              "      <th>total_calls</th>\n",
              "      <th>total_messages</th>\n",
              "      <th>total_gb_used</th>\n",
              "      <th>age</th>\n",
              "      <th>churn_date</th>\n",
              "      <th>city</th>\n",
              "      <th>first_name</th>\n",
              "      <th>...</th>\n",
              "      <th>tariff</th>\n",
              "      <th>messages_included</th>\n",
              "      <th>gb_per_month_included</th>\n",
              "      <th>minutes_included</th>\n",
              "      <th>rub_monthly_fee</th>\n",
              "      <th>rub_per_gb</th>\n",
              "      <th>rub_per_message</th>\n",
              "      <th>rub_per_minute</th>\n",
              "      <th>total_excess_tariff</th>\n",
              "      <th>total_proceeds</th>\n",
              "    </tr>\n",
              "  </thead>\n",
              "  <tbody>\n",
              "    <tr>\n",
              "      <td>0</td>\n",
              "      <td>1000</td>\n",
              "      <td>5</td>\n",
              "      <td>164.00</td>\n",
              "      <td>22.00</td>\n",
              "      <td>22.00</td>\n",
              "      <td>2.20</td>\n",
              "      <td>52</td>\n",
              "      <td>NaT</td>\n",
              "      <td>Краснодар</td>\n",
              "      <td>Рафаил</td>\n",
              "      <td>...</td>\n",
              "      <td>ultra</td>\n",
              "      <td>1000</td>\n",
              "      <td>30.00</td>\n",
              "      <td>3000</td>\n",
              "      <td>1950</td>\n",
              "      <td>150</td>\n",
              "      <td>1</td>\n",
              "      <td>1</td>\n",
              "      <td>0.00</td>\n",
              "      <td>1950.00</td>\n",
              "    </tr>\n",
              "    <tr>\n",
              "      <td>1</td>\n",
              "      <td>1000</td>\n",
              "      <td>6</td>\n",
              "      <td>187.00</td>\n",
              "      <td>43.00</td>\n",
              "      <td>60.00</td>\n",
              "      <td>22.71</td>\n",
              "      <td>52</td>\n",
              "      <td>NaT</td>\n",
              "      <td>Краснодар</td>\n",
              "      <td>Рафаил</td>\n",
              "      <td>...</td>\n",
              "      <td>ultra</td>\n",
              "      <td>1000</td>\n",
              "      <td>30.00</td>\n",
              "      <td>3000</td>\n",
              "      <td>1950</td>\n",
              "      <td>150</td>\n",
              "      <td>1</td>\n",
              "      <td>1</td>\n",
              "      <td>0.00</td>\n",
              "      <td>1950.00</td>\n",
              "    </tr>\n",
              "    <tr>\n",
              "      <td>2</td>\n",
              "      <td>1000</td>\n",
              "      <td>7</td>\n",
              "      <td>346.00</td>\n",
              "      <td>47.00</td>\n",
              "      <td>75.00</td>\n",
              "      <td>13.69</td>\n",
              "      <td>52</td>\n",
              "      <td>NaT</td>\n",
              "      <td>Краснодар</td>\n",
              "      <td>Рафаил</td>\n",
              "      <td>...</td>\n",
              "      <td>ultra</td>\n",
              "      <td>1000</td>\n",
              "      <td>30.00</td>\n",
              "      <td>3000</td>\n",
              "      <td>1950</td>\n",
              "      <td>150</td>\n",
              "      <td>1</td>\n",
              "      <td>1</td>\n",
              "      <td>0.00</td>\n",
              "      <td>1950.00</td>\n",
              "    </tr>\n",
              "    <tr>\n",
              "      <td>3</td>\n",
              "      <td>1000</td>\n",
              "      <td>8</td>\n",
              "      <td>418.00</td>\n",
              "      <td>52.00</td>\n",
              "      <td>81.00</td>\n",
              "      <td>13.74</td>\n",
              "      <td>52</td>\n",
              "      <td>NaT</td>\n",
              "      <td>Краснодар</td>\n",
              "      <td>Рафаил</td>\n",
              "      <td>...</td>\n",
              "      <td>ultra</td>\n",
              "      <td>1000</td>\n",
              "      <td>30.00</td>\n",
              "      <td>3000</td>\n",
              "      <td>1950</td>\n",
              "      <td>150</td>\n",
              "      <td>1</td>\n",
              "      <td>1</td>\n",
              "      <td>0.00</td>\n",
              "      <td>1950.00</td>\n",
              "    </tr>\n",
              "    <tr>\n",
              "      <td>4</td>\n",
              "      <td>1000</td>\n",
              "      <td>9</td>\n",
              "      <td>478.00</td>\n",
              "      <td>58.00</td>\n",
              "      <td>57.00</td>\n",
              "      <td>14.24</td>\n",
              "      <td>52</td>\n",
              "      <td>NaT</td>\n",
              "      <td>Краснодар</td>\n",
              "      <td>Рафаил</td>\n",
              "      <td>...</td>\n",
              "      <td>ultra</td>\n",
              "      <td>1000</td>\n",
              "      <td>30.00</td>\n",
              "      <td>3000</td>\n",
              "      <td>1950</td>\n",
              "      <td>150</td>\n",
              "      <td>1</td>\n",
              "      <td>1</td>\n",
              "      <td>0.00</td>\n",
              "      <td>1950.00</td>\n",
              "    </tr>\n",
              "    <tr>\n",
              "      <td>...</td>\n",
              "      <td>...</td>\n",
              "      <td>...</td>\n",
              "      <td>...</td>\n",
              "      <td>...</td>\n",
              "      <td>...</td>\n",
              "      <td>...</td>\n",
              "      <td>...</td>\n",
              "      <td>...</td>\n",
              "      <td>...</td>\n",
              "      <td>...</td>\n",
              "      <td>...</td>\n",
              "      <td>...</td>\n",
              "      <td>...</td>\n",
              "      <td>...</td>\n",
              "      <td>...</td>\n",
              "      <td>...</td>\n",
              "      <td>...</td>\n",
              "      <td>...</td>\n",
              "      <td>...</td>\n",
              "      <td>...</td>\n",
              "      <td>...</td>\n",
              "    </tr>\n",
              "    <tr>\n",
              "      <td>3204</td>\n",
              "      <td>1473</td>\n",
              "      <td>9</td>\n",
              "      <td>0.00</td>\n",
              "      <td>0.00</td>\n",
              "      <td>19.00</td>\n",
              "      <td>16.90</td>\n",
              "      <td>18</td>\n",
              "      <td>NaT</td>\n",
              "      <td>Красноярск</td>\n",
              "      <td>Николай</td>\n",
              "      <td>...</td>\n",
              "      <td>ultra</td>\n",
              "      <td>1000</td>\n",
              "      <td>30.00</td>\n",
              "      <td>3000</td>\n",
              "      <td>1950</td>\n",
              "      <td>150</td>\n",
              "      <td>1</td>\n",
              "      <td>1</td>\n",
              "      <td>0.00</td>\n",
              "      <td>1950.00</td>\n",
              "    </tr>\n",
              "    <tr>\n",
              "      <td>3205</td>\n",
              "      <td>1473</td>\n",
              "      <td>10</td>\n",
              "      <td>0.00</td>\n",
              "      <td>0.00</td>\n",
              "      <td>20.00</td>\n",
              "      <td>13.38</td>\n",
              "      <td>18</td>\n",
              "      <td>NaT</td>\n",
              "      <td>Красноярск</td>\n",
              "      <td>Николай</td>\n",
              "      <td>...</td>\n",
              "      <td>ultra</td>\n",
              "      <td>1000</td>\n",
              "      <td>30.00</td>\n",
              "      <td>3000</td>\n",
              "      <td>1950</td>\n",
              "      <td>150</td>\n",
              "      <td>1</td>\n",
              "      <td>1</td>\n",
              "      <td>0.00</td>\n",
              "      <td>1950.00</td>\n",
              "    </tr>\n",
              "    <tr>\n",
              "      <td>3206</td>\n",
              "      <td>1473</td>\n",
              "      <td>11</td>\n",
              "      <td>0.00</td>\n",
              "      <td>0.00</td>\n",
              "      <td>14.00</td>\n",
              "      <td>21.18</td>\n",
              "      <td>18</td>\n",
              "      <td>NaT</td>\n",
              "      <td>Красноярск</td>\n",
              "      <td>Николай</td>\n",
              "      <td>...</td>\n",
              "      <td>ultra</td>\n",
              "      <td>1000</td>\n",
              "      <td>30.00</td>\n",
              "      <td>3000</td>\n",
              "      <td>1950</td>\n",
              "      <td>150</td>\n",
              "      <td>1</td>\n",
              "      <td>1</td>\n",
              "      <td>0.00</td>\n",
              "      <td>1950.00</td>\n",
              "    </tr>\n",
              "    <tr>\n",
              "      <td>3207</td>\n",
              "      <td>1473</td>\n",
              "      <td>12</td>\n",
              "      <td>0.00</td>\n",
              "      <td>0.00</td>\n",
              "      <td>20.00</td>\n",
              "      <td>18.00</td>\n",
              "      <td>18</td>\n",
              "      <td>NaT</td>\n",
              "      <td>Красноярск</td>\n",
              "      <td>Николай</td>\n",
              "      <td>...</td>\n",
              "      <td>ultra</td>\n",
              "      <td>1000</td>\n",
              "      <td>30.00</td>\n",
              "      <td>3000</td>\n",
              "      <td>1950</td>\n",
              "      <td>150</td>\n",
              "      <td>1</td>\n",
              "      <td>1</td>\n",
              "      <td>0.00</td>\n",
              "      <td>1950.00</td>\n",
              "    </tr>\n",
              "    <tr>\n",
              "      <td>3213</td>\n",
              "      <td>1476</td>\n",
              "      <td>4</td>\n",
              "      <td>0.00</td>\n",
              "      <td>0.00</td>\n",
              "      <td>0.00</td>\n",
              "      <td>0.52</td>\n",
              "      <td>50</td>\n",
              "      <td>NaT</td>\n",
              "      <td>Москва</td>\n",
              "      <td>Валентина</td>\n",
              "      <td>...</td>\n",
              "      <td>ultra</td>\n",
              "      <td>1000</td>\n",
              "      <td>30.00</td>\n",
              "      <td>3000</td>\n",
              "      <td>1950</td>\n",
              "      <td>150</td>\n",
              "      <td>1</td>\n",
              "      <td>1</td>\n",
              "      <td>0.00</td>\n",
              "      <td>1950.00</td>\n",
              "    </tr>\n",
              "  </tbody>\n",
              "</table>\n",
              "<p>985 rows × 22 columns</p>\n",
              "</div>"
            ],
            "text/plain": [
              "      user_id  month  total_duration  total_calls  total_messages  \\\n",
              "0        1000      5          164.00        22.00           22.00   \n",
              "1        1000      6          187.00        43.00           60.00   \n",
              "2        1000      7          346.00        47.00           75.00   \n",
              "3        1000      8          418.00        52.00           81.00   \n",
              "4        1000      9          478.00        58.00           57.00   \n",
              "...       ...    ...             ...          ...             ...   \n",
              "3204     1473      9            0.00         0.00           19.00   \n",
              "3205     1473     10            0.00         0.00           20.00   \n",
              "3206     1473     11            0.00         0.00           14.00   \n",
              "3207     1473     12            0.00         0.00           20.00   \n",
              "3213     1476      4            0.00         0.00            0.00   \n",
              "\n",
              "      total_gb_used  age churn_date        city first_name  ... tariff  \\\n",
              "0              2.20   52        NaT   Краснодар     Рафаил  ...  ultra   \n",
              "1             22.71   52        NaT   Краснодар     Рафаил  ...  ultra   \n",
              "2             13.69   52        NaT   Краснодар     Рафаил  ...  ultra   \n",
              "3             13.74   52        NaT   Краснодар     Рафаил  ...  ultra   \n",
              "4             14.24   52        NaT   Краснодар     Рафаил  ...  ultra   \n",
              "...             ...  ...        ...         ...        ...  ...    ...   \n",
              "3204          16.90   18        NaT  Красноярск    Николай  ...  ultra   \n",
              "3205          13.38   18        NaT  Красноярск    Николай  ...  ultra   \n",
              "3206          21.18   18        NaT  Красноярск    Николай  ...  ultra   \n",
              "3207          18.00   18        NaT  Красноярск    Николай  ...  ultra   \n",
              "3213           0.52   50        NaT      Москва  Валентина  ...  ultra   \n",
              "\n",
              "     messages_included gb_per_month_included  minutes_included  \\\n",
              "0                 1000                 30.00              3000   \n",
              "1                 1000                 30.00              3000   \n",
              "2                 1000                 30.00              3000   \n",
              "3                 1000                 30.00              3000   \n",
              "4                 1000                 30.00              3000   \n",
              "...                ...                   ...               ...   \n",
              "3204              1000                 30.00              3000   \n",
              "3205              1000                 30.00              3000   \n",
              "3206              1000                 30.00              3000   \n",
              "3207              1000                 30.00              3000   \n",
              "3213              1000                 30.00              3000   \n",
              "\n",
              "      rub_monthly_fee  rub_per_gb  rub_per_message  rub_per_minute  \\\n",
              "0                1950         150                1               1   \n",
              "1                1950         150                1               1   \n",
              "2                1950         150                1               1   \n",
              "3                1950         150                1               1   \n",
              "4                1950         150                1               1   \n",
              "...               ...         ...              ...             ...   \n",
              "3204             1950         150                1               1   \n",
              "3205             1950         150                1               1   \n",
              "3206             1950         150                1               1   \n",
              "3207             1950         150                1               1   \n",
              "3213             1950         150                1               1   \n",
              "\n",
              "      total_excess_tariff  total_proceeds  \n",
              "0                    0.00         1950.00  \n",
              "1                    0.00         1950.00  \n",
              "2                    0.00         1950.00  \n",
              "3                    0.00         1950.00  \n",
              "4                    0.00         1950.00  \n",
              "...                   ...             ...  \n",
              "3204                 0.00         1950.00  \n",
              "3205                 0.00         1950.00  \n",
              "3206                 0.00         1950.00  \n",
              "3207                 0.00         1950.00  \n",
              "3213                 0.00         1950.00  \n",
              "\n",
              "[985 rows x 22 columns]"
            ]
          },
          "metadata": {
            "tags": []
          }
        }
      ]
    },
    {
      "cell_type": "code",
      "metadata": {
        "id": "jlJ8-TlytzoR",
        "outputId": "65a3b3c2-2a42-40d3-de33-38c9e8136a28"
      },
      "source": [
        "ultra_df[['total_duration','total_messages','total_gb_used','total_excess_tariff','total_proceeds']].describe()"
      ],
      "execution_count": null,
      "outputs": [
        {
          "output_type": "execute_result",
          "data": {
            "text/html": [
              "<div>\n",
              "<style scoped>\n",
              "    .dataframe tbody tr th:only-of-type {\n",
              "        vertical-align: middle;\n",
              "    }\n",
              "\n",
              "    .dataframe tbody tr th {\n",
              "        vertical-align: top;\n",
              "    }\n",
              "\n",
              "    .dataframe thead th {\n",
              "        text-align: right;\n",
              "    }\n",
              "</style>\n",
              "<table border=\"1\" class=\"dataframe\">\n",
              "  <thead>\n",
              "    <tr style=\"text-align: right;\">\n",
              "      <th></th>\n",
              "      <th>total_duration</th>\n",
              "      <th>total_messages</th>\n",
              "      <th>total_gb_used</th>\n",
              "      <th>total_excess_tariff</th>\n",
              "      <th>total_proceeds</th>\n",
              "    </tr>\n",
              "  </thead>\n",
              "  <tbody>\n",
              "    <tr>\n",
              "      <td>count</td>\n",
              "      <td>985.00</td>\n",
              "      <td>985.00</td>\n",
              "      <td>985.00</td>\n",
              "      <td>985.00</td>\n",
              "      <td>985.00</td>\n",
              "    </tr>\n",
              "    <tr>\n",
              "      <td>mean</td>\n",
              "      <td>540.78</td>\n",
              "      <td>49.36</td>\n",
              "      <td>19.03</td>\n",
              "      <td>110.53</td>\n",
              "      <td>2060.53</td>\n",
              "    </tr>\n",
              "    <tr>\n",
              "      <td>std</td>\n",
              "      <td>325.74</td>\n",
              "      <td>47.80</td>\n",
              "      <td>9.86</td>\n",
              "      <td>356.31</td>\n",
              "      <td>356.31</td>\n",
              "    </tr>\n",
              "    <tr>\n",
              "      <td>min</td>\n",
              "      <td>0.00</td>\n",
              "      <td>0.00</td>\n",
              "      <td>0.00</td>\n",
              "      <td>0.00</td>\n",
              "      <td>1950.00</td>\n",
              "    </tr>\n",
              "    <tr>\n",
              "      <td>25%</td>\n",
              "      <td>292.00</td>\n",
              "      <td>6.00</td>\n",
              "      <td>11.51</td>\n",
              "      <td>0.00</td>\n",
              "      <td>1950.00</td>\n",
              "    </tr>\n",
              "    <tr>\n",
              "      <td>50%</td>\n",
              "      <td>532.00</td>\n",
              "      <td>38.00</td>\n",
              "      <td>18.87</td>\n",
              "      <td>0.00</td>\n",
              "      <td>1950.00</td>\n",
              "    </tr>\n",
              "    <tr>\n",
              "      <td>75%</td>\n",
              "      <td>773.00</td>\n",
              "      <td>79.00</td>\n",
              "      <td>26.23</td>\n",
              "      <td>0.00</td>\n",
              "      <td>1950.00</td>\n",
              "    </tr>\n",
              "    <tr>\n",
              "      <td>max</td>\n",
              "      <td>1727.00</td>\n",
              "      <td>224.00</td>\n",
              "      <td>48.62</td>\n",
              "      <td>2793.31</td>\n",
              "      <td>4743.31</td>\n",
              "    </tr>\n",
              "  </tbody>\n",
              "</table>\n",
              "</div>"
            ],
            "text/plain": [
              "       total_duration  total_messages  total_gb_used  total_excess_tariff  \\\n",
              "count          985.00          985.00         985.00               985.00   \n",
              "mean           540.78           49.36          19.03               110.53   \n",
              "std            325.74           47.80           9.86               356.31   \n",
              "min              0.00            0.00           0.00                 0.00   \n",
              "25%            292.00            6.00          11.51                 0.00   \n",
              "50%            532.00           38.00          18.87                 0.00   \n",
              "75%            773.00           79.00          26.23                 0.00   \n",
              "max           1727.00          224.00          48.62              2793.31   \n",
              "\n",
              "       total_proceeds  \n",
              "count          985.00  \n",
              "mean          2060.53  \n",
              "std            356.31  \n",
              "min           1950.00  \n",
              "25%           1950.00  \n",
              "50%           1950.00  \n",
              "75%           1950.00  \n",
              "max           4743.31  "
            ]
          },
          "metadata": {
            "tags": []
          },
          "execution_count": 89
        }
      ]
    },
    {
      "cell_type": "markdown",
      "metadata": {
        "id": "s0-DXWNMtzoR"
      },
      "source": [
        "<b>В тарифе Ultra подавляющее большинство пользователей укладываются в тариф, что не скажешь про пользователей тарифа Smart. Особенно стоит заметить, что в тарифе Smart преобладающее количество пользователей не укладываются в трафик интернета. Рассмотрим каждую составляющую тарифов по отдельности.</b>"
      ]
    },
    {
      "cell_type": "markdown",
      "metadata": {
        "id": "ygjgcchztzoR"
      },
      "source": [
        "<b>Рассмотрим, сколько минут разговора требуется пользователям каждого тарифа в месяц.</b>"
      ]
    },
    {
      "cell_type": "code",
      "metadata": {
        "id": "lypixTrdtzoR",
        "outputId": "79cf2938-a55e-4166-8535-f8345cff96c5"
      },
      "source": [
        "df.groupby('tariff').agg({'total_duration':['mean','median','var','std']})"
      ],
      "execution_count": null,
      "outputs": [
        {
          "output_type": "execute_result",
          "data": {
            "text/html": [
              "<div>\n",
              "<style scoped>\n",
              "    .dataframe tbody tr th:only-of-type {\n",
              "        vertical-align: middle;\n",
              "    }\n",
              "\n",
              "    .dataframe tbody tr th {\n",
              "        vertical-align: top;\n",
              "    }\n",
              "\n",
              "    .dataframe thead tr th {\n",
              "        text-align: left;\n",
              "    }\n",
              "\n",
              "    .dataframe thead tr:last-of-type th {\n",
              "        text-align: right;\n",
              "    }\n",
              "</style>\n",
              "<table border=\"1\" class=\"dataframe\">\n",
              "  <thead>\n",
              "    <tr>\n",
              "      <th></th>\n",
              "      <th colspan=\"4\" halign=\"left\">total_duration</th>\n",
              "    </tr>\n",
              "    <tr>\n",
              "      <th></th>\n",
              "      <th>mean</th>\n",
              "      <th>median</th>\n",
              "      <th>var</th>\n",
              "      <th>std</th>\n",
              "    </tr>\n",
              "    <tr>\n",
              "      <th>tariff</th>\n",
              "      <th></th>\n",
              "      <th></th>\n",
              "      <th></th>\n",
              "      <th></th>\n",
              "    </tr>\n",
              "  </thead>\n",
              "  <tbody>\n",
              "    <tr>\n",
              "      <td>smart</td>\n",
              "      <td>429.45</td>\n",
              "      <td>435.00</td>\n",
              "      <td>37974.77</td>\n",
              "      <td>194.87</td>\n",
              "    </tr>\n",
              "    <tr>\n",
              "      <td>ultra</td>\n",
              "      <td>540.78</td>\n",
              "      <td>532.00</td>\n",
              "      <td>106105.73</td>\n",
              "      <td>325.74</td>\n",
              "    </tr>\n",
              "  </tbody>\n",
              "</table>\n",
              "</div>"
            ],
            "text/plain": [
              "       total_duration                        \n",
              "                 mean median       var    std\n",
              "tariff                                       \n",
              "smart          429.45 435.00  37974.77 194.87\n",
              "ultra          540.78 532.00 106105.73 325.74"
            ]
          },
          "metadata": {
            "tags": []
          },
          "execution_count": 90
        }
      ]
    },
    {
      "cell_type": "code",
      "metadata": {
        "id": "efGMHadstzoR",
        "outputId": "f765f2e5-5fd0-46bd-c27f-d32113a830b5"
      },
      "source": [
        "smart_df['total_duration'].plot(kind = 'hist',bins = 50, range = (10, 1600), grid =True)\n",
        "plt.xlabel('Кол-тво минут в месяц')\n",
        "plt.ylabel('Кол-тво звонков')\n",
        "plt.show()"
      ],
      "execution_count": null,
      "outputs": [
        {
          "output_type": "display_data",
          "data": {
            "image/png": "[encoded data removed]",
            "text/plain": [
              "<Figure size 432x288 with 1 Axes>"
            ]
          },
          "metadata": {
            "tags": [],
            "needs_background": "light"
          }
        }
      ]
    },
    {
      "cell_type": "markdown",
      "metadata": {
        "id": "P5WHZL9qtzoS"
      },
      "source": [
        "1. <b>В данной гистограмме наблюдаются выбросы.\n",
        "2. Заметим, что медиана и среднее близки, тем не менее гистограмма чуть скошена влево.\n",
        "3. Узнаем характерный разброс, построим диаграмму размаха.</b>"
      ]
    },
    {
      "cell_type": "code",
      "metadata": {
        "id": "UMUDwINQtzoS",
        "outputId": "8b1d3318-4be1-40e8-af0c-131e5e1edf1b"
      },
      "source": [
        "smart_df.boxplot(['total_duration'], figsize = (8,8))\n",
        "plt.ylabel('Кол-тво минут в месяц')\n",
        "plt.ylim(-15, 1600)"
      ],
      "execution_count": null,
      "outputs": [
        {
          "output_type": "execute_result",
          "data": {
            "text/plain": [
              "(-15, 1600)"
            ]
          },
          "metadata": {
            "tags": []
          },
          "execution_count": 92
        },
        {
          "output_type": "display_data",
          "data": {
            "image/png": "[encoded data removed]",
            "text/plain": [
              "<Figure size 576x576 with 1 Axes>"
            ]
          },
          "metadata": {
            "tags": [],
            "needs_background": "light"
          }
        }
      ]
    },
    {
      "cell_type": "code",
      "metadata": {
        "id": "C9dU2BpJtzoS",
        "outputId": "a703f6f8-0e4a-4cc6-a571-c2bcd3036fbd"
      },
      "source": [
        "ultra_df['total_duration'].plot(kind = 'hist',bins = 50, range = (10, 1800), grid =True)\n",
        "plt.xlabel('Кол-тво минут в месяц')\n",
        "plt.ylabel('Кол-тво звонков')\n",
        "plt.show()"
      ],
      "execution_count": null,
      "outputs": [
        {
          "output_type": "display_data",
          "data": {
            "image/png": "[encoded data removed]",
            "text/plain": [
              "<Figure size 432x288 with 1 Axes>"
            ]
          },
          "metadata": {
            "tags": [],
            "needs_background": "light"
          }
        }
      ]
    },
    {
      "cell_type": "markdown",
      "metadata": {
        "id": "s-KaxMxRtzoS"
      },
      "source": [
        "1. <b>В данной гистограмме наблюдаются выбросы.\n",
        "2. Заметим, что медиана и среднее близки, тем не менее гистограмма скошена вправо\n",
        "3. Узнаем характерный разброс, построим диаграмму размаха.\n",
        "4. Все пользователи не успевают тратить минуты на звонки.</b>"
      ]
    },
    {
      "cell_type": "code",
      "metadata": {
        "id": "9_5A8PCUtzoT",
        "outputId": "ebac7200-841f-42d2-9fbf-6cddbc9c65c4"
      },
      "source": [
        "ultra_df.boxplot(['total_duration'], figsize = (8,8))\n",
        "plt.ylabel('Кол-тво минут в месяц')\n",
        "plt.ylim(-15, 1800)"
      ],
      "execution_count": null,
      "outputs": [
        {
          "output_type": "execute_result",
          "data": {
            "text/plain": [
              "(-15, 1800)"
            ]
          },
          "metadata": {
            "tags": []
          },
          "execution_count": 94
        },
        {
          "output_type": "display_data",
          "data": {
            "image/png": "[encoded data removed]",
            "text/plain": [
              "<Figure size 576x576 with 1 Axes>"
            ]
          },
          "metadata": {
            "tags": [],
            "needs_background": "light"
          }
        }
      ]
    },
    {
      "cell_type": "code",
      "metadata": {
        "id": "hOWyr2zvtzoT"
      },
      "source": [
        "# <coздадим функцию, чтобы избавиться от выбросов>\n",
        "def section_query(data, column):\n",
        "    q1 = data[column].quantile(0.25)\n",
        "    q3 = data[column].quantile(0.75)\n",
        "    iqr = q3 - q1\n",
        "    section = data[(data[column] >= (q1 - 1.5 * iqr)) & (data[column] <= (q3 + 1.5 * iqr))]\n",
        "    return section     "
      ],
      "execution_count": null,
      "outputs": []
    },
    {
      "cell_type": "code",
      "metadata": {
        "id": "6GeouK4BtzoT"
      },
      "source": [
        "smart_df = section_query(smart_df, 'total_duration')\n",
        "ultra_df = section_query(ultra_df, 'total_duration')"
      ],
      "execution_count": null,
      "outputs": []
    },
    {
      "cell_type": "code",
      "metadata": {
        "id": "z8wPMz2btzoT",
        "outputId": "1836a717-6ce5-417e-cbc8-80c86d9367a6"
      },
      "source": [
        "smart_df['total_duration'].describe()"
      ],
      "execution_count": null,
      "outputs": [
        {
          "output_type": "execute_result",
          "data": {
            "text/plain": [
              "count   2219.00\n",
              "mean     426.52\n",
              "std      190.09\n",
              "min        0.00\n",
              "25%      290.00\n",
              "50%      434.00\n",
              "75%      559.00\n",
              "max      955.00\n",
              "Name: total_duration, dtype: float64"
            ]
          },
          "metadata": {
            "tags": []
          },
          "execution_count": 97
        }
      ]
    },
    {
      "cell_type": "code",
      "metadata": {
        "id": "-Y9w6PKTtzoT",
        "outputId": "44dd2612-e629-4ee5-e3d9-59aeedbdfc0e"
      },
      "source": [
        "print(smart_df['total_duration'].var())"
      ],
      "execution_count": null,
      "outputs": [
        {
          "output_type": "stream",
          "text": [
            "36135.692583235774\n"
          ],
          "name": "stdout"
        }
      ]
    },
    {
      "cell_type": "code",
      "metadata": {
        "id": "lFZVx0kntzoT",
        "outputId": "263a3f5b-6dad-44cb-9c96-12d87dc6b8e4"
      },
      "source": [
        "smart_df['total_duration'].plot(kind = 'hist',bins = 50, range = (10, 1000), grid =True)\n",
        "plt.xlabel('Кол-тво минут в месяц')\n",
        "plt.ylabel('Кол-тво звонков')\n",
        "plt.show()"
      ],
      "execution_count": null,
      "outputs": [
        {
          "output_type": "display_data",
          "data": {
            "image/png": "[encoded data removed]",
            "text/plain": [
              "<Figure size 432x288 with 1 Axes>"
            ]
          },
          "metadata": {
            "tags": [],
            "needs_background": "light"
          }
        }
      ]
    },
    {
      "cell_type": "markdown",
      "metadata": {
        "id": "xCOGFEORtzoU"
      },
      "source": [
        "<b>Пик наблюдается около 450, также гистрограмма немного скошена влево.</b>"
      ]
    },
    {
      "cell_type": "code",
      "metadata": {
        "id": "U_0DPBEDtzoU",
        "outputId": "86ff065a-0039-4523-e58f-e38361d14e63"
      },
      "source": [
        "smart_df.boxplot(['total_duration'], figsize = (8,8))\n",
        "plt.ylabel('Кол-тво минут в месяц')\n",
        "plt.ylim(-15, 1000)"
      ],
      "execution_count": null,
      "outputs": [
        {
          "output_type": "execute_result",
          "data": {
            "text/plain": [
              "(-15, 1000)"
            ]
          },
          "metadata": {
            "tags": []
          },
          "execution_count": 100
        },
        {
          "output_type": "display_data",
          "data": {
            "image/png": "[encoded data removed]",
            "text/plain": [
              "<Figure size 576x576 with 1 Axes>"
            ]
          },
          "metadata": {
            "tags": [],
            "needs_background": "light"
          }
        }
      ]
    },
    {
      "cell_type": "code",
      "metadata": {
        "id": "EL_GrDhxtzoU",
        "outputId": "07c3c135-a302-4528-8a1d-466930f463dc"
      },
      "source": [
        "ultra_df['total_duration'].describe()"
      ],
      "execution_count": null,
      "outputs": [
        {
          "output_type": "execute_result",
          "data": {
            "text/plain": [
              "count    983.00\n",
              "mean     538.45\n",
              "std      321.93\n",
              "min        0.00\n",
              "25%      291.50\n",
              "50%      531.00\n",
              "75%      770.00\n",
              "max     1437.00\n",
              "Name: total_duration, dtype: float64"
            ]
          },
          "metadata": {
            "tags": []
          },
          "execution_count": 101
        }
      ]
    },
    {
      "cell_type": "code",
      "metadata": {
        "id": "ynICIffktzoU",
        "outputId": "0fe67aab-4bb9-42bb-ca90-840b577ca03e"
      },
      "source": [
        "print(ultra_df['total_duration'].var())"
      ],
      "execution_count": null,
      "outputs": [
        {
          "output_type": "stream",
          "text": [
            "103637.31879010386\n"
          ],
          "name": "stdout"
        }
      ]
    },
    {
      "cell_type": "code",
      "metadata": {
        "id": "11JvEdxbtzoU",
        "outputId": "cd7cae6d-402e-488b-863b-c9686e26ad8c"
      },
      "source": [
        "ultra_df['total_duration'].plot(kind = 'hist',bins = 50, range = (10, 1500), grid =True)\n",
        "plt.xlabel('Кол-тво минут в месяц')\n",
        "plt.ylabel('Кол-тво звонков')\n",
        "plt.show()"
      ],
      "execution_count": null,
      "outputs": [
        {
          "output_type": "display_data",
          "data": {
            "image/png": "[encoded data removed]",
            "text/plain": [
              "<Figure size 432x288 with 1 Axes>"
            ]
          },
          "metadata": {
            "tags": [],
            "needs_background": "light"
          }
        }
      ]
    },
    {
      "cell_type": "markdown",
      "metadata": {
        "id": "j3Hu2h1VtzoU"
      },
      "source": [
        "<b>Пик находится около 550</b>"
      ]
    },
    {
      "cell_type": "code",
      "metadata": {
        "id": "e8ugsWr_tzoV",
        "outputId": "5809addc-2441-4153-ab40-fd2034259040"
      },
      "source": [
        "ultra_df.boxplot(['total_duration'], figsize = (8,8))\n",
        "plt.ylabel('Кол-тво минут в месяц')\n",
        "plt.ylim(-15, 1500)"
      ],
      "execution_count": null,
      "outputs": [
        {
          "output_type": "execute_result",
          "data": {
            "text/plain": [
              "(-15, 1500)"
            ]
          },
          "metadata": {
            "tags": []
          },
          "execution_count": 104
        },
        {
          "output_type": "display_data",
          "data": {
            "image/png": "[encoded data removed]",
            "text/plain": [
              "<Figure size 576x576 with 1 Axes>"
            ]
          },
          "metadata": {
            "tags": [],
            "needs_background": "light"
          }
        }
      ]
    },
    {
      "cell_type": "markdown",
      "metadata": {
        "id": "pK_EZ7YetzoV"
      },
      "source": [
        "<b>Рассмотрим, сколько сообщений требуется пользователям каждого тарифа в месяц.</b>"
      ]
    },
    {
      "cell_type": "code",
      "metadata": {
        "id": "ziF_DRQjtzoV",
        "outputId": "640833c9-02e6-48bf-c30c-685bf5352461"
      },
      "source": [
        "df.groupby('tariff').agg({'total_messages':['mean','median','var','std']})"
      ],
      "execution_count": null,
      "outputs": [
        {
          "output_type": "execute_result",
          "data": {
            "text/html": [
              "<div>\n",
              "<style scoped>\n",
              "    .dataframe tbody tr th:only-of-type {\n",
              "        vertical-align: middle;\n",
              "    }\n",
              "\n",
              "    .dataframe tbody tr th {\n",
              "        vertical-align: top;\n",
              "    }\n",
              "\n",
              "    .dataframe thead tr th {\n",
              "        text-align: left;\n",
              "    }\n",
              "\n",
              "    .dataframe thead tr:last-of-type th {\n",
              "        text-align: right;\n",
              "    }\n",
              "</style>\n",
              "<table border=\"1\" class=\"dataframe\">\n",
              "  <thead>\n",
              "    <tr>\n",
              "      <th></th>\n",
              "      <th colspan=\"4\" halign=\"left\">total_messages</th>\n",
              "    </tr>\n",
              "    <tr>\n",
              "      <th></th>\n",
              "      <th>mean</th>\n",
              "      <th>median</th>\n",
              "      <th>var</th>\n",
              "      <th>std</th>\n",
              "    </tr>\n",
              "    <tr>\n",
              "      <th>tariff</th>\n",
              "      <th></th>\n",
              "      <th></th>\n",
              "      <th></th>\n",
              "      <th></th>\n",
              "    </tr>\n",
              "  </thead>\n",
              "  <tbody>\n",
              "    <tr>\n",
              "      <td>smart</td>\n",
              "      <td>33.38</td>\n",
              "      <td>28.00</td>\n",
              "      <td>796.81</td>\n",
              "      <td>28.23</td>\n",
              "    </tr>\n",
              "    <tr>\n",
              "      <td>ultra</td>\n",
              "      <td>49.36</td>\n",
              "      <td>38.00</td>\n",
              "      <td>2285.27</td>\n",
              "      <td>47.80</td>\n",
              "    </tr>\n",
              "  </tbody>\n",
              "</table>\n",
              "</div>"
            ],
            "text/plain": [
              "       total_messages                     \n",
              "                 mean median     var   std\n",
              "tariff                                    \n",
              "smart           33.38  28.00  796.81 28.23\n",
              "ultra           49.36  38.00 2285.27 47.80"
            ]
          },
          "metadata": {
            "tags": []
          },
          "execution_count": 105
        }
      ]
    },
    {
      "cell_type": "code",
      "metadata": {
        "id": "sr876eSntzoV",
        "outputId": "b8353d47-b099-45f5-e795-e52c939a7baa"
      },
      "source": [
        "df.pivot_table(index='tariff',  \n",
        "                 values=['total_duration', 'total_gb_used', 'total_messages'], \n",
        "                 aggfunc=['mean', 'std', 'var']).T.style.format('{:.2f}')"
      ],
      "execution_count": null,
      "outputs": [
        {
          "output_type": "execute_result",
          "data": {
            "text/html": [
              "<style  type=\"text/css\" >\n",
              "</style><table id=\"T_98a88f3a_918f_11eb_b9ac_02420a3960a5\" ><thead>    <tr>        <th class=\"blank\" ></th>        <th class=\"index_name level0\" >tariff</th>        <th class=\"col_heading level0 col0\" >smart</th>        <th class=\"col_heading level0 col1\" >ultra</th>    </tr></thead><tbody>\n",
              "                <tr>\n",
              "                        <th id=\"T_98a88f3a_918f_11eb_b9ac_02420a3960a5level0_row0\" class=\"row_heading level0 row0\" rowspan=3>mean</th>\n",
              "                        <th id=\"T_98a88f3a_918f_11eb_b9ac_02420a3960a5level1_row0\" class=\"row_heading level1 row0\" >total_duration</th>\n",
              "                        <td id=\"T_98a88f3a_918f_11eb_b9ac_02420a3960a5row0_col0\" class=\"data row0 col0\" >429.45</td>\n",
              "                        <td id=\"T_98a88f3a_918f_11eb_b9ac_02420a3960a5row0_col1\" class=\"data row0 col1\" >540.78</td>\n",
              "            </tr>\n",
              "            <tr>\n",
              "                                <th id=\"T_98a88f3a_918f_11eb_b9ac_02420a3960a5level1_row1\" class=\"row_heading level1 row1\" >total_gb_used</th>\n",
              "                        <td id=\"T_98a88f3a_918f_11eb_b9ac_02420a3960a5row1_col0\" class=\"data row1 col0\" >15.85</td>\n",
              "                        <td id=\"T_98a88f3a_918f_11eb_b9ac_02420a3960a5row1_col1\" class=\"data row1 col1\" >19.03</td>\n",
              "            </tr>\n",
              "            <tr>\n",
              "                                <th id=\"T_98a88f3a_918f_11eb_b9ac_02420a3960a5level1_row2\" class=\"row_heading level1 row2\" >total_messages</th>\n",
              "                        <td id=\"T_98a88f3a_918f_11eb_b9ac_02420a3960a5row2_col0\" class=\"data row2 col0\" >33.38</td>\n",
              "                        <td id=\"T_98a88f3a_918f_11eb_b9ac_02420a3960a5row2_col1\" class=\"data row2 col1\" >49.36</td>\n",
              "            </tr>\n",
              "            <tr>\n",
              "                        <th id=\"T_98a88f3a_918f_11eb_b9ac_02420a3960a5level0_row3\" class=\"row_heading level0 row3\" rowspan=3>std</th>\n",
              "                        <th id=\"T_98a88f3a_918f_11eb_b9ac_02420a3960a5level1_row3\" class=\"row_heading level1 row3\" >total_duration</th>\n",
              "                        <td id=\"T_98a88f3a_918f_11eb_b9ac_02420a3960a5row3_col0\" class=\"data row3 col0\" >194.87</td>\n",
              "                        <td id=\"T_98a88f3a_918f_11eb_b9ac_02420a3960a5row3_col1\" class=\"data row3 col1\" >325.74</td>\n",
              "            </tr>\n",
              "            <tr>\n",
              "                                <th id=\"T_98a88f3a_918f_11eb_b9ac_02420a3960a5level1_row4\" class=\"row_heading level1 row4\" >total_gb_used</th>\n",
              "                        <td id=\"T_98a88f3a_918f_11eb_b9ac_02420a3960a5row4_col0\" class=\"data row4 col0\" >5.74</td>\n",
              "                        <td id=\"T_98a88f3a_918f_11eb_b9ac_02420a3960a5row4_col1\" class=\"data row4 col1\" >9.86</td>\n",
              "            </tr>\n",
              "            <tr>\n",
              "                                <th id=\"T_98a88f3a_918f_11eb_b9ac_02420a3960a5level1_row5\" class=\"row_heading level1 row5\" >total_messages</th>\n",
              "                        <td id=\"T_98a88f3a_918f_11eb_b9ac_02420a3960a5row5_col0\" class=\"data row5 col0\" >28.23</td>\n",
              "                        <td id=\"T_98a88f3a_918f_11eb_b9ac_02420a3960a5row5_col1\" class=\"data row5 col1\" >47.80</td>\n",
              "            </tr>\n",
              "            <tr>\n",
              "                        <th id=\"T_98a88f3a_918f_11eb_b9ac_02420a3960a5level0_row6\" class=\"row_heading level0 row6\" rowspan=3>var</th>\n",
              "                        <th id=\"T_98a88f3a_918f_11eb_b9ac_02420a3960a5level1_row6\" class=\"row_heading level1 row6\" >total_duration</th>\n",
              "                        <td id=\"T_98a88f3a_918f_11eb_b9ac_02420a3960a5row6_col0\" class=\"data row6 col0\" >37974.77</td>\n",
              "                        <td id=\"T_98a88f3a_918f_11eb_b9ac_02420a3960a5row6_col1\" class=\"data row6 col1\" >106105.73</td>\n",
              "            </tr>\n",
              "            <tr>\n",
              "                                <th id=\"T_98a88f3a_918f_11eb_b9ac_02420a3960a5level1_row7\" class=\"row_heading level1 row7\" >total_gb_used</th>\n",
              "                        <td id=\"T_98a88f3a_918f_11eb_b9ac_02420a3960a5row7_col0\" class=\"data row7 col0\" >32.95</td>\n",
              "                        <td id=\"T_98a88f3a_918f_11eb_b9ac_02420a3960a5row7_col1\" class=\"data row7 col1\" >97.21</td>\n",
              "            </tr>\n",
              "            <tr>\n",
              "                                <th id=\"T_98a88f3a_918f_11eb_b9ac_02420a3960a5level1_row8\" class=\"row_heading level1 row8\" >total_messages</th>\n",
              "                        <td id=\"T_98a88f3a_918f_11eb_b9ac_02420a3960a5row8_col0\" class=\"data row8 col0\" >796.81</td>\n",
              "                        <td id=\"T_98a88f3a_918f_11eb_b9ac_02420a3960a5row8_col1\" class=\"data row8 col1\" >2285.27</td>\n",
              "            </tr>\n",
              "    </tbody></table>"
            ],
            "text/plain": [
              "<pandas.io.formats.style.Styler at 0x7fb12f24c650>"
            ]
          },
          "metadata": {
            "tags": []
          },
          "execution_count": 176
        }
      ]
    },
    {
      "cell_type": "code",
      "metadata": {
        "id": "P02xsnLbtzoV",
        "outputId": "86a3a5f3-4e03-41e6-d81b-fc647c05e84e"
      },
      "source": [
        "smart_df['total_messages'].describe()"
      ],
      "execution_count": null,
      "outputs": [
        {
          "output_type": "execute_result",
          "data": {
            "text/plain": [
              "count   2219.00\n",
              "mean      33.36\n",
              "std       28.25\n",
              "min        0.00\n",
              "25%       10.00\n",
              "50%       28.00\n",
              "75%       51.00\n",
              "max      143.00\n",
              "Name: total_messages, dtype: float64"
            ]
          },
          "metadata": {
            "tags": []
          },
          "execution_count": 106
        }
      ]
    },
    {
      "cell_type": "code",
      "metadata": {
        "id": "yj7tw9WMtzoW",
        "outputId": "5edfa408-4b57-4dbb-8530-7b6b7b3ef3b6"
      },
      "source": [
        "smart_df['total_messages'].plot(kind = 'hist',bins = 10, grid =True)\n",
        "plt.xlabel('Число сообщений в месяц')\n",
        "plt.ylabel('Кол-тво сообщений')\n",
        "plt.show()"
      ],
      "execution_count": null,
      "outputs": [
        {
          "output_type": "display_data",
          "data": {
            "image/png": "[encoded data removed]",
            "text/plain": [
              "<Figure size 432x288 with 1 Axes>"
            ]
          },
          "metadata": {
            "tags": [],
            "needs_background": "light"
          }
        }
      ]
    },
    {
      "cell_type": "markdown",
      "metadata": {
        "id": "MZfXQTyatzoW"
      },
      "source": [
        "<b>Наблюдаем, что гистограмма скошена вправо.</b>"
      ]
    },
    {
      "cell_type": "code",
      "metadata": {
        "id": "v846D_FZtzoW",
        "outputId": "be65b945-36ce-403f-8fce-783e2de9e555"
      },
      "source": [
        "smart_df.boxplot(['total_messages'], figsize = (8,8))\n",
        "plt.ylabel('Число сообщений в месяц')\n",
        "plt.ylim(-15, 150)"
      ],
      "execution_count": null,
      "outputs": [
        {
          "output_type": "execute_result",
          "data": {
            "text/plain": [
              "(-15, 150)"
            ]
          },
          "metadata": {
            "tags": []
          },
          "execution_count": 108
        },
        {
          "output_type": "display_data",
          "data": {
            "image/png": "[encoded data removed]",
            "text/plain": [
              "<Figure size 576x576 with 1 Axes>"
            ]
          },
          "metadata": {
            "tags": [],
            "needs_background": "light"
          }
        }
      ]
    },
    {
      "cell_type": "code",
      "metadata": {
        "id": "mFah-fiPtzoW",
        "outputId": "09dce9f5-16af-4f52-927c-3daa6680f70c"
      },
      "source": [
        "ultra_df['total_messages'].describe()"
      ],
      "execution_count": null,
      "outputs": [
        {
          "output_type": "execute_result",
          "data": {
            "text/plain": [
              "count   983.00\n",
              "mean     49.40\n",
              "std      47.84\n",
              "min       0.00\n",
              "25%       6.00\n",
              "50%      38.00\n",
              "75%      79.00\n",
              "max     224.00\n",
              "Name: total_messages, dtype: float64"
            ]
          },
          "metadata": {
            "tags": []
          },
          "execution_count": 109
        }
      ]
    },
    {
      "cell_type": "code",
      "metadata": {
        "id": "IJ0drLentzoW",
        "outputId": "5534ecb4-6610-41ec-c13b-b7ee0b56ee09"
      },
      "source": [
        "ultra_df['total_messages'].plot(kind = 'hist',bins = 10, grid =True)\n",
        "plt.xlabel('Число сообщений в месяц')\n",
        "plt.ylabel('Кол-тво сообщений')\n",
        "plt.show()"
      ],
      "execution_count": null,
      "outputs": [
        {
          "output_type": "display_data",
          "data": {
            "image/png": "[encoded data removed]",
            "text/plain": [
              "<Figure size 432x288 with 1 Axes>"
            ]
          },
          "metadata": {
            "tags": [],
            "needs_background": "light"
          }
        }
      ]
    },
    {
      "cell_type": "markdown",
      "metadata": {
        "id": "nciCyV56tzob"
      },
      "source": [
        "<b>Наблюдаем, что гистограмма скошена вправо.</b>"
      ]
    },
    {
      "cell_type": "code",
      "metadata": {
        "id": "Lo0urvvftzoc",
        "outputId": "1e83a809-b023-43ea-a835-701dc6c79486"
      },
      "source": [
        "ultra_df.boxplot(['total_messages'], figsize = (8,8))\n",
        "plt.ylabel('Число сообщений в месяц')\n",
        "plt.ylim(-15, 225)"
      ],
      "execution_count": null,
      "outputs": [
        {
          "output_type": "execute_result",
          "data": {
            "text/plain": [
              "(-15, 225)"
            ]
          },
          "metadata": {
            "tags": []
          },
          "execution_count": 111
        },
        {
          "output_type": "display_data",
          "data": {
            "image/png": "[encoded data removed]",
            "text/plain": [
              "<Figure size 576x576 with 1 Axes>"
            ]
          },
          "metadata": {
            "tags": [],
            "needs_background": "light"
          }
        }
      ]
    },
    {
      "cell_type": "markdown",
      "metadata": {
        "id": "hMqPvUaPtzoc"
      },
      "source": [
        "<b>В обоих тарифах отправка сообщений не является популярной услугой, в Ultra вообще не доходят до порогового значения тарифа, в Smart около 75% укладываются в тариф.</b>"
      ]
    },
    {
      "cell_type": "code",
      "metadata": {
        "id": "DJ_JKzvEtzoc"
      },
      "source": [
        "smart_df = section_query(smart_df, 'total_messages')\n",
        "ultra_df = section_query(ultra_df, 'total_messages')"
      ],
      "execution_count": null,
      "outputs": []
    },
    {
      "cell_type": "code",
      "metadata": {
        "id": "r5rhn0YEtzoc",
        "outputId": "a1c63db9-6ed4-4b9c-aa39-e840091ff9b7"
      },
      "source": [
        "smart_df['total_messages'].describe()"
      ],
      "execution_count": null,
      "outputs": [
        {
          "output_type": "execute_result",
          "data": {
            "text/plain": [
              "count   2205.00\n",
              "mean      32.76\n",
              "std       27.30\n",
              "min        0.00\n",
              "25%       10.00\n",
              "50%       28.00\n",
              "75%       50.00\n",
              "max      112.00\n",
              "Name: total_messages, dtype: float64"
            ]
          },
          "metadata": {
            "tags": []
          },
          "execution_count": 113
        }
      ]
    },
    {
      "cell_type": "code",
      "metadata": {
        "id": "tUR-BZR1tzod",
        "outputId": "5d1ce62d-e9d7-4694-8cfc-d784e8b93ddf"
      },
      "source": [
        "print(smart_df['total_messages'].var())"
      ],
      "execution_count": null,
      "outputs": [
        {
          "output_type": "stream",
          "text": [
            "745.0703474614286\n"
          ],
          "name": "stdout"
        }
      ]
    },
    {
      "cell_type": "code",
      "metadata": {
        "id": "ZfGLK_2Etzod",
        "outputId": "74c20f16-3e75-4138-889f-eae67ab95119"
      },
      "source": [
        "smart_df['total_messages'].plot(kind = 'hist',bins = 10, grid =True)\n",
        "plt.xlabel('Число сообщений в месяц')\n",
        "plt.ylabel('Кол-тво сообщений')\n",
        "plt.show()"
      ],
      "execution_count": null,
      "outputs": [
        {
          "output_type": "display_data",
          "data": {
            "image/png": "[encoded data removed]",
            "text/plain": [
              "<Figure size 432x288 with 1 Axes>"
            ]
          },
          "metadata": {
            "tags": [],
            "needs_background": "light"
          }
        }
      ]
    },
    {
      "cell_type": "code",
      "metadata": {
        "id": "K7ERrPKatzod",
        "outputId": "c3377578-c085-4809-9d52-2e51fb5dc461"
      },
      "source": [
        "smart_df.boxplot(['total_messages'], figsize = (8,8))\n",
        "plt.ylabel('Число сообщений в месяц')\n",
        "plt.ylim(-15, 120)"
      ],
      "execution_count": null,
      "outputs": [
        {
          "output_type": "execute_result",
          "data": {
            "text/plain": [
              "(-15, 120)"
            ]
          },
          "metadata": {
            "tags": []
          },
          "execution_count": 116
        },
        {
          "output_type": "display_data",
          "data": {
            "image/png": "[encoded data removed]",
            "text/plain": [
              "<Figure size 576x576 with 1 Axes>"
            ]
          },
          "metadata": {
            "tags": [],
            "needs_background": "light"
          }
        }
      ]
    },
    {
      "cell_type": "code",
      "metadata": {
        "id": "rhP21WN6tzoe",
        "outputId": "c05fa908-47a7-489c-981d-af6084c3c1eb"
      },
      "source": [
        "ultra_df['total_messages'].describe()"
      ],
      "execution_count": null,
      "outputs": [
        {
          "output_type": "execute_result",
          "data": {
            "text/plain": [
              "count   975.00\n",
              "mean     48.14\n",
              "std      45.93\n",
              "min       0.00\n",
              "25%       6.00\n",
              "50%      38.00\n",
              "75%      78.00\n",
              "max     188.00\n",
              "Name: total_messages, dtype: float64"
            ]
          },
          "metadata": {
            "tags": []
          },
          "execution_count": 117
        }
      ]
    },
    {
      "cell_type": "code",
      "metadata": {
        "id": "e2somj4Utzoe",
        "outputId": "b53baea2-b927-475d-91f5-6dc1cc2f1016"
      },
      "source": [
        "print(ultra_df['total_messages'].var())"
      ],
      "execution_count": null,
      "outputs": [
        {
          "output_type": "stream",
          "text": [
            "2109.658141420523\n"
          ],
          "name": "stdout"
        }
      ]
    },
    {
      "cell_type": "code",
      "metadata": {
        "id": "3WnWcADftzoe",
        "outputId": "7a90cc2d-1375-41da-f0c9-b0fdf6899a76"
      },
      "source": [
        "ultra_df['total_messages'].plot(kind = 'hist',bins = 10, grid =True)\n",
        "plt.xlabel('Число сообщений в месяц')\n",
        "plt.ylabel('Кол-тво сообщений')\n",
        "plt.show()"
      ],
      "execution_count": null,
      "outputs": [
        {
          "output_type": "display_data",
          "data": {
            "image/png": "[encoded data removed]",
            "text/plain": [
              "<Figure size 432x288 with 1 Axes>"
            ]
          },
          "metadata": {
            "tags": [],
            "needs_background": "light"
          }
        }
      ]
    },
    {
      "cell_type": "code",
      "metadata": {
        "id": "p3FLLUMFtzof",
        "outputId": "955c3abd-e5bc-4214-f9ed-3de4de55711a"
      },
      "source": [
        "ultra_df.boxplot(['total_messages'], figsize = (8,8))\n",
        "plt.ylabel('Число сообщений в месяц')\n",
        "plt.ylim(-15, 200)"
      ],
      "execution_count": null,
      "outputs": [
        {
          "output_type": "execute_result",
          "data": {
            "text/plain": [
              "(-15, 200)"
            ]
          },
          "metadata": {
            "tags": []
          },
          "execution_count": 120
        },
        {
          "output_type": "display_data",
          "data": {
            "image/png": "[encoded data removed]",
            "text/plain": [
              "<Figure size 576x576 with 1 Axes>"
            ]
          },
          "metadata": {
            "tags": [],
            "needs_background": "light"
          }
        }
      ]
    },
    {
      "cell_type": "markdown",
      "metadata": {
        "id": "O1_fMR1-tzof"
      },
      "source": [
        "<b>Рассмотрим, какой объем интернета требуется пользователям каждого тарифа в месяц.</b>"
      ]
    },
    {
      "cell_type": "code",
      "metadata": {
        "id": "dNXY679ztzof",
        "outputId": "67f028d1-af05-4cad-9286-805de0c478b8"
      },
      "source": [
        "df.groupby('tariff').agg({'total_gb_used':['mean','median','var','std']})"
      ],
      "execution_count": null,
      "outputs": [
        {
          "output_type": "execute_result",
          "data": {
            "text/html": [
              "<div>\n",
              "<style scoped>\n",
              "    .dataframe tbody tr th:only-of-type {\n",
              "        vertical-align: middle;\n",
              "    }\n",
              "\n",
              "    .dataframe tbody tr th {\n",
              "        vertical-align: top;\n",
              "    }\n",
              "\n",
              "    .dataframe thead tr th {\n",
              "        text-align: left;\n",
              "    }\n",
              "\n",
              "    .dataframe thead tr:last-of-type th {\n",
              "        text-align: right;\n",
              "    }\n",
              "</style>\n",
              "<table border=\"1\" class=\"dataframe\">\n",
              "  <thead>\n",
              "    <tr>\n",
              "      <th></th>\n",
              "      <th colspan=\"4\" halign=\"left\">total_gb_used</th>\n",
              "    </tr>\n",
              "    <tr>\n",
              "      <th></th>\n",
              "      <th>mean</th>\n",
              "      <th>median</th>\n",
              "      <th>var</th>\n",
              "      <th>std</th>\n",
              "    </tr>\n",
              "    <tr>\n",
              "      <th>tariff</th>\n",
              "      <th></th>\n",
              "      <th></th>\n",
              "      <th></th>\n",
              "      <th></th>\n",
              "    </tr>\n",
              "  </thead>\n",
              "  <tbody>\n",
              "    <tr>\n",
              "      <td>smart</td>\n",
              "      <td>15.85</td>\n",
              "      <td>16.14</td>\n",
              "      <td>32.95</td>\n",
              "      <td>5.74</td>\n",
              "    </tr>\n",
              "    <tr>\n",
              "      <td>ultra</td>\n",
              "      <td>19.03</td>\n",
              "      <td>18.87</td>\n",
              "      <td>97.21</td>\n",
              "      <td>9.86</td>\n",
              "    </tr>\n",
              "  </tbody>\n",
              "</table>\n",
              "</div>"
            ],
            "text/plain": [
              "       total_gb_used                  \n",
              "                mean median   var  std\n",
              "tariff                                \n",
              "smart          15.85  16.14 32.95 5.74\n",
              "ultra          19.03  18.87 97.21 9.86"
            ]
          },
          "metadata": {
            "tags": []
          },
          "execution_count": 121
        }
      ]
    },
    {
      "cell_type": "code",
      "metadata": {
        "id": "hlzcCP79tzof",
        "outputId": "79988163-c370-4d62-928c-bb0937d0e6f6"
      },
      "source": [
        "smart_df['total_gb_used'].describe()"
      ],
      "execution_count": null,
      "outputs": [
        {
          "output_type": "execute_result",
          "data": {
            "text/plain": [
              "count   2205.00\n",
              "mean      15.81\n",
              "std        5.71\n",
              "min        0.00\n",
              "25%       12.34\n",
              "50%       16.10\n",
              "75%       19.54\n",
              "max       36.35\n",
              "Name: total_gb_used, dtype: float64"
            ]
          },
          "metadata": {
            "tags": []
          },
          "execution_count": 122
        }
      ]
    },
    {
      "cell_type": "code",
      "metadata": {
        "id": "bBhSQDvhtzog",
        "outputId": "d624dda7-5865-4e1d-d19c-c30b42ce90e8"
      },
      "source": [
        "smart_df['total_gb_used'].plot(kind = 'hist',bins = 30, grid =True)\n",
        "plt.xlabel('Объем интернета в месяц')\n",
        "plt.ylabel('Кол-тво используемого объема')\n",
        "plt.show()"
      ],
      "execution_count": null,
      "outputs": [
        {
          "output_type": "display_data",
          "data": {
            "image/png": "[encoded data removed]",
            "text/plain": [
              "<Figure size 432x288 with 1 Axes>"
            ]
          },
          "metadata": {
            "tags": [],
            "needs_background": "light"
          }
        }
      ]
    },
    {
      "cell_type": "markdown",
      "metadata": {
        "id": "fDWVtyr3tzog"
      },
      "source": [
        "<b>Явно больше 50% пользователей выходят за рамки тарифа, т.е. привышают 15 Гб. Среднее и медиана практически одинаковые.</b>"
      ]
    },
    {
      "cell_type": "code",
      "metadata": {
        "id": "SN9PkKf7tzog",
        "outputId": "643727b6-a50e-452c-83dd-d44089e4d59b"
      },
      "source": [
        "smart_df.boxplot(['total_gb_used'], figsize = (8,8))\n",
        "plt.ylabel('Объем интернета в месяц')\n",
        "plt.ylim(0, 40)"
      ],
      "execution_count": null,
      "outputs": [
        {
          "output_type": "execute_result",
          "data": {
            "text/plain": [
              "(0, 40)"
            ]
          },
          "metadata": {
            "tags": []
          },
          "execution_count": 124
        },
        {
          "output_type": "display_data",
          "data": {
            "image/png": "[encoded data removed]",
            "text/plain": [
              "<Figure size 576x576 with 1 Axes>"
            ]
          },
          "metadata": {
            "tags": [],
            "needs_background": "light"
          }
        }
      ]
    },
    {
      "cell_type": "code",
      "metadata": {
        "id": "5M1yul-Ttzoh",
        "outputId": "55987221-8d5c-48d8-dd3c-913214804f88"
      },
      "source": [
        "ultra_df['total_gb_used'].describe()"
      ],
      "execution_count": null,
      "outputs": [
        {
          "output_type": "execute_result",
          "data": {
            "text/plain": [
              "count   975.00\n",
              "mean     18.97\n",
              "std       9.82\n",
              "min       0.00\n",
              "25%      11.49\n",
              "50%      18.84\n",
              "75%      26.15\n",
              "max      48.62\n",
              "Name: total_gb_used, dtype: float64"
            ]
          },
          "metadata": {
            "tags": []
          },
          "execution_count": 125
        }
      ]
    },
    {
      "cell_type": "code",
      "metadata": {
        "id": "dshKxUKFtzoh",
        "outputId": "fce88966-362d-4cf5-a87c-e056e9238aba"
      },
      "source": [
        "ultra_df['total_gb_used'].plot(kind = 'hist',bins = 30, grid =True)\n",
        "plt.xlabel('Объем интернета в месяц')\n",
        "plt.ylabel('Кол-тво используемого объема')\n",
        "plt.show()"
      ],
      "execution_count": null,
      "outputs": [
        {
          "output_type": "display_data",
          "data": {
            "image/png": "[encoded data removed]",
            "text/plain": [
              "<Figure size 432x288 with 1 Axes>"
            ]
          },
          "metadata": {
            "tags": [],
            "needs_background": "light"
          }
        }
      ]
    },
    {
      "cell_type": "markdown",
      "metadata": {
        "id": "IlBsEzqHtzoh"
      },
      "source": [
        "<b>Около 75% пользователей не превышают тариф по интернету, пик находится около 20 Гб, стоит также отметить, что немалое количество пользователей вообще практически не используют интернет. Среднее и медиана практически одинаковые.</b>"
      ]
    },
    {
      "cell_type": "code",
      "metadata": {
        "id": "ko0TROj-tzoh",
        "outputId": "1063bfca-6dbd-4bf5-c202-cb70efbf586a"
      },
      "source": [
        "ultra_df.boxplot(['total_gb_used'], figsize = (8,8))\n",
        "plt.ylabel('Объем интернета в месяц')\n",
        "plt.ylim(-5, 50)"
      ],
      "execution_count": null,
      "outputs": [
        {
          "output_type": "execute_result",
          "data": {
            "text/plain": [
              "(-5, 50)"
            ]
          },
          "metadata": {
            "tags": []
          },
          "execution_count": 127
        },
        {
          "output_type": "display_data",
          "data": {
            "image/png": "[encoded data removed]",
            "text/plain": [
              "<Figure size 576x576 with 1 Axes>"
            ]
          },
          "metadata": {
            "tags": [],
            "needs_background": "light"
          }
        }
      ]
    },
    {
      "cell_type": "code",
      "metadata": {
        "id": "ypx5Y6G-tzoi"
      },
      "source": [
        "smart_df = section_query(smart_df, 'total_gb_used')\n",
        "ultra_df = section_query(ultra_df, 'total_gb_used')"
      ],
      "execution_count": null,
      "outputs": []
    },
    {
      "cell_type": "code",
      "metadata": {
        "id": "rzlJbcRPtzoi",
        "outputId": "405d542c-a541-45c1-80ac-59e895f23bb3"
      },
      "source": [
        "smart_df['total_gb_used'].describe()"
      ],
      "execution_count": null,
      "outputs": [
        {
          "output_type": "execute_result",
          "data": {
            "text/plain": [
              "count   2169.00\n",
              "mean      15.86\n",
              "std        5.38\n",
              "min        1.56\n",
              "25%       12.46\n",
              "50%       16.11\n",
              "75%       19.53\n",
              "max       30.33\n",
              "Name: total_gb_used, dtype: float64"
            ]
          },
          "metadata": {
            "tags": []
          },
          "execution_count": 129
        }
      ]
    },
    {
      "cell_type": "code",
      "metadata": {
        "id": "bSHwtmKotzoi",
        "outputId": "9dd77898-b121-4e4f-94b0-04c90895709e"
      },
      "source": [
        "print(smart_df['total_gb_used'].var())"
      ],
      "execution_count": null,
      "outputs": [
        {
          "output_type": "stream",
          "text": [
            "28.90511983829023\n"
          ],
          "name": "stdout"
        }
      ]
    },
    {
      "cell_type": "code",
      "metadata": {
        "id": "9KdvQWowtzoi",
        "outputId": "5ba61f08-ff11-4d9a-ad02-d41dcd32c7a9"
      },
      "source": [
        "smart_df['total_gb_used'].plot(kind = 'hist',bins = 30, grid =True)\n",
        "plt.xlabel('Объем интернета в месяц')\n",
        "plt.ylabel('Кол-тво используемого объема')\n",
        "plt.show()"
      ],
      "execution_count": null,
      "outputs": [
        {
          "output_type": "display_data",
          "data": {
            "image/png": "[encoded data removed]",
            "text/plain": [
              "<Figure size 432x288 with 1 Axes>"
            ]
          },
          "metadata": {
            "tags": [],
            "needs_background": "light"
          }
        }
      ]
    },
    {
      "cell_type": "code",
      "metadata": {
        "id": "tIpGNOzztzoj",
        "outputId": "23f22d11-06ff-4856-80b8-e78807bb70fb"
      },
      "source": [
        "smart_df.boxplot(['total_gb_used'], figsize = (8,8))\n",
        "plt.ylabel('Объем интернета в месяц')\n",
        "plt.ylim(0, 35)"
      ],
      "execution_count": null,
      "outputs": [
        {
          "output_type": "execute_result",
          "data": {
            "text/plain": [
              "(0, 35)"
            ]
          },
          "metadata": {
            "tags": []
          },
          "execution_count": 132
        },
        {
          "output_type": "display_data",
          "data": {
            "image/png": "[encoded data removed]",
            "text/plain": [
              "<Figure size 576x576 with 1 Axes>"
            ]
          },
          "metadata": {
            "tags": [],
            "needs_background": "light"
          }
        }
      ]
    },
    {
      "cell_type": "code",
      "metadata": {
        "id": "65YH9nH9tzoj",
        "outputId": "b57e2d5d-b56e-4cb9-a9dc-ea9913c3d864"
      },
      "source": [
        "ultra_df['total_gb_used'].describe()"
      ],
      "execution_count": null,
      "outputs": [
        {
          "output_type": "execute_result",
          "data": {
            "text/plain": [
              "count   974.00\n",
              "mean     18.94\n",
              "std       9.78\n",
              "min       0.00\n",
              "25%      11.49\n",
              "50%      18.83\n",
              "75%      26.11\n",
              "max      47.26\n",
              "Name: total_gb_used, dtype: float64"
            ]
          },
          "metadata": {
            "tags": []
          },
          "execution_count": 133
        }
      ]
    },
    {
      "cell_type": "code",
      "metadata": {
        "id": "Sit6kWf9tzoj",
        "outputId": "3f576cac-545e-490f-b091-a7ebfdf1cb93"
      },
      "source": [
        "print(ultra_df['total_gb_used'].var())"
      ],
      "execution_count": null,
      "outputs": [
        {
          "output_type": "stream",
          "text": [
            "95.71956354258455\n"
          ],
          "name": "stdout"
        }
      ]
    },
    {
      "cell_type": "code",
      "metadata": {
        "id": "oonweQgQtzok",
        "outputId": "4e24f863-98e8-4ebf-9e8f-ca0661b0ba5f"
      },
      "source": [
        "ultra_df['total_gb_used'].plot(kind = 'hist',bins = 30, grid =True)\n",
        "plt.xlabel('Объем интернета в месяц')\n",
        "plt.ylabel('Кол-тво используемого объема')\n",
        "plt.show()"
      ],
      "execution_count": null,
      "outputs": [
        {
          "output_type": "display_data",
          "data": {
            "image/png": "[encoded data removed]",
            "text/plain": [
              "<Figure size 432x288 with 1 Axes>"
            ]
          },
          "metadata": {
            "tags": [],
            "needs_background": "light"
          }
        }
      ]
    },
    {
      "cell_type": "code",
      "metadata": {
        "id": "s-qiXsSutzok",
        "outputId": "390cbafd-5dca-4f77-8493-551fffc7aa8e"
      },
      "source": [
        "ultra_df.boxplot(['total_gb_used'], figsize = (8,8))\n",
        "plt.ylabel('Объем интернета в месяц')\n",
        "plt.ylim(-5, 50)"
      ],
      "execution_count": null,
      "outputs": [
        {
          "output_type": "execute_result",
          "data": {
            "text/plain": [
              "(-5, 50)"
            ]
          },
          "metadata": {
            "tags": []
          },
          "execution_count": 136
        },
        {
          "output_type": "display_data",
          "data": {
            "image/png": "[encoded data removed]",
            "text/plain": [
              "<Figure size 576x576 with 1 Axes>"
            ]
          },
          "metadata": {
            "tags": [],
            "needs_background": "light"
          }
        }
      ]
    },
    {
      "cell_type": "markdown",
      "metadata": {
        "id": "L_iksjMQtzok"
      },
      "source": [
        "<b>Рассмотрим какая выручка по каждому тарифу</b>"
      ]
    },
    {
      "cell_type": "code",
      "metadata": {
        "id": "_w2_F5kitzok",
        "outputId": "9b61de20-40c6-4d82-f1a3-8e7d0bfcd4e3"
      },
      "source": [
        "print(smart_df['total_proceeds'].sum())"
      ],
      "execution_count": null,
      "outputs": [
        {
          "output_type": "stream",
          "text": [
            "2648012.546875\n"
          ],
          "name": "stdout"
        }
      ]
    },
    {
      "cell_type": "code",
      "metadata": {
        "id": "4S87eUJWtzol",
        "outputId": "4273d394-54dc-4af9-c764-9b20b84f95e4"
      },
      "source": [
        "# <выручка за превышение тарифа>\n",
        "print(smart_df['total_excess_tariff'].sum())"
      ],
      "execution_count": null,
      "outputs": [
        {
          "output_type": "stream",
          "text": [
            "1455062.546875\n"
          ],
          "name": "stdout"
        }
      ]
    },
    {
      "cell_type": "code",
      "metadata": {
        "id": "dvWvWCdCtzol",
        "outputId": "96756be0-daca-48e0-fa3f-4116a3d54cba"
      },
      "source": [
        "print(smart_df['total_proceeds'].sum() - smart_df['total_excess_tariff'].sum())"
      ],
      "execution_count": null,
      "outputs": [
        {
          "output_type": "stream",
          "text": [
            "1192950.0\n"
          ],
          "name": "stdout"
        }
      ]
    },
    {
      "cell_type": "code",
      "metadata": {
        "id": "paoeHT20tzol",
        "outputId": "38141349-7f41-4b40-ff60-4ec6102af174"
      },
      "source": [
        "smart_df['total_proceeds'].describe()"
      ],
      "execution_count": null,
      "outputs": [
        {
          "output_type": "execute_result",
          "data": {
            "text/plain": [
              "count   2169.00\n",
              "mean    1220.84\n",
              "std      726.07\n",
              "min      550.00\n",
              "25%      556.00\n",
              "50%      982.62\n",
              "75%     1665.06\n",
              "max     4351.97\n",
              "Name: total_proceeds, dtype: float64"
            ]
          },
          "metadata": {
            "tags": []
          },
          "execution_count": 140
        }
      ]
    },
    {
      "cell_type": "code",
      "metadata": {
        "id": "GFOULWsttzol",
        "outputId": "53059830-bf93-432b-dd7a-b6d101745a38"
      },
      "source": [
        "print(smart_df['total_proceeds'].var())"
      ],
      "execution_count": null,
      "outputs": [
        {
          "output_type": "stream",
          "text": [
            "527183.03144258\n"
          ],
          "name": "stdout"
        }
      ]
    },
    {
      "cell_type": "code",
      "metadata": {
        "id": "pQvkKeZttzom",
        "outputId": "9f86f6b5-0e0d-4164-c3ff-014e00a13a0b"
      },
      "source": [
        "print(smart_df['total_proceeds'].value_counts())"
      ],
      "execution_count": null,
      "outputs": [
        {
          "output_type": "stream",
          "text": [
            "550.00     531\n",
            "604.00       7\n",
            "568.00       7\n",
            "673.00       6\n",
            "814.00       6\n",
            "          ... \n",
            "2224.38      1\n",
            "1110.55      1\n",
            "1989.24      1\n",
            "735.05       1\n",
            "928.00       1\n",
            "Name: total_proceeds, Length: 1444, dtype: int64\n"
          ],
          "name": "stdout"
        }
      ]
    },
    {
      "cell_type": "code",
      "metadata": {
        "id": "ZxNNpQWztzom",
        "outputId": "1715b1cd-db56-459b-ef35-c1cc69a9f8af"
      },
      "source": [
        "smart_df['total_proceeds'].plot(kind = 'hist',bins = 50,range = (500, 4500), grid =True)\n",
        "plt.xlabel('Оплата в месяц')\n",
        "plt.ylabel('Кол-тво оплат в месяц')\n",
        "plt.show()"
      ],
      "execution_count": null,
      "outputs": [
        {
          "output_type": "display_data",
          "data": {
            "image/png": "[encoded data removed]",
            "text/plain": [
              "<Figure size 432x288 with 1 Axes>"
            ]
          },
          "metadata": {
            "tags": [],
            "needs_background": "light"
          }
        }
      ]
    },
    {
      "cell_type": "markdown",
      "metadata": {
        "id": "jhEucF_ptzon"
      },
      "source": [
        "<b>Немало пользователей  укладываются в тариф(в 550р.), но большинство превышают его. Наблюдается выручка не только с тарифа, но и с услуг сверх тарифного плана(примерно 52%). Общая сумма выручки выросла за счет превышения тарифа пользователями практически в 2 раза.</b>"
      ]
    },
    {
      "cell_type": "code",
      "metadata": {
        "id": "VBbqXY4Jtzon"
      },
      "source": [
        "smart_df = section_query(smart_df, 'total_proceeds')"
      ],
      "execution_count": null,
      "outputs": []
    },
    {
      "cell_type": "code",
      "metadata": {
        "id": "x6e-jQUCtzon",
        "outputId": "9581f5f4-3738-4c25-90ce-52dbdf4feeef"
      },
      "source": [
        "smart_df['total_proceeds'].describe()"
      ],
      "execution_count": null,
      "outputs": [
        {
          "output_type": "execute_result",
          "data": {
            "text/plain": [
              "count   2147.00\n",
              "mean    1195.73\n",
              "std      685.04\n",
              "min      550.00\n",
              "25%      553.00\n",
              "50%      975.17\n",
              "75%     1639.16\n",
              "max     3328.39\n",
              "Name: total_proceeds, dtype: float64"
            ]
          },
          "metadata": {
            "tags": []
          },
          "execution_count": 145
        }
      ]
    },
    {
      "cell_type": "code",
      "metadata": {
        "id": "vn-elRcLtzon",
        "outputId": "8712f25d-ab60-4d45-b7a1-1bb3cb7924e3"
      },
      "source": [
        "display(smart_df)"
      ],
      "execution_count": null,
      "outputs": [
        {
          "output_type": "display_data",
          "data": {
            "text/html": [
              "<div>\n",
              "<style scoped>\n",
              "    .dataframe tbody tr th:only-of-type {\n",
              "        vertical-align: middle;\n",
              "    }\n",
              "\n",
              "    .dataframe tbody tr th {\n",
              "        vertical-align: top;\n",
              "    }\n",
              "\n",
              "    .dataframe thead th {\n",
              "        text-align: right;\n",
              "    }\n",
              "</style>\n",
              "<table border=\"1\" class=\"dataframe\">\n",
              "  <thead>\n",
              "    <tr style=\"text-align: right;\">\n",
              "      <th></th>\n",
              "      <th>user_id</th>\n",
              "      <th>month</th>\n",
              "      <th>total_duration</th>\n",
              "      <th>total_calls</th>\n",
              "      <th>total_messages</th>\n",
              "      <th>total_gb_used</th>\n",
              "      <th>age</th>\n",
              "      <th>churn_date</th>\n",
              "      <th>city</th>\n",
              "      <th>first_name</th>\n",
              "      <th>...</th>\n",
              "      <th>tariff</th>\n",
              "      <th>messages_included</th>\n",
              "      <th>gb_per_month_included</th>\n",
              "      <th>minutes_included</th>\n",
              "      <th>rub_monthly_fee</th>\n",
              "      <th>rub_per_gb</th>\n",
              "      <th>rub_per_message</th>\n",
              "      <th>rub_per_minute</th>\n",
              "      <th>total_excess_tariff</th>\n",
              "      <th>total_proceeds</th>\n",
              "    </tr>\n",
              "  </thead>\n",
              "  <tbody>\n",
              "    <tr>\n",
              "      <td>8</td>\n",
              "      <td>1001</td>\n",
              "      <td>11</td>\n",
              "      <td>444.00</td>\n",
              "      <td>59.00</td>\n",
              "      <td>0.00</td>\n",
              "      <td>18.02</td>\n",
              "      <td>41</td>\n",
              "      <td>NaT</td>\n",
              "      <td>Москва</td>\n",
              "      <td>Иван</td>\n",
              "      <td>...</td>\n",
              "      <td>smart</td>\n",
              "      <td>50</td>\n",
              "      <td>15.00</td>\n",
              "      <td>500</td>\n",
              "      <td>550</td>\n",
              "      <td>200</td>\n",
              "      <td>3</td>\n",
              "      <td>3</td>\n",
              "      <td>603.91</td>\n",
              "      <td>1153.91</td>\n",
              "    </tr>\n",
              "    <tr>\n",
              "      <td>9</td>\n",
              "      <td>1001</td>\n",
              "      <td>12</td>\n",
              "      <td>430.00</td>\n",
              "      <td>63.00</td>\n",
              "      <td>0.00</td>\n",
              "      <td>13.72</td>\n",
              "      <td>41</td>\n",
              "      <td>NaT</td>\n",
              "      <td>Москва</td>\n",
              "      <td>Иван</td>\n",
              "      <td>...</td>\n",
              "      <td>smart</td>\n",
              "      <td>50</td>\n",
              "      <td>15.00</td>\n",
              "      <td>500</td>\n",
              "      <td>550</td>\n",
              "      <td>200</td>\n",
              "      <td>3</td>\n",
              "      <td>3</td>\n",
              "      <td>0.00</td>\n",
              "      <td>550.00</td>\n",
              "    </tr>\n",
              "    <tr>\n",
              "      <td>10</td>\n",
              "      <td>1002</td>\n",
              "      <td>6</td>\n",
              "      <td>118.00</td>\n",
              "      <td>15.00</td>\n",
              "      <td>4.00</td>\n",
              "      <td>10.62</td>\n",
              "      <td>59</td>\n",
              "      <td>NaT</td>\n",
              "      <td>Стерлитамак</td>\n",
              "      <td>Евгений</td>\n",
              "      <td>...</td>\n",
              "      <td>smart</td>\n",
              "      <td>50</td>\n",
              "      <td>15.00</td>\n",
              "      <td>500</td>\n",
              "      <td>550</td>\n",
              "      <td>200</td>\n",
              "      <td>3</td>\n",
              "      <td>3</td>\n",
              "      <td>0.00</td>\n",
              "      <td>550.00</td>\n",
              "    </tr>\n",
              "    <tr>\n",
              "      <td>11</td>\n",
              "      <td>1002</td>\n",
              "      <td>7</td>\n",
              "      <td>219.00</td>\n",
              "      <td>26.00</td>\n",
              "      <td>11.00</td>\n",
              "      <td>17.19</td>\n",
              "      <td>59</td>\n",
              "      <td>NaT</td>\n",
              "      <td>Стерлитамак</td>\n",
              "      <td>Евгений</td>\n",
              "      <td>...</td>\n",
              "      <td>smart</td>\n",
              "      <td>50</td>\n",
              "      <td>15.00</td>\n",
              "      <td>500</td>\n",
              "      <td>550</td>\n",
              "      <td>200</td>\n",
              "      <td>3</td>\n",
              "      <td>3</td>\n",
              "      <td>437.70</td>\n",
              "      <td>987.70</td>\n",
              "    </tr>\n",
              "    <tr>\n",
              "      <td>12</td>\n",
              "      <td>1002</td>\n",
              "      <td>8</td>\n",
              "      <td>294.00</td>\n",
              "      <td>42.00</td>\n",
              "      <td>13.00</td>\n",
              "      <td>19.87</td>\n",
              "      <td>59</td>\n",
              "      <td>NaT</td>\n",
              "      <td>Стерлитамак</td>\n",
              "      <td>Евгений</td>\n",
              "      <td>...</td>\n",
              "      <td>smart</td>\n",
              "      <td>50</td>\n",
              "      <td>15.00</td>\n",
              "      <td>500</td>\n",
              "      <td>550</td>\n",
              "      <td>200</td>\n",
              "      <td>3</td>\n",
              "      <td>3</td>\n",
              "      <td>974.02</td>\n",
              "      <td>1524.02</td>\n",
              "    </tr>\n",
              "    <tr>\n",
              "      <td>...</td>\n",
              "      <td>...</td>\n",
              "      <td>...</td>\n",
              "      <td>...</td>\n",
              "      <td>...</td>\n",
              "      <td>...</td>\n",
              "      <td>...</td>\n",
              "      <td>...</td>\n",
              "      <td>...</td>\n",
              "      <td>...</td>\n",
              "      <td>...</td>\n",
              "      <td>...</td>\n",
              "      <td>...</td>\n",
              "      <td>...</td>\n",
              "      <td>...</td>\n",
              "      <td>...</td>\n",
              "      <td>...</td>\n",
              "      <td>...</td>\n",
              "      <td>...</td>\n",
              "      <td>...</td>\n",
              "      <td>...</td>\n",
              "      <td>...</td>\n",
              "    </tr>\n",
              "    <tr>\n",
              "      <td>3208</td>\n",
              "      <td>1489</td>\n",
              "      <td>8</td>\n",
              "      <td>0.00</td>\n",
              "      <td>0.00</td>\n",
              "      <td>17.00</td>\n",
              "      <td>10.81</td>\n",
              "      <td>35</td>\n",
              "      <td>NaT</td>\n",
              "      <td>Санкт-Петербург</td>\n",
              "      <td>Павел</td>\n",
              "      <td>...</td>\n",
              "      <td>smart</td>\n",
              "      <td>50</td>\n",
              "      <td>15.00</td>\n",
              "      <td>500</td>\n",
              "      <td>550</td>\n",
              "      <td>200</td>\n",
              "      <td>3</td>\n",
              "      <td>3</td>\n",
              "      <td>0.00</td>\n",
              "      <td>550.00</td>\n",
              "    </tr>\n",
              "    <tr>\n",
              "      <td>3209</td>\n",
              "      <td>1489</td>\n",
              "      <td>9</td>\n",
              "      <td>0.00</td>\n",
              "      <td>0.00</td>\n",
              "      <td>32.00</td>\n",
              "      <td>16.83</td>\n",
              "      <td>35</td>\n",
              "      <td>NaT</td>\n",
              "      <td>Санкт-Петербург</td>\n",
              "      <td>Павел</td>\n",
              "      <td>...</td>\n",
              "      <td>smart</td>\n",
              "      <td>50</td>\n",
              "      <td>15.00</td>\n",
              "      <td>500</td>\n",
              "      <td>550</td>\n",
              "      <td>200</td>\n",
              "      <td>3</td>\n",
              "      <td>3</td>\n",
              "      <td>365.62</td>\n",
              "      <td>915.62</td>\n",
              "    </tr>\n",
              "    <tr>\n",
              "      <td>3210</td>\n",
              "      <td>1489</td>\n",
              "      <td>10</td>\n",
              "      <td>0.00</td>\n",
              "      <td>0.00</td>\n",
              "      <td>21.00</td>\n",
              "      <td>19.13</td>\n",
              "      <td>35</td>\n",
              "      <td>NaT</td>\n",
              "      <td>Санкт-Петербург</td>\n",
              "      <td>Павел</td>\n",
              "      <td>...</td>\n",
              "      <td>smart</td>\n",
              "      <td>50</td>\n",
              "      <td>15.00</td>\n",
              "      <td>500</td>\n",
              "      <td>550</td>\n",
              "      <td>200</td>\n",
              "      <td>3</td>\n",
              "      <td>3</td>\n",
              "      <td>825.78</td>\n",
              "      <td>1375.78</td>\n",
              "    </tr>\n",
              "    <tr>\n",
              "      <td>3211</td>\n",
              "      <td>1489</td>\n",
              "      <td>11</td>\n",
              "      <td>0.00</td>\n",
              "      <td>0.00</td>\n",
              "      <td>20.00</td>\n",
              "      <td>17.11</td>\n",
              "      <td>35</td>\n",
              "      <td>NaT</td>\n",
              "      <td>Санкт-Петербург</td>\n",
              "      <td>Павел</td>\n",
              "      <td>...</td>\n",
              "      <td>smart</td>\n",
              "      <td>50</td>\n",
              "      <td>15.00</td>\n",
              "      <td>500</td>\n",
              "      <td>550</td>\n",
              "      <td>200</td>\n",
              "      <td>3</td>\n",
              "      <td>3</td>\n",
              "      <td>421.09</td>\n",
              "      <td>971.09</td>\n",
              "    </tr>\n",
              "    <tr>\n",
              "      <td>3212</td>\n",
              "      <td>1489</td>\n",
              "      <td>12</td>\n",
              "      <td>0.00</td>\n",
              "      <td>0.00</td>\n",
              "      <td>35.00</td>\n",
              "      <td>16.93</td>\n",
              "      <td>35</td>\n",
              "      <td>NaT</td>\n",
              "      <td>Санкт-Петербург</td>\n",
              "      <td>Павел</td>\n",
              "      <td>...</td>\n",
              "      <td>smart</td>\n",
              "      <td>50</td>\n",
              "      <td>15.00</td>\n",
              "      <td>500</td>\n",
              "      <td>550</td>\n",
              "      <td>200</td>\n",
              "      <td>3</td>\n",
              "      <td>3</td>\n",
              "      <td>386.91</td>\n",
              "      <td>936.91</td>\n",
              "    </tr>\n",
              "  </tbody>\n",
              "</table>\n",
              "<p>2147 rows × 22 columns</p>\n",
              "</div>"
            ],
            "text/plain": [
              "      user_id  month  total_duration  total_calls  total_messages  \\\n",
              "8        1001     11          444.00        59.00            0.00   \n",
              "9        1001     12          430.00        63.00            0.00   \n",
              "10       1002      6          118.00        15.00            4.00   \n",
              "11       1002      7          219.00        26.00           11.00   \n",
              "12       1002      8          294.00        42.00           13.00   \n",
              "...       ...    ...             ...          ...             ...   \n",
              "3208     1489      8            0.00         0.00           17.00   \n",
              "3209     1489      9            0.00         0.00           32.00   \n",
              "3210     1489     10            0.00         0.00           21.00   \n",
              "3211     1489     11            0.00         0.00           20.00   \n",
              "3212     1489     12            0.00         0.00           35.00   \n",
              "\n",
              "      total_gb_used  age churn_date             city first_name  ... tariff  \\\n",
              "8             18.02   41        NaT           Москва       Иван  ...  smart   \n",
              "9             13.72   41        NaT           Москва       Иван  ...  smart   \n",
              "10            10.62   59        NaT      Стерлитамак    Евгений  ...  smart   \n",
              "11            17.19   59        NaT      Стерлитамак    Евгений  ...  smart   \n",
              "12            19.87   59        NaT      Стерлитамак    Евгений  ...  smart   \n",
              "...             ...  ...        ...              ...        ...  ...    ...   \n",
              "3208          10.81   35        NaT  Санкт-Петербург      Павел  ...  smart   \n",
              "3209          16.83   35        NaT  Санкт-Петербург      Павел  ...  smart   \n",
              "3210          19.13   35        NaT  Санкт-Петербург      Павел  ...  smart   \n",
              "3211          17.11   35        NaT  Санкт-Петербург      Павел  ...  smart   \n",
              "3212          16.93   35        NaT  Санкт-Петербург      Павел  ...  smart   \n",
              "\n",
              "     messages_included gb_per_month_included  minutes_included  \\\n",
              "8                   50                 15.00               500   \n",
              "9                   50                 15.00               500   \n",
              "10                  50                 15.00               500   \n",
              "11                  50                 15.00               500   \n",
              "12                  50                 15.00               500   \n",
              "...                ...                   ...               ...   \n",
              "3208                50                 15.00               500   \n",
              "3209                50                 15.00               500   \n",
              "3210                50                 15.00               500   \n",
              "3211                50                 15.00               500   \n",
              "3212                50                 15.00               500   \n",
              "\n",
              "      rub_monthly_fee  rub_per_gb  rub_per_message  rub_per_minute  \\\n",
              "8                 550         200                3               3   \n",
              "9                 550         200                3               3   \n",
              "10                550         200                3               3   \n",
              "11                550         200                3               3   \n",
              "12                550         200                3               3   \n",
              "...               ...         ...              ...             ...   \n",
              "3208              550         200                3               3   \n",
              "3209              550         200                3               3   \n",
              "3210              550         200                3               3   \n",
              "3211              550         200                3               3   \n",
              "3212              550         200                3               3   \n",
              "\n",
              "      total_excess_tariff  total_proceeds  \n",
              "8                  603.91         1153.91  \n",
              "9                    0.00          550.00  \n",
              "10                   0.00          550.00  \n",
              "11                 437.70          987.70  \n",
              "12                 974.02         1524.02  \n",
              "...                   ...             ...  \n",
              "3208                 0.00          550.00  \n",
              "3209               365.62          915.62  \n",
              "3210               825.78         1375.78  \n",
              "3211               421.09          971.09  \n",
              "3212               386.91          936.91  \n",
              "\n",
              "[2147 rows x 22 columns]"
            ]
          },
          "metadata": {
            "tags": []
          }
        }
      ]
    },
    {
      "cell_type": "code",
      "metadata": {
        "id": "3A5P06cxtzoo",
        "outputId": "de0e456d-5ff0-40fc-dc14-f9d087c43b51"
      },
      "source": [
        "smart_df['total_proceeds'].plot(kind = 'hist',bins = 50,range = (500, 3500), grid =True)\n",
        "plt.xlabel('Оплата в месяц')\n",
        "plt.ylabel('Кол-тво оплат в месяц')\n",
        "plt.show()"
      ],
      "execution_count": null,
      "outputs": [
        {
          "output_type": "display_data",
          "data": {
            "image/png": "[encoded data removed]",
            "text/plain": [
              "<Figure size 432x288 with 1 Axes>"
            ]
          },
          "metadata": {
            "tags": [],
            "needs_background": "light"
          }
        }
      ]
    },
    {
      "cell_type": "code",
      "metadata": {
        "id": "kdkgpJwmtzoo",
        "outputId": "22c06483-f4a6-4d62-96ed-59efacb43ddc"
      },
      "source": [
        "print(ultra_df['total_proceeds'].sum())"
      ],
      "execution_count": null,
      "outputs": [
        {
          "output_type": "stream",
          "text": [
            "2002144.3359375\n"
          ],
          "name": "stdout"
        }
      ]
    },
    {
      "cell_type": "code",
      "metadata": {
        "id": "FUNmbVdytzoo",
        "outputId": "2a08230e-e723-4356-9459-8497ad7d43ff"
      },
      "source": [
        "# <выручка за превышение тарифа>\n",
        "print(ultra_df['total_excess_tariff'].sum())"
      ],
      "execution_count": null,
      "outputs": [
        {
          "output_type": "stream",
          "text": [
            "102844.3359375\n"
          ],
          "name": "stdout"
        }
      ]
    },
    {
      "cell_type": "code",
      "metadata": {
        "id": "gnU5ojs0tzoo",
        "outputId": "9fcb41d6-c1a2-42d3-dabf-1c0169aa3aa3"
      },
      "source": [
        "print(ultra_df['total_proceeds'].sum() - ultra_df['total_excess_tariff'].sum())"
      ],
      "execution_count": null,
      "outputs": [
        {
          "output_type": "stream",
          "text": [
            "1899300.0\n"
          ],
          "name": "stdout"
        }
      ]
    },
    {
      "cell_type": "code",
      "metadata": {
        "id": "xUZKLvcBtzop",
        "outputId": "56104465-9b0c-4e5b-d2d7-95e1f850417e"
      },
      "source": [
        "ultra_df['total_proceeds'].describe()"
      ],
      "execution_count": null,
      "outputs": [
        {
          "output_type": "execute_result",
          "data": {
            "text/plain": [
              "count    974.00\n",
              "mean    2055.59\n",
              "std      342.49\n",
              "min     1950.00\n",
              "25%     1950.00\n",
              "50%     1950.00\n",
              "75%     1950.00\n",
              "max     4539.11\n",
              "Name: total_proceeds, dtype: float64"
            ]
          },
          "metadata": {
            "tags": []
          },
          "execution_count": 151
        }
      ]
    },
    {
      "cell_type": "code",
      "metadata": {
        "id": "RVN6zyuKtzop",
        "outputId": "9a0322fe-b36b-46a2-e096-29dde264823e"
      },
      "source": [
        "print(ultra_df['total_proceeds'].var())"
      ],
      "execution_count": null,
      "outputs": [
        {
          "output_type": "stream",
          "text": [
            "117300.62985336149\n"
          ],
          "name": "stdout"
        }
      ]
    },
    {
      "cell_type": "code",
      "metadata": {
        "id": "Rg9CHJEFtzop",
        "outputId": "156977c9-673a-4090-b941-4e7d92029b6f"
      },
      "source": [
        "print(ultra_df['total_proceeds'].value_counts())"
      ],
      "execution_count": null,
      "outputs": [
        {
          "output_type": "stream",
          "text": [
            "1950.00    845\n",
            "2916.94      1\n",
            "2236.96      1\n",
            "3644.97      1\n",
            "2508.98      1\n",
            "          ... \n",
            "2606.98      1\n",
            "2227.00      1\n",
            "2683.01      1\n",
            "2995.02      1\n",
            "3802.15      1\n",
            "Name: total_proceeds, Length: 130, dtype: int64\n"
          ],
          "name": "stdout"
        }
      ]
    },
    {
      "cell_type": "code",
      "metadata": {
        "id": "9iiniFChtzop",
        "outputId": "dac16a71-413b-4305-e613-e303f9b67f86"
      },
      "source": [
        "ultra_df['total_proceeds'].plot(kind = 'hist',bins = 50,range = (1900, 4600), grid =True)\n",
        "plt.xlabel('Оплата в месяц')\n",
        "plt.ylabel('Кол-тво оплат в месяц')\n",
        "plt.show()"
      ],
      "execution_count": null,
      "outputs": [
        {
          "output_type": "display_data",
          "data": {
            "image/png": "[encoded data removed]",
            "text/plain": [
              "<Figure size 432x288 with 1 Axes>"
            ]
          },
          "metadata": {
            "tags": [],
            "needs_background": "light"
          }
        }
      ]
    },
    {
      "cell_type": "markdown",
      "metadata": {
        "id": "3tPHXCxAtzoq"
      },
      "source": [
        "<b>Выручка идет в основном с тарифа, с услуг сверх тарифного плана выручка маловата, примерно 5%.</b>"
      ]
    },
    {
      "cell_type": "code",
      "metadata": {
        "id": "thCngIaNtzoq"
      },
      "source": [
        "ultra_df = section_query(ultra_df, 'total_proceeds')"
      ],
      "execution_count": null,
      "outputs": []
    },
    {
      "cell_type": "code",
      "metadata": {
        "id": "9CpNt6JItzoq",
        "outputId": "38e77ae4-7bb5-47ed-bcb7-3ce507379811"
      },
      "source": [
        "ultra_df['total_proceeds'].describe()"
      ],
      "execution_count": null,
      "outputs": [
        {
          "output_type": "execute_result",
          "data": {
            "text/plain": [
              "count    845.00\n",
              "mean    1950.00\n",
              "std        0.00\n",
              "min     1950.00\n",
              "25%     1950.00\n",
              "50%     1950.00\n",
              "75%     1950.00\n",
              "max     1950.00\n",
              "Name: total_proceeds, dtype: float64"
            ]
          },
          "metadata": {
            "tags": []
          },
          "execution_count": 156
        }
      ]
    },
    {
      "cell_type": "code",
      "metadata": {
        "id": "BwTqijTvtzoq",
        "outputId": "3d33584a-d978-4d31-e5e0-1e715aa3a062"
      },
      "source": [
        "ultra_df['total_proceeds'].plot(kind = 'hist',bins = 50,range = (1900, 4600), grid =True)\n",
        "plt.xlabel('Оплата в месяц')\n",
        "plt.ylabel('Кол-тво оплат в месяц')\n",
        "plt.show()"
      ],
      "execution_count": null,
      "outputs": [
        {
          "output_type": "display_data",
          "data": {
            "image/png": "[encoded data removed]",
            "text/plain": [
              "<Figure size 432x288 with 1 Axes>"
            ]
          },
          "metadata": {
            "tags": [],
            "needs_background": "light"
          }
        }
      ]
    },
    {
      "cell_type": "markdown",
      "metadata": {
        "id": "KFYZBsLltzoq"
      },
      "source": [
        "### Вывод:\n",
        "1. В обоих тарифах услуга отправки сообщений не так популярна, большинство пользователей укладывается в тариф. Эта закономерность логична для современного мира, появилось большое количество соцсетей и мессенджеров, которые работаю через интернет.\n",
        "2. В тарифе smart больше 50% пользователей выходят за рамки тарифа, для этих пользователей скорее 15 Гб трафика не хватает. В ultra дела обстоят лучше, большинство пользователей укладываются в тариф. Пик около 20 Гб.\n",
        "3. Пользователям тарифа ultra в полне хватает количество минут для звонков, никто не превышал лимит использования. В тарифе smart около 50% лимит по минутам превысили.\n",
        "4. Около 52% от всей выручки в тарифе smart состоит из услуг сферх тарифного плана. В ultra наоборот, вся выручка в основном с ежемесячной платы тарифа. "
      ]
    },
    {
      "cell_type": "markdown",
      "metadata": {
        "id": "IHmnuxZjtzor"
      },
      "source": [
        "## Шаг 4. Проверяем гипотезы"
      ]
    },
    {
      "cell_type": "markdown",
      "metadata": {
        "id": "Vk27jEVitzor"
      },
      "source": [
        "<ul style=\"border:solid black 2px; padding: 20px\">\n",
        "    <li>средняя выручка пользователей тарифов «Ультра» и «Смарт» различается;</li>\n",
        "</ul> "
      ]
    },
    {
      "cell_type": "markdown",
      "metadata": {
        "id": "TNQ_Uj20tzor"
      },
      "source": [
        "<b>Так как у нас генеральных совокупности две, и нам необходимо сопоставить их средние, то применим гипотезу о равенстве средних двух генеральных совокупностей.</b>"
      ]
    },
    {
      "cell_type": "markdown",
      "metadata": {
        "id": "SLqixb-Ntzor"
      },
      "source": [
        "<b> Сформулируем гипотезы:\n",
        "    <ul>\n",
        "        <li>H0: средняя выручка пользователей тарифов «Ультра» и «Смарт» не различается;</li>\n",
        "        <li>H1: средняя выручка пользователей тарифов «Ультра» и «Смарт» различается;</li>\n",
        "    </ul> \n",
        "</b>"
      ]
    },
    {
      "cell_type": "code",
      "metadata": {
        "id": "aDnO848_tzor",
        "outputId": "acf5d4b7-ea7a-4284-a9b3-09b9b9521030"
      },
      "source": [
        "display(smart_df)"
      ],
      "execution_count": null,
      "outputs": [
        {
          "output_type": "display_data",
          "data": {
            "text/html": [
              "<div>\n",
              "<style scoped>\n",
              "    .dataframe tbody tr th:only-of-type {\n",
              "        vertical-align: middle;\n",
              "    }\n",
              "\n",
              "    .dataframe tbody tr th {\n",
              "        vertical-align: top;\n",
              "    }\n",
              "\n",
              "    .dataframe thead th {\n",
              "        text-align: right;\n",
              "    }\n",
              "</style>\n",
              "<table border=\"1\" class=\"dataframe\">\n",
              "  <thead>\n",
              "    <tr style=\"text-align: right;\">\n",
              "      <th></th>\n",
              "      <th>user_id</th>\n",
              "      <th>month</th>\n",
              "      <th>total_duration</th>\n",
              "      <th>total_calls</th>\n",
              "      <th>total_messages</th>\n",
              "      <th>total_gb_used</th>\n",
              "      <th>age</th>\n",
              "      <th>churn_date</th>\n",
              "      <th>city</th>\n",
              "      <th>first_name</th>\n",
              "      <th>...</th>\n",
              "      <th>tariff</th>\n",
              "      <th>messages_included</th>\n",
              "      <th>gb_per_month_included</th>\n",
              "      <th>minutes_included</th>\n",
              "      <th>rub_monthly_fee</th>\n",
              "      <th>rub_per_gb</th>\n",
              "      <th>rub_per_message</th>\n",
              "      <th>rub_per_minute</th>\n",
              "      <th>total_excess_tariff</th>\n",
              "      <th>total_proceeds</th>\n",
              "    </tr>\n",
              "  </thead>\n",
              "  <tbody>\n",
              "    <tr>\n",
              "      <td>8</td>\n",
              "      <td>1001</td>\n",
              "      <td>11</td>\n",
              "      <td>444.00</td>\n",
              "      <td>59.00</td>\n",
              "      <td>0.00</td>\n",
              "      <td>18.02</td>\n",
              "      <td>41</td>\n",
              "      <td>NaT</td>\n",
              "      <td>Москва</td>\n",
              "      <td>Иван</td>\n",
              "      <td>...</td>\n",
              "      <td>smart</td>\n",
              "      <td>50</td>\n",
              "      <td>15.00</td>\n",
              "      <td>500</td>\n",
              "      <td>550</td>\n",
              "      <td>200</td>\n",
              "      <td>3</td>\n",
              "      <td>3</td>\n",
              "      <td>603.91</td>\n",
              "      <td>1153.91</td>\n",
              "    </tr>\n",
              "    <tr>\n",
              "      <td>9</td>\n",
              "      <td>1001</td>\n",
              "      <td>12</td>\n",
              "      <td>430.00</td>\n",
              "      <td>63.00</td>\n",
              "      <td>0.00</td>\n",
              "      <td>13.72</td>\n",
              "      <td>41</td>\n",
              "      <td>NaT</td>\n",
              "      <td>Москва</td>\n",
              "      <td>Иван</td>\n",
              "      <td>...</td>\n",
              "      <td>smart</td>\n",
              "      <td>50</td>\n",
              "      <td>15.00</td>\n",
              "      <td>500</td>\n",
              "      <td>550</td>\n",
              "      <td>200</td>\n",
              "      <td>3</td>\n",
              "      <td>3</td>\n",
              "      <td>0.00</td>\n",
              "      <td>550.00</td>\n",
              "    </tr>\n",
              "    <tr>\n",
              "      <td>10</td>\n",
              "      <td>1002</td>\n",
              "      <td>6</td>\n",
              "      <td>118.00</td>\n",
              "      <td>15.00</td>\n",
              "      <td>4.00</td>\n",
              "      <td>10.62</td>\n",
              "      <td>59</td>\n",
              "      <td>NaT</td>\n",
              "      <td>Стерлитамак</td>\n",
              "      <td>Евгений</td>\n",
              "      <td>...</td>\n",
              "      <td>smart</td>\n",
              "      <td>50</td>\n",
              "      <td>15.00</td>\n",
              "      <td>500</td>\n",
              "      <td>550</td>\n",
              "      <td>200</td>\n",
              "      <td>3</td>\n",
              "      <td>3</td>\n",
              "      <td>0.00</td>\n",
              "      <td>550.00</td>\n",
              "    </tr>\n",
              "    <tr>\n",
              "      <td>11</td>\n",
              "      <td>1002</td>\n",
              "      <td>7</td>\n",
              "      <td>219.00</td>\n",
              "      <td>26.00</td>\n",
              "      <td>11.00</td>\n",
              "      <td>17.19</td>\n",
              "      <td>59</td>\n",
              "      <td>NaT</td>\n",
              "      <td>Стерлитамак</td>\n",
              "      <td>Евгений</td>\n",
              "      <td>...</td>\n",
              "      <td>smart</td>\n",
              "      <td>50</td>\n",
              "      <td>15.00</td>\n",
              "      <td>500</td>\n",
              "      <td>550</td>\n",
              "      <td>200</td>\n",
              "      <td>3</td>\n",
              "      <td>3</td>\n",
              "      <td>437.70</td>\n",
              "      <td>987.70</td>\n",
              "    </tr>\n",
              "    <tr>\n",
              "      <td>12</td>\n",
              "      <td>1002</td>\n",
              "      <td>8</td>\n",
              "      <td>294.00</td>\n",
              "      <td>42.00</td>\n",
              "      <td>13.00</td>\n",
              "      <td>19.87</td>\n",
              "      <td>59</td>\n",
              "      <td>NaT</td>\n",
              "      <td>Стерлитамак</td>\n",
              "      <td>Евгений</td>\n",
              "      <td>...</td>\n",
              "      <td>smart</td>\n",
              "      <td>50</td>\n",
              "      <td>15.00</td>\n",
              "      <td>500</td>\n",
              "      <td>550</td>\n",
              "      <td>200</td>\n",
              "      <td>3</td>\n",
              "      <td>3</td>\n",
              "      <td>974.02</td>\n",
              "      <td>1524.02</td>\n",
              "    </tr>\n",
              "    <tr>\n",
              "      <td>...</td>\n",
              "      <td>...</td>\n",
              "      <td>...</td>\n",
              "      <td>...</td>\n",
              "      <td>...</td>\n",
              "      <td>...</td>\n",
              "      <td>...</td>\n",
              "      <td>...</td>\n",
              "      <td>...</td>\n",
              "      <td>...</td>\n",
              "      <td>...</td>\n",
              "      <td>...</td>\n",
              "      <td>...</td>\n",
              "      <td>...</td>\n",
              "      <td>...</td>\n",
              "      <td>...</td>\n",
              "      <td>...</td>\n",
              "      <td>...</td>\n",
              "      <td>...</td>\n",
              "      <td>...</td>\n",
              "      <td>...</td>\n",
              "      <td>...</td>\n",
              "    </tr>\n",
              "    <tr>\n",
              "      <td>3208</td>\n",
              "      <td>1489</td>\n",
              "      <td>8</td>\n",
              "      <td>0.00</td>\n",
              "      <td>0.00</td>\n",
              "      <td>17.00</td>\n",
              "      <td>10.81</td>\n",
              "      <td>35</td>\n",
              "      <td>NaT</td>\n",
              "      <td>Санкт-Петербург</td>\n",
              "      <td>Павел</td>\n",
              "      <td>...</td>\n",
              "      <td>smart</td>\n",
              "      <td>50</td>\n",
              "      <td>15.00</td>\n",
              "      <td>500</td>\n",
              "      <td>550</td>\n",
              "      <td>200</td>\n",
              "      <td>3</td>\n",
              "      <td>3</td>\n",
              "      <td>0.00</td>\n",
              "      <td>550.00</td>\n",
              "    </tr>\n",
              "    <tr>\n",
              "      <td>3209</td>\n",
              "      <td>1489</td>\n",
              "      <td>9</td>\n",
              "      <td>0.00</td>\n",
              "      <td>0.00</td>\n",
              "      <td>32.00</td>\n",
              "      <td>16.83</td>\n",
              "      <td>35</td>\n",
              "      <td>NaT</td>\n",
              "      <td>Санкт-Петербург</td>\n",
              "      <td>Павел</td>\n",
              "      <td>...</td>\n",
              "      <td>smart</td>\n",
              "      <td>50</td>\n",
              "      <td>15.00</td>\n",
              "      <td>500</td>\n",
              "      <td>550</td>\n",
              "      <td>200</td>\n",
              "      <td>3</td>\n",
              "      <td>3</td>\n",
              "      <td>365.62</td>\n",
              "      <td>915.62</td>\n",
              "    </tr>\n",
              "    <tr>\n",
              "      <td>3210</td>\n",
              "      <td>1489</td>\n",
              "      <td>10</td>\n",
              "      <td>0.00</td>\n",
              "      <td>0.00</td>\n",
              "      <td>21.00</td>\n",
              "      <td>19.13</td>\n",
              "      <td>35</td>\n",
              "      <td>NaT</td>\n",
              "      <td>Санкт-Петербург</td>\n",
              "      <td>Павел</td>\n",
              "      <td>...</td>\n",
              "      <td>smart</td>\n",
              "      <td>50</td>\n",
              "      <td>15.00</td>\n",
              "      <td>500</td>\n",
              "      <td>550</td>\n",
              "      <td>200</td>\n",
              "      <td>3</td>\n",
              "      <td>3</td>\n",
              "      <td>825.78</td>\n",
              "      <td>1375.78</td>\n",
              "    </tr>\n",
              "    <tr>\n",
              "      <td>3211</td>\n",
              "      <td>1489</td>\n",
              "      <td>11</td>\n",
              "      <td>0.00</td>\n",
              "      <td>0.00</td>\n",
              "      <td>20.00</td>\n",
              "      <td>17.11</td>\n",
              "      <td>35</td>\n",
              "      <td>NaT</td>\n",
              "      <td>Санкт-Петербург</td>\n",
              "      <td>Павел</td>\n",
              "      <td>...</td>\n",
              "      <td>smart</td>\n",
              "      <td>50</td>\n",
              "      <td>15.00</td>\n",
              "      <td>500</td>\n",
              "      <td>550</td>\n",
              "      <td>200</td>\n",
              "      <td>3</td>\n",
              "      <td>3</td>\n",
              "      <td>421.09</td>\n",
              "      <td>971.09</td>\n",
              "    </tr>\n",
              "    <tr>\n",
              "      <td>3212</td>\n",
              "      <td>1489</td>\n",
              "      <td>12</td>\n",
              "      <td>0.00</td>\n",
              "      <td>0.00</td>\n",
              "      <td>35.00</td>\n",
              "      <td>16.93</td>\n",
              "      <td>35</td>\n",
              "      <td>NaT</td>\n",
              "      <td>Санкт-Петербург</td>\n",
              "      <td>Павел</td>\n",
              "      <td>...</td>\n",
              "      <td>smart</td>\n",
              "      <td>50</td>\n",
              "      <td>15.00</td>\n",
              "      <td>500</td>\n",
              "      <td>550</td>\n",
              "      <td>200</td>\n",
              "      <td>3</td>\n",
              "      <td>3</td>\n",
              "      <td>386.91</td>\n",
              "      <td>936.91</td>\n",
              "    </tr>\n",
              "  </tbody>\n",
              "</table>\n",
              "<p>2147 rows × 22 columns</p>\n",
              "</div>"
            ],
            "text/plain": [
              "      user_id  month  total_duration  total_calls  total_messages  \\\n",
              "8        1001     11          444.00        59.00            0.00   \n",
              "9        1001     12          430.00        63.00            0.00   \n",
              "10       1002      6          118.00        15.00            4.00   \n",
              "11       1002      7          219.00        26.00           11.00   \n",
              "12       1002      8          294.00        42.00           13.00   \n",
              "...       ...    ...             ...          ...             ...   \n",
              "3208     1489      8            0.00         0.00           17.00   \n",
              "3209     1489      9            0.00         0.00           32.00   \n",
              "3210     1489     10            0.00         0.00           21.00   \n",
              "3211     1489     11            0.00         0.00           20.00   \n",
              "3212     1489     12            0.00         0.00           35.00   \n",
              "\n",
              "      total_gb_used  age churn_date             city first_name  ... tariff  \\\n",
              "8             18.02   41        NaT           Москва       Иван  ...  smart   \n",
              "9             13.72   41        NaT           Москва       Иван  ...  smart   \n",
              "10            10.62   59        NaT      Стерлитамак    Евгений  ...  smart   \n",
              "11            17.19   59        NaT      Стерлитамак    Евгений  ...  smart   \n",
              "12            19.87   59        NaT      Стерлитамак    Евгений  ...  smart   \n",
              "...             ...  ...        ...              ...        ...  ...    ...   \n",
              "3208          10.81   35        NaT  Санкт-Петербург      Павел  ...  smart   \n",
              "3209          16.83   35        NaT  Санкт-Петербург      Павел  ...  smart   \n",
              "3210          19.13   35        NaT  Санкт-Петербург      Павел  ...  smart   \n",
              "3211          17.11   35        NaT  Санкт-Петербург      Павел  ...  smart   \n",
              "3212          16.93   35        NaT  Санкт-Петербург      Павел  ...  smart   \n",
              "\n",
              "     messages_included gb_per_month_included  minutes_included  \\\n",
              "8                   50                 15.00               500   \n",
              "9                   50                 15.00               500   \n",
              "10                  50                 15.00               500   \n",
              "11                  50                 15.00               500   \n",
              "12                  50                 15.00               500   \n",
              "...                ...                   ...               ...   \n",
              "3208                50                 15.00               500   \n",
              "3209                50                 15.00               500   \n",
              "3210                50                 15.00               500   \n",
              "3211                50                 15.00               500   \n",
              "3212                50                 15.00               500   \n",
              "\n",
              "      rub_monthly_fee  rub_per_gb  rub_per_message  rub_per_minute  \\\n",
              "8                 550         200                3               3   \n",
              "9                 550         200                3               3   \n",
              "10                550         200                3               3   \n",
              "11                550         200                3               3   \n",
              "12                550         200                3               3   \n",
              "...               ...         ...              ...             ...   \n",
              "3208              550         200                3               3   \n",
              "3209              550         200                3               3   \n",
              "3210              550         200                3               3   \n",
              "3211              550         200                3               3   \n",
              "3212              550         200                3               3   \n",
              "\n",
              "      total_excess_tariff  total_proceeds  \n",
              "8                  603.91         1153.91  \n",
              "9                    0.00          550.00  \n",
              "10                   0.00          550.00  \n",
              "11                 437.70          987.70  \n",
              "12                 974.02         1524.02  \n",
              "...                   ...             ...  \n",
              "3208                 0.00          550.00  \n",
              "3209               365.62          915.62  \n",
              "3210               825.78         1375.78  \n",
              "3211               421.09          971.09  \n",
              "3212               386.91          936.91  \n",
              "\n",
              "[2147 rows x 22 columns]"
            ]
          },
          "metadata": {
            "tags": []
          }
        }
      ]
    },
    {
      "cell_type": "code",
      "metadata": {
        "id": "jwdPSpcYtzos",
        "outputId": "c61c7a1f-3bd7-44ca-8131-37798f1ed4a0"
      },
      "source": [
        "display(ultra_df)"
      ],
      "execution_count": null,
      "outputs": [
        {
          "output_type": "display_data",
          "data": {
            "text/html": [
              "<div>\n",
              "<style scoped>\n",
              "    .dataframe tbody tr th:only-of-type {\n",
              "        vertical-align: middle;\n",
              "    }\n",
              "\n",
              "    .dataframe tbody tr th {\n",
              "        vertical-align: top;\n",
              "    }\n",
              "\n",
              "    .dataframe thead th {\n",
              "        text-align: right;\n",
              "    }\n",
              "</style>\n",
              "<table border=\"1\" class=\"dataframe\">\n",
              "  <thead>\n",
              "    <tr style=\"text-align: right;\">\n",
              "      <th></th>\n",
              "      <th>user_id</th>\n",
              "      <th>month</th>\n",
              "      <th>total_duration</th>\n",
              "      <th>total_calls</th>\n",
              "      <th>total_messages</th>\n",
              "      <th>total_gb_used</th>\n",
              "      <th>age</th>\n",
              "      <th>churn_date</th>\n",
              "      <th>city</th>\n",
              "      <th>first_name</th>\n",
              "      <th>...</th>\n",
              "      <th>tariff</th>\n",
              "      <th>messages_included</th>\n",
              "      <th>gb_per_month_included</th>\n",
              "      <th>minutes_included</th>\n",
              "      <th>rub_monthly_fee</th>\n",
              "      <th>rub_per_gb</th>\n",
              "      <th>rub_per_message</th>\n",
              "      <th>rub_per_minute</th>\n",
              "      <th>total_excess_tariff</th>\n",
              "      <th>total_proceeds</th>\n",
              "    </tr>\n",
              "  </thead>\n",
              "  <tbody>\n",
              "    <tr>\n",
              "      <td>0</td>\n",
              "      <td>1000</td>\n",
              "      <td>5</td>\n",
              "      <td>164.00</td>\n",
              "      <td>22.00</td>\n",
              "      <td>22.00</td>\n",
              "      <td>2.20</td>\n",
              "      <td>52</td>\n",
              "      <td>NaT</td>\n",
              "      <td>Краснодар</td>\n",
              "      <td>Рафаил</td>\n",
              "      <td>...</td>\n",
              "      <td>ultra</td>\n",
              "      <td>1000</td>\n",
              "      <td>30.00</td>\n",
              "      <td>3000</td>\n",
              "      <td>1950</td>\n",
              "      <td>150</td>\n",
              "      <td>1</td>\n",
              "      <td>1</td>\n",
              "      <td>0.00</td>\n",
              "      <td>1950.00</td>\n",
              "    </tr>\n",
              "    <tr>\n",
              "      <td>1</td>\n",
              "      <td>1000</td>\n",
              "      <td>6</td>\n",
              "      <td>187.00</td>\n",
              "      <td>43.00</td>\n",
              "      <td>60.00</td>\n",
              "      <td>22.71</td>\n",
              "      <td>52</td>\n",
              "      <td>NaT</td>\n",
              "      <td>Краснодар</td>\n",
              "      <td>Рафаил</td>\n",
              "      <td>...</td>\n",
              "      <td>ultra</td>\n",
              "      <td>1000</td>\n",
              "      <td>30.00</td>\n",
              "      <td>3000</td>\n",
              "      <td>1950</td>\n",
              "      <td>150</td>\n",
              "      <td>1</td>\n",
              "      <td>1</td>\n",
              "      <td>0.00</td>\n",
              "      <td>1950.00</td>\n",
              "    </tr>\n",
              "    <tr>\n",
              "      <td>2</td>\n",
              "      <td>1000</td>\n",
              "      <td>7</td>\n",
              "      <td>346.00</td>\n",
              "      <td>47.00</td>\n",
              "      <td>75.00</td>\n",
              "      <td>13.69</td>\n",
              "      <td>52</td>\n",
              "      <td>NaT</td>\n",
              "      <td>Краснодар</td>\n",
              "      <td>Рафаил</td>\n",
              "      <td>...</td>\n",
              "      <td>ultra</td>\n",
              "      <td>1000</td>\n",
              "      <td>30.00</td>\n",
              "      <td>3000</td>\n",
              "      <td>1950</td>\n",
              "      <td>150</td>\n",
              "      <td>1</td>\n",
              "      <td>1</td>\n",
              "      <td>0.00</td>\n",
              "      <td>1950.00</td>\n",
              "    </tr>\n",
              "    <tr>\n",
              "      <td>3</td>\n",
              "      <td>1000</td>\n",
              "      <td>8</td>\n",
              "      <td>418.00</td>\n",
              "      <td>52.00</td>\n",
              "      <td>81.00</td>\n",
              "      <td>13.74</td>\n",
              "      <td>52</td>\n",
              "      <td>NaT</td>\n",
              "      <td>Краснодар</td>\n",
              "      <td>Рафаил</td>\n",
              "      <td>...</td>\n",
              "      <td>ultra</td>\n",
              "      <td>1000</td>\n",
              "      <td>30.00</td>\n",
              "      <td>3000</td>\n",
              "      <td>1950</td>\n",
              "      <td>150</td>\n",
              "      <td>1</td>\n",
              "      <td>1</td>\n",
              "      <td>0.00</td>\n",
              "      <td>1950.00</td>\n",
              "    </tr>\n",
              "    <tr>\n",
              "      <td>4</td>\n",
              "      <td>1000</td>\n",
              "      <td>9</td>\n",
              "      <td>478.00</td>\n",
              "      <td>58.00</td>\n",
              "      <td>57.00</td>\n",
              "      <td>14.24</td>\n",
              "      <td>52</td>\n",
              "      <td>NaT</td>\n",
              "      <td>Краснодар</td>\n",
              "      <td>Рафаил</td>\n",
              "      <td>...</td>\n",
              "      <td>ultra</td>\n",
              "      <td>1000</td>\n",
              "      <td>30.00</td>\n",
              "      <td>3000</td>\n",
              "      <td>1950</td>\n",
              "      <td>150</td>\n",
              "      <td>1</td>\n",
              "      <td>1</td>\n",
              "      <td>0.00</td>\n",
              "      <td>1950.00</td>\n",
              "    </tr>\n",
              "    <tr>\n",
              "      <td>...</td>\n",
              "      <td>...</td>\n",
              "      <td>...</td>\n",
              "      <td>...</td>\n",
              "      <td>...</td>\n",
              "      <td>...</td>\n",
              "      <td>...</td>\n",
              "      <td>...</td>\n",
              "      <td>...</td>\n",
              "      <td>...</td>\n",
              "      <td>...</td>\n",
              "      <td>...</td>\n",
              "      <td>...</td>\n",
              "      <td>...</td>\n",
              "      <td>...</td>\n",
              "      <td>...</td>\n",
              "      <td>...</td>\n",
              "      <td>...</td>\n",
              "      <td>...</td>\n",
              "      <td>...</td>\n",
              "      <td>...</td>\n",
              "      <td>...</td>\n",
              "    </tr>\n",
              "    <tr>\n",
              "      <td>3204</td>\n",
              "      <td>1473</td>\n",
              "      <td>9</td>\n",
              "      <td>0.00</td>\n",
              "      <td>0.00</td>\n",
              "      <td>19.00</td>\n",
              "      <td>16.90</td>\n",
              "      <td>18</td>\n",
              "      <td>NaT</td>\n",
              "      <td>Красноярск</td>\n",
              "      <td>Николай</td>\n",
              "      <td>...</td>\n",
              "      <td>ultra</td>\n",
              "      <td>1000</td>\n",
              "      <td>30.00</td>\n",
              "      <td>3000</td>\n",
              "      <td>1950</td>\n",
              "      <td>150</td>\n",
              "      <td>1</td>\n",
              "      <td>1</td>\n",
              "      <td>0.00</td>\n",
              "      <td>1950.00</td>\n",
              "    </tr>\n",
              "    <tr>\n",
              "      <td>3205</td>\n",
              "      <td>1473</td>\n",
              "      <td>10</td>\n",
              "      <td>0.00</td>\n",
              "      <td>0.00</td>\n",
              "      <td>20.00</td>\n",
              "      <td>13.38</td>\n",
              "      <td>18</td>\n",
              "      <td>NaT</td>\n",
              "      <td>Красноярск</td>\n",
              "      <td>Николай</td>\n",
              "      <td>...</td>\n",
              "      <td>ultra</td>\n",
              "      <td>1000</td>\n",
              "      <td>30.00</td>\n",
              "      <td>3000</td>\n",
              "      <td>1950</td>\n",
              "      <td>150</td>\n",
              "      <td>1</td>\n",
              "      <td>1</td>\n",
              "      <td>0.00</td>\n",
              "      <td>1950.00</td>\n",
              "    </tr>\n",
              "    <tr>\n",
              "      <td>3206</td>\n",
              "      <td>1473</td>\n",
              "      <td>11</td>\n",
              "      <td>0.00</td>\n",
              "      <td>0.00</td>\n",
              "      <td>14.00</td>\n",
              "      <td>21.18</td>\n",
              "      <td>18</td>\n",
              "      <td>NaT</td>\n",
              "      <td>Красноярск</td>\n",
              "      <td>Николай</td>\n",
              "      <td>...</td>\n",
              "      <td>ultra</td>\n",
              "      <td>1000</td>\n",
              "      <td>30.00</td>\n",
              "      <td>3000</td>\n",
              "      <td>1950</td>\n",
              "      <td>150</td>\n",
              "      <td>1</td>\n",
              "      <td>1</td>\n",
              "      <td>0.00</td>\n",
              "      <td>1950.00</td>\n",
              "    </tr>\n",
              "    <tr>\n",
              "      <td>3207</td>\n",
              "      <td>1473</td>\n",
              "      <td>12</td>\n",
              "      <td>0.00</td>\n",
              "      <td>0.00</td>\n",
              "      <td>20.00</td>\n",
              "      <td>18.00</td>\n",
              "      <td>18</td>\n",
              "      <td>NaT</td>\n",
              "      <td>Красноярск</td>\n",
              "      <td>Николай</td>\n",
              "      <td>...</td>\n",
              "      <td>ultra</td>\n",
              "      <td>1000</td>\n",
              "      <td>30.00</td>\n",
              "      <td>3000</td>\n",
              "      <td>1950</td>\n",
              "      <td>150</td>\n",
              "      <td>1</td>\n",
              "      <td>1</td>\n",
              "      <td>0.00</td>\n",
              "      <td>1950.00</td>\n",
              "    </tr>\n",
              "    <tr>\n",
              "      <td>3213</td>\n",
              "      <td>1476</td>\n",
              "      <td>4</td>\n",
              "      <td>0.00</td>\n",
              "      <td>0.00</td>\n",
              "      <td>0.00</td>\n",
              "      <td>0.52</td>\n",
              "      <td>50</td>\n",
              "      <td>NaT</td>\n",
              "      <td>Москва</td>\n",
              "      <td>Валентина</td>\n",
              "      <td>...</td>\n",
              "      <td>ultra</td>\n",
              "      <td>1000</td>\n",
              "      <td>30.00</td>\n",
              "      <td>3000</td>\n",
              "      <td>1950</td>\n",
              "      <td>150</td>\n",
              "      <td>1</td>\n",
              "      <td>1</td>\n",
              "      <td>0.00</td>\n",
              "      <td>1950.00</td>\n",
              "    </tr>\n",
              "  </tbody>\n",
              "</table>\n",
              "<p>845 rows × 22 columns</p>\n",
              "</div>"
            ],
            "text/plain": [
              "      user_id  month  total_duration  total_calls  total_messages  \\\n",
              "0        1000      5          164.00        22.00           22.00   \n",
              "1        1000      6          187.00        43.00           60.00   \n",
              "2        1000      7          346.00        47.00           75.00   \n",
              "3        1000      8          418.00        52.00           81.00   \n",
              "4        1000      9          478.00        58.00           57.00   \n",
              "...       ...    ...             ...          ...             ...   \n",
              "3204     1473      9            0.00         0.00           19.00   \n",
              "3205     1473     10            0.00         0.00           20.00   \n",
              "3206     1473     11            0.00         0.00           14.00   \n",
              "3207     1473     12            0.00         0.00           20.00   \n",
              "3213     1476      4            0.00         0.00            0.00   \n",
              "\n",
              "      total_gb_used  age churn_date        city first_name  ... tariff  \\\n",
              "0              2.20   52        NaT   Краснодар     Рафаил  ...  ultra   \n",
              "1             22.71   52        NaT   Краснодар     Рафаил  ...  ultra   \n",
              "2             13.69   52        NaT   Краснодар     Рафаил  ...  ultra   \n",
              "3             13.74   52        NaT   Краснодар     Рафаил  ...  ultra   \n",
              "4             14.24   52        NaT   Краснодар     Рафаил  ...  ultra   \n",
              "...             ...  ...        ...         ...        ...  ...    ...   \n",
              "3204          16.90   18        NaT  Красноярск    Николай  ...  ultra   \n",
              "3205          13.38   18        NaT  Красноярск    Николай  ...  ultra   \n",
              "3206          21.18   18        NaT  Красноярск    Николай  ...  ultra   \n",
              "3207          18.00   18        NaT  Красноярск    Николай  ...  ultra   \n",
              "3213           0.52   50        NaT      Москва  Валентина  ...  ultra   \n",
              "\n",
              "     messages_included gb_per_month_included  minutes_included  \\\n",
              "0                 1000                 30.00              3000   \n",
              "1                 1000                 30.00              3000   \n",
              "2                 1000                 30.00              3000   \n",
              "3                 1000                 30.00              3000   \n",
              "4                 1000                 30.00              3000   \n",
              "...                ...                   ...               ...   \n",
              "3204              1000                 30.00              3000   \n",
              "3205              1000                 30.00              3000   \n",
              "3206              1000                 30.00              3000   \n",
              "3207              1000                 30.00              3000   \n",
              "3213              1000                 30.00              3000   \n",
              "\n",
              "      rub_monthly_fee  rub_per_gb  rub_per_message  rub_per_minute  \\\n",
              "0                1950         150                1               1   \n",
              "1                1950         150                1               1   \n",
              "2                1950         150                1               1   \n",
              "3                1950         150                1               1   \n",
              "4                1950         150                1               1   \n",
              "...               ...         ...              ...             ...   \n",
              "3204             1950         150                1               1   \n",
              "3205             1950         150                1               1   \n",
              "3206             1950         150                1               1   \n",
              "3207             1950         150                1               1   \n",
              "3213             1950         150                1               1   \n",
              "\n",
              "      total_excess_tariff  total_proceeds  \n",
              "0                    0.00         1950.00  \n",
              "1                    0.00         1950.00  \n",
              "2                    0.00         1950.00  \n",
              "3                    0.00         1950.00  \n",
              "4                    0.00         1950.00  \n",
              "...                   ...             ...  \n",
              "3204                 0.00         1950.00  \n",
              "3205                 0.00         1950.00  \n",
              "3206                 0.00         1950.00  \n",
              "3207                 0.00         1950.00  \n",
              "3213                 0.00         1950.00  \n",
              "\n",
              "[845 rows x 22 columns]"
            ]
          },
          "metadata": {
            "tags": []
          }
        }
      ]
    },
    {
      "cell_type": "code",
      "metadata": {
        "id": "SW0hYBnrtzos"
      },
      "source": [
        "smart_df = smart_df['total_proceeds']"
      ],
      "execution_count": null,
      "outputs": []
    },
    {
      "cell_type": "code",
      "metadata": {
        "id": "cZA1yFfGtzos"
      },
      "source": [
        "ultra_df = ultra_df['total_proceeds']"
      ],
      "execution_count": null,
      "outputs": []
    },
    {
      "cell_type": "code",
      "metadata": {
        "id": "cmP2dUg0tzos"
      },
      "source": [
        "alpha = 0.05"
      ],
      "execution_count": null,
      "outputs": []
    },
    {
      "cell_type": "code",
      "metadata": {
        "id": "USUj3I8Dtzos"
      },
      "source": [
        "results = st.ttest_ind(smart_df, ultra_df)"
      ],
      "execution_count": null,
      "outputs": []
    },
    {
      "cell_type": "code",
      "metadata": {
        "id": "CLiSEcuotzot",
        "outputId": "add87d30-cecd-478d-f474-59a54d36f094"
      },
      "source": [
        "print('p-значение:', results.pvalue)\n",
        "\n",
        "if (results.pvalue < alpha):\n",
        "    print('Отвергаем нулевую гипотезу')\n",
        "else:\n",
        "    print('Не получилось отвергнуть нулевую гипотезу')"
      ],
      "execution_count": null,
      "outputs": [
        {
          "output_type": "stream",
          "text": [
            "p-значение: 1.6130032821416825e-193\n",
            "Отвергаем нулевую гипотезу\n"
          ],
          "name": "stdout"
        }
      ]
    },
    {
      "cell_type": "markdown",
      "metadata": {
        "id": "cDou_Uwbtzot"
      },
      "source": [
        "<b>Присутствуют значимые различия между выборками.</b>"
      ]
    },
    {
      "cell_type": "markdown",
      "metadata": {
        "id": "opwpE1yhtzot"
      },
      "source": [
        "<ul style=\"border:solid black 2px; padding: 20px\">\n",
        "    <li>средняя выручка пользователей из Москвы отличается от выручки пользователей из других регионов;</li>\n",
        "</ul> "
      ]
    },
    {
      "cell_type": "markdown",
      "metadata": {
        "id": "FillIC6ptzot"
      },
      "source": [
        "<b> Сформулируем гипотезы:\n",
        "    <ul>\n",
        "        <li>H0: средняя выручка пользователей из Москвы не отличается от выручки пользователей из других регионов;</li>\n",
        "        <li>H1: средняя выручка пользователей из Москвы отличается от выручки пользователей из других регионов;</li>\n",
        "    </ul> \n",
        "</b>"
      ]
    },
    {
      "cell_type": "code",
      "metadata": {
        "id": "qkr3Jy8Otzot",
        "outputId": "1ad1cb85-0c79-4a12-9e82-469f80e33c97"
      },
      "source": [
        "display(df['city'].value_counts())"
      ],
      "execution_count": null,
      "outputs": [
        {
          "output_type": "display_data",
          "data": {
            "text/plain": [
              "Москва             611\n",
              "Санкт-Петербург    270\n",
              "Новосибирск         98\n",
              "Уфа                 95\n",
              "Краснодар           86\n",
              "                  ... \n",
              "Сургут               6\n",
              "Нижневартовск        6\n",
              "Кемерово             5\n",
              "Химки                5\n",
              "Иваново              2\n",
              "Name: city, Length: 76, dtype: int64"
            ]
          },
          "metadata": {
            "tags": []
          }
        }
      ]
    },
    {
      "cell_type": "code",
      "metadata": {
        "id": "G_lSBrICtzou"
      },
      "source": [
        "def city_group(city):\n",
        "    if 'Москва' in city:\n",
        "        return 'Москва'\n",
        "    else:\n",
        "        return 'Другой регион'\n",
        "    return 'Ошибка'"
      ],
      "execution_count": null,
      "outputs": []
    },
    {
      "cell_type": "code",
      "metadata": {
        "id": "RwAXIbxxtzou",
        "outputId": "13302fc3-c54d-4062-8600-65452703b752"
      },
      "source": [
        "#<создадим столбец и проверим>\n",
        "df['city_group'] = df['city'].apply(city_group)\n",
        "display(df)"
      ],
      "execution_count": null,
      "outputs": [
        {
          "output_type": "display_data",
          "data": {
            "text/html": [
              "<div>\n",
              "<style scoped>\n",
              "    .dataframe tbody tr th:only-of-type {\n",
              "        vertical-align: middle;\n",
              "    }\n",
              "\n",
              "    .dataframe tbody tr th {\n",
              "        vertical-align: top;\n",
              "    }\n",
              "\n",
              "    .dataframe thead th {\n",
              "        text-align: right;\n",
              "    }\n",
              "</style>\n",
              "<table border=\"1\" class=\"dataframe\">\n",
              "  <thead>\n",
              "    <tr style=\"text-align: right;\">\n",
              "      <th></th>\n",
              "      <th>user_id</th>\n",
              "      <th>month</th>\n",
              "      <th>total_duration</th>\n",
              "      <th>total_calls</th>\n",
              "      <th>total_messages</th>\n",
              "      <th>total_gb_used</th>\n",
              "      <th>age</th>\n",
              "      <th>churn_date</th>\n",
              "      <th>city</th>\n",
              "      <th>first_name</th>\n",
              "      <th>...</th>\n",
              "      <th>messages_included</th>\n",
              "      <th>gb_per_month_included</th>\n",
              "      <th>minutes_included</th>\n",
              "      <th>rub_monthly_fee</th>\n",
              "      <th>rub_per_gb</th>\n",
              "      <th>rub_per_message</th>\n",
              "      <th>rub_per_minute</th>\n",
              "      <th>total_excess_tariff</th>\n",
              "      <th>total_proceeds</th>\n",
              "      <th>city_group</th>\n",
              "    </tr>\n",
              "  </thead>\n",
              "  <tbody>\n",
              "    <tr>\n",
              "      <td>0</td>\n",
              "      <td>1000</td>\n",
              "      <td>5</td>\n",
              "      <td>164.00</td>\n",
              "      <td>22.00</td>\n",
              "      <td>22.00</td>\n",
              "      <td>2.20</td>\n",
              "      <td>52</td>\n",
              "      <td>NaT</td>\n",
              "      <td>Краснодар</td>\n",
              "      <td>Рафаил</td>\n",
              "      <td>...</td>\n",
              "      <td>1000</td>\n",
              "      <td>30.00</td>\n",
              "      <td>3000</td>\n",
              "      <td>1950</td>\n",
              "      <td>150</td>\n",
              "      <td>1</td>\n",
              "      <td>1</td>\n",
              "      <td>0.00</td>\n",
              "      <td>1950.00</td>\n",
              "      <td>Другой регион</td>\n",
              "    </tr>\n",
              "    <tr>\n",
              "      <td>1</td>\n",
              "      <td>1000</td>\n",
              "      <td>6</td>\n",
              "      <td>187.00</td>\n",
              "      <td>43.00</td>\n",
              "      <td>60.00</td>\n",
              "      <td>22.71</td>\n",
              "      <td>52</td>\n",
              "      <td>NaT</td>\n",
              "      <td>Краснодар</td>\n",
              "      <td>Рафаил</td>\n",
              "      <td>...</td>\n",
              "      <td>1000</td>\n",
              "      <td>30.00</td>\n",
              "      <td>3000</td>\n",
              "      <td>1950</td>\n",
              "      <td>150</td>\n",
              "      <td>1</td>\n",
              "      <td>1</td>\n",
              "      <td>0.00</td>\n",
              "      <td>1950.00</td>\n",
              "      <td>Другой регион</td>\n",
              "    </tr>\n",
              "    <tr>\n",
              "      <td>2</td>\n",
              "      <td>1000</td>\n",
              "      <td>7</td>\n",
              "      <td>346.00</td>\n",
              "      <td>47.00</td>\n",
              "      <td>75.00</td>\n",
              "      <td>13.69</td>\n",
              "      <td>52</td>\n",
              "      <td>NaT</td>\n",
              "      <td>Краснодар</td>\n",
              "      <td>Рафаил</td>\n",
              "      <td>...</td>\n",
              "      <td>1000</td>\n",
              "      <td>30.00</td>\n",
              "      <td>3000</td>\n",
              "      <td>1950</td>\n",
              "      <td>150</td>\n",
              "      <td>1</td>\n",
              "      <td>1</td>\n",
              "      <td>0.00</td>\n",
              "      <td>1950.00</td>\n",
              "      <td>Другой регион</td>\n",
              "    </tr>\n",
              "    <tr>\n",
              "      <td>3</td>\n",
              "      <td>1000</td>\n",
              "      <td>8</td>\n",
              "      <td>418.00</td>\n",
              "      <td>52.00</td>\n",
              "      <td>81.00</td>\n",
              "      <td>13.74</td>\n",
              "      <td>52</td>\n",
              "      <td>NaT</td>\n",
              "      <td>Краснодар</td>\n",
              "      <td>Рафаил</td>\n",
              "      <td>...</td>\n",
              "      <td>1000</td>\n",
              "      <td>30.00</td>\n",
              "      <td>3000</td>\n",
              "      <td>1950</td>\n",
              "      <td>150</td>\n",
              "      <td>1</td>\n",
              "      <td>1</td>\n",
              "      <td>0.00</td>\n",
              "      <td>1950.00</td>\n",
              "      <td>Другой регион</td>\n",
              "    </tr>\n",
              "    <tr>\n",
              "      <td>4</td>\n",
              "      <td>1000</td>\n",
              "      <td>9</td>\n",
              "      <td>478.00</td>\n",
              "      <td>58.00</td>\n",
              "      <td>57.00</td>\n",
              "      <td>14.24</td>\n",
              "      <td>52</td>\n",
              "      <td>NaT</td>\n",
              "      <td>Краснодар</td>\n",
              "      <td>Рафаил</td>\n",
              "      <td>...</td>\n",
              "      <td>1000</td>\n",
              "      <td>30.00</td>\n",
              "      <td>3000</td>\n",
              "      <td>1950</td>\n",
              "      <td>150</td>\n",
              "      <td>1</td>\n",
              "      <td>1</td>\n",
              "      <td>0.00</td>\n",
              "      <td>1950.00</td>\n",
              "      <td>Другой регион</td>\n",
              "    </tr>\n",
              "    <tr>\n",
              "      <td>...</td>\n",
              "      <td>...</td>\n",
              "      <td>...</td>\n",
              "      <td>...</td>\n",
              "      <td>...</td>\n",
              "      <td>...</td>\n",
              "      <td>...</td>\n",
              "      <td>...</td>\n",
              "      <td>...</td>\n",
              "      <td>...</td>\n",
              "      <td>...</td>\n",
              "      <td>...</td>\n",
              "      <td>...</td>\n",
              "      <td>...</td>\n",
              "      <td>...</td>\n",
              "      <td>...</td>\n",
              "      <td>...</td>\n",
              "      <td>...</td>\n",
              "      <td>...</td>\n",
              "      <td>...</td>\n",
              "      <td>...</td>\n",
              "      <td>...</td>\n",
              "    </tr>\n",
              "    <tr>\n",
              "      <td>3209</td>\n",
              "      <td>1489</td>\n",
              "      <td>9</td>\n",
              "      <td>0.00</td>\n",
              "      <td>0.00</td>\n",
              "      <td>32.00</td>\n",
              "      <td>16.83</td>\n",
              "      <td>35</td>\n",
              "      <td>NaT</td>\n",
              "      <td>Санкт-Петербург</td>\n",
              "      <td>Павел</td>\n",
              "      <td>...</td>\n",
              "      <td>50</td>\n",
              "      <td>15.00</td>\n",
              "      <td>500</td>\n",
              "      <td>550</td>\n",
              "      <td>200</td>\n",
              "      <td>3</td>\n",
              "      <td>3</td>\n",
              "      <td>365.62</td>\n",
              "      <td>915.62</td>\n",
              "      <td>Другой регион</td>\n",
              "    </tr>\n",
              "    <tr>\n",
              "      <td>3210</td>\n",
              "      <td>1489</td>\n",
              "      <td>10</td>\n",
              "      <td>0.00</td>\n",
              "      <td>0.00</td>\n",
              "      <td>21.00</td>\n",
              "      <td>19.13</td>\n",
              "      <td>35</td>\n",
              "      <td>NaT</td>\n",
              "      <td>Санкт-Петербург</td>\n",
              "      <td>Павел</td>\n",
              "      <td>...</td>\n",
              "      <td>50</td>\n",
              "      <td>15.00</td>\n",
              "      <td>500</td>\n",
              "      <td>550</td>\n",
              "      <td>200</td>\n",
              "      <td>3</td>\n",
              "      <td>3</td>\n",
              "      <td>825.78</td>\n",
              "      <td>1375.78</td>\n",
              "      <td>Другой регион</td>\n",
              "    </tr>\n",
              "    <tr>\n",
              "      <td>3211</td>\n",
              "      <td>1489</td>\n",
              "      <td>11</td>\n",
              "      <td>0.00</td>\n",
              "      <td>0.00</td>\n",
              "      <td>20.00</td>\n",
              "      <td>17.11</td>\n",
              "      <td>35</td>\n",
              "      <td>NaT</td>\n",
              "      <td>Санкт-Петербург</td>\n",
              "      <td>Павел</td>\n",
              "      <td>...</td>\n",
              "      <td>50</td>\n",
              "      <td>15.00</td>\n",
              "      <td>500</td>\n",
              "      <td>550</td>\n",
              "      <td>200</td>\n",
              "      <td>3</td>\n",
              "      <td>3</td>\n",
              "      <td>421.09</td>\n",
              "      <td>971.09</td>\n",
              "      <td>Другой регион</td>\n",
              "    </tr>\n",
              "    <tr>\n",
              "      <td>3212</td>\n",
              "      <td>1489</td>\n",
              "      <td>12</td>\n",
              "      <td>0.00</td>\n",
              "      <td>0.00</td>\n",
              "      <td>35.00</td>\n",
              "      <td>16.93</td>\n",
              "      <td>35</td>\n",
              "      <td>NaT</td>\n",
              "      <td>Санкт-Петербург</td>\n",
              "      <td>Павел</td>\n",
              "      <td>...</td>\n",
              "      <td>50</td>\n",
              "      <td>15.00</td>\n",
              "      <td>500</td>\n",
              "      <td>550</td>\n",
              "      <td>200</td>\n",
              "      <td>3</td>\n",
              "      <td>3</td>\n",
              "      <td>386.91</td>\n",
              "      <td>936.91</td>\n",
              "      <td>Другой регион</td>\n",
              "    </tr>\n",
              "    <tr>\n",
              "      <td>3213</td>\n",
              "      <td>1476</td>\n",
              "      <td>4</td>\n",
              "      <td>0.00</td>\n",
              "      <td>0.00</td>\n",
              "      <td>0.00</td>\n",
              "      <td>0.52</td>\n",
              "      <td>50</td>\n",
              "      <td>NaT</td>\n",
              "      <td>Москва</td>\n",
              "      <td>Валентина</td>\n",
              "      <td>...</td>\n",
              "      <td>1000</td>\n",
              "      <td>30.00</td>\n",
              "      <td>3000</td>\n",
              "      <td>1950</td>\n",
              "      <td>150</td>\n",
              "      <td>1</td>\n",
              "      <td>1</td>\n",
              "      <td>0.00</td>\n",
              "      <td>1950.00</td>\n",
              "      <td>Москва</td>\n",
              "    </tr>\n",
              "  </tbody>\n",
              "</table>\n",
              "<p>3214 rows × 23 columns</p>\n",
              "</div>"
            ],
            "text/plain": [
              "      user_id  month  total_duration  total_calls  total_messages  \\\n",
              "0        1000      5          164.00        22.00           22.00   \n",
              "1        1000      6          187.00        43.00           60.00   \n",
              "2        1000      7          346.00        47.00           75.00   \n",
              "3        1000      8          418.00        52.00           81.00   \n",
              "4        1000      9          478.00        58.00           57.00   \n",
              "...       ...    ...             ...          ...             ...   \n",
              "3209     1489      9            0.00         0.00           32.00   \n",
              "3210     1489     10            0.00         0.00           21.00   \n",
              "3211     1489     11            0.00         0.00           20.00   \n",
              "3212     1489     12            0.00         0.00           35.00   \n",
              "3213     1476      4            0.00         0.00            0.00   \n",
              "\n",
              "      total_gb_used  age churn_date             city first_name  ...  \\\n",
              "0              2.20   52        NaT        Краснодар     Рафаил  ...   \n",
              "1             22.71   52        NaT        Краснодар     Рафаил  ...   \n",
              "2             13.69   52        NaT        Краснодар     Рафаил  ...   \n",
              "3             13.74   52        NaT        Краснодар     Рафаил  ...   \n",
              "4             14.24   52        NaT        Краснодар     Рафаил  ...   \n",
              "...             ...  ...        ...              ...        ...  ...   \n",
              "3209          16.83   35        NaT  Санкт-Петербург      Павел  ...   \n",
              "3210          19.13   35        NaT  Санкт-Петербург      Павел  ...   \n",
              "3211          17.11   35        NaT  Санкт-Петербург      Павел  ...   \n",
              "3212          16.93   35        NaT  Санкт-Петербург      Павел  ...   \n",
              "3213           0.52   50        NaT           Москва  Валентина  ...   \n",
              "\n",
              "     messages_included gb_per_month_included minutes_included  \\\n",
              "0                 1000                 30.00             3000   \n",
              "1                 1000                 30.00             3000   \n",
              "2                 1000                 30.00             3000   \n",
              "3                 1000                 30.00             3000   \n",
              "4                 1000                 30.00             3000   \n",
              "...                ...                   ...              ...   \n",
              "3209                50                 15.00              500   \n",
              "3210                50                 15.00              500   \n",
              "3211                50                 15.00              500   \n",
              "3212                50                 15.00              500   \n",
              "3213              1000                 30.00             3000   \n",
              "\n",
              "      rub_monthly_fee  rub_per_gb  rub_per_message  rub_per_minute  \\\n",
              "0                1950         150                1               1   \n",
              "1                1950         150                1               1   \n",
              "2                1950         150                1               1   \n",
              "3                1950         150                1               1   \n",
              "4                1950         150                1               1   \n",
              "...               ...         ...              ...             ...   \n",
              "3209              550         200                3               3   \n",
              "3210              550         200                3               3   \n",
              "3211              550         200                3               3   \n",
              "3212              550         200                3               3   \n",
              "3213             1950         150                1               1   \n",
              "\n",
              "      total_excess_tariff  total_proceeds     city_group  \n",
              "0                    0.00         1950.00  Другой регион  \n",
              "1                    0.00         1950.00  Другой регион  \n",
              "2                    0.00         1950.00  Другой регион  \n",
              "3                    0.00         1950.00  Другой регион  \n",
              "4                    0.00         1950.00  Другой регион  \n",
              "...                   ...             ...            ...  \n",
              "3209               365.62          915.62  Другой регион  \n",
              "3210               825.78         1375.78  Другой регион  \n",
              "3211               421.09          971.09  Другой регион  \n",
              "3212               386.91          936.91  Другой регион  \n",
              "3213                 0.00         1950.00         Москва  \n",
              "\n",
              "[3214 rows x 23 columns]"
            ]
          },
          "metadata": {
            "tags": []
          }
        }
      ]
    },
    {
      "cell_type": "code",
      "metadata": {
        "id": "cDULHKiztzou",
        "outputId": "d08487fe-11df-45aa-9254-503f1cd9ece0"
      },
      "source": [
        "Moscow_df = df.query('city_group == \"Москва\"')\n",
        "display(Moscow_df)"
      ],
      "execution_count": null,
      "outputs": [
        {
          "output_type": "display_data",
          "data": {
            "text/html": [
              "<div>\n",
              "<style scoped>\n",
              "    .dataframe tbody tr th:only-of-type {\n",
              "        vertical-align: middle;\n",
              "    }\n",
              "\n",
              "    .dataframe tbody tr th {\n",
              "        vertical-align: top;\n",
              "    }\n",
              "\n",
              "    .dataframe thead th {\n",
              "        text-align: right;\n",
              "    }\n",
              "</style>\n",
              "<table border=\"1\" class=\"dataframe\">\n",
              "  <thead>\n",
              "    <tr style=\"text-align: right;\">\n",
              "      <th></th>\n",
              "      <th>user_id</th>\n",
              "      <th>month</th>\n",
              "      <th>total_duration</th>\n",
              "      <th>total_calls</th>\n",
              "      <th>total_messages</th>\n",
              "      <th>total_gb_used</th>\n",
              "      <th>age</th>\n",
              "      <th>churn_date</th>\n",
              "      <th>city</th>\n",
              "      <th>first_name</th>\n",
              "      <th>...</th>\n",
              "      <th>messages_included</th>\n",
              "      <th>gb_per_month_included</th>\n",
              "      <th>minutes_included</th>\n",
              "      <th>rub_monthly_fee</th>\n",
              "      <th>rub_per_gb</th>\n",
              "      <th>rub_per_message</th>\n",
              "      <th>rub_per_minute</th>\n",
              "      <th>total_excess_tariff</th>\n",
              "      <th>total_proceeds</th>\n",
              "      <th>city_group</th>\n",
              "    </tr>\n",
              "  </thead>\n",
              "  <tbody>\n",
              "    <tr>\n",
              "      <td>8</td>\n",
              "      <td>1001</td>\n",
              "      <td>11</td>\n",
              "      <td>444.00</td>\n",
              "      <td>59.00</td>\n",
              "      <td>0.00</td>\n",
              "      <td>18.02</td>\n",
              "      <td>41</td>\n",
              "      <td>NaT</td>\n",
              "      <td>Москва</td>\n",
              "      <td>Иван</td>\n",
              "      <td>...</td>\n",
              "      <td>50</td>\n",
              "      <td>15.00</td>\n",
              "      <td>500</td>\n",
              "      <td>550</td>\n",
              "      <td>200</td>\n",
              "      <td>3</td>\n",
              "      <td>3</td>\n",
              "      <td>603.91</td>\n",
              "      <td>1153.91</td>\n",
              "      <td>Москва</td>\n",
              "    </tr>\n",
              "    <tr>\n",
              "      <td>9</td>\n",
              "      <td>1001</td>\n",
              "      <td>12</td>\n",
              "      <td>430.00</td>\n",
              "      <td>63.00</td>\n",
              "      <td>0.00</td>\n",
              "      <td>13.72</td>\n",
              "      <td>41</td>\n",
              "      <td>NaT</td>\n",
              "      <td>Москва</td>\n",
              "      <td>Иван</td>\n",
              "      <td>...</td>\n",
              "      <td>50</td>\n",
              "      <td>15.00</td>\n",
              "      <td>500</td>\n",
              "      <td>550</td>\n",
              "      <td>200</td>\n",
              "      <td>3</td>\n",
              "      <td>3</td>\n",
              "      <td>0.00</td>\n",
              "      <td>550.00</td>\n",
              "      <td>Москва</td>\n",
              "    </tr>\n",
              "    <tr>\n",
              "      <td>17</td>\n",
              "      <td>1003</td>\n",
              "      <td>8</td>\n",
              "      <td>392.00</td>\n",
              "      <td>55.00</td>\n",
              "      <td>37.00</td>\n",
              "      <td>8.37</td>\n",
              "      <td>23</td>\n",
              "      <td>NaT</td>\n",
              "      <td>Москва</td>\n",
              "      <td>Белла</td>\n",
              "      <td>...</td>\n",
              "      <td>1000</td>\n",
              "      <td>30.00</td>\n",
              "      <td>3000</td>\n",
              "      <td>1950</td>\n",
              "      <td>150</td>\n",
              "      <td>1</td>\n",
              "      <td>1</td>\n",
              "      <td>0.00</td>\n",
              "      <td>1950.00</td>\n",
              "      <td>Москва</td>\n",
              "    </tr>\n",
              "    <tr>\n",
              "      <td>18</td>\n",
              "      <td>1003</td>\n",
              "      <td>9</td>\n",
              "      <td>990.00</td>\n",
              "      <td>134.00</td>\n",
              "      <td>91.00</td>\n",
              "      <td>12.19</td>\n",
              "      <td>23</td>\n",
              "      <td>NaT</td>\n",
              "      <td>Москва</td>\n",
              "      <td>Белла</td>\n",
              "      <td>...</td>\n",
              "      <td>1000</td>\n",
              "      <td>30.00</td>\n",
              "      <td>3000</td>\n",
              "      <td>1950</td>\n",
              "      <td>150</td>\n",
              "      <td>1</td>\n",
              "      <td>1</td>\n",
              "      <td>0.00</td>\n",
              "      <td>1950.00</td>\n",
              "      <td>Москва</td>\n",
              "    </tr>\n",
              "    <tr>\n",
              "      <td>19</td>\n",
              "      <td>1003</td>\n",
              "      <td>10</td>\n",
              "      <td>866.00</td>\n",
              "      <td>108.00</td>\n",
              "      <td>83.00</td>\n",
              "      <td>14.43</td>\n",
              "      <td>23</td>\n",
              "      <td>NaT</td>\n",
              "      <td>Москва</td>\n",
              "      <td>Белла</td>\n",
              "      <td>...</td>\n",
              "      <td>1000</td>\n",
              "      <td>30.00</td>\n",
              "      <td>3000</td>\n",
              "      <td>1950</td>\n",
              "      <td>150</td>\n",
              "      <td>1</td>\n",
              "      <td>1</td>\n",
              "      <td>0.00</td>\n",
              "      <td>1950.00</td>\n",
              "      <td>Москва</td>\n",
              "    </tr>\n",
              "    <tr>\n",
              "      <td>...</td>\n",
              "      <td>...</td>\n",
              "      <td>...</td>\n",
              "      <td>...</td>\n",
              "      <td>...</td>\n",
              "      <td>...</td>\n",
              "      <td>...</td>\n",
              "      <td>...</td>\n",
              "      <td>...</td>\n",
              "      <td>...</td>\n",
              "      <td>...</td>\n",
              "      <td>...</td>\n",
              "      <td>...</td>\n",
              "      <td>...</td>\n",
              "      <td>...</td>\n",
              "      <td>...</td>\n",
              "      <td>...</td>\n",
              "      <td>...</td>\n",
              "      <td>...</td>\n",
              "      <td>...</td>\n",
              "      <td>...</td>\n",
              "      <td>...</td>\n",
              "    </tr>\n",
              "    <tr>\n",
              "      <td>3119</td>\n",
              "      <td>1490</td>\n",
              "      <td>9</td>\n",
              "      <td>335.00</td>\n",
              "      <td>44.00</td>\n",
              "      <td>48.00</td>\n",
              "      <td>14.49</td>\n",
              "      <td>30</td>\n",
              "      <td>NaT</td>\n",
              "      <td>Москва</td>\n",
              "      <td>Радомир</td>\n",
              "      <td>...</td>\n",
              "      <td>50</td>\n",
              "      <td>15.00</td>\n",
              "      <td>500</td>\n",
              "      <td>550</td>\n",
              "      <td>200</td>\n",
              "      <td>3</td>\n",
              "      <td>3</td>\n",
              "      <td>0.00</td>\n",
              "      <td>550.00</td>\n",
              "      <td>Москва</td>\n",
              "    </tr>\n",
              "    <tr>\n",
              "      <td>3120</td>\n",
              "      <td>1490</td>\n",
              "      <td>10</td>\n",
              "      <td>320.00</td>\n",
              "      <td>42.00</td>\n",
              "      <td>45.00</td>\n",
              "      <td>20.21</td>\n",
              "      <td>30</td>\n",
              "      <td>NaT</td>\n",
              "      <td>Москва</td>\n",
              "      <td>Радомир</td>\n",
              "      <td>...</td>\n",
              "      <td>50</td>\n",
              "      <td>15.00</td>\n",
              "      <td>500</td>\n",
              "      <td>550</td>\n",
              "      <td>200</td>\n",
              "      <td>3</td>\n",
              "      <td>3</td>\n",
              "      <td>1041.02</td>\n",
              "      <td>1591.02</td>\n",
              "      <td>Москва</td>\n",
              "    </tr>\n",
              "    <tr>\n",
              "      <td>3121</td>\n",
              "      <td>1490</td>\n",
              "      <td>11</td>\n",
              "      <td>289.00</td>\n",
              "      <td>38.00</td>\n",
              "      <td>47.00</td>\n",
              "      <td>18.29</td>\n",
              "      <td>30</td>\n",
              "      <td>NaT</td>\n",
              "      <td>Москва</td>\n",
              "      <td>Радомир</td>\n",
              "      <td>...</td>\n",
              "      <td>50</td>\n",
              "      <td>15.00</td>\n",
              "      <td>500</td>\n",
              "      <td>550</td>\n",
              "      <td>200</td>\n",
              "      <td>3</td>\n",
              "      <td>3</td>\n",
              "      <td>658.79</td>\n",
              "      <td>1208.79</td>\n",
              "      <td>Москва</td>\n",
              "    </tr>\n",
              "    <tr>\n",
              "      <td>3122</td>\n",
              "      <td>1490</td>\n",
              "      <td>12</td>\n",
              "      <td>297.00</td>\n",
              "      <td>42.00</td>\n",
              "      <td>46.00</td>\n",
              "      <td>15.44</td>\n",
              "      <td>30</td>\n",
              "      <td>NaT</td>\n",
              "      <td>Москва</td>\n",
              "      <td>Радомир</td>\n",
              "      <td>...</td>\n",
              "      <td>50</td>\n",
              "      <td>15.00</td>\n",
              "      <td>500</td>\n",
              "      <td>550</td>\n",
              "      <td>200</td>\n",
              "      <td>3</td>\n",
              "      <td>3</td>\n",
              "      <td>87.11</td>\n",
              "      <td>637.11</td>\n",
              "      <td>Москва</td>\n",
              "    </tr>\n",
              "    <tr>\n",
              "      <td>3213</td>\n",
              "      <td>1476</td>\n",
              "      <td>4</td>\n",
              "      <td>0.00</td>\n",
              "      <td>0.00</td>\n",
              "      <td>0.00</td>\n",
              "      <td>0.52</td>\n",
              "      <td>50</td>\n",
              "      <td>NaT</td>\n",
              "      <td>Москва</td>\n",
              "      <td>Валентина</td>\n",
              "      <td>...</td>\n",
              "      <td>1000</td>\n",
              "      <td>30.00</td>\n",
              "      <td>3000</td>\n",
              "      <td>1950</td>\n",
              "      <td>150</td>\n",
              "      <td>1</td>\n",
              "      <td>1</td>\n",
              "      <td>0.00</td>\n",
              "      <td>1950.00</td>\n",
              "      <td>Москва</td>\n",
              "    </tr>\n",
              "  </tbody>\n",
              "</table>\n",
              "<p>611 rows × 23 columns</p>\n",
              "</div>"
            ],
            "text/plain": [
              "      user_id  month  total_duration  total_calls  total_messages  \\\n",
              "8        1001     11          444.00        59.00            0.00   \n",
              "9        1001     12          430.00        63.00            0.00   \n",
              "17       1003      8          392.00        55.00           37.00   \n",
              "18       1003      9          990.00       134.00           91.00   \n",
              "19       1003     10          866.00       108.00           83.00   \n",
              "...       ...    ...             ...          ...             ...   \n",
              "3119     1490      9          335.00        44.00           48.00   \n",
              "3120     1490     10          320.00        42.00           45.00   \n",
              "3121     1490     11          289.00        38.00           47.00   \n",
              "3122     1490     12          297.00        42.00           46.00   \n",
              "3213     1476      4            0.00         0.00            0.00   \n",
              "\n",
              "      total_gb_used  age churn_date    city first_name  ... messages_included  \\\n",
              "8             18.02   41        NaT  Москва       Иван  ...                50   \n",
              "9             13.72   41        NaT  Москва       Иван  ...                50   \n",
              "17             8.37   23        NaT  Москва      Белла  ...              1000   \n",
              "18            12.19   23        NaT  Москва      Белла  ...              1000   \n",
              "19            14.43   23        NaT  Москва      Белла  ...              1000   \n",
              "...             ...  ...        ...     ...        ...  ...               ...   \n",
              "3119          14.49   30        NaT  Москва    Радомир  ...                50   \n",
              "3120          20.21   30        NaT  Москва    Радомир  ...                50   \n",
              "3121          18.29   30        NaT  Москва    Радомир  ...                50   \n",
              "3122          15.44   30        NaT  Москва    Радомир  ...                50   \n",
              "3213           0.52   50        NaT  Москва  Валентина  ...              1000   \n",
              "\n",
              "     gb_per_month_included minutes_included  rub_monthly_fee  rub_per_gb  \\\n",
              "8                    15.00              500              550         200   \n",
              "9                    15.00              500              550         200   \n",
              "17                   30.00             3000             1950         150   \n",
              "18                   30.00             3000             1950         150   \n",
              "19                   30.00             3000             1950         150   \n",
              "...                    ...              ...              ...         ...   \n",
              "3119                 15.00              500              550         200   \n",
              "3120                 15.00              500              550         200   \n",
              "3121                 15.00              500              550         200   \n",
              "3122                 15.00              500              550         200   \n",
              "3213                 30.00             3000             1950         150   \n",
              "\n",
              "      rub_per_message  rub_per_minute  total_excess_tariff  total_proceeds  \\\n",
              "8                   3               3               603.91         1153.91   \n",
              "9                   3               3                 0.00          550.00   \n",
              "17                  1               1                 0.00         1950.00   \n",
              "18                  1               1                 0.00         1950.00   \n",
              "19                  1               1                 0.00         1950.00   \n",
              "...               ...             ...                  ...             ...   \n",
              "3119                3               3                 0.00          550.00   \n",
              "3120                3               3              1041.02         1591.02   \n",
              "3121                3               3               658.79         1208.79   \n",
              "3122                3               3                87.11          637.11   \n",
              "3213                1               1                 0.00         1950.00   \n",
              "\n",
              "      city_group  \n",
              "8         Москва  \n",
              "9         Москва  \n",
              "17        Москва  \n",
              "18        Москва  \n",
              "19        Москва  \n",
              "...          ...  \n",
              "3119      Москва  \n",
              "3120      Москва  \n",
              "3121      Москва  \n",
              "3122      Москва  \n",
              "3213      Москва  \n",
              "\n",
              "[611 rows x 23 columns]"
            ]
          },
          "metadata": {
            "tags": []
          }
        }
      ]
    },
    {
      "cell_type": "code",
      "metadata": {
        "id": "E95C8aLDtzou",
        "outputId": "856704e1-1e0d-4817-fe93-b468f315b14a"
      },
      "source": [
        "other_region_df = df.query('city_group == \"Другой регион\"')\n",
        "display(other_region_df)"
      ],
      "execution_count": null,
      "outputs": [
        {
          "output_type": "display_data",
          "data": {
            "text/html": [
              "<div>\n",
              "<style scoped>\n",
              "    .dataframe tbody tr th:only-of-type {\n",
              "        vertical-align: middle;\n",
              "    }\n",
              "\n",
              "    .dataframe tbody tr th {\n",
              "        vertical-align: top;\n",
              "    }\n",
              "\n",
              "    .dataframe thead th {\n",
              "        text-align: right;\n",
              "    }\n",
              "</style>\n",
              "<table border=\"1\" class=\"dataframe\">\n",
              "  <thead>\n",
              "    <tr style=\"text-align: right;\">\n",
              "      <th></th>\n",
              "      <th>user_id</th>\n",
              "      <th>month</th>\n",
              "      <th>total_duration</th>\n",
              "      <th>total_calls</th>\n",
              "      <th>total_messages</th>\n",
              "      <th>total_gb_used</th>\n",
              "      <th>age</th>\n",
              "      <th>churn_date</th>\n",
              "      <th>city</th>\n",
              "      <th>first_name</th>\n",
              "      <th>...</th>\n",
              "      <th>messages_included</th>\n",
              "      <th>gb_per_month_included</th>\n",
              "      <th>minutes_included</th>\n",
              "      <th>rub_monthly_fee</th>\n",
              "      <th>rub_per_gb</th>\n",
              "      <th>rub_per_message</th>\n",
              "      <th>rub_per_minute</th>\n",
              "      <th>total_excess_tariff</th>\n",
              "      <th>total_proceeds</th>\n",
              "      <th>city_group</th>\n",
              "    </tr>\n",
              "  </thead>\n",
              "  <tbody>\n",
              "    <tr>\n",
              "      <td>0</td>\n",
              "      <td>1000</td>\n",
              "      <td>5</td>\n",
              "      <td>164.00</td>\n",
              "      <td>22.00</td>\n",
              "      <td>22.00</td>\n",
              "      <td>2.20</td>\n",
              "      <td>52</td>\n",
              "      <td>NaT</td>\n",
              "      <td>Краснодар</td>\n",
              "      <td>Рафаил</td>\n",
              "      <td>...</td>\n",
              "      <td>1000</td>\n",
              "      <td>30.00</td>\n",
              "      <td>3000</td>\n",
              "      <td>1950</td>\n",
              "      <td>150</td>\n",
              "      <td>1</td>\n",
              "      <td>1</td>\n",
              "      <td>0.00</td>\n",
              "      <td>1950.00</td>\n",
              "      <td>Другой регион</td>\n",
              "    </tr>\n",
              "    <tr>\n",
              "      <td>1</td>\n",
              "      <td>1000</td>\n",
              "      <td>6</td>\n",
              "      <td>187.00</td>\n",
              "      <td>43.00</td>\n",
              "      <td>60.00</td>\n",
              "      <td>22.71</td>\n",
              "      <td>52</td>\n",
              "      <td>NaT</td>\n",
              "      <td>Краснодар</td>\n",
              "      <td>Рафаил</td>\n",
              "      <td>...</td>\n",
              "      <td>1000</td>\n",
              "      <td>30.00</td>\n",
              "      <td>3000</td>\n",
              "      <td>1950</td>\n",
              "      <td>150</td>\n",
              "      <td>1</td>\n",
              "      <td>1</td>\n",
              "      <td>0.00</td>\n",
              "      <td>1950.00</td>\n",
              "      <td>Другой регион</td>\n",
              "    </tr>\n",
              "    <tr>\n",
              "      <td>2</td>\n",
              "      <td>1000</td>\n",
              "      <td>7</td>\n",
              "      <td>346.00</td>\n",
              "      <td>47.00</td>\n",
              "      <td>75.00</td>\n",
              "      <td>13.69</td>\n",
              "      <td>52</td>\n",
              "      <td>NaT</td>\n",
              "      <td>Краснодар</td>\n",
              "      <td>Рафаил</td>\n",
              "      <td>...</td>\n",
              "      <td>1000</td>\n",
              "      <td>30.00</td>\n",
              "      <td>3000</td>\n",
              "      <td>1950</td>\n",
              "      <td>150</td>\n",
              "      <td>1</td>\n",
              "      <td>1</td>\n",
              "      <td>0.00</td>\n",
              "      <td>1950.00</td>\n",
              "      <td>Другой регион</td>\n",
              "    </tr>\n",
              "    <tr>\n",
              "      <td>3</td>\n",
              "      <td>1000</td>\n",
              "      <td>8</td>\n",
              "      <td>418.00</td>\n",
              "      <td>52.00</td>\n",
              "      <td>81.00</td>\n",
              "      <td>13.74</td>\n",
              "      <td>52</td>\n",
              "      <td>NaT</td>\n",
              "      <td>Краснодар</td>\n",
              "      <td>Рафаил</td>\n",
              "      <td>...</td>\n",
              "      <td>1000</td>\n",
              "      <td>30.00</td>\n",
              "      <td>3000</td>\n",
              "      <td>1950</td>\n",
              "      <td>150</td>\n",
              "      <td>1</td>\n",
              "      <td>1</td>\n",
              "      <td>0.00</td>\n",
              "      <td>1950.00</td>\n",
              "      <td>Другой регион</td>\n",
              "    </tr>\n",
              "    <tr>\n",
              "      <td>4</td>\n",
              "      <td>1000</td>\n",
              "      <td>9</td>\n",
              "      <td>478.00</td>\n",
              "      <td>58.00</td>\n",
              "      <td>57.00</td>\n",
              "      <td>14.24</td>\n",
              "      <td>52</td>\n",
              "      <td>NaT</td>\n",
              "      <td>Краснодар</td>\n",
              "      <td>Рафаил</td>\n",
              "      <td>...</td>\n",
              "      <td>1000</td>\n",
              "      <td>30.00</td>\n",
              "      <td>3000</td>\n",
              "      <td>1950</td>\n",
              "      <td>150</td>\n",
              "      <td>1</td>\n",
              "      <td>1</td>\n",
              "      <td>0.00</td>\n",
              "      <td>1950.00</td>\n",
              "      <td>Другой регион</td>\n",
              "    </tr>\n",
              "    <tr>\n",
              "      <td>...</td>\n",
              "      <td>...</td>\n",
              "      <td>...</td>\n",
              "      <td>...</td>\n",
              "      <td>...</td>\n",
              "      <td>...</td>\n",
              "      <td>...</td>\n",
              "      <td>...</td>\n",
              "      <td>...</td>\n",
              "      <td>...</td>\n",
              "      <td>...</td>\n",
              "      <td>...</td>\n",
              "      <td>...</td>\n",
              "      <td>...</td>\n",
              "      <td>...</td>\n",
              "      <td>...</td>\n",
              "      <td>...</td>\n",
              "      <td>...</td>\n",
              "      <td>...</td>\n",
              "      <td>...</td>\n",
              "      <td>...</td>\n",
              "      <td>...</td>\n",
              "    </tr>\n",
              "    <tr>\n",
              "      <td>3208</td>\n",
              "      <td>1489</td>\n",
              "      <td>8</td>\n",
              "      <td>0.00</td>\n",
              "      <td>0.00</td>\n",
              "      <td>17.00</td>\n",
              "      <td>10.81</td>\n",
              "      <td>35</td>\n",
              "      <td>NaT</td>\n",
              "      <td>Санкт-Петербург</td>\n",
              "      <td>Павел</td>\n",
              "      <td>...</td>\n",
              "      <td>50</td>\n",
              "      <td>15.00</td>\n",
              "      <td>500</td>\n",
              "      <td>550</td>\n",
              "      <td>200</td>\n",
              "      <td>3</td>\n",
              "      <td>3</td>\n",
              "      <td>0.00</td>\n",
              "      <td>550.00</td>\n",
              "      <td>Другой регион</td>\n",
              "    </tr>\n",
              "    <tr>\n",
              "      <td>3209</td>\n",
              "      <td>1489</td>\n",
              "      <td>9</td>\n",
              "      <td>0.00</td>\n",
              "      <td>0.00</td>\n",
              "      <td>32.00</td>\n",
              "      <td>16.83</td>\n",
              "      <td>35</td>\n",
              "      <td>NaT</td>\n",
              "      <td>Санкт-Петербург</td>\n",
              "      <td>Павел</td>\n",
              "      <td>...</td>\n",
              "      <td>50</td>\n",
              "      <td>15.00</td>\n",
              "      <td>500</td>\n",
              "      <td>550</td>\n",
              "      <td>200</td>\n",
              "      <td>3</td>\n",
              "      <td>3</td>\n",
              "      <td>365.62</td>\n",
              "      <td>915.62</td>\n",
              "      <td>Другой регион</td>\n",
              "    </tr>\n",
              "    <tr>\n",
              "      <td>3210</td>\n",
              "      <td>1489</td>\n",
              "      <td>10</td>\n",
              "      <td>0.00</td>\n",
              "      <td>0.00</td>\n",
              "      <td>21.00</td>\n",
              "      <td>19.13</td>\n",
              "      <td>35</td>\n",
              "      <td>NaT</td>\n",
              "      <td>Санкт-Петербург</td>\n",
              "      <td>Павел</td>\n",
              "      <td>...</td>\n",
              "      <td>50</td>\n",
              "      <td>15.00</td>\n",
              "      <td>500</td>\n",
              "      <td>550</td>\n",
              "      <td>200</td>\n",
              "      <td>3</td>\n",
              "      <td>3</td>\n",
              "      <td>825.78</td>\n",
              "      <td>1375.78</td>\n",
              "      <td>Другой регион</td>\n",
              "    </tr>\n",
              "    <tr>\n",
              "      <td>3211</td>\n",
              "      <td>1489</td>\n",
              "      <td>11</td>\n",
              "      <td>0.00</td>\n",
              "      <td>0.00</td>\n",
              "      <td>20.00</td>\n",
              "      <td>17.11</td>\n",
              "      <td>35</td>\n",
              "      <td>NaT</td>\n",
              "      <td>Санкт-Петербург</td>\n",
              "      <td>Павел</td>\n",
              "      <td>...</td>\n",
              "      <td>50</td>\n",
              "      <td>15.00</td>\n",
              "      <td>500</td>\n",
              "      <td>550</td>\n",
              "      <td>200</td>\n",
              "      <td>3</td>\n",
              "      <td>3</td>\n",
              "      <td>421.09</td>\n",
              "      <td>971.09</td>\n",
              "      <td>Другой регион</td>\n",
              "    </tr>\n",
              "    <tr>\n",
              "      <td>3212</td>\n",
              "      <td>1489</td>\n",
              "      <td>12</td>\n",
              "      <td>0.00</td>\n",
              "      <td>0.00</td>\n",
              "      <td>35.00</td>\n",
              "      <td>16.93</td>\n",
              "      <td>35</td>\n",
              "      <td>NaT</td>\n",
              "      <td>Санкт-Петербург</td>\n",
              "      <td>Павел</td>\n",
              "      <td>...</td>\n",
              "      <td>50</td>\n",
              "      <td>15.00</td>\n",
              "      <td>500</td>\n",
              "      <td>550</td>\n",
              "      <td>200</td>\n",
              "      <td>3</td>\n",
              "      <td>3</td>\n",
              "      <td>386.91</td>\n",
              "      <td>936.91</td>\n",
              "      <td>Другой регион</td>\n",
              "    </tr>\n",
              "  </tbody>\n",
              "</table>\n",
              "<p>2603 rows × 23 columns</p>\n",
              "</div>"
            ],
            "text/plain": [
              "      user_id  month  total_duration  total_calls  total_messages  \\\n",
              "0        1000      5          164.00        22.00           22.00   \n",
              "1        1000      6          187.00        43.00           60.00   \n",
              "2        1000      7          346.00        47.00           75.00   \n",
              "3        1000      8          418.00        52.00           81.00   \n",
              "4        1000      9          478.00        58.00           57.00   \n",
              "...       ...    ...             ...          ...             ...   \n",
              "3208     1489      8            0.00         0.00           17.00   \n",
              "3209     1489      9            0.00         0.00           32.00   \n",
              "3210     1489     10            0.00         0.00           21.00   \n",
              "3211     1489     11            0.00         0.00           20.00   \n",
              "3212     1489     12            0.00         0.00           35.00   \n",
              "\n",
              "      total_gb_used  age churn_date             city first_name  ...  \\\n",
              "0              2.20   52        NaT        Краснодар     Рафаил  ...   \n",
              "1             22.71   52        NaT        Краснодар     Рафаил  ...   \n",
              "2             13.69   52        NaT        Краснодар     Рафаил  ...   \n",
              "3             13.74   52        NaT        Краснодар     Рафаил  ...   \n",
              "4             14.24   52        NaT        Краснодар     Рафаил  ...   \n",
              "...             ...  ...        ...              ...        ...  ...   \n",
              "3208          10.81   35        NaT  Санкт-Петербург      Павел  ...   \n",
              "3209          16.83   35        NaT  Санкт-Петербург      Павел  ...   \n",
              "3210          19.13   35        NaT  Санкт-Петербург      Павел  ...   \n",
              "3211          17.11   35        NaT  Санкт-Петербург      Павел  ...   \n",
              "3212          16.93   35        NaT  Санкт-Петербург      Павел  ...   \n",
              "\n",
              "     messages_included gb_per_month_included minutes_included  \\\n",
              "0                 1000                 30.00             3000   \n",
              "1                 1000                 30.00             3000   \n",
              "2                 1000                 30.00             3000   \n",
              "3                 1000                 30.00             3000   \n",
              "4                 1000                 30.00             3000   \n",
              "...                ...                   ...              ...   \n",
              "3208                50                 15.00              500   \n",
              "3209                50                 15.00              500   \n",
              "3210                50                 15.00              500   \n",
              "3211                50                 15.00              500   \n",
              "3212                50                 15.00              500   \n",
              "\n",
              "      rub_monthly_fee  rub_per_gb  rub_per_message  rub_per_minute  \\\n",
              "0                1950         150                1               1   \n",
              "1                1950         150                1               1   \n",
              "2                1950         150                1               1   \n",
              "3                1950         150                1               1   \n",
              "4                1950         150                1               1   \n",
              "...               ...         ...              ...             ...   \n",
              "3208              550         200                3               3   \n",
              "3209              550         200                3               3   \n",
              "3210              550         200                3               3   \n",
              "3211              550         200                3               3   \n",
              "3212              550         200                3               3   \n",
              "\n",
              "      total_excess_tariff  total_proceeds     city_group  \n",
              "0                    0.00         1950.00  Другой регион  \n",
              "1                    0.00         1950.00  Другой регион  \n",
              "2                    0.00         1950.00  Другой регион  \n",
              "3                    0.00         1950.00  Другой регион  \n",
              "4                    0.00         1950.00  Другой регион  \n",
              "...                   ...             ...            ...  \n",
              "3208                 0.00          550.00  Другой регион  \n",
              "3209               365.62          915.62  Другой регион  \n",
              "3210               825.78         1375.78  Другой регион  \n",
              "3211               421.09          971.09  Другой регион  \n",
              "3212               386.91          936.91  Другой регион  \n",
              "\n",
              "[2603 rows x 23 columns]"
            ]
          },
          "metadata": {
            "tags": []
          }
        }
      ]
    },
    {
      "cell_type": "code",
      "metadata": {
        "id": "ceQRrnxgtzov"
      },
      "source": [
        "Moscow_df = section_query(Moscow_df, 'total_proceeds')\n",
        "other_region_df = section_query(other_region_df, 'total_proceeds')"
      ],
      "execution_count": null,
      "outputs": []
    },
    {
      "cell_type": "code",
      "metadata": {
        "id": "o0J7DX6Wtzov"
      },
      "source": [
        "Moscow_df = Moscow_df['total_proceeds']"
      ],
      "execution_count": null,
      "outputs": []
    },
    {
      "cell_type": "code",
      "metadata": {
        "id": "uD1ieJXhtzov"
      },
      "source": [
        "other_region_df = other_region_df['total_proceeds']"
      ],
      "execution_count": null,
      "outputs": []
    },
    {
      "cell_type": "code",
      "metadata": {
        "id": "HpZdqsLmtzov"
      },
      "source": [
        "results = st.ttest_ind(Moscow_df, other_region_df)"
      ],
      "execution_count": null,
      "outputs": []
    },
    {
      "cell_type": "code",
      "metadata": {
        "id": "POkgtZCTtzov",
        "outputId": "2016ad42-35f2-4946-8b77-155e04cff2db"
      },
      "source": [
        "print('p-значение:', results.pvalue)\n",
        "\n",
        "if (results.pvalue < alpha):\n",
        "    print('Отвергаем нулевую гипотезу')\n",
        "else:\n",
        "    print('Не получилось отвергнуть нулевую гипотезу')"
      ],
      "execution_count": null,
      "outputs": [
        {
          "output_type": "stream",
          "text": [
            "p-значение: 0.3133354497229466\n",
            "Не получилось отвергнуть нулевую гипотезу\n"
          ],
          "name": "stdout"
        }
      ]
    },
    {
      "cell_type": "markdown",
      "metadata": {
        "id": "84ctjgf0tzow"
      },
      "source": [
        "<b>Полученное значение p-value говорит о том, что хотя средняя выручка из Москвы и Других регионов неодинакова, но с вероятностью примерно 31% такое или большее различие можно получить случайно. Это явно слишком большая вероятность, чтобы делать вывод о значимом различии между средними выручками.</b> "
      ]
    },
    {
      "cell_type": "markdown",
      "metadata": {
        "id": "J4i8SFrltzow"
      },
      "source": [
        "\n",
        "## Общий вывод"
      ]
    },
    {
      "cell_type": "markdown",
      "metadata": {
        "id": "-ZP1FiXWtzow"
      },
      "source": [
        "1. С точки зрения прибыли, компании нужно скорректировать рекламный бюджет по отношению к тарифу ultra. Если достигнуть показателей по количеству пользователей как у тарифа smart в 2018, то выручка будет намного больше, чем у smart, чуть ли не в 2 раза.\n",
        "2. Есть риск, что тариф ultra будет сложно продать, так как он довольно таки дорогой, но там пользователь может ни в чем себе не отказывать(не задумываться, что чего-то не хватит). В тарифе smart пользователям не хватает минут и Гб, в среднем тратят тысячу рублей, но готовы оставаться на этом тарифе(готовы залезать в сверх тариф).\n",
        "3. Можно рассмотреть и еще один вариант. Для тарифа smart сделать возможность подключить \"безлимитный интернет на соцсети\" n рублей, что привлечет внимание большего числа пользователей, а также возможно задержит пользователей, которые уже пользуются данным тарифом.\n",
        "4. Смс сообщения ни в одном из тарифов не пользуются популярностью.\n",
        "5. Тарифы приносят разные выручки, значимые различия есть, тем не менее между Москвой и Другими регионами делать вывод о значимом различии между средними выручками не стоит. "
      ]
    },
    {
      "cell_type": "markdown",
      "metadata": {
        "id": "INoHWXzgtzow"
      },
      "source": [
        "<b>Рекомендации по совершенствованию системы:</b>\n",
        "1. Реализовать автоматичесткое округление вверх значения минут и мегабайтов.\n",
        "2. Возможно в столбец <b><i>'churn_date'</i></b> вместо пропусков выставлять ближайшую дату окончания тарифа.\n",
        "3. Реализовать фильтрацию показателей по месяцу, году или по тарифам в целом."
      ]
    },
    {
      "cell_type": "code",
      "metadata": {
        "id": "0DiNErbtxtCO"
      },
      "source": [
        ""
      ],
      "execution_count": null,
      "outputs": []
    }
  ]
}