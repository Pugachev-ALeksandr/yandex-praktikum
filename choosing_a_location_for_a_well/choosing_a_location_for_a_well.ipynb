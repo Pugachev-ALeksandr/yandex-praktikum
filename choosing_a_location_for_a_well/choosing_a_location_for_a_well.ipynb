{
  "nbformat": 4,
  "nbformat_minor": 5,
  "metadata": {
    "kernelspec": {
      "display_name": "Python 3",
      "language": "python",
      "name": "python3"
    },
    "language_info": {
      "codemirror_mode": {
        "name": "ipython",
        "version": 3
      },
      "file_extension": ".py",
      "mimetype": "text/x-python",
      "name": "python",
      "nbconvert_exporter": "python",
      "pygments_lexer": "ipython3",
      "version": "3.7.8"
    },
    "toc": {
      "base_numbering": 1,
      "nav_menu": {},
      "number_sections": true,
      "sideBar": true,
      "skip_h1_title": true,
      "title_cell": "Table of Contents",
      "title_sidebar": "Contents",
      "toc_cell": false,
      "toc_position": {},
      "toc_section_display": true,
      "toc_window_display": false
    },
    "colab": {
      "name": "ml_in_business.ipynb",
      "provenance": [],
      "toc_visible": true
    }
  },
  "cells": [
    {
      "cell_type": "markdown",
      "metadata": {
        "id": "hjBru92Pd-cX"
      },
      "source": [
        "<h1>Содержание<span class=\"tocSkip\"></span></h1>\n",
        "<div class=\"toc\">\n",
        "    <ul class=\"toc-item\">\n",
        "        <li><span><a href=\"#Описание-проекта\" data-toc-modified-id=\"Описание-проекта-1\"><span class=\"toc-item-num\">1&nbsp;&nbsp;</span>Описание проекта</a></span></li>\n",
        "        <li><span><a href=\"#Цель-проекта\" data-toc-modified-id=\"Цель-проекта-2\"><span class=\"toc-item-num\">2&nbsp;&nbsp;</span>Цель проекта</a></span></li>\n",
        "        <li><span><a href=\"#Описание-данных\" data-toc-modified-id=\"Описание-данных-3\"><span class=\"toc-item-num\">3&nbsp;&nbsp;</span>Описание данных</a></span></li>\n",
        "        <li><span><a href=\"#Загрузка-и-подготовка-данных\" data-toc-modified-id=\"Подготовка-данных-4\"><span class=\"toc-item-num\">4&nbsp;&nbsp;</span>Загрузка и подготовка данных</a></span>\n",
        "            <ul class=\"toc-item\">\n",
        "                <li><span><a href=\"#Вывод-по-разделу\" data-toc-modified-id=\"Вывод-по-разделу-4.1\"><span class=\"toc-item-num\">4.1&nbsp;&nbsp;</span>Вывод по разделу</a></span></li>\n",
        "            </ul>\n",
        "        </li>\n",
        "        <li><span><a href=\"#Подготовка-к-расчёту-прибыли\" data-toc-modified-id=\"Подготовка-к-расчёту-прибыли-5\"><span class=\"toc-item-num\">5&nbsp;&nbsp;</span>Подготовка к расчёту прибыли</a></span>\n",
        "            <ul class=\"toc-item\">\n",
        "                <li><span><a href=\"#Вывод-по-разделу\" data-toc-modified-id=\"Вывод-по-разделу-5.1\"><span class=\"toc-item-num\">5.1&nbsp;&nbsp;</span>Вывод по разделу</a></span></li>\n",
        "            </ul>\n",
        "        </li>\n",
        "        <li><span><a href=\"#Расчёт-прибыли-и-рисков\" data-toc-modified-id=\"Расчёт-прибыли-и-рисков-6\"><span class=\"toc-item-num\">6&nbsp;&nbsp;</span>Расчёт прибыли и рисков</a></span></li>\n",
        "        <li><span><a href=\"#Вывод\" data-toc-modified-id=\"Вывод-7\"><span class=\"toc-item-num\">7&nbsp;&nbsp;</span>Вывод по проекту</a></span></li>\n",
        "        <li><span><a href=\"#Чек-лист-готовности-проекта\" data-toc-modified-id=\"Чек-лист-готовности-проекта-8\"><span class=\"toc-item-num\">8&nbsp;&nbsp;</span>Чек-лист готовности проекта</a></span></li>\n",
        "    </ul>\n",
        "</div>"
      ],
      "id": "hjBru92Pd-cX"
    },
    {
      "cell_type": "markdown",
      "metadata": {
        "id": "aG5GApQId-cY"
      },
      "source": [
        "# Выбор локации для скважины"
      ],
      "id": "aG5GApQId-cY"
    },
    {
      "cell_type": "markdown",
      "metadata": {
        "id": "MPps_RAhd-cY"
      },
      "source": [
        "## Описание проекта\n",
        "Допустим, вы работаете в добывающей компании «ГлавРосГосНефть». Нужно решить, где бурить новую скважину.\n",
        "Шаги для выбора локации обычно такие:\n",
        "-\tВ избранном регионе собирают характеристики для скважин: качество нефти и объём её запасов;\n",
        "-\tСтроят модель для предсказания объёма запасов в новых скважинах;\n",
        "-\tВыбирают скважины с самыми высокими оценками значений;\n",
        "-\tОпределяют регион с максимальной суммарной прибылью отобранных скважин.\n",
        "<br>\n",
        "<br>\n",
        "Вам предоставлены пробы нефти в трёх регионах: в каждом 100 000 месторождений, где измерили качество нефти и объём её запасов."
      ],
      "id": "MPps_RAhd-cY"
    },
    {
      "cell_type": "markdown",
      "metadata": {
        "id": "T5eJwCGXd-cY"
      },
      "source": [
        "## Цель проекта\n",
        "Построить модель для определения региона, где добыча принесёт наибольшую прибыль. Проанализировать возможную прибыль и риски техникой <i>Bootstrap</i>."
      ],
      "id": "T5eJwCGXd-cY"
    },
    {
      "cell_type": "markdown",
      "metadata": {
        "id": "Yc3YQPiSd-cZ"
      },
      "source": [
        "## Описание данных\n",
        "\n",
        "<ul style=\"border:solid black 2px; padding: 20px\">\n",
        "    <li><i>id</i> — уникальный идентификатор скважины;</li>\n",
        "    <li><i>f0, f1, f2</i> — три признака точек (неважно, что они означают, но сами признаки значимы);</li>\n",
        "    <li><i>product</i> — объём запасов в скважине (тыс. баррелей).</li>\n",
        "</ul>"
      ],
      "id": "Yc3YQPiSd-cZ"
    },
    {
      "cell_type": "markdown",
      "metadata": {
        "id": "NBGUwak2d-cZ"
      },
      "source": [
        "## Загрузка и подготовка данных"
      ],
      "id": "NBGUwak2d-cZ"
    },
    {
      "cell_type": "code",
      "metadata": {
        "id": "7HStIN97d-ca"
      },
      "source": [
        "import pandas as pd\n",
        "import numpy as np\n",
        "\n",
        "from sklearn.linear_model import LinearRegression\n",
        "from numpy.random import RandomState\n",
        "from scipy import stats as st\n",
        "from sklearn.model_selection import train_test_split\n",
        "from sklearn.model_selection import GridSearchCV\n",
        "from sklearn import metrics \n",
        "from sklearn.metrics import mean_squared_error\n",
        "\n",
        "import seaborn as sns\n",
        "import matplotlib.pyplot as plt\n",
        "import warnings\n",
        "warnings.filterwarnings('ignore')"
      ],
      "id": "7HStIN97d-ca",
      "execution_count": null,
      "outputs": []
    },
    {
      "cell_type": "code",
      "metadata": {
        "id": "H8eup9ZNd-ca"
      },
      "source": [
        "df0 = pd.read_csv('/datasets/geo_data_0.csv')\n",
        "df1 = pd.read_csv('/datasets/geo_data_1.csv')\n",
        "df2 = pd.read_csv('/datasets/geo_data_2.csv')"
      ],
      "id": "H8eup9ZNd-ca",
      "execution_count": null,
      "outputs": []
    },
    {
      "cell_type": "markdown",
      "metadata": {
        "id": "NgOIz3K_d-cb"
      },
      "source": [
        "<b>Рассмотрим первый регион</b>"
      ],
      "id": "NgOIz3K_d-cb"
    },
    {
      "cell_type": "code",
      "metadata": {
        "id": "lUMiba2id-cb",
        "outputId": "0c005a67-5198-4735-bc1f-9db9a88350ac"
      },
      "source": [
        "display(df0)"
      ],
      "id": "lUMiba2id-cb",
      "execution_count": null,
      "outputs": [
        {
          "output_type": "display_data",
          "data": {
            "text/html": [
              "<div>\n",
              "<style scoped>\n",
              "    .dataframe tbody tr th:only-of-type {\n",
              "        vertical-align: middle;\n",
              "    }\n",
              "\n",
              "    .dataframe tbody tr th {\n",
              "        vertical-align: top;\n",
              "    }\n",
              "\n",
              "    .dataframe thead th {\n",
              "        text-align: right;\n",
              "    }\n",
              "</style>\n",
              "<table border=\"1\" class=\"dataframe\">\n",
              "  <thead>\n",
              "    <tr style=\"text-align: right;\">\n",
              "      <th></th>\n",
              "      <th>id</th>\n",
              "      <th>f0</th>\n",
              "      <th>f1</th>\n",
              "      <th>f2</th>\n",
              "      <th>product</th>\n",
              "    </tr>\n",
              "  </thead>\n",
              "  <tbody>\n",
              "    <tr>\n",
              "      <th>0</th>\n",
              "      <td>txEyH</td>\n",
              "      <td>0.705745</td>\n",
              "      <td>-0.497823</td>\n",
              "      <td>1.221170</td>\n",
              "      <td>105.280062</td>\n",
              "    </tr>\n",
              "    <tr>\n",
              "      <th>1</th>\n",
              "      <td>2acmU</td>\n",
              "      <td>1.334711</td>\n",
              "      <td>-0.340164</td>\n",
              "      <td>4.365080</td>\n",
              "      <td>73.037750</td>\n",
              "    </tr>\n",
              "    <tr>\n",
              "      <th>2</th>\n",
              "      <td>409Wp</td>\n",
              "      <td>1.022732</td>\n",
              "      <td>0.151990</td>\n",
              "      <td>1.419926</td>\n",
              "      <td>85.265647</td>\n",
              "    </tr>\n",
              "    <tr>\n",
              "      <th>3</th>\n",
              "      <td>iJLyR</td>\n",
              "      <td>-0.032172</td>\n",
              "      <td>0.139033</td>\n",
              "      <td>2.978566</td>\n",
              "      <td>168.620776</td>\n",
              "    </tr>\n",
              "    <tr>\n",
              "      <th>4</th>\n",
              "      <td>Xdl7t</td>\n",
              "      <td>1.988431</td>\n",
              "      <td>0.155413</td>\n",
              "      <td>4.751769</td>\n",
              "      <td>154.036647</td>\n",
              "    </tr>\n",
              "    <tr>\n",
              "      <th>...</th>\n",
              "      <td>...</td>\n",
              "      <td>...</td>\n",
              "      <td>...</td>\n",
              "      <td>...</td>\n",
              "      <td>...</td>\n",
              "    </tr>\n",
              "    <tr>\n",
              "      <th>99995</th>\n",
              "      <td>DLsed</td>\n",
              "      <td>0.971957</td>\n",
              "      <td>0.370953</td>\n",
              "      <td>6.075346</td>\n",
              "      <td>110.744026</td>\n",
              "    </tr>\n",
              "    <tr>\n",
              "      <th>99996</th>\n",
              "      <td>QKivN</td>\n",
              "      <td>1.392429</td>\n",
              "      <td>-0.382606</td>\n",
              "      <td>1.273912</td>\n",
              "      <td>122.346843</td>\n",
              "    </tr>\n",
              "    <tr>\n",
              "      <th>99997</th>\n",
              "      <td>3rnvd</td>\n",
              "      <td>1.029585</td>\n",
              "      <td>0.018787</td>\n",
              "      <td>-1.348308</td>\n",
              "      <td>64.375443</td>\n",
              "    </tr>\n",
              "    <tr>\n",
              "      <th>99998</th>\n",
              "      <td>7kl59</td>\n",
              "      <td>0.998163</td>\n",
              "      <td>-0.528582</td>\n",
              "      <td>1.583869</td>\n",
              "      <td>74.040764</td>\n",
              "    </tr>\n",
              "    <tr>\n",
              "      <th>99999</th>\n",
              "      <td>1CWhH</td>\n",
              "      <td>1.764754</td>\n",
              "      <td>-0.266417</td>\n",
              "      <td>5.722849</td>\n",
              "      <td>149.633246</td>\n",
              "    </tr>\n",
              "  </tbody>\n",
              "</table>\n",
              "<p>100000 rows × 5 columns</p>\n",
              "</div>"
            ],
            "text/plain": [
              "          id        f0        f1        f2     product\n",
              "0      txEyH  0.705745 -0.497823  1.221170  105.280062\n",
              "1      2acmU  1.334711 -0.340164  4.365080   73.037750\n",
              "2      409Wp  1.022732  0.151990  1.419926   85.265647\n",
              "3      iJLyR -0.032172  0.139033  2.978566  168.620776\n",
              "4      Xdl7t  1.988431  0.155413  4.751769  154.036647\n",
              "...      ...       ...       ...       ...         ...\n",
              "99995  DLsed  0.971957  0.370953  6.075346  110.744026\n",
              "99996  QKivN  1.392429 -0.382606  1.273912  122.346843\n",
              "99997  3rnvd  1.029585  0.018787 -1.348308   64.375443\n",
              "99998  7kl59  0.998163 -0.528582  1.583869   74.040764\n",
              "99999  1CWhH  1.764754 -0.266417  5.722849  149.633246\n",
              "\n",
              "[100000 rows x 5 columns]"
            ]
          },
          "metadata": {
            "tags": []
          }
        }
      ]
    },
    {
      "cell_type": "code",
      "metadata": {
        "id": "eerlmIiWd-cb",
        "outputId": "50b8e500-d872-409b-80fa-b7a6567233dd"
      },
      "source": [
        "df0.info()"
      ],
      "id": "eerlmIiWd-cb",
      "execution_count": null,
      "outputs": [
        {
          "output_type": "stream",
          "text": [
            "<class 'pandas.core.frame.DataFrame'>\n",
            "RangeIndex: 100000 entries, 0 to 99999\n",
            "Data columns (total 5 columns):\n",
            " #   Column   Non-Null Count   Dtype  \n",
            "---  ------   --------------   -----  \n",
            " 0   id       100000 non-null  object \n",
            " 1   f0       100000 non-null  float64\n",
            " 2   f1       100000 non-null  float64\n",
            " 3   f2       100000 non-null  float64\n",
            " 4   product  100000 non-null  float64\n",
            "dtypes: float64(4), object(1)\n",
            "memory usage: 3.8+ MB\n"
          ],
          "name": "stdout"
        }
      ]
    },
    {
      "cell_type": "code",
      "metadata": {
        "id": "-3GMsQvJd-cc",
        "outputId": "fe579d75-5afe-4f2c-dc72-1475b99bb5ba"
      },
      "source": [
        "print(df0.duplicated().sum())"
      ],
      "id": "-3GMsQvJd-cc",
      "execution_count": null,
      "outputs": [
        {
          "output_type": "stream",
          "text": [
            "0\n"
          ],
          "name": "stdout"
        }
      ]
    },
    {
      "cell_type": "code",
      "metadata": {
        "id": "JrPKiYyVd-cc",
        "outputId": "92f08bf7-4302-4aa1-acff-82a9296a74fa"
      },
      "source": [
        "df0['id'].value_counts()"
      ],
      "id": "JrPKiYyVd-cc",
      "execution_count": null,
      "outputs": [
        {
          "output_type": "execute_result",
          "data": {
            "text/plain": [
              "bsk9y    2\n",
              "AGS9W    2\n",
              "Tdehs    2\n",
              "QcMuo    2\n",
              "fiKDv    2\n",
              "        ..\n",
              "T4eAp    1\n",
              "s0hVr    1\n",
              "3t4RR    1\n",
              "q5x7m    1\n",
              "g3cjL    1\n",
              "Name: id, Length: 99990, dtype: int64"
            ]
          },
          "metadata": {
            "tags": []
          },
          "execution_count": 6
        }
      ]
    },
    {
      "cell_type": "code",
      "metadata": {
        "id": "GfrVdXMGd-cc",
        "outputId": "f539eb42-e204-4375-ba31-12bcabbab647"
      },
      "source": [
        "df0['product'].describe()"
      ],
      "id": "GfrVdXMGd-cc",
      "execution_count": null,
      "outputs": [
        {
          "output_type": "execute_result",
          "data": {
            "text/plain": [
              "count    100000.000000\n",
              "mean         92.500000\n",
              "std          44.288691\n",
              "min           0.000000\n",
              "25%          56.497507\n",
              "50%          91.849972\n",
              "75%         128.564089\n",
              "max         185.364347\n",
              "Name: product, dtype: float64"
            ]
          },
          "metadata": {
            "tags": []
          },
          "execution_count": 7
        }
      ]
    },
    {
      "cell_type": "markdown",
      "metadata": {
        "id": "V3CpHwpFd-cc"
      },
      "source": [
        "<b>Распределение объемов запасов в скважинах первого региона</b>"
      ],
      "id": "V3CpHwpFd-cc"
    },
    {
      "cell_type": "code",
      "metadata": {
        "id": "shFfLqlld-ce",
        "outputId": "ca6a09e2-d9e7-463e-cbd3-47b70163df0b"
      },
      "source": [
        "df0['product'].hist()\n",
        "plt.xlabel('Объем запасов')\n",
        "plt.ylabel('Кол-во скважин')\n",
        "plt.show()"
      ],
      "id": "shFfLqlld-ce",
      "execution_count": null,
      "outputs": [
        {
          "output_type": "display_data",
          "data": {
            "image/png": "[encoded data removed]",
            "text/plain": [
              "<Figure size 432x288 with 1 Axes>"
            ]
          },
          "metadata": {
            "tags": [],
            "needs_background": "light"
          }
        }
      ]
    },
    {
      "cell_type": "markdown",
      "metadata": {
        "id": "Ku4plFRUd-ce"
      },
      "source": [
        "<b>Преобладают скважины объемом в районе 90 тыс. баррелей</b>"
      ],
      "id": "Ku4plFRUd-ce"
    },
    {
      "cell_type": "markdown",
      "metadata": {
        "id": "GT6TJOKcd-ce"
      },
      "source": [
        "<b>Рассмотрим зависимости между данными<b>"
      ],
      "id": "GT6TJOKcd-ce"
    },
    {
      "cell_type": "code",
      "metadata": {
        "id": "9G6gVWTcd-ce"
      },
      "source": [
        "corrMatrix0 = df0.corr()"
      ],
      "id": "9G6gVWTcd-ce",
      "execution_count": null,
      "outputs": []
    },
    {
      "cell_type": "code",
      "metadata": {
        "id": "hyHNZuocd-ce",
        "outputId": "15c56d9e-d3d0-453a-b7e8-f39367c33537"
      },
      "source": [
        "plt.figure(figsize=(5, 5))\n",
        "sns.heatmap(corrMatrix0, annot=True)\n",
        "plt.show()"
      ],
      "id": "hyHNZuocd-ce",
      "execution_count": null,
      "outputs": [
        {
          "output_type": "display_data",
          "data": {
            "image/png": "[encoded data removed]",
            "text/plain": [
              "<Figure size 360x360 with 2 Axes>"
            ]
          },
          "metadata": {
            "tags": [],
            "needs_background": "light"
          }
        }
      ]
    },
    {
      "cell_type": "markdown",
      "metadata": {
        "id": "SFjK6KCGd-cf"
      },
      "source": [
        "<b>Рассмотрим второй регион</b>"
      ],
      "id": "SFjK6KCGd-cf"
    },
    {
      "cell_type": "code",
      "metadata": {
        "id": "0ppGRywdd-cf",
        "outputId": "6e3a8aad-c9e7-48e1-854e-719ebca3acdc"
      },
      "source": [
        "display(df1)"
      ],
      "id": "0ppGRywdd-cf",
      "execution_count": null,
      "outputs": [
        {
          "output_type": "display_data",
          "data": {
            "text/html": [
              "<div>\n",
              "<style scoped>\n",
              "    .dataframe tbody tr th:only-of-type {\n",
              "        vertical-align: middle;\n",
              "    }\n",
              "\n",
              "    .dataframe tbody tr th {\n",
              "        vertical-align: top;\n",
              "    }\n",
              "\n",
              "    .dataframe thead th {\n",
              "        text-align: right;\n",
              "    }\n",
              "</style>\n",
              "<table border=\"1\" class=\"dataframe\">\n",
              "  <thead>\n",
              "    <tr style=\"text-align: right;\">\n",
              "      <th></th>\n",
              "      <th>id</th>\n",
              "      <th>f0</th>\n",
              "      <th>f1</th>\n",
              "      <th>f2</th>\n",
              "      <th>product</th>\n",
              "    </tr>\n",
              "  </thead>\n",
              "  <tbody>\n",
              "    <tr>\n",
              "      <th>0</th>\n",
              "      <td>kBEdx</td>\n",
              "      <td>-15.001348</td>\n",
              "      <td>-8.276000</td>\n",
              "      <td>-0.005876</td>\n",
              "      <td>3.179103</td>\n",
              "    </tr>\n",
              "    <tr>\n",
              "      <th>1</th>\n",
              "      <td>62mP7</td>\n",
              "      <td>14.272088</td>\n",
              "      <td>-3.475083</td>\n",
              "      <td>0.999183</td>\n",
              "      <td>26.953261</td>\n",
              "    </tr>\n",
              "    <tr>\n",
              "      <th>2</th>\n",
              "      <td>vyE1P</td>\n",
              "      <td>6.263187</td>\n",
              "      <td>-5.948386</td>\n",
              "      <td>5.001160</td>\n",
              "      <td>134.766305</td>\n",
              "    </tr>\n",
              "    <tr>\n",
              "      <th>3</th>\n",
              "      <td>KcrkZ</td>\n",
              "      <td>-13.081196</td>\n",
              "      <td>-11.506057</td>\n",
              "      <td>4.999415</td>\n",
              "      <td>137.945408</td>\n",
              "    </tr>\n",
              "    <tr>\n",
              "      <th>4</th>\n",
              "      <td>AHL4O</td>\n",
              "      <td>12.702195</td>\n",
              "      <td>-8.147433</td>\n",
              "      <td>5.004363</td>\n",
              "      <td>134.766305</td>\n",
              "    </tr>\n",
              "    <tr>\n",
              "      <th>...</th>\n",
              "      <td>...</td>\n",
              "      <td>...</td>\n",
              "      <td>...</td>\n",
              "      <td>...</td>\n",
              "      <td>...</td>\n",
              "    </tr>\n",
              "    <tr>\n",
              "      <th>99995</th>\n",
              "      <td>QywKC</td>\n",
              "      <td>9.535637</td>\n",
              "      <td>-6.878139</td>\n",
              "      <td>1.998296</td>\n",
              "      <td>53.906522</td>\n",
              "    </tr>\n",
              "    <tr>\n",
              "      <th>99996</th>\n",
              "      <td>ptvty</td>\n",
              "      <td>-10.160631</td>\n",
              "      <td>-12.558096</td>\n",
              "      <td>5.005581</td>\n",
              "      <td>137.945408</td>\n",
              "    </tr>\n",
              "    <tr>\n",
              "      <th>99997</th>\n",
              "      <td>09gWa</td>\n",
              "      <td>-7.378891</td>\n",
              "      <td>-3.084104</td>\n",
              "      <td>4.998651</td>\n",
              "      <td>137.945408</td>\n",
              "    </tr>\n",
              "    <tr>\n",
              "      <th>99998</th>\n",
              "      <td>rqwUm</td>\n",
              "      <td>0.665714</td>\n",
              "      <td>-6.152593</td>\n",
              "      <td>1.000146</td>\n",
              "      <td>30.132364</td>\n",
              "    </tr>\n",
              "    <tr>\n",
              "      <th>99999</th>\n",
              "      <td>relB0</td>\n",
              "      <td>-3.426139</td>\n",
              "      <td>-7.794274</td>\n",
              "      <td>-0.003299</td>\n",
              "      <td>3.179103</td>\n",
              "    </tr>\n",
              "  </tbody>\n",
              "</table>\n",
              "<p>100000 rows × 5 columns</p>\n",
              "</div>"
            ],
            "text/plain": [
              "          id         f0         f1        f2     product\n",
              "0      kBEdx -15.001348  -8.276000 -0.005876    3.179103\n",
              "1      62mP7  14.272088  -3.475083  0.999183   26.953261\n",
              "2      vyE1P   6.263187  -5.948386  5.001160  134.766305\n",
              "3      KcrkZ -13.081196 -11.506057  4.999415  137.945408\n",
              "4      AHL4O  12.702195  -8.147433  5.004363  134.766305\n",
              "...      ...        ...        ...       ...         ...\n",
              "99995  QywKC   9.535637  -6.878139  1.998296   53.906522\n",
              "99996  ptvty -10.160631 -12.558096  5.005581  137.945408\n",
              "99997  09gWa  -7.378891  -3.084104  4.998651  137.945408\n",
              "99998  rqwUm   0.665714  -6.152593  1.000146   30.132364\n",
              "99999  relB0  -3.426139  -7.794274 -0.003299    3.179103\n",
              "\n",
              "[100000 rows x 5 columns]"
            ]
          },
          "metadata": {
            "tags": []
          }
        }
      ]
    },
    {
      "cell_type": "code",
      "metadata": {
        "id": "Rxw_hwsLd-cf",
        "outputId": "6154b819-bbe8-4bb4-ffcc-54e300d0a22e"
      },
      "source": [
        "df1.info()"
      ],
      "id": "Rxw_hwsLd-cf",
      "execution_count": null,
      "outputs": [
        {
          "output_type": "stream",
          "text": [
            "<class 'pandas.core.frame.DataFrame'>\n",
            "RangeIndex: 100000 entries, 0 to 99999\n",
            "Data columns (total 5 columns):\n",
            " #   Column   Non-Null Count   Dtype  \n",
            "---  ------   --------------   -----  \n",
            " 0   id       100000 non-null  object \n",
            " 1   f0       100000 non-null  float64\n",
            " 2   f1       100000 non-null  float64\n",
            " 3   f2       100000 non-null  float64\n",
            " 4   product  100000 non-null  float64\n",
            "dtypes: float64(4), object(1)\n",
            "memory usage: 3.8+ MB\n"
          ],
          "name": "stdout"
        }
      ]
    },
    {
      "cell_type": "code",
      "metadata": {
        "id": "mL9NcDUcd-cf",
        "outputId": "e7e2abfa-2da9-4a0f-a2ea-55e76169f885"
      },
      "source": [
        "print(df1.duplicated().sum())"
      ],
      "id": "mL9NcDUcd-cf",
      "execution_count": null,
      "outputs": [
        {
          "output_type": "stream",
          "text": [
            "0\n"
          ],
          "name": "stdout"
        }
      ]
    },
    {
      "cell_type": "code",
      "metadata": {
        "id": "cILdvz8ed-cf",
        "outputId": "78c08aff-6bed-4c84-80de-21b8d3abb87c"
      },
      "source": [
        "df1['id'].value_counts()"
      ],
      "id": "cILdvz8ed-cf",
      "execution_count": null,
      "outputs": [
        {
          "output_type": "execute_result",
          "data": {
            "text/plain": [
              "bfPNe    2\n",
              "LHZR0    2\n",
              "wt4Uk    2\n",
              "5ltQ6    2\n",
              "2BCkA    1\n",
              "        ..\n",
              "2JpXc    1\n",
              "Ki9EX    1\n",
              "skZyE    1\n",
              "P8oMT    1\n",
              "sN0bs    1\n",
              "Name: id, Length: 99996, dtype: int64"
            ]
          },
          "metadata": {
            "tags": []
          },
          "execution_count": 14
        }
      ]
    },
    {
      "cell_type": "code",
      "metadata": {
        "id": "r5SWV2e9d-cg",
        "outputId": "d974346f-d7b0-4859-f5e6-746db6484be6"
      },
      "source": [
        "df1['product'].describe()"
      ],
      "id": "r5SWV2e9d-cg",
      "execution_count": null,
      "outputs": [
        {
          "output_type": "execute_result",
          "data": {
            "text/plain": [
              "count    100000.000000\n",
              "mean         68.825000\n",
              "std          45.944423\n",
              "min           0.000000\n",
              "25%          26.953261\n",
              "50%          57.085625\n",
              "75%         107.813044\n",
              "max         137.945408\n",
              "Name: product, dtype: float64"
            ]
          },
          "metadata": {
            "tags": []
          },
          "execution_count": 15
        }
      ]
    },
    {
      "cell_type": "markdown",
      "metadata": {
        "id": "fuiqB4VGd-cg"
      },
      "source": [
        "<b>Распределение объемов запасов в скважинах второго региона</b>"
      ],
      "id": "fuiqB4VGd-cg"
    },
    {
      "cell_type": "code",
      "metadata": {
        "id": "ikJFLFQhd-cg",
        "outputId": "6c2bed05-28b6-4a6b-f59d-31b2599899cc"
      },
      "source": [
        "df1['product'].hist()\n",
        "plt.xlabel('Объем запасов')\n",
        "plt.ylabel('Кол-во скважин')\n",
        "plt.show()"
      ],
      "id": "ikJFLFQhd-cg",
      "execution_count": null,
      "outputs": [
        {
          "output_type": "display_data",
          "data": {
            "image/png": "[encoded data removed]",
            "text/plain": [
              "<Figure size 432x288 with 1 Axes>"
            ]
          },
          "metadata": {
            "tags": [],
            "needs_background": "light"
          }
        }
      ]
    },
    {
      "cell_type": "markdown",
      "metadata": {
        "id": "VdXOCbZed-cg"
      },
      "source": [
        "<b>Преобладают скважины объемом до 15 и от 125 до 138 тыс. баррелей</b>"
      ],
      "id": "VdXOCbZed-cg"
    },
    {
      "cell_type": "markdown",
      "metadata": {
        "id": "OM8QV8Ahd-cg"
      },
      "source": [
        "<b>Рассмотрим зависимости между данными<b>"
      ],
      "id": "OM8QV8Ahd-cg"
    },
    {
      "cell_type": "code",
      "metadata": {
        "id": "xhBTtci5d-cg"
      },
      "source": [
        "corrMatrix1 = df1.corr()"
      ],
      "id": "xhBTtci5d-cg",
      "execution_count": null,
      "outputs": []
    },
    {
      "cell_type": "code",
      "metadata": {
        "id": "PiN5FSvrd-cg",
        "outputId": "7e7f9b4f-eaba-4ffe-9646-794436b14c90"
      },
      "source": [
        "plt.figure(figsize=(5, 5))\n",
        "sns.heatmap(corrMatrix1, annot=True)\n",
        "plt.show()"
      ],
      "id": "PiN5FSvrd-cg",
      "execution_count": null,
      "outputs": [
        {
          "output_type": "display_data",
          "data": {
            "image/png": "[encoded data removed]",
            "text/plain": [
              "<Figure size 360x360 with 2 Axes>"
            ]
          },
          "metadata": {
            "tags": [],
            "needs_background": "light"
          }
        }
      ]
    },
    {
      "cell_type": "markdown",
      "metadata": {
        "id": "PIM_WXTCd-ch"
      },
      "source": [
        "<b>Заметим сильную зависимость между признаком 'f2' и 'product'</b>"
      ],
      "id": "PIM_WXTCd-ch"
    },
    {
      "cell_type": "markdown",
      "metadata": {
        "id": "AhLydus0d-ch"
      },
      "source": [
        "<b>Рассмотрим третий регион</b>"
      ],
      "id": "AhLydus0d-ch"
    },
    {
      "cell_type": "code",
      "metadata": {
        "id": "hY7ETx0md-ch",
        "outputId": "8b2e3d1a-36dc-48f7-be23-acf4764e9583"
      },
      "source": [
        "display(df2)"
      ],
      "id": "hY7ETx0md-ch",
      "execution_count": null,
      "outputs": [
        {
          "output_type": "display_data",
          "data": {
            "text/html": [
              "<div>\n",
              "<style scoped>\n",
              "    .dataframe tbody tr th:only-of-type {\n",
              "        vertical-align: middle;\n",
              "    }\n",
              "\n",
              "    .dataframe tbody tr th {\n",
              "        vertical-align: top;\n",
              "    }\n",
              "\n",
              "    .dataframe thead th {\n",
              "        text-align: right;\n",
              "    }\n",
              "</style>\n",
              "<table border=\"1\" class=\"dataframe\">\n",
              "  <thead>\n",
              "    <tr style=\"text-align: right;\">\n",
              "      <th></th>\n",
              "      <th>id</th>\n",
              "      <th>f0</th>\n",
              "      <th>f1</th>\n",
              "      <th>f2</th>\n",
              "      <th>product</th>\n",
              "    </tr>\n",
              "  </thead>\n",
              "  <tbody>\n",
              "    <tr>\n",
              "      <th>0</th>\n",
              "      <td>fwXo0</td>\n",
              "      <td>-1.146987</td>\n",
              "      <td>0.963328</td>\n",
              "      <td>-0.828965</td>\n",
              "      <td>27.758673</td>\n",
              "    </tr>\n",
              "    <tr>\n",
              "      <th>1</th>\n",
              "      <td>WJtFt</td>\n",
              "      <td>0.262778</td>\n",
              "      <td>0.269839</td>\n",
              "      <td>-2.530187</td>\n",
              "      <td>56.069697</td>\n",
              "    </tr>\n",
              "    <tr>\n",
              "      <th>2</th>\n",
              "      <td>ovLUW</td>\n",
              "      <td>0.194587</td>\n",
              "      <td>0.289035</td>\n",
              "      <td>-5.586433</td>\n",
              "      <td>62.871910</td>\n",
              "    </tr>\n",
              "    <tr>\n",
              "      <th>3</th>\n",
              "      <td>q6cA6</td>\n",
              "      <td>2.236060</td>\n",
              "      <td>-0.553760</td>\n",
              "      <td>0.930038</td>\n",
              "      <td>114.572842</td>\n",
              "    </tr>\n",
              "    <tr>\n",
              "      <th>4</th>\n",
              "      <td>WPMUX</td>\n",
              "      <td>-0.515993</td>\n",
              "      <td>1.716266</td>\n",
              "      <td>5.899011</td>\n",
              "      <td>149.600746</td>\n",
              "    </tr>\n",
              "    <tr>\n",
              "      <th>...</th>\n",
              "      <td>...</td>\n",
              "      <td>...</td>\n",
              "      <td>...</td>\n",
              "      <td>...</td>\n",
              "      <td>...</td>\n",
              "    </tr>\n",
              "    <tr>\n",
              "      <th>99995</th>\n",
              "      <td>4GxBu</td>\n",
              "      <td>-1.777037</td>\n",
              "      <td>1.125220</td>\n",
              "      <td>6.263374</td>\n",
              "      <td>172.327046</td>\n",
              "    </tr>\n",
              "    <tr>\n",
              "      <th>99996</th>\n",
              "      <td>YKFjq</td>\n",
              "      <td>-1.261523</td>\n",
              "      <td>-0.894828</td>\n",
              "      <td>2.524545</td>\n",
              "      <td>138.748846</td>\n",
              "    </tr>\n",
              "    <tr>\n",
              "      <th>99997</th>\n",
              "      <td>tKPY3</td>\n",
              "      <td>-1.199934</td>\n",
              "      <td>-2.957637</td>\n",
              "      <td>5.219411</td>\n",
              "      <td>157.080080</td>\n",
              "    </tr>\n",
              "    <tr>\n",
              "      <th>99998</th>\n",
              "      <td>nmxp2</td>\n",
              "      <td>-2.419896</td>\n",
              "      <td>2.417221</td>\n",
              "      <td>-5.548444</td>\n",
              "      <td>51.795253</td>\n",
              "    </tr>\n",
              "    <tr>\n",
              "      <th>99999</th>\n",
              "      <td>V9kWn</td>\n",
              "      <td>-2.551421</td>\n",
              "      <td>-2.025625</td>\n",
              "      <td>6.090891</td>\n",
              "      <td>102.775767</td>\n",
              "    </tr>\n",
              "  </tbody>\n",
              "</table>\n",
              "<p>100000 rows × 5 columns</p>\n",
              "</div>"
            ],
            "text/plain": [
              "          id        f0        f1        f2     product\n",
              "0      fwXo0 -1.146987  0.963328 -0.828965   27.758673\n",
              "1      WJtFt  0.262778  0.269839 -2.530187   56.069697\n",
              "2      ovLUW  0.194587  0.289035 -5.586433   62.871910\n",
              "3      q6cA6  2.236060 -0.553760  0.930038  114.572842\n",
              "4      WPMUX -0.515993  1.716266  5.899011  149.600746\n",
              "...      ...       ...       ...       ...         ...\n",
              "99995  4GxBu -1.777037  1.125220  6.263374  172.327046\n",
              "99996  YKFjq -1.261523 -0.894828  2.524545  138.748846\n",
              "99997  tKPY3 -1.199934 -2.957637  5.219411  157.080080\n",
              "99998  nmxp2 -2.419896  2.417221 -5.548444   51.795253\n",
              "99999  V9kWn -2.551421 -2.025625  6.090891  102.775767\n",
              "\n",
              "[100000 rows x 5 columns]"
            ]
          },
          "metadata": {
            "tags": []
          }
        }
      ]
    },
    {
      "cell_type": "code",
      "metadata": {
        "id": "foeVy4yMd-ch",
        "outputId": "79b7f887-641e-46dc-c7bd-a5da0a6947d0"
      },
      "source": [
        "df2.info()"
      ],
      "id": "foeVy4yMd-ch",
      "execution_count": null,
      "outputs": [
        {
          "output_type": "stream",
          "text": [
            "<class 'pandas.core.frame.DataFrame'>\n",
            "RangeIndex: 100000 entries, 0 to 99999\n",
            "Data columns (total 5 columns):\n",
            " #   Column   Non-Null Count   Dtype  \n",
            "---  ------   --------------   -----  \n",
            " 0   id       100000 non-null  object \n",
            " 1   f0       100000 non-null  float64\n",
            " 2   f1       100000 non-null  float64\n",
            " 3   f2       100000 non-null  float64\n",
            " 4   product  100000 non-null  float64\n",
            "dtypes: float64(4), object(1)\n",
            "memory usage: 3.8+ MB\n"
          ],
          "name": "stdout"
        }
      ]
    },
    {
      "cell_type": "code",
      "metadata": {
        "id": "C3vLPeD2d-ch",
        "outputId": "abb7780c-b8bd-404f-8c09-b87b3d1113b8"
      },
      "source": [
        "print(df2.duplicated().sum())"
      ],
      "id": "C3vLPeD2d-ch",
      "execution_count": null,
      "outputs": [
        {
          "output_type": "stream",
          "text": [
            "0\n"
          ],
          "name": "stdout"
        }
      ]
    },
    {
      "cell_type": "code",
      "metadata": {
        "id": "mHb14kaid-ch",
        "outputId": "90dd2a49-fe57-49cd-dca2-414b19d30683"
      },
      "source": [
        "df2['id'].value_counts()"
      ],
      "id": "mHb14kaid-ch",
      "execution_count": null,
      "outputs": [
        {
          "output_type": "execute_result",
          "data": {
            "text/plain": [
              "Vcm5J    2\n",
              "xCHr8    2\n",
              "VF7Jo    2\n",
              "KUPhW    2\n",
              "2jXbJ    1\n",
              "        ..\n",
              "82ujK    1\n",
              "zTF9x    1\n",
              "YFSk8    1\n",
              "io162    1\n",
              "kzNeo    1\n",
              "Name: id, Length: 99996, dtype: int64"
            ]
          },
          "metadata": {
            "tags": []
          },
          "execution_count": 22
        }
      ]
    },
    {
      "cell_type": "code",
      "metadata": {
        "id": "pDZ78eZmd-ci",
        "outputId": "18c05ab3-892d-467b-9cce-0ae97fa4ffc7"
      },
      "source": [
        "df2['product'].describe()"
      ],
      "id": "pDZ78eZmd-ci",
      "execution_count": null,
      "outputs": [
        {
          "output_type": "execute_result",
          "data": {
            "text/plain": [
              "count    100000.000000\n",
              "mean         95.000000\n",
              "std          44.749921\n",
              "min           0.000000\n",
              "25%          59.450441\n",
              "50%          94.925613\n",
              "75%         130.595027\n",
              "max         190.029838\n",
              "Name: product, dtype: float64"
            ]
          },
          "metadata": {
            "tags": []
          },
          "execution_count": 23
        }
      ]
    },
    {
      "cell_type": "markdown",
      "metadata": {
        "id": "X03cbfS3d-ci"
      },
      "source": [
        "<b>Распределение объемов запасов в скважинах третьего региона</b>"
      ],
      "id": "X03cbfS3d-ci"
    },
    {
      "cell_type": "code",
      "metadata": {
        "id": "4-6hZoC_d-ci",
        "outputId": "f22bd0d6-4b6d-4a31-a06c-aedb1c183291"
      },
      "source": [
        "df2['product'].hist()\n",
        "plt.xlabel('Объем запасов')\n",
        "plt.ylabel('Кол-во скважин')\n",
        "plt.show()"
      ],
      "id": "4-6hZoC_d-ci",
      "execution_count": null,
      "outputs": [
        {
          "output_type": "display_data",
          "data": {
            "image/png": "[encoded data removed]",
            "text/plain": [
              "<Figure size 432x288 with 1 Axes>"
            ]
          },
          "metadata": {
            "tags": [],
            "needs_background": "light"
          }
        }
      ]
    },
    {
      "cell_type": "markdown",
      "metadata": {
        "id": "brm4S3epd-ci"
      },
      "source": [
        "<b>Преобладают скважины объемом в районе 95 тыс. баррелей</b>"
      ],
      "id": "brm4S3epd-ci"
    },
    {
      "cell_type": "markdown",
      "metadata": {
        "id": "xgUHuJy3d-ci"
      },
      "source": [
        "<b>Рассмотрим зависимости между данными<b>"
      ],
      "id": "xgUHuJy3d-ci"
    },
    {
      "cell_type": "code",
      "metadata": {
        "id": "sI0wIQpkd-ci"
      },
      "source": [
        "corrMatrix2 = df2.corr()"
      ],
      "id": "sI0wIQpkd-ci",
      "execution_count": null,
      "outputs": []
    },
    {
      "cell_type": "code",
      "metadata": {
        "id": "sBIlwdZod-ci",
        "outputId": "72e277da-c4f1-455c-d59a-f8467ecc1af5"
      },
      "source": [
        "plt.figure(figsize=(5, 5))\n",
        "sns.heatmap(corrMatrix2, annot=True)\n",
        "plt.show()"
      ],
      "id": "sBIlwdZod-ci",
      "execution_count": null,
      "outputs": [
        {
          "output_type": "display_data",
          "data": {
            "image/png": "[encoded data removed]",
            "text/plain": [
              "<Figure size 360x360 with 2 Axes>"
            ]
          },
          "metadata": {
            "tags": [],
            "needs_background": "light"
          }
        }
      ]
    },
    {
      "cell_type": "markdown",
      "metadata": {
        "id": "I-D8KBaYd-cj"
      },
      "source": [
        "## Обучение и проверка модели"
      ],
      "id": "I-D8KBaYd-cj"
    },
    {
      "cell_type": "markdown",
      "metadata": {
        "id": "umG_xxsmd-cj"
      },
      "source": [
        "<b>Разобьем данные на обучающую и валидационную выборки в соотношении 75:25 для каждого региона</b>"
      ],
      "id": "umG_xxsmd-cj"
    },
    {
      "cell_type": "code",
      "metadata": {
        "id": "nPR1XQ0Cd-cj"
      },
      "source": [
        "df0_train, df0_valid = train_test_split(df0, test_size=0.25, random_state=42)\n",
        "df1_train, df1_valid = train_test_split(df1, test_size=0.25, random_state=42)\n",
        "df2_train, df2_valid = train_test_split(df2, test_size=0.25, random_state=42)"
      ],
      "id": "nPR1XQ0Cd-cj",
      "execution_count": null,
      "outputs": []
    },
    {
      "cell_type": "markdown",
      "metadata": {
        "id": "_6UcYXoCd-cj"
      },
      "source": [
        "<b>Обучающая и валидационная выборки первого региона</b>"
      ],
      "id": "_6UcYXoCd-cj"
    },
    {
      "cell_type": "code",
      "metadata": {
        "id": "dhgztNE5d-cj"
      },
      "source": [
        "features_train0 = df0_train.drop(['id','product'], axis=1)\n",
        "target_train0  = df0_train['product']\n",
        "\n",
        "features_valid0 = df0_valid.drop(['id','product'], axis=1)\n",
        "target_valid0 = df0_valid['product']"
      ],
      "id": "dhgztNE5d-cj",
      "execution_count": null,
      "outputs": []
    },
    {
      "cell_type": "markdown",
      "metadata": {
        "id": "9Wv7Orgqd-cj"
      },
      "source": [
        "<b>Проверим размерность</b>"
      ],
      "id": "9Wv7Orgqd-cj"
    },
    {
      "cell_type": "code",
      "metadata": {
        "id": "aWIWL5sad-cj",
        "outputId": "e54ae2be-c710-4ab6-c216-983e2f847352"
      },
      "source": [
        "print(features_train0.shape)\n",
        "print(target_train0.shape)\n",
        "\n",
        "print(features_valid0.shape)\n",
        "print(target_valid0.shape)"
      ],
      "id": "aWIWL5sad-cj",
      "execution_count": null,
      "outputs": [
        {
          "output_type": "stream",
          "text": [
            "(75000, 3)\n",
            "(75000,)\n",
            "(25000, 3)\n",
            "(25000,)\n"
          ],
          "name": "stdout"
        }
      ]
    },
    {
      "cell_type": "markdown",
      "metadata": {
        "id": "TzuMi1eHd-ck"
      },
      "source": [
        "<b>Обучающая и валидационная выборки второго региона</b>"
      ],
      "id": "TzuMi1eHd-ck"
    },
    {
      "cell_type": "code",
      "metadata": {
        "id": "1CjbKN0Dd-ck"
      },
      "source": [
        "features_train1 = df1_train.drop(['id','product'], axis=1)\n",
        "target_train1  = df1_train['product']\n",
        "\n",
        "features_valid1 = df1_valid.drop(['id','product'], axis=1)\n",
        "target_valid1 = df1_valid['product']"
      ],
      "id": "1CjbKN0Dd-ck",
      "execution_count": null,
      "outputs": []
    },
    {
      "cell_type": "code",
      "metadata": {
        "id": "8ecOF9Sjd-ck",
        "outputId": "424973e8-a2b4-44e9-ad37-f43be2c1fb9f"
      },
      "source": [
        "print(features_train1.shape)\n",
        "print(target_train1.shape)\n",
        "\n",
        "print(features_valid1.shape)\n",
        "print(target_valid1.shape)"
      ],
      "id": "8ecOF9Sjd-ck",
      "execution_count": null,
      "outputs": [
        {
          "output_type": "stream",
          "text": [
            "(75000, 3)\n",
            "(75000,)\n",
            "(25000, 3)\n",
            "(25000,)\n"
          ],
          "name": "stdout"
        }
      ]
    },
    {
      "cell_type": "markdown",
      "metadata": {
        "id": "hmh6NCA6d-ck"
      },
      "source": [
        "<b>Обучающая и валидационная выборки третьего региона</b>"
      ],
      "id": "hmh6NCA6d-ck"
    },
    {
      "cell_type": "code",
      "metadata": {
        "id": "m4QbTmRGd-ck"
      },
      "source": [
        "features_train2 = df2_train.drop(['id','product'], axis=1)\n",
        "target_train2  = df2_train['product']\n",
        "\n",
        "features_valid2 = df2_valid.drop(['id','product'], axis=1)\n",
        "target_valid2 = df2_valid['product']"
      ],
      "id": "m4QbTmRGd-ck",
      "execution_count": null,
      "outputs": []
    },
    {
      "cell_type": "code",
      "metadata": {
        "id": "-QQ63XEPd-ck",
        "outputId": "2effcf0c-166e-4f83-a117-457b268ac340"
      },
      "source": [
        "print(features_train2.shape)\n",
        "print(target_train2.shape)\n",
        "\n",
        "print(features_valid2.shape)\n",
        "print(target_valid2.shape)"
      ],
      "id": "-QQ63XEPd-ck",
      "execution_count": null,
      "outputs": [
        {
          "output_type": "stream",
          "text": [
            "(75000, 3)\n",
            "(75000,)\n",
            "(25000, 3)\n",
            "(25000,)\n"
          ],
          "name": "stdout"
        }
      ]
    },
    {
      "cell_type": "markdown",
      "metadata": {
        "id": "ZL33hMMad-ck"
      },
      "source": [
        "<b>Осуществим поиск параметров методом GridSearch</b>"
      ],
      "id": "ZL33hMMad-ck"
    },
    {
      "cell_type": "code",
      "metadata": {
        "id": "7j3PWOqNd-cl",
        "outputId": "abfa67f1-4a4a-47a4-c1d3-88b2283ea916"
      },
      "source": [
        "fit_intercept = [True, False]\n",
        "normalize = [True, False]\n",
        "n_jobs = [-1,1,2,3,None]\n",
        "positive = [True, False]\n",
        "copy_X = [True, False]\n",
        "param_grid = {'fit_intercept': fit_intercept,\n",
        "               'normalize': normalize,\n",
        "               'n_jobs': n_jobs,\n",
        "               'positive': positive,\n",
        "               'copy_X': copy_X}\n",
        "gs_reg = GridSearchCV(LinearRegression(), param_grid)\n",
        "gs_reg.fit(features_train0,target_train0)\n",
        "gs_reg.best_params_"
      ],
      "id": "7j3PWOqNd-cl",
      "execution_count": null,
      "outputs": [
        {
          "output_type": "execute_result",
          "data": {
            "text/plain": [
              "{'copy_X': True,\n",
              " 'fit_intercept': True,\n",
              " 'n_jobs': -1,\n",
              " 'normalize': True,\n",
              " 'positive': False}"
            ]
          },
          "metadata": {
            "tags": []
          },
          "execution_count": 34
        }
      ]
    },
    {
      "cell_type": "markdown",
      "metadata": {
        "id": "HOaKGn63d-cl"
      },
      "source": [
        "<b>Обучим модель линейной регрессии и сделаем предсказания на валидационной выборке для каждого региона</b>"
      ],
      "id": "HOaKGn63d-cl"
    },
    {
      "cell_type": "code",
      "metadata": {
        "id": "tzR5vkc-d-cl"
      },
      "source": [
        "model = LinearRegression(normalize=True, n_jobs= -1, copy_X=True, fit_intercept=True, positive=False) "
      ],
      "id": "tzR5vkc-d-cl",
      "execution_count": null,
      "outputs": []
    },
    {
      "cell_type": "code",
      "metadata": {
        "id": "40yMJaS5d-cl"
      },
      "source": [
        "def work_model(features_train,target_train,features_valid):\n",
        "    model.fit(features_train,target_train)\n",
        "    predictions_valid = model.predict(features_valid)\n",
        "    return predictions_valid"
      ],
      "id": "40yMJaS5d-cl",
      "execution_count": null,
      "outputs": []
    },
    {
      "cell_type": "code",
      "metadata": {
        "id": "At6HiHhqd-cl",
        "outputId": "7e5f0a11-c344-4e05-8e3b-be4df6123dba"
      },
      "source": [
        "predictions_valid0 = work_model(features_train0,target_train0,features_valid0)\n",
        "\n",
        "mse0 = mean_squared_error(target_valid0,predictions_valid0)\n",
        "rmse0 = mse0 ** 0.5\n",
        "print('_______________________________________________________________________________')\n",
        "print('Средний запас предсказанного сырья на валидационной выборке:',predictions_valid0.mean())\n",
        "print('Среднеквадратичное отклонение:',mse0)\n",
        "print('RMSE:',rmse0)\n",
        "print('_______________________________________________________________________________')"
      ],
      "id": "At6HiHhqd-cl",
      "execution_count": null,
      "outputs": [
        {
          "output_type": "stream",
          "text": [
            "_______________________________________________________________________________\n",
            "Средний запас предсказанного сырья на валидационной выборке: 92.3987999065777\n",
            "Среднеквадратичное отклонение: 1425.5608700093812\n",
            "RMSE: 37.75660035026169\n",
            "_______________________________________________________________________________\n"
          ],
          "name": "stdout"
        }
      ]
    },
    {
      "cell_type": "code",
      "metadata": {
        "id": "5VVLe2S2d-cl",
        "outputId": "4c188a25-a00a-43d7-edf5-35e7cb53bcbe"
      },
      "source": [
        "predictions_valid1 = work_model(features_train1,target_train1,features_valid1)\n",
        "\n",
        "mse1 = mean_squared_error(target_valid1,predictions_valid1)\n",
        "rmse1 = mse1 ** 0.5\n",
        "print('_______________________________________________________________________________')\n",
        "print('Средний запас предсказанного сырья на валидационной выборке:',predictions_valid1.mean())\n",
        "print('Среднеквадратичное отклонение:',mse1)\n",
        "print('RMSE:',rmse1)\n",
        "print('_______________________________________________________________________________')"
      ],
      "id": "5VVLe2S2d-cl",
      "execution_count": null,
      "outputs": [
        {
          "output_type": "stream",
          "text": [
            "_______________________________________________________________________________\n",
            "Средний запас предсказанного сырья на валидационной выборке: 68.71287803913762\n",
            "Среднеквадратичное отклонение: 0.7925986566392055\n",
            "RMSE: 0.8902801001028864\n",
            "_______________________________________________________________________________\n"
          ],
          "name": "stdout"
        }
      ]
    },
    {
      "cell_type": "code",
      "metadata": {
        "id": "bI7sCnied-cm",
        "outputId": "39af2f01-5710-41aa-d15c-a1572a009484"
      },
      "source": [
        "predictions_valid2 = work_model(features_train2,target_train2,features_valid2)\n",
        "\n",
        "mse2 = mean_squared_error(target_valid2,predictions_valid2)\n",
        "rmse2 = mse2 ** 0.5\n",
        "print('_______________________________________________________________________________')\n",
        "print('Средний запас предсказанного сырья на валидационной выборке:',predictions_valid2.mean())\n",
        "print('Среднеквадратичное отклонение:',mse2)\n",
        "print('RMSE:',rmse2)\n",
        "print('_______________________________________________________________________________')"
      ],
      "id": "bI7sCnied-cm",
      "execution_count": null,
      "outputs": [
        {
          "output_type": "stream",
          "text": [
            "_______________________________________________________________________________\n",
            "Средний запас предсказанного сырья на валидационной выборке: 94.7710238776594\n",
            "Среднеквадратичное отклонение: 1611.6910636385903\n",
            "RMSE: 40.145872311342174\n",
            "_______________________________________________________________________________\n"
          ],
          "name": "stdout"
        }
      ]
    },
    {
      "cell_type": "markdown",
      "metadata": {
        "id": "SIZhZ-6sd-cm"
      },
      "source": [
        "### Вывод по разделу\n",
        "1. Разбили выборки на обучающую и валидационную выборки в соотношении 75:25 для каждого региона.\n",
        "2. Для обучения модели использовали Линейную регрессию.\n",
        "3. Рассчитали средний запас предсказанного сырья. Оказалось, что модель спрогнозировала наибольший средний запас в третьем регионе.\n",
        "4. Рассчитали RMSE для каждого региона. В результате рассчетов лучший показатель качества модели оказался у второго региона. \n",
        "<br>\n",
        "<table width=\"30%\" align=\"left\">\n",
        "    <tr>\n",
        "        <th>Регион</th>\n",
        "        <th>Средний предсказанный запас</th>\n",
        "        <th>RMSE</th>\n",
        "    </tr>\n",
        "    <tr>\n",
        "        <th>Первый</th>\n",
        "        <th>92.3987</th>\n",
        "        <th>37.7566</th>\n",
        "    </tr>\n",
        "     <tr>\n",
        "        <th>Второй</th>\n",
        "        <th>68.7128</th>\n",
        "        <th>0.8902</th>\n",
        "    </tr>\n",
        "    <tr>\n",
        "        <th>Третий</th>\n",
        "        <th>94.7710</th>\n",
        "        <th>40.1458</th>\n",
        "    </tr>\n",
        "</table>"
      ],
      "id": "SIZhZ-6sd-cm"
    },
    {
      "cell_type": "markdown",
      "metadata": {
        "id": "6nJwBcl3d-cn"
      },
      "source": [
        "<b>Проверка на вменяемость</b>"
      ],
      "id": "6nJwBcl3d-cn"
    },
    {
      "cell_type": "code",
      "metadata": {
        "id": "vNWOTRFBd-cn",
        "outputId": "e9d62ddd-3754-435b-c273-467232a51b12"
      },
      "source": [
        "predictions0 = pd.Series(target_train0.mean(), index=target_train0.index)\n",
        "mse0p = mean_squared_error(target_train0,predictions0)\n",
        "rmse0p = mse0p ** 0.5\n",
        "print(target_train0.mean())\n",
        "print(mse0p)\n",
        "print(rmse0p)"
      ],
      "id": "vNWOTRFBd-cn",
      "execution_count": null,
      "outputs": [
        {
          "output_type": "stream",
          "text": [
            "92.5580145430521\n",
            "1961.8047043112817\n",
            "44.292264610327635\n"
          ],
          "name": "stdout"
        }
      ]
    },
    {
      "cell_type": "code",
      "metadata": {
        "id": "2St8F3LXd-cn",
        "outputId": "38d1741d-008e-4d9a-cff5-c4f7cd6a84f3"
      },
      "source": [
        "predictions1 = pd.Series(target_train1.mean(), index=target_train1.index)\n",
        "mse1p = mean_squared_error(target_train1,predictions1)\n",
        "rmse1p = mse1p ** 0.5\n",
        "print(target_train1.mean())\n",
        "print(mse1p)\n",
        "print(rmse1p)"
      ],
      "id": "2St8F3LXd-cn",
      "execution_count": null,
      "outputs": [
        {
          "output_type": "stream",
          "text": [
            "68.85820641762152\n",
            "2110.849949589052\n",
            "45.94398708850868\n"
          ],
          "name": "stdout"
        }
      ]
    },
    {
      "cell_type": "code",
      "metadata": {
        "id": "M2YEtbLqd-cn",
        "outputId": "78f24ac4-8b58-489d-aea6-561d055e17ff"
      },
      "source": [
        "predictions2 = pd.Series(target_train2.mean(), index=target_train2.index)\n",
        "mse2p = mean_squared_error(target_train2,predictions2)\n",
        "rmse2p = mse2p ** 0.5\n",
        "print(target_train2.mean())\n",
        "print(mse2p)\n",
        "print(rmse2p)"
      ],
      "id": "M2YEtbLqd-cn",
      "execution_count": null,
      "outputs": [
        {
          "output_type": "stream",
          "text": [
            "94.94966697609381\n",
            "2001.5515587257687\n",
            "44.73870314085745\n"
          ],
          "name": "stdout"
        }
      ]
    },
    {
      "cell_type": "markdown",
      "metadata": {
        "id": "YSRpGxwAd-cn"
      },
      "source": [
        "## Подготовка к расчёту прибыли"
      ],
      "id": "YSRpGxwAd-cn"
    },
    {
      "cell_type": "code",
      "metadata": {
        "id": "ZYb5uJ0id-cn"
      },
      "source": [
        "BUDGET = 10 # 10 млрд. рублей на разработку скважин в регионе\n",
        "RESEARCH_POINT = 500 # исследуем 500 точек\n",
        "RESEARCH_POINT_BEST = 200 # выбирают 200 точек\n",
        "PROFIT = 0.00045 # 450 тыс. рублей за 1 тыс. баррелей"
      ],
      "id": "ZYb5uJ0id-cn",
      "execution_count": null,
      "outputs": []
    },
    {
      "cell_type": "markdown",
      "metadata": {
        "id": "sH3Ujd0bd-co"
      },
      "source": [
        "<b>Расчет достаточного объема сырья для безубыточной разработки новой скважины</b>"
      ],
      "id": "sH3Ujd0bd-co"
    },
    {
      "cell_type": "code",
      "metadata": {
        "id": "4SL2ao7fd-co",
        "outputId": "4ab0c107-aeb4-434b-e1d4-ab4d03033423"
      },
      "source": [
        "optimal_volume = BUDGET / PROFIT / RESEARCH_POINT_BEST\n",
        "print('Достаточный объем сырья для безубыточной разработки новой скважины (тыс. баррелей):',optimal_volume)"
      ],
      "id": "4SL2ao7fd-co",
      "execution_count": null,
      "outputs": [
        {
          "output_type": "stream",
          "text": [
            "Достаточный объем сырья для безубыточной разработки новой скважины (тыс. баррелей): 111.11111111111111\n"
          ],
          "name": "stdout"
        }
      ]
    },
    {
      "cell_type": "markdown",
      "metadata": {
        "id": "ftmbHlFGd-co"
      },
      "source": [
        "<b>Расчет среднего запаса сырья в каждом регионе</b>"
      ],
      "id": "ftmbHlFGd-co"
    },
    {
      "cell_type": "code",
      "metadata": {
        "id": "syXngPtEd-co",
        "outputId": "8cfc9f59-71c7-4cf5-f359-f1081535868d"
      },
      "source": [
        "print('Средний запас в регионе 1:',df0['product'].mean())\n",
        "print('Средний запас в регионе 2:',df1['product'].mean())\n",
        "print('Средний запас в регионе 3:',df2['product'].mean())"
      ],
      "id": "syXngPtEd-co",
      "execution_count": null,
      "outputs": [
        {
          "output_type": "stream",
          "text": [
            "Средний запас в регионе 1: 92.49999999999974\n",
            "Средний запас в регионе 2: 68.82500000002561\n",
            "Средний запас в регионе 3: 95.00000000000041\n"
          ],
          "name": "stdout"
        }
      ]
    },
    {
      "cell_type": "markdown",
      "metadata": {
        "id": "LQGb_wL4d-co"
      },
      "source": [
        "### Вывод по разделу\n",
        "Средний объем запасов в регионах намного ниже, чем значение достаточного объема сырья для безубыточной разработки новой скважины. В дальнейшем придется разобраться, что с этим делать. Неужели придется забраковать все регионы. Тем более рассчет среднего производился, учитывая все скважины по каждому региону. А скважины встречаюстя как без сырья, либо его очень мало."
      ],
      "id": "LQGb_wL4d-co"
    },
    {
      "cell_type": "markdown",
      "metadata": {
        "id": "cU7ANIicd-cp"
      },
      "source": [
        "## Расчёт прибыли и рисков "
      ],
      "id": "cU7ANIicd-cp"
    },
    {
      "cell_type": "code",
      "metadata": {
        "id": "hqC3icqtd-cp"
      },
      "source": [
        "data0 = pd.DataFrame({'target_valid':target_valid0,'predictions_valid':predictions_valid0})\n",
        "data1 = pd.DataFrame({'target_valid':target_valid1,'predictions_valid':predictions_valid1})\n",
        "data2 = pd.DataFrame({'target_valid':target_valid2,'predictions_valid':predictions_valid2})"
      ],
      "id": "hqC3icqtd-cp",
      "execution_count": null,
      "outputs": []
    },
    {
      "cell_type": "code",
      "metadata": {
        "id": "tK544o10d-cp",
        "outputId": "6faade2c-d8a4-4344-aba2-618609cf121a"
      },
      "source": [
        "display(data0)"
      ],
      "id": "tK544o10d-cp",
      "execution_count": null,
      "outputs": [
        {
          "output_type": "display_data",
          "data": {
            "text/html": [
              "<div>\n",
              "<style scoped>\n",
              "    .dataframe tbody tr th:only-of-type {\n",
              "        vertical-align: middle;\n",
              "    }\n",
              "\n",
              "    .dataframe tbody tr th {\n",
              "        vertical-align: top;\n",
              "    }\n",
              "\n",
              "    .dataframe thead th {\n",
              "        text-align: right;\n",
              "    }\n",
              "</style>\n",
              "<table border=\"1\" class=\"dataframe\">\n",
              "  <thead>\n",
              "    <tr style=\"text-align: right;\">\n",
              "      <th></th>\n",
              "      <th>target_valid</th>\n",
              "      <th>predictions_valid</th>\n",
              "    </tr>\n",
              "  </thead>\n",
              "  <tbody>\n",
              "    <tr>\n",
              "      <th>75721</th>\n",
              "      <td>122.073350</td>\n",
              "      <td>101.901017</td>\n",
              "    </tr>\n",
              "    <tr>\n",
              "      <th>80184</th>\n",
              "      <td>48.738540</td>\n",
              "      <td>78.217774</td>\n",
              "    </tr>\n",
              "    <tr>\n",
              "      <th>19864</th>\n",
              "      <td>131.338088</td>\n",
              "      <td>115.266901</td>\n",
              "    </tr>\n",
              "    <tr>\n",
              "      <th>76699</th>\n",
              "      <td>88.327757</td>\n",
              "      <td>105.618618</td>\n",
              "    </tr>\n",
              "    <tr>\n",
              "      <th>92991</th>\n",
              "      <td>36.959266</td>\n",
              "      <td>97.980185</td>\n",
              "    </tr>\n",
              "    <tr>\n",
              "      <th>...</th>\n",
              "      <td>...</td>\n",
              "      <td>...</td>\n",
              "    </tr>\n",
              "    <tr>\n",
              "      <th>21271</th>\n",
              "      <td>148.821520</td>\n",
              "      <td>105.076959</td>\n",
              "    </tr>\n",
              "    <tr>\n",
              "      <th>34014</th>\n",
              "      <td>123.454003</td>\n",
              "      <td>74.768176</td>\n",
              "    </tr>\n",
              "    <tr>\n",
              "      <th>81355</th>\n",
              "      <td>91.945213</td>\n",
              "      <td>82.544397</td>\n",
              "    </tr>\n",
              "    <tr>\n",
              "      <th>65720</th>\n",
              "      <td>149.295563</td>\n",
              "      <td>81.826689</td>\n",
              "    </tr>\n",
              "    <tr>\n",
              "      <th>11627</th>\n",
              "      <td>57.244039</td>\n",
              "      <td>93.121062</td>\n",
              "    </tr>\n",
              "  </tbody>\n",
              "</table>\n",
              "<p>25000 rows × 2 columns</p>\n",
              "</div>"
            ],
            "text/plain": [
              "       target_valid  predictions_valid\n",
              "75721    122.073350         101.901017\n",
              "80184     48.738540          78.217774\n",
              "19864    131.338088         115.266901\n",
              "76699     88.327757         105.618618\n",
              "92991     36.959266          97.980185\n",
              "...             ...                ...\n",
              "21271    148.821520         105.076959\n",
              "34014    123.454003          74.768176\n",
              "81355     91.945213          82.544397\n",
              "65720    149.295563          81.826689\n",
              "11627     57.244039          93.121062\n",
              "\n",
              "[25000 rows x 2 columns]"
            ]
          },
          "metadata": {
            "tags": []
          }
        }
      ]
    },
    {
      "cell_type": "code",
      "metadata": {
        "id": "-YgQjopJd-cp"
      },
      "source": [
        "target0 = data0['target_valid']\n",
        "pred0 = data0['predictions_valid']"
      ],
      "id": "-YgQjopJd-cp",
      "execution_count": null,
      "outputs": []
    },
    {
      "cell_type": "code",
      "metadata": {
        "id": "akVUC0vWd-cp",
        "outputId": "40c685cf-1932-42d9-bd0a-3c97932f0358"
      },
      "source": [
        "display(data1)"
      ],
      "id": "akVUC0vWd-cp",
      "execution_count": null,
      "outputs": [
        {
          "output_type": "display_data",
          "data": {
            "text/html": [
              "<div>\n",
              "<style scoped>\n",
              "    .dataframe tbody tr th:only-of-type {\n",
              "        vertical-align: middle;\n",
              "    }\n",
              "\n",
              "    .dataframe tbody tr th {\n",
              "        vertical-align: top;\n",
              "    }\n",
              "\n",
              "    .dataframe thead th {\n",
              "        text-align: right;\n",
              "    }\n",
              "</style>\n",
              "<table border=\"1\" class=\"dataframe\">\n",
              "  <thead>\n",
              "    <tr style=\"text-align: right;\">\n",
              "      <th></th>\n",
              "      <th>target_valid</th>\n",
              "      <th>predictions_valid</th>\n",
              "    </tr>\n",
              "  </thead>\n",
              "  <tbody>\n",
              "    <tr>\n",
              "      <th>75721</th>\n",
              "      <td>0.000000</td>\n",
              "      <td>0.844738</td>\n",
              "    </tr>\n",
              "    <tr>\n",
              "      <th>80184</th>\n",
              "      <td>53.906522</td>\n",
              "      <td>52.921612</td>\n",
              "    </tr>\n",
              "    <tr>\n",
              "      <th>19864</th>\n",
              "      <td>134.766305</td>\n",
              "      <td>135.110385</td>\n",
              "    </tr>\n",
              "    <tr>\n",
              "      <th>76699</th>\n",
              "      <td>107.813044</td>\n",
              "      <td>109.494863</td>\n",
              "    </tr>\n",
              "    <tr>\n",
              "      <th>92991</th>\n",
              "      <td>0.000000</td>\n",
              "      <td>-0.047292</td>\n",
              "    </tr>\n",
              "    <tr>\n",
              "      <th>...</th>\n",
              "      <td>...</td>\n",
              "      <td>...</td>\n",
              "    </tr>\n",
              "    <tr>\n",
              "      <th>21271</th>\n",
              "      <td>107.813044</td>\n",
              "      <td>108.351600</td>\n",
              "    </tr>\n",
              "    <tr>\n",
              "      <th>34014</th>\n",
              "      <td>53.906522</td>\n",
              "      <td>53.604049</td>\n",
              "    </tr>\n",
              "    <tr>\n",
              "      <th>81355</th>\n",
              "      <td>26.953261</td>\n",
              "      <td>26.708734</td>\n",
              "    </tr>\n",
              "    <tr>\n",
              "      <th>65720</th>\n",
              "      <td>110.992147</td>\n",
              "      <td>109.823087</td>\n",
              "    </tr>\n",
              "    <tr>\n",
              "      <th>11627</th>\n",
              "      <td>134.766305</td>\n",
              "      <td>135.448780</td>\n",
              "    </tr>\n",
              "  </tbody>\n",
              "</table>\n",
              "<p>25000 rows × 2 columns</p>\n",
              "</div>"
            ],
            "text/plain": [
              "       target_valid  predictions_valid\n",
              "75721      0.000000           0.844738\n",
              "80184     53.906522          52.921612\n",
              "19864    134.766305         135.110385\n",
              "76699    107.813044         109.494863\n",
              "92991      0.000000          -0.047292\n",
              "...             ...                ...\n",
              "21271    107.813044         108.351600\n",
              "34014     53.906522          53.604049\n",
              "81355     26.953261          26.708734\n",
              "65720    110.992147         109.823087\n",
              "11627    134.766305         135.448780\n",
              "\n",
              "[25000 rows x 2 columns]"
            ]
          },
          "metadata": {
            "tags": []
          }
        }
      ]
    },
    {
      "cell_type": "code",
      "metadata": {
        "id": "KQ8wdJImd-cp"
      },
      "source": [
        "target1 = data1['target_valid']\n",
        "pred1 = data1['predictions_valid']"
      ],
      "id": "KQ8wdJImd-cp",
      "execution_count": null,
      "outputs": []
    },
    {
      "cell_type": "code",
      "metadata": {
        "id": "G7IsvowHd-cp",
        "outputId": "9eb00c4f-d0ad-4881-c1ae-5688649a6a02"
      },
      "source": [
        "display(data2)"
      ],
      "id": "G7IsvowHd-cp",
      "execution_count": null,
      "outputs": [
        {
          "output_type": "display_data",
          "data": {
            "text/html": [
              "<div>\n",
              "<style scoped>\n",
              "    .dataframe tbody tr th:only-of-type {\n",
              "        vertical-align: middle;\n",
              "    }\n",
              "\n",
              "    .dataframe tbody tr th {\n",
              "        vertical-align: top;\n",
              "    }\n",
              "\n",
              "    .dataframe thead th {\n",
              "        text-align: right;\n",
              "    }\n",
              "</style>\n",
              "<table border=\"1\" class=\"dataframe\">\n",
              "  <thead>\n",
              "    <tr style=\"text-align: right;\">\n",
              "      <th></th>\n",
              "      <th>target_valid</th>\n",
              "      <th>predictions_valid</th>\n",
              "    </tr>\n",
              "  </thead>\n",
              "  <tbody>\n",
              "    <tr>\n",
              "      <th>75721</th>\n",
              "      <td>117.441301</td>\n",
              "      <td>98.301916</td>\n",
              "    </tr>\n",
              "    <tr>\n",
              "      <th>80184</th>\n",
              "      <td>47.841249</td>\n",
              "      <td>101.592461</td>\n",
              "    </tr>\n",
              "    <tr>\n",
              "      <th>19864</th>\n",
              "      <td>45.883483</td>\n",
              "      <td>52.449099</td>\n",
              "    </tr>\n",
              "    <tr>\n",
              "      <th>76699</th>\n",
              "      <td>139.014608</td>\n",
              "      <td>109.922127</td>\n",
              "    </tr>\n",
              "    <tr>\n",
              "      <th>92991</th>\n",
              "      <td>84.004276</td>\n",
              "      <td>72.411847</td>\n",
              "    </tr>\n",
              "    <tr>\n",
              "      <th>...</th>\n",
              "      <td>...</td>\n",
              "      <td>...</td>\n",
              "    </tr>\n",
              "    <tr>\n",
              "      <th>21271</th>\n",
              "      <td>40.797226</td>\n",
              "      <td>102.764169</td>\n",
              "    </tr>\n",
              "    <tr>\n",
              "      <th>34014</th>\n",
              "      <td>87.144239</td>\n",
              "      <td>93.431823</td>\n",
              "    </tr>\n",
              "    <tr>\n",
              "      <th>81355</th>\n",
              "      <td>52.039812</td>\n",
              "      <td>64.098390</td>\n",
              "    </tr>\n",
              "    <tr>\n",
              "      <th>65720</th>\n",
              "      <td>136.961454</td>\n",
              "      <td>83.764135</td>\n",
              "    </tr>\n",
              "    <tr>\n",
              "      <th>11627</th>\n",
              "      <td>109.173206</td>\n",
              "      <td>86.558644</td>\n",
              "    </tr>\n",
              "  </tbody>\n",
              "</table>\n",
              "<p>25000 rows × 2 columns</p>\n",
              "</div>"
            ],
            "text/plain": [
              "       target_valid  predictions_valid\n",
              "75721    117.441301          98.301916\n",
              "80184     47.841249         101.592461\n",
              "19864     45.883483          52.449099\n",
              "76699    139.014608         109.922127\n",
              "92991     84.004276          72.411847\n",
              "...             ...                ...\n",
              "21271     40.797226         102.764169\n",
              "34014     87.144239          93.431823\n",
              "81355     52.039812          64.098390\n",
              "65720    136.961454          83.764135\n",
              "11627    109.173206          86.558644\n",
              "\n",
              "[25000 rows x 2 columns]"
            ]
          },
          "metadata": {
            "tags": []
          }
        }
      ]
    },
    {
      "cell_type": "code",
      "metadata": {
        "id": "nFBW8LcEd-cq"
      },
      "source": [
        "target2 = data2['target_valid']\n",
        "pred2 = data2['predictions_valid']"
      ],
      "id": "nFBW8LcEd-cq",
      "execution_count": null,
      "outputs": []
    },
    {
      "cell_type": "markdown",
      "metadata": {
        "id": "uLFpw4-od-cq"
      },
      "source": [
        "<b>Функция расчета прибыли по выбранным скважинам и предсказаниям модели</b>"
      ],
      "id": "uLFpw4-od-cq"
    },
    {
      "cell_type": "markdown",
      "metadata": {
        "id": "U5Pn8dqKd-cq"
      },
      "source": [
        "<b>Выбираем 200 скважин с максимальным значений предсказаний</b>"
      ],
      "id": "U5Pn8dqKd-cq"
    },
    {
      "cell_type": "code",
      "metadata": {
        "id": "yARvSSWNd-cq"
      },
      "source": [
        "def calcut_profit(target,predictions,count):\n",
        "    sort_pred = predictions.sort_values(ascending = False)[:count]\n",
        "    result = (target[sort_pred.index].sum() * PROFIT) - BUDGET \n",
        "    return result"
      ],
      "id": "yARvSSWNd-cq",
      "execution_count": null,
      "outputs": []
    },
    {
      "cell_type": "code",
      "metadata": {
        "id": "RN0zL_TLd-cr",
        "outputId": "01676542-d33d-4bf4-857e-58643756171a"
      },
      "source": [
        "profit_region_0 = calcut_profit(target0,pred0,RESEARCH_POINT_BEST)\n",
        "print('Прибыль у региона номер 1 в млрд:',profit_region_0)\n",
        "print('_______________________________________________________________________________')"
      ],
      "id": "RN0zL_TLd-cr",
      "execution_count": null,
      "outputs": [
        {
          "output_type": "stream",
          "text": [
            "Прибыль у региона номер 1 в млрд: 3.3591411144621794\n",
            "_______________________________________________________________________________\n"
          ],
          "name": "stdout"
        }
      ]
    },
    {
      "cell_type": "code",
      "metadata": {
        "id": "9CM93KeCd-cr",
        "outputId": "16268eaa-157c-4b5a-aac8-60760f6b35b1"
      },
      "source": [
        "profit_region_1 = calcut_profit(target1,pred1,RESEARCH_POINT_BEST)\n",
        "print('Прибыль у региона номер 2 в млрд:',profit_region_1)\n",
        "print('_______________________________________________________________________________')"
      ],
      "id": "9CM93KeCd-cr",
      "execution_count": null,
      "outputs": [
        {
          "output_type": "stream",
          "text": [
            "Прибыль у региона номер 2 в млрд: 2.415086696681511\n",
            "_______________________________________________________________________________\n"
          ],
          "name": "stdout"
        }
      ]
    },
    {
      "cell_type": "code",
      "metadata": {
        "id": "oPJPlYVhd-cr",
        "outputId": "edbf6f0c-c609-41f0-d626-1bffc7a78759"
      },
      "source": [
        "profit_region_2 = calcut_profit(target2,pred2,RESEARCH_POINT_BEST)\n",
        "print('Прибыль у региона номер 3 в млрд:',profit_region_2)\n",
        "print('_______________________________________________________________________________')"
      ],
      "id": "oPJPlYVhd-cr",
      "execution_count": null,
      "outputs": [
        {
          "output_type": "stream",
          "text": [
            "Прибыль у региона номер 3 в млрд: 2.598571759374112\n",
            "_______________________________________________________________________________\n"
          ],
          "name": "stdout"
        }
      ]
    },
    {
      "cell_type": "markdown",
      "metadata": {
        "id": "TQrez8GLd-cr"
      },
      "source": [
        "<b>Применим технику Bootstrap, чтобы найти распределение прибыли</b>"
      ],
      "id": "TQrez8GLd-cr"
    },
    {
      "cell_type": "code",
      "metadata": {
        "id": "hUS851aId-cr"
      },
      "source": [
        "state = np.random.RandomState(42)\n",
        "\n",
        "def distribution_profit(target,pred):\n",
        "    for i in range(1000):\n",
        "        target_subsample = target.sample(n = RESEARCH_POINT, random_state=state, replace=False)\n",
        "        pred_subsample = pred[target_subsample.index]\n",
        "        calcut = calcut_profit(target_subsample,pred_subsample,RESEARCH_POINT_BEST)\n",
        "        values.append(calcut)\n",
        "    return  values"
      ],
      "id": "hUS851aId-cr",
      "execution_count": null,
      "outputs": []
    },
    {
      "cell_type": "markdown",
      "metadata": {
        "id": "XVTCSt7_d-cr"
      },
      "source": [
        "<b>Распределение прибыли первого региона</b>"
      ],
      "id": "XVTCSt7_d-cr"
    },
    {
      "cell_type": "code",
      "metadata": {
        "id": "2OQ-9ootd-cs",
        "outputId": "3fd74420-b9cd-4065-de4c-46f2a4bda7e8"
      },
      "source": [
        "values = []\n",
        "values0 = pd.Series(distribution_profit(target0,pred0))\n",
        "values0.hist()\n",
        "plt.xlabel('Прибыль')\n",
        "plt.ylabel('Кол-во скважин')\n",
        "plt.show()"
      ],
      "id": "2OQ-9ootd-cs",
      "execution_count": null,
      "outputs": [
        {
          "output_type": "display_data",
          "data": {
            "image/png": "[encoded data removed]",
            "text/plain": [
              "<Figure size 432x288 with 1 Axes>"
            ]
          },
          "metadata": {
            "tags": [],
            "needs_background": "light"
          }
        }
      ]
    },
    {
      "cell_type": "code",
      "metadata": {
        "id": "dzUeZauod-cs",
        "outputId": "2930b2cf-f01b-4c86-9032-aefae443dbb9"
      },
      "source": [
        "values0.describe()"
      ],
      "id": "dzUeZauod-cs",
      "execution_count": null,
      "outputs": [
        {
          "output_type": "execute_result",
          "data": {
            "text/plain": [
              "count    1000.000000\n",
              "mean        0.408515\n",
              "std         0.274673\n",
              "min        -0.386922\n",
              "25%         0.218009\n",
              "50%         0.411835\n",
              "75%         0.592846\n",
              "max         1.239509\n",
              "dtype: float64"
            ]
          },
          "metadata": {
            "tags": []
          },
          "execution_count": 59
        }
      ]
    },
    {
      "cell_type": "code",
      "metadata": {
        "id": "bF2y7LKbd-cs",
        "outputId": "4df747ff-10c2-4eea-e74d-659f24997fdc"
      },
      "source": [
        "mean0 = values0.mean()\n",
        "lower0 = values0.quantile(0.025)\n",
        "upper0 = values0.quantile(0.975)\n",
        "risk0 = st.percentileofscore(values0, 0)\n",
        "print('_______________________________________________________________________________')\n",
        "print('Средняя прибыль первого региона млрд:',mean0)\n",
        "print('95% - ый доверительный интервал:')\n",
        "print('0.025% - ый квантиль',lower0)\n",
        "print('0.975% - ый квантиль',upper0)\n",
        "print('Вероятность убытков:',risk0,'%')\n",
        "print('_______________________________________________________________________________')"
      ],
      "id": "bF2y7LKbd-cs",
      "execution_count": null,
      "outputs": [
        {
          "output_type": "stream",
          "text": [
            "_______________________________________________________________________________\n",
            "Средняя прибыль первого региона млрд: 0.4085150538838965\n",
            "95% - ый доверительный интервал:\n",
            "0.025% - ый квантиль -0.1386784938819622\n",
            "0.975% - ый квантиль 0.9524149084140632\n",
            "Вероятность убытков: 7.4 %\n",
            "_______________________________________________________________________________\n"
          ],
          "name": "stdout"
        }
      ]
    },
    {
      "cell_type": "markdown",
      "metadata": {
        "id": "2b6UMEFwd-cs"
      },
      "source": [
        "<b>Распределение прибыли второго региона</b>"
      ],
      "id": "2b6UMEFwd-cs"
    },
    {
      "cell_type": "code",
      "metadata": {
        "id": "_hSXp5g6d-cs",
        "outputId": "5da8a0eb-ded0-4051-9a33-9523adc210f6"
      },
      "source": [
        "values = []\n",
        "values1 = pd.Series(distribution_profit(target1,pred1))\n",
        "values1.hist()\n",
        "plt.xlabel('Прибыль')\n",
        "plt.ylabel('Кол-во скважин')\n",
        "plt.show()"
      ],
      "id": "_hSXp5g6d-cs",
      "execution_count": null,
      "outputs": [
        {
          "output_type": "display_data",
          "data": {
            "image/png": "[encoded data removed]",
            "text/plain": [
              "<Figure size 432x288 with 1 Axes>"
            ]
          },
          "metadata": {
            "tags": [],
            "needs_background": "light"
          }
        }
      ]
    },
    {
      "cell_type": "code",
      "metadata": {
        "id": "T1bmwxcRd-cs",
        "outputId": "0352b365-200c-4b3c-b1fc-462786d95ecf"
      },
      "source": [
        "values1.describe()"
      ],
      "id": "T1bmwxcRd-cs",
      "execution_count": null,
      "outputs": [
        {
          "output_type": "execute_result",
          "data": {
            "text/plain": [
              "count    1000.000000\n",
              "mean        0.436120\n",
              "std         0.206289\n",
              "min        -0.145867\n",
              "25%         0.292937\n",
              "50%         0.437039\n",
              "75%         0.572603\n",
              "max         1.145464\n",
              "dtype: float64"
            ]
          },
          "metadata": {
            "tags": []
          },
          "execution_count": 62
        }
      ]
    },
    {
      "cell_type": "code",
      "metadata": {
        "id": "IQN_fqHld-cs",
        "outputId": "8a4b2509-899e-4292-9f51-f34cf0f53cd3"
      },
      "source": [
        "mean1 = values1.mean()\n",
        "lower1 = values1.quantile(0.025)\n",
        "upper1 = values1.quantile(0.975)\n",
        "risk1 = st.percentileofscore(values1, 0)\n",
        "print('_______________________________________________________________________________')\n",
        "print('Средняя прибыль второго региона млрд:',mean1)\n",
        "print('95% - ый доверительный интервал:')\n",
        "print('0.025% - ый квантиль',lower1)\n",
        "print('0.975% - ый квантиль',upper1)\n",
        "print('Вероятность убытков:',risk1,'%')\n",
        "print('_______________________________________________________________________________')"
      ],
      "id": "IQN_fqHld-cs",
      "execution_count": null,
      "outputs": [
        {
          "output_type": "stream",
          "text": [
            "_______________________________________________________________________________\n",
            "Средняя прибыль второго региона млрд: 0.4361195136368177\n",
            "95% - ый доверительный интервал:\n",
            "0.025% - ый квантиль 0.02887873265524146\n",
            "0.975% - ый квантиль 0.8658319125385555\n",
            "Вероятность убытков: 1.7 %\n",
            "_______________________________________________________________________________\n"
          ],
          "name": "stdout"
        }
      ]
    },
    {
      "cell_type": "markdown",
      "metadata": {
        "id": "ViM9bn7Dd-ct"
      },
      "source": [
        "<b>Распределение прибыли третьего региона</b>"
      ],
      "id": "ViM9bn7Dd-ct"
    },
    {
      "cell_type": "code",
      "metadata": {
        "id": "zExmLzbOd-ct",
        "outputId": "2e4c191c-fc61-4e0f-dc25-265689ef0068"
      },
      "source": [
        "values = []\n",
        "values2 = pd.Series(distribution_profit(target2,pred2))\n",
        "values2.hist()\n",
        "plt.xlabel('Прибыль')\n",
        "plt.ylabel('Кол-во скважин')\n",
        "plt.show()"
      ],
      "id": "zExmLzbOd-ct",
      "execution_count": null,
      "outputs": [
        {
          "output_type": "display_data",
          "data": {
            "image/png": "[encoded data removed]",
            "text/plain": [
              "<Figure size 432x288 with 1 Axes>"
            ]
          },
          "metadata": {
            "tags": [],
            "needs_background": "light"
          }
        }
      ]
    },
    {
      "cell_type": "code",
      "metadata": {
        "id": "PplnTQBrd-ct",
        "outputId": "e0731a9d-47b0-4665-b10c-f82206143888"
      },
      "source": [
        "values2.describe()"
      ],
      "id": "PplnTQBrd-ct",
      "execution_count": null,
      "outputs": [
        {
          "output_type": "execute_result",
          "data": {
            "text/plain": [
              "count    1000.000000\n",
              "mean        0.385038\n",
              "std         0.275281\n",
              "min        -0.619131\n",
              "25%         0.206359\n",
              "50%         0.402097\n",
              "75%         0.573986\n",
              "max         1.141921\n",
              "dtype: float64"
            ]
          },
          "metadata": {
            "tags": []
          },
          "execution_count": 65
        }
      ]
    },
    {
      "cell_type": "code",
      "metadata": {
        "id": "16fS4mdYd-ct",
        "outputId": "9e34d46b-43b5-4e6c-c37a-1ca2bdeb1fe8"
      },
      "source": [
        "mean2 = values2.mean()\n",
        "lower2 = values2.quantile(0.025)\n",
        "upper2 = values2.quantile(0.975)\n",
        "risk2 = st.percentileofscore(values2, 0)\n",
        "print('_______________________________________________________________________________')\n",
        "print('Средняя прибыль третьего региона млрд:',mean2)\n",
        "print('95% - ый доверительный интервал:')\n",
        "print('0.025% - ый квантиль',lower2)\n",
        "print('0.975% - ый квантиль',upper2)\n",
        "print('Вероятность убытков:',risk2,'%')\n",
        "print('_______________________________________________________________________________')"
      ],
      "id": "16fS4mdYd-ct",
      "execution_count": null,
      "outputs": [
        {
          "output_type": "stream",
          "text": [
            "_______________________________________________________________________________\n",
            "Средняя прибыль третьего региона млрд: 0.3850378680361557\n",
            "95% - ый доверительный интервал:\n",
            "0.025% - ый квантиль -0.1858627346571884\n",
            "0.975% - ый квантиль 0.8854393962295972\n",
            "Вероятность убытков: 8.6 %\n",
            "_______________________________________________________________________________\n"
          ],
          "name": "stdout"
        }
      ]
    },
    {
      "cell_type": "markdown",
      "metadata": {
        "id": "it16-vtdd-cu"
      },
      "source": [
        "## Вывод\n",
        "1. По средней прибыли все регионы вписываются в безубыточную разработку скважин.\n",
        "2. Вероятность убытков меньше 2.5% наблюдается только у второго региона, поэтому он рекомендуемый регион для разработки скважин.\n",
        "<br>\n",
        "<table width=\"70%\" align=\"left\">\n",
        "    <tr>\n",
        "        <th>Регион</th>\n",
        "        <th>Средняя прибыль, млрд</th>\n",
        "        <th>95% дов. инт.</th>\n",
        "        <th>Вероятность убытков, %</th>\n",
        "    </tr>\n",
        "    <tr>\n",
        "        <th>Первый</th>\n",
        "        <th>0.4085</th>\n",
        "        <th>(-0.1386, 0.9524)</th>\n",
        "        <th>7.4</th>\n",
        "    </tr>\n",
        "     <tr>\n",
        "        <th>Второй</th>\n",
        "        <th>0.4361</th>\n",
        "        <th>(0.0288, 0.8658)</th>\n",
        "         <th>1.7</th>\n",
        "    </tr>\n",
        "    <tr>\n",
        "        <th>Третий</th>\n",
        "        <th>0.3850</th>\n",
        "        <th>(-0.1858, 0.8854)</th>\n",
        "        <th>8.6</th>\n",
        "    </tr>\n",
        "</table>\n"
      ],
      "id": "it16-vtdd-cu"
    },
    {
      "cell_type": "markdown",
      "metadata": {
        "id": "2_U3OIe7d-cu"
      },
      "source": [
        "## Чек-лист готовности проекта"
      ],
      "id": "2_U3OIe7d-cu"
    },
    {
      "cell_type": "markdown",
      "metadata": {
        "id": "7uZRodgpd-cv"
      },
      "source": [
        "Поставьте 'x' в выполненных пунктах. Далее нажмите Shift+Enter."
      ],
      "id": "7uZRodgpd-cv"
    },
    {
      "cell_type": "markdown",
      "metadata": {
        "id": "ZxrkJvUKd-cv"
      },
      "source": [
        "- [x]  Jupyter Notebook открыт\n",
        "- [x]  Весь код выполняется без ошибок\n",
        "- [x]  Ячейки с кодом расположены в порядке исполнения\n",
        "- [x]  Выполнен шаг 1: данные подготовлены\n",
        "- [x]  Выполнен шаг 2: модели обучены и проверены\n",
        "    - [x]  Данные корректно разбиты на обучающую и валидационную выборки\n",
        "    - [x]  Модели обучены, предсказания сделаны\n",
        "    - [x]  Предсказания и правильные ответы на валидационной выборке сохранены\n",
        "    - [x]  На экране напечатаны результаты\n",
        "    - [x]  Сделаны выводы\n",
        "- [x]  Выполнен шаг 3: проведена подготовка к расчёту прибыли\n",
        "    - [x]  Для всех ключевых значений созданы константы Python\n",
        "    - [x]  Посчитано минимальное среднее количество продукта в месторождениях региона, достаточное для разработки\n",
        "    - [x]  По предыдущему пункту сделаны выводы\n",
        "    - [x]  Написана функция расчёта прибыли\n",
        "- [x]  Выполнен шаг 4: посчитаны риски и прибыль\n",
        "    - [x]  Проведена процедура *Bootstrap*\n",
        "    - [x]  Все параметры бутстрепа соответствуют условию\n",
        "    - [x]  Найдены все нужные величины\n",
        "    - [x]  Предложен регион для разработки месторождения\n",
        "    - [x]  Выбор региона обоснован"
      ],
      "id": "ZxrkJvUKd-cv"
    }
  ]
}