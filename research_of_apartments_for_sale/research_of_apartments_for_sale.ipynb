{
  "nbformat": 4,
  "nbformat_minor": 0,
  "metadata": {
    "kernelspec": {
      "display_name": "Python 3",
      "language": "python",
      "name": "python3"
    },
    "language_info": {
      "codemirror_mode": {
        "name": "ipython",
        "version": 3
      },
      "file_extension": ".py",
      "mimetype": "text/x-python",
      "name": "python",
      "nbconvert_exporter": "python",
      "pygments_lexer": "ipython3",
      "version": "3.7.8"
    },
    "toc": {
      "base_numbering": 1,
      "nav_menu": {},
      "number_sections": true,
      "sideBar": true,
      "skip_h1_title": true,
      "title_cell": "Table of Contents",
      "title_sidebar": "Contents",
      "toc_cell": false,
      "toc_position": {},
      "toc_section_display": true,
      "toc_window_display": false
    },
    "colab": {
      "name": "research_of_apartments_for_sale.ipynb",
      "provenance": [],
      "collapsed_sections": [
        "5gBFkuIjbVWQ"
      ],
      "toc_visible": true
    }
  },
  "cells": [
    {
      "cell_type": "markdown",
      "metadata": {
        "id": "cL8qDa0HbVWC"
      },
      "source": [
        "## Исследование объявлений о продаже квартир\n",
        "\n",
        "В вашем распоряжении данные сервиса Яндекс.Недвижимость — архив объявлений о продаже квартир в Санкт-Петербурге и соседних населённых пунктов за несколько лет. Нужно научиться определять рыночную стоимость объектов недвижимости. Ваша задача — установить параметры. Это позволит построить автоматизированную систему: она отследит аномалии и мошенническую деятельность. \n",
        "\n",
        "По каждой квартире на продажу доступны два вида данных. Первые вписаны пользователем, вторые — получены автоматически на основе картографических данных. Например, расстояние до центра, аэропорта, ближайшего парка и водоёма. "
      ]
    },
    {
      "cell_type": "markdown",
      "metadata": {
        "id": "gZ2j7aaEbVWC"
      },
      "source": [
        "## Цель проекта\n",
        "Необходимо научиться определять рыночную стоимость недвижимости в г. Санкт-Петербург и соседних населеных пунктах. Для этого нужно выяснить от каких параметров зависит стоимость недвижимости. "
      ]
    },
    {
      "cell_type": "markdown",
      "metadata": {
        "id": "_tTCwDVgbVWD"
      },
      "source": [
        "## Шаг 1. Откройте файл с данными и изучите общую информацию. "
      ]
    },
    {
      "cell_type": "markdown",
      "metadata": {
        "id": "LF0vSD0HbVWD"
      },
      "source": [
        "<div style=\"font-size: 20px\"><b>Откроем датасет и изучим общую информацию о данных</b></div> <br>\n",
        "Некоторые проблемы можно увидеть и обычным просмотром датасета через Excel, но воспользуемся некоторыми методами Pandas."
      ]
    },
    {
      "cell_type": "code",
      "metadata": {
        "id": "idR9fcZdbVWD"
      },
      "source": [
        "# <объявление библиотек>\n",
        "import pandas as pd\n",
        "import seaborn as sn\n",
        "import matplotlib.pyplot as plt"
      ],
      "execution_count": null,
      "outputs": []
    },
    {
      "cell_type": "code",
      "metadata": {
        "id": "2rerPZ-FbVWE",
        "outputId": "bc4a268f-a9dc-4f2a-b60a-f01c9c314d81"
      },
      "source": [
        "df = pd.read_csv('/datasets/real_estate_data.csv', sep = '\\t')\n",
        "display(df)"
      ],
      "execution_count": null,
      "outputs": [
        {
          "output_type": "display_data",
          "data": {
            "text/html": [
              "<div>\n",
              "<style scoped>\n",
              "    .dataframe tbody tr th:only-of-type {\n",
              "        vertical-align: middle;\n",
              "    }\n",
              "\n",
              "    .dataframe tbody tr th {\n",
              "        vertical-align: top;\n",
              "    }\n",
              "\n",
              "    .dataframe thead th {\n",
              "        text-align: right;\n",
              "    }\n",
              "</style>\n",
              "<table border=\"1\" class=\"dataframe\">\n",
              "  <thead>\n",
              "    <tr style=\"text-align: right;\">\n",
              "      <th></th>\n",
              "      <th>total_images</th>\n",
              "      <th>last_price</th>\n",
              "      <th>total_area</th>\n",
              "      <th>first_day_exposition</th>\n",
              "      <th>rooms</th>\n",
              "      <th>ceiling_height</th>\n",
              "      <th>floors_total</th>\n",
              "      <th>living_area</th>\n",
              "      <th>floor</th>\n",
              "      <th>is_apartment</th>\n",
              "      <th>...</th>\n",
              "      <th>kitchen_area</th>\n",
              "      <th>balcony</th>\n",
              "      <th>locality_name</th>\n",
              "      <th>airports_nearest</th>\n",
              "      <th>cityCenters_nearest</th>\n",
              "      <th>parks_around3000</th>\n",
              "      <th>parks_nearest</th>\n",
              "      <th>ponds_around3000</th>\n",
              "      <th>ponds_nearest</th>\n",
              "      <th>days_exposition</th>\n",
              "    </tr>\n",
              "  </thead>\n",
              "  <tbody>\n",
              "    <tr>\n",
              "      <td>0</td>\n",
              "      <td>20</td>\n",
              "      <td>13000000.0</td>\n",
              "      <td>108.00</td>\n",
              "      <td>2019-03-07T00:00:00</td>\n",
              "      <td>3</td>\n",
              "      <td>2.70</td>\n",
              "      <td>16.0</td>\n",
              "      <td>51.0</td>\n",
              "      <td>8</td>\n",
              "      <td>NaN</td>\n",
              "      <td>...</td>\n",
              "      <td>25.00</td>\n",
              "      <td>NaN</td>\n",
              "      <td>Санкт-Петербург</td>\n",
              "      <td>18863.0</td>\n",
              "      <td>16028.0</td>\n",
              "      <td>1.0</td>\n",
              "      <td>482.0</td>\n",
              "      <td>2.0</td>\n",
              "      <td>755.0</td>\n",
              "      <td>NaN</td>\n",
              "    </tr>\n",
              "    <tr>\n",
              "      <td>1</td>\n",
              "      <td>7</td>\n",
              "      <td>3350000.0</td>\n",
              "      <td>40.40</td>\n",
              "      <td>2018-12-04T00:00:00</td>\n",
              "      <td>1</td>\n",
              "      <td>NaN</td>\n",
              "      <td>11.0</td>\n",
              "      <td>18.6</td>\n",
              "      <td>1</td>\n",
              "      <td>NaN</td>\n",
              "      <td>...</td>\n",
              "      <td>11.00</td>\n",
              "      <td>2.0</td>\n",
              "      <td>посёлок Шушары</td>\n",
              "      <td>12817.0</td>\n",
              "      <td>18603.0</td>\n",
              "      <td>0.0</td>\n",
              "      <td>NaN</td>\n",
              "      <td>0.0</td>\n",
              "      <td>NaN</td>\n",
              "      <td>81.0</td>\n",
              "    </tr>\n",
              "    <tr>\n",
              "      <td>2</td>\n",
              "      <td>10</td>\n",
              "      <td>5196000.0</td>\n",
              "      <td>56.00</td>\n",
              "      <td>2015-08-20T00:00:00</td>\n",
              "      <td>2</td>\n",
              "      <td>NaN</td>\n",
              "      <td>5.0</td>\n",
              "      <td>34.3</td>\n",
              "      <td>4</td>\n",
              "      <td>NaN</td>\n",
              "      <td>...</td>\n",
              "      <td>8.30</td>\n",
              "      <td>0.0</td>\n",
              "      <td>Санкт-Петербург</td>\n",
              "      <td>21741.0</td>\n",
              "      <td>13933.0</td>\n",
              "      <td>1.0</td>\n",
              "      <td>90.0</td>\n",
              "      <td>2.0</td>\n",
              "      <td>574.0</td>\n",
              "      <td>558.0</td>\n",
              "    </tr>\n",
              "    <tr>\n",
              "      <td>3</td>\n",
              "      <td>0</td>\n",
              "      <td>64900000.0</td>\n",
              "      <td>159.00</td>\n",
              "      <td>2015-07-24T00:00:00</td>\n",
              "      <td>3</td>\n",
              "      <td>NaN</td>\n",
              "      <td>14.0</td>\n",
              "      <td>NaN</td>\n",
              "      <td>9</td>\n",
              "      <td>NaN</td>\n",
              "      <td>...</td>\n",
              "      <td>NaN</td>\n",
              "      <td>0.0</td>\n",
              "      <td>Санкт-Петербург</td>\n",
              "      <td>28098.0</td>\n",
              "      <td>6800.0</td>\n",
              "      <td>2.0</td>\n",
              "      <td>84.0</td>\n",
              "      <td>3.0</td>\n",
              "      <td>234.0</td>\n",
              "      <td>424.0</td>\n",
              "    </tr>\n",
              "    <tr>\n",
              "      <td>4</td>\n",
              "      <td>2</td>\n",
              "      <td>10000000.0</td>\n",
              "      <td>100.00</td>\n",
              "      <td>2018-06-19T00:00:00</td>\n",
              "      <td>2</td>\n",
              "      <td>3.03</td>\n",
              "      <td>14.0</td>\n",
              "      <td>32.0</td>\n",
              "      <td>13</td>\n",
              "      <td>NaN</td>\n",
              "      <td>...</td>\n",
              "      <td>41.00</td>\n",
              "      <td>NaN</td>\n",
              "      <td>Санкт-Петербург</td>\n",
              "      <td>31856.0</td>\n",
              "      <td>8098.0</td>\n",
              "      <td>2.0</td>\n",
              "      <td>112.0</td>\n",
              "      <td>1.0</td>\n",
              "      <td>48.0</td>\n",
              "      <td>121.0</td>\n",
              "    </tr>\n",
              "    <tr>\n",
              "      <td>...</td>\n",
              "      <td>...</td>\n",
              "      <td>...</td>\n",
              "      <td>...</td>\n",
              "      <td>...</td>\n",
              "      <td>...</td>\n",
              "      <td>...</td>\n",
              "      <td>...</td>\n",
              "      <td>...</td>\n",
              "      <td>...</td>\n",
              "      <td>...</td>\n",
              "      <td>...</td>\n",
              "      <td>...</td>\n",
              "      <td>...</td>\n",
              "      <td>...</td>\n",
              "      <td>...</td>\n",
              "      <td>...</td>\n",
              "      <td>...</td>\n",
              "      <td>...</td>\n",
              "      <td>...</td>\n",
              "      <td>...</td>\n",
              "      <td>...</td>\n",
              "    </tr>\n",
              "    <tr>\n",
              "      <td>23694</td>\n",
              "      <td>9</td>\n",
              "      <td>9700000.0</td>\n",
              "      <td>133.81</td>\n",
              "      <td>2017-03-21T00:00:00</td>\n",
              "      <td>3</td>\n",
              "      <td>3.70</td>\n",
              "      <td>5.0</td>\n",
              "      <td>73.3</td>\n",
              "      <td>3</td>\n",
              "      <td>NaN</td>\n",
              "      <td>...</td>\n",
              "      <td>13.83</td>\n",
              "      <td>NaN</td>\n",
              "      <td>Санкт-Петербург</td>\n",
              "      <td>24665.0</td>\n",
              "      <td>4232.0</td>\n",
              "      <td>1.0</td>\n",
              "      <td>796.0</td>\n",
              "      <td>3.0</td>\n",
              "      <td>381.0</td>\n",
              "      <td>NaN</td>\n",
              "    </tr>\n",
              "    <tr>\n",
              "      <td>23695</td>\n",
              "      <td>14</td>\n",
              "      <td>3100000.0</td>\n",
              "      <td>59.00</td>\n",
              "      <td>2018-01-15T00:00:00</td>\n",
              "      <td>3</td>\n",
              "      <td>NaN</td>\n",
              "      <td>5.0</td>\n",
              "      <td>38.0</td>\n",
              "      <td>4</td>\n",
              "      <td>NaN</td>\n",
              "      <td>...</td>\n",
              "      <td>8.50</td>\n",
              "      <td>NaN</td>\n",
              "      <td>Тосно</td>\n",
              "      <td>NaN</td>\n",
              "      <td>NaN</td>\n",
              "      <td>NaN</td>\n",
              "      <td>NaN</td>\n",
              "      <td>NaN</td>\n",
              "      <td>NaN</td>\n",
              "      <td>45.0</td>\n",
              "    </tr>\n",
              "    <tr>\n",
              "      <td>23696</td>\n",
              "      <td>18</td>\n",
              "      <td>2500000.0</td>\n",
              "      <td>56.70</td>\n",
              "      <td>2018-02-11T00:00:00</td>\n",
              "      <td>2</td>\n",
              "      <td>NaN</td>\n",
              "      <td>3.0</td>\n",
              "      <td>29.7</td>\n",
              "      <td>1</td>\n",
              "      <td>NaN</td>\n",
              "      <td>...</td>\n",
              "      <td>NaN</td>\n",
              "      <td>NaN</td>\n",
              "      <td>село Рождествено</td>\n",
              "      <td>NaN</td>\n",
              "      <td>NaN</td>\n",
              "      <td>NaN</td>\n",
              "      <td>NaN</td>\n",
              "      <td>NaN</td>\n",
              "      <td>NaN</td>\n",
              "      <td>NaN</td>\n",
              "    </tr>\n",
              "    <tr>\n",
              "      <td>23697</td>\n",
              "      <td>13</td>\n",
              "      <td>11475000.0</td>\n",
              "      <td>76.75</td>\n",
              "      <td>2017-03-28T00:00:00</td>\n",
              "      <td>2</td>\n",
              "      <td>3.00</td>\n",
              "      <td>17.0</td>\n",
              "      <td>NaN</td>\n",
              "      <td>12</td>\n",
              "      <td>NaN</td>\n",
              "      <td>...</td>\n",
              "      <td>23.30</td>\n",
              "      <td>2.0</td>\n",
              "      <td>Санкт-Петербург</td>\n",
              "      <td>39140.0</td>\n",
              "      <td>10364.0</td>\n",
              "      <td>2.0</td>\n",
              "      <td>173.0</td>\n",
              "      <td>3.0</td>\n",
              "      <td>196.0</td>\n",
              "      <td>602.0</td>\n",
              "    </tr>\n",
              "    <tr>\n",
              "      <td>23698</td>\n",
              "      <td>4</td>\n",
              "      <td>1350000.0</td>\n",
              "      <td>32.30</td>\n",
              "      <td>2017-07-21T00:00:00</td>\n",
              "      <td>1</td>\n",
              "      <td>2.50</td>\n",
              "      <td>5.0</td>\n",
              "      <td>12.3</td>\n",
              "      <td>1</td>\n",
              "      <td>NaN</td>\n",
              "      <td>...</td>\n",
              "      <td>9.00</td>\n",
              "      <td>NaN</td>\n",
              "      <td>поселок Новый Учхоз</td>\n",
              "      <td>NaN</td>\n",
              "      <td>NaN</td>\n",
              "      <td>NaN</td>\n",
              "      <td>NaN</td>\n",
              "      <td>NaN</td>\n",
              "      <td>NaN</td>\n",
              "      <td>NaN</td>\n",
              "    </tr>\n",
              "  </tbody>\n",
              "</table>\n",
              "<p>23699 rows × 22 columns</p>\n",
              "</div>"
            ],
            "text/plain": [
              "       total_images  last_price  total_area first_day_exposition  rooms  \\\n",
              "0                20  13000000.0      108.00  2019-03-07T00:00:00      3   \n",
              "1                 7   3350000.0       40.40  2018-12-04T00:00:00      1   \n",
              "2                10   5196000.0       56.00  2015-08-20T00:00:00      2   \n",
              "3                 0  64900000.0      159.00  2015-07-24T00:00:00      3   \n",
              "4                 2  10000000.0      100.00  2018-06-19T00:00:00      2   \n",
              "...             ...         ...         ...                  ...    ...   \n",
              "23694             9   9700000.0      133.81  2017-03-21T00:00:00      3   \n",
              "23695            14   3100000.0       59.00  2018-01-15T00:00:00      3   \n",
              "23696            18   2500000.0       56.70  2018-02-11T00:00:00      2   \n",
              "23697            13  11475000.0       76.75  2017-03-28T00:00:00      2   \n",
              "23698             4   1350000.0       32.30  2017-07-21T00:00:00      1   \n",
              "\n",
              "       ceiling_height  floors_total  living_area  floor is_apartment  ...  \\\n",
              "0                2.70          16.0         51.0      8          NaN  ...   \n",
              "1                 NaN          11.0         18.6      1          NaN  ...   \n",
              "2                 NaN           5.0         34.3      4          NaN  ...   \n",
              "3                 NaN          14.0          NaN      9          NaN  ...   \n",
              "4                3.03          14.0         32.0     13          NaN  ...   \n",
              "...               ...           ...          ...    ...          ...  ...   \n",
              "23694            3.70           5.0         73.3      3          NaN  ...   \n",
              "23695             NaN           5.0         38.0      4          NaN  ...   \n",
              "23696             NaN           3.0         29.7      1          NaN  ...   \n",
              "23697            3.00          17.0          NaN     12          NaN  ...   \n",
              "23698            2.50           5.0         12.3      1          NaN  ...   \n",
              "\n",
              "       kitchen_area  balcony        locality_name  airports_nearest  \\\n",
              "0             25.00      NaN      Санкт-Петербург           18863.0   \n",
              "1             11.00      2.0       посёлок Шушары           12817.0   \n",
              "2              8.30      0.0      Санкт-Петербург           21741.0   \n",
              "3               NaN      0.0      Санкт-Петербург           28098.0   \n",
              "4             41.00      NaN      Санкт-Петербург           31856.0   \n",
              "...             ...      ...                  ...               ...   \n",
              "23694         13.83      NaN      Санкт-Петербург           24665.0   \n",
              "23695          8.50      NaN                Тосно               NaN   \n",
              "23696           NaN      NaN     село Рождествено               NaN   \n",
              "23697         23.30      2.0      Санкт-Петербург           39140.0   \n",
              "23698          9.00      NaN  поселок Новый Учхоз               NaN   \n",
              "\n",
              "      cityCenters_nearest  parks_around3000  parks_nearest  ponds_around3000  \\\n",
              "0                 16028.0               1.0          482.0               2.0   \n",
              "1                 18603.0               0.0            NaN               0.0   \n",
              "2                 13933.0               1.0           90.0               2.0   \n",
              "3                  6800.0               2.0           84.0               3.0   \n",
              "4                  8098.0               2.0          112.0               1.0   \n",
              "...                   ...               ...            ...               ...   \n",
              "23694              4232.0               1.0          796.0               3.0   \n",
              "23695                 NaN               NaN            NaN               NaN   \n",
              "23696                 NaN               NaN            NaN               NaN   \n",
              "23697             10364.0               2.0          173.0               3.0   \n",
              "23698                 NaN               NaN            NaN               NaN   \n",
              "\n",
              "       ponds_nearest  days_exposition  \n",
              "0              755.0              NaN  \n",
              "1                NaN             81.0  \n",
              "2              574.0            558.0  \n",
              "3              234.0            424.0  \n",
              "4               48.0            121.0  \n",
              "...              ...              ...  \n",
              "23694          381.0              NaN  \n",
              "23695            NaN             45.0  \n",
              "23696            NaN              NaN  \n",
              "23697          196.0            602.0  \n",
              "23698            NaN              NaN  \n",
              "\n",
              "[23699 rows x 22 columns]"
            ]
          },
          "metadata": {
            "tags": []
          }
        }
      ]
    },
    {
      "cell_type": "code",
      "metadata": {
        "id": "59Xmu9PVbVWE"
      },
      "source": [
        "# <приведем формат к читабельному виду>\n",
        "pd.options.display.float_format = '{:.2f}'.format"
      ],
      "execution_count": null,
      "outputs": []
    },
    {
      "cell_type": "code",
      "metadata": {
        "id": "gZMCDhlZbVWF",
        "outputId": "53cc1416-7852-4199-cb8b-9022e8b8c90f"
      },
      "source": [
        "# <посмотрим числовое описание данных для каждой колонки таблицы>\n",
        "df.describe()"
      ],
      "execution_count": null,
      "outputs": [
        {
          "output_type": "execute_result",
          "data": {
            "text/html": [
              "<div>\n",
              "<style scoped>\n",
              "    .dataframe tbody tr th:only-of-type {\n",
              "        vertical-align: middle;\n",
              "    }\n",
              "\n",
              "    .dataframe tbody tr th {\n",
              "        vertical-align: top;\n",
              "    }\n",
              "\n",
              "    .dataframe thead th {\n",
              "        text-align: right;\n",
              "    }\n",
              "</style>\n",
              "<table border=\"1\" class=\"dataframe\">\n",
              "  <thead>\n",
              "    <tr style=\"text-align: right;\">\n",
              "      <th></th>\n",
              "      <th>total_images</th>\n",
              "      <th>last_price</th>\n",
              "      <th>total_area</th>\n",
              "      <th>rooms</th>\n",
              "      <th>ceiling_height</th>\n",
              "      <th>floors_total</th>\n",
              "      <th>living_area</th>\n",
              "      <th>floor</th>\n",
              "      <th>kitchen_area</th>\n",
              "      <th>balcony</th>\n",
              "      <th>airports_nearest</th>\n",
              "      <th>cityCenters_nearest</th>\n",
              "      <th>parks_around3000</th>\n",
              "      <th>parks_nearest</th>\n",
              "      <th>ponds_around3000</th>\n",
              "      <th>ponds_nearest</th>\n",
              "      <th>days_exposition</th>\n",
              "    </tr>\n",
              "  </thead>\n",
              "  <tbody>\n",
              "    <tr>\n",
              "      <td>count</td>\n",
              "      <td>23699.00</td>\n",
              "      <td>23699.00</td>\n",
              "      <td>23699.00</td>\n",
              "      <td>23699.00</td>\n",
              "      <td>14504.00</td>\n",
              "      <td>23613.00</td>\n",
              "      <td>21796.00</td>\n",
              "      <td>23699.00</td>\n",
              "      <td>21421.00</td>\n",
              "      <td>12180.00</td>\n",
              "      <td>18157.00</td>\n",
              "      <td>18180.00</td>\n",
              "      <td>18181.00</td>\n",
              "      <td>8079.00</td>\n",
              "      <td>18181.00</td>\n",
              "      <td>9110.00</td>\n",
              "      <td>20518.00</td>\n",
              "    </tr>\n",
              "    <tr>\n",
              "      <td>mean</td>\n",
              "      <td>9.86</td>\n",
              "      <td>6541548.77</td>\n",
              "      <td>60.35</td>\n",
              "      <td>2.07</td>\n",
              "      <td>2.77</td>\n",
              "      <td>10.67</td>\n",
              "      <td>34.46</td>\n",
              "      <td>5.89</td>\n",
              "      <td>10.57</td>\n",
              "      <td>1.15</td>\n",
              "      <td>28793.67</td>\n",
              "      <td>14191.28</td>\n",
              "      <td>0.61</td>\n",
              "      <td>490.80</td>\n",
              "      <td>0.77</td>\n",
              "      <td>517.98</td>\n",
              "      <td>180.89</td>\n",
              "    </tr>\n",
              "    <tr>\n",
              "      <td>std</td>\n",
              "      <td>5.68</td>\n",
              "      <td>10887013.27</td>\n",
              "      <td>35.65</td>\n",
              "      <td>1.08</td>\n",
              "      <td>1.26</td>\n",
              "      <td>6.60</td>\n",
              "      <td>22.03</td>\n",
              "      <td>4.89</td>\n",
              "      <td>5.91</td>\n",
              "      <td>1.07</td>\n",
              "      <td>12630.88</td>\n",
              "      <td>8608.39</td>\n",
              "      <td>0.80</td>\n",
              "      <td>342.32</td>\n",
              "      <td>0.94</td>\n",
              "      <td>277.72</td>\n",
              "      <td>219.73</td>\n",
              "    </tr>\n",
              "    <tr>\n",
              "      <td>min</td>\n",
              "      <td>0.00</td>\n",
              "      <td>12190.00</td>\n",
              "      <td>12.00</td>\n",
              "      <td>0.00</td>\n",
              "      <td>1.00</td>\n",
              "      <td>1.00</td>\n",
              "      <td>2.00</td>\n",
              "      <td>1.00</td>\n",
              "      <td>1.30</td>\n",
              "      <td>0.00</td>\n",
              "      <td>0.00</td>\n",
              "      <td>181.00</td>\n",
              "      <td>0.00</td>\n",
              "      <td>1.00</td>\n",
              "      <td>0.00</td>\n",
              "      <td>13.00</td>\n",
              "      <td>1.00</td>\n",
              "    </tr>\n",
              "    <tr>\n",
              "      <td>25%</td>\n",
              "      <td>6.00</td>\n",
              "      <td>3400000.00</td>\n",
              "      <td>40.00</td>\n",
              "      <td>1.00</td>\n",
              "      <td>2.52</td>\n",
              "      <td>5.00</td>\n",
              "      <td>18.60</td>\n",
              "      <td>2.00</td>\n",
              "      <td>7.00</td>\n",
              "      <td>0.00</td>\n",
              "      <td>18585.00</td>\n",
              "      <td>9238.00</td>\n",
              "      <td>0.00</td>\n",
              "      <td>288.00</td>\n",
              "      <td>0.00</td>\n",
              "      <td>294.00</td>\n",
              "      <td>45.00</td>\n",
              "    </tr>\n",
              "    <tr>\n",
              "      <td>50%</td>\n",
              "      <td>9.00</td>\n",
              "      <td>4650000.00</td>\n",
              "      <td>52.00</td>\n",
              "      <td>2.00</td>\n",
              "      <td>2.65</td>\n",
              "      <td>9.00</td>\n",
              "      <td>30.00</td>\n",
              "      <td>4.00</td>\n",
              "      <td>9.10</td>\n",
              "      <td>1.00</td>\n",
              "      <td>26726.00</td>\n",
              "      <td>13098.50</td>\n",
              "      <td>0.00</td>\n",
              "      <td>455.00</td>\n",
              "      <td>1.00</td>\n",
              "      <td>502.00</td>\n",
              "      <td>95.00</td>\n",
              "    </tr>\n",
              "    <tr>\n",
              "      <td>75%</td>\n",
              "      <td>14.00</td>\n",
              "      <td>6800000.00</td>\n",
              "      <td>69.90</td>\n",
              "      <td>3.00</td>\n",
              "      <td>2.80</td>\n",
              "      <td>16.00</td>\n",
              "      <td>42.30</td>\n",
              "      <td>8.00</td>\n",
              "      <td>12.00</td>\n",
              "      <td>2.00</td>\n",
              "      <td>37273.00</td>\n",
              "      <td>16293.00</td>\n",
              "      <td>1.00</td>\n",
              "      <td>612.00</td>\n",
              "      <td>1.00</td>\n",
              "      <td>729.00</td>\n",
              "      <td>232.00</td>\n",
              "    </tr>\n",
              "    <tr>\n",
              "      <td>max</td>\n",
              "      <td>50.00</td>\n",
              "      <td>763000000.00</td>\n",
              "      <td>900.00</td>\n",
              "      <td>19.00</td>\n",
              "      <td>100.00</td>\n",
              "      <td>60.00</td>\n",
              "      <td>409.70</td>\n",
              "      <td>33.00</td>\n",
              "      <td>112.00</td>\n",
              "      <td>5.00</td>\n",
              "      <td>84869.00</td>\n",
              "      <td>65968.00</td>\n",
              "      <td>3.00</td>\n",
              "      <td>3190.00</td>\n",
              "      <td>3.00</td>\n",
              "      <td>1344.00</td>\n",
              "      <td>1580.00</td>\n",
              "    </tr>\n",
              "  </tbody>\n",
              "</table>\n",
              "</div>"
            ],
            "text/plain": [
              "       total_images   last_price  total_area    rooms  ceiling_height  \\\n",
              "count      23699.00     23699.00    23699.00 23699.00        14504.00   \n",
              "mean           9.86   6541548.77       60.35     2.07            2.77   \n",
              "std            5.68  10887013.27       35.65     1.08            1.26   \n",
              "min            0.00     12190.00       12.00     0.00            1.00   \n",
              "25%            6.00   3400000.00       40.00     1.00            2.52   \n",
              "50%            9.00   4650000.00       52.00     2.00            2.65   \n",
              "75%           14.00   6800000.00       69.90     3.00            2.80   \n",
              "max           50.00 763000000.00      900.00    19.00          100.00   \n",
              "\n",
              "       floors_total  living_area    floor  kitchen_area  balcony  \\\n",
              "count      23613.00     21796.00 23699.00      21421.00 12180.00   \n",
              "mean          10.67        34.46     5.89         10.57     1.15   \n",
              "std            6.60        22.03     4.89          5.91     1.07   \n",
              "min            1.00         2.00     1.00          1.30     0.00   \n",
              "25%            5.00        18.60     2.00          7.00     0.00   \n",
              "50%            9.00        30.00     4.00          9.10     1.00   \n",
              "75%           16.00        42.30     8.00         12.00     2.00   \n",
              "max           60.00       409.70    33.00        112.00     5.00   \n",
              "\n",
              "       airports_nearest  cityCenters_nearest  parks_around3000  parks_nearest  \\\n",
              "count          18157.00             18180.00          18181.00        8079.00   \n",
              "mean           28793.67             14191.28              0.61         490.80   \n",
              "std            12630.88              8608.39              0.80         342.32   \n",
              "min                0.00               181.00              0.00           1.00   \n",
              "25%            18585.00              9238.00              0.00         288.00   \n",
              "50%            26726.00             13098.50              0.00         455.00   \n",
              "75%            37273.00             16293.00              1.00         612.00   \n",
              "max            84869.00             65968.00              3.00        3190.00   \n",
              "\n",
              "       ponds_around3000  ponds_nearest  days_exposition  \n",
              "count          18181.00        9110.00         20518.00  \n",
              "mean               0.77         517.98           180.89  \n",
              "std                0.94         277.72           219.73  \n",
              "min                0.00          13.00             1.00  \n",
              "25%                0.00         294.00            45.00  \n",
              "50%                1.00         502.00            95.00  \n",
              "75%                1.00         729.00           232.00  \n",
              "max                3.00        1344.00          1580.00  "
            ]
          },
          "metadata": {
            "tags": []
          },
          "execution_count": 4
        }
      ]
    },
    {
      "cell_type": "code",
      "metadata": {
        "id": "ovvsDQCAbVWF",
        "outputId": "f4ed1621-2e1f-4c00-945a-26b75884aefc"
      },
      "source": [
        "# <посмотрим общую информацию о датасете>\n",
        "df.info()"
      ],
      "execution_count": null,
      "outputs": [
        {
          "output_type": "stream",
          "text": [
            "<class 'pandas.core.frame.DataFrame'>\n",
            "RangeIndex: 23699 entries, 0 to 23698\n",
            "Data columns (total 22 columns):\n",
            "total_images            23699 non-null int64\n",
            "last_price              23699 non-null float64\n",
            "total_area              23699 non-null float64\n",
            "first_day_exposition    23699 non-null object\n",
            "rooms                   23699 non-null int64\n",
            "ceiling_height          14504 non-null float64\n",
            "floors_total            23613 non-null float64\n",
            "living_area             21796 non-null float64\n",
            "floor                   23699 non-null int64\n",
            "is_apartment            2775 non-null object\n",
            "studio                  23699 non-null bool\n",
            "open_plan               23699 non-null bool\n",
            "kitchen_area            21421 non-null float64\n",
            "balcony                 12180 non-null float64\n",
            "locality_name           23650 non-null object\n",
            "airports_nearest        18157 non-null float64\n",
            "cityCenters_nearest     18180 non-null float64\n",
            "parks_around3000        18181 non-null float64\n",
            "parks_nearest           8079 non-null float64\n",
            "ponds_around3000        18181 non-null float64\n",
            "ponds_nearest           9110 non-null float64\n",
            "days_exposition         20518 non-null float64\n",
            "dtypes: bool(2), float64(14), int64(3), object(3)\n",
            "memory usage: 3.7+ MB\n"
          ],
          "name": "stdout"
        }
      ]
    },
    {
      "cell_type": "code",
      "metadata": {
        "id": "xgHILAP1bVWF",
        "outputId": "ae3bfc09-b7b1-463a-fe07-ebcee027434d"
      },
      "source": [
        "# <посмотрим количество пропусков в датасете>\n",
        "print(df.isnull().sum())"
      ],
      "execution_count": null,
      "outputs": [
        {
          "output_type": "stream",
          "text": [
            "total_images                0\n",
            "last_price                  0\n",
            "total_area                  0\n",
            "first_day_exposition        0\n",
            "rooms                       0\n",
            "ceiling_height           9195\n",
            "floors_total               86\n",
            "living_area              1903\n",
            "floor                       0\n",
            "is_apartment            20924\n",
            "studio                      0\n",
            "open_plan                   0\n",
            "kitchen_area             2278\n",
            "balcony                 11519\n",
            "locality_name              49\n",
            "airports_nearest         5542\n",
            "cityCenters_nearest      5519\n",
            "parks_around3000         5518\n",
            "parks_nearest           15620\n",
            "ponds_around3000         5518\n",
            "ponds_nearest           14589\n",
            "days_exposition          3181\n",
            "dtype: int64\n"
          ],
          "name": "stdout"
        }
      ]
    },
    {
      "cell_type": "code",
      "metadata": {
        "id": "V77ofcU8bVWF",
        "outputId": "b03471c1-87e5-4d6a-a4b7-0d72f30c4457"
      },
      "source": [
        "df.isnull().sum()*100 / len(df)"
      ],
      "execution_count": null,
      "outputs": [
        {
          "output_type": "execute_result",
          "data": {
            "text/plain": [
              "total_images            0.00\n",
              "last_price              0.00\n",
              "total_area              0.00\n",
              "first_day_exposition    0.00\n",
              "rooms                   0.00\n",
              "ceiling_height         38.80\n",
              "floors_total            0.36\n",
              "living_area             8.03\n",
              "floor                   0.00\n",
              "is_apartment           88.29\n",
              "studio                  0.00\n",
              "open_plan               0.00\n",
              "kitchen_area            9.61\n",
              "balcony                48.61\n",
              "locality_name           0.21\n",
              "airports_nearest       23.38\n",
              "cityCenters_nearest    23.29\n",
              "parks_around3000       23.28\n",
              "parks_nearest          65.91\n",
              "ponds_around3000       23.28\n",
              "ponds_nearest          61.56\n",
              "days_exposition        13.42\n",
              "dtype: float64"
            ]
          },
          "metadata": {
            "tags": []
          },
          "execution_count": 7
        }
      ]
    },
    {
      "cell_type": "code",
      "metadata": {
        "id": "9wdyN8CubVWG",
        "outputId": "19c5b8ad-17a3-47aa-e800-111625b54f4f"
      },
      "source": [
        "# <посмотрим количество дубликатов в датасете>\n",
        "print(df.duplicated().sum())"
      ],
      "execution_count": null,
      "outputs": [
        {
          "output_type": "stream",
          "text": [
            "0\n"
          ],
          "name": "stdout"
        }
      ]
    },
    {
      "cell_type": "code",
      "metadata": {
        "id": "YK6pjU6ebVWH",
        "outputId": "62657fb3-a867-449f-f104-31e061763935"
      },
      "source": [
        "# <посмотрим количество каких квартир(по количеству комнат) преобладает в датасете>\n",
        "print(df['rooms'].value_counts())"
      ],
      "execution_count": null,
      "outputs": [
        {
          "output_type": "stream",
          "text": [
            "1     8047\n",
            "2     7940\n",
            "3     5814\n",
            "4     1180\n",
            "5      326\n",
            "0      197\n",
            "6      105\n",
            "7       59\n",
            "8       12\n",
            "9        8\n",
            "10       3\n",
            "14       2\n",
            "11       2\n",
            "19       1\n",
            "12       1\n",
            "16       1\n",
            "15       1\n",
            "Name: rooms, dtype: int64\n"
          ],
          "name": "stdout"
        }
      ]
    },
    {
      "cell_type": "code",
      "metadata": {
        "id": "W9sR8uTMbVWH",
        "outputId": "ba42837b-d3d2-44a7-c3b2-56e7ab47bcf1"
      },
      "source": [
        "# <посмортим количество квартир - студий>\n",
        "print(df['studio'].value_counts())"
      ],
      "execution_count": null,
      "outputs": [
        {
          "output_type": "stream",
          "text": [
            "False    23550\n",
            "True       149\n",
            "Name: studio, dtype: int64\n"
          ],
          "name": "stdout"
        }
      ]
    },
    {
      "cell_type": "code",
      "metadata": {
        "id": "uH_zFaEMbVWH",
        "outputId": "33d30d21-b64a-496e-fe36-54c0cecbdb0f"
      },
      "source": [
        "# <посмортим количество квартир, где свободная планировка>\n",
        "print(df['open_plan'].value_counts())"
      ],
      "execution_count": null,
      "outputs": [
        {
          "output_type": "stream",
          "text": [
            "False    23632\n",
            "True        67\n",
            "Name: open_plan, dtype: int64\n"
          ],
          "name": "stdout"
        }
      ]
    },
    {
      "cell_type": "code",
      "metadata": {
        "id": "MV8DawEdbVWH",
        "outputId": "9fc83353-0506-4352-d7d6-4873389b17d0"
      },
      "source": [
        "# <посмортим количество квартир-апартаментов>\n",
        "print(df['is_apartment'].value_counts())"
      ],
      "execution_count": null,
      "outputs": [
        {
          "output_type": "stream",
          "text": [
            "False    2725\n",
            "True       50\n",
            "Name: is_apartment, dtype: int64\n"
          ],
          "name": "stdout"
        }
      ]
    },
    {
      "cell_type": "code",
      "metadata": {
        "id": "-ikBHVyBbVWH",
        "outputId": "0cc6517d-6534-4bf7-d35a-9b3fc20ceed5"
      },
      "source": [
        "# <посмортим количество домов по числу этажей>\n",
        "print(df['floors_total'].value_counts())"
      ],
      "execution_count": null,
      "outputs": [
        {
          "output_type": "stream",
          "text": [
            "5.00     5788\n",
            "9.00     3761\n",
            "16.00    1376\n",
            "12.00    1362\n",
            "4.00     1200\n",
            "10.00    1174\n",
            "25.00    1075\n",
            "6.00      914\n",
            "17.00     833\n",
            "3.00      668\n",
            "7.00      592\n",
            "14.00     553\n",
            "18.00     505\n",
            "24.00     469\n",
            "8.00      390\n",
            "2.00      383\n",
            "15.00     365\n",
            "23.00     352\n",
            "19.00     339\n",
            "22.00     286\n",
            "20.00     271\n",
            "13.00     229\n",
            "11.00     203\n",
            "27.00     164\n",
            "21.00     158\n",
            "26.00     124\n",
            "1.00       25\n",
            "35.00      24\n",
            "28.00      21\n",
            "36.00       3\n",
            "29.00       1\n",
            "60.00       1\n",
            "33.00       1\n",
            "52.00       1\n",
            "37.00       1\n",
            "34.00       1\n",
            "Name: floors_total, dtype: int64\n"
          ],
          "name": "stdout"
        }
      ]
    },
    {
      "cell_type": "code",
      "metadata": {
        "id": "4Y21OPNQbVWI",
        "outputId": "b9da650e-f7f3-4155-f3b3-482ded5f0360"
      },
      "source": [
        "# <посмотрим нет ли совпадающих названий, которые написаны по-разному>\n",
        "print(df['locality_name'].value_counts())"
      ],
      "execution_count": null,
      "outputs": [
        {
          "output_type": "stream",
          "text": [
            "Санкт-Петербург            15721\n",
            "посёлок Мурино               522\n",
            "посёлок Шушары               440\n",
            "Всеволожск                   398\n",
            "Пушкин                       369\n",
            "                           ...  \n",
            "деревня Хапо-Ое                1\n",
            "село Никольское                1\n",
            "поселок Ромашки                1\n",
            "деревня Русско                 1\n",
            "деревня Малая Романовка        1\n",
            "Name: locality_name, Length: 364, dtype: int64\n"
          ],
          "name": "stdout"
        }
      ]
    },
    {
      "cell_type": "code",
      "metadata": {
        "id": "4-pdrhqLbVWI",
        "outputId": "69e9db8a-7190-4bf2-9a9e-03609996ec22"
      },
      "source": [
        "df['locality_name'].unique().tolist()"
      ],
      "execution_count": null,
      "outputs": [
        {
          "output_type": "execute_result",
          "data": {
            "text/plain": [
              "['Санкт-Петербург',\n",
              " 'посёлок Шушары',\n",
              " 'городской посёлок Янино-1',\n",
              " 'посёлок Парголово',\n",
              " 'посёлок Мурино',\n",
              " 'Ломоносов',\n",
              " 'Сертолово',\n",
              " 'Петергоф',\n",
              " 'Пушкин',\n",
              " 'деревня Кудрово',\n",
              " 'Коммунар',\n",
              " 'Колпино',\n",
              " 'поселок городского типа Красный Бор',\n",
              " 'Гатчина',\n",
              " 'поселок Мурино',\n",
              " 'деревня Фёдоровское',\n",
              " 'Выборг',\n",
              " 'Кронштадт',\n",
              " 'Кировск',\n",
              " 'деревня Новое Девяткино',\n",
              " 'посёлок Металлострой',\n",
              " 'посёлок городского типа Лебяжье',\n",
              " 'посёлок городского типа Сиверский',\n",
              " 'поселок Молодцово',\n",
              " 'поселок городского типа Кузьмоловский',\n",
              " 'садовое товарищество Новая Ропша',\n",
              " 'Павловск',\n",
              " 'деревня Пикколово',\n",
              " 'Всеволожск',\n",
              " 'Волхов',\n",
              " 'Кингисепп',\n",
              " 'Приозерск',\n",
              " 'Сестрорецк',\n",
              " 'деревня Куттузи',\n",
              " 'посёлок Аннино',\n",
              " 'поселок городского типа Ефимовский',\n",
              " 'посёлок Плодовое',\n",
              " 'деревня Заклинье',\n",
              " 'поселок Торковичи',\n",
              " 'поселок Первомайское',\n",
              " 'Красное Село',\n",
              " 'посёлок Понтонный',\n",
              " 'Сясьстрой',\n",
              " 'деревня Старая',\n",
              " 'деревня Лесколово',\n",
              " 'посёлок Новый Свет',\n",
              " 'Сланцы',\n",
              " 'село Путилово',\n",
              " 'Ивангород',\n",
              " 'Мурино',\n",
              " 'Шлиссельбург',\n",
              " 'Никольское',\n",
              " 'Зеленогорск',\n",
              " 'Сосновый Бор',\n",
              " 'поселок Новый Свет',\n",
              " 'деревня Оржицы',\n",
              " 'деревня Кальтино',\n",
              " 'Кудрово',\n",
              " 'поселок Романовка',\n",
              " 'посёлок Бугры',\n",
              " 'поселок Бугры',\n",
              " 'поселок городского типа Рощино',\n",
              " 'Кириши',\n",
              " 'Луга',\n",
              " 'Волосово',\n",
              " 'Отрадное',\n",
              " 'село Павлово',\n",
              " 'поселок Оредеж',\n",
              " 'село Копорье',\n",
              " 'посёлок городского типа Красный Бор',\n",
              " 'посёлок Молодёжное',\n",
              " 'Тихвин',\n",
              " 'посёлок Победа',\n",
              " 'деревня Нурма',\n",
              " 'поселок городского типа Синявино',\n",
              " 'Тосно',\n",
              " 'посёлок городского типа Кузьмоловский',\n",
              " 'посёлок Стрельна',\n",
              " 'Бокситогорск',\n",
              " 'посёлок Александровская',\n",
              " 'деревня Лопухинка',\n",
              " 'Пикалёво',\n",
              " 'поселок Терволово',\n",
              " 'поселок городского типа Советский',\n",
              " 'Подпорожье',\n",
              " 'посёлок Петровское',\n",
              " 'посёлок городского типа Токсово',\n",
              " 'поселок Сельцо',\n",
              " 'посёлок городского типа Вырица',\n",
              " 'деревня Кипень',\n",
              " 'деревня Келози',\n",
              " 'деревня Вартемяги',\n",
              " 'посёлок Тельмана',\n",
              " 'поселок Севастьяново',\n",
              " 'городской поселок Большая Ижора',\n",
              " nan,\n",
              " 'городской посёлок Павлово',\n",
              " 'деревня Агалатово',\n",
              " 'посёлок Новогорелово',\n",
              " 'городской посёлок Лесогорский',\n",
              " 'деревня Лаголово',\n",
              " 'поселок Цвелодубово',\n",
              " 'поселок городского типа Рахья',\n",
              " 'поселок городского типа Вырица',\n",
              " 'деревня Белогорка',\n",
              " 'поселок Заводской',\n",
              " 'городской посёлок Новоселье',\n",
              " 'деревня Большие Колпаны',\n",
              " 'деревня Горбунки',\n",
              " 'деревня Батово',\n",
              " 'деревня Заневка',\n",
              " 'деревня Иссад',\n",
              " 'Приморск',\n",
              " 'городской посёлок Фёдоровское',\n",
              " 'деревня Мистолово',\n",
              " 'Новая Ладога',\n",
              " 'поселок Зимитицы',\n",
              " 'поселок Барышево',\n",
              " 'деревня Разметелево',\n",
              " 'поселок городского типа имени Свердлова',\n",
              " 'деревня Пеники',\n",
              " 'поселок Рябово',\n",
              " 'деревня Пудомяги',\n",
              " 'поселок станции Корнево',\n",
              " 'деревня Низино',\n",
              " 'деревня Бегуницы',\n",
              " 'посёлок Поляны',\n",
              " 'городской посёлок Мга',\n",
              " 'поселок Елизаветино',\n",
              " 'посёлок городского типа Кузнечное',\n",
              " 'деревня Колтуши',\n",
              " 'поселок Запорожское',\n",
              " 'посёлок городского типа Рощино',\n",
              " 'деревня Гостилицы',\n",
              " 'деревня Малое Карлино',\n",
              " 'посёлок Мичуринское',\n",
              " 'посёлок городского типа имени Морозова',\n",
              " 'посёлок Песочный',\n",
              " 'посёлок Сосново',\n",
              " 'деревня Аро',\n",
              " 'поселок Ильичёво',\n",
              " 'посёлок городского типа Тайцы',\n",
              " 'деревня Малое Верево',\n",
              " 'деревня Извара',\n",
              " 'поселок станции Вещево',\n",
              " 'село Паша',\n",
              " 'деревня Калитино',\n",
              " 'посёлок городского типа Ульяновка',\n",
              " 'деревня Чудской Бор',\n",
              " 'поселок городского типа Дубровка',\n",
              " 'деревня Мины',\n",
              " 'поселок Войсковицы',\n",
              " 'посёлок городского типа имени Свердлова',\n",
              " 'деревня Коркино',\n",
              " 'посёлок Ропша',\n",
              " 'поселок городского типа Приладожский',\n",
              " 'посёлок Щеглово',\n",
              " 'посёлок Гаврилово',\n",
              " 'Лодейное Поле',\n",
              " 'деревня Рабитицы',\n",
              " 'поселок городского типа Никольский',\n",
              " 'деревня Кузьмолово',\n",
              " 'деревня Малые Колпаны',\n",
              " 'поселок Тельмана',\n",
              " 'посёлок Петро-Славянка',\n",
              " 'городской посёлок Назия',\n",
              " 'посёлок Репино',\n",
              " 'посёлок Ильичёво',\n",
              " 'поселок Углово',\n",
              " 'поселок Старая Малукса',\n",
              " 'садовое товарищество Рахья',\n",
              " 'поселок Аннино',\n",
              " 'поселок Победа',\n",
              " 'деревня Меньково',\n",
              " 'деревня Старые Бегуницы',\n",
              " 'посёлок Сапёрный',\n",
              " 'поселок Семрино',\n",
              " 'поселок Гаврилово',\n",
              " 'поселок Глажево',\n",
              " 'поселок Кобринское',\n",
              " 'деревня Гарболово',\n",
              " 'деревня Юкки',\n",
              " 'поселок станции Приветнинское',\n",
              " 'деревня Мануйлово',\n",
              " 'деревня Пчева',\n",
              " 'поселок Поляны',\n",
              " 'поселок Цвылёво',\n",
              " 'поселок Мельниково',\n",
              " 'посёлок Пудость',\n",
              " 'посёлок Усть-Луга',\n",
              " 'Светогорск',\n",
              " 'Любань',\n",
              " 'поселок Селезнёво',\n",
              " 'поселок городского типа Рябово',\n",
              " 'Каменногорск',\n",
              " 'деревня Кривко',\n",
              " 'поселок Глебычево',\n",
              " 'деревня Парицы',\n",
              " 'поселок Жилпосёлок',\n",
              " 'посёлок городского типа Мга',\n",
              " 'городской поселок Янино-1',\n",
              " 'посёлок Войскорово',\n",
              " 'село Никольское',\n",
              " 'посёлок Терволово',\n",
              " 'поселок Стеклянный',\n",
              " 'посёлок городского типа Важины',\n",
              " 'посёлок Мыза-Ивановка',\n",
              " 'село Русско-Высоцкое',\n",
              " 'поселок городского типа Лебяжье',\n",
              " 'поселок городского типа Форносово',\n",
              " 'село Старая Ладога',\n",
              " 'поселок Житково',\n",
              " 'городской посёлок Виллози',\n",
              " 'деревня Лампово',\n",
              " 'деревня Шпаньково',\n",
              " 'деревня Лаврики',\n",
              " 'посёлок Сумино',\n",
              " 'посёлок Возрождение',\n",
              " 'деревня Старосиверская',\n",
              " 'посёлок Кикерино',\n",
              " 'поселок Возрождение',\n",
              " 'деревня Старое Хинколово',\n",
              " 'посёлок Пригородный',\n",
              " 'посёлок Торфяное',\n",
              " 'городской посёлок Будогощь',\n",
              " 'поселок Суходолье',\n",
              " 'поселок Красная Долина',\n",
              " 'деревня Хапо-Ое',\n",
              " 'поселок городского типа Дружная Горка',\n",
              " 'поселок Лисий Нос',\n",
              " 'деревня Яльгелево',\n",
              " 'посёлок Стеклянный',\n",
              " 'село Рождествено',\n",
              " 'деревня Старополье',\n",
              " 'посёлок Левашово',\n",
              " 'деревня Сяськелево',\n",
              " 'деревня Камышовка',\n",
              " 'садоводческое некоммерческое товарищество Лесная Поляна',\n",
              " 'деревня Хязельки',\n",
              " 'поселок Жилгородок',\n",
              " 'посёлок городского типа Павлово',\n",
              " 'деревня Ялгино',\n",
              " 'поселок Новый Учхоз',\n",
              " 'городской посёлок Рощино',\n",
              " 'поселок Гончарово',\n",
              " 'поселок Почап',\n",
              " 'посёлок Сапёрное',\n",
              " 'посёлок Платформа 69-й километр',\n",
              " 'поселок Каложицы',\n",
              " 'деревня Фалилеево',\n",
              " 'деревня Пельгора',\n",
              " 'поселок городского типа Лесогорский',\n",
              " 'деревня Торошковичи',\n",
              " 'посёлок Белоостров',\n",
              " 'посёлок Алексеевка',\n",
              " 'поселок Серебрянский',\n",
              " 'поселок Лукаши',\n",
              " 'поселок Петровское',\n",
              " 'деревня Щеглово',\n",
              " 'поселок Мичуринское',\n",
              " 'деревня Тарасово',\n",
              " 'поселок Кингисеппский',\n",
              " 'посёлок при железнодорожной станции Вещево',\n",
              " 'поселок Ушаки',\n",
              " 'деревня Котлы',\n",
              " 'деревня Сижно',\n",
              " 'деревня Торосово',\n",
              " 'посёлок Форт Красная Горка',\n",
              " 'поселок городского типа Токсово',\n",
              " 'деревня Новолисино',\n",
              " 'посёлок станции Громово',\n",
              " 'деревня Глинка',\n",
              " 'посёлок Мельниково',\n",
              " 'поселок городского типа Назия',\n",
              " 'деревня Старая Пустошь',\n",
              " 'поселок Коммунары',\n",
              " 'поселок Починок',\n",
              " 'посёлок городского типа Вознесенье',\n",
              " 'деревня Разбегаево',\n",
              " 'посёлок городского типа Рябово',\n",
              " 'поселок Гладкое',\n",
              " 'посёлок при железнодорожной станции Приветнинское',\n",
              " 'поселок Тёсово-4',\n",
              " 'посёлок Жилгородок',\n",
              " 'деревня Бор',\n",
              " 'посёлок Коробицыно',\n",
              " 'деревня Большая Вруда',\n",
              " 'деревня Курковицы',\n",
              " 'посёлок Лисий Нос',\n",
              " 'городской посёлок Советский',\n",
              " 'посёлок Кобралово',\n",
              " 'деревня Суоранда',\n",
              " 'поселок Кобралово',\n",
              " 'поселок городского типа Кондратьево',\n",
              " 'коттеджный поселок Счастье',\n",
              " 'поселок Любань',\n",
              " 'деревня Реброво',\n",
              " 'деревня Зимитицы',\n",
              " 'деревня Тойворово',\n",
              " 'поселок Семиозерье',\n",
              " 'поселок Лесное',\n",
              " 'поселок Совхозный',\n",
              " 'поселок Усть-Луга',\n",
              " 'посёлок Ленинское',\n",
              " 'посёлок Суйда',\n",
              " 'посёлок городского типа Форносово',\n",
              " 'деревня Нижние Осельки',\n",
              " 'посёлок станции Свирь',\n",
              " 'поселок Перово',\n",
              " 'Высоцк',\n",
              " 'поселок Гарболово',\n",
              " 'село Шум',\n",
              " 'поселок Котельский',\n",
              " 'поселок станции Лужайка',\n",
              " 'деревня Большая Пустомержа',\n",
              " 'поселок Красносельское',\n",
              " 'деревня Вахнова Кара',\n",
              " 'деревня Пижма',\n",
              " 'коттеджный поселок Кивеннапа Север',\n",
              " 'поселок Коробицыно',\n",
              " 'поселок Ромашки',\n",
              " 'посёлок Перово',\n",
              " 'деревня Каськово',\n",
              " 'деревня Куровицы',\n",
              " 'посёлок Плоское',\n",
              " 'поселок Сумино',\n",
              " 'поселок городского типа Большая Ижора',\n",
              " 'поселок Кирпичное',\n",
              " 'деревня Ям-Тесово',\n",
              " 'деревня Раздолье',\n",
              " 'деревня Терпилицы',\n",
              " 'посёлок Шугозеро',\n",
              " 'деревня Ваганово',\n",
              " 'поселок Пушное',\n",
              " 'садовое товарищество Садко',\n",
              " 'посёлок Усть-Ижора',\n",
              " 'деревня Выскатка',\n",
              " 'городской посёлок Свирьстрой',\n",
              " 'поселок Громово',\n",
              " 'деревня Кисельня',\n",
              " 'посёлок Старая Малукса',\n",
              " 'деревня Трубников Бор',\n",
              " 'поселок Калитино',\n",
              " 'посёлок Высокоключевой',\n",
              " 'садовое товарищество Приладожский',\n",
              " 'посёлок Пансионат Зелёный Бор',\n",
              " 'деревня Ненимяки',\n",
              " 'поселок Пансионат Зелёный Бор',\n",
              " 'деревня Снегирёвка',\n",
              " 'деревня Рапполово',\n",
              " 'деревня Пустынка',\n",
              " 'поселок Рабитицы',\n",
              " 'деревня Большой Сабск',\n",
              " 'деревня Русско',\n",
              " 'деревня Лупполово',\n",
              " 'деревня Большое Рейзино',\n",
              " 'деревня Малая Романовка',\n",
              " 'поселок Дружноселье',\n",
              " 'поселок Пчевжа',\n",
              " 'поселок Володарское',\n",
              " 'деревня Нижняя',\n",
              " 'коттеджный посёлок Лесное',\n",
              " 'деревня Тихковицы',\n",
              " 'деревня Борисова Грива',\n",
              " 'посёлок Дзержинского']"
            ]
          },
          "metadata": {
            "tags": []
          },
          "execution_count": 15
        }
      ]
    },
    {
      "cell_type": "markdown",
      "metadata": {
        "id": "5n-jkHlSbVWI"
      },
      "source": [
        "### Вывод\n",
        "\n",
        "На данном этапе выявленны следующие проблемы, которые необходимо решить:\n",
        "1. В некоторых столбцах встречаются очень много пропусков;\n",
        "2. Необходимо привести данные, в неторых столбцах, к нужным типам;\n",
        "3. Привести названия столбцов к подходящему названию и к одному регистру, выделяются столбцы: <i><b>'balcony'</b></i>, <i><b>'cityCenters_nearest'</b></i>, <i><b>'parks_around3000'</b></i> и <i><b>'ponds_around3000'</b></i>;\n",
        "4. Не совсем понятен столбец <i><b>'is_apartment'</b></i>, где-то просто пустое значение, а где-то False;\n",
        "5. В столбце <i><b>'rooms'</b></i> содержится большое количетсво квартир, у которых указано <i><b>0</b></i> комнат.\n",
        "6. Пропущены значения в столбце <i><b>'locality_name'</b></i>, вряд ли кто-то осуществляет покупку квартиры, не зная где она находится. Также там идет совпадение названий, например, 'посёлок Бугры','поселок Бугры', 'Мурино', 'поселок Мурино'. "
      ]
    },
    {
      "cell_type": "markdown",
      "metadata": {
        "id": "qo8Ms6G1bVWJ"
      },
      "source": [
        "## Шаг 2. Предобработка данных"
      ]
    },
    {
      "cell_type": "code",
      "metadata": {
        "id": "ACuj6JASbVWJ"
      },
      "source": [
        "# <приведем названия некоторых столбцов к понятному названию и к одному регистру методом rename()>\n",
        "df = df.rename(columns = {'balcony': 'number_balconies',\n",
        "                          'cityCenters_nearest': 'city_center_nearest', \n",
        "                          'parks_around3000': 'number_parks_around_3km', \n",
        "                          'ponds_around3000': 'number_ponds_around_3km'})"
      ],
      "execution_count": null,
      "outputs": []
    },
    {
      "cell_type": "code",
      "metadata": {
        "id": "6wAYSyg4bVWJ",
        "outputId": "3450db9d-9964-4d34-fb4c-41f4a2365c81"
      },
      "source": [
        "# <проверка>\n",
        "display(df)"
      ],
      "execution_count": null,
      "outputs": [
        {
          "output_type": "display_data",
          "data": {
            "text/html": [
              "<div>\n",
              "<style scoped>\n",
              "    .dataframe tbody tr th:only-of-type {\n",
              "        vertical-align: middle;\n",
              "    }\n",
              "\n",
              "    .dataframe tbody tr th {\n",
              "        vertical-align: top;\n",
              "    }\n",
              "\n",
              "    .dataframe thead th {\n",
              "        text-align: right;\n",
              "    }\n",
              "</style>\n",
              "<table border=\"1\" class=\"dataframe\">\n",
              "  <thead>\n",
              "    <tr style=\"text-align: right;\">\n",
              "      <th></th>\n",
              "      <th>total_images</th>\n",
              "      <th>last_price</th>\n",
              "      <th>total_area</th>\n",
              "      <th>first_day_exposition</th>\n",
              "      <th>rooms</th>\n",
              "      <th>ceiling_height</th>\n",
              "      <th>floors_total</th>\n",
              "      <th>living_area</th>\n",
              "      <th>floor</th>\n",
              "      <th>is_apartment</th>\n",
              "      <th>...</th>\n",
              "      <th>kitchen_area</th>\n",
              "      <th>number_balconies</th>\n",
              "      <th>locality_name</th>\n",
              "      <th>airports_nearest</th>\n",
              "      <th>city_center_nearest</th>\n",
              "      <th>number_parks_around_3km</th>\n",
              "      <th>parks_nearest</th>\n",
              "      <th>number_ponds_around_3km</th>\n",
              "      <th>ponds_nearest</th>\n",
              "      <th>days_exposition</th>\n",
              "    </tr>\n",
              "  </thead>\n",
              "  <tbody>\n",
              "    <tr>\n",
              "      <td>0</td>\n",
              "      <td>20</td>\n",
              "      <td>13000000.00</td>\n",
              "      <td>108.00</td>\n",
              "      <td>2019-03-07T00:00:00</td>\n",
              "      <td>3</td>\n",
              "      <td>2.70</td>\n",
              "      <td>16.00</td>\n",
              "      <td>51.00</td>\n",
              "      <td>8</td>\n",
              "      <td>NaN</td>\n",
              "      <td>...</td>\n",
              "      <td>25.00</td>\n",
              "      <td>nan</td>\n",
              "      <td>Санкт-Петербург</td>\n",
              "      <td>18863.00</td>\n",
              "      <td>16028.00</td>\n",
              "      <td>1.00</td>\n",
              "      <td>482.00</td>\n",
              "      <td>2.00</td>\n",
              "      <td>755.00</td>\n",
              "      <td>nan</td>\n",
              "    </tr>\n",
              "    <tr>\n",
              "      <td>1</td>\n",
              "      <td>7</td>\n",
              "      <td>3350000.00</td>\n",
              "      <td>40.40</td>\n",
              "      <td>2018-12-04T00:00:00</td>\n",
              "      <td>1</td>\n",
              "      <td>nan</td>\n",
              "      <td>11.00</td>\n",
              "      <td>18.60</td>\n",
              "      <td>1</td>\n",
              "      <td>NaN</td>\n",
              "      <td>...</td>\n",
              "      <td>11.00</td>\n",
              "      <td>2.00</td>\n",
              "      <td>посёлок Шушары</td>\n",
              "      <td>12817.00</td>\n",
              "      <td>18603.00</td>\n",
              "      <td>0.00</td>\n",
              "      <td>nan</td>\n",
              "      <td>0.00</td>\n",
              "      <td>nan</td>\n",
              "      <td>81.00</td>\n",
              "    </tr>\n",
              "    <tr>\n",
              "      <td>2</td>\n",
              "      <td>10</td>\n",
              "      <td>5196000.00</td>\n",
              "      <td>56.00</td>\n",
              "      <td>2015-08-20T00:00:00</td>\n",
              "      <td>2</td>\n",
              "      <td>nan</td>\n",
              "      <td>5.00</td>\n",
              "      <td>34.30</td>\n",
              "      <td>4</td>\n",
              "      <td>NaN</td>\n",
              "      <td>...</td>\n",
              "      <td>8.30</td>\n",
              "      <td>0.00</td>\n",
              "      <td>Санкт-Петербург</td>\n",
              "      <td>21741.00</td>\n",
              "      <td>13933.00</td>\n",
              "      <td>1.00</td>\n",
              "      <td>90.00</td>\n",
              "      <td>2.00</td>\n",
              "      <td>574.00</td>\n",
              "      <td>558.00</td>\n",
              "    </tr>\n",
              "    <tr>\n",
              "      <td>3</td>\n",
              "      <td>0</td>\n",
              "      <td>64900000.00</td>\n",
              "      <td>159.00</td>\n",
              "      <td>2015-07-24T00:00:00</td>\n",
              "      <td>3</td>\n",
              "      <td>nan</td>\n",
              "      <td>14.00</td>\n",
              "      <td>nan</td>\n",
              "      <td>9</td>\n",
              "      <td>NaN</td>\n",
              "      <td>...</td>\n",
              "      <td>nan</td>\n",
              "      <td>0.00</td>\n",
              "      <td>Санкт-Петербург</td>\n",
              "      <td>28098.00</td>\n",
              "      <td>6800.00</td>\n",
              "      <td>2.00</td>\n",
              "      <td>84.00</td>\n",
              "      <td>3.00</td>\n",
              "      <td>234.00</td>\n",
              "      <td>424.00</td>\n",
              "    </tr>\n",
              "    <tr>\n",
              "      <td>4</td>\n",
              "      <td>2</td>\n",
              "      <td>10000000.00</td>\n",
              "      <td>100.00</td>\n",
              "      <td>2018-06-19T00:00:00</td>\n",
              "      <td>2</td>\n",
              "      <td>3.03</td>\n",
              "      <td>14.00</td>\n",
              "      <td>32.00</td>\n",
              "      <td>13</td>\n",
              "      <td>NaN</td>\n",
              "      <td>...</td>\n",
              "      <td>41.00</td>\n",
              "      <td>nan</td>\n",
              "      <td>Санкт-Петербург</td>\n",
              "      <td>31856.00</td>\n",
              "      <td>8098.00</td>\n",
              "      <td>2.00</td>\n",
              "      <td>112.00</td>\n",
              "      <td>1.00</td>\n",
              "      <td>48.00</td>\n",
              "      <td>121.00</td>\n",
              "    </tr>\n",
              "    <tr>\n",
              "      <td>...</td>\n",
              "      <td>...</td>\n",
              "      <td>...</td>\n",
              "      <td>...</td>\n",
              "      <td>...</td>\n",
              "      <td>...</td>\n",
              "      <td>...</td>\n",
              "      <td>...</td>\n",
              "      <td>...</td>\n",
              "      <td>...</td>\n",
              "      <td>...</td>\n",
              "      <td>...</td>\n",
              "      <td>...</td>\n",
              "      <td>...</td>\n",
              "      <td>...</td>\n",
              "      <td>...</td>\n",
              "      <td>...</td>\n",
              "      <td>...</td>\n",
              "      <td>...</td>\n",
              "      <td>...</td>\n",
              "      <td>...</td>\n",
              "      <td>...</td>\n",
              "    </tr>\n",
              "    <tr>\n",
              "      <td>23694</td>\n",
              "      <td>9</td>\n",
              "      <td>9700000.00</td>\n",
              "      <td>133.81</td>\n",
              "      <td>2017-03-21T00:00:00</td>\n",
              "      <td>3</td>\n",
              "      <td>3.70</td>\n",
              "      <td>5.00</td>\n",
              "      <td>73.30</td>\n",
              "      <td>3</td>\n",
              "      <td>NaN</td>\n",
              "      <td>...</td>\n",
              "      <td>13.83</td>\n",
              "      <td>nan</td>\n",
              "      <td>Санкт-Петербург</td>\n",
              "      <td>24665.00</td>\n",
              "      <td>4232.00</td>\n",
              "      <td>1.00</td>\n",
              "      <td>796.00</td>\n",
              "      <td>3.00</td>\n",
              "      <td>381.00</td>\n",
              "      <td>nan</td>\n",
              "    </tr>\n",
              "    <tr>\n",
              "      <td>23695</td>\n",
              "      <td>14</td>\n",
              "      <td>3100000.00</td>\n",
              "      <td>59.00</td>\n",
              "      <td>2018-01-15T00:00:00</td>\n",
              "      <td>3</td>\n",
              "      <td>nan</td>\n",
              "      <td>5.00</td>\n",
              "      <td>38.00</td>\n",
              "      <td>4</td>\n",
              "      <td>NaN</td>\n",
              "      <td>...</td>\n",
              "      <td>8.50</td>\n",
              "      <td>nan</td>\n",
              "      <td>Тосно</td>\n",
              "      <td>nan</td>\n",
              "      <td>nan</td>\n",
              "      <td>nan</td>\n",
              "      <td>nan</td>\n",
              "      <td>nan</td>\n",
              "      <td>nan</td>\n",
              "      <td>45.00</td>\n",
              "    </tr>\n",
              "    <tr>\n",
              "      <td>23696</td>\n",
              "      <td>18</td>\n",
              "      <td>2500000.00</td>\n",
              "      <td>56.70</td>\n",
              "      <td>2018-02-11T00:00:00</td>\n",
              "      <td>2</td>\n",
              "      <td>nan</td>\n",
              "      <td>3.00</td>\n",
              "      <td>29.70</td>\n",
              "      <td>1</td>\n",
              "      <td>NaN</td>\n",
              "      <td>...</td>\n",
              "      <td>nan</td>\n",
              "      <td>nan</td>\n",
              "      <td>село Рождествено</td>\n",
              "      <td>nan</td>\n",
              "      <td>nan</td>\n",
              "      <td>nan</td>\n",
              "      <td>nan</td>\n",
              "      <td>nan</td>\n",
              "      <td>nan</td>\n",
              "      <td>nan</td>\n",
              "    </tr>\n",
              "    <tr>\n",
              "      <td>23697</td>\n",
              "      <td>13</td>\n",
              "      <td>11475000.00</td>\n",
              "      <td>76.75</td>\n",
              "      <td>2017-03-28T00:00:00</td>\n",
              "      <td>2</td>\n",
              "      <td>3.00</td>\n",
              "      <td>17.00</td>\n",
              "      <td>nan</td>\n",
              "      <td>12</td>\n",
              "      <td>NaN</td>\n",
              "      <td>...</td>\n",
              "      <td>23.30</td>\n",
              "      <td>2.00</td>\n",
              "      <td>Санкт-Петербург</td>\n",
              "      <td>39140.00</td>\n",
              "      <td>10364.00</td>\n",
              "      <td>2.00</td>\n",
              "      <td>173.00</td>\n",
              "      <td>3.00</td>\n",
              "      <td>196.00</td>\n",
              "      <td>602.00</td>\n",
              "    </tr>\n",
              "    <tr>\n",
              "      <td>23698</td>\n",
              "      <td>4</td>\n",
              "      <td>1350000.00</td>\n",
              "      <td>32.30</td>\n",
              "      <td>2017-07-21T00:00:00</td>\n",
              "      <td>1</td>\n",
              "      <td>2.50</td>\n",
              "      <td>5.00</td>\n",
              "      <td>12.30</td>\n",
              "      <td>1</td>\n",
              "      <td>NaN</td>\n",
              "      <td>...</td>\n",
              "      <td>9.00</td>\n",
              "      <td>nan</td>\n",
              "      <td>поселок Новый Учхоз</td>\n",
              "      <td>nan</td>\n",
              "      <td>nan</td>\n",
              "      <td>nan</td>\n",
              "      <td>nan</td>\n",
              "      <td>nan</td>\n",
              "      <td>nan</td>\n",
              "      <td>nan</td>\n",
              "    </tr>\n",
              "  </tbody>\n",
              "</table>\n",
              "<p>23699 rows × 22 columns</p>\n",
              "</div>"
            ],
            "text/plain": [
              "       total_images  last_price  total_area first_day_exposition  rooms  \\\n",
              "0                20 13000000.00      108.00  2019-03-07T00:00:00      3   \n",
              "1                 7  3350000.00       40.40  2018-12-04T00:00:00      1   \n",
              "2                10  5196000.00       56.00  2015-08-20T00:00:00      2   \n",
              "3                 0 64900000.00      159.00  2015-07-24T00:00:00      3   \n",
              "4                 2 10000000.00      100.00  2018-06-19T00:00:00      2   \n",
              "...             ...         ...         ...                  ...    ...   \n",
              "23694             9  9700000.00      133.81  2017-03-21T00:00:00      3   \n",
              "23695            14  3100000.00       59.00  2018-01-15T00:00:00      3   \n",
              "23696            18  2500000.00       56.70  2018-02-11T00:00:00      2   \n",
              "23697            13 11475000.00       76.75  2017-03-28T00:00:00      2   \n",
              "23698             4  1350000.00       32.30  2017-07-21T00:00:00      1   \n",
              "\n",
              "       ceiling_height  floors_total  living_area  floor is_apartment  ...  \\\n",
              "0                2.70         16.00        51.00      8          NaN  ...   \n",
              "1                 nan         11.00        18.60      1          NaN  ...   \n",
              "2                 nan          5.00        34.30      4          NaN  ...   \n",
              "3                 nan         14.00          nan      9          NaN  ...   \n",
              "4                3.03         14.00        32.00     13          NaN  ...   \n",
              "...               ...           ...          ...    ...          ...  ...   \n",
              "23694            3.70          5.00        73.30      3          NaN  ...   \n",
              "23695             nan          5.00        38.00      4          NaN  ...   \n",
              "23696             nan          3.00        29.70      1          NaN  ...   \n",
              "23697            3.00         17.00          nan     12          NaN  ...   \n",
              "23698            2.50          5.00        12.30      1          NaN  ...   \n",
              "\n",
              "       kitchen_area  number_balconies        locality_name  airports_nearest  \\\n",
              "0             25.00               nan      Санкт-Петербург          18863.00   \n",
              "1             11.00              2.00       посёлок Шушары          12817.00   \n",
              "2              8.30              0.00      Санкт-Петербург          21741.00   \n",
              "3               nan              0.00      Санкт-Петербург          28098.00   \n",
              "4             41.00               nan      Санкт-Петербург          31856.00   \n",
              "...             ...               ...                  ...               ...   \n",
              "23694         13.83               nan      Санкт-Петербург          24665.00   \n",
              "23695          8.50               nan                Тосно               nan   \n",
              "23696           nan               nan     село Рождествено               nan   \n",
              "23697         23.30              2.00      Санкт-Петербург          39140.00   \n",
              "23698          9.00               nan  поселок Новый Учхоз               nan   \n",
              "\n",
              "      city_center_nearest  number_parks_around_3km  parks_nearest  \\\n",
              "0                16028.00                     1.00         482.00   \n",
              "1                18603.00                     0.00            nan   \n",
              "2                13933.00                     1.00          90.00   \n",
              "3                 6800.00                     2.00          84.00   \n",
              "4                 8098.00                     2.00         112.00   \n",
              "...                   ...                      ...            ...   \n",
              "23694             4232.00                     1.00         796.00   \n",
              "23695                 nan                      nan            nan   \n",
              "23696                 nan                      nan            nan   \n",
              "23697            10364.00                     2.00         173.00   \n",
              "23698                 nan                      nan            nan   \n",
              "\n",
              "       number_ponds_around_3km  ponds_nearest  days_exposition  \n",
              "0                         2.00         755.00              nan  \n",
              "1                         0.00            nan            81.00  \n",
              "2                         2.00         574.00           558.00  \n",
              "3                         3.00         234.00           424.00  \n",
              "4                         1.00          48.00           121.00  \n",
              "...                        ...            ...              ...  \n",
              "23694                     3.00         381.00              nan  \n",
              "23695                      nan            nan            45.00  \n",
              "23696                      nan            nan              nan  \n",
              "23697                     3.00         196.00           602.00  \n",
              "23698                      nan            nan              nan  \n",
              "\n",
              "[23699 rows x 22 columns]"
            ]
          },
          "metadata": {
            "tags": []
          }
        }
      ]
    },
    {
      "cell_type": "markdown",
      "metadata": {
        "id": "TvsJDlgrbVWJ"
      },
      "source": [
        "### Обработка пропусков"
      ]
    },
    {
      "cell_type": "code",
      "metadata": {
        "id": "Jd4AM-eubVWJ"
      },
      "source": [
        "# <удаляем пропущенные значения в столбце 'locality_name'>\n",
        "df = df.dropna(subset = ['locality_name'])"
      ],
      "execution_count": null,
      "outputs": []
    },
    {
      "cell_type": "code",
      "metadata": {
        "id": "GVjWy22JbVWK",
        "outputId": "af066697-fc1c-43b9-da10-c126771818ac"
      },
      "source": [
        "# <проверка>\n",
        "df['locality_name'].isna().sum()"
      ],
      "execution_count": null,
      "outputs": [
        {
          "output_type": "execute_result",
          "data": {
            "text/plain": [
              "0"
            ]
          },
          "metadata": {
            "tags": []
          },
          "execution_count": 19
        }
      ]
    },
    {
      "cell_type": "code",
      "metadata": {
        "id": "OhMLwQjRbVWK",
        "outputId": "e082dc6f-2d95-41ed-b8d3-2d8b75eb1e16"
      },
      "source": [
        "# <количество названий 'locality_name'>\n",
        "print(len(df['locality_name'].value_counts()))"
      ],
      "execution_count": null,
      "outputs": [
        {
          "output_type": "stream",
          "text": [
            "364\n"
          ],
          "name": "stdout"
        }
      ]
    },
    {
      "cell_type": "code",
      "metadata": {
        "id": "qK6VEezRbVWK"
      },
      "source": [
        "# <заменяем 'ё' на 'е' в 'locality_name'>\n",
        "df['locality_name'] = df['locality_name'].str.replace('ё', 'е', regex=True)"
      ],
      "execution_count": null,
      "outputs": []
    },
    {
      "cell_type": "code",
      "metadata": {
        "id": "Ph9M9UdTbVWK"
      },
      "source": [
        "df['locality_name'] = df['locality_name'].str.replace('деревня Кудрово', 'Кудрово', regex=True)\n",
        "df['locality_name'] = df['locality_name'].str.replace('поселок Мурино', 'Мурино', regex=True)"
      ],
      "execution_count": null,
      "outputs": []
    },
    {
      "cell_type": "code",
      "metadata": {
        "id": "CDHJOUEkbVWK",
        "outputId": "ffe6e191-b176-46e6-c598-0992c3e5baeb"
      },
      "source": [
        "print(len(df['locality_name'].value_counts()))"
      ],
      "execution_count": null,
      "outputs": [
        {
          "output_type": "stream",
          "text": [
            "328\n"
          ],
          "name": "stdout"
        }
      ]
    },
    {
      "cell_type": "code",
      "metadata": {
        "id": "rKqiH2v1bVWL"
      },
      "source": [
        "# <замена пустых значений на 0 в столбце 'number_balconies'>\n",
        "df['number_balconies'] = df['number_balconies'].fillna(0)"
      ],
      "execution_count": null,
      "outputs": []
    },
    {
      "cell_type": "code",
      "metadata": {
        "id": "dox-PqusbVWL",
        "outputId": "b633587e-52eb-43df-a7ab-b91178b93dec"
      },
      "source": [
        "# <проверка>\n",
        "df['number_balconies'].isna().sum()"
      ],
      "execution_count": null,
      "outputs": [
        {
          "output_type": "execute_result",
          "data": {
            "text/plain": [
              "0"
            ]
          },
          "metadata": {
            "tags": []
          },
          "execution_count": 25
        }
      ]
    },
    {
      "cell_type": "code",
      "metadata": {
        "id": "YTWQ9ooDbVWL"
      },
      "source": [
        "# <замена пустых значений на 0 в столбце 'number_parks_around_3km'>\n",
        "df['number_parks_around_3km'] = df['number_parks_around_3km'].fillna(0)"
      ],
      "execution_count": null,
      "outputs": []
    },
    {
      "cell_type": "code",
      "metadata": {
        "id": "SwfGs4HmbVWL"
      },
      "source": [
        "# <замена пустых значений на 0 в столбце 'number_ponds_around_3km'>\n",
        "df['number_ponds_around_3km'] = df['number_ponds_around_3km'].fillna(0)"
      ],
      "execution_count": null,
      "outputs": []
    },
    {
      "cell_type": "code",
      "metadata": {
        "id": "pWf-0amhbVWL"
      },
      "source": [
        "# <заменим пропуски в столбце 'floors_total' на медиану по каждому названию населенного пункта>\n",
        "df['floors_total'] = df.groupby('locality_name')['floors_total'].transform(lambda x: x.fillna(x.median()))"
      ],
      "execution_count": null,
      "outputs": []
    },
    {
      "cell_type": "code",
      "metadata": {
        "id": "Q6ZoEm8lbVWL"
      },
      "source": [
        "# <в столбце 'is_apartment' NaN заменим на False, так как в основном объекты жилового фонда>\n",
        "df['is_apartment'] = df['is_apartment'].fillna(0)"
      ],
      "execution_count": null,
      "outputs": []
    },
    {
      "cell_type": "code",
      "metadata": {
        "id": "ZHPNk8jabVWL"
      },
      "source": [
        "df.loc[df['last_price'] == 12190.00, 'last_price'] = 1219000.00"
      ],
      "execution_count": null,
      "outputs": []
    },
    {
      "cell_type": "code",
      "metadata": {
        "id": "8u89eYp2bVWM",
        "outputId": "48de27d0-be65-4b61-a424-26109be67f31"
      },
      "source": [
        "df.isna().sum()"
      ],
      "execution_count": null,
      "outputs": [
        {
          "output_type": "execute_result",
          "data": {
            "text/plain": [
              "total_images                   0\n",
              "last_price                     0\n",
              "total_area                     0\n",
              "first_day_exposition           0\n",
              "rooms                          0\n",
              "ceiling_height              9160\n",
              "floors_total                   0\n",
              "living_area                 1898\n",
              "floor                          0\n",
              "is_apartment                   0\n",
              "studio                         0\n",
              "open_plan                      0\n",
              "kitchen_area                2269\n",
              "number_balconies               0\n",
              "locality_name                  0\n",
              "airports_nearest            5534\n",
              "city_center_nearest         5511\n",
              "number_parks_around_3km        0\n",
              "parks_nearest              15586\n",
              "number_ponds_around_3km        0\n",
              "ponds_nearest              14565\n",
              "days_exposition             3180\n",
              "dtype: int64"
            ]
          },
          "metadata": {
            "tags": []
          },
          "execution_count": 31
        }
      ]
    },
    {
      "cell_type": "markdown",
      "metadata": {
        "id": "4B0JmYU5bVWM"
      },
      "source": [
        "### Вывод\n",
        "1. Заменили пропуски на <b>0</b> в трех столбцах, так как в случаях с числом балконов, парков и водоемов(в пределах 3 км) может не быть вовсе. Возможно пропуски появились из-за того, что пользователь не заполнил полностью информацию, либо не знает ее(о парках или водоемах). Также есть вероятность, что человек соединил балкон с какой-либо комнатой и забыл, что это был когда-то балкон. \n",
        "2. Отсутсвие значений в таких столбцах как <b><i>'locality_name'</i></b>, <b><i>'airports_nearest'</i></b>, <b><i>'city_center_nearest'</i></b>, <b><i>'parks_nearest'</i></b>, <b><i>'ponds_nearest'</i></b>, возможно, обусловленно тем, что система не смогла рассчитать автоматически данные расстояния. Произойти это может из-за того, что пользователь не указал координаты, геолокацию расположения квартиры.\n",
        "3. Отсутсвие значений в столбце <b><i>'days_exposition'</i></b>, возможно, обусловленно тем, что объявление до сих пор размещено.\n",
        "4. Так же встречаются пустые значения в столбцах <b><i>'ceiling_height'</i></b>, <b><i>'floors_total'</i></b>, <b><i>'is_apartment'</i></b>. Данные показатели также скорее всего не стремятся заполнять пользователи, так как они одни из самых основных. Мало кто захочет, к примеру, квартиру с потолками 2.40. Жить в доме, где 25 этажей(где очень много квартир и жильцов). Или покупать квартиру в апартаментах, так как, мало кто знает, что квартплата там на порядок выше, чем в обычных квартирах."
      ]
    },
    {
      "cell_type": "markdown",
      "metadata": {
        "id": "nbYbDjkSbVWN"
      },
      "source": [
        "### Приведение данных к нужным типам"
      ]
    },
    {
      "cell_type": "code",
      "metadata": {
        "id": "ysFj7vh1bVWN",
        "outputId": "6b681b34-9c61-4546-cb3b-daeef6dc42bb"
      },
      "source": [
        "df.info()"
      ],
      "execution_count": null,
      "outputs": [
        {
          "output_type": "stream",
          "text": [
            "<class 'pandas.core.frame.DataFrame'>\n",
            "Int64Index: 23650 entries, 0 to 23698\n",
            "Data columns (total 22 columns):\n",
            "total_images               23650 non-null int64\n",
            "last_price                 23650 non-null float64\n",
            "total_area                 23650 non-null float64\n",
            "first_day_exposition       23650 non-null object\n",
            "rooms                      23650 non-null int64\n",
            "ceiling_height             14490 non-null float64\n",
            "floors_total               23650 non-null float64\n",
            "living_area                21752 non-null float64\n",
            "floor                      23650 non-null int64\n",
            "is_apartment               23650 non-null object\n",
            "studio                     23650 non-null bool\n",
            "open_plan                  23650 non-null bool\n",
            "kitchen_area               21381 non-null float64\n",
            "number_balconies           23650 non-null float64\n",
            "locality_name              23650 non-null object\n",
            "airports_nearest           18116 non-null float64\n",
            "city_center_nearest        18139 non-null float64\n",
            "number_parks_around_3km    23650 non-null float64\n",
            "parks_nearest              8064 non-null float64\n",
            "number_ponds_around_3km    23650 non-null float64\n",
            "ponds_nearest              9085 non-null float64\n",
            "days_exposition            20470 non-null float64\n",
            "dtypes: bool(2), float64(14), int64(3), object(3)\n",
            "memory usage: 3.8+ MB\n"
          ],
          "name": "stdout"
        }
      ]
    },
    {
      "cell_type": "code",
      "metadata": {
        "id": "3ZYaT01VbVWN"
      },
      "source": [
        "#<приводим столбец 'is_apartment' к типу bool>\n",
        "df['is_apartment'] = df['is_apartment'].astype('bool')"
      ],
      "execution_count": null,
      "outputs": []
    },
    {
      "cell_type": "code",
      "metadata": {
        "id": "RdVRSwQTbVWN"
      },
      "source": [
        "#<приводим столбец 'number_balconies' к типу int>\n",
        "df['number_balconies'] = df['number_balconies'].astype('int')"
      ],
      "execution_count": null,
      "outputs": []
    },
    {
      "cell_type": "code",
      "metadata": {
        "id": "9vkHTE7YbVWN"
      },
      "source": [
        "#<приводим столбец 'floors_total' к типу int>\n",
        "df['floors_total'] = df['floors_total'].astype('int')"
      ],
      "execution_count": null,
      "outputs": []
    },
    {
      "cell_type": "code",
      "metadata": {
        "id": "cfXaC_LRbVWN"
      },
      "source": [
        "#<приводим столбец 'number_parks_around_3km' к типу int>\n",
        "df['number_parks_around_3km'] = df['number_parks_around_3km'].astype('int')"
      ],
      "execution_count": null,
      "outputs": []
    },
    {
      "cell_type": "code",
      "metadata": {
        "id": "p9arFnLHbVWO"
      },
      "source": [
        "#<приводим столбец 'number_ponds_around_3km' к типу int>\n",
        "df['number_ponds_around_3km'] = df['number_ponds_around_3km'].astype('int')"
      ],
      "execution_count": null,
      "outputs": []
    },
    {
      "cell_type": "code",
      "metadata": {
        "id": "0D_URBwnbVWO"
      },
      "source": [
        "df['first_day_exposition'] = pd.to_datetime(df['first_day_exposition'], format = \"%Y-%m-%dT%H:%M:%S\")"
      ],
      "execution_count": null,
      "outputs": []
    },
    {
      "cell_type": "code",
      "metadata": {
        "id": "XXRP1nErbVWO",
        "outputId": "efbe5172-72bf-4b13-dfe6-5a137e8a7182"
      },
      "source": [
        "df.info()"
      ],
      "execution_count": null,
      "outputs": [
        {
          "output_type": "stream",
          "text": [
            "<class 'pandas.core.frame.DataFrame'>\n",
            "Int64Index: 23650 entries, 0 to 23698\n",
            "Data columns (total 22 columns):\n",
            "total_images               23650 non-null int64\n",
            "last_price                 23650 non-null float64\n",
            "total_area                 23650 non-null float64\n",
            "first_day_exposition       23650 non-null datetime64[ns]\n",
            "rooms                      23650 non-null int64\n",
            "ceiling_height             14490 non-null float64\n",
            "floors_total               23650 non-null int64\n",
            "living_area                21752 non-null float64\n",
            "floor                      23650 non-null int64\n",
            "is_apartment               23650 non-null bool\n",
            "studio                     23650 non-null bool\n",
            "open_plan                  23650 non-null bool\n",
            "kitchen_area               21381 non-null float64\n",
            "number_balconies           23650 non-null int64\n",
            "locality_name              23650 non-null object\n",
            "airports_nearest           18116 non-null float64\n",
            "city_center_nearest        18139 non-null float64\n",
            "number_parks_around_3km    23650 non-null int64\n",
            "parks_nearest              8064 non-null float64\n",
            "number_ponds_around_3km    23650 non-null int64\n",
            "ponds_nearest              9085 non-null float64\n",
            "days_exposition            20470 non-null float64\n",
            "dtypes: bool(3), datetime64[ns](1), float64(10), int64(7), object(1)\n",
            "memory usage: 3.7+ MB\n"
          ],
          "name": "stdout"
        }
      ]
    },
    {
      "cell_type": "markdown",
      "metadata": {
        "id": "nhfHURBKbVWO"
      },
      "source": [
        "### Вывод\n",
        "1. Необходимо было заменить на тип <b>int</b> в столбцах <i><b>'number_balconies'</b></i>, <i><b>'floors_total'</b></i>, <i><b>'number_parks_around_3km'</b></i>, <i><b>'number_ponds_around_3km'</b></i>, так как там не может быть нецелочисленных значений.\n",
        "2. Столбец <i><b>'is_apartment'</b></i> приводим к типу <b>bool</b>, так как либо это аппартаменты, либо нет. \n",
        "3. Столбец <i><b>'first_day_exposition'</b></i> привели к нужному типу <b>datetime</b>, так как дата была строкой."
      ]
    },
    {
      "cell_type": "markdown",
      "metadata": {
        "id": "6ywF7yEWbVWO"
      },
      "source": [
        "## Шаг 3. Посчитайте и добавьте в таблицу"
      ]
    },
    {
      "cell_type": "code",
      "metadata": {
        "id": "YEvn2MDCbVWO",
        "outputId": "bc29f280-23d0-4494-8a44-a95ce09fd2ba"
      },
      "source": [
        "# <рассчитаем цену квадратного метра>\n",
        "df['price_per_meter'] = df['last_price'] / df['total_area']\n",
        "display(df)"
      ],
      "execution_count": null,
      "outputs": [
        {
          "output_type": "display_data",
          "data": {
            "text/html": [
              "<div>\n",
              "<style scoped>\n",
              "    .dataframe tbody tr th:only-of-type {\n",
              "        vertical-align: middle;\n",
              "    }\n",
              "\n",
              "    .dataframe tbody tr th {\n",
              "        vertical-align: top;\n",
              "    }\n",
              "\n",
              "    .dataframe thead th {\n",
              "        text-align: right;\n",
              "    }\n",
              "</style>\n",
              "<table border=\"1\" class=\"dataframe\">\n",
              "  <thead>\n",
              "    <tr style=\"text-align: right;\">\n",
              "      <th></th>\n",
              "      <th>total_images</th>\n",
              "      <th>last_price</th>\n",
              "      <th>total_area</th>\n",
              "      <th>first_day_exposition</th>\n",
              "      <th>rooms</th>\n",
              "      <th>ceiling_height</th>\n",
              "      <th>floors_total</th>\n",
              "      <th>living_area</th>\n",
              "      <th>floor</th>\n",
              "      <th>is_apartment</th>\n",
              "      <th>...</th>\n",
              "      <th>number_balconies</th>\n",
              "      <th>locality_name</th>\n",
              "      <th>airports_nearest</th>\n",
              "      <th>city_center_nearest</th>\n",
              "      <th>number_parks_around_3km</th>\n",
              "      <th>parks_nearest</th>\n",
              "      <th>number_ponds_around_3km</th>\n",
              "      <th>ponds_nearest</th>\n",
              "      <th>days_exposition</th>\n",
              "      <th>price_per_meter</th>\n",
              "    </tr>\n",
              "  </thead>\n",
              "  <tbody>\n",
              "    <tr>\n",
              "      <td>0</td>\n",
              "      <td>20</td>\n",
              "      <td>13000000.00</td>\n",
              "      <td>108.00</td>\n",
              "      <td>2019-03-07</td>\n",
              "      <td>3</td>\n",
              "      <td>2.70</td>\n",
              "      <td>16</td>\n",
              "      <td>51.00</td>\n",
              "      <td>8</td>\n",
              "      <td>False</td>\n",
              "      <td>...</td>\n",
              "      <td>0</td>\n",
              "      <td>Санкт-Петербург</td>\n",
              "      <td>18863.00</td>\n",
              "      <td>16028.00</td>\n",
              "      <td>1</td>\n",
              "      <td>482.00</td>\n",
              "      <td>2</td>\n",
              "      <td>755.00</td>\n",
              "      <td>nan</td>\n",
              "      <td>120370.37</td>\n",
              "    </tr>\n",
              "    <tr>\n",
              "      <td>1</td>\n",
              "      <td>7</td>\n",
              "      <td>3350000.00</td>\n",
              "      <td>40.40</td>\n",
              "      <td>2018-12-04</td>\n",
              "      <td>1</td>\n",
              "      <td>nan</td>\n",
              "      <td>11</td>\n",
              "      <td>18.60</td>\n",
              "      <td>1</td>\n",
              "      <td>False</td>\n",
              "      <td>...</td>\n",
              "      <td>2</td>\n",
              "      <td>поселок Шушары</td>\n",
              "      <td>12817.00</td>\n",
              "      <td>18603.00</td>\n",
              "      <td>0</td>\n",
              "      <td>nan</td>\n",
              "      <td>0</td>\n",
              "      <td>nan</td>\n",
              "      <td>81.00</td>\n",
              "      <td>82920.79</td>\n",
              "    </tr>\n",
              "    <tr>\n",
              "      <td>2</td>\n",
              "      <td>10</td>\n",
              "      <td>5196000.00</td>\n",
              "      <td>56.00</td>\n",
              "      <td>2015-08-20</td>\n",
              "      <td>2</td>\n",
              "      <td>nan</td>\n",
              "      <td>5</td>\n",
              "      <td>34.30</td>\n",
              "      <td>4</td>\n",
              "      <td>False</td>\n",
              "      <td>...</td>\n",
              "      <td>0</td>\n",
              "      <td>Санкт-Петербург</td>\n",
              "      <td>21741.00</td>\n",
              "      <td>13933.00</td>\n",
              "      <td>1</td>\n",
              "      <td>90.00</td>\n",
              "      <td>2</td>\n",
              "      <td>574.00</td>\n",
              "      <td>558.00</td>\n",
              "      <td>92785.71</td>\n",
              "    </tr>\n",
              "    <tr>\n",
              "      <td>3</td>\n",
              "      <td>0</td>\n",
              "      <td>64900000.00</td>\n",
              "      <td>159.00</td>\n",
              "      <td>2015-07-24</td>\n",
              "      <td>3</td>\n",
              "      <td>nan</td>\n",
              "      <td>14</td>\n",
              "      <td>nan</td>\n",
              "      <td>9</td>\n",
              "      <td>False</td>\n",
              "      <td>...</td>\n",
              "      <td>0</td>\n",
              "      <td>Санкт-Петербург</td>\n",
              "      <td>28098.00</td>\n",
              "      <td>6800.00</td>\n",
              "      <td>2</td>\n",
              "      <td>84.00</td>\n",
              "      <td>3</td>\n",
              "      <td>234.00</td>\n",
              "      <td>424.00</td>\n",
              "      <td>408176.10</td>\n",
              "    </tr>\n",
              "    <tr>\n",
              "      <td>4</td>\n",
              "      <td>2</td>\n",
              "      <td>10000000.00</td>\n",
              "      <td>100.00</td>\n",
              "      <td>2018-06-19</td>\n",
              "      <td>2</td>\n",
              "      <td>3.03</td>\n",
              "      <td>14</td>\n",
              "      <td>32.00</td>\n",
              "      <td>13</td>\n",
              "      <td>False</td>\n",
              "      <td>...</td>\n",
              "      <td>0</td>\n",
              "      <td>Санкт-Петербург</td>\n",
              "      <td>31856.00</td>\n",
              "      <td>8098.00</td>\n",
              "      <td>2</td>\n",
              "      <td>112.00</td>\n",
              "      <td>1</td>\n",
              "      <td>48.00</td>\n",
              "      <td>121.00</td>\n",
              "      <td>100000.00</td>\n",
              "    </tr>\n",
              "    <tr>\n",
              "      <td>...</td>\n",
              "      <td>...</td>\n",
              "      <td>...</td>\n",
              "      <td>...</td>\n",
              "      <td>...</td>\n",
              "      <td>...</td>\n",
              "      <td>...</td>\n",
              "      <td>...</td>\n",
              "      <td>...</td>\n",
              "      <td>...</td>\n",
              "      <td>...</td>\n",
              "      <td>...</td>\n",
              "      <td>...</td>\n",
              "      <td>...</td>\n",
              "      <td>...</td>\n",
              "      <td>...</td>\n",
              "      <td>...</td>\n",
              "      <td>...</td>\n",
              "      <td>...</td>\n",
              "      <td>...</td>\n",
              "      <td>...</td>\n",
              "      <td>...</td>\n",
              "    </tr>\n",
              "    <tr>\n",
              "      <td>23694</td>\n",
              "      <td>9</td>\n",
              "      <td>9700000.00</td>\n",
              "      <td>133.81</td>\n",
              "      <td>2017-03-21</td>\n",
              "      <td>3</td>\n",
              "      <td>3.70</td>\n",
              "      <td>5</td>\n",
              "      <td>73.30</td>\n",
              "      <td>3</td>\n",
              "      <td>False</td>\n",
              "      <td>...</td>\n",
              "      <td>0</td>\n",
              "      <td>Санкт-Петербург</td>\n",
              "      <td>24665.00</td>\n",
              "      <td>4232.00</td>\n",
              "      <td>1</td>\n",
              "      <td>796.00</td>\n",
              "      <td>3</td>\n",
              "      <td>381.00</td>\n",
              "      <td>nan</td>\n",
              "      <td>72490.85</td>\n",
              "    </tr>\n",
              "    <tr>\n",
              "      <td>23695</td>\n",
              "      <td>14</td>\n",
              "      <td>3100000.00</td>\n",
              "      <td>59.00</td>\n",
              "      <td>2018-01-15</td>\n",
              "      <td>3</td>\n",
              "      <td>nan</td>\n",
              "      <td>5</td>\n",
              "      <td>38.00</td>\n",
              "      <td>4</td>\n",
              "      <td>False</td>\n",
              "      <td>...</td>\n",
              "      <td>0</td>\n",
              "      <td>Тосно</td>\n",
              "      <td>nan</td>\n",
              "      <td>nan</td>\n",
              "      <td>0</td>\n",
              "      <td>nan</td>\n",
              "      <td>0</td>\n",
              "      <td>nan</td>\n",
              "      <td>45.00</td>\n",
              "      <td>52542.37</td>\n",
              "    </tr>\n",
              "    <tr>\n",
              "      <td>23696</td>\n",
              "      <td>18</td>\n",
              "      <td>2500000.00</td>\n",
              "      <td>56.70</td>\n",
              "      <td>2018-02-11</td>\n",
              "      <td>2</td>\n",
              "      <td>nan</td>\n",
              "      <td>3</td>\n",
              "      <td>29.70</td>\n",
              "      <td>1</td>\n",
              "      <td>False</td>\n",
              "      <td>...</td>\n",
              "      <td>0</td>\n",
              "      <td>село Рождествено</td>\n",
              "      <td>nan</td>\n",
              "      <td>nan</td>\n",
              "      <td>0</td>\n",
              "      <td>nan</td>\n",
              "      <td>0</td>\n",
              "      <td>nan</td>\n",
              "      <td>nan</td>\n",
              "      <td>44091.71</td>\n",
              "    </tr>\n",
              "    <tr>\n",
              "      <td>23697</td>\n",
              "      <td>13</td>\n",
              "      <td>11475000.00</td>\n",
              "      <td>76.75</td>\n",
              "      <td>2017-03-28</td>\n",
              "      <td>2</td>\n",
              "      <td>3.00</td>\n",
              "      <td>17</td>\n",
              "      <td>nan</td>\n",
              "      <td>12</td>\n",
              "      <td>False</td>\n",
              "      <td>...</td>\n",
              "      <td>2</td>\n",
              "      <td>Санкт-Петербург</td>\n",
              "      <td>39140.00</td>\n",
              "      <td>10364.00</td>\n",
              "      <td>2</td>\n",
              "      <td>173.00</td>\n",
              "      <td>3</td>\n",
              "      <td>196.00</td>\n",
              "      <td>602.00</td>\n",
              "      <td>149511.40</td>\n",
              "    </tr>\n",
              "    <tr>\n",
              "      <td>23698</td>\n",
              "      <td>4</td>\n",
              "      <td>1350000.00</td>\n",
              "      <td>32.30</td>\n",
              "      <td>2017-07-21</td>\n",
              "      <td>1</td>\n",
              "      <td>2.50</td>\n",
              "      <td>5</td>\n",
              "      <td>12.30</td>\n",
              "      <td>1</td>\n",
              "      <td>False</td>\n",
              "      <td>...</td>\n",
              "      <td>0</td>\n",
              "      <td>поселок Новый Учхоз</td>\n",
              "      <td>nan</td>\n",
              "      <td>nan</td>\n",
              "      <td>0</td>\n",
              "      <td>nan</td>\n",
              "      <td>0</td>\n",
              "      <td>nan</td>\n",
              "      <td>nan</td>\n",
              "      <td>41795.67</td>\n",
              "    </tr>\n",
              "  </tbody>\n",
              "</table>\n",
              "<p>23650 rows × 23 columns</p>\n",
              "</div>"
            ],
            "text/plain": [
              "       total_images  last_price  total_area first_day_exposition  rooms  \\\n",
              "0                20 13000000.00      108.00           2019-03-07      3   \n",
              "1                 7  3350000.00       40.40           2018-12-04      1   \n",
              "2                10  5196000.00       56.00           2015-08-20      2   \n",
              "3                 0 64900000.00      159.00           2015-07-24      3   \n",
              "4                 2 10000000.00      100.00           2018-06-19      2   \n",
              "...             ...         ...         ...                  ...    ...   \n",
              "23694             9  9700000.00      133.81           2017-03-21      3   \n",
              "23695            14  3100000.00       59.00           2018-01-15      3   \n",
              "23696            18  2500000.00       56.70           2018-02-11      2   \n",
              "23697            13 11475000.00       76.75           2017-03-28      2   \n",
              "23698             4  1350000.00       32.30           2017-07-21      1   \n",
              "\n",
              "       ceiling_height  floors_total  living_area  floor  is_apartment  ...  \\\n",
              "0                2.70            16        51.00      8         False  ...   \n",
              "1                 nan            11        18.60      1         False  ...   \n",
              "2                 nan             5        34.30      4         False  ...   \n",
              "3                 nan            14          nan      9         False  ...   \n",
              "4                3.03            14        32.00     13         False  ...   \n",
              "...               ...           ...          ...    ...           ...  ...   \n",
              "23694            3.70             5        73.30      3         False  ...   \n",
              "23695             nan             5        38.00      4         False  ...   \n",
              "23696             nan             3        29.70      1         False  ...   \n",
              "23697            3.00            17          nan     12         False  ...   \n",
              "23698            2.50             5        12.30      1         False  ...   \n",
              "\n",
              "       number_balconies        locality_name  airports_nearest  \\\n",
              "0                     0      Санкт-Петербург          18863.00   \n",
              "1                     2       поселок Шушары          12817.00   \n",
              "2                     0      Санкт-Петербург          21741.00   \n",
              "3                     0      Санкт-Петербург          28098.00   \n",
              "4                     0      Санкт-Петербург          31856.00   \n",
              "...                 ...                  ...               ...   \n",
              "23694                 0      Санкт-Петербург          24665.00   \n",
              "23695                 0                Тосно               nan   \n",
              "23696                 0     село Рождествено               nan   \n",
              "23697                 2      Санкт-Петербург          39140.00   \n",
              "23698                 0  поселок Новый Учхоз               nan   \n",
              "\n",
              "       city_center_nearest number_parks_around_3km  parks_nearest  \\\n",
              "0                 16028.00                       1         482.00   \n",
              "1                 18603.00                       0            nan   \n",
              "2                 13933.00                       1          90.00   \n",
              "3                  6800.00                       2          84.00   \n",
              "4                  8098.00                       2         112.00   \n",
              "...                    ...                     ...            ...   \n",
              "23694              4232.00                       1         796.00   \n",
              "23695                  nan                       0            nan   \n",
              "23696                  nan                       0            nan   \n",
              "23697             10364.00                       2         173.00   \n",
              "23698                  nan                       0            nan   \n",
              "\n",
              "       number_ponds_around_3km  ponds_nearest  days_exposition  \\\n",
              "0                            2         755.00              nan   \n",
              "1                            0            nan            81.00   \n",
              "2                            2         574.00           558.00   \n",
              "3                            3         234.00           424.00   \n",
              "4                            1          48.00           121.00   \n",
              "...                        ...            ...              ...   \n",
              "23694                        3         381.00              nan   \n",
              "23695                        0            nan            45.00   \n",
              "23696                        0            nan              nan   \n",
              "23697                        3         196.00           602.00   \n",
              "23698                        0            nan              nan   \n",
              "\n",
              "       price_per_meter  \n",
              "0            120370.37  \n",
              "1             82920.79  \n",
              "2             92785.71  \n",
              "3            408176.10  \n",
              "4            100000.00  \n",
              "...                ...  \n",
              "23694         72490.85  \n",
              "23695         52542.37  \n",
              "23696         44091.71  \n",
              "23697        149511.40  \n",
              "23698         41795.67  \n",
              "\n",
              "[23650 rows x 23 columns]"
            ]
          },
          "metadata": {
            "tags": []
          }
        }
      ]
    },
    {
      "cell_type": "code",
      "metadata": {
        "id": "jHewUUTnbVWP",
        "outputId": "82250ab8-693b-455f-dad3-f6fc3871f515"
      },
      "source": [
        "# <выведем в столбцы день недели, месяц, год публикации>\n",
        "df[\"weekday_public\"] = df['first_day_exposition'].dt.day_name() \n",
        "df[\"month_public\"] = df['first_day_exposition'].dt.month_name()\n",
        "df[\"year_public\"] = df['first_day_exposition'].dt.year\n",
        "display(df)"
      ],
      "execution_count": null,
      "outputs": [
        {
          "output_type": "display_data",
          "data": {
            "text/html": [
              "<div>\n",
              "<style scoped>\n",
              "    .dataframe tbody tr th:only-of-type {\n",
              "        vertical-align: middle;\n",
              "    }\n",
              "\n",
              "    .dataframe tbody tr th {\n",
              "        vertical-align: top;\n",
              "    }\n",
              "\n",
              "    .dataframe thead th {\n",
              "        text-align: right;\n",
              "    }\n",
              "</style>\n",
              "<table border=\"1\" class=\"dataframe\">\n",
              "  <thead>\n",
              "    <tr style=\"text-align: right;\">\n",
              "      <th></th>\n",
              "      <th>total_images</th>\n",
              "      <th>last_price</th>\n",
              "      <th>total_area</th>\n",
              "      <th>first_day_exposition</th>\n",
              "      <th>rooms</th>\n",
              "      <th>ceiling_height</th>\n",
              "      <th>floors_total</th>\n",
              "      <th>living_area</th>\n",
              "      <th>floor</th>\n",
              "      <th>is_apartment</th>\n",
              "      <th>...</th>\n",
              "      <th>city_center_nearest</th>\n",
              "      <th>number_parks_around_3km</th>\n",
              "      <th>parks_nearest</th>\n",
              "      <th>number_ponds_around_3km</th>\n",
              "      <th>ponds_nearest</th>\n",
              "      <th>days_exposition</th>\n",
              "      <th>price_per_meter</th>\n",
              "      <th>weekday_public</th>\n",
              "      <th>month_public</th>\n",
              "      <th>year_public</th>\n",
              "    </tr>\n",
              "  </thead>\n",
              "  <tbody>\n",
              "    <tr>\n",
              "      <td>0</td>\n",
              "      <td>20</td>\n",
              "      <td>13000000.00</td>\n",
              "      <td>108.00</td>\n",
              "      <td>2019-03-07</td>\n",
              "      <td>3</td>\n",
              "      <td>2.70</td>\n",
              "      <td>16</td>\n",
              "      <td>51.00</td>\n",
              "      <td>8</td>\n",
              "      <td>False</td>\n",
              "      <td>...</td>\n",
              "      <td>16028.00</td>\n",
              "      <td>1</td>\n",
              "      <td>482.00</td>\n",
              "      <td>2</td>\n",
              "      <td>755.00</td>\n",
              "      <td>nan</td>\n",
              "      <td>120370.37</td>\n",
              "      <td>Thursday</td>\n",
              "      <td>March</td>\n",
              "      <td>2019</td>\n",
              "    </tr>\n",
              "    <tr>\n",
              "      <td>1</td>\n",
              "      <td>7</td>\n",
              "      <td>3350000.00</td>\n",
              "      <td>40.40</td>\n",
              "      <td>2018-12-04</td>\n",
              "      <td>1</td>\n",
              "      <td>nan</td>\n",
              "      <td>11</td>\n",
              "      <td>18.60</td>\n",
              "      <td>1</td>\n",
              "      <td>False</td>\n",
              "      <td>...</td>\n",
              "      <td>18603.00</td>\n",
              "      <td>0</td>\n",
              "      <td>nan</td>\n",
              "      <td>0</td>\n",
              "      <td>nan</td>\n",
              "      <td>81.00</td>\n",
              "      <td>82920.79</td>\n",
              "      <td>Tuesday</td>\n",
              "      <td>December</td>\n",
              "      <td>2018</td>\n",
              "    </tr>\n",
              "    <tr>\n",
              "      <td>2</td>\n",
              "      <td>10</td>\n",
              "      <td>5196000.00</td>\n",
              "      <td>56.00</td>\n",
              "      <td>2015-08-20</td>\n",
              "      <td>2</td>\n",
              "      <td>nan</td>\n",
              "      <td>5</td>\n",
              "      <td>34.30</td>\n",
              "      <td>4</td>\n",
              "      <td>False</td>\n",
              "      <td>...</td>\n",
              "      <td>13933.00</td>\n",
              "      <td>1</td>\n",
              "      <td>90.00</td>\n",
              "      <td>2</td>\n",
              "      <td>574.00</td>\n",
              "      <td>558.00</td>\n",
              "      <td>92785.71</td>\n",
              "      <td>Thursday</td>\n",
              "      <td>August</td>\n",
              "      <td>2015</td>\n",
              "    </tr>\n",
              "    <tr>\n",
              "      <td>3</td>\n",
              "      <td>0</td>\n",
              "      <td>64900000.00</td>\n",
              "      <td>159.00</td>\n",
              "      <td>2015-07-24</td>\n",
              "      <td>3</td>\n",
              "      <td>nan</td>\n",
              "      <td>14</td>\n",
              "      <td>nan</td>\n",
              "      <td>9</td>\n",
              "      <td>False</td>\n",
              "      <td>...</td>\n",
              "      <td>6800.00</td>\n",
              "      <td>2</td>\n",
              "      <td>84.00</td>\n",
              "      <td>3</td>\n",
              "      <td>234.00</td>\n",
              "      <td>424.00</td>\n",
              "      <td>408176.10</td>\n",
              "      <td>Friday</td>\n",
              "      <td>July</td>\n",
              "      <td>2015</td>\n",
              "    </tr>\n",
              "    <tr>\n",
              "      <td>4</td>\n",
              "      <td>2</td>\n",
              "      <td>10000000.00</td>\n",
              "      <td>100.00</td>\n",
              "      <td>2018-06-19</td>\n",
              "      <td>2</td>\n",
              "      <td>3.03</td>\n",
              "      <td>14</td>\n",
              "      <td>32.00</td>\n",
              "      <td>13</td>\n",
              "      <td>False</td>\n",
              "      <td>...</td>\n",
              "      <td>8098.00</td>\n",
              "      <td>2</td>\n",
              "      <td>112.00</td>\n",
              "      <td>1</td>\n",
              "      <td>48.00</td>\n",
              "      <td>121.00</td>\n",
              "      <td>100000.00</td>\n",
              "      <td>Tuesday</td>\n",
              "      <td>June</td>\n",
              "      <td>2018</td>\n",
              "    </tr>\n",
              "    <tr>\n",
              "      <td>...</td>\n",
              "      <td>...</td>\n",
              "      <td>...</td>\n",
              "      <td>...</td>\n",
              "      <td>...</td>\n",
              "      <td>...</td>\n",
              "      <td>...</td>\n",
              "      <td>...</td>\n",
              "      <td>...</td>\n",
              "      <td>...</td>\n",
              "      <td>...</td>\n",
              "      <td>...</td>\n",
              "      <td>...</td>\n",
              "      <td>...</td>\n",
              "      <td>...</td>\n",
              "      <td>...</td>\n",
              "      <td>...</td>\n",
              "      <td>...</td>\n",
              "      <td>...</td>\n",
              "      <td>...</td>\n",
              "      <td>...</td>\n",
              "      <td>...</td>\n",
              "    </tr>\n",
              "    <tr>\n",
              "      <td>23694</td>\n",
              "      <td>9</td>\n",
              "      <td>9700000.00</td>\n",
              "      <td>133.81</td>\n",
              "      <td>2017-03-21</td>\n",
              "      <td>3</td>\n",
              "      <td>3.70</td>\n",
              "      <td>5</td>\n",
              "      <td>73.30</td>\n",
              "      <td>3</td>\n",
              "      <td>False</td>\n",
              "      <td>...</td>\n",
              "      <td>4232.00</td>\n",
              "      <td>1</td>\n",
              "      <td>796.00</td>\n",
              "      <td>3</td>\n",
              "      <td>381.00</td>\n",
              "      <td>nan</td>\n",
              "      <td>72490.85</td>\n",
              "      <td>Tuesday</td>\n",
              "      <td>March</td>\n",
              "      <td>2017</td>\n",
              "    </tr>\n",
              "    <tr>\n",
              "      <td>23695</td>\n",
              "      <td>14</td>\n",
              "      <td>3100000.00</td>\n",
              "      <td>59.00</td>\n",
              "      <td>2018-01-15</td>\n",
              "      <td>3</td>\n",
              "      <td>nan</td>\n",
              "      <td>5</td>\n",
              "      <td>38.00</td>\n",
              "      <td>4</td>\n",
              "      <td>False</td>\n",
              "      <td>...</td>\n",
              "      <td>nan</td>\n",
              "      <td>0</td>\n",
              "      <td>nan</td>\n",
              "      <td>0</td>\n",
              "      <td>nan</td>\n",
              "      <td>45.00</td>\n",
              "      <td>52542.37</td>\n",
              "      <td>Monday</td>\n",
              "      <td>January</td>\n",
              "      <td>2018</td>\n",
              "    </tr>\n",
              "    <tr>\n",
              "      <td>23696</td>\n",
              "      <td>18</td>\n",
              "      <td>2500000.00</td>\n",
              "      <td>56.70</td>\n",
              "      <td>2018-02-11</td>\n",
              "      <td>2</td>\n",
              "      <td>nan</td>\n",
              "      <td>3</td>\n",
              "      <td>29.70</td>\n",
              "      <td>1</td>\n",
              "      <td>False</td>\n",
              "      <td>...</td>\n",
              "      <td>nan</td>\n",
              "      <td>0</td>\n",
              "      <td>nan</td>\n",
              "      <td>0</td>\n",
              "      <td>nan</td>\n",
              "      <td>nan</td>\n",
              "      <td>44091.71</td>\n",
              "      <td>Sunday</td>\n",
              "      <td>February</td>\n",
              "      <td>2018</td>\n",
              "    </tr>\n",
              "    <tr>\n",
              "      <td>23697</td>\n",
              "      <td>13</td>\n",
              "      <td>11475000.00</td>\n",
              "      <td>76.75</td>\n",
              "      <td>2017-03-28</td>\n",
              "      <td>2</td>\n",
              "      <td>3.00</td>\n",
              "      <td>17</td>\n",
              "      <td>nan</td>\n",
              "      <td>12</td>\n",
              "      <td>False</td>\n",
              "      <td>...</td>\n",
              "      <td>10364.00</td>\n",
              "      <td>2</td>\n",
              "      <td>173.00</td>\n",
              "      <td>3</td>\n",
              "      <td>196.00</td>\n",
              "      <td>602.00</td>\n",
              "      <td>149511.40</td>\n",
              "      <td>Tuesday</td>\n",
              "      <td>March</td>\n",
              "      <td>2017</td>\n",
              "    </tr>\n",
              "    <tr>\n",
              "      <td>23698</td>\n",
              "      <td>4</td>\n",
              "      <td>1350000.00</td>\n",
              "      <td>32.30</td>\n",
              "      <td>2017-07-21</td>\n",
              "      <td>1</td>\n",
              "      <td>2.50</td>\n",
              "      <td>5</td>\n",
              "      <td>12.30</td>\n",
              "      <td>1</td>\n",
              "      <td>False</td>\n",
              "      <td>...</td>\n",
              "      <td>nan</td>\n",
              "      <td>0</td>\n",
              "      <td>nan</td>\n",
              "      <td>0</td>\n",
              "      <td>nan</td>\n",
              "      <td>nan</td>\n",
              "      <td>41795.67</td>\n",
              "      <td>Friday</td>\n",
              "      <td>July</td>\n",
              "      <td>2017</td>\n",
              "    </tr>\n",
              "  </tbody>\n",
              "</table>\n",
              "<p>23650 rows × 26 columns</p>\n",
              "</div>"
            ],
            "text/plain": [
              "       total_images  last_price  total_area first_day_exposition  rooms  \\\n",
              "0                20 13000000.00      108.00           2019-03-07      3   \n",
              "1                 7  3350000.00       40.40           2018-12-04      1   \n",
              "2                10  5196000.00       56.00           2015-08-20      2   \n",
              "3                 0 64900000.00      159.00           2015-07-24      3   \n",
              "4                 2 10000000.00      100.00           2018-06-19      2   \n",
              "...             ...         ...         ...                  ...    ...   \n",
              "23694             9  9700000.00      133.81           2017-03-21      3   \n",
              "23695            14  3100000.00       59.00           2018-01-15      3   \n",
              "23696            18  2500000.00       56.70           2018-02-11      2   \n",
              "23697            13 11475000.00       76.75           2017-03-28      2   \n",
              "23698             4  1350000.00       32.30           2017-07-21      1   \n",
              "\n",
              "       ceiling_height  floors_total  living_area  floor  is_apartment  ...  \\\n",
              "0                2.70            16        51.00      8         False  ...   \n",
              "1                 nan            11        18.60      1         False  ...   \n",
              "2                 nan             5        34.30      4         False  ...   \n",
              "3                 nan            14          nan      9         False  ...   \n",
              "4                3.03            14        32.00     13         False  ...   \n",
              "...               ...           ...          ...    ...           ...  ...   \n",
              "23694            3.70             5        73.30      3         False  ...   \n",
              "23695             nan             5        38.00      4         False  ...   \n",
              "23696             nan             3        29.70      1         False  ...   \n",
              "23697            3.00            17          nan     12         False  ...   \n",
              "23698            2.50             5        12.30      1         False  ...   \n",
              "\n",
              "       city_center_nearest  number_parks_around_3km  parks_nearest  \\\n",
              "0                 16028.00                        1         482.00   \n",
              "1                 18603.00                        0            nan   \n",
              "2                 13933.00                        1          90.00   \n",
              "3                  6800.00                        2          84.00   \n",
              "4                  8098.00                        2         112.00   \n",
              "...                    ...                      ...            ...   \n",
              "23694              4232.00                        1         796.00   \n",
              "23695                  nan                        0            nan   \n",
              "23696                  nan                        0            nan   \n",
              "23697             10364.00                        2         173.00   \n",
              "23698                  nan                        0            nan   \n",
              "\n",
              "       number_ponds_around_3km ponds_nearest  days_exposition  \\\n",
              "0                            2        755.00              nan   \n",
              "1                            0           nan            81.00   \n",
              "2                            2        574.00           558.00   \n",
              "3                            3        234.00           424.00   \n",
              "4                            1         48.00           121.00   \n",
              "...                        ...           ...              ...   \n",
              "23694                        3        381.00              nan   \n",
              "23695                        0           nan            45.00   \n",
              "23696                        0           nan              nan   \n",
              "23697                        3        196.00           602.00   \n",
              "23698                        0           nan              nan   \n",
              "\n",
              "       price_per_meter  weekday_public  month_public  year_public  \n",
              "0            120370.37        Thursday         March         2019  \n",
              "1             82920.79         Tuesday      December         2018  \n",
              "2             92785.71        Thursday        August         2015  \n",
              "3            408176.10          Friday          July         2015  \n",
              "4            100000.00         Tuesday          June         2018  \n",
              "...                ...             ...           ...          ...  \n",
              "23694         72490.85         Tuesday         March         2017  \n",
              "23695         52542.37          Monday       January         2018  \n",
              "23696         44091.71          Sunday      February         2018  \n",
              "23697        149511.40         Tuesday         March         2017  \n",
              "23698         41795.67          Friday          July         2017  \n",
              "\n",
              "[23650 rows x 26 columns]"
            ]
          },
          "metadata": {
            "tags": []
          }
        }
      ]
    },
    {
      "cell_type": "code",
      "metadata": {
        "id": "PyRgbjwtbVWP"
      },
      "source": [
        "# <создадим функцию, чтобы назвать этаж квартиры>\n",
        "def define_floor(row):\n",
        "    if row['floor'] == 1:\n",
        "        return 'первый'\n",
        "    if row['floor'] == row['floors_total']:\n",
        "        return 'последний'\n",
        "    return 'другой'   "
      ],
      "execution_count": null,
      "outputs": []
    },
    {
      "cell_type": "code",
      "metadata": {
        "id": "OuRNq04VbVWP",
        "outputId": "374f220e-83f3-4fc0-e5a9-1ce2ed7923c3"
      },
      "source": [
        "# <создадим столбец>\n",
        "df['define_floor'] = df.apply(define_floor, axis=1)\n",
        "display(df)"
      ],
      "execution_count": null,
      "outputs": [
        {
          "output_type": "display_data",
          "data": {
            "text/html": [
              "<div>\n",
              "<style scoped>\n",
              "    .dataframe tbody tr th:only-of-type {\n",
              "        vertical-align: middle;\n",
              "    }\n",
              "\n",
              "    .dataframe tbody tr th {\n",
              "        vertical-align: top;\n",
              "    }\n",
              "\n",
              "    .dataframe thead th {\n",
              "        text-align: right;\n",
              "    }\n",
              "</style>\n",
              "<table border=\"1\" class=\"dataframe\">\n",
              "  <thead>\n",
              "    <tr style=\"text-align: right;\">\n",
              "      <th></th>\n",
              "      <th>total_images</th>\n",
              "      <th>last_price</th>\n",
              "      <th>total_area</th>\n",
              "      <th>first_day_exposition</th>\n",
              "      <th>rooms</th>\n",
              "      <th>ceiling_height</th>\n",
              "      <th>floors_total</th>\n",
              "      <th>living_area</th>\n",
              "      <th>floor</th>\n",
              "      <th>is_apartment</th>\n",
              "      <th>...</th>\n",
              "      <th>number_parks_around_3km</th>\n",
              "      <th>parks_nearest</th>\n",
              "      <th>number_ponds_around_3km</th>\n",
              "      <th>ponds_nearest</th>\n",
              "      <th>days_exposition</th>\n",
              "      <th>price_per_meter</th>\n",
              "      <th>weekday_public</th>\n",
              "      <th>month_public</th>\n",
              "      <th>year_public</th>\n",
              "      <th>define_floor</th>\n",
              "    </tr>\n",
              "  </thead>\n",
              "  <tbody>\n",
              "    <tr>\n",
              "      <td>0</td>\n",
              "      <td>20</td>\n",
              "      <td>13000000.00</td>\n",
              "      <td>108.00</td>\n",
              "      <td>2019-03-07</td>\n",
              "      <td>3</td>\n",
              "      <td>2.70</td>\n",
              "      <td>16</td>\n",
              "      <td>51.00</td>\n",
              "      <td>8</td>\n",
              "      <td>False</td>\n",
              "      <td>...</td>\n",
              "      <td>1</td>\n",
              "      <td>482.00</td>\n",
              "      <td>2</td>\n",
              "      <td>755.00</td>\n",
              "      <td>nan</td>\n",
              "      <td>120370.37</td>\n",
              "      <td>Thursday</td>\n",
              "      <td>March</td>\n",
              "      <td>2019</td>\n",
              "      <td>другой</td>\n",
              "    </tr>\n",
              "    <tr>\n",
              "      <td>1</td>\n",
              "      <td>7</td>\n",
              "      <td>3350000.00</td>\n",
              "      <td>40.40</td>\n",
              "      <td>2018-12-04</td>\n",
              "      <td>1</td>\n",
              "      <td>nan</td>\n",
              "      <td>11</td>\n",
              "      <td>18.60</td>\n",
              "      <td>1</td>\n",
              "      <td>False</td>\n",
              "      <td>...</td>\n",
              "      <td>0</td>\n",
              "      <td>nan</td>\n",
              "      <td>0</td>\n",
              "      <td>nan</td>\n",
              "      <td>81.00</td>\n",
              "      <td>82920.79</td>\n",
              "      <td>Tuesday</td>\n",
              "      <td>December</td>\n",
              "      <td>2018</td>\n",
              "      <td>первый</td>\n",
              "    </tr>\n",
              "    <tr>\n",
              "      <td>2</td>\n",
              "      <td>10</td>\n",
              "      <td>5196000.00</td>\n",
              "      <td>56.00</td>\n",
              "      <td>2015-08-20</td>\n",
              "      <td>2</td>\n",
              "      <td>nan</td>\n",
              "      <td>5</td>\n",
              "      <td>34.30</td>\n",
              "      <td>4</td>\n",
              "      <td>False</td>\n",
              "      <td>...</td>\n",
              "      <td>1</td>\n",
              "      <td>90.00</td>\n",
              "      <td>2</td>\n",
              "      <td>574.00</td>\n",
              "      <td>558.00</td>\n",
              "      <td>92785.71</td>\n",
              "      <td>Thursday</td>\n",
              "      <td>August</td>\n",
              "      <td>2015</td>\n",
              "      <td>другой</td>\n",
              "    </tr>\n",
              "    <tr>\n",
              "      <td>3</td>\n",
              "      <td>0</td>\n",
              "      <td>64900000.00</td>\n",
              "      <td>159.00</td>\n",
              "      <td>2015-07-24</td>\n",
              "      <td>3</td>\n",
              "      <td>nan</td>\n",
              "      <td>14</td>\n",
              "      <td>nan</td>\n",
              "      <td>9</td>\n",
              "      <td>False</td>\n",
              "      <td>...</td>\n",
              "      <td>2</td>\n",
              "      <td>84.00</td>\n",
              "      <td>3</td>\n",
              "      <td>234.00</td>\n",
              "      <td>424.00</td>\n",
              "      <td>408176.10</td>\n",
              "      <td>Friday</td>\n",
              "      <td>July</td>\n",
              "      <td>2015</td>\n",
              "      <td>другой</td>\n",
              "    </tr>\n",
              "    <tr>\n",
              "      <td>4</td>\n",
              "      <td>2</td>\n",
              "      <td>10000000.00</td>\n",
              "      <td>100.00</td>\n",
              "      <td>2018-06-19</td>\n",
              "      <td>2</td>\n",
              "      <td>3.03</td>\n",
              "      <td>14</td>\n",
              "      <td>32.00</td>\n",
              "      <td>13</td>\n",
              "      <td>False</td>\n",
              "      <td>...</td>\n",
              "      <td>2</td>\n",
              "      <td>112.00</td>\n",
              "      <td>1</td>\n",
              "      <td>48.00</td>\n",
              "      <td>121.00</td>\n",
              "      <td>100000.00</td>\n",
              "      <td>Tuesday</td>\n",
              "      <td>June</td>\n",
              "      <td>2018</td>\n",
              "      <td>другой</td>\n",
              "    </tr>\n",
              "    <tr>\n",
              "      <td>...</td>\n",
              "      <td>...</td>\n",
              "      <td>...</td>\n",
              "      <td>...</td>\n",
              "      <td>...</td>\n",
              "      <td>...</td>\n",
              "      <td>...</td>\n",
              "      <td>...</td>\n",
              "      <td>...</td>\n",
              "      <td>...</td>\n",
              "      <td>...</td>\n",
              "      <td>...</td>\n",
              "      <td>...</td>\n",
              "      <td>...</td>\n",
              "      <td>...</td>\n",
              "      <td>...</td>\n",
              "      <td>...</td>\n",
              "      <td>...</td>\n",
              "      <td>...</td>\n",
              "      <td>...</td>\n",
              "      <td>...</td>\n",
              "      <td>...</td>\n",
              "    </tr>\n",
              "    <tr>\n",
              "      <td>23694</td>\n",
              "      <td>9</td>\n",
              "      <td>9700000.00</td>\n",
              "      <td>133.81</td>\n",
              "      <td>2017-03-21</td>\n",
              "      <td>3</td>\n",
              "      <td>3.70</td>\n",
              "      <td>5</td>\n",
              "      <td>73.30</td>\n",
              "      <td>3</td>\n",
              "      <td>False</td>\n",
              "      <td>...</td>\n",
              "      <td>1</td>\n",
              "      <td>796.00</td>\n",
              "      <td>3</td>\n",
              "      <td>381.00</td>\n",
              "      <td>nan</td>\n",
              "      <td>72490.85</td>\n",
              "      <td>Tuesday</td>\n",
              "      <td>March</td>\n",
              "      <td>2017</td>\n",
              "      <td>другой</td>\n",
              "    </tr>\n",
              "    <tr>\n",
              "      <td>23695</td>\n",
              "      <td>14</td>\n",
              "      <td>3100000.00</td>\n",
              "      <td>59.00</td>\n",
              "      <td>2018-01-15</td>\n",
              "      <td>3</td>\n",
              "      <td>nan</td>\n",
              "      <td>5</td>\n",
              "      <td>38.00</td>\n",
              "      <td>4</td>\n",
              "      <td>False</td>\n",
              "      <td>...</td>\n",
              "      <td>0</td>\n",
              "      <td>nan</td>\n",
              "      <td>0</td>\n",
              "      <td>nan</td>\n",
              "      <td>45.00</td>\n",
              "      <td>52542.37</td>\n",
              "      <td>Monday</td>\n",
              "      <td>January</td>\n",
              "      <td>2018</td>\n",
              "      <td>другой</td>\n",
              "    </tr>\n",
              "    <tr>\n",
              "      <td>23696</td>\n",
              "      <td>18</td>\n",
              "      <td>2500000.00</td>\n",
              "      <td>56.70</td>\n",
              "      <td>2018-02-11</td>\n",
              "      <td>2</td>\n",
              "      <td>nan</td>\n",
              "      <td>3</td>\n",
              "      <td>29.70</td>\n",
              "      <td>1</td>\n",
              "      <td>False</td>\n",
              "      <td>...</td>\n",
              "      <td>0</td>\n",
              "      <td>nan</td>\n",
              "      <td>0</td>\n",
              "      <td>nan</td>\n",
              "      <td>nan</td>\n",
              "      <td>44091.71</td>\n",
              "      <td>Sunday</td>\n",
              "      <td>February</td>\n",
              "      <td>2018</td>\n",
              "      <td>первый</td>\n",
              "    </tr>\n",
              "    <tr>\n",
              "      <td>23697</td>\n",
              "      <td>13</td>\n",
              "      <td>11475000.00</td>\n",
              "      <td>76.75</td>\n",
              "      <td>2017-03-28</td>\n",
              "      <td>2</td>\n",
              "      <td>3.00</td>\n",
              "      <td>17</td>\n",
              "      <td>nan</td>\n",
              "      <td>12</td>\n",
              "      <td>False</td>\n",
              "      <td>...</td>\n",
              "      <td>2</td>\n",
              "      <td>173.00</td>\n",
              "      <td>3</td>\n",
              "      <td>196.00</td>\n",
              "      <td>602.00</td>\n",
              "      <td>149511.40</td>\n",
              "      <td>Tuesday</td>\n",
              "      <td>March</td>\n",
              "      <td>2017</td>\n",
              "      <td>другой</td>\n",
              "    </tr>\n",
              "    <tr>\n",
              "      <td>23698</td>\n",
              "      <td>4</td>\n",
              "      <td>1350000.00</td>\n",
              "      <td>32.30</td>\n",
              "      <td>2017-07-21</td>\n",
              "      <td>1</td>\n",
              "      <td>2.50</td>\n",
              "      <td>5</td>\n",
              "      <td>12.30</td>\n",
              "      <td>1</td>\n",
              "      <td>False</td>\n",
              "      <td>...</td>\n",
              "      <td>0</td>\n",
              "      <td>nan</td>\n",
              "      <td>0</td>\n",
              "      <td>nan</td>\n",
              "      <td>nan</td>\n",
              "      <td>41795.67</td>\n",
              "      <td>Friday</td>\n",
              "      <td>July</td>\n",
              "      <td>2017</td>\n",
              "      <td>первый</td>\n",
              "    </tr>\n",
              "  </tbody>\n",
              "</table>\n",
              "<p>23650 rows × 27 columns</p>\n",
              "</div>"
            ],
            "text/plain": [
              "       total_images  last_price  total_area first_day_exposition  rooms  \\\n",
              "0                20 13000000.00      108.00           2019-03-07      3   \n",
              "1                 7  3350000.00       40.40           2018-12-04      1   \n",
              "2                10  5196000.00       56.00           2015-08-20      2   \n",
              "3                 0 64900000.00      159.00           2015-07-24      3   \n",
              "4                 2 10000000.00      100.00           2018-06-19      2   \n",
              "...             ...         ...         ...                  ...    ...   \n",
              "23694             9  9700000.00      133.81           2017-03-21      3   \n",
              "23695            14  3100000.00       59.00           2018-01-15      3   \n",
              "23696            18  2500000.00       56.70           2018-02-11      2   \n",
              "23697            13 11475000.00       76.75           2017-03-28      2   \n",
              "23698             4  1350000.00       32.30           2017-07-21      1   \n",
              "\n",
              "       ceiling_height  floors_total  living_area  floor  is_apartment  ...  \\\n",
              "0                2.70            16        51.00      8         False  ...   \n",
              "1                 nan            11        18.60      1         False  ...   \n",
              "2                 nan             5        34.30      4         False  ...   \n",
              "3                 nan            14          nan      9         False  ...   \n",
              "4                3.03            14        32.00     13         False  ...   \n",
              "...               ...           ...          ...    ...           ...  ...   \n",
              "23694            3.70             5        73.30      3         False  ...   \n",
              "23695             nan             5        38.00      4         False  ...   \n",
              "23696             nan             3        29.70      1         False  ...   \n",
              "23697            3.00            17          nan     12         False  ...   \n",
              "23698            2.50             5        12.30      1         False  ...   \n",
              "\n",
              "       number_parks_around_3km  parks_nearest  number_ponds_around_3km  \\\n",
              "0                            1         482.00                        2   \n",
              "1                            0            nan                        0   \n",
              "2                            1          90.00                        2   \n",
              "3                            2          84.00                        3   \n",
              "4                            2         112.00                        1   \n",
              "...                        ...            ...                      ...   \n",
              "23694                        1         796.00                        3   \n",
              "23695                        0            nan                        0   \n",
              "23696                        0            nan                        0   \n",
              "23697                        2         173.00                        3   \n",
              "23698                        0            nan                        0   \n",
              "\n",
              "       ponds_nearest days_exposition  price_per_meter  weekday_public  \\\n",
              "0             755.00             nan        120370.37        Thursday   \n",
              "1                nan           81.00         82920.79         Tuesday   \n",
              "2             574.00          558.00         92785.71        Thursday   \n",
              "3             234.00          424.00        408176.10          Friday   \n",
              "4              48.00          121.00        100000.00         Tuesday   \n",
              "...              ...             ...              ...             ...   \n",
              "23694         381.00             nan         72490.85         Tuesday   \n",
              "23695            nan           45.00         52542.37          Monday   \n",
              "23696            nan             nan         44091.71          Sunday   \n",
              "23697         196.00          602.00        149511.40         Tuesday   \n",
              "23698            nan             nan         41795.67          Friday   \n",
              "\n",
              "       month_public  year_public  define_floor  \n",
              "0             March         2019        другой  \n",
              "1          December         2018        первый  \n",
              "2            August         2015        другой  \n",
              "3              July         2015        другой  \n",
              "4              June         2018        другой  \n",
              "...             ...          ...           ...  \n",
              "23694         March         2017        другой  \n",
              "23695       January         2018        другой  \n",
              "23696      February         2018        первый  \n",
              "23697         March         2017        другой  \n",
              "23698          July         2017        первый  \n",
              "\n",
              "[23650 rows x 27 columns]"
            ]
          },
          "metadata": {
            "tags": []
          }
        }
      ]
    },
    {
      "cell_type": "code",
      "metadata": {
        "id": "_mriYuNDbVWQ"
      },
      "source": [
        "# <найдем соотношение жилой и общей площади>\n",
        "df['living_ratio_total'] = df['living_area'] / df['total_area']"
      ],
      "execution_count": null,
      "outputs": []
    },
    {
      "cell_type": "code",
      "metadata": {
        "id": "z3bp1LXEbVWQ",
        "outputId": "f3d6e764-f708-422b-a712-8391b3c10d43"
      },
      "source": [
        "# <найдем соотношение площади кухни и общей площади>\n",
        "df['kitchen_ratio_total'] = df['kitchen_area'] / df['total_area']\n",
        "display(df)"
      ],
      "execution_count": null,
      "outputs": [
        {
          "output_type": "display_data",
          "data": {
            "text/html": [
              "<div>\n",
              "<style scoped>\n",
              "    .dataframe tbody tr th:only-of-type {\n",
              "        vertical-align: middle;\n",
              "    }\n",
              "\n",
              "    .dataframe tbody tr th {\n",
              "        vertical-align: top;\n",
              "    }\n",
              "\n",
              "    .dataframe thead th {\n",
              "        text-align: right;\n",
              "    }\n",
              "</style>\n",
              "<table border=\"1\" class=\"dataframe\">\n",
              "  <thead>\n",
              "    <tr style=\"text-align: right;\">\n",
              "      <th></th>\n",
              "      <th>total_images</th>\n",
              "      <th>last_price</th>\n",
              "      <th>total_area</th>\n",
              "      <th>first_day_exposition</th>\n",
              "      <th>rooms</th>\n",
              "      <th>ceiling_height</th>\n",
              "      <th>floors_total</th>\n",
              "      <th>living_area</th>\n",
              "      <th>floor</th>\n",
              "      <th>is_apartment</th>\n",
              "      <th>...</th>\n",
              "      <th>number_ponds_around_3km</th>\n",
              "      <th>ponds_nearest</th>\n",
              "      <th>days_exposition</th>\n",
              "      <th>price_per_meter</th>\n",
              "      <th>weekday_public</th>\n",
              "      <th>month_public</th>\n",
              "      <th>year_public</th>\n",
              "      <th>define_floor</th>\n",
              "      <th>living_ratio_total</th>\n",
              "      <th>kitchen_ratio_total</th>\n",
              "    </tr>\n",
              "  </thead>\n",
              "  <tbody>\n",
              "    <tr>\n",
              "      <td>0</td>\n",
              "      <td>20</td>\n",
              "      <td>13000000.00</td>\n",
              "      <td>108.00</td>\n",
              "      <td>2019-03-07</td>\n",
              "      <td>3</td>\n",
              "      <td>2.70</td>\n",
              "      <td>16</td>\n",
              "      <td>51.00</td>\n",
              "      <td>8</td>\n",
              "      <td>False</td>\n",
              "      <td>...</td>\n",
              "      <td>2</td>\n",
              "      <td>755.00</td>\n",
              "      <td>nan</td>\n",
              "      <td>120370.37</td>\n",
              "      <td>Thursday</td>\n",
              "      <td>March</td>\n",
              "      <td>2019</td>\n",
              "      <td>другой</td>\n",
              "      <td>0.47</td>\n",
              "      <td>0.23</td>\n",
              "    </tr>\n",
              "    <tr>\n",
              "      <td>1</td>\n",
              "      <td>7</td>\n",
              "      <td>3350000.00</td>\n",
              "      <td>40.40</td>\n",
              "      <td>2018-12-04</td>\n",
              "      <td>1</td>\n",
              "      <td>nan</td>\n",
              "      <td>11</td>\n",
              "      <td>18.60</td>\n",
              "      <td>1</td>\n",
              "      <td>False</td>\n",
              "      <td>...</td>\n",
              "      <td>0</td>\n",
              "      <td>nan</td>\n",
              "      <td>81.00</td>\n",
              "      <td>82920.79</td>\n",
              "      <td>Tuesday</td>\n",
              "      <td>December</td>\n",
              "      <td>2018</td>\n",
              "      <td>первый</td>\n",
              "      <td>0.46</td>\n",
              "      <td>0.27</td>\n",
              "    </tr>\n",
              "    <tr>\n",
              "      <td>2</td>\n",
              "      <td>10</td>\n",
              "      <td>5196000.00</td>\n",
              "      <td>56.00</td>\n",
              "      <td>2015-08-20</td>\n",
              "      <td>2</td>\n",
              "      <td>nan</td>\n",
              "      <td>5</td>\n",
              "      <td>34.30</td>\n",
              "      <td>4</td>\n",
              "      <td>False</td>\n",
              "      <td>...</td>\n",
              "      <td>2</td>\n",
              "      <td>574.00</td>\n",
              "      <td>558.00</td>\n",
              "      <td>92785.71</td>\n",
              "      <td>Thursday</td>\n",
              "      <td>August</td>\n",
              "      <td>2015</td>\n",
              "      <td>другой</td>\n",
              "      <td>0.61</td>\n",
              "      <td>0.15</td>\n",
              "    </tr>\n",
              "    <tr>\n",
              "      <td>3</td>\n",
              "      <td>0</td>\n",
              "      <td>64900000.00</td>\n",
              "      <td>159.00</td>\n",
              "      <td>2015-07-24</td>\n",
              "      <td>3</td>\n",
              "      <td>nan</td>\n",
              "      <td>14</td>\n",
              "      <td>nan</td>\n",
              "      <td>9</td>\n",
              "      <td>False</td>\n",
              "      <td>...</td>\n",
              "      <td>3</td>\n",
              "      <td>234.00</td>\n",
              "      <td>424.00</td>\n",
              "      <td>408176.10</td>\n",
              "      <td>Friday</td>\n",
              "      <td>July</td>\n",
              "      <td>2015</td>\n",
              "      <td>другой</td>\n",
              "      <td>nan</td>\n",
              "      <td>nan</td>\n",
              "    </tr>\n",
              "    <tr>\n",
              "      <td>4</td>\n",
              "      <td>2</td>\n",
              "      <td>10000000.00</td>\n",
              "      <td>100.00</td>\n",
              "      <td>2018-06-19</td>\n",
              "      <td>2</td>\n",
              "      <td>3.03</td>\n",
              "      <td>14</td>\n",
              "      <td>32.00</td>\n",
              "      <td>13</td>\n",
              "      <td>False</td>\n",
              "      <td>...</td>\n",
              "      <td>1</td>\n",
              "      <td>48.00</td>\n",
              "      <td>121.00</td>\n",
              "      <td>100000.00</td>\n",
              "      <td>Tuesday</td>\n",
              "      <td>June</td>\n",
              "      <td>2018</td>\n",
              "      <td>другой</td>\n",
              "      <td>0.32</td>\n",
              "      <td>0.41</td>\n",
              "    </tr>\n",
              "    <tr>\n",
              "      <td>...</td>\n",
              "      <td>...</td>\n",
              "      <td>...</td>\n",
              "      <td>...</td>\n",
              "      <td>...</td>\n",
              "      <td>...</td>\n",
              "      <td>...</td>\n",
              "      <td>...</td>\n",
              "      <td>...</td>\n",
              "      <td>...</td>\n",
              "      <td>...</td>\n",
              "      <td>...</td>\n",
              "      <td>...</td>\n",
              "      <td>...</td>\n",
              "      <td>...</td>\n",
              "      <td>...</td>\n",
              "      <td>...</td>\n",
              "      <td>...</td>\n",
              "      <td>...</td>\n",
              "      <td>...</td>\n",
              "      <td>...</td>\n",
              "      <td>...</td>\n",
              "    </tr>\n",
              "    <tr>\n",
              "      <td>23694</td>\n",
              "      <td>9</td>\n",
              "      <td>9700000.00</td>\n",
              "      <td>133.81</td>\n",
              "      <td>2017-03-21</td>\n",
              "      <td>3</td>\n",
              "      <td>3.70</td>\n",
              "      <td>5</td>\n",
              "      <td>73.30</td>\n",
              "      <td>3</td>\n",
              "      <td>False</td>\n",
              "      <td>...</td>\n",
              "      <td>3</td>\n",
              "      <td>381.00</td>\n",
              "      <td>nan</td>\n",
              "      <td>72490.85</td>\n",
              "      <td>Tuesday</td>\n",
              "      <td>March</td>\n",
              "      <td>2017</td>\n",
              "      <td>другой</td>\n",
              "      <td>0.55</td>\n",
              "      <td>0.10</td>\n",
              "    </tr>\n",
              "    <tr>\n",
              "      <td>23695</td>\n",
              "      <td>14</td>\n",
              "      <td>3100000.00</td>\n",
              "      <td>59.00</td>\n",
              "      <td>2018-01-15</td>\n",
              "      <td>3</td>\n",
              "      <td>nan</td>\n",
              "      <td>5</td>\n",
              "      <td>38.00</td>\n",
              "      <td>4</td>\n",
              "      <td>False</td>\n",
              "      <td>...</td>\n",
              "      <td>0</td>\n",
              "      <td>nan</td>\n",
              "      <td>45.00</td>\n",
              "      <td>52542.37</td>\n",
              "      <td>Monday</td>\n",
              "      <td>January</td>\n",
              "      <td>2018</td>\n",
              "      <td>другой</td>\n",
              "      <td>0.64</td>\n",
              "      <td>0.14</td>\n",
              "    </tr>\n",
              "    <tr>\n",
              "      <td>23696</td>\n",
              "      <td>18</td>\n",
              "      <td>2500000.00</td>\n",
              "      <td>56.70</td>\n",
              "      <td>2018-02-11</td>\n",
              "      <td>2</td>\n",
              "      <td>nan</td>\n",
              "      <td>3</td>\n",
              "      <td>29.70</td>\n",
              "      <td>1</td>\n",
              "      <td>False</td>\n",
              "      <td>...</td>\n",
              "      <td>0</td>\n",
              "      <td>nan</td>\n",
              "      <td>nan</td>\n",
              "      <td>44091.71</td>\n",
              "      <td>Sunday</td>\n",
              "      <td>February</td>\n",
              "      <td>2018</td>\n",
              "      <td>первый</td>\n",
              "      <td>0.52</td>\n",
              "      <td>nan</td>\n",
              "    </tr>\n",
              "    <tr>\n",
              "      <td>23697</td>\n",
              "      <td>13</td>\n",
              "      <td>11475000.00</td>\n",
              "      <td>76.75</td>\n",
              "      <td>2017-03-28</td>\n",
              "      <td>2</td>\n",
              "      <td>3.00</td>\n",
              "      <td>17</td>\n",
              "      <td>nan</td>\n",
              "      <td>12</td>\n",
              "      <td>False</td>\n",
              "      <td>...</td>\n",
              "      <td>3</td>\n",
              "      <td>196.00</td>\n",
              "      <td>602.00</td>\n",
              "      <td>149511.40</td>\n",
              "      <td>Tuesday</td>\n",
              "      <td>March</td>\n",
              "      <td>2017</td>\n",
              "      <td>другой</td>\n",
              "      <td>nan</td>\n",
              "      <td>0.30</td>\n",
              "    </tr>\n",
              "    <tr>\n",
              "      <td>23698</td>\n",
              "      <td>4</td>\n",
              "      <td>1350000.00</td>\n",
              "      <td>32.30</td>\n",
              "      <td>2017-07-21</td>\n",
              "      <td>1</td>\n",
              "      <td>2.50</td>\n",
              "      <td>5</td>\n",
              "      <td>12.30</td>\n",
              "      <td>1</td>\n",
              "      <td>False</td>\n",
              "      <td>...</td>\n",
              "      <td>0</td>\n",
              "      <td>nan</td>\n",
              "      <td>nan</td>\n",
              "      <td>41795.67</td>\n",
              "      <td>Friday</td>\n",
              "      <td>July</td>\n",
              "      <td>2017</td>\n",
              "      <td>первый</td>\n",
              "      <td>0.38</td>\n",
              "      <td>0.28</td>\n",
              "    </tr>\n",
              "  </tbody>\n",
              "</table>\n",
              "<p>23650 rows × 29 columns</p>\n",
              "</div>"
            ],
            "text/plain": [
              "       total_images  last_price  total_area first_day_exposition  rooms  \\\n",
              "0                20 13000000.00      108.00           2019-03-07      3   \n",
              "1                 7  3350000.00       40.40           2018-12-04      1   \n",
              "2                10  5196000.00       56.00           2015-08-20      2   \n",
              "3                 0 64900000.00      159.00           2015-07-24      3   \n",
              "4                 2 10000000.00      100.00           2018-06-19      2   \n",
              "...             ...         ...         ...                  ...    ...   \n",
              "23694             9  9700000.00      133.81           2017-03-21      3   \n",
              "23695            14  3100000.00       59.00           2018-01-15      3   \n",
              "23696            18  2500000.00       56.70           2018-02-11      2   \n",
              "23697            13 11475000.00       76.75           2017-03-28      2   \n",
              "23698             4  1350000.00       32.30           2017-07-21      1   \n",
              "\n",
              "       ceiling_height  floors_total  living_area  floor  is_apartment  ...  \\\n",
              "0                2.70            16        51.00      8         False  ...   \n",
              "1                 nan            11        18.60      1         False  ...   \n",
              "2                 nan             5        34.30      4         False  ...   \n",
              "3                 nan            14          nan      9         False  ...   \n",
              "4                3.03            14        32.00     13         False  ...   \n",
              "...               ...           ...          ...    ...           ...  ...   \n",
              "23694            3.70             5        73.30      3         False  ...   \n",
              "23695             nan             5        38.00      4         False  ...   \n",
              "23696             nan             3        29.70      1         False  ...   \n",
              "23697            3.00            17          nan     12         False  ...   \n",
              "23698            2.50             5        12.30      1         False  ...   \n",
              "\n",
              "       number_ponds_around_3km  ponds_nearest  days_exposition  \\\n",
              "0                            2         755.00              nan   \n",
              "1                            0            nan            81.00   \n",
              "2                            2         574.00           558.00   \n",
              "3                            3         234.00           424.00   \n",
              "4                            1          48.00           121.00   \n",
              "...                        ...            ...              ...   \n",
              "23694                        3         381.00              nan   \n",
              "23695                        0            nan            45.00   \n",
              "23696                        0            nan              nan   \n",
              "23697                        3         196.00           602.00   \n",
              "23698                        0            nan              nan   \n",
              "\n",
              "       price_per_meter weekday_public  month_public  year_public  \\\n",
              "0            120370.37       Thursday         March         2019   \n",
              "1             82920.79        Tuesday      December         2018   \n",
              "2             92785.71       Thursday        August         2015   \n",
              "3            408176.10         Friday          July         2015   \n",
              "4            100000.00        Tuesday          June         2018   \n",
              "...                ...            ...           ...          ...   \n",
              "23694         72490.85        Tuesday         March         2017   \n",
              "23695         52542.37         Monday       January         2018   \n",
              "23696         44091.71         Sunday      February         2018   \n",
              "23697        149511.40        Tuesday         March         2017   \n",
              "23698         41795.67         Friday          July         2017   \n",
              "\n",
              "       define_floor  living_ratio_total  kitchen_ratio_total  \n",
              "0            другой                0.47                 0.23  \n",
              "1            первый                0.46                 0.27  \n",
              "2            другой                0.61                 0.15  \n",
              "3            другой                 nan                  nan  \n",
              "4            другой                0.32                 0.41  \n",
              "...             ...                 ...                  ...  \n",
              "23694        другой                0.55                 0.10  \n",
              "23695        другой                0.64                 0.14  \n",
              "23696        первый                0.52                  nan  \n",
              "23697        другой                 nan                 0.30  \n",
              "23698        первый                0.38                 0.28  \n",
              "\n",
              "[23650 rows x 29 columns]"
            ]
          },
          "metadata": {
            "tags": []
          }
        }
      ]
    },
    {
      "cell_type": "markdown",
      "metadata": {
        "id": "5gBFkuIjbVWQ"
      },
      "source": [
        "### Вывод\n",
        "Выполнили требования данного пункта. Посчитали необходимые параметры и добавили в таблицу."
      ]
    },
    {
      "cell_type": "markdown",
      "metadata": {
        "id": "MWNdu7G-bVWQ"
      },
      "source": [
        "## Шаг 4. Проведите исследовательский анализ данных и выполните инструкции:"
      ]
    },
    {
      "cell_type": "markdown",
      "metadata": {
        "id": "qzzu5c0jbVWQ"
      },
      "source": [
        "<ul style=\"border:solid black 2px; padding: 20px\">\n",
        "    <li>Изучим следующие параметры: площадь, цену, число комнат, высоту потолков. Построим гистограмму для каждого параметра.</li>\n",
        "</ul>  "
      ]
    },
    {
      "cell_type": "code",
      "metadata": {
        "id": "tzz33ku2bVWQ",
        "outputId": "ad40c8bf-8c2c-4637-97ae-cb43d7999999"
      },
      "source": [
        "df[['total_area', 'last_price', 'rooms', 'ceiling_height']].describe()"
      ],
      "execution_count": null,
      "outputs": [
        {
          "output_type": "execute_result",
          "data": {
            "text/html": [
              "<div>\n",
              "<style scoped>\n",
              "    .dataframe tbody tr th:only-of-type {\n",
              "        vertical-align: middle;\n",
              "    }\n",
              "\n",
              "    .dataframe tbody tr th {\n",
              "        vertical-align: top;\n",
              "    }\n",
              "\n",
              "    .dataframe thead th {\n",
              "        text-align: right;\n",
              "    }\n",
              "</style>\n",
              "<table border=\"1\" class=\"dataframe\">\n",
              "  <thead>\n",
              "    <tr style=\"text-align: right;\">\n",
              "      <th></th>\n",
              "      <th>total_area</th>\n",
              "      <th>last_price</th>\n",
              "      <th>rooms</th>\n",
              "      <th>ceiling_height</th>\n",
              "    </tr>\n",
              "  </thead>\n",
              "  <tbody>\n",
              "    <tr>\n",
              "      <td>count</td>\n",
              "      <td>23650.00</td>\n",
              "      <td>23650.00</td>\n",
              "      <td>23650.00</td>\n",
              "      <td>14490.00</td>\n",
              "    </tr>\n",
              "    <tr>\n",
              "      <td>mean</td>\n",
              "      <td>60.33</td>\n",
              "      <td>6541177.93</td>\n",
              "      <td>2.07</td>\n",
              "      <td>2.77</td>\n",
              "    </tr>\n",
              "    <tr>\n",
              "      <td>std</td>\n",
              "      <td>35.66</td>\n",
              "      <td>10896371.42</td>\n",
              "      <td>1.08</td>\n",
              "      <td>1.26</td>\n",
              "    </tr>\n",
              "    <tr>\n",
              "      <td>min</td>\n",
              "      <td>12.00</td>\n",
              "      <td>430000.00</td>\n",
              "      <td>0.00</td>\n",
              "      <td>1.00</td>\n",
              "    </tr>\n",
              "    <tr>\n",
              "      <td>25%</td>\n",
              "      <td>40.00</td>\n",
              "      <td>3400000.00</td>\n",
              "      <td>1.00</td>\n",
              "      <td>2.52</td>\n",
              "    </tr>\n",
              "    <tr>\n",
              "      <td>50%</td>\n",
              "      <td>52.00</td>\n",
              "      <td>4650000.00</td>\n",
              "      <td>2.00</td>\n",
              "      <td>2.65</td>\n",
              "    </tr>\n",
              "    <tr>\n",
              "      <td>75%</td>\n",
              "      <td>69.70</td>\n",
              "      <td>6799000.00</td>\n",
              "      <td>3.00</td>\n",
              "      <td>2.80</td>\n",
              "    </tr>\n",
              "    <tr>\n",
              "      <td>max</td>\n",
              "      <td>900.00</td>\n",
              "      <td>763000000.00</td>\n",
              "      <td>19.00</td>\n",
              "      <td>100.00</td>\n",
              "    </tr>\n",
              "  </tbody>\n",
              "</table>\n",
              "</div>"
            ],
            "text/plain": [
              "       total_area   last_price    rooms  ceiling_height\n",
              "count    23650.00     23650.00 23650.00        14490.00\n",
              "mean        60.33   6541177.93     2.07            2.77\n",
              "std         35.66  10896371.42     1.08            1.26\n",
              "min         12.00    430000.00     0.00            1.00\n",
              "25%         40.00   3400000.00     1.00            2.52\n",
              "50%         52.00   4650000.00     2.00            2.65\n",
              "75%         69.70   6799000.00     3.00            2.80\n",
              "max        900.00 763000000.00    19.00          100.00"
            ]
          },
          "metadata": {
            "tags": []
          },
          "execution_count": 46
        }
      ]
    },
    {
      "cell_type": "markdown",
      "metadata": {
        "id": "OSC9fdTSbVWR"
      },
      "source": [
        "1. Подозрительное максимальное значние площади квартиры.\n",
        "2. Нереальные минимальные и максимальные значения потолков.\n",
        "3. В квартире 19 комнат!?"
      ]
    },
    {
      "cell_type": "markdown",
      "metadata": {
        "id": "iaQMnsSBbVWR"
      },
      "source": [
        "### Изучим площадь квартир"
      ]
    },
    {
      "cell_type": "code",
      "metadata": {
        "id": "GdJ3-DW6bVWR",
        "outputId": "dafad696-575a-4628-9d25-9fd7da217759"
      },
      "source": [
        "df['total_area'].value_counts()"
      ],
      "execution_count": null,
      "outputs": [
        {
          "output_type": "execute_result",
          "data": {
            "text/plain": [
              "45.00    419\n",
              "42.00    383\n",
              "60.00    346\n",
              "31.00    346\n",
              "44.00    343\n",
              "        ... \n",
              "54.75      1\n",
              "45.85      1\n",
              "44.18      1\n",
              "59.83      1\n",
              "23.55      1\n",
              "Name: total_area, Length: 2181, dtype: int64"
            ]
          },
          "metadata": {
            "tags": []
          },
          "execution_count": 47
        }
      ]
    },
    {
      "cell_type": "code",
      "metadata": {
        "id": "mA6KtVGsbVWR",
        "outputId": "a28d0642-b3c2-4779-9a42-87d4ea5b9793"
      },
      "source": [
        "# <рассчитаем медиану>\n",
        "df['total_area'].median()"
      ],
      "execution_count": null,
      "outputs": [
        {
          "output_type": "execute_result",
          "data": {
            "text/plain": [
              "52.0"
            ]
          },
          "metadata": {
            "tags": []
          },
          "execution_count": 48
        }
      ]
    },
    {
      "cell_type": "code",
      "metadata": {
        "id": "BLkqfX48bVWR",
        "outputId": "06e51cae-1dbd-4e58-c570-a173ee0cc7b2"
      },
      "source": [
        "df['total_area'].plot(kind = 'hist',bins = 1000, range = (10, 905), grid =True)\n",
        "plt.xlabel('Площадь квартиры')\n",
        "plt.ylabel('Кол-во кв')\n",
        "plt.show()"
      ],
      "execution_count": null,
      "outputs": [
        {
          "output_type": "display_data",
          "data": {
            "image/png": "[encoded data removed]",
            "text/plain": [
              "<Figure size 432x288 with 1 Axes>"
            ]
          },
          "metadata": {
            "tags": [],
            "needs_background": "light"
          }
        }
      ]
    },
    {
      "cell_type": "markdown",
      "metadata": {
        "id": "QisesRqjbVWR"
      },
      "source": [
        "1. <b>Наблюдаем,что гистограмма с длинным хвостом на высоких значениях(возможно немало выбросов), которые влияют на среднее. Встречаются падения в ноль слева от пика, не доходя до нулевого значения.\n",
        "2. Заметим, что медиана и среднее близки.\n",
        "3. Узнаем характерный разброс, построим диаграмму размаха.</b> "
      ]
    },
    {
      "cell_type": "code",
      "metadata": {
        "id": "DkYHI_tsbVWS",
        "outputId": "06b12dc2-c47a-401c-c0f4-55df2e7d36db"
      },
      "source": [
        "df.boxplot(['total_area'], figsize = (8,8))\n",
        "plt.ylabel('Площадь квартиры')\n",
        "plt.ylim(0, 900)"
      ],
      "execution_count": null,
      "outputs": [
        {
          "output_type": "execute_result",
          "data": {
            "text/plain": [
              "(0, 900)"
            ]
          },
          "metadata": {
            "tags": []
          },
          "execution_count": 50
        },
        {
          "output_type": "display_data",
          "data": {
            "image/png": "[encoded data removed]",
            "text/plain": [
              "<Figure size 576x576 with 1 Axes>"
            ]
          },
          "metadata": {
            "tags": [],
            "needs_background": "light"
          }
        }
      ]
    },
    {
      "cell_type": "markdown",
      "metadata": {
        "id": "XiXCBWKwbVWS"
      },
      "source": [
        "<b>Заметим, что большая часть лежит до 120. Выбросов очень много.</b>"
      ]
    },
    {
      "cell_type": "code",
      "metadata": {
        "id": "ttkIFYlDbVWS"
      },
      "source": [
        "# <coздадим функцию, которая будет осуществлять срезы, чтобы избавиться от выбросов>\n",
        "def section_query(data, column):\n",
        "    q1 = data[column].quantile(0.25)\n",
        "    q3 = data[column].quantile(0.75)\n",
        "    iqr = q3 - q1\n",
        "    section = data[(data[column] >= (q1 - 1.5 * iqr)) & (data[column] <= (q3 + 1.5 * iqr))]\n",
        "    return section                 "
      ],
      "execution_count": null,
      "outputs": []
    },
    {
      "cell_type": "code",
      "metadata": {
        "id": "ZZ6ng3jFbVWS",
        "outputId": "fd616206-d945-4ce3-c289-9a8d2cdde5d7"
      },
      "source": [
        "section_area = section_query(df, 'total_area')\n",
        "print(section_area['total_area'].describe())"
      ],
      "execution_count": null,
      "outputs": [
        {
          "output_type": "stream",
          "text": [
            "count   22406.00\n",
            "mean       54.33\n",
            "std        19.35\n",
            "min        12.00\n",
            "25%        39.40\n",
            "50%        50.10\n",
            "75%        65.50\n",
            "max       114.20\n",
            "Name: total_area, dtype: float64\n"
          ],
          "name": "stdout"
        }
      ]
    },
    {
      "cell_type": "code",
      "metadata": {
        "id": "pdEdgl3IbVWS",
        "outputId": "4a4e7167-f48a-4c30-81b6-a6917df6eb3a"
      },
      "source": [
        "print(section_area['total_area'].value_counts())"
      ],
      "execution_count": null,
      "outputs": [
        {
          "output_type": "stream",
          "text": [
            "45.00    419\n",
            "42.00    383\n",
            "60.00    346\n",
            "31.00    346\n",
            "44.00    343\n",
            "        ... \n",
            "48.03      1\n",
            "20.10      1\n",
            "60.16      1\n",
            "73.72      1\n",
            "23.55      1\n",
            "Name: total_area, Length: 1644, dtype: int64\n"
          ],
          "name": "stdout"
        }
      ]
    },
    {
      "cell_type": "code",
      "metadata": {
        "id": "y7fCf-gcbVWS",
        "outputId": "d9130760-a1b1-48a0-82aa-416e8cda2f54"
      },
      "source": [
        "print(section_area['total_area'].median())"
      ],
      "execution_count": null,
      "outputs": [
        {
          "output_type": "stream",
          "text": [
            "50.1\n"
          ],
          "name": "stdout"
        }
      ]
    },
    {
      "cell_type": "code",
      "metadata": {
        "id": "IokntgmtbVWT",
        "outputId": "eae23a37-817b-4668-acd1-1b7e9d814243"
      },
      "source": [
        "section_area['total_area'].plot(kind = 'hist',bins = 100, range = (10, 120), grid =True)\n",
        "plt.xlabel('Площадь квартиры')\n",
        "plt.ylabel('Кол-во кв')\n",
        "plt.show()"
      ],
      "execution_count": null,
      "outputs": [
        {
          "output_type": "display_data",
          "data": {
            "image/png": "[encoded data removed]",
            "text/plain": [
              "<Figure size 432x288 with 1 Axes>"
            ]
          },
          "metadata": {
            "tags": [],
            "needs_background": "light"
          }
        }
      ]
    },
    {
      "cell_type": "markdown",
      "metadata": {
        "id": "4aK8alpUbVWT"
      },
      "source": [
        "<b>Заметим, что пик наблюдается примерно на 45, потом спад около 50 и снова подьем.</b>"
      ]
    },
    {
      "cell_type": "code",
      "metadata": {
        "id": "PZ1jDbR9bVWT",
        "outputId": "8e378ce1-6fe3-416e-b4c1-a2dd99ef701e"
      },
      "source": [
        "section_area.boxplot(['total_area'], figsize = (5,5))\n",
        "plt.ylabel('Площадь квартиры')\n",
        "plt.ylim(0, 150)"
      ],
      "execution_count": null,
      "outputs": [
        {
          "output_type": "execute_result",
          "data": {
            "text/plain": [
              "(0, 150)"
            ]
          },
          "metadata": {
            "tags": []
          },
          "execution_count": 56
        },
        {
          "output_type": "display_data",
          "data": {
            "image/png": "[encoded data removed]",
            "text/plain": [
              "<Figure size 360x360 with 1 Axes>"
            ]
          },
          "metadata": {
            "tags": [],
            "needs_background": "light"
          }
        }
      ]
    },
    {
      "cell_type": "markdown",
      "metadata": {
        "id": "nrbyaXrhbVWT"
      },
      "source": [
        "### Изучим цену квартир"
      ]
    },
    {
      "cell_type": "code",
      "metadata": {
        "id": "a7amXBbpbVWT",
        "outputId": "33ce5295-4b36-4a74-8078-04b541d30e12"
      },
      "source": [
        "df['last_price'].value_counts()"
      ],
      "execution_count": null,
      "outputs": [
        {
          "output_type": "execute_result",
          "data": {
            "text/plain": [
              "4500000.00    342\n",
              "3500000.00    289\n",
              "4000000.00    260\n",
              "4300000.00    260\n",
              "4200000.00    258\n",
              "             ... \n",
              "7725000.00      1\n",
              "2660000.00      1\n",
              "6712399.00      1\n",
              "6338000.00      1\n",
              "6029433.00      1\n",
              "Name: last_price, Length: 2964, dtype: int64"
            ]
          },
          "metadata": {
            "tags": []
          },
          "execution_count": 57
        }
      ]
    },
    {
      "cell_type": "code",
      "metadata": {
        "id": "4s7iCfCzbVWT",
        "outputId": "a40c7cc0-2bd8-46e3-a0a4-f12e76d1e8e1"
      },
      "source": [
        "# <рассчитаем медиану>\n",
        "df['last_price'].median()"
      ],
      "execution_count": null,
      "outputs": [
        {
          "output_type": "execute_result",
          "data": {
            "text/plain": [
              "4650000.0"
            ]
          },
          "metadata": {
            "tags": []
          },
          "execution_count": 58
        }
      ]
    },
    {
      "cell_type": "code",
      "metadata": {
        "id": "2dnVTWYEbVWT",
        "outputId": "3479f4b6-f46a-4d58-cb1a-6d3c945d9e87"
      },
      "source": [
        "df['last_price'].plot(kind = 'hist',bins = 1000, range = (420000, 80000000), grid =True)\n",
        "plt.xlabel('Стоимость квартиры')\n",
        "plt.ylabel('Кол-во кв')\n",
        "plt.show()"
      ],
      "execution_count": null,
      "outputs": [
        {
          "output_type": "display_data",
          "data": {
            "image/png": "[encoded data removed]",
            "text/plain": [
              "<Figure size 432x288 with 1 Axes>"
            ]
          },
          "metadata": {
            "tags": [],
            "needs_background": "light"
          }
        }
      ]
    },
    {
      "cell_type": "markdown",
      "metadata": {
        "id": "HZEZaJJdbVWU"
      },
      "source": [
        "1. <b>Наблюдаем,что гистограмма с длинным хвостом на высоких значениях(возможно немало выбросов), которые влияют на среднее. Встречаются падения в ноль, не доходя до нулевого значения.\n",
        "2. Узнаем характерный разброс, построим диаграмму размаха.</b> "
      ]
    },
    {
      "cell_type": "code",
      "metadata": {
        "id": "b4Y6xTTObVWU",
        "outputId": "8eaaaf0a-4689-49ab-9fdf-b29556cf1e5f"
      },
      "source": [
        "# <сложно сделать выводы по данным графикам, кроме того,что очень много выбросов>\n",
        "df.boxplot(['last_price'], figsize = (8,8))\n",
        "plt.ylabel('Стоимость квартиры')\n",
        "plt.ylim(-10000000, 100000000)"
      ],
      "execution_count": null,
      "outputs": [
        {
          "output_type": "execute_result",
          "data": {
            "text/plain": [
              "(-10000000, 100000000)"
            ]
          },
          "metadata": {
            "tags": []
          },
          "execution_count": 60
        },
        {
          "output_type": "display_data",
          "data": {
            "image/png": "[encoded data removed]",
            "text/plain": [
              "<Figure size 576x576 with 1 Axes>"
            ]
          },
          "metadata": {
            "tags": [],
            "needs_background": "light"
          }
        }
      ]
    },
    {
      "cell_type": "code",
      "metadata": {
        "id": "-1YzJWVobVWU",
        "outputId": "162cfaea-161a-4fd2-bfeb-b145c413fe1e"
      },
      "source": [
        "# <применим функцию, для цены на квартиры>\n",
        "section_price = section_query(df, 'last_price')\n",
        "print(section_price['last_price'].describe())"
      ],
      "execution_count": null,
      "outputs": [
        {
          "output_type": "stream",
          "text": [
            "count      21595.00\n",
            "mean     4838997.97\n",
            "std      2217175.77\n",
            "min       430000.00\n",
            "25%      3300000.00\n",
            "50%      4400000.00\n",
            "75%      6000000.00\n",
            "max     11894400.00\n",
            "Name: last_price, dtype: float64\n"
          ],
          "name": "stdout"
        }
      ]
    },
    {
      "cell_type": "code",
      "metadata": {
        "id": "6Fn4dqTebVWU",
        "outputId": "976b5ed9-a619-44c0-c8d8-afb2e85bdaf8"
      },
      "source": [
        "print(section_price['last_price'].value_counts())"
      ],
      "execution_count": null,
      "outputs": [
        {
          "output_type": "stream",
          "text": [
            "4500000.00     342\n",
            "3500000.00     289\n",
            "4000000.00     260\n",
            "4300000.00     260\n",
            "4200000.00     258\n",
            "              ... \n",
            "11748225.00      1\n",
            "9828000.00       1\n",
            "8603000.00       1\n",
            "2695000.00       1\n",
            "6029433.00       1\n",
            "Name: last_price, Length: 2209, dtype: int64\n"
          ],
          "name": "stdout"
        }
      ]
    },
    {
      "cell_type": "code",
      "metadata": {
        "id": "uArsEe6nbVWU",
        "outputId": "4f057e5d-b16b-4f84-bd7d-6c6f67ddd556"
      },
      "source": [
        "print(section_price['last_price'].median())"
      ],
      "execution_count": null,
      "outputs": [
        {
          "output_type": "stream",
          "text": [
            "4400000.0\n"
          ],
          "name": "stdout"
        }
      ]
    },
    {
      "cell_type": "code",
      "metadata": {
        "id": "lX0J-KjKbVWU",
        "outputId": "80cac84e-7ff0-4b32-fa13-2e19610621bc"
      },
      "source": [
        "section_price['last_price'].plot(kind = 'hist',bins = 100, range = (420000, 12000000), grid =True)\n",
        "plt.xlabel('Стоимость квартиры')\n",
        "plt.ylabel('Кол-во кв')\n",
        "plt.show()"
      ],
      "execution_count": null,
      "outputs": [
        {
          "output_type": "display_data",
          "data": {
            "image/png": "[encoded data removed]",
            "text/plain": [
              "<Figure size 432x288 with 1 Axes>"
            ]
          },
          "metadata": {
            "tags": [],
            "needs_background": "light"
          }
        }
      ]
    },
    {
      "cell_type": "code",
      "metadata": {
        "id": "cjr4t54VbVWV",
        "outputId": "c770a435-c306-4b89-fd02-d56b647b7e30"
      },
      "source": [
        "section_price.boxplot(['last_price'], figsize = (5,5))\n",
        "plt.ylabel('Стоимость кв')\n",
        "plt.ylim(-120000, 13000000)"
      ],
      "execution_count": null,
      "outputs": [
        {
          "output_type": "execute_result",
          "data": {
            "text/plain": [
              "(-120000, 13000000)"
            ]
          },
          "metadata": {
            "tags": []
          },
          "execution_count": 65
        },
        {
          "output_type": "display_data",
          "data": {
            "image/png": "[encoded data removed]",
            "text/plain": [
              "<Figure size 360x360 with 1 Axes>"
            ]
          },
          "metadata": {
            "tags": [],
            "needs_background": "light"
          }
        }
      ]
    },
    {
      "cell_type": "markdown",
      "metadata": {
        "id": "3kYFa9qJbVWV"
      },
      "source": [
        "### Изучим число комнат"
      ]
    },
    {
      "cell_type": "code",
      "metadata": {
        "id": "UVWtODSTbVWV",
        "outputId": "1489d75d-cd0a-4664-96b0-5648ccac8a0e"
      },
      "source": [
        "df['rooms'].value_counts()"
      ],
      "execution_count": null,
      "outputs": [
        {
          "output_type": "execute_result",
          "data": {
            "text/plain": [
              "1     8036\n",
              "2     7924\n",
              "3     5797\n",
              "4     1175\n",
              "5      326\n",
              "0      197\n",
              "6      105\n",
              "7       59\n",
              "8       12\n",
              "9        8\n",
              "10       3\n",
              "14       2\n",
              "11       2\n",
              "19       1\n",
              "12       1\n",
              "16       1\n",
              "15       1\n",
              "Name: rooms, dtype: int64"
            ]
          },
          "metadata": {
            "tags": []
          },
          "execution_count": 66
        }
      ]
    },
    {
      "cell_type": "code",
      "metadata": {
        "id": "SAidEn5IbVWV",
        "outputId": "9dd0fd14-7871-4768-aff1-bda3a08addae"
      },
      "source": [
        "print(df['rooms'].median())"
      ],
      "execution_count": null,
      "outputs": [
        {
          "output_type": "stream",
          "text": [
            "2.0\n"
          ],
          "name": "stdout"
        }
      ]
    },
    {
      "cell_type": "code",
      "metadata": {
        "id": "Ma_QA88NbVWV",
        "outputId": "e69b350a-2d6f-4c45-d495-6a9dafd2dd4e"
      },
      "source": [
        "df['rooms'].plot(kind = 'hist',bins =20, range = (0,19), grid =True)\n",
        "plt.xlabel('Количество комнат')\n",
        "plt.ylabel('Кол-во кв')\n",
        "plt.show()"
      ],
      "execution_count": null,
      "outputs": [
        {
          "output_type": "display_data",
          "data": {
            "image/png": "[encoded data removed]",
            "text/plain": [
              "<Figure size 432x288 with 1 Axes>"
            ]
          },
          "metadata": {
            "tags": [],
            "needs_background": "light"
          }
        }
      ]
    },
    {
      "cell_type": "markdown",
      "metadata": {
        "id": "UgHD1gLFbVWW"
      },
      "source": [
        "<b>Заметим, что большее число 1-комнатных и 2-комнатных. Построим диаграмму размаха, чтобы посмотреть выбросы.</b>"
      ]
    },
    {
      "cell_type": "code",
      "metadata": {
        "id": "t-bXlvIxbVWW",
        "outputId": "c3763551-01d0-4e06-8ee0-47081b6d93d4"
      },
      "source": [
        "df.boxplot(['rooms'], figsize = (8,8))\n",
        "plt.ylabel('Кол-во комнат')\n",
        "plt.ylim(-5, 20)"
      ],
      "execution_count": null,
      "outputs": [
        {
          "output_type": "execute_result",
          "data": {
            "text/plain": [
              "(-5, 20)"
            ]
          },
          "metadata": {
            "tags": []
          },
          "execution_count": 69
        },
        {
          "output_type": "display_data",
          "data": {
            "image/png": "[encoded data removed]",
            "text/plain": [
              "<Figure size 576x576 with 1 Axes>"
            ]
          },
          "metadata": {
            "tags": [],
            "needs_background": "light"
          }
        }
      ]
    },
    {
      "cell_type": "code",
      "metadata": {
        "id": "uxmZI2lcbVWW",
        "outputId": "3ca98037-8c83-40be-da91-1c9617e37ac4"
      },
      "source": [
        "# <применим функцию, на комнаты>\n",
        "section_rooms = section_query(df, 'rooms')\n",
        "print(section_rooms['rooms'].describe())"
      ],
      "execution_count": null,
      "outputs": [
        {
          "output_type": "stream",
          "text": [
            "count   23560.00\n",
            "mean        2.05\n",
            "std         1.01\n",
            "min         0.00\n",
            "25%         1.00\n",
            "50%         2.00\n",
            "75%         3.00\n",
            "max         6.00\n",
            "Name: rooms, dtype: float64\n"
          ],
          "name": "stdout"
        }
      ]
    },
    {
      "cell_type": "code",
      "metadata": {
        "id": "vbER0bvpbVWW",
        "outputId": "f214c334-414b-4ecd-aa30-0c31c978c561"
      },
      "source": [
        "print(section_rooms['rooms'].value_counts())"
      ],
      "execution_count": null,
      "outputs": [
        {
          "output_type": "stream",
          "text": [
            "1    8036\n",
            "2    7924\n",
            "3    5797\n",
            "4    1175\n",
            "5     326\n",
            "0     197\n",
            "6     105\n",
            "Name: rooms, dtype: int64\n"
          ],
          "name": "stdout"
        }
      ]
    },
    {
      "cell_type": "code",
      "metadata": {
        "id": "lZ_vTqJ7bVWW",
        "outputId": "7f441640-4145-413d-d806-dad66efb5e1e"
      },
      "source": [
        "print(section_rooms['rooms'].median())"
      ],
      "execution_count": null,
      "outputs": [
        {
          "output_type": "stream",
          "text": [
            "2.0\n"
          ],
          "name": "stdout"
        }
      ]
    },
    {
      "cell_type": "code",
      "metadata": {
        "id": "q46k4nXgbVWW",
        "outputId": "8e47768f-2602-4c56-99f0-dd8d74900ef8"
      },
      "source": [
        "section_rooms['rooms'].plot(kind = 'hist',bins =7, range = (0, 7), grid =True)\n",
        "plt.xlabel('Количество комнат')\n",
        "plt.ylabel('Кол-во кв')\n",
        "plt.show()"
      ],
      "execution_count": null,
      "outputs": [
        {
          "output_type": "display_data",
          "data": {
            "image/png": "[encoded data removed]",
            "text/plain": [
              "<Figure size 432x288 with 1 Axes>"
            ]
          },
          "metadata": {
            "tags": [],
            "needs_background": "light"
          }
        }
      ]
    },
    {
      "cell_type": "code",
      "metadata": {
        "id": "wQg9HJhhbVWX",
        "outputId": "7c2298a6-200f-42d9-9ceb-6df27174cd4b"
      },
      "source": [
        "section_rooms.boxplot(['rooms'], figsize = (8,8))\n",
        "plt.ylabel('Кол-во комнат')\n",
        "plt.ylim(-2, 8)"
      ],
      "execution_count": null,
      "outputs": [
        {
          "output_type": "execute_result",
          "data": {
            "text/plain": [
              "(-2, 8)"
            ]
          },
          "metadata": {
            "tags": []
          },
          "execution_count": 74
        },
        {
          "output_type": "display_data",
          "data": {
            "image/png": "[encoded data removed]",
            "text/plain": [
              "<Figure size 576x576 with 1 Axes>"
            ]
          },
          "metadata": {
            "tags": [],
            "needs_background": "light"
          }
        }
      ]
    },
    {
      "cell_type": "markdown",
      "metadata": {
        "id": "or5Tmfl3bVWX"
      },
      "source": [
        "### Изучим высоту потолков"
      ]
    },
    {
      "cell_type": "code",
      "metadata": {
        "id": "XBnwNC58bVWX",
        "outputId": "7b38494b-624f-451d-da87-674d0947f5d2"
      },
      "source": [
        "print(df['ceiling_height'].value_counts())"
      ],
      "execution_count": null,
      "outputs": [
        {
          "output_type": "stream",
          "text": [
            "2.50      3515\n",
            "2.60      1645\n",
            "2.70      1572\n",
            "3.00      1109\n",
            "2.80       993\n",
            "          ... \n",
            "27.50        1\n",
            "5.00         1\n",
            "3.59         1\n",
            "4.80         1\n",
            "100.00       1\n",
            "Name: ceiling_height, Length: 183, dtype: int64\n"
          ],
          "name": "stdout"
        }
      ]
    },
    {
      "cell_type": "code",
      "metadata": {
        "id": "XrjzKk6ybVWX",
        "outputId": "cf155f5b-31a1-4783-aea1-58a624c4e5e7"
      },
      "source": [
        "print(df['ceiling_height'].median())"
      ],
      "execution_count": null,
      "outputs": [
        {
          "output_type": "stream",
          "text": [
            "2.65\n"
          ],
          "name": "stdout"
        }
      ]
    },
    {
      "cell_type": "code",
      "metadata": {
        "id": "GR9cjZj9bVWX",
        "outputId": "fd112102-2c98-482f-8dd4-80800f779a72"
      },
      "source": [
        "df['ceiling_height'].plot(kind = 'hist',bins = 50, range = (1, 110), grid =True)\n",
        "plt.xlabel('Высота потолков')\n",
        "plt.ylabel('Кол-во кв')\n",
        "plt.show()"
      ],
      "execution_count": null,
      "outputs": [
        {
          "output_type": "display_data",
          "data": {
            "image/png": "[encoded data removed]",
            "text/plain": [
              "<Figure size 432x288 with 1 Axes>"
            ]
          },
          "metadata": {
            "tags": [],
            "needs_background": "light"
          }
        }
      ]
    },
    {
      "cell_type": "markdown",
      "metadata": {
        "id": "f5yfBdsCbVWX"
      },
      "source": [
        "<b>Сложно проанализировать информацию по данному графику, построим диаграмму размаха и избавимся от выбросов.</b>"
      ]
    },
    {
      "cell_type": "code",
      "metadata": {
        "id": "I764iuFbbVWX",
        "outputId": "af5f7703-670e-455c-db4d-9f09e18fc2ae"
      },
      "source": [
        "df.boxplot(['ceiling_height'], figsize = (8,8))\n",
        "plt.ylabel('Высота потолков')\n",
        "plt.ylim(0.5, 4)"
      ],
      "execution_count": null,
      "outputs": [
        {
          "output_type": "execute_result",
          "data": {
            "text/plain": [
              "(0.5, 4)"
            ]
          },
          "metadata": {
            "tags": []
          },
          "execution_count": 78
        },
        {
          "output_type": "display_data",
          "data": {
            "image/png": "[encoded data removed]",
            "text/plain": [
              "<Figure size 576x576 with 1 Axes>"
            ]
          },
          "metadata": {
            "tags": [],
            "needs_background": "light"
          }
        }
      ]
    },
    {
      "cell_type": "code",
      "metadata": {
        "id": "S_0S5T-xbVWY",
        "outputId": "21ab0f25-d53c-487f-b3d1-14fbe4585345"
      },
      "source": [
        "# <применим функцию, на высоту>\n",
        "section_ceiling = section_query(df, 'ceiling_height')\n",
        "print(section_ceiling['ceiling_height'].describe())"
      ],
      "execution_count": null,
      "outputs": [
        {
          "output_type": "stream",
          "text": [
            "count   13664.00\n",
            "mean        2.68\n",
            "std         0.18\n",
            "min         2.20\n",
            "25%         2.50\n",
            "50%         2.64\n",
            "75%         2.76\n",
            "max         3.21\n",
            "Name: ceiling_height, dtype: float64\n"
          ],
          "name": "stdout"
        }
      ]
    },
    {
      "cell_type": "code",
      "metadata": {
        "id": "Ea15Nt-nbVWY",
        "outputId": "ea0e60e2-e7ff-427b-968f-ea276801c340"
      },
      "source": [
        "print(section_ceiling['ceiling_height'].value_counts())"
      ],
      "execution_count": null,
      "outputs": [
        {
          "output_type": "stream",
          "text": [
            "2.50    3515\n",
            "2.60    1645\n",
            "2.70    1572\n",
            "3.00    1109\n",
            "2.80     993\n",
            "        ... \n",
            "2.25       1\n",
            "2.34       1\n",
            "2.20       1\n",
            "2.49       1\n",
            "2.89       1\n",
            "Name: ceiling_height, Length: 81, dtype: int64\n"
          ],
          "name": "stdout"
        }
      ]
    },
    {
      "cell_type": "code",
      "metadata": {
        "id": "R3dpYlNWbVWY",
        "outputId": "a5f41397-1fd5-430a-8bd5-f944c1b4fcce"
      },
      "source": [
        "print(section_ceiling['ceiling_height'].median())"
      ],
      "execution_count": null,
      "outputs": [
        {
          "output_type": "stream",
          "text": [
            "2.64\n"
          ],
          "name": "stdout"
        }
      ]
    },
    {
      "cell_type": "code",
      "metadata": {
        "id": "TAl0Zok8bVWY",
        "outputId": "5361a948-76bd-4249-b11a-3be20c88b99f"
      },
      "source": [
        "section_ceiling['ceiling_height'].plot(kind = 'hist',bins = 30, range = (0,5), grid =True)\n",
        "plt.xlabel('Высота потолков')\n",
        "plt.ylabel('Кол-во кв')\n",
        "plt.show()"
      ],
      "execution_count": null,
      "outputs": [
        {
          "output_type": "display_data",
          "data": {
            "image/png": "[encoded data removed]",
            "text/plain": [
              "<Figure size 432x288 with 1 Axes>"
            ]
          },
          "metadata": {
            "tags": [],
            "needs_background": "light"
          }
        }
      ]
    },
    {
      "cell_type": "markdown",
      "metadata": {
        "id": "x9lnTU74bVWY"
      },
      "source": [
        "<b>Заметим, что пик в районе 2.50</b>"
      ]
    },
    {
      "cell_type": "code",
      "metadata": {
        "id": "YhLTpdNDbVWY",
        "outputId": "cd0230e2-8d8d-4229-c849-24ce41b0e09e"
      },
      "source": [
        "section_ceiling.boxplot(['ceiling_height'], figsize = (8,8))\n",
        "plt.ylabel('Высота потолков')\n",
        "plt.ylim(2, 3.5)"
      ],
      "execution_count": null,
      "outputs": [
        {
          "output_type": "execute_result",
          "data": {
            "text/plain": [
              "(2, 3.5)"
            ]
          },
          "metadata": {
            "tags": []
          },
          "execution_count": 83
        },
        {
          "output_type": "display_data",
          "data": {
            "image/png": "[encoded data removed]",
            "text/plain": [
              "<Figure size 576x576 with 1 Axes>"
            ]
          },
          "metadata": {
            "tags": [],
            "needs_background": "light"
          }
        }
      ]
    },
    {
      "cell_type": "markdown",
      "metadata": {
        "id": "NCbJaOcjbVWZ"
      },
      "source": [
        "### Вывод:\n",
        "1. Изучили площадь, цену, число комнат, высоту потолков. Построили гистограммы и диаграммы размаха. \n",
        "2. Увидели большое количетсво редких и выбивающихся значений(выбросов). В виду этого гистограммы приобретали не очень информативный характер.\n",
        "3. Используя срезы, избавились от выбросов и построили гистограммы и диаграммы. Увидели, что значения пришли в нормальный вид."
      ]
    },
    {
      "cell_type": "markdown",
      "metadata": {
        "id": "err9WlcUbVWZ"
      },
      "source": [
        "### Изучите время продажи квартиры. Постройте гистограмму. Посчитайте среднее и медиану. Опишите, сколько обычно занимает продажа. Когда можно считать, что продажи прошли очень быстро, а когда необычно долго? "
      ]
    },
    {
      "cell_type": "code",
      "metadata": {
        "id": "si1LGU02bVWZ",
        "outputId": "8c3de7e7-dd9a-4526-f704-9558159c0586"
      },
      "source": [
        "display(df)"
      ],
      "execution_count": null,
      "outputs": [
        {
          "output_type": "display_data",
          "data": {
            "text/html": [
              "<div>\n",
              "<style scoped>\n",
              "    .dataframe tbody tr th:only-of-type {\n",
              "        vertical-align: middle;\n",
              "    }\n",
              "\n",
              "    .dataframe tbody tr th {\n",
              "        vertical-align: top;\n",
              "    }\n",
              "\n",
              "    .dataframe thead th {\n",
              "        text-align: right;\n",
              "    }\n",
              "</style>\n",
              "<table border=\"1\" class=\"dataframe\">\n",
              "  <thead>\n",
              "    <tr style=\"text-align: right;\">\n",
              "      <th></th>\n",
              "      <th>total_images</th>\n",
              "      <th>last_price</th>\n",
              "      <th>total_area</th>\n",
              "      <th>first_day_exposition</th>\n",
              "      <th>rooms</th>\n",
              "      <th>ceiling_height</th>\n",
              "      <th>floors_total</th>\n",
              "      <th>living_area</th>\n",
              "      <th>floor</th>\n",
              "      <th>is_apartment</th>\n",
              "      <th>...</th>\n",
              "      <th>number_ponds_around_3km</th>\n",
              "      <th>ponds_nearest</th>\n",
              "      <th>days_exposition</th>\n",
              "      <th>price_per_meter</th>\n",
              "      <th>weekday_public</th>\n",
              "      <th>month_public</th>\n",
              "      <th>year_public</th>\n",
              "      <th>define_floor</th>\n",
              "      <th>living_ratio_total</th>\n",
              "      <th>kitchen_ratio_total</th>\n",
              "    </tr>\n",
              "  </thead>\n",
              "  <tbody>\n",
              "    <tr>\n",
              "      <td>0</td>\n",
              "      <td>20</td>\n",
              "      <td>13000000.00</td>\n",
              "      <td>108.00</td>\n",
              "      <td>2019-03-07</td>\n",
              "      <td>3</td>\n",
              "      <td>2.70</td>\n",
              "      <td>16</td>\n",
              "      <td>51.00</td>\n",
              "      <td>8</td>\n",
              "      <td>False</td>\n",
              "      <td>...</td>\n",
              "      <td>2</td>\n",
              "      <td>755.00</td>\n",
              "      <td>nan</td>\n",
              "      <td>120370.37</td>\n",
              "      <td>Thursday</td>\n",
              "      <td>March</td>\n",
              "      <td>2019</td>\n",
              "      <td>другой</td>\n",
              "      <td>0.47</td>\n",
              "      <td>0.23</td>\n",
              "    </tr>\n",
              "    <tr>\n",
              "      <td>1</td>\n",
              "      <td>7</td>\n",
              "      <td>3350000.00</td>\n",
              "      <td>40.40</td>\n",
              "      <td>2018-12-04</td>\n",
              "      <td>1</td>\n",
              "      <td>nan</td>\n",
              "      <td>11</td>\n",
              "      <td>18.60</td>\n",
              "      <td>1</td>\n",
              "      <td>False</td>\n",
              "      <td>...</td>\n",
              "      <td>0</td>\n",
              "      <td>nan</td>\n",
              "      <td>81.00</td>\n",
              "      <td>82920.79</td>\n",
              "      <td>Tuesday</td>\n",
              "      <td>December</td>\n",
              "      <td>2018</td>\n",
              "      <td>первый</td>\n",
              "      <td>0.46</td>\n",
              "      <td>0.27</td>\n",
              "    </tr>\n",
              "    <tr>\n",
              "      <td>2</td>\n",
              "      <td>10</td>\n",
              "      <td>5196000.00</td>\n",
              "      <td>56.00</td>\n",
              "      <td>2015-08-20</td>\n",
              "      <td>2</td>\n",
              "      <td>nan</td>\n",
              "      <td>5</td>\n",
              "      <td>34.30</td>\n",
              "      <td>4</td>\n",
              "      <td>False</td>\n",
              "      <td>...</td>\n",
              "      <td>2</td>\n",
              "      <td>574.00</td>\n",
              "      <td>558.00</td>\n",
              "      <td>92785.71</td>\n",
              "      <td>Thursday</td>\n",
              "      <td>August</td>\n",
              "      <td>2015</td>\n",
              "      <td>другой</td>\n",
              "      <td>0.61</td>\n",
              "      <td>0.15</td>\n",
              "    </tr>\n",
              "    <tr>\n",
              "      <td>3</td>\n",
              "      <td>0</td>\n",
              "      <td>64900000.00</td>\n",
              "      <td>159.00</td>\n",
              "      <td>2015-07-24</td>\n",
              "      <td>3</td>\n",
              "      <td>nan</td>\n",
              "      <td>14</td>\n",
              "      <td>nan</td>\n",
              "      <td>9</td>\n",
              "      <td>False</td>\n",
              "      <td>...</td>\n",
              "      <td>3</td>\n",
              "      <td>234.00</td>\n",
              "      <td>424.00</td>\n",
              "      <td>408176.10</td>\n",
              "      <td>Friday</td>\n",
              "      <td>July</td>\n",
              "      <td>2015</td>\n",
              "      <td>другой</td>\n",
              "      <td>nan</td>\n",
              "      <td>nan</td>\n",
              "    </tr>\n",
              "    <tr>\n",
              "      <td>4</td>\n",
              "      <td>2</td>\n",
              "      <td>10000000.00</td>\n",
              "      <td>100.00</td>\n",
              "      <td>2018-06-19</td>\n",
              "      <td>2</td>\n",
              "      <td>3.03</td>\n",
              "      <td>14</td>\n",
              "      <td>32.00</td>\n",
              "      <td>13</td>\n",
              "      <td>False</td>\n",
              "      <td>...</td>\n",
              "      <td>1</td>\n",
              "      <td>48.00</td>\n",
              "      <td>121.00</td>\n",
              "      <td>100000.00</td>\n",
              "      <td>Tuesday</td>\n",
              "      <td>June</td>\n",
              "      <td>2018</td>\n",
              "      <td>другой</td>\n",
              "      <td>0.32</td>\n",
              "      <td>0.41</td>\n",
              "    </tr>\n",
              "    <tr>\n",
              "      <td>...</td>\n",
              "      <td>...</td>\n",
              "      <td>...</td>\n",
              "      <td>...</td>\n",
              "      <td>...</td>\n",
              "      <td>...</td>\n",
              "      <td>...</td>\n",
              "      <td>...</td>\n",
              "      <td>...</td>\n",
              "      <td>...</td>\n",
              "      <td>...</td>\n",
              "      <td>...</td>\n",
              "      <td>...</td>\n",
              "      <td>...</td>\n",
              "      <td>...</td>\n",
              "      <td>...</td>\n",
              "      <td>...</td>\n",
              "      <td>...</td>\n",
              "      <td>...</td>\n",
              "      <td>...</td>\n",
              "      <td>...</td>\n",
              "      <td>...</td>\n",
              "    </tr>\n",
              "    <tr>\n",
              "      <td>23694</td>\n",
              "      <td>9</td>\n",
              "      <td>9700000.00</td>\n",
              "      <td>133.81</td>\n",
              "      <td>2017-03-21</td>\n",
              "      <td>3</td>\n",
              "      <td>3.70</td>\n",
              "      <td>5</td>\n",
              "      <td>73.30</td>\n",
              "      <td>3</td>\n",
              "      <td>False</td>\n",
              "      <td>...</td>\n",
              "      <td>3</td>\n",
              "      <td>381.00</td>\n",
              "      <td>nan</td>\n",
              "      <td>72490.85</td>\n",
              "      <td>Tuesday</td>\n",
              "      <td>March</td>\n",
              "      <td>2017</td>\n",
              "      <td>другой</td>\n",
              "      <td>0.55</td>\n",
              "      <td>0.10</td>\n",
              "    </tr>\n",
              "    <tr>\n",
              "      <td>23695</td>\n",
              "      <td>14</td>\n",
              "      <td>3100000.00</td>\n",
              "      <td>59.00</td>\n",
              "      <td>2018-01-15</td>\n",
              "      <td>3</td>\n",
              "      <td>nan</td>\n",
              "      <td>5</td>\n",
              "      <td>38.00</td>\n",
              "      <td>4</td>\n",
              "      <td>False</td>\n",
              "      <td>...</td>\n",
              "      <td>0</td>\n",
              "      <td>nan</td>\n",
              "      <td>45.00</td>\n",
              "      <td>52542.37</td>\n",
              "      <td>Monday</td>\n",
              "      <td>January</td>\n",
              "      <td>2018</td>\n",
              "      <td>другой</td>\n",
              "      <td>0.64</td>\n",
              "      <td>0.14</td>\n",
              "    </tr>\n",
              "    <tr>\n",
              "      <td>23696</td>\n",
              "      <td>18</td>\n",
              "      <td>2500000.00</td>\n",
              "      <td>56.70</td>\n",
              "      <td>2018-02-11</td>\n",
              "      <td>2</td>\n",
              "      <td>nan</td>\n",
              "      <td>3</td>\n",
              "      <td>29.70</td>\n",
              "      <td>1</td>\n",
              "      <td>False</td>\n",
              "      <td>...</td>\n",
              "      <td>0</td>\n",
              "      <td>nan</td>\n",
              "      <td>nan</td>\n",
              "      <td>44091.71</td>\n",
              "      <td>Sunday</td>\n",
              "      <td>February</td>\n",
              "      <td>2018</td>\n",
              "      <td>первый</td>\n",
              "      <td>0.52</td>\n",
              "      <td>nan</td>\n",
              "    </tr>\n",
              "    <tr>\n",
              "      <td>23697</td>\n",
              "      <td>13</td>\n",
              "      <td>11475000.00</td>\n",
              "      <td>76.75</td>\n",
              "      <td>2017-03-28</td>\n",
              "      <td>2</td>\n",
              "      <td>3.00</td>\n",
              "      <td>17</td>\n",
              "      <td>nan</td>\n",
              "      <td>12</td>\n",
              "      <td>False</td>\n",
              "      <td>...</td>\n",
              "      <td>3</td>\n",
              "      <td>196.00</td>\n",
              "      <td>602.00</td>\n",
              "      <td>149511.40</td>\n",
              "      <td>Tuesday</td>\n",
              "      <td>March</td>\n",
              "      <td>2017</td>\n",
              "      <td>другой</td>\n",
              "      <td>nan</td>\n",
              "      <td>0.30</td>\n",
              "    </tr>\n",
              "    <tr>\n",
              "      <td>23698</td>\n",
              "      <td>4</td>\n",
              "      <td>1350000.00</td>\n",
              "      <td>32.30</td>\n",
              "      <td>2017-07-21</td>\n",
              "      <td>1</td>\n",
              "      <td>2.50</td>\n",
              "      <td>5</td>\n",
              "      <td>12.30</td>\n",
              "      <td>1</td>\n",
              "      <td>False</td>\n",
              "      <td>...</td>\n",
              "      <td>0</td>\n",
              "      <td>nan</td>\n",
              "      <td>nan</td>\n",
              "      <td>41795.67</td>\n",
              "      <td>Friday</td>\n",
              "      <td>July</td>\n",
              "      <td>2017</td>\n",
              "      <td>первый</td>\n",
              "      <td>0.38</td>\n",
              "      <td>0.28</td>\n",
              "    </tr>\n",
              "  </tbody>\n",
              "</table>\n",
              "<p>23650 rows × 29 columns</p>\n",
              "</div>"
            ],
            "text/plain": [
              "       total_images  last_price  total_area first_day_exposition  rooms  \\\n",
              "0                20 13000000.00      108.00           2019-03-07      3   \n",
              "1                 7  3350000.00       40.40           2018-12-04      1   \n",
              "2                10  5196000.00       56.00           2015-08-20      2   \n",
              "3                 0 64900000.00      159.00           2015-07-24      3   \n",
              "4                 2 10000000.00      100.00           2018-06-19      2   \n",
              "...             ...         ...         ...                  ...    ...   \n",
              "23694             9  9700000.00      133.81           2017-03-21      3   \n",
              "23695            14  3100000.00       59.00           2018-01-15      3   \n",
              "23696            18  2500000.00       56.70           2018-02-11      2   \n",
              "23697            13 11475000.00       76.75           2017-03-28      2   \n",
              "23698             4  1350000.00       32.30           2017-07-21      1   \n",
              "\n",
              "       ceiling_height  floors_total  living_area  floor  is_apartment  ...  \\\n",
              "0                2.70            16        51.00      8         False  ...   \n",
              "1                 nan            11        18.60      1         False  ...   \n",
              "2                 nan             5        34.30      4         False  ...   \n",
              "3                 nan            14          nan      9         False  ...   \n",
              "4                3.03            14        32.00     13         False  ...   \n",
              "...               ...           ...          ...    ...           ...  ...   \n",
              "23694            3.70             5        73.30      3         False  ...   \n",
              "23695             nan             5        38.00      4         False  ...   \n",
              "23696             nan             3        29.70      1         False  ...   \n",
              "23697            3.00            17          nan     12         False  ...   \n",
              "23698            2.50             5        12.30      1         False  ...   \n",
              "\n",
              "       number_ponds_around_3km  ponds_nearest  days_exposition  \\\n",
              "0                            2         755.00              nan   \n",
              "1                            0            nan            81.00   \n",
              "2                            2         574.00           558.00   \n",
              "3                            3         234.00           424.00   \n",
              "4                            1          48.00           121.00   \n",
              "...                        ...            ...              ...   \n",
              "23694                        3         381.00              nan   \n",
              "23695                        0            nan            45.00   \n",
              "23696                        0            nan              nan   \n",
              "23697                        3         196.00           602.00   \n",
              "23698                        0            nan              nan   \n",
              "\n",
              "       price_per_meter weekday_public  month_public  year_public  \\\n",
              "0            120370.37       Thursday         March         2019   \n",
              "1             82920.79        Tuesday      December         2018   \n",
              "2             92785.71       Thursday        August         2015   \n",
              "3            408176.10         Friday          July         2015   \n",
              "4            100000.00        Tuesday          June         2018   \n",
              "...                ...            ...           ...          ...   \n",
              "23694         72490.85        Tuesday         March         2017   \n",
              "23695         52542.37         Monday       January         2018   \n",
              "23696         44091.71         Sunday      February         2018   \n",
              "23697        149511.40        Tuesday         March         2017   \n",
              "23698         41795.67         Friday          July         2017   \n",
              "\n",
              "       define_floor  living_ratio_total  kitchen_ratio_total  \n",
              "0            другой                0.47                 0.23  \n",
              "1            первый                0.46                 0.27  \n",
              "2            другой                0.61                 0.15  \n",
              "3            другой                 nan                  nan  \n",
              "4            другой                0.32                 0.41  \n",
              "...             ...                 ...                  ...  \n",
              "23694        другой                0.55                 0.10  \n",
              "23695        другой                0.64                 0.14  \n",
              "23696        первый                0.52                  nan  \n",
              "23697        другой                 nan                 0.30  \n",
              "23698        первый                0.38                 0.28  \n",
              "\n",
              "[23650 rows x 29 columns]"
            ]
          },
          "metadata": {
            "tags": []
          }
        }
      ]
    },
    {
      "cell_type": "code",
      "metadata": {
        "id": "RaQXmhfzbVWa",
        "outputId": "d72164a8-0613-4246-8267-07411bd4ace5"
      },
      "source": [
        "df['days_exposition'].describe()"
      ],
      "execution_count": null,
      "outputs": [
        {
          "output_type": "execute_result",
          "data": {
            "text/plain": [
              "count   20470.00\n",
              "mean      180.75\n",
              "std       219.78\n",
              "min         1.00\n",
              "25%        45.00\n",
              "50%        95.00\n",
              "75%       231.00\n",
              "max      1580.00\n",
              "Name: days_exposition, dtype: float64"
            ]
          },
          "metadata": {
            "tags": []
          },
          "execution_count": 85
        }
      ]
    },
    {
      "cell_type": "code",
      "metadata": {
        "id": "KQcBiostbVWa",
        "outputId": "151ff276-776a-401f-e196-040dc4e845b7"
      },
      "source": [
        "print(df['days_exposition'].value_counts().head(15))"
      ],
      "execution_count": null,
      "outputs": [
        {
          "output_type": "stream",
          "text": [
            "45.00    879\n",
            "60.00    538\n",
            "7.00     234\n",
            "30.00    208\n",
            "90.00    203\n",
            "4.00     174\n",
            "3.00     158\n",
            "5.00     152\n",
            "14.00    148\n",
            "9.00     142\n",
            "20.00    139\n",
            "8.00     139\n",
            "44.00    138\n",
            "11.00    135\n",
            "18.00    129\n",
            "Name: days_exposition, dtype: int64\n"
          ],
          "name": "stdout"
        }
      ]
    },
    {
      "cell_type": "code",
      "metadata": {
        "id": "9KxHLfnjbVWa",
        "outputId": "98301bcd-d013-4ea9-bdf4-ca0c20d4be1e"
      },
      "source": [
        "print(df['days_exposition'].value_counts().tail(15))"
      ],
      "execution_count": null,
      "outputs": [
        {
          "output_type": "stream",
          "text": [
            "1434.00    1\n",
            "1090.00    1\n",
            "1183.00    1\n",
            "1355.00    1\n",
            "1028.00    1\n",
            "1182.00    1\n",
            "996.00     1\n",
            "1255.00    1\n",
            "1441.00    1\n",
            "1135.00    1\n",
            "1110.00    1\n",
            "1049.00    1\n",
            "951.00     1\n",
            "693.00     1\n",
            "773.00     1\n",
            "Name: days_exposition, dtype: int64\n"
          ],
          "name": "stdout"
        }
      ]
    },
    {
      "cell_type": "markdown",
      "metadata": {
        "id": "Ph2ycuA3bVWa"
      },
      "source": [
        "***Максимальное время продажи больше 4 лет, либо просто забыли снять публикацию. Обычно в системах стоит автомат на снятие публикации через пару месяцев. Возможно у пользователя стояло автообновление публикации. А возможно реально так и продавалась.***"
      ]
    },
    {
      "cell_type": "code",
      "metadata": {
        "id": "97iR6ZC9bVWa",
        "outputId": "ba3381cc-0b67-4135-903a-95d38d96c3a4"
      },
      "source": [
        "print(df['days_exposition'].median())"
      ],
      "execution_count": null,
      "outputs": [
        {
          "output_type": "stream",
          "text": [
            "95.0\n"
          ],
          "name": "stdout"
        }
      ]
    },
    {
      "cell_type": "code",
      "metadata": {
        "id": "JTh5iXLObVWa",
        "outputId": "b3881f70-41f4-47d4-b1d5-cbad13904a87"
      },
      "source": [
        "df['days_exposition'].plot(kind = 'hist',bins = 100, range = (0, 1600), grid =True)\n",
        "plt.xlabel('Время продажи')\n",
        "plt.ylabel('Кол-во кв')\n",
        "plt.show()"
      ],
      "execution_count": null,
      "outputs": [
        {
          "output_type": "display_data",
          "data": {
            "image/png": "[encoded data removed]",
            "text/plain": [
              "<Figure size 432x288 with 1 Axes>"
            ]
          },
          "metadata": {
            "tags": [],
            "needs_background": "light"
          }
        }
      ]
    },
    {
      "cell_type": "markdown",
      "metadata": {
        "id": "bmvB-3q9bVWb"
      },
      "source": [
        "1. <b>Наблюдаем,что гистограмма с длинным хвостом на высоких значениях(возможно немало выбросов), которые влияют на среднее. Встречаются падения в ноль, не доходя до нулевого значения.\n",
        "2. Узнаем характерный разброс, построим диаграмму размаха.\n",
        "3. Построим гистограмму и диаграму размаха без выбросов.</b>"
      ]
    },
    {
      "cell_type": "code",
      "metadata": {
        "id": "1spkdN9tbVWb",
        "outputId": "062a68ce-4a3b-4e99-80d5-9845e61131e2"
      },
      "source": [
        "df.boxplot(['days_exposition'], figsize = (8,8))\n",
        "plt.ylabel('Время продажи')\n",
        "plt.ylim(-100, 1600)"
      ],
      "execution_count": null,
      "outputs": [
        {
          "output_type": "execute_result",
          "data": {
            "text/plain": [
              "(-100, 1600)"
            ]
          },
          "metadata": {
            "tags": []
          },
          "execution_count": 90
        },
        {
          "output_type": "display_data",
          "data": {
            "image/png": "[encoded data removed]",
            "text/plain": [
              "<Figure size 576x576 with 1 Axes>"
            ]
          },
          "metadata": {
            "tags": [],
            "needs_background": "light"
          }
        }
      ]
    },
    {
      "cell_type": "markdown",
      "metadata": {
        "id": "TdZXVLunbVWb"
      },
      "source": [
        "### Вывод\n",
        "1. Делая выводы по гистограммам, видим какое количество квартир продается спустя 1.5 - 2 месяца. В целом, продажа до 3 месяцев можно считать очень быстрой.\n",
        "2. Очень долгой продажей можно считать продажу свыше 6 месяцев."
      ]
    },
    {
      "cell_type": "markdown",
      "metadata": {
        "id": "Sl7JD8zAbVWc"
      },
      "source": [
        "### Какие факторы больше всего влияют на стоимость квартиры? Изучите, зависит ли цена от площади, числа комнат, удалённости от центра. Изучите зависимость цены от того, на каком этаже расположена квартира: первом, последнем или другом. Также изучите зависимость от даты размещения: дня недели, месяца и года."
      ]
    },
    {
      "cell_type": "markdown",
      "metadata": {
        "id": "vtyMiwyjbVWc"
      },
      "source": [
        "<b>Изучим, зависит ли цена от площади, числа комнат, удалённости от центра.</b>"
      ]
    },
    {
      "cell_type": "code",
      "metadata": {
        "id": "ayFe3anQbVWc",
        "outputId": "420fe928-f990-47c3-dfaf-1091627960f1"
      },
      "source": [
        "df[['last_price','living_area','rooms','city_center_nearest']].corr()"
      ],
      "execution_count": null,
      "outputs": [
        {
          "output_type": "execute_result",
          "data": {
            "text/html": [
              "<div>\n",
              "<style scoped>\n",
              "    .dataframe tbody tr th:only-of-type {\n",
              "        vertical-align: middle;\n",
              "    }\n",
              "\n",
              "    .dataframe tbody tr th {\n",
              "        vertical-align: top;\n",
              "    }\n",
              "\n",
              "    .dataframe thead th {\n",
              "        text-align: right;\n",
              "    }\n",
              "</style>\n",
              "<table border=\"1\" class=\"dataframe\">\n",
              "  <thead>\n",
              "    <tr style=\"text-align: right;\">\n",
              "      <th></th>\n",
              "      <th>last_price</th>\n",
              "      <th>living_area</th>\n",
              "      <th>rooms</th>\n",
              "      <th>city_center_nearest</th>\n",
              "    </tr>\n",
              "  </thead>\n",
              "  <tbody>\n",
              "    <tr>\n",
              "      <td>last_price</td>\n",
              "      <td>1.00</td>\n",
              "      <td>0.57</td>\n",
              "      <td>0.36</td>\n",
              "      <td>-0.21</td>\n",
              "    </tr>\n",
              "    <tr>\n",
              "      <td>living_area</td>\n",
              "      <td>0.57</td>\n",
              "      <td>1.00</td>\n",
              "      <td>0.85</td>\n",
              "      <td>-0.23</td>\n",
              "    </tr>\n",
              "    <tr>\n",
              "      <td>rooms</td>\n",
              "      <td>0.36</td>\n",
              "      <td>0.85</td>\n",
              "      <td>1.00</td>\n",
              "      <td>-0.18</td>\n",
              "    </tr>\n",
              "    <tr>\n",
              "      <td>city_center_nearest</td>\n",
              "      <td>-0.21</td>\n",
              "      <td>-0.23</td>\n",
              "      <td>-0.18</td>\n",
              "      <td>1.00</td>\n",
              "    </tr>\n",
              "  </tbody>\n",
              "</table>\n",
              "</div>"
            ],
            "text/plain": [
              "                     last_price  living_area  rooms  city_center_nearest\n",
              "last_price                 1.00         0.57   0.36                -0.21\n",
              "living_area                0.57         1.00   0.85                -0.23\n",
              "rooms                      0.36         0.85   1.00                -0.18\n",
              "city_center_nearest       -0.21        -0.23  -0.18                 1.00"
            ]
          },
          "metadata": {
            "tags": []
          },
          "execution_count": 91
        }
      ]
    },
    {
      "cell_type": "markdown",
      "metadata": {
        "id": "v5qQcBDJbVWc"
      },
      "source": [
        "1. Корреляция между ценой и площадью квартиры <b>0,57</b> говорит о наличии связи, однако это средний показатель. Выходит, увеличение площади сопровождается прибавкой в цене, но так бывает не всегда. Видимо из выбранных параметров она влияет больше всего на цену.\n",
        "2. Корреляция между ценой и количеством комнат <b>0,36</b> говорит о наличии связи, однако очень слабой. Выходит, увеличение числа комнат сопровождается прибавкой в цене, но так бывает не всегда.\n",
        "3. Корреляция между ценой и удалённости от центра <b>-0,21</b>, отрицательная, говорит о наличии связи, однако очень слабой. Выходит, увеличение удаленности от центра сопровождается уменьшением в цене, но так бывает не всегда."
      ]
    },
    {
      "cell_type": "markdown",
      "metadata": {
        "id": "v4s7gOVmbVWc"
      },
      "source": [
        "<b>Изучим зависимость цены от того, на каком этаже расположена квартира: первом, последнем или другом.</b>"
      ]
    },
    {
      "cell_type": "code",
      "metadata": {
        "id": "Hm-_sX30bVWc",
        "outputId": "72fc3156-9788-4ae2-941d-878ee779f553"
      },
      "source": [
        "display(df)"
      ],
      "execution_count": null,
      "outputs": [
        {
          "output_type": "display_data",
          "data": {
            "text/html": [
              "<div>\n",
              "<style scoped>\n",
              "    .dataframe tbody tr th:only-of-type {\n",
              "        vertical-align: middle;\n",
              "    }\n",
              "\n",
              "    .dataframe tbody tr th {\n",
              "        vertical-align: top;\n",
              "    }\n",
              "\n",
              "    .dataframe thead th {\n",
              "        text-align: right;\n",
              "    }\n",
              "</style>\n",
              "<table border=\"1\" class=\"dataframe\">\n",
              "  <thead>\n",
              "    <tr style=\"text-align: right;\">\n",
              "      <th></th>\n",
              "      <th>total_images</th>\n",
              "      <th>last_price</th>\n",
              "      <th>total_area</th>\n",
              "      <th>first_day_exposition</th>\n",
              "      <th>rooms</th>\n",
              "      <th>ceiling_height</th>\n",
              "      <th>floors_total</th>\n",
              "      <th>living_area</th>\n",
              "      <th>floor</th>\n",
              "      <th>is_apartment</th>\n",
              "      <th>...</th>\n",
              "      <th>number_ponds_around_3km</th>\n",
              "      <th>ponds_nearest</th>\n",
              "      <th>days_exposition</th>\n",
              "      <th>price_per_meter</th>\n",
              "      <th>weekday_public</th>\n",
              "      <th>month_public</th>\n",
              "      <th>year_public</th>\n",
              "      <th>define_floor</th>\n",
              "      <th>living_ratio_total</th>\n",
              "      <th>kitchen_ratio_total</th>\n",
              "    </tr>\n",
              "  </thead>\n",
              "  <tbody>\n",
              "    <tr>\n",
              "      <td>0</td>\n",
              "      <td>20</td>\n",
              "      <td>13000000.00</td>\n",
              "      <td>108.00</td>\n",
              "      <td>2019-03-07</td>\n",
              "      <td>3</td>\n",
              "      <td>2.70</td>\n",
              "      <td>16</td>\n",
              "      <td>51.00</td>\n",
              "      <td>8</td>\n",
              "      <td>False</td>\n",
              "      <td>...</td>\n",
              "      <td>2</td>\n",
              "      <td>755.00</td>\n",
              "      <td>nan</td>\n",
              "      <td>120370.37</td>\n",
              "      <td>Thursday</td>\n",
              "      <td>March</td>\n",
              "      <td>2019</td>\n",
              "      <td>другой</td>\n",
              "      <td>0.47</td>\n",
              "      <td>0.23</td>\n",
              "    </tr>\n",
              "    <tr>\n",
              "      <td>1</td>\n",
              "      <td>7</td>\n",
              "      <td>3350000.00</td>\n",
              "      <td>40.40</td>\n",
              "      <td>2018-12-04</td>\n",
              "      <td>1</td>\n",
              "      <td>nan</td>\n",
              "      <td>11</td>\n",
              "      <td>18.60</td>\n",
              "      <td>1</td>\n",
              "      <td>False</td>\n",
              "      <td>...</td>\n",
              "      <td>0</td>\n",
              "      <td>nan</td>\n",
              "      <td>81.00</td>\n",
              "      <td>82920.79</td>\n",
              "      <td>Tuesday</td>\n",
              "      <td>December</td>\n",
              "      <td>2018</td>\n",
              "      <td>первый</td>\n",
              "      <td>0.46</td>\n",
              "      <td>0.27</td>\n",
              "    </tr>\n",
              "    <tr>\n",
              "      <td>2</td>\n",
              "      <td>10</td>\n",
              "      <td>5196000.00</td>\n",
              "      <td>56.00</td>\n",
              "      <td>2015-08-20</td>\n",
              "      <td>2</td>\n",
              "      <td>nan</td>\n",
              "      <td>5</td>\n",
              "      <td>34.30</td>\n",
              "      <td>4</td>\n",
              "      <td>False</td>\n",
              "      <td>...</td>\n",
              "      <td>2</td>\n",
              "      <td>574.00</td>\n",
              "      <td>558.00</td>\n",
              "      <td>92785.71</td>\n",
              "      <td>Thursday</td>\n",
              "      <td>August</td>\n",
              "      <td>2015</td>\n",
              "      <td>другой</td>\n",
              "      <td>0.61</td>\n",
              "      <td>0.15</td>\n",
              "    </tr>\n",
              "    <tr>\n",
              "      <td>3</td>\n",
              "      <td>0</td>\n",
              "      <td>64900000.00</td>\n",
              "      <td>159.00</td>\n",
              "      <td>2015-07-24</td>\n",
              "      <td>3</td>\n",
              "      <td>nan</td>\n",
              "      <td>14</td>\n",
              "      <td>nan</td>\n",
              "      <td>9</td>\n",
              "      <td>False</td>\n",
              "      <td>...</td>\n",
              "      <td>3</td>\n",
              "      <td>234.00</td>\n",
              "      <td>424.00</td>\n",
              "      <td>408176.10</td>\n",
              "      <td>Friday</td>\n",
              "      <td>July</td>\n",
              "      <td>2015</td>\n",
              "      <td>другой</td>\n",
              "      <td>nan</td>\n",
              "      <td>nan</td>\n",
              "    </tr>\n",
              "    <tr>\n",
              "      <td>4</td>\n",
              "      <td>2</td>\n",
              "      <td>10000000.00</td>\n",
              "      <td>100.00</td>\n",
              "      <td>2018-06-19</td>\n",
              "      <td>2</td>\n",
              "      <td>3.03</td>\n",
              "      <td>14</td>\n",
              "      <td>32.00</td>\n",
              "      <td>13</td>\n",
              "      <td>False</td>\n",
              "      <td>...</td>\n",
              "      <td>1</td>\n",
              "      <td>48.00</td>\n",
              "      <td>121.00</td>\n",
              "      <td>100000.00</td>\n",
              "      <td>Tuesday</td>\n",
              "      <td>June</td>\n",
              "      <td>2018</td>\n",
              "      <td>другой</td>\n",
              "      <td>0.32</td>\n",
              "      <td>0.41</td>\n",
              "    </tr>\n",
              "    <tr>\n",
              "      <td>...</td>\n",
              "      <td>...</td>\n",
              "      <td>...</td>\n",
              "      <td>...</td>\n",
              "      <td>...</td>\n",
              "      <td>...</td>\n",
              "      <td>...</td>\n",
              "      <td>...</td>\n",
              "      <td>...</td>\n",
              "      <td>...</td>\n",
              "      <td>...</td>\n",
              "      <td>...</td>\n",
              "      <td>...</td>\n",
              "      <td>...</td>\n",
              "      <td>...</td>\n",
              "      <td>...</td>\n",
              "      <td>...</td>\n",
              "      <td>...</td>\n",
              "      <td>...</td>\n",
              "      <td>...</td>\n",
              "      <td>...</td>\n",
              "      <td>...</td>\n",
              "    </tr>\n",
              "    <tr>\n",
              "      <td>23694</td>\n",
              "      <td>9</td>\n",
              "      <td>9700000.00</td>\n",
              "      <td>133.81</td>\n",
              "      <td>2017-03-21</td>\n",
              "      <td>3</td>\n",
              "      <td>3.70</td>\n",
              "      <td>5</td>\n",
              "      <td>73.30</td>\n",
              "      <td>3</td>\n",
              "      <td>False</td>\n",
              "      <td>...</td>\n",
              "      <td>3</td>\n",
              "      <td>381.00</td>\n",
              "      <td>nan</td>\n",
              "      <td>72490.85</td>\n",
              "      <td>Tuesday</td>\n",
              "      <td>March</td>\n",
              "      <td>2017</td>\n",
              "      <td>другой</td>\n",
              "      <td>0.55</td>\n",
              "      <td>0.10</td>\n",
              "    </tr>\n",
              "    <tr>\n",
              "      <td>23695</td>\n",
              "      <td>14</td>\n",
              "      <td>3100000.00</td>\n",
              "      <td>59.00</td>\n",
              "      <td>2018-01-15</td>\n",
              "      <td>3</td>\n",
              "      <td>nan</td>\n",
              "      <td>5</td>\n",
              "      <td>38.00</td>\n",
              "      <td>4</td>\n",
              "      <td>False</td>\n",
              "      <td>...</td>\n",
              "      <td>0</td>\n",
              "      <td>nan</td>\n",
              "      <td>45.00</td>\n",
              "      <td>52542.37</td>\n",
              "      <td>Monday</td>\n",
              "      <td>January</td>\n",
              "      <td>2018</td>\n",
              "      <td>другой</td>\n",
              "      <td>0.64</td>\n",
              "      <td>0.14</td>\n",
              "    </tr>\n",
              "    <tr>\n",
              "      <td>23696</td>\n",
              "      <td>18</td>\n",
              "      <td>2500000.00</td>\n",
              "      <td>56.70</td>\n",
              "      <td>2018-02-11</td>\n",
              "      <td>2</td>\n",
              "      <td>nan</td>\n",
              "      <td>3</td>\n",
              "      <td>29.70</td>\n",
              "      <td>1</td>\n",
              "      <td>False</td>\n",
              "      <td>...</td>\n",
              "      <td>0</td>\n",
              "      <td>nan</td>\n",
              "      <td>nan</td>\n",
              "      <td>44091.71</td>\n",
              "      <td>Sunday</td>\n",
              "      <td>February</td>\n",
              "      <td>2018</td>\n",
              "      <td>первый</td>\n",
              "      <td>0.52</td>\n",
              "      <td>nan</td>\n",
              "    </tr>\n",
              "    <tr>\n",
              "      <td>23697</td>\n",
              "      <td>13</td>\n",
              "      <td>11475000.00</td>\n",
              "      <td>76.75</td>\n",
              "      <td>2017-03-28</td>\n",
              "      <td>2</td>\n",
              "      <td>3.00</td>\n",
              "      <td>17</td>\n",
              "      <td>nan</td>\n",
              "      <td>12</td>\n",
              "      <td>False</td>\n",
              "      <td>...</td>\n",
              "      <td>3</td>\n",
              "      <td>196.00</td>\n",
              "      <td>602.00</td>\n",
              "      <td>149511.40</td>\n",
              "      <td>Tuesday</td>\n",
              "      <td>March</td>\n",
              "      <td>2017</td>\n",
              "      <td>другой</td>\n",
              "      <td>nan</td>\n",
              "      <td>0.30</td>\n",
              "    </tr>\n",
              "    <tr>\n",
              "      <td>23698</td>\n",
              "      <td>4</td>\n",
              "      <td>1350000.00</td>\n",
              "      <td>32.30</td>\n",
              "      <td>2017-07-21</td>\n",
              "      <td>1</td>\n",
              "      <td>2.50</td>\n",
              "      <td>5</td>\n",
              "      <td>12.30</td>\n",
              "      <td>1</td>\n",
              "      <td>False</td>\n",
              "      <td>...</td>\n",
              "      <td>0</td>\n",
              "      <td>nan</td>\n",
              "      <td>nan</td>\n",
              "      <td>41795.67</td>\n",
              "      <td>Friday</td>\n",
              "      <td>July</td>\n",
              "      <td>2017</td>\n",
              "      <td>первый</td>\n",
              "      <td>0.38</td>\n",
              "      <td>0.28</td>\n",
              "    </tr>\n",
              "  </tbody>\n",
              "</table>\n",
              "<p>23650 rows × 29 columns</p>\n",
              "</div>"
            ],
            "text/plain": [
              "       total_images  last_price  total_area first_day_exposition  rooms  \\\n",
              "0                20 13000000.00      108.00           2019-03-07      3   \n",
              "1                 7  3350000.00       40.40           2018-12-04      1   \n",
              "2                10  5196000.00       56.00           2015-08-20      2   \n",
              "3                 0 64900000.00      159.00           2015-07-24      3   \n",
              "4                 2 10000000.00      100.00           2018-06-19      2   \n",
              "...             ...         ...         ...                  ...    ...   \n",
              "23694             9  9700000.00      133.81           2017-03-21      3   \n",
              "23695            14  3100000.00       59.00           2018-01-15      3   \n",
              "23696            18  2500000.00       56.70           2018-02-11      2   \n",
              "23697            13 11475000.00       76.75           2017-03-28      2   \n",
              "23698             4  1350000.00       32.30           2017-07-21      1   \n",
              "\n",
              "       ceiling_height  floors_total  living_area  floor  is_apartment  ...  \\\n",
              "0                2.70            16        51.00      8         False  ...   \n",
              "1                 nan            11        18.60      1         False  ...   \n",
              "2                 nan             5        34.30      4         False  ...   \n",
              "3                 nan            14          nan      9         False  ...   \n",
              "4                3.03            14        32.00     13         False  ...   \n",
              "...               ...           ...          ...    ...           ...  ...   \n",
              "23694            3.70             5        73.30      3         False  ...   \n",
              "23695             nan             5        38.00      4         False  ...   \n",
              "23696             nan             3        29.70      1         False  ...   \n",
              "23697            3.00            17          nan     12         False  ...   \n",
              "23698            2.50             5        12.30      1         False  ...   \n",
              "\n",
              "       number_ponds_around_3km  ponds_nearest  days_exposition  \\\n",
              "0                            2         755.00              nan   \n",
              "1                            0            nan            81.00   \n",
              "2                            2         574.00           558.00   \n",
              "3                            3         234.00           424.00   \n",
              "4                            1          48.00           121.00   \n",
              "...                        ...            ...              ...   \n",
              "23694                        3         381.00              nan   \n",
              "23695                        0            nan            45.00   \n",
              "23696                        0            nan              nan   \n",
              "23697                        3         196.00           602.00   \n",
              "23698                        0            nan              nan   \n",
              "\n",
              "       price_per_meter weekday_public  month_public  year_public  \\\n",
              "0            120370.37       Thursday         March         2019   \n",
              "1             82920.79        Tuesday      December         2018   \n",
              "2             92785.71       Thursday        August         2015   \n",
              "3            408176.10         Friday          July         2015   \n",
              "4            100000.00        Tuesday          June         2018   \n",
              "...                ...            ...           ...          ...   \n",
              "23694         72490.85        Tuesday         March         2017   \n",
              "23695         52542.37         Monday       January         2018   \n",
              "23696         44091.71         Sunday      February         2018   \n",
              "23697        149511.40        Tuesday         March         2017   \n",
              "23698         41795.67         Friday          July         2017   \n",
              "\n",
              "       define_floor  living_ratio_total  kitchen_ratio_total  \n",
              "0            другой                0.47                 0.23  \n",
              "1            первый                0.46                 0.27  \n",
              "2            другой                0.61                 0.15  \n",
              "3            другой                 nan                  nan  \n",
              "4            другой                0.32                 0.41  \n",
              "...             ...                 ...                  ...  \n",
              "23694        другой                0.55                 0.10  \n",
              "23695        другой                0.64                 0.14  \n",
              "23696        первый                0.52                  nan  \n",
              "23697        другой                 nan                 0.30  \n",
              "23698        первый                0.38                 0.28  \n",
              "\n",
              "[23650 rows x 29 columns]"
            ]
          },
          "metadata": {
            "tags": []
          }
        }
      ]
    },
    {
      "cell_type": "code",
      "metadata": {
        "id": "vnRVCQ8RbVWc",
        "outputId": "f55b4a70-fc1f-46c5-f8fc-4949cc94200d"
      },
      "source": [
        "# <применим функцию среза от выбросов>\n",
        "df = section_query(df, 'last_price')\n",
        "display(df)"
      ],
      "execution_count": null,
      "outputs": [
        {
          "output_type": "display_data",
          "data": {
            "text/html": [
              "<div>\n",
              "<style scoped>\n",
              "    .dataframe tbody tr th:only-of-type {\n",
              "        vertical-align: middle;\n",
              "    }\n",
              "\n",
              "    .dataframe tbody tr th {\n",
              "        vertical-align: top;\n",
              "    }\n",
              "\n",
              "    .dataframe thead th {\n",
              "        text-align: right;\n",
              "    }\n",
              "</style>\n",
              "<table border=\"1\" class=\"dataframe\">\n",
              "  <thead>\n",
              "    <tr style=\"text-align: right;\">\n",
              "      <th></th>\n",
              "      <th>total_images</th>\n",
              "      <th>last_price</th>\n",
              "      <th>total_area</th>\n",
              "      <th>first_day_exposition</th>\n",
              "      <th>rooms</th>\n",
              "      <th>ceiling_height</th>\n",
              "      <th>floors_total</th>\n",
              "      <th>living_area</th>\n",
              "      <th>floor</th>\n",
              "      <th>is_apartment</th>\n",
              "      <th>...</th>\n",
              "      <th>number_ponds_around_3km</th>\n",
              "      <th>ponds_nearest</th>\n",
              "      <th>days_exposition</th>\n",
              "      <th>price_per_meter</th>\n",
              "      <th>weekday_public</th>\n",
              "      <th>month_public</th>\n",
              "      <th>year_public</th>\n",
              "      <th>define_floor</th>\n",
              "      <th>living_ratio_total</th>\n",
              "      <th>kitchen_ratio_total</th>\n",
              "    </tr>\n",
              "  </thead>\n",
              "  <tbody>\n",
              "    <tr>\n",
              "      <td>1</td>\n",
              "      <td>7</td>\n",
              "      <td>3350000.00</td>\n",
              "      <td>40.40</td>\n",
              "      <td>2018-12-04</td>\n",
              "      <td>1</td>\n",
              "      <td>nan</td>\n",
              "      <td>11</td>\n",
              "      <td>18.60</td>\n",
              "      <td>1</td>\n",
              "      <td>False</td>\n",
              "      <td>...</td>\n",
              "      <td>0</td>\n",
              "      <td>nan</td>\n",
              "      <td>81.00</td>\n",
              "      <td>82920.79</td>\n",
              "      <td>Tuesday</td>\n",
              "      <td>December</td>\n",
              "      <td>2018</td>\n",
              "      <td>первый</td>\n",
              "      <td>0.46</td>\n",
              "      <td>0.27</td>\n",
              "    </tr>\n",
              "    <tr>\n",
              "      <td>2</td>\n",
              "      <td>10</td>\n",
              "      <td>5196000.00</td>\n",
              "      <td>56.00</td>\n",
              "      <td>2015-08-20</td>\n",
              "      <td>2</td>\n",
              "      <td>nan</td>\n",
              "      <td>5</td>\n",
              "      <td>34.30</td>\n",
              "      <td>4</td>\n",
              "      <td>False</td>\n",
              "      <td>...</td>\n",
              "      <td>2</td>\n",
              "      <td>574.00</td>\n",
              "      <td>558.00</td>\n",
              "      <td>92785.71</td>\n",
              "      <td>Thursday</td>\n",
              "      <td>August</td>\n",
              "      <td>2015</td>\n",
              "      <td>другой</td>\n",
              "      <td>0.61</td>\n",
              "      <td>0.15</td>\n",
              "    </tr>\n",
              "    <tr>\n",
              "      <td>4</td>\n",
              "      <td>2</td>\n",
              "      <td>10000000.00</td>\n",
              "      <td>100.00</td>\n",
              "      <td>2018-06-19</td>\n",
              "      <td>2</td>\n",
              "      <td>3.03</td>\n",
              "      <td>14</td>\n",
              "      <td>32.00</td>\n",
              "      <td>13</td>\n",
              "      <td>False</td>\n",
              "      <td>...</td>\n",
              "      <td>1</td>\n",
              "      <td>48.00</td>\n",
              "      <td>121.00</td>\n",
              "      <td>100000.00</td>\n",
              "      <td>Tuesday</td>\n",
              "      <td>June</td>\n",
              "      <td>2018</td>\n",
              "      <td>другой</td>\n",
              "      <td>0.32</td>\n",
              "      <td>0.41</td>\n",
              "    </tr>\n",
              "    <tr>\n",
              "      <td>5</td>\n",
              "      <td>10</td>\n",
              "      <td>2890000.00</td>\n",
              "      <td>30.40</td>\n",
              "      <td>2018-09-10</td>\n",
              "      <td>1</td>\n",
              "      <td>nan</td>\n",
              "      <td>12</td>\n",
              "      <td>14.40</td>\n",
              "      <td>5</td>\n",
              "      <td>False</td>\n",
              "      <td>...</td>\n",
              "      <td>0</td>\n",
              "      <td>nan</td>\n",
              "      <td>55.00</td>\n",
              "      <td>95065.79</td>\n",
              "      <td>Monday</td>\n",
              "      <td>September</td>\n",
              "      <td>2018</td>\n",
              "      <td>другой</td>\n",
              "      <td>0.47</td>\n",
              "      <td>0.30</td>\n",
              "    </tr>\n",
              "    <tr>\n",
              "      <td>6</td>\n",
              "      <td>6</td>\n",
              "      <td>3700000.00</td>\n",
              "      <td>37.30</td>\n",
              "      <td>2017-11-02</td>\n",
              "      <td>1</td>\n",
              "      <td>nan</td>\n",
              "      <td>26</td>\n",
              "      <td>10.60</td>\n",
              "      <td>6</td>\n",
              "      <td>False</td>\n",
              "      <td>...</td>\n",
              "      <td>0</td>\n",
              "      <td>nan</td>\n",
              "      <td>155.00</td>\n",
              "      <td>99195.71</td>\n",
              "      <td>Thursday</td>\n",
              "      <td>November</td>\n",
              "      <td>2017</td>\n",
              "      <td>другой</td>\n",
              "      <td>0.28</td>\n",
              "      <td>0.39</td>\n",
              "    </tr>\n",
              "    <tr>\n",
              "      <td>...</td>\n",
              "      <td>...</td>\n",
              "      <td>...</td>\n",
              "      <td>...</td>\n",
              "      <td>...</td>\n",
              "      <td>...</td>\n",
              "      <td>...</td>\n",
              "      <td>...</td>\n",
              "      <td>...</td>\n",
              "      <td>...</td>\n",
              "      <td>...</td>\n",
              "      <td>...</td>\n",
              "      <td>...</td>\n",
              "      <td>...</td>\n",
              "      <td>...</td>\n",
              "      <td>...</td>\n",
              "      <td>...</td>\n",
              "      <td>...</td>\n",
              "      <td>...</td>\n",
              "      <td>...</td>\n",
              "      <td>...</td>\n",
              "      <td>...</td>\n",
              "    </tr>\n",
              "    <tr>\n",
              "      <td>23694</td>\n",
              "      <td>9</td>\n",
              "      <td>9700000.00</td>\n",
              "      <td>133.81</td>\n",
              "      <td>2017-03-21</td>\n",
              "      <td>3</td>\n",
              "      <td>3.70</td>\n",
              "      <td>5</td>\n",
              "      <td>73.30</td>\n",
              "      <td>3</td>\n",
              "      <td>False</td>\n",
              "      <td>...</td>\n",
              "      <td>3</td>\n",
              "      <td>381.00</td>\n",
              "      <td>nan</td>\n",
              "      <td>72490.85</td>\n",
              "      <td>Tuesday</td>\n",
              "      <td>March</td>\n",
              "      <td>2017</td>\n",
              "      <td>другой</td>\n",
              "      <td>0.55</td>\n",
              "      <td>0.10</td>\n",
              "    </tr>\n",
              "    <tr>\n",
              "      <td>23695</td>\n",
              "      <td>14</td>\n",
              "      <td>3100000.00</td>\n",
              "      <td>59.00</td>\n",
              "      <td>2018-01-15</td>\n",
              "      <td>3</td>\n",
              "      <td>nan</td>\n",
              "      <td>5</td>\n",
              "      <td>38.00</td>\n",
              "      <td>4</td>\n",
              "      <td>False</td>\n",
              "      <td>...</td>\n",
              "      <td>0</td>\n",
              "      <td>nan</td>\n",
              "      <td>45.00</td>\n",
              "      <td>52542.37</td>\n",
              "      <td>Monday</td>\n",
              "      <td>January</td>\n",
              "      <td>2018</td>\n",
              "      <td>другой</td>\n",
              "      <td>0.64</td>\n",
              "      <td>0.14</td>\n",
              "    </tr>\n",
              "    <tr>\n",
              "      <td>23696</td>\n",
              "      <td>18</td>\n",
              "      <td>2500000.00</td>\n",
              "      <td>56.70</td>\n",
              "      <td>2018-02-11</td>\n",
              "      <td>2</td>\n",
              "      <td>nan</td>\n",
              "      <td>3</td>\n",
              "      <td>29.70</td>\n",
              "      <td>1</td>\n",
              "      <td>False</td>\n",
              "      <td>...</td>\n",
              "      <td>0</td>\n",
              "      <td>nan</td>\n",
              "      <td>nan</td>\n",
              "      <td>44091.71</td>\n",
              "      <td>Sunday</td>\n",
              "      <td>February</td>\n",
              "      <td>2018</td>\n",
              "      <td>первый</td>\n",
              "      <td>0.52</td>\n",
              "      <td>nan</td>\n",
              "    </tr>\n",
              "    <tr>\n",
              "      <td>23697</td>\n",
              "      <td>13</td>\n",
              "      <td>11475000.00</td>\n",
              "      <td>76.75</td>\n",
              "      <td>2017-03-28</td>\n",
              "      <td>2</td>\n",
              "      <td>3.00</td>\n",
              "      <td>17</td>\n",
              "      <td>nan</td>\n",
              "      <td>12</td>\n",
              "      <td>False</td>\n",
              "      <td>...</td>\n",
              "      <td>3</td>\n",
              "      <td>196.00</td>\n",
              "      <td>602.00</td>\n",
              "      <td>149511.40</td>\n",
              "      <td>Tuesday</td>\n",
              "      <td>March</td>\n",
              "      <td>2017</td>\n",
              "      <td>другой</td>\n",
              "      <td>nan</td>\n",
              "      <td>0.30</td>\n",
              "    </tr>\n",
              "    <tr>\n",
              "      <td>23698</td>\n",
              "      <td>4</td>\n",
              "      <td>1350000.00</td>\n",
              "      <td>32.30</td>\n",
              "      <td>2017-07-21</td>\n",
              "      <td>1</td>\n",
              "      <td>2.50</td>\n",
              "      <td>5</td>\n",
              "      <td>12.30</td>\n",
              "      <td>1</td>\n",
              "      <td>False</td>\n",
              "      <td>...</td>\n",
              "      <td>0</td>\n",
              "      <td>nan</td>\n",
              "      <td>nan</td>\n",
              "      <td>41795.67</td>\n",
              "      <td>Friday</td>\n",
              "      <td>July</td>\n",
              "      <td>2017</td>\n",
              "      <td>первый</td>\n",
              "      <td>0.38</td>\n",
              "      <td>0.28</td>\n",
              "    </tr>\n",
              "  </tbody>\n",
              "</table>\n",
              "<p>21595 rows × 29 columns</p>\n",
              "</div>"
            ],
            "text/plain": [
              "       total_images  last_price  total_area first_day_exposition  rooms  \\\n",
              "1                 7  3350000.00       40.40           2018-12-04      1   \n",
              "2                10  5196000.00       56.00           2015-08-20      2   \n",
              "4                 2 10000000.00      100.00           2018-06-19      2   \n",
              "5                10  2890000.00       30.40           2018-09-10      1   \n",
              "6                 6  3700000.00       37.30           2017-11-02      1   \n",
              "...             ...         ...         ...                  ...    ...   \n",
              "23694             9  9700000.00      133.81           2017-03-21      3   \n",
              "23695            14  3100000.00       59.00           2018-01-15      3   \n",
              "23696            18  2500000.00       56.70           2018-02-11      2   \n",
              "23697            13 11475000.00       76.75           2017-03-28      2   \n",
              "23698             4  1350000.00       32.30           2017-07-21      1   \n",
              "\n",
              "       ceiling_height  floors_total  living_area  floor  is_apartment  ...  \\\n",
              "1                 nan            11        18.60      1         False  ...   \n",
              "2                 nan             5        34.30      4         False  ...   \n",
              "4                3.03            14        32.00     13         False  ...   \n",
              "5                 nan            12        14.40      5         False  ...   \n",
              "6                 nan            26        10.60      6         False  ...   \n",
              "...               ...           ...          ...    ...           ...  ...   \n",
              "23694            3.70             5        73.30      3         False  ...   \n",
              "23695             nan             5        38.00      4         False  ...   \n",
              "23696             nan             3        29.70      1         False  ...   \n",
              "23697            3.00            17          nan     12         False  ...   \n",
              "23698            2.50             5        12.30      1         False  ...   \n",
              "\n",
              "       number_ponds_around_3km  ponds_nearest  days_exposition  \\\n",
              "1                            0            nan            81.00   \n",
              "2                            2         574.00           558.00   \n",
              "4                            1          48.00           121.00   \n",
              "5                            0            nan            55.00   \n",
              "6                            0            nan           155.00   \n",
              "...                        ...            ...              ...   \n",
              "23694                        3         381.00              nan   \n",
              "23695                        0            nan            45.00   \n",
              "23696                        0            nan              nan   \n",
              "23697                        3         196.00           602.00   \n",
              "23698                        0            nan              nan   \n",
              "\n",
              "       price_per_meter weekday_public  month_public  year_public  \\\n",
              "1             82920.79        Tuesday      December         2018   \n",
              "2             92785.71       Thursday        August         2015   \n",
              "4            100000.00        Tuesday          June         2018   \n",
              "5             95065.79         Monday     September         2018   \n",
              "6             99195.71       Thursday      November         2017   \n",
              "...                ...            ...           ...          ...   \n",
              "23694         72490.85        Tuesday         March         2017   \n",
              "23695         52542.37         Monday       January         2018   \n",
              "23696         44091.71         Sunday      February         2018   \n",
              "23697        149511.40        Tuesday         March         2017   \n",
              "23698         41795.67         Friday          July         2017   \n",
              "\n",
              "       define_floor  living_ratio_total  kitchen_ratio_total  \n",
              "1            первый                0.46                 0.27  \n",
              "2            другой                0.61                 0.15  \n",
              "4            другой                0.32                 0.41  \n",
              "5            другой                0.47                 0.30  \n",
              "6            другой                0.28                 0.39  \n",
              "...             ...                 ...                  ...  \n",
              "23694        другой                0.55                 0.10  \n",
              "23695        другой                0.64                 0.14  \n",
              "23696        первый                0.52                  nan  \n",
              "23697        другой                 nan                 0.30  \n",
              "23698        первый                0.38                 0.28  \n",
              "\n",
              "[21595 rows x 29 columns]"
            ]
          },
          "metadata": {
            "tags": []
          }
        }
      ]
    },
    {
      "cell_type": "code",
      "metadata": {
        "id": "tjz4KLPubVWd",
        "outputId": "042e620d-a4fc-4229-aabf-c774518fef64"
      },
      "source": [
        "# <построим диаграмму размаха цена квартиры от расположения>\n",
        "df.boxplot('last_price', by='define_floor',figsize=(10,10))\n",
        "plt.ylabel('Стоимость кв')\n",
        "plt.ylim(-1000000,30000000)"
      ],
      "execution_count": null,
      "outputs": [
        {
          "output_type": "stream",
          "text": [
            "/opt/conda/lib/python3.7/site-packages/numpy/core/_asarray.py:83: VisibleDeprecationWarning: Creating an ndarray from ragged nested sequences (which is a list-or-tuple of lists-or-tuples-or ndarrays with different lengths or shapes) is deprecated. If you meant to do this, you must specify 'dtype=object' when creating the ndarray\n",
            "  return array(a, dtype, copy=False, order=order)\n"
          ],
          "name": "stderr"
        },
        {
          "output_type": "execute_result",
          "data": {
            "text/plain": [
              "(-1000000, 30000000)"
            ]
          },
          "metadata": {
            "tags": []
          },
          "execution_count": 94
        },
        {
          "output_type": "display_data",
          "data": {
            "image/png": "[encoded data removed]",
            "text/plain": [
              "<Figure size 720x720 with 1 Axes>"
            ]
          },
          "metadata": {
            "tags": [],
            "needs_background": "light"
          }
        }
      ]
    },
    {
      "cell_type": "markdown",
      "metadata": {
        "id": "pQP66W6jbVWd"
      },
      "source": [
        "<b>Заметим, что на первом этаже цена ниже. И на последнем тоже, по сравнению с другими.</b>"
      ]
    },
    {
      "cell_type": "markdown",
      "metadata": {
        "id": "X0n3vNzbbVWd"
      },
      "source": [
        "<b>Зависимость от даты размещения: дня недели, месяца и года.</b>"
      ]
    },
    {
      "cell_type": "code",
      "metadata": {
        "id": "cwSscoJ8bVWd",
        "outputId": "71e2cd89-1d5c-4078-cfa4-fa02f5eaf25c"
      },
      "source": [
        "display(df)"
      ],
      "execution_count": null,
      "outputs": [
        {
          "output_type": "display_data",
          "data": {
            "text/html": [
              "<div>\n",
              "<style scoped>\n",
              "    .dataframe tbody tr th:only-of-type {\n",
              "        vertical-align: middle;\n",
              "    }\n",
              "\n",
              "    .dataframe tbody tr th {\n",
              "        vertical-align: top;\n",
              "    }\n",
              "\n",
              "    .dataframe thead th {\n",
              "        text-align: right;\n",
              "    }\n",
              "</style>\n",
              "<table border=\"1\" class=\"dataframe\">\n",
              "  <thead>\n",
              "    <tr style=\"text-align: right;\">\n",
              "      <th></th>\n",
              "      <th>total_images</th>\n",
              "      <th>last_price</th>\n",
              "      <th>total_area</th>\n",
              "      <th>first_day_exposition</th>\n",
              "      <th>rooms</th>\n",
              "      <th>ceiling_height</th>\n",
              "      <th>floors_total</th>\n",
              "      <th>living_area</th>\n",
              "      <th>floor</th>\n",
              "      <th>is_apartment</th>\n",
              "      <th>...</th>\n",
              "      <th>number_ponds_around_3km</th>\n",
              "      <th>ponds_nearest</th>\n",
              "      <th>days_exposition</th>\n",
              "      <th>price_per_meter</th>\n",
              "      <th>weekday_public</th>\n",
              "      <th>month_public</th>\n",
              "      <th>year_public</th>\n",
              "      <th>define_floor</th>\n",
              "      <th>living_ratio_total</th>\n",
              "      <th>kitchen_ratio_total</th>\n",
              "    </tr>\n",
              "  </thead>\n",
              "  <tbody>\n",
              "    <tr>\n",
              "      <td>1</td>\n",
              "      <td>7</td>\n",
              "      <td>3350000.00</td>\n",
              "      <td>40.40</td>\n",
              "      <td>2018-12-04</td>\n",
              "      <td>1</td>\n",
              "      <td>nan</td>\n",
              "      <td>11</td>\n",
              "      <td>18.60</td>\n",
              "      <td>1</td>\n",
              "      <td>False</td>\n",
              "      <td>...</td>\n",
              "      <td>0</td>\n",
              "      <td>nan</td>\n",
              "      <td>81.00</td>\n",
              "      <td>82920.79</td>\n",
              "      <td>Tuesday</td>\n",
              "      <td>December</td>\n",
              "      <td>2018</td>\n",
              "      <td>первый</td>\n",
              "      <td>0.46</td>\n",
              "      <td>0.27</td>\n",
              "    </tr>\n",
              "    <tr>\n",
              "      <td>2</td>\n",
              "      <td>10</td>\n",
              "      <td>5196000.00</td>\n",
              "      <td>56.00</td>\n",
              "      <td>2015-08-20</td>\n",
              "      <td>2</td>\n",
              "      <td>nan</td>\n",
              "      <td>5</td>\n",
              "      <td>34.30</td>\n",
              "      <td>4</td>\n",
              "      <td>False</td>\n",
              "      <td>...</td>\n",
              "      <td>2</td>\n",
              "      <td>574.00</td>\n",
              "      <td>558.00</td>\n",
              "      <td>92785.71</td>\n",
              "      <td>Thursday</td>\n",
              "      <td>August</td>\n",
              "      <td>2015</td>\n",
              "      <td>другой</td>\n",
              "      <td>0.61</td>\n",
              "      <td>0.15</td>\n",
              "    </tr>\n",
              "    <tr>\n",
              "      <td>4</td>\n",
              "      <td>2</td>\n",
              "      <td>10000000.00</td>\n",
              "      <td>100.00</td>\n",
              "      <td>2018-06-19</td>\n",
              "      <td>2</td>\n",
              "      <td>3.03</td>\n",
              "      <td>14</td>\n",
              "      <td>32.00</td>\n",
              "      <td>13</td>\n",
              "      <td>False</td>\n",
              "      <td>...</td>\n",
              "      <td>1</td>\n",
              "      <td>48.00</td>\n",
              "      <td>121.00</td>\n",
              "      <td>100000.00</td>\n",
              "      <td>Tuesday</td>\n",
              "      <td>June</td>\n",
              "      <td>2018</td>\n",
              "      <td>другой</td>\n",
              "      <td>0.32</td>\n",
              "      <td>0.41</td>\n",
              "    </tr>\n",
              "    <tr>\n",
              "      <td>5</td>\n",
              "      <td>10</td>\n",
              "      <td>2890000.00</td>\n",
              "      <td>30.40</td>\n",
              "      <td>2018-09-10</td>\n",
              "      <td>1</td>\n",
              "      <td>nan</td>\n",
              "      <td>12</td>\n",
              "      <td>14.40</td>\n",
              "      <td>5</td>\n",
              "      <td>False</td>\n",
              "      <td>...</td>\n",
              "      <td>0</td>\n",
              "      <td>nan</td>\n",
              "      <td>55.00</td>\n",
              "      <td>95065.79</td>\n",
              "      <td>Monday</td>\n",
              "      <td>September</td>\n",
              "      <td>2018</td>\n",
              "      <td>другой</td>\n",
              "      <td>0.47</td>\n",
              "      <td>0.30</td>\n",
              "    </tr>\n",
              "    <tr>\n",
              "      <td>6</td>\n",
              "      <td>6</td>\n",
              "      <td>3700000.00</td>\n",
              "      <td>37.30</td>\n",
              "      <td>2017-11-02</td>\n",
              "      <td>1</td>\n",
              "      <td>nan</td>\n",
              "      <td>26</td>\n",
              "      <td>10.60</td>\n",
              "      <td>6</td>\n",
              "      <td>False</td>\n",
              "      <td>...</td>\n",
              "      <td>0</td>\n",
              "      <td>nan</td>\n",
              "      <td>155.00</td>\n",
              "      <td>99195.71</td>\n",
              "      <td>Thursday</td>\n",
              "      <td>November</td>\n",
              "      <td>2017</td>\n",
              "      <td>другой</td>\n",
              "      <td>0.28</td>\n",
              "      <td>0.39</td>\n",
              "    </tr>\n",
              "    <tr>\n",
              "      <td>...</td>\n",
              "      <td>...</td>\n",
              "      <td>...</td>\n",
              "      <td>...</td>\n",
              "      <td>...</td>\n",
              "      <td>...</td>\n",
              "      <td>...</td>\n",
              "      <td>...</td>\n",
              "      <td>...</td>\n",
              "      <td>...</td>\n",
              "      <td>...</td>\n",
              "      <td>...</td>\n",
              "      <td>...</td>\n",
              "      <td>...</td>\n",
              "      <td>...</td>\n",
              "      <td>...</td>\n",
              "      <td>...</td>\n",
              "      <td>...</td>\n",
              "      <td>...</td>\n",
              "      <td>...</td>\n",
              "      <td>...</td>\n",
              "      <td>...</td>\n",
              "    </tr>\n",
              "    <tr>\n",
              "      <td>23694</td>\n",
              "      <td>9</td>\n",
              "      <td>9700000.00</td>\n",
              "      <td>133.81</td>\n",
              "      <td>2017-03-21</td>\n",
              "      <td>3</td>\n",
              "      <td>3.70</td>\n",
              "      <td>5</td>\n",
              "      <td>73.30</td>\n",
              "      <td>3</td>\n",
              "      <td>False</td>\n",
              "      <td>...</td>\n",
              "      <td>3</td>\n",
              "      <td>381.00</td>\n",
              "      <td>nan</td>\n",
              "      <td>72490.85</td>\n",
              "      <td>Tuesday</td>\n",
              "      <td>March</td>\n",
              "      <td>2017</td>\n",
              "      <td>другой</td>\n",
              "      <td>0.55</td>\n",
              "      <td>0.10</td>\n",
              "    </tr>\n",
              "    <tr>\n",
              "      <td>23695</td>\n",
              "      <td>14</td>\n",
              "      <td>3100000.00</td>\n",
              "      <td>59.00</td>\n",
              "      <td>2018-01-15</td>\n",
              "      <td>3</td>\n",
              "      <td>nan</td>\n",
              "      <td>5</td>\n",
              "      <td>38.00</td>\n",
              "      <td>4</td>\n",
              "      <td>False</td>\n",
              "      <td>...</td>\n",
              "      <td>0</td>\n",
              "      <td>nan</td>\n",
              "      <td>45.00</td>\n",
              "      <td>52542.37</td>\n",
              "      <td>Monday</td>\n",
              "      <td>January</td>\n",
              "      <td>2018</td>\n",
              "      <td>другой</td>\n",
              "      <td>0.64</td>\n",
              "      <td>0.14</td>\n",
              "    </tr>\n",
              "    <tr>\n",
              "      <td>23696</td>\n",
              "      <td>18</td>\n",
              "      <td>2500000.00</td>\n",
              "      <td>56.70</td>\n",
              "      <td>2018-02-11</td>\n",
              "      <td>2</td>\n",
              "      <td>nan</td>\n",
              "      <td>3</td>\n",
              "      <td>29.70</td>\n",
              "      <td>1</td>\n",
              "      <td>False</td>\n",
              "      <td>...</td>\n",
              "      <td>0</td>\n",
              "      <td>nan</td>\n",
              "      <td>nan</td>\n",
              "      <td>44091.71</td>\n",
              "      <td>Sunday</td>\n",
              "      <td>February</td>\n",
              "      <td>2018</td>\n",
              "      <td>первый</td>\n",
              "      <td>0.52</td>\n",
              "      <td>nan</td>\n",
              "    </tr>\n",
              "    <tr>\n",
              "      <td>23697</td>\n",
              "      <td>13</td>\n",
              "      <td>11475000.00</td>\n",
              "      <td>76.75</td>\n",
              "      <td>2017-03-28</td>\n",
              "      <td>2</td>\n",
              "      <td>3.00</td>\n",
              "      <td>17</td>\n",
              "      <td>nan</td>\n",
              "      <td>12</td>\n",
              "      <td>False</td>\n",
              "      <td>...</td>\n",
              "      <td>3</td>\n",
              "      <td>196.00</td>\n",
              "      <td>602.00</td>\n",
              "      <td>149511.40</td>\n",
              "      <td>Tuesday</td>\n",
              "      <td>March</td>\n",
              "      <td>2017</td>\n",
              "      <td>другой</td>\n",
              "      <td>nan</td>\n",
              "      <td>0.30</td>\n",
              "    </tr>\n",
              "    <tr>\n",
              "      <td>23698</td>\n",
              "      <td>4</td>\n",
              "      <td>1350000.00</td>\n",
              "      <td>32.30</td>\n",
              "      <td>2017-07-21</td>\n",
              "      <td>1</td>\n",
              "      <td>2.50</td>\n",
              "      <td>5</td>\n",
              "      <td>12.30</td>\n",
              "      <td>1</td>\n",
              "      <td>False</td>\n",
              "      <td>...</td>\n",
              "      <td>0</td>\n",
              "      <td>nan</td>\n",
              "      <td>nan</td>\n",
              "      <td>41795.67</td>\n",
              "      <td>Friday</td>\n",
              "      <td>July</td>\n",
              "      <td>2017</td>\n",
              "      <td>первый</td>\n",
              "      <td>0.38</td>\n",
              "      <td>0.28</td>\n",
              "    </tr>\n",
              "  </tbody>\n",
              "</table>\n",
              "<p>21595 rows × 29 columns</p>\n",
              "</div>"
            ],
            "text/plain": [
              "       total_images  last_price  total_area first_day_exposition  rooms  \\\n",
              "1                 7  3350000.00       40.40           2018-12-04      1   \n",
              "2                10  5196000.00       56.00           2015-08-20      2   \n",
              "4                 2 10000000.00      100.00           2018-06-19      2   \n",
              "5                10  2890000.00       30.40           2018-09-10      1   \n",
              "6                 6  3700000.00       37.30           2017-11-02      1   \n",
              "...             ...         ...         ...                  ...    ...   \n",
              "23694             9  9700000.00      133.81           2017-03-21      3   \n",
              "23695            14  3100000.00       59.00           2018-01-15      3   \n",
              "23696            18  2500000.00       56.70           2018-02-11      2   \n",
              "23697            13 11475000.00       76.75           2017-03-28      2   \n",
              "23698             4  1350000.00       32.30           2017-07-21      1   \n",
              "\n",
              "       ceiling_height  floors_total  living_area  floor  is_apartment  ...  \\\n",
              "1                 nan            11        18.60      1         False  ...   \n",
              "2                 nan             5        34.30      4         False  ...   \n",
              "4                3.03            14        32.00     13         False  ...   \n",
              "5                 nan            12        14.40      5         False  ...   \n",
              "6                 nan            26        10.60      6         False  ...   \n",
              "...               ...           ...          ...    ...           ...  ...   \n",
              "23694            3.70             5        73.30      3         False  ...   \n",
              "23695             nan             5        38.00      4         False  ...   \n",
              "23696             nan             3        29.70      1         False  ...   \n",
              "23697            3.00            17          nan     12         False  ...   \n",
              "23698            2.50             5        12.30      1         False  ...   \n",
              "\n",
              "       number_ponds_around_3km  ponds_nearest  days_exposition  \\\n",
              "1                            0            nan            81.00   \n",
              "2                            2         574.00           558.00   \n",
              "4                            1          48.00           121.00   \n",
              "5                            0            nan            55.00   \n",
              "6                            0            nan           155.00   \n",
              "...                        ...            ...              ...   \n",
              "23694                        3         381.00              nan   \n",
              "23695                        0            nan            45.00   \n",
              "23696                        0            nan              nan   \n",
              "23697                        3         196.00           602.00   \n",
              "23698                        0            nan              nan   \n",
              "\n",
              "       price_per_meter weekday_public  month_public  year_public  \\\n",
              "1             82920.79        Tuesday      December         2018   \n",
              "2             92785.71       Thursday        August         2015   \n",
              "4            100000.00        Tuesday          June         2018   \n",
              "5             95065.79         Monday     September         2018   \n",
              "6             99195.71       Thursday      November         2017   \n",
              "...                ...            ...           ...          ...   \n",
              "23694         72490.85        Tuesday         March         2017   \n",
              "23695         52542.37         Monday       January         2018   \n",
              "23696         44091.71         Sunday      February         2018   \n",
              "23697        149511.40        Tuesday         March         2017   \n",
              "23698         41795.67         Friday          July         2017   \n",
              "\n",
              "       define_floor  living_ratio_total  kitchen_ratio_total  \n",
              "1            первый                0.46                 0.27  \n",
              "2            другой                0.61                 0.15  \n",
              "4            другой                0.32                 0.41  \n",
              "5            другой                0.47                 0.30  \n",
              "6            другой                0.28                 0.39  \n",
              "...             ...                 ...                  ...  \n",
              "23694        другой                0.55                 0.10  \n",
              "23695        другой                0.64                 0.14  \n",
              "23696        первый                0.52                  nan  \n",
              "23697        другой                 nan                 0.30  \n",
              "23698        первый                0.38                 0.28  \n",
              "\n",
              "[21595 rows x 29 columns]"
            ]
          },
          "metadata": {
            "tags": []
          }
        }
      ]
    },
    {
      "cell_type": "code",
      "metadata": {
        "id": "k7gAEvkBbVWe",
        "outputId": "1a1c40b3-2bf0-49dd-ec92-3b9e40e86ff3"
      },
      "source": [
        "# <построим диаграмму размаха цена квартиры от дня недели>\n",
        "df.boxplot('last_price', by='weekday_public',figsize=(10,10))\n",
        "plt.ylabel('Стоимость кв')\n",
        "plt.ylim(-10000000,20000000)"
      ],
      "execution_count": null,
      "outputs": [
        {
          "output_type": "stream",
          "text": [
            "/opt/conda/lib/python3.7/site-packages/numpy/core/_asarray.py:83: VisibleDeprecationWarning: Creating an ndarray from ragged nested sequences (which is a list-or-tuple of lists-or-tuples-or ndarrays with different lengths or shapes) is deprecated. If you meant to do this, you must specify 'dtype=object' when creating the ndarray\n",
            "  return array(a, dtype, copy=False, order=order)\n"
          ],
          "name": "stderr"
        },
        {
          "output_type": "execute_result",
          "data": {
            "text/plain": [
              "(-10000000, 20000000)"
            ]
          },
          "metadata": {
            "tags": []
          },
          "execution_count": 96
        },
        {
          "output_type": "display_data",
          "data": {
            "image/png": "[encoded data removed]",
            "text/plain": [
              "<Figure size 720x720 with 1 Axes>"
            ]
          },
          "metadata": {
            "tags": [],
            "needs_background": "light"
          }
        }
      ]
    },
    {
      "cell_type": "markdown",
      "metadata": {
        "id": "-pgpwgdXbVWe"
      },
      "source": [
        "<b>В целом цена не зависит от дня недели.</b>"
      ]
    },
    {
      "cell_type": "code",
      "metadata": {
        "id": "gvYLhDeLbVWe",
        "outputId": "d81992c3-248b-4f68-98e6-6c0f19006f78"
      },
      "source": [
        "# <построим диаграмму размаха цена квартиры от месяца>\n",
        "df.boxplot('last_price', by='month_public',figsize=(10,10))\n",
        "plt.ylabel('Стоимость кв')\n",
        "plt.ylim(-100,12000000)"
      ],
      "execution_count": null,
      "outputs": [
        {
          "output_type": "stream",
          "text": [
            "/opt/conda/lib/python3.7/site-packages/numpy/core/_asarray.py:83: VisibleDeprecationWarning: Creating an ndarray from ragged nested sequences (which is a list-or-tuple of lists-or-tuples-or ndarrays with different lengths or shapes) is deprecated. If you meant to do this, you must specify 'dtype=object' when creating the ndarray\n",
            "  return array(a, dtype, copy=False, order=order)\n"
          ],
          "name": "stderr"
        },
        {
          "output_type": "execute_result",
          "data": {
            "text/plain": [
              "(-100, 12000000)"
            ]
          },
          "metadata": {
            "tags": []
          },
          "execution_count": 97
        },
        {
          "output_type": "display_data",
          "data": {
            "image/png": "[encoded data removed]",
            "text/plain": [
              "<Figure size 720x720 with 1 Axes>"
            ]
          },
          "metadata": {
            "tags": [],
            "needs_background": "light"
          }
        }
      ]
    },
    {
      "cell_type": "markdown",
      "metadata": {
        "id": "yMWxmjmUbVWf"
      },
      "source": [
        "<b>В целом цена слабо зависит от месяца, но стоит заметить, что цена немного снижается в летние месяцы. В этот период скорее всего спрос ниже, так как люди тратят деньги на отпуска.</b>"
      ]
    },
    {
      "cell_type": "code",
      "metadata": {
        "id": "V9s4AbUPbVWf",
        "outputId": "599c0d88-fe96-49b1-ccc0-2121c20fa7d4"
      },
      "source": [
        "# <построим диаграмму размаха цена квартиры от года>\n",
        "df.boxplot('last_price', by='year_public',figsize=(10,10))\n",
        "plt.ylabel('Стоимость')\n",
        "plt.ylim(-100,20000000)"
      ],
      "execution_count": null,
      "outputs": [
        {
          "output_type": "stream",
          "text": [
            "/opt/conda/lib/python3.7/site-packages/numpy/core/_asarray.py:83: VisibleDeprecationWarning: Creating an ndarray from ragged nested sequences (which is a list-or-tuple of lists-or-tuples-or ndarrays with different lengths or shapes) is deprecated. If you meant to do this, you must specify 'dtype=object' when creating the ndarray\n",
            "  return array(a, dtype, copy=False, order=order)\n"
          ],
          "name": "stderr"
        },
        {
          "output_type": "execute_result",
          "data": {
            "text/plain": [
              "(-100, 20000000)"
            ]
          },
          "metadata": {
            "tags": []
          },
          "execution_count": 98
        },
        {
          "output_type": "display_data",
          "data": {
            "image/png": "[encoded data removed]",
            "text/plain": [
              "<Figure size 720x720 with 1 Axes>"
            ]
          },
          "metadata": {
            "tags": [],
            "needs_background": "light"
          }
        }
      ]
    },
    {
      "cell_type": "markdown",
      "metadata": {
        "id": "2YrDpGRnbVWg"
      },
      "source": [
        "<b>Заметим насколько цена была высокой в 2014, возможно это было связано с санкциями, что вызвало подорожание многих комплектующих, а затем и рост цен на квартиры. В дальнейшем цена выровнилась и в 2019 немного возросла, возможно, из-за нового закона об строительстве.</b>"
      ]
    },
    {
      "cell_type": "markdown",
      "metadata": {
        "id": "1LnCeQn2bVWg"
      },
      "source": [
        "### Вывод\n",
        "1. Проверили зависимости цены от площади, числа комнат, удалённости от центра. Выяснили, что зависимости слабые. Более сильная зависимость в отличие от других параметров, цены от площади.\n",
        "2. Также провели исследование зависимости цены от того, на каком этаже расположена квартира. Выяснили, что на первом и последнем этаже ниже, чем на остальных. На первом так дешевле всего.\n",
        "3. Провели исследование зависимости цены от даты размещения: дня недели, месяца и года. Выяснили, что от дня недели цена практически не меняется(зависимости фактически нет). Также выяснили, что в летние месяцы цена ниже, чем в остальные.(связано скорее всего с отпусками и денег меньше у людей). Интересную зависимость можно наблюдать цены от года размещения, объясняется это тем, какие внешние факторы влияют на рынок недвижимости."
      ]
    },
    {
      "cell_type": "markdown",
      "metadata": {
        "id": "T4fRH2lZbVWg"
      },
      "source": [
        "### Выберите 10 населённых пунктов с наибольшим числом объявлений. Посчитайте среднюю цену квадратного метра в этих населённых пунктах. Выделите среди них населённые пункты с самой высокой и низкой стоимостью жилья. Эти данные можно найти по имени в столбце 'locality_name'."
      ]
    },
    {
      "cell_type": "code",
      "metadata": {
        "id": "AejNzA3QbVWg",
        "outputId": "9e035c0d-abbf-4ac8-80a7-7b6693b109ab"
      },
      "source": [
        "print(df['locality_name'].value_counts().head(10))"
      ],
      "execution_count": null,
      "outputs": [
        {
          "output_type": "stream",
          "text": [
            "Санкт-Петербург      13737\n",
            "Мурино                 590\n",
            "Кудрово                470\n",
            "поселок Шушары         440\n",
            "Всеволожск             397\n",
            "Пушкин                 338\n",
            "Колпино                336\n",
            "поселок Парголово      327\n",
            "Гатчина                305\n",
            "Выборг                 236\n",
            "Name: locality_name, dtype: int64\n"
          ],
          "name": "stdout"
        }
      ]
    },
    {
      "cell_type": "code",
      "metadata": {
        "id": "_9_DI_xabVWg",
        "outputId": "23cf8cfa-a191-428e-87e8-e3a231518116"
      },
      "source": [
        "df_pivot = df.pivot_table(index = ['locality_name'], values = 'price_per_meter', aggfunc = 'mean').sort_values(by = 'price_per_meter', ascending = False).head(10)\n",
        "df_pivot.plot(kind = 'bar', grid = True, figsize = (12,6))\n",
        "plt.xlabel('Расположение')\n",
        "plt.ylabel('Стоимость за кв метр')\n",
        "plt.show()"
      ],
      "execution_count": null,
      "outputs": [
        {
          "output_type": "display_data",
          "data": {
            "image/png": "[encoded data removed]",
            "text/plain": [
              "<Figure size 864x432 with 1 Axes>"
            ]
          },
          "metadata": {
            "tags": [],
            "needs_background": "light"
          }
        }
      ]
    },
    {
      "cell_type": "code",
      "metadata": {
        "id": "Lq7jccuMbVWg",
        "outputId": "ad064072-6a96-4568-b436-797ded966359"
      },
      "source": [
        "df.pivot_table(index = ['locality_name'], values = 'price_per_meter', aggfunc = 'mean').sort_values(by = 'price_per_meter', ascending = False).head(10)"
      ],
      "execution_count": null,
      "outputs": [
        {
          "output_type": "execute_result",
          "data": {
            "text/html": [
              "<div>\n",
              "<style scoped>\n",
              "    .dataframe tbody tr th:only-of-type {\n",
              "        vertical-align: middle;\n",
              "    }\n",
              "\n",
              "    .dataframe tbody tr th {\n",
              "        vertical-align: top;\n",
              "    }\n",
              "\n",
              "    .dataframe thead th {\n",
              "        text-align: right;\n",
              "    }\n",
              "</style>\n",
              "<table border=\"1\" class=\"dataframe\">\n",
              "  <thead>\n",
              "    <tr style=\"text-align: right;\">\n",
              "      <th></th>\n",
              "      <th>price_per_meter</th>\n",
              "    </tr>\n",
              "    <tr>\n",
              "      <th>locality_name</th>\n",
              "      <th></th>\n",
              "    </tr>\n",
              "  </thead>\n",
              "  <tbody>\n",
              "    <tr>\n",
              "      <td>Санкт-Петербург</td>\n",
              "      <td>105426.08</td>\n",
              "    </tr>\n",
              "    <tr>\n",
              "      <td>поселок Лисий Нос</td>\n",
              "      <td>100660.81</td>\n",
              "    </tr>\n",
              "    <tr>\n",
              "      <td>Зеленогорск</td>\n",
              "      <td>100636.52</td>\n",
              "    </tr>\n",
              "    <tr>\n",
              "      <td>Пушкин</td>\n",
              "      <td>100290.60</td>\n",
              "    </tr>\n",
              "    <tr>\n",
              "      <td>Сестрорецк</td>\n",
              "      <td>99449.95</td>\n",
              "    </tr>\n",
              "    <tr>\n",
              "      <td>деревня Мистолово</td>\n",
              "      <td>98549.98</td>\n",
              "    </tr>\n",
              "    <tr>\n",
              "      <td>поселок Левашово</td>\n",
              "      <td>96997.69</td>\n",
              "    </tr>\n",
              "    <tr>\n",
              "      <td>Кудрово</td>\n",
              "      <td>95152.07</td>\n",
              "    </tr>\n",
              "    <tr>\n",
              "      <td>поселок Парголово</td>\n",
              "      <td>90175.91</td>\n",
              "    </tr>\n",
              "    <tr>\n",
              "      <td>поселок Стрельна</td>\n",
              "      <td>88363.08</td>\n",
              "    </tr>\n",
              "  </tbody>\n",
              "</table>\n",
              "</div>"
            ],
            "text/plain": [
              "                   price_per_meter\n",
              "locality_name                     \n",
              "Санкт-Петербург          105426.08\n",
              "поселок Лисий Нос        100660.81\n",
              "Зеленогорск              100636.52\n",
              "Пушкин                   100290.60\n",
              "Сестрорецк                99449.95\n",
              "деревня Мистолово         98549.98\n",
              "поселок Левашово          96997.69\n",
              "Кудрово                   95152.07\n",
              "поселок Парголово         90175.91\n",
              "поселок Стрельна          88363.08"
            ]
          },
          "metadata": {
            "tags": []
          },
          "execution_count": 101
        }
      ]
    },
    {
      "cell_type": "code",
      "metadata": {
        "id": "UMnKjZz-bVWh",
        "outputId": "ece9f674-d88c-4a31-c849-aeb2188fb73a"
      },
      "source": [
        "df.pivot_table(index = ['locality_name'], values = 'price_per_meter', aggfunc = 'median').sort_values(by = 'price_per_meter', ascending = False).head(10)"
      ],
      "execution_count": null,
      "outputs": [
        {
          "output_type": "execute_result",
          "data": {
            "text/html": [
              "<div>\n",
              "<style scoped>\n",
              "    .dataframe tbody tr th:only-of-type {\n",
              "        vertical-align: middle;\n",
              "    }\n",
              "\n",
              "    .dataframe tbody tr th {\n",
              "        vertical-align: top;\n",
              "    }\n",
              "\n",
              "    .dataframe thead th {\n",
              "        text-align: right;\n",
              "    }\n",
              "</style>\n",
              "<table border=\"1\" class=\"dataframe\">\n",
              "  <thead>\n",
              "    <tr style=\"text-align: right;\">\n",
              "      <th></th>\n",
              "      <th>price_per_meter</th>\n",
              "    </tr>\n",
              "    <tr>\n",
              "      <th>locality_name</th>\n",
              "      <th></th>\n",
              "    </tr>\n",
              "  </thead>\n",
              "  <tbody>\n",
              "    <tr>\n",
              "      <td>Санкт-Петербург</td>\n",
              "      <td>101865.14</td>\n",
              "    </tr>\n",
              "    <tr>\n",
              "      <td>Зеленогорск</td>\n",
              "      <td>98596.11</td>\n",
              "    </tr>\n",
              "    <tr>\n",
              "      <td>Сестрорецк</td>\n",
              "      <td>98341.23</td>\n",
              "    </tr>\n",
              "    <tr>\n",
              "      <td>Пушкин</td>\n",
              "      <td>98325.89</td>\n",
              "    </tr>\n",
              "    <tr>\n",
              "      <td>поселок Левашово</td>\n",
              "      <td>96997.69</td>\n",
              "    </tr>\n",
              "    <tr>\n",
              "      <td>Кудрово</td>\n",
              "      <td>95555.31</td>\n",
              "    </tr>\n",
              "    <tr>\n",
              "      <td>поселок Парголово</td>\n",
              "      <td>91642.86</td>\n",
              "    </tr>\n",
              "    <tr>\n",
              "      <td>деревня Мистолово</td>\n",
              "      <td>90888.89</td>\n",
              "    </tr>\n",
              "    <tr>\n",
              "      <td>поселок Стрельна</td>\n",
              "      <td>87741.94</td>\n",
              "    </tr>\n",
              "    <tr>\n",
              "      <td>Мурино</td>\n",
              "      <td>86175.64</td>\n",
              "    </tr>\n",
              "  </tbody>\n",
              "</table>\n",
              "</div>"
            ],
            "text/plain": [
              "                   price_per_meter\n",
              "locality_name                     \n",
              "Санкт-Петербург          101865.14\n",
              "Зеленогорск               98596.11\n",
              "Сестрорецк                98341.23\n",
              "Пушкин                    98325.89\n",
              "поселок Левашово          96997.69\n",
              "Кудрово                   95555.31\n",
              "поселок Парголово         91642.86\n",
              "деревня Мистолово         90888.89\n",
              "поселок Стрельна          87741.94\n",
              "Мурино                    86175.64"
            ]
          },
          "metadata": {
            "tags": []
          },
          "execution_count": 102
        }
      ]
    },
    {
      "cell_type": "code",
      "metadata": {
        "id": "F2Z1cXkqbVWh",
        "outputId": "d0c33016-43e6-47b4-a77a-11ea3586adc6"
      },
      "source": [
        "print(df_pivot)"
      ],
      "execution_count": null,
      "outputs": [
        {
          "output_type": "stream",
          "text": [
            "                   price_per_meter\n",
            "locality_name                     \n",
            "Санкт-Петербург          105426.08\n",
            "поселок Лисий Нос        100660.81\n",
            "Зеленогорск              100636.52\n",
            "Пушкин                   100290.60\n",
            "Сестрорецк                99449.95\n",
            "деревня Мистолово         98549.98\n",
            "поселок Левашово          96997.69\n",
            "Кудрово                   95152.07\n",
            "поселок Парголово         90175.91\n",
            "поселок Стрельна          88363.08\n"
          ],
          "name": "stdout"
        }
      ]
    },
    {
      "cell_type": "markdown",
      "metadata": {
        "id": "rUgTADU4bVWh"
      },
      "source": [
        "### Вывод\n",
        "Видим, что самое дорогое жилье, как и ожидалось, в городе Санкт-Петербург. Также замечаем, что очень высокие ценны за кв.метр в Курортном районе(поселок Лисий Нос, Сестрорецк, Зеленогорск), что также оправдано. Самое дешевое жилье в основном в новых районах, где идет новое интенсивное строительство(Парголово, Кудрово). В поселке Стрельна самый низкий показатель за кв.метр из топ 10. Насколько известно, там нет интенсивной застройки, в основном дома старого фонда, а также  довольно далеко расположен от города.\n"
      ]
    },
    {
      "cell_type": "markdown",
      "metadata": {
        "id": "oU_PW7ngbVWh"
      },
      "source": [
        "### Изучите предложения квартир: для каждой квартиры есть информация о расстоянии до центра. Выделите квартиры в Санкт-Петербурге ('locality_name'). Ваша задача — выяснить, какая область входит в центр. Создайте столбец с расстоянием до центра в километрах: округлите до целых значений. После этого посчитайте среднюю цену для каждого километра. Постройте график: он должен показывать, как цена зависит от удалённости от центра. Определите границу, где график сильно меняется — это и будет центральная зона.\n"
      ]
    },
    {
      "cell_type": "code",
      "metadata": {
        "id": "0EJ_qygXbVWi",
        "outputId": "e8b95702-1e3a-4311-9631-463b823f342e"
      },
      "source": [
        "print(df['city_center_nearest'])"
      ],
      "execution_count": null,
      "outputs": [
        {
          "output_type": "stream",
          "text": [
            "1       18603.00\n",
            "2       13933.00\n",
            "4        8098.00\n",
            "5            nan\n",
            "6       19143.00\n",
            "          ...   \n",
            "23694    4232.00\n",
            "23695        nan\n",
            "23696        nan\n",
            "23697   10364.00\n",
            "23698        nan\n",
            "Name: city_center_nearest, Length: 21595, dtype: float64\n"
          ],
          "name": "stdout"
        }
      ]
    },
    {
      "cell_type": "code",
      "metadata": {
        "id": "ST20OKCvbVWi"
      },
      "source": [
        "# <переведем в километры и округлим>\n",
        "df['city_center_nearest_km'] = (df['city_center_nearest'] / 1000).round()"
      ],
      "execution_count": null,
      "outputs": []
    },
    {
      "cell_type": "code",
      "metadata": {
        "id": "y1hAxkjlbVWi",
        "outputId": "8ce3784e-957a-4266-8a78-4bdc66018ea3"
      },
      "source": [
        "print(df['city_center_nearest_km'])"
      ],
      "execution_count": null,
      "outputs": [
        {
          "output_type": "stream",
          "text": [
            "1       19.00\n",
            "2       14.00\n",
            "4        8.00\n",
            "5         nan\n",
            "6       19.00\n",
            "         ... \n",
            "23694    4.00\n",
            "23695     nan\n",
            "23696     nan\n",
            "23697   10.00\n",
            "23698     nan\n",
            "Name: city_center_nearest_km, Length: 21595, dtype: float64\n"
          ],
          "name": "stdout"
        }
      ]
    },
    {
      "cell_type": "code",
      "metadata": {
        "id": "_k6xOtbrbVWi"
      },
      "source": [
        "# <удалим пустые значения> \n",
        "city_center_locality = df.dropna(subset=['city_center_nearest_km'])"
      ],
      "execution_count": null,
      "outputs": []
    },
    {
      "cell_type": "code",
      "metadata": {
        "id": "M1XACB9hbVWi",
        "outputId": "81a56e0d-ecd8-47b8-d43b-25e79bd81e77"
      },
      "source": [
        "city_center_locality['city_center_nearest_km'].describe()"
      ],
      "execution_count": null,
      "outputs": [
        {
          "output_type": "execute_result",
          "data": {
            "text/plain": [
              "count   16112.00\n",
              "mean       14.98\n",
              "std         8.57\n",
              "min         0.00\n",
              "25%        11.00\n",
              "50%        14.00\n",
              "75%        17.00\n",
              "max        66.00\n",
              "Name: city_center_nearest_km, dtype: float64"
            ]
          },
          "metadata": {
            "tags": []
          },
          "execution_count": 108
        }
      ]
    },
    {
      "cell_type": "code",
      "metadata": {
        "id": "__j5-uNobVWi"
      },
      "source": [
        "# <сделаем срез, выделяя квартиры из Санкт-Петербурга> \n",
        "city_center_locality = city_center_locality.query('locality_name == \"Санкт-Петербург\"')"
      ],
      "execution_count": null,
      "outputs": []
    },
    {
      "cell_type": "code",
      "metadata": {
        "id": "orWinRkJbVWj",
        "outputId": "e293e9a3-73a7-49a2-8947-76e83ae821d4"
      },
      "source": [
        "display(city_center_locality)"
      ],
      "execution_count": null,
      "outputs": [
        {
          "output_type": "display_data",
          "data": {
            "text/html": [
              "<div>\n",
              "<style scoped>\n",
              "    .dataframe tbody tr th:only-of-type {\n",
              "        vertical-align: middle;\n",
              "    }\n",
              "\n",
              "    .dataframe tbody tr th {\n",
              "        vertical-align: top;\n",
              "    }\n",
              "\n",
              "    .dataframe thead th {\n",
              "        text-align: right;\n",
              "    }\n",
              "</style>\n",
              "<table border=\"1\" class=\"dataframe\">\n",
              "  <thead>\n",
              "    <tr style=\"text-align: right;\">\n",
              "      <th></th>\n",
              "      <th>total_images</th>\n",
              "      <th>last_price</th>\n",
              "      <th>total_area</th>\n",
              "      <th>first_day_exposition</th>\n",
              "      <th>rooms</th>\n",
              "      <th>ceiling_height</th>\n",
              "      <th>floors_total</th>\n",
              "      <th>living_area</th>\n",
              "      <th>floor</th>\n",
              "      <th>is_apartment</th>\n",
              "      <th>...</th>\n",
              "      <th>ponds_nearest</th>\n",
              "      <th>days_exposition</th>\n",
              "      <th>price_per_meter</th>\n",
              "      <th>weekday_public</th>\n",
              "      <th>month_public</th>\n",
              "      <th>year_public</th>\n",
              "      <th>define_floor</th>\n",
              "      <th>living_ratio_total</th>\n",
              "      <th>kitchen_ratio_total</th>\n",
              "      <th>city_center_nearest_km</th>\n",
              "    </tr>\n",
              "  </thead>\n",
              "  <tbody>\n",
              "    <tr>\n",
              "      <td>2</td>\n",
              "      <td>10</td>\n",
              "      <td>5196000.00</td>\n",
              "      <td>56.00</td>\n",
              "      <td>2015-08-20</td>\n",
              "      <td>2</td>\n",
              "      <td>nan</td>\n",
              "      <td>5</td>\n",
              "      <td>34.30</td>\n",
              "      <td>4</td>\n",
              "      <td>False</td>\n",
              "      <td>...</td>\n",
              "      <td>574.00</td>\n",
              "      <td>558.00</td>\n",
              "      <td>92785.71</td>\n",
              "      <td>Thursday</td>\n",
              "      <td>August</td>\n",
              "      <td>2015</td>\n",
              "      <td>другой</td>\n",
              "      <td>0.61</td>\n",
              "      <td>0.15</td>\n",
              "      <td>14.00</td>\n",
              "    </tr>\n",
              "    <tr>\n",
              "      <td>4</td>\n",
              "      <td>2</td>\n",
              "      <td>10000000.00</td>\n",
              "      <td>100.00</td>\n",
              "      <td>2018-06-19</td>\n",
              "      <td>2</td>\n",
              "      <td>3.03</td>\n",
              "      <td>14</td>\n",
              "      <td>32.00</td>\n",
              "      <td>13</td>\n",
              "      <td>False</td>\n",
              "      <td>...</td>\n",
              "      <td>48.00</td>\n",
              "      <td>121.00</td>\n",
              "      <td>100000.00</td>\n",
              "      <td>Tuesday</td>\n",
              "      <td>June</td>\n",
              "      <td>2018</td>\n",
              "      <td>другой</td>\n",
              "      <td>0.32</td>\n",
              "      <td>0.41</td>\n",
              "      <td>8.00</td>\n",
              "    </tr>\n",
              "    <tr>\n",
              "      <td>7</td>\n",
              "      <td>5</td>\n",
              "      <td>7915000.00</td>\n",
              "      <td>71.60</td>\n",
              "      <td>2019-04-18</td>\n",
              "      <td>2</td>\n",
              "      <td>nan</td>\n",
              "      <td>24</td>\n",
              "      <td>nan</td>\n",
              "      <td>22</td>\n",
              "      <td>False</td>\n",
              "      <td>...</td>\n",
              "      <td>nan</td>\n",
              "      <td>nan</td>\n",
              "      <td>110544.69</td>\n",
              "      <td>Thursday</td>\n",
              "      <td>April</td>\n",
              "      <td>2019</td>\n",
              "      <td>другой</td>\n",
              "      <td>nan</td>\n",
              "      <td>0.26</td>\n",
              "      <td>12.00</td>\n",
              "    </tr>\n",
              "    <tr>\n",
              "      <td>9</td>\n",
              "      <td>18</td>\n",
              "      <td>5400000.00</td>\n",
              "      <td>61.00</td>\n",
              "      <td>2017-02-26</td>\n",
              "      <td>3</td>\n",
              "      <td>2.50</td>\n",
              "      <td>9</td>\n",
              "      <td>43.60</td>\n",
              "      <td>7</td>\n",
              "      <td>False</td>\n",
              "      <td>...</td>\n",
              "      <td>nan</td>\n",
              "      <td>289.00</td>\n",
              "      <td>88524.59</td>\n",
              "      <td>Sunday</td>\n",
              "      <td>February</td>\n",
              "      <td>2017</td>\n",
              "      <td>другой</td>\n",
              "      <td>0.71</td>\n",
              "      <td>0.11</td>\n",
              "      <td>15.00</td>\n",
              "    </tr>\n",
              "    <tr>\n",
              "      <td>10</td>\n",
              "      <td>5</td>\n",
              "      <td>5050000.00</td>\n",
              "      <td>39.60</td>\n",
              "      <td>2017-11-16</td>\n",
              "      <td>1</td>\n",
              "      <td>2.67</td>\n",
              "      <td>12</td>\n",
              "      <td>20.30</td>\n",
              "      <td>3</td>\n",
              "      <td>False</td>\n",
              "      <td>...</td>\n",
              "      <td>553.00</td>\n",
              "      <td>137.00</td>\n",
              "      <td>127525.25</td>\n",
              "      <td>Thursday</td>\n",
              "      <td>November</td>\n",
              "      <td>2017</td>\n",
              "      <td>другой</td>\n",
              "      <td>0.51</td>\n",
              "      <td>0.21</td>\n",
              "      <td>14.00</td>\n",
              "    </tr>\n",
              "    <tr>\n",
              "      <td>...</td>\n",
              "      <td>...</td>\n",
              "      <td>...</td>\n",
              "      <td>...</td>\n",
              "      <td>...</td>\n",
              "      <td>...</td>\n",
              "      <td>...</td>\n",
              "      <td>...</td>\n",
              "      <td>...</td>\n",
              "      <td>...</td>\n",
              "      <td>...</td>\n",
              "      <td>...</td>\n",
              "      <td>...</td>\n",
              "      <td>...</td>\n",
              "      <td>...</td>\n",
              "      <td>...</td>\n",
              "      <td>...</td>\n",
              "      <td>...</td>\n",
              "      <td>...</td>\n",
              "      <td>...</td>\n",
              "      <td>...</td>\n",
              "      <td>...</td>\n",
              "    </tr>\n",
              "    <tr>\n",
              "      <td>23689</td>\n",
              "      <td>13</td>\n",
              "      <td>3550000.00</td>\n",
              "      <td>35.30</td>\n",
              "      <td>2018-02-28</td>\n",
              "      <td>1</td>\n",
              "      <td>2.86</td>\n",
              "      <td>15</td>\n",
              "      <td>16.30</td>\n",
              "      <td>4</td>\n",
              "      <td>False</td>\n",
              "      <td>...</td>\n",
              "      <td>652.00</td>\n",
              "      <td>29.00</td>\n",
              "      <td>100566.57</td>\n",
              "      <td>Wednesday</td>\n",
              "      <td>February</td>\n",
              "      <td>2018</td>\n",
              "      <td>другой</td>\n",
              "      <td>0.46</td>\n",
              "      <td>0.26</td>\n",
              "      <td>16.00</td>\n",
              "    </tr>\n",
              "    <tr>\n",
              "      <td>23690</td>\n",
              "      <td>3</td>\n",
              "      <td>5500000.00</td>\n",
              "      <td>52.00</td>\n",
              "      <td>2018-07-19</td>\n",
              "      <td>2</td>\n",
              "      <td>nan</td>\n",
              "      <td>5</td>\n",
              "      <td>31.00</td>\n",
              "      <td>2</td>\n",
              "      <td>False</td>\n",
              "      <td>...</td>\n",
              "      <td>nan</td>\n",
              "      <td>15.00</td>\n",
              "      <td>105769.23</td>\n",
              "      <td>Thursday</td>\n",
              "      <td>July</td>\n",
              "      <td>2018</td>\n",
              "      <td>другой</td>\n",
              "      <td>0.60</td>\n",
              "      <td>0.12</td>\n",
              "      <td>6.00</td>\n",
              "    </tr>\n",
              "    <tr>\n",
              "      <td>23691</td>\n",
              "      <td>11</td>\n",
              "      <td>9470000.00</td>\n",
              "      <td>72.90</td>\n",
              "      <td>2016-10-13</td>\n",
              "      <td>2</td>\n",
              "      <td>2.75</td>\n",
              "      <td>25</td>\n",
              "      <td>40.30</td>\n",
              "      <td>7</td>\n",
              "      <td>False</td>\n",
              "      <td>...</td>\n",
              "      <td>806.00</td>\n",
              "      <td>519.00</td>\n",
              "      <td>129903.98</td>\n",
              "      <td>Thursday</td>\n",
              "      <td>October</td>\n",
              "      <td>2016</td>\n",
              "      <td>другой</td>\n",
              "      <td>0.55</td>\n",
              "      <td>0.15</td>\n",
              "      <td>4.00</td>\n",
              "    </tr>\n",
              "    <tr>\n",
              "      <td>23694</td>\n",
              "      <td>9</td>\n",
              "      <td>9700000.00</td>\n",
              "      <td>133.81</td>\n",
              "      <td>2017-03-21</td>\n",
              "      <td>3</td>\n",
              "      <td>3.70</td>\n",
              "      <td>5</td>\n",
              "      <td>73.30</td>\n",
              "      <td>3</td>\n",
              "      <td>False</td>\n",
              "      <td>...</td>\n",
              "      <td>381.00</td>\n",
              "      <td>nan</td>\n",
              "      <td>72490.85</td>\n",
              "      <td>Tuesday</td>\n",
              "      <td>March</td>\n",
              "      <td>2017</td>\n",
              "      <td>другой</td>\n",
              "      <td>0.55</td>\n",
              "      <td>0.10</td>\n",
              "      <td>4.00</td>\n",
              "    </tr>\n",
              "    <tr>\n",
              "      <td>23697</td>\n",
              "      <td>13</td>\n",
              "      <td>11475000.00</td>\n",
              "      <td>76.75</td>\n",
              "      <td>2017-03-28</td>\n",
              "      <td>2</td>\n",
              "      <td>3.00</td>\n",
              "      <td>17</td>\n",
              "      <td>nan</td>\n",
              "      <td>12</td>\n",
              "      <td>False</td>\n",
              "      <td>...</td>\n",
              "      <td>196.00</td>\n",
              "      <td>602.00</td>\n",
              "      <td>149511.40</td>\n",
              "      <td>Tuesday</td>\n",
              "      <td>March</td>\n",
              "      <td>2017</td>\n",
              "      <td>другой</td>\n",
              "      <td>nan</td>\n",
              "      <td>0.30</td>\n",
              "      <td>10.00</td>\n",
              "    </tr>\n",
              "  </tbody>\n",
              "</table>\n",
              "<p>13695 rows × 30 columns</p>\n",
              "</div>"
            ],
            "text/plain": [
              "       total_images  last_price  total_area first_day_exposition  rooms  \\\n",
              "2                10  5196000.00       56.00           2015-08-20      2   \n",
              "4                 2 10000000.00      100.00           2018-06-19      2   \n",
              "7                 5  7915000.00       71.60           2019-04-18      2   \n",
              "9                18  5400000.00       61.00           2017-02-26      3   \n",
              "10                5  5050000.00       39.60           2017-11-16      1   \n",
              "...             ...         ...         ...                  ...    ...   \n",
              "23689            13  3550000.00       35.30           2018-02-28      1   \n",
              "23690             3  5500000.00       52.00           2018-07-19      2   \n",
              "23691            11  9470000.00       72.90           2016-10-13      2   \n",
              "23694             9  9700000.00      133.81           2017-03-21      3   \n",
              "23697            13 11475000.00       76.75           2017-03-28      2   \n",
              "\n",
              "       ceiling_height  floors_total  living_area  floor  is_apartment  ...  \\\n",
              "2                 nan             5        34.30      4         False  ...   \n",
              "4                3.03            14        32.00     13         False  ...   \n",
              "7                 nan            24          nan     22         False  ...   \n",
              "9                2.50             9        43.60      7         False  ...   \n",
              "10               2.67            12        20.30      3         False  ...   \n",
              "...               ...           ...          ...    ...           ...  ...   \n",
              "23689            2.86            15        16.30      4         False  ...   \n",
              "23690             nan             5        31.00      2         False  ...   \n",
              "23691            2.75            25        40.30      7         False  ...   \n",
              "23694            3.70             5        73.30      3         False  ...   \n",
              "23697            3.00            17          nan     12         False  ...   \n",
              "\n",
              "       ponds_nearest  days_exposition  price_per_meter  weekday_public  \\\n",
              "2             574.00           558.00         92785.71        Thursday   \n",
              "4              48.00           121.00        100000.00         Tuesday   \n",
              "7                nan              nan        110544.69        Thursday   \n",
              "9                nan           289.00         88524.59          Sunday   \n",
              "10            553.00           137.00        127525.25        Thursday   \n",
              "...              ...              ...              ...             ...   \n",
              "23689         652.00            29.00        100566.57       Wednesday   \n",
              "23690            nan            15.00        105769.23        Thursday   \n",
              "23691         806.00           519.00        129903.98        Thursday   \n",
              "23694         381.00              nan         72490.85         Tuesday   \n",
              "23697         196.00           602.00        149511.40         Tuesday   \n",
              "\n",
              "      month_public  year_public  define_floor  living_ratio_total  \\\n",
              "2           August         2015        другой                0.61   \n",
              "4             June         2018        другой                0.32   \n",
              "7            April         2019        другой                 nan   \n",
              "9         February         2017        другой                0.71   \n",
              "10        November         2017        другой                0.51   \n",
              "...            ...          ...           ...                 ...   \n",
              "23689     February         2018        другой                0.46   \n",
              "23690         July         2018        другой                0.60   \n",
              "23691      October         2016        другой                0.55   \n",
              "23694        March         2017        другой                0.55   \n",
              "23697        March         2017        другой                 nan   \n",
              "\n",
              "       kitchen_ratio_total  city_center_nearest_km  \n",
              "2                     0.15                   14.00  \n",
              "4                     0.41                    8.00  \n",
              "7                     0.26                   12.00  \n",
              "9                     0.11                   15.00  \n",
              "10                    0.21                   14.00  \n",
              "...                    ...                     ...  \n",
              "23689                 0.26                   16.00  \n",
              "23690                 0.12                    6.00  \n",
              "23691                 0.15                    4.00  \n",
              "23694                 0.10                    4.00  \n",
              "23697                 0.30                   10.00  \n",
              "\n",
              "[13695 rows x 30 columns]"
            ]
          },
          "metadata": {
            "tags": []
          }
        }
      ]
    },
    {
      "cell_type": "code",
      "metadata": {
        "id": "0-DA_hcMbVWj",
        "outputId": "94997eec-9b8d-48ba-de0d-0ecf6f009f89"
      },
      "source": [
        "city_center_pivot = city_center_locality.pivot_table(index = ['city_center_nearest_km'], values = 'last_price', aggfunc = 'mean')\n",
        "city_center_pivot.plot(kind = 'bar', grid = True, figsize = (12,6))\n",
        "plt.xlabel('Удаленность от центра')\n",
        "plt.ylabel('Стоимость кв')\n",
        "plt.show()"
      ],
      "execution_count": null,
      "outputs": [
        {
          "output_type": "display_data",
          "data": {
            "image/png": "[encoded data removed]",
            "text/plain": [
              "<Figure size 864x432 with 1 Axes>"
            ]
          },
          "metadata": {
            "tags": [],
            "needs_background": "light"
          }
        }
      ]
    },
    {
      "cell_type": "markdown",
      "metadata": {
        "id": "Dg_gQuEXbVWj"
      },
      "source": [
        " ### Вывод\n",
        " Заметим, что центр города Санкт - Петербург скорее всего находится в радиусе 8 км. После 8 км цена значительно ниже, встречаются небольшие всплески, но это скорее больше связано с тем, в каком районе находится квартира. "
      ]
    },
    {
      "cell_type": "markdown",
      "metadata": {
        "id": "Y6GgsU0rbVWj"
      },
      "source": [
        "### Выделите сегмент квартир в центре. Проанализируйте эту территорию и изучите следующие параметры: площадь, цена, число комнат, высота потолков. Также выделите факторы, которые влияют на стоимость квартиры (число комнат, этаж, удалённость от центра, дата размещения объявления). Сделайте выводы. Отличаются ли они от общих выводов по всему городу? "
      ]
    },
    {
      "cell_type": "code",
      "metadata": {
        "id": "wc6DxTrzbVWj"
      },
      "source": [
        "# <возьмем, что центр находится в пределах 8 км >\n",
        "city_center_locality = city_center_locality.query('city_center_nearest_km <= 8')"
      ],
      "execution_count": null,
      "outputs": []
    },
    {
      "cell_type": "code",
      "metadata": {
        "id": "GDGl_pKGbVWk",
        "outputId": "0d409bb8-e6a6-42e3-fec1-1600a099800a"
      },
      "source": [
        "display(city_center_locality)"
      ],
      "execution_count": null,
      "outputs": [
        {
          "output_type": "display_data",
          "data": {
            "text/html": [
              "<div>\n",
              "<style scoped>\n",
              "    .dataframe tbody tr th:only-of-type {\n",
              "        vertical-align: middle;\n",
              "    }\n",
              "\n",
              "    .dataframe tbody tr th {\n",
              "        vertical-align: top;\n",
              "    }\n",
              "\n",
              "    .dataframe thead th {\n",
              "        text-align: right;\n",
              "    }\n",
              "</style>\n",
              "<table border=\"1\" class=\"dataframe\">\n",
              "  <thead>\n",
              "    <tr style=\"text-align: right;\">\n",
              "      <th></th>\n",
              "      <th>total_images</th>\n",
              "      <th>last_price</th>\n",
              "      <th>total_area</th>\n",
              "      <th>first_day_exposition</th>\n",
              "      <th>rooms</th>\n",
              "      <th>ceiling_height</th>\n",
              "      <th>floors_total</th>\n",
              "      <th>living_area</th>\n",
              "      <th>floor</th>\n",
              "      <th>is_apartment</th>\n",
              "      <th>...</th>\n",
              "      <th>ponds_nearest</th>\n",
              "      <th>days_exposition</th>\n",
              "      <th>price_per_meter</th>\n",
              "      <th>weekday_public</th>\n",
              "      <th>month_public</th>\n",
              "      <th>year_public</th>\n",
              "      <th>define_floor</th>\n",
              "      <th>living_ratio_total</th>\n",
              "      <th>kitchen_ratio_total</th>\n",
              "      <th>city_center_nearest_km</th>\n",
              "    </tr>\n",
              "  </thead>\n",
              "  <tbody>\n",
              "    <tr>\n",
              "      <td>4</td>\n",
              "      <td>2</td>\n",
              "      <td>10000000.00</td>\n",
              "      <td>100.00</td>\n",
              "      <td>2018-06-19</td>\n",
              "      <td>2</td>\n",
              "      <td>3.03</td>\n",
              "      <td>14</td>\n",
              "      <td>32.00</td>\n",
              "      <td>13</td>\n",
              "      <td>False</td>\n",
              "      <td>...</td>\n",
              "      <td>48.00</td>\n",
              "      <td>121.00</td>\n",
              "      <td>100000.00</td>\n",
              "      <td>Tuesday</td>\n",
              "      <td>June</td>\n",
              "      <td>2018</td>\n",
              "      <td>другой</td>\n",
              "      <td>0.32</td>\n",
              "      <td>0.41</td>\n",
              "      <td>8.00</td>\n",
              "    </tr>\n",
              "    <tr>\n",
              "      <td>24</td>\n",
              "      <td>8</td>\n",
              "      <td>6500000.00</td>\n",
              "      <td>97.20</td>\n",
              "      <td>2015-10-31</td>\n",
              "      <td>2</td>\n",
              "      <td>nan</td>\n",
              "      <td>3</td>\n",
              "      <td>46.50</td>\n",
              "      <td>1</td>\n",
              "      <td>False</td>\n",
              "      <td>...</td>\n",
              "      <td>124.00</td>\n",
              "      <td>265.00</td>\n",
              "      <td>66872.43</td>\n",
              "      <td>Saturday</td>\n",
              "      <td>October</td>\n",
              "      <td>2015</td>\n",
              "      <td>первый</td>\n",
              "      <td>0.48</td>\n",
              "      <td>0.20</td>\n",
              "      <td>2.00</td>\n",
              "    </tr>\n",
              "    <tr>\n",
              "      <td>52</td>\n",
              "      <td>20</td>\n",
              "      <td>11795000.00</td>\n",
              "      <td>136.00</td>\n",
              "      <td>2017-09-22</td>\n",
              "      <td>6</td>\n",
              "      <td>3.00</td>\n",
              "      <td>2</td>\n",
              "      <td>94.00</td>\n",
              "      <td>2</td>\n",
              "      <td>False</td>\n",
              "      <td>...</td>\n",
              "      <td>nan</td>\n",
              "      <td>nan</td>\n",
              "      <td>86727.94</td>\n",
              "      <td>Friday</td>\n",
              "      <td>September</td>\n",
              "      <td>2017</td>\n",
              "      <td>последний</td>\n",
              "      <td>0.69</td>\n",
              "      <td>0.08</td>\n",
              "      <td>7.00</td>\n",
              "    </tr>\n",
              "    <tr>\n",
              "      <td>61</td>\n",
              "      <td>18</td>\n",
              "      <td>7990000.00</td>\n",
              "      <td>74.00</td>\n",
              "      <td>2017-08-24</td>\n",
              "      <td>2</td>\n",
              "      <td>nan</td>\n",
              "      <td>4</td>\n",
              "      <td>43.00</td>\n",
              "      <td>4</td>\n",
              "      <td>False</td>\n",
              "      <td>...</td>\n",
              "      <td>nan</td>\n",
              "      <td>609.00</td>\n",
              "      <td>107972.97</td>\n",
              "      <td>Thursday</td>\n",
              "      <td>August</td>\n",
              "      <td>2017</td>\n",
              "      <td>последний</td>\n",
              "      <td>0.58</td>\n",
              "      <td>0.27</td>\n",
              "      <td>4.00</td>\n",
              "    </tr>\n",
              "    <tr>\n",
              "      <td>70</td>\n",
              "      <td>9</td>\n",
              "      <td>3400000.00</td>\n",
              "      <td>30.00</td>\n",
              "      <td>2018-09-05</td>\n",
              "      <td>1</td>\n",
              "      <td>nan</td>\n",
              "      <td>5</td>\n",
              "      <td>16.00</td>\n",
              "      <td>1</td>\n",
              "      <td>False</td>\n",
              "      <td>...</td>\n",
              "      <td>nan</td>\n",
              "      <td>14.00</td>\n",
              "      <td>113333.33</td>\n",
              "      <td>Wednesday</td>\n",
              "      <td>September</td>\n",
              "      <td>2018</td>\n",
              "      <td>первый</td>\n",
              "      <td>0.53</td>\n",
              "      <td>0.23</td>\n",
              "      <td>8.00</td>\n",
              "    </tr>\n",
              "    <tr>\n",
              "      <td>...</td>\n",
              "      <td>...</td>\n",
              "      <td>...</td>\n",
              "      <td>...</td>\n",
              "      <td>...</td>\n",
              "      <td>...</td>\n",
              "      <td>...</td>\n",
              "      <td>...</td>\n",
              "      <td>...</td>\n",
              "      <td>...</td>\n",
              "      <td>...</td>\n",
              "      <td>...</td>\n",
              "      <td>...</td>\n",
              "      <td>...</td>\n",
              "      <td>...</td>\n",
              "      <td>...</td>\n",
              "      <td>...</td>\n",
              "      <td>...</td>\n",
              "      <td>...</td>\n",
              "      <td>...</td>\n",
              "      <td>...</td>\n",
              "      <td>...</td>\n",
              "    </tr>\n",
              "    <tr>\n",
              "      <td>23665</td>\n",
              "      <td>11</td>\n",
              "      <td>4250000.00</td>\n",
              "      <td>47.00</td>\n",
              "      <td>2016-05-20</td>\n",
              "      <td>1</td>\n",
              "      <td>nan</td>\n",
              "      <td>6</td>\n",
              "      <td>18.20</td>\n",
              "      <td>1</td>\n",
              "      <td>False</td>\n",
              "      <td>...</td>\n",
              "      <td>519.00</td>\n",
              "      <td>131.00</td>\n",
              "      <td>90425.53</td>\n",
              "      <td>Friday</td>\n",
              "      <td>May</td>\n",
              "      <td>2016</td>\n",
              "      <td>первый</td>\n",
              "      <td>0.39</td>\n",
              "      <td>0.31</td>\n",
              "      <td>5.00</td>\n",
              "    </tr>\n",
              "    <tr>\n",
              "      <td>23681</td>\n",
              "      <td>13</td>\n",
              "      <td>5250000.00</td>\n",
              "      <td>43.00</td>\n",
              "      <td>2018-05-11</td>\n",
              "      <td>2</td>\n",
              "      <td>2.50</td>\n",
              "      <td>5</td>\n",
              "      <td>29.00</td>\n",
              "      <td>2</td>\n",
              "      <td>False</td>\n",
              "      <td>...</td>\n",
              "      <td>660.00</td>\n",
              "      <td>80.00</td>\n",
              "      <td>122093.02</td>\n",
              "      <td>Friday</td>\n",
              "      <td>May</td>\n",
              "      <td>2018</td>\n",
              "      <td>другой</td>\n",
              "      <td>0.67</td>\n",
              "      <td>0.14</td>\n",
              "      <td>7.00</td>\n",
              "    </tr>\n",
              "    <tr>\n",
              "      <td>23690</td>\n",
              "      <td>3</td>\n",
              "      <td>5500000.00</td>\n",
              "      <td>52.00</td>\n",
              "      <td>2018-07-19</td>\n",
              "      <td>2</td>\n",
              "      <td>nan</td>\n",
              "      <td>5</td>\n",
              "      <td>31.00</td>\n",
              "      <td>2</td>\n",
              "      <td>False</td>\n",
              "      <td>...</td>\n",
              "      <td>nan</td>\n",
              "      <td>15.00</td>\n",
              "      <td>105769.23</td>\n",
              "      <td>Thursday</td>\n",
              "      <td>July</td>\n",
              "      <td>2018</td>\n",
              "      <td>другой</td>\n",
              "      <td>0.60</td>\n",
              "      <td>0.12</td>\n",
              "      <td>6.00</td>\n",
              "    </tr>\n",
              "    <tr>\n",
              "      <td>23691</td>\n",
              "      <td>11</td>\n",
              "      <td>9470000.00</td>\n",
              "      <td>72.90</td>\n",
              "      <td>2016-10-13</td>\n",
              "      <td>2</td>\n",
              "      <td>2.75</td>\n",
              "      <td>25</td>\n",
              "      <td>40.30</td>\n",
              "      <td>7</td>\n",
              "      <td>False</td>\n",
              "      <td>...</td>\n",
              "      <td>806.00</td>\n",
              "      <td>519.00</td>\n",
              "      <td>129903.98</td>\n",
              "      <td>Thursday</td>\n",
              "      <td>October</td>\n",
              "      <td>2016</td>\n",
              "      <td>другой</td>\n",
              "      <td>0.55</td>\n",
              "      <td>0.15</td>\n",
              "      <td>4.00</td>\n",
              "    </tr>\n",
              "    <tr>\n",
              "      <td>23694</td>\n",
              "      <td>9</td>\n",
              "      <td>9700000.00</td>\n",
              "      <td>133.81</td>\n",
              "      <td>2017-03-21</td>\n",
              "      <td>3</td>\n",
              "      <td>3.70</td>\n",
              "      <td>5</td>\n",
              "      <td>73.30</td>\n",
              "      <td>3</td>\n",
              "      <td>False</td>\n",
              "      <td>...</td>\n",
              "      <td>381.00</td>\n",
              "      <td>nan</td>\n",
              "      <td>72490.85</td>\n",
              "      <td>Tuesday</td>\n",
              "      <td>March</td>\n",
              "      <td>2017</td>\n",
              "      <td>другой</td>\n",
              "      <td>0.55</td>\n",
              "      <td>0.10</td>\n",
              "      <td>4.00</td>\n",
              "    </tr>\n",
              "  </tbody>\n",
              "</table>\n",
              "<p>2763 rows × 30 columns</p>\n",
              "</div>"
            ],
            "text/plain": [
              "       total_images  last_price  total_area first_day_exposition  rooms  \\\n",
              "4                 2 10000000.00      100.00           2018-06-19      2   \n",
              "24                8  6500000.00       97.20           2015-10-31      2   \n",
              "52               20 11795000.00      136.00           2017-09-22      6   \n",
              "61               18  7990000.00       74.00           2017-08-24      2   \n",
              "70                9  3400000.00       30.00           2018-09-05      1   \n",
              "...             ...         ...         ...                  ...    ...   \n",
              "23665            11  4250000.00       47.00           2016-05-20      1   \n",
              "23681            13  5250000.00       43.00           2018-05-11      2   \n",
              "23690             3  5500000.00       52.00           2018-07-19      2   \n",
              "23691            11  9470000.00       72.90           2016-10-13      2   \n",
              "23694             9  9700000.00      133.81           2017-03-21      3   \n",
              "\n",
              "       ceiling_height  floors_total  living_area  floor  is_apartment  ...  \\\n",
              "4                3.03            14        32.00     13         False  ...   \n",
              "24                nan             3        46.50      1         False  ...   \n",
              "52               3.00             2        94.00      2         False  ...   \n",
              "61                nan             4        43.00      4         False  ...   \n",
              "70                nan             5        16.00      1         False  ...   \n",
              "...               ...           ...          ...    ...           ...  ...   \n",
              "23665             nan             6        18.20      1         False  ...   \n",
              "23681            2.50             5        29.00      2         False  ...   \n",
              "23690             nan             5        31.00      2         False  ...   \n",
              "23691            2.75            25        40.30      7         False  ...   \n",
              "23694            3.70             5        73.30      3         False  ...   \n",
              "\n",
              "       ponds_nearest  days_exposition  price_per_meter  weekday_public  \\\n",
              "4              48.00           121.00        100000.00         Tuesday   \n",
              "24            124.00           265.00         66872.43        Saturday   \n",
              "52               nan              nan         86727.94          Friday   \n",
              "61               nan           609.00        107972.97        Thursday   \n",
              "70               nan            14.00        113333.33       Wednesday   \n",
              "...              ...              ...              ...             ...   \n",
              "23665         519.00           131.00         90425.53          Friday   \n",
              "23681         660.00            80.00        122093.02          Friday   \n",
              "23690            nan            15.00        105769.23        Thursday   \n",
              "23691         806.00           519.00        129903.98        Thursday   \n",
              "23694         381.00              nan         72490.85         Tuesday   \n",
              "\n",
              "      month_public  year_public  define_floor  living_ratio_total  \\\n",
              "4             June         2018        другой                0.32   \n",
              "24         October         2015        первый                0.48   \n",
              "52       September         2017     последний                0.69   \n",
              "61          August         2017     последний                0.58   \n",
              "70       September         2018        первый                0.53   \n",
              "...            ...          ...           ...                 ...   \n",
              "23665          May         2016        первый                0.39   \n",
              "23681          May         2018        другой                0.67   \n",
              "23690         July         2018        другой                0.60   \n",
              "23691      October         2016        другой                0.55   \n",
              "23694        March         2017        другой                0.55   \n",
              "\n",
              "       kitchen_ratio_total  city_center_nearest_km  \n",
              "4                     0.41                    8.00  \n",
              "24                    0.20                    2.00  \n",
              "52                    0.08                    7.00  \n",
              "61                    0.27                    4.00  \n",
              "70                    0.23                    8.00  \n",
              "...                    ...                     ...  \n",
              "23665                 0.31                    5.00  \n",
              "23681                 0.14                    7.00  \n",
              "23690                 0.12                    6.00  \n",
              "23691                 0.15                    4.00  \n",
              "23694                 0.10                    4.00  \n",
              "\n",
              "[2763 rows x 30 columns]"
            ]
          },
          "metadata": {
            "tags": []
          }
        }
      ]
    },
    {
      "cell_type": "code",
      "metadata": {
        "id": "C8Am7oZxbVWk",
        "outputId": "f30b0c60-2ce0-4c4a-dfb3-8ff185168faa"
      },
      "source": [
        "city_center_locality[['total_area', 'last_price', 'rooms', 'ceiling_height']].describe()"
      ],
      "execution_count": null,
      "outputs": [
        {
          "output_type": "execute_result",
          "data": {
            "text/html": [
              "<div>\n",
              "<style scoped>\n",
              "    .dataframe tbody tr th:only-of-type {\n",
              "        vertical-align: middle;\n",
              "    }\n",
              "\n",
              "    .dataframe tbody tr th {\n",
              "        vertical-align: top;\n",
              "    }\n",
              "\n",
              "    .dataframe thead th {\n",
              "        text-align: right;\n",
              "    }\n",
              "</style>\n",
              "<table border=\"1\" class=\"dataframe\">\n",
              "  <thead>\n",
              "    <tr style=\"text-align: right;\">\n",
              "      <th></th>\n",
              "      <th>total_area</th>\n",
              "      <th>last_price</th>\n",
              "      <th>rooms</th>\n",
              "      <th>ceiling_height</th>\n",
              "    </tr>\n",
              "  </thead>\n",
              "  <tbody>\n",
              "    <tr>\n",
              "      <td>count</td>\n",
              "      <td>2763.00</td>\n",
              "      <td>2763.00</td>\n",
              "      <td>2763.00</td>\n",
              "      <td>1767.00</td>\n",
              "    </tr>\n",
              "    <tr>\n",
              "      <td>mean</td>\n",
              "      <td>65.55</td>\n",
              "      <td>7298976.29</td>\n",
              "      <td>2.30</td>\n",
              "      <td>3.04</td>\n",
              "    </tr>\n",
              "    <tr>\n",
              "      <td>std</td>\n",
              "      <td>23.79</td>\n",
              "      <td>2213906.20</td>\n",
              "      <td>1.02</td>\n",
              "      <td>1.20</td>\n",
              "    </tr>\n",
              "    <tr>\n",
              "      <td>min</td>\n",
              "      <td>12.00</td>\n",
              "      <td>1600000.00</td>\n",
              "      <td>0.00</td>\n",
              "      <td>2.40</td>\n",
              "    </tr>\n",
              "    <tr>\n",
              "      <td>25%</td>\n",
              "      <td>47.00</td>\n",
              "      <td>5650000.00</td>\n",
              "      <td>2.00</td>\n",
              "      <td>2.75</td>\n",
              "    </tr>\n",
              "    <tr>\n",
              "      <td>50%</td>\n",
              "      <td>62.90</td>\n",
              "      <td>7200000.00</td>\n",
              "      <td>2.00</td>\n",
              "      <td>3.00</td>\n",
              "    </tr>\n",
              "    <tr>\n",
              "      <td>75%</td>\n",
              "      <td>80.00</td>\n",
              "      <td>8990000.00</td>\n",
              "      <td>3.00</td>\n",
              "      <td>3.20</td>\n",
              "    </tr>\n",
              "    <tr>\n",
              "      <td>max</td>\n",
              "      <td>190.00</td>\n",
              "      <td>11894400.00</td>\n",
              "      <td>6.00</td>\n",
              "      <td>32.00</td>\n",
              "    </tr>\n",
              "  </tbody>\n",
              "</table>\n",
              "</div>"
            ],
            "text/plain": [
              "       total_area  last_price   rooms  ceiling_height\n",
              "count     2763.00     2763.00 2763.00         1767.00\n",
              "mean        65.55  7298976.29    2.30            3.04\n",
              "std         23.79  2213906.20    1.02            1.20\n",
              "min         12.00  1600000.00    0.00            2.40\n",
              "25%         47.00  5650000.00    2.00            2.75\n",
              "50%         62.90  7200000.00    2.00            3.00\n",
              "75%         80.00  8990000.00    3.00            3.20\n",
              "max        190.00 11894400.00    6.00           32.00"
            ]
          },
          "metadata": {
            "tags": []
          },
          "execution_count": 114
        }
      ]
    },
    {
      "cell_type": "markdown",
      "metadata": {
        "id": "DZOt9TD5bVWk"
      },
      "source": [
        "Не совсем понятное максимальное значение высоты потолков. "
      ]
    },
    {
      "cell_type": "markdown",
      "metadata": {
        "id": "9Y-J_TyKbVWk"
      },
      "source": [
        "<b>Изучим площадь квартир</b>"
      ]
    },
    {
      "cell_type": "code",
      "metadata": {
        "id": "0xJr6g9zbVWk",
        "outputId": "88e5e964-d462-48e6-bc75-8750033665a3"
      },
      "source": [
        "city_center_locality['total_area'].value_counts()"
      ],
      "execution_count": null,
      "outputs": [
        {
          "output_type": "execute_result",
          "data": {
            "text/plain": [
              "60.00     48\n",
              "70.00     36\n",
              "43.00     35\n",
              "72.00     35\n",
              "50.00     34\n",
              "          ..\n",
              "133.81     1\n",
              "46.83      1\n",
              "59.40      1\n",
              "92.30      1\n",
              "96.50      1\n",
              "Name: total_area, Length: 786, dtype: int64"
            ]
          },
          "metadata": {
            "tags": []
          },
          "execution_count": 115
        }
      ]
    },
    {
      "cell_type": "code",
      "metadata": {
        "id": "eW0SaW97bVWk",
        "outputId": "1cdc3cc8-23a2-4a7a-dfff-697b34124dd0"
      },
      "source": [
        "# <рассчитаем медиану>\n",
        "city_center_locality['total_area'].median()"
      ],
      "execution_count": null,
      "outputs": [
        {
          "output_type": "execute_result",
          "data": {
            "text/plain": [
              "62.9"
            ]
          },
          "metadata": {
            "tags": []
          },
          "execution_count": 116
        }
      ]
    },
    {
      "cell_type": "code",
      "metadata": {
        "id": "w7Ebfh0mbVWl",
        "outputId": "29e9e8e6-47cd-4ac4-cb6c-aef3a2668af4"
      },
      "source": [
        "city_center_locality['total_area'].plot(kind = 'hist',bins = 100, range = (10, 200), grid =True)\n",
        "plt.xlabel('Площадь')\n",
        "plt.ylabel('Кол-во кв')\n",
        "plt.show()"
      ],
      "execution_count": null,
      "outputs": [
        {
          "output_type": "display_data",
          "data": {
            "image/png": "[encoded data removed]",
            "text/plain": [
              "<Figure size 432x288 with 1 Axes>"
            ]
          },
          "metadata": {
            "tags": [],
            "needs_background": "light"
          }
        }
      ]
    },
    {
      "cell_type": "markdown",
      "metadata": {
        "id": "Lw6Tq_8sbVWl"
      },
      "source": [
        "<b> Наблюдается небольшое число выбросов<b>"
      ]
    },
    {
      "cell_type": "code",
      "metadata": {
        "id": "yYccC4FPbVWl",
        "outputId": "f86e5afd-9e39-43aa-afc6-5fd72d2b0ef5"
      },
      "source": [
        "city_center_locality.boxplot(['total_area'], figsize = (8,8))\n",
        "plt.ylabel('Площадь кв')\n",
        "plt.ylim(10, 200)"
      ],
      "execution_count": null,
      "outputs": [
        {
          "output_type": "execute_result",
          "data": {
            "text/plain": [
              "(10, 200)"
            ]
          },
          "metadata": {
            "tags": []
          },
          "execution_count": 118
        },
        {
          "output_type": "display_data",
          "data": {
            "image/png": "[encoded data removed]",
            "text/plain": [
              "<Figure size 576x576 with 1 Axes>"
            ]
          },
          "metadata": {
            "tags": [],
            "needs_background": "light"
          }
        }
      ]
    },
    {
      "cell_type": "markdown",
      "metadata": {
        "id": "xosJlwitbVWm"
      },
      "source": [
        "<b> Заметим, что большая часть лежит до 130.</b>"
      ]
    },
    {
      "cell_type": "code",
      "metadata": {
        "id": "vfMQtMxBbVWm",
        "outputId": "940294c5-6808-4a26-d41b-a6de9929c003"
      },
      "source": [
        "section_area_locality = section_query(city_center_locality, 'total_area')\n",
        "print(section_area_locality['total_area'].describe())"
      ],
      "execution_count": null,
      "outputs": [
        {
          "output_type": "stream",
          "text": [
            "count   2725.00\n",
            "mean      64.46\n",
            "std       22.02\n",
            "min       12.00\n",
            "25%       46.80\n",
            "50%       62.00\n",
            "75%       79.00\n",
            "max      129.00\n",
            "Name: total_area, dtype: float64\n"
          ],
          "name": "stdout"
        }
      ]
    },
    {
      "cell_type": "code",
      "metadata": {
        "id": "VXwgkVJ4bVWm",
        "outputId": "58fcc9da-af9a-4c9b-9211-f2f448515ee8"
      },
      "source": [
        "print(section_area_locality['total_area'].value_counts())"
      ],
      "execution_count": null,
      "outputs": [
        {
          "output_type": "stream",
          "text": [
            "60.00     48\n",
            "70.00     36\n",
            "72.00     35\n",
            "43.00     35\n",
            "50.00     34\n",
            "          ..\n",
            "79.40      1\n",
            "40.60      1\n",
            "49.35      1\n",
            "52.40      1\n",
            "110.60     1\n",
            "Name: total_area, Length: 753, dtype: int64\n"
          ],
          "name": "stdout"
        }
      ]
    },
    {
      "cell_type": "code",
      "metadata": {
        "id": "stRQDzM0bVWn",
        "outputId": "c2f08ea7-9301-4d50-e568-eab886f45bcf"
      },
      "source": [
        "print(section_area_locality['total_area'].median())"
      ],
      "execution_count": null,
      "outputs": [
        {
          "output_type": "stream",
          "text": [
            "62.0\n"
          ],
          "name": "stdout"
        }
      ]
    },
    {
      "cell_type": "code",
      "metadata": {
        "id": "PfVs4h_rbVWn",
        "outputId": "fcab3952-a7cd-4464-9b90-506082e796a8"
      },
      "source": [
        "section_area_locality['total_area'].plot(kind = 'hist',bins = 100, range = (10, 120), grid =True)\n",
        "plt.xlabel('Площадь кв')\n",
        "plt.ylabel('Кол-во кв')\n",
        "plt.show()"
      ],
      "execution_count": null,
      "outputs": [
        {
          "output_type": "display_data",
          "data": {
            "image/png": "[encoded data removed]",
            "text/plain": [
              "<Figure size 432x288 with 1 Axes>"
            ]
          },
          "metadata": {
            "tags": [],
            "needs_background": "light"
          }
        }
      ]
    },
    {
      "cell_type": "code",
      "metadata": {
        "id": "ObisanLtbVWn",
        "outputId": "d0c8b910-ec6f-418b-8df0-4692b649f4ea"
      },
      "source": [
        "section_area_locality.boxplot(['total_area'], figsize = (5,5))\n",
        "plt.ylabel('Площадь кв')\n",
        "plt.ylim(0, 130)"
      ],
      "execution_count": null,
      "outputs": [
        {
          "output_type": "execute_result",
          "data": {
            "text/plain": [
              "(0, 130)"
            ]
          },
          "metadata": {
            "tags": []
          },
          "execution_count": 123
        },
        {
          "output_type": "display_data",
          "data": {
            "image/png": "[encoded data removed]",
            "text/plain": [
              "<Figure size 360x360 with 1 Axes>"
            ]
          },
          "metadata": {
            "tags": [],
            "needs_background": "light"
          }
        }
      ]
    },
    {
      "cell_type": "markdown",
      "metadata": {
        "id": "Hy3SMx-4bVWn"
      },
      "source": [
        "<b>Изучим цену квартир</b>"
      ]
    },
    {
      "cell_type": "code",
      "metadata": {
        "id": "Pd6MXeZ8bVWn",
        "outputId": "748f7a02-b40d-4e30-eecd-eb60c67a1c4b"
      },
      "source": [
        "city_center_locality['last_price'].value_counts()"
      ],
      "execution_count": null,
      "outputs": [
        {
          "output_type": "execute_result",
          "data": {
            "text/plain": [
              "8500000.00     57\n",
              "7500000.00     53\n",
              "6500000.00     50\n",
              "8000000.00     46\n",
              "10500000.00    38\n",
              "               ..\n",
              "10197200.00     1\n",
              "8690000.00      1\n",
              "8280000.00      1\n",
              "5099000.00      1\n",
              "8585256.00      1\n",
              "Name: last_price, Length: 721, dtype: int64"
            ]
          },
          "metadata": {
            "tags": []
          },
          "execution_count": 124
        }
      ]
    },
    {
      "cell_type": "code",
      "metadata": {
        "id": "XYjBv_7ebVWn",
        "outputId": "951d9548-44c7-44d6-fc15-71c5eae04d63"
      },
      "source": [
        "# <рассчитаем медиану>\n",
        "city_center_locality['last_price'].median()"
      ],
      "execution_count": null,
      "outputs": [
        {
          "output_type": "execute_result",
          "data": {
            "text/plain": [
              "7200000.0"
            ]
          },
          "metadata": {
            "tags": []
          },
          "execution_count": 125
        }
      ]
    },
    {
      "cell_type": "code",
      "metadata": {
        "id": "pdp3jJCAbVWo",
        "outputId": "960e86f3-cb17-4a27-a7ab-7e10d7bca81c"
      },
      "source": [
        "city_center_locality['last_price'].plot(kind = 'hist',bins = 100, range = (1000000, 12000000), grid =True)\n",
        "plt.xlabel('Стоимость кв')\n",
        "plt.ylabel('Кол-во кв')\n",
        "plt.show()"
      ],
      "execution_count": null,
      "outputs": [
        {
          "output_type": "display_data",
          "data": {
            "image/png": "[encoded data removed]",
            "text/plain": [
              "<Figure size 432x288 with 1 Axes>"
            ]
          },
          "metadata": {
            "tags": [],
            "needs_background": "light"
          }
        }
      ]
    },
    {
      "cell_type": "code",
      "metadata": {
        "id": "RcAIS5wubVWo",
        "outputId": "a399de7c-2101-4146-e600-97c1d280c6c7"
      },
      "source": [
        "city_center_locality.boxplot(['last_price'], figsize = (8,8))\n",
        "plt.ylabel('Стоимость')\n",
        "plt.ylim(100000, 12000000)"
      ],
      "execution_count": null,
      "outputs": [
        {
          "output_type": "execute_result",
          "data": {
            "text/plain": [
              "(100000, 12000000)"
            ]
          },
          "metadata": {
            "tags": []
          },
          "execution_count": 127
        },
        {
          "output_type": "display_data",
          "data": {
            "image/png": "[encoded data removed]",
            "text/plain": [
              "<Figure size 576x576 with 1 Axes>"
            ]
          },
          "metadata": {
            "tags": [],
            "needs_background": "light"
          }
        }
      ]
    },
    {
      "cell_type": "markdown",
      "metadata": {
        "id": "45JLvDhrbVWo"
      },
      "source": [
        "<b> Не  наблюдаем выбросов, все цены в пределах нормы.</b>"
      ]
    },
    {
      "cell_type": "markdown",
      "metadata": {
        "id": "ZinFzcw0bVWo"
      },
      "source": [
        "<b>Изучим число комнат</b>"
      ]
    },
    {
      "cell_type": "code",
      "metadata": {
        "id": "LDMzfFEUbVWo",
        "outputId": "0174bd92-64f7-4da3-a4bb-b26fb0660e8c"
      },
      "source": [
        "city_center_locality['rooms'].value_counts()"
      ],
      "execution_count": null,
      "outputs": [
        {
          "output_type": "execute_result",
          "data": {
            "text/plain": [
              "2    1028\n",
              "3     783\n",
              "1     618\n",
              "4     245\n",
              "5      59\n",
              "0      21\n",
              "6       9\n",
              "Name: rooms, dtype: int64"
            ]
          },
          "metadata": {
            "tags": []
          },
          "execution_count": 128
        }
      ]
    },
    {
      "cell_type": "code",
      "metadata": {
        "id": "uN-5aAB3bVWo",
        "outputId": "67aa400c-c326-40cf-eae2-be6ade05fba1"
      },
      "source": [
        "print(city_center_locality['rooms'].median())"
      ],
      "execution_count": null,
      "outputs": [
        {
          "output_type": "stream",
          "text": [
            "2.0\n"
          ],
          "name": "stdout"
        }
      ]
    },
    {
      "cell_type": "code",
      "metadata": {
        "id": "D70kjbh4bVWp",
        "outputId": "8f5f9677-8d50-4465-96b4-bfd7041bbbd6"
      },
      "source": [
        "city_center_locality['rooms'].plot(kind = 'hist',bins =6, range = (0,7), grid =True)\n",
        "plt.xlabel('Кол-во комнат')\n",
        "plt.ylabel('Кол-во кв')\n",
        "plt.show()"
      ],
      "execution_count": null,
      "outputs": [
        {
          "output_type": "display_data",
          "data": {
            "image/png": "[encoded data removed]",
            "text/plain": [
              "<Figure size 432x288 with 1 Axes>"
            ]
          },
          "metadata": {
            "tags": [],
            "needs_background": "light"
          }
        }
      ]
    },
    {
      "cell_type": "markdown",
      "metadata": {
        "id": "cprkQFixbVWp"
      },
      "source": [
        "<b>Преобладает количество 2-х и 3-х комнатных</b>"
      ]
    },
    {
      "cell_type": "code",
      "metadata": {
        "id": "RzYFVeXfbVWp",
        "outputId": "4f5edf03-edb7-4fb8-d61a-b6ad21991d71"
      },
      "source": [
        "city_center_locality.boxplot(['rooms'], figsize = (8,8))\n",
        "plt.ylabel('Кол-во комнат')\n",
        "plt.ylim(-2, 7)"
      ],
      "execution_count": null,
      "outputs": [
        {
          "output_type": "execute_result",
          "data": {
            "text/plain": [
              "(-2, 7)"
            ]
          },
          "metadata": {
            "tags": []
          },
          "execution_count": 131
        },
        {
          "output_type": "display_data",
          "data": {
            "image/png": "[encoded data removed]",
            "text/plain": [
              "<Figure size 576x576 with 1 Axes>"
            ]
          },
          "metadata": {
            "tags": [],
            "needs_background": "light"
          }
        }
      ]
    },
    {
      "cell_type": "code",
      "metadata": {
        "id": "JQFtXGTCbVWp",
        "outputId": "353027f4-98de-4235-de73-f9edbb218d28"
      },
      "source": [
        "section_rooms_locality = section_query(city_center_locality, 'rooms')\n",
        "print(section_rooms_locality['rooms'].describe())"
      ],
      "execution_count": null,
      "outputs": [
        {
          "output_type": "stream",
          "text": [
            "count   2674.00\n",
            "mean       2.24\n",
            "std        0.91\n",
            "min        1.00\n",
            "25%        2.00\n",
            "50%        2.00\n",
            "75%        3.00\n",
            "max        4.00\n",
            "Name: rooms, dtype: float64\n"
          ],
          "name": "stdout"
        }
      ]
    },
    {
      "cell_type": "code",
      "metadata": {
        "id": "PRLLOsNibVWp",
        "outputId": "7f053e6e-580c-4aac-914f-2639fb9caeb6"
      },
      "source": [
        "print(section_rooms_locality['rooms'].value_counts())"
      ],
      "execution_count": null,
      "outputs": [
        {
          "output_type": "stream",
          "text": [
            "2    1028\n",
            "3     783\n",
            "1     618\n",
            "4     245\n",
            "Name: rooms, dtype: int64\n"
          ],
          "name": "stdout"
        }
      ]
    },
    {
      "cell_type": "code",
      "metadata": {
        "id": "YJBkS6-3bVWp",
        "outputId": "dcaa1c68-4596-4243-bddb-7849a0079848"
      },
      "source": [
        "print(section_rooms_locality['rooms'].median())"
      ],
      "execution_count": null,
      "outputs": [
        {
          "output_type": "stream",
          "text": [
            "2.0\n"
          ],
          "name": "stdout"
        }
      ]
    },
    {
      "cell_type": "code",
      "metadata": {
        "id": "lkh8lD5lbVWq",
        "outputId": "46356a59-a0ac-435e-936c-6906776dc524"
      },
      "source": [
        "section_rooms_locality['rooms'].plot(kind = 'hist',bins = 10, range = (0,4), grid =True)\n",
        "plt.xlabel('Количество комнат')\n",
        "plt.ylabel('Кол-во кв')\n",
        "plt.show()"
      ],
      "execution_count": null,
      "outputs": [
        {
          "output_type": "display_data",
          "data": {
            "image/png": "[encoded data removed]",
            "text/plain": [
              "<Figure size 432x288 with 1 Axes>"
            ]
          },
          "metadata": {
            "tags": [],
            "needs_background": "light"
          }
        }
      ]
    },
    {
      "cell_type": "code",
      "metadata": {
        "id": "5YYZq9U9bVWq",
        "outputId": "b1b41eef-e38e-4ebe-9cf5-d4dd01ecd6eb"
      },
      "source": [
        "section_rooms_locality.boxplot(['rooms'], figsize = (8,8))\n",
        "plt.ylabel('Кол-во комнат')\n",
        "plt.ylim(0, 4.5)"
      ],
      "execution_count": null,
      "outputs": [
        {
          "output_type": "execute_result",
          "data": {
            "text/plain": [
              "(0, 4.5)"
            ]
          },
          "metadata": {
            "tags": []
          },
          "execution_count": 136
        },
        {
          "output_type": "display_data",
          "data": {
            "image/png": "[encoded data removed]",
            "text/plain": [
              "<Figure size 576x576 with 1 Axes>"
            ]
          },
          "metadata": {
            "tags": [],
            "needs_background": "light"
          }
        }
      ]
    },
    {
      "cell_type": "markdown",
      "metadata": {
        "id": "KWUAxHscbVWq"
      },
      "source": [
        "<b>Изучим высоту потолков</b>"
      ]
    },
    {
      "cell_type": "code",
      "metadata": {
        "id": "wjDCYPdobVWq",
        "outputId": "90951396-008d-40e1-de8f-619949eb2e55"
      },
      "source": [
        "print(city_center_locality['ceiling_height'].value_counts())"
      ],
      "execution_count": null,
      "outputs": [
        {
          "output_type": "stream",
          "text": [
            "3.00    307\n",
            "2.50    152\n",
            "3.20    129\n",
            "2.70    126\n",
            "2.80    115\n",
            "       ... \n",
            "5.80      1\n",
            "4.37      1\n",
            "2.49      1\n",
            "4.30      1\n",
            "2.47      1\n",
            "Name: ceiling_height, Length: 132, dtype: int64\n"
          ],
          "name": "stdout"
        }
      ]
    },
    {
      "cell_type": "code",
      "metadata": {
        "id": "WidbixmIbVWq",
        "outputId": "23589775-cb9c-4baf-c499-2cfa5d7bb8d4"
      },
      "source": [
        "print(city_center_locality['ceiling_height'].median())"
      ],
      "execution_count": null,
      "outputs": [
        {
          "output_type": "stream",
          "text": [
            "3.0\n"
          ],
          "name": "stdout"
        }
      ]
    },
    {
      "cell_type": "code",
      "metadata": {
        "id": "PBW7nq_8bVWr",
        "outputId": "50aecc6f-85a3-460b-b4cb-7bfb9a132fe3"
      },
      "source": [
        "city_center_locality['ceiling_height'].plot(kind = 'hist',bins = 50, range = (2, 40), grid =True)\n",
        "plt.xlabel('Высота потолков')\n",
        "plt.ylabel('Кол-во кв')\n",
        "plt.show()"
      ],
      "execution_count": null,
      "outputs": [
        {
          "output_type": "display_data",
          "data": {
            "image/png": "[encoded data removed]",
            "text/plain": [
              "<Figure size 432x288 with 1 Axes>"
            ]
          },
          "metadata": {
            "tags": [],
            "needs_background": "light"
          }
        }
      ]
    },
    {
      "cell_type": "code",
      "metadata": {
        "id": "Rgs79C73bVWr",
        "outputId": "7fbbcbb7-fe13-4fbe-a16b-4dce6e20cd59"
      },
      "source": [
        "city_center_locality.boxplot(['ceiling_height'], figsize = (8,8))\n",
        "plt.ylabel('Высота потолков')\n",
        "plt.ylim(0, 32)"
      ],
      "execution_count": null,
      "outputs": [
        {
          "output_type": "execute_result",
          "data": {
            "text/plain": [
              "(0, 32)"
            ]
          },
          "metadata": {
            "tags": []
          },
          "execution_count": 140
        },
        {
          "output_type": "display_data",
          "data": {
            "image/png": "[encoded data removed]",
            "text/plain": [
              "<Figure size 576x576 with 1 Axes>"
            ]
          },
          "metadata": {
            "tags": [],
            "needs_background": "light"
          }
        }
      ]
    },
    {
      "cell_type": "code",
      "metadata": {
        "id": "-4g8hM6rbVWr",
        "outputId": "12fec12f-9423-4658-efe3-a8ad5caf3edc"
      },
      "source": [
        "section_ceiling_height_locality = section_query(city_center_locality, 'ceiling_height')\n",
        "print(section_ceiling_height_locality['ceiling_height'].describe())"
      ],
      "execution_count": null,
      "outputs": [
        {
          "output_type": "stream",
          "text": [
            "count   1729.00\n",
            "mean       2.96\n",
            "std        0.30\n",
            "min        2.40\n",
            "25%        2.72\n",
            "50%        3.00\n",
            "75%        3.20\n",
            "max        3.85\n",
            "Name: ceiling_height, dtype: float64\n"
          ],
          "name": "stdout"
        }
      ]
    },
    {
      "cell_type": "code",
      "metadata": {
        "id": "GZ3vZbP0bVWr",
        "outputId": "2460e0cb-1792-4a39-c5cc-369b1efbc026"
      },
      "source": [
        "print(section_ceiling_height_locality['ceiling_height'].value_counts())"
      ],
      "execution_count": null,
      "outputs": [
        {
          "output_type": "stream",
          "text": [
            "3.00    307\n",
            "2.50    152\n",
            "3.20    129\n",
            "2.70    126\n",
            "2.80    115\n",
            "       ... \n",
            "2.49      1\n",
            "3.65      1\n",
            "2.86      1\n",
            "3.48      1\n",
            "2.40      1\n",
            "Name: ceiling_height, Length: 111, dtype: int64\n"
          ],
          "name": "stdout"
        }
      ]
    },
    {
      "cell_type": "code",
      "metadata": {
        "id": "VIulJNS2bVWr",
        "outputId": "496963db-d9de-4af0-e6c8-f41a7693763c"
      },
      "source": [
        "print(section_ceiling_height_locality['ceiling_height'].median())"
      ],
      "execution_count": null,
      "outputs": [
        {
          "output_type": "stream",
          "text": [
            "3.0\n"
          ],
          "name": "stdout"
        }
      ]
    },
    {
      "cell_type": "code",
      "metadata": {
        "id": "QdnjY4iTbVWr",
        "outputId": "a248c45b-36b6-4f10-91f2-ee4a42a0f0e2"
      },
      "source": [
        "section_ceiling_height_locality['ceiling_height'].plot(kind = 'hist',bins = 30, range = (2,4.5), grid =True)\n",
        "plt.xlabel('Высота потолков')\n",
        "plt.ylabel('Кол-во кв')\n",
        "plt.show()"
      ],
      "execution_count": null,
      "outputs": [
        {
          "output_type": "display_data",
          "data": {
            "image/png": "[encoded data removed]",
            "text/plain": [
              "<Figure size 432x288 with 1 Axes>"
            ]
          },
          "metadata": {
            "tags": [],
            "needs_background": "light"
          }
        }
      ]
    },
    {
      "cell_type": "markdown",
      "metadata": {
        "id": "gwJIxCUlbVWs"
      },
      "source": [
        "<b>Много квартир с высотой потолков в 3 метра</b>"
      ]
    },
    {
      "cell_type": "code",
      "metadata": {
        "id": "BVVtpSGHbVWs",
        "outputId": "77ab6af1-750b-4c58-b9cc-2c5b2b5e2886"
      },
      "source": [
        "section_ceiling_height_locality.boxplot(['ceiling_height'], figsize = (8,8))\n",
        "plt.ylabel('Высота потолков')\n",
        "plt.ylim(2, 4.5)"
      ],
      "execution_count": null,
      "outputs": [
        {
          "output_type": "execute_result",
          "data": {
            "text/plain": [
              "(2, 4.5)"
            ]
          },
          "metadata": {
            "tags": []
          },
          "execution_count": 145
        },
        {
          "output_type": "display_data",
          "data": {
            "image/png": "[encoded data removed]",
            "text/plain": [
              "<Figure size 576x576 with 1 Axes>"
            ]
          },
          "metadata": {
            "tags": [],
            "needs_background": "light"
          }
        }
      ]
    },
    {
      "cell_type": "markdown",
      "metadata": {
        "id": "Ilf1AkRkbVWs"
      },
      "source": [
        "### Вывод\n",
        "1. Изучили площадь, цену, число комнат, высоту потолков в квартирах которые находятся в центре. Построили гистограммы и диаграммы размаха. \n",
        "2. Увидели редкие и выбивающиеся значения(выбросы). В виду этого гистограммы приобретали не очень информативный характер.\n",
        "3. Используя срезы, избавились от выбросов и построили гистограммы и диаграммы. Увидели, что значения пришли в нормальный вид."
      ]
    },
    {
      "cell_type": "markdown",
      "metadata": {
        "id": "aLu7cJH4bVWs"
      },
      "source": [
        "<b>Изучим, зависит ли стоимость квартиры от числа комнат, удалённости от центра.</b>"
      ]
    },
    {
      "cell_type": "code",
      "metadata": {
        "id": "6f-vMAL5bVWs"
      },
      "source": [
        "corrMatrix = city_center_locality[['last_price','rooms','city_center_nearest']].corr()"
      ],
      "execution_count": null,
      "outputs": []
    },
    {
      "cell_type": "code",
      "metadata": {
        "id": "E6-XqvMebVWt",
        "outputId": "01fd1194-c0fa-4065-8038-1472840dcb63"
      },
      "source": [
        "sn.heatmap(corrMatrix, annot=True)\n",
        "plt.show()"
      ],
      "execution_count": null,
      "outputs": [
        {
          "output_type": "display_data",
          "data": {
            "image/png": "[encoded data removed]",
            "text/plain": [
              "<Figure size 432x288 with 2 Axes>"
            ]
          },
          "metadata": {
            "tags": [],
            "needs_background": "light"
          }
        }
      ]
    },
    {
      "cell_type": "markdown",
      "metadata": {
        "id": "KDdoxUYwbVWt"
      },
      "source": [
        "1. Корреляция между ценой и количеством комнат <b>0,49</b> говорит о наличии связи, однако очень слабой. Выходит, увеличение числа комнат сопровождается прибавкой в цене, но так бывает не всегда.\n",
        "2. Корреляция между ценой и удалённости от центра <b>-0,19</b>, отрицательная, говорит о наличии связи, однако очень слабой. Выходит, увеличение удаленности от центра сопровождается уменьшением в цене, но так бывает не всегда."
      ]
    },
    {
      "cell_type": "markdown",
      "metadata": {
        "id": "ShqvOLNpbVWt"
      },
      "source": [
        "<b>Изучим зависимость стоимости от того, на каком этаже расположена квартира: первом, последнем или другом.</b>"
      ]
    },
    {
      "cell_type": "code",
      "metadata": {
        "id": "tVd2aOMZbVWt",
        "outputId": "8edbf0a5-8c4c-4def-9960-c911e3cad6dd"
      },
      "source": [
        "# <построим диаграмму размаха цена квартиры от расположения>\n",
        "city_center_locality.boxplot('last_price', by='define_floor',figsize=(10,10))\n",
        "plt.ylabel('Стоимость кв')\n",
        "plt.ylim(-1000000,15000000)"
      ],
      "execution_count": null,
      "outputs": [
        {
          "output_type": "stream",
          "text": [
            "/opt/conda/lib/python3.7/site-packages/numpy/core/_asarray.py:83: VisibleDeprecationWarning: Creating an ndarray from ragged nested sequences (which is a list-or-tuple of lists-or-tuples-or ndarrays with different lengths or shapes) is deprecated. If you meant to do this, you must specify 'dtype=object' when creating the ndarray\n",
            "  return array(a, dtype, copy=False, order=order)\n"
          ],
          "name": "stderr"
        },
        {
          "output_type": "execute_result",
          "data": {
            "text/plain": [
              "(-1000000, 15000000)"
            ]
          },
          "metadata": {
            "tags": []
          },
          "execution_count": 148
        },
        {
          "output_type": "display_data",
          "data": {
            "image/png": "[encoded data removed]",
            "text/plain": [
              "<Figure size 720x720 with 1 Axes>"
            ]
          },
          "metadata": {
            "tags": [],
            "needs_background": "light"
          }
        }
      ]
    },
    {
      "cell_type": "markdown",
      "metadata": {
        "id": "bI2lHNwAbVWt"
      },
      "source": [
        "<b>Заметим, что на первом этаже цена ниже. На последнем практически такая же как и на других этажах.</b>"
      ]
    },
    {
      "cell_type": "markdown",
      "metadata": {
        "id": "CPu8oUNDbVWt"
      },
      "source": [
        "<b>Зависимость от даты размещения: дня недели, месяца и года.</b>"
      ]
    },
    {
      "cell_type": "code",
      "metadata": {
        "id": "LwcWx1T8bVWt",
        "outputId": "d428287f-819f-46a4-e96c-8a5dccd4afc9"
      },
      "source": [
        "# <построим диаграмму размаха цена квартиры от дня недели>\n",
        "city_center_locality.boxplot('last_price', by='weekday_public',figsize=(10,10))\n",
        "plt.ylabel('Стоимость кв')\n",
        "plt.ylim(1000000,20000000)"
      ],
      "execution_count": null,
      "outputs": [
        {
          "output_type": "stream",
          "text": [
            "/opt/conda/lib/python3.7/site-packages/numpy/core/_asarray.py:83: VisibleDeprecationWarning: Creating an ndarray from ragged nested sequences (which is a list-or-tuple of lists-or-tuples-or ndarrays with different lengths or shapes) is deprecated. If you meant to do this, you must specify 'dtype=object' when creating the ndarray\n",
            "  return array(a, dtype, copy=False, order=order)\n"
          ],
          "name": "stderr"
        },
        {
          "output_type": "execute_result",
          "data": {
            "text/plain": [
              "(1000000, 20000000)"
            ]
          },
          "metadata": {
            "tags": []
          },
          "execution_count": 149
        },
        {
          "output_type": "display_data",
          "data": {
            "image/png": "[encoded data removed]",
            "text/plain": [
              "<Figure size 720x720 with 1 Axes>"
            ]
          },
          "metadata": {
            "tags": [],
            "needs_background": "light"
          }
        }
      ]
    },
    {
      "cell_type": "markdown",
      "metadata": {
        "id": "i4vkh4-nbVWu"
      },
      "source": [
        "<b>Чуть заметно, что стоимость в воскресенье и пятницу повышается</b>"
      ]
    },
    {
      "cell_type": "code",
      "metadata": {
        "id": "Qi3FJ6YabVWu",
        "outputId": "b621eb8b-276e-49ab-95ec-c3c2b06b3b5a"
      },
      "source": [
        "# <построим диаграмму размаха цена квартиры от месяца>\n",
        "city_center_locality.boxplot('last_price', by='month_public',figsize=(10,10))\n",
        "plt.ylabel('Стоимость кв')\n",
        "plt.ylim(-100,12000000)"
      ],
      "execution_count": null,
      "outputs": [
        {
          "output_type": "stream",
          "text": [
            "/opt/conda/lib/python3.7/site-packages/numpy/core/_asarray.py:83: VisibleDeprecationWarning: Creating an ndarray from ragged nested sequences (which is a list-or-tuple of lists-or-tuples-or ndarrays with different lengths or shapes) is deprecated. If you meant to do this, you must specify 'dtype=object' when creating the ndarray\n",
            "  return array(a, dtype, copy=False, order=order)\n"
          ],
          "name": "stderr"
        },
        {
          "output_type": "execute_result",
          "data": {
            "text/plain": [
              "(-100, 12000000)"
            ]
          },
          "metadata": {
            "tags": []
          },
          "execution_count": 150
        },
        {
          "output_type": "display_data",
          "data": {
            "image/png": "[encoded data removed]",
            "text/plain": [
              "<Figure size 720x720 with 1 Axes>"
            ]
          },
          "metadata": {
            "tags": [],
            "needs_background": "light"
          }
        }
      ]
    },
    {
      "cell_type": "markdown",
      "metadata": {
        "id": "cSQ56L4qbVWv"
      },
      "source": [
        "<b>Заметим, что стоимость в декабре и октябре падает, в сентябре стоимость повышается, в остальные дни более менее ровно.</b>"
      ]
    },
    {
      "cell_type": "code",
      "metadata": {
        "id": "XL5rQMxFbVWv",
        "outputId": "b6d6b05e-0ad9-46db-c33d-77c0ab614eab"
      },
      "source": [
        "# <построим диаграмму размаха цена квартиры от года>\n",
        "city_center_locality.boxplot('last_price', by='year_public',figsize=(10,10))\n",
        "plt.ylabel('Стоимость кв')\n",
        "plt.ylim(-100,20000000)"
      ],
      "execution_count": null,
      "outputs": [
        {
          "output_type": "stream",
          "text": [
            "/opt/conda/lib/python3.7/site-packages/numpy/core/_asarray.py:83: VisibleDeprecationWarning: Creating an ndarray from ragged nested sequences (which is a list-or-tuple of lists-or-tuples-or ndarrays with different lengths or shapes) is deprecated. If you meant to do this, you must specify 'dtype=object' when creating the ndarray\n",
            "  return array(a, dtype, copy=False, order=order)\n"
          ],
          "name": "stderr"
        },
        {
          "output_type": "execute_result",
          "data": {
            "text/plain": [
              "(-100, 20000000)"
            ]
          },
          "metadata": {
            "tags": []
          },
          "execution_count": 151
        },
        {
          "output_type": "display_data",
          "data": {
            "image/png": "[encoded data removed]",
            "text/plain": [
              "<Figure size 720x720 with 1 Axes>"
            ]
          },
          "metadata": {
            "tags": [],
            "needs_background": "light"
          }
        }
      ]
    },
    {
      "cell_type": "markdown",
      "metadata": {
        "id": "m27uOaDJbVWv"
      },
      "source": [
        "<b>Интересно, что в 2014 стоимость ниже остальных годов.</b>"
      ]
    },
    {
      "cell_type": "markdown",
      "metadata": {
        "id": "7nAmw6Y6bVWw"
      },
      "source": [
        "## Шаг 5. Общий вывод"
      ]
    },
    {
      "cell_type": "markdown",
      "metadata": {
        "id": "BGvkzjLxbVWw"
      },
      "source": [
        "1. Стоит заметить, что зависимость между стоимостью на квартиры и удаленностью от центра одинакова, как для сегмента квартир в центре, так и для всего города, что не сажешь о зависимости стоимости от количества комнат, для сегмента квартир в центре данный показатель чуть выше.\n",
        "2. Зависимость от расположения на этаже в обоих случаях зависимость примерно одинаковая(первый этаж дешевле по сравнению с другими).\n",
        "3. Зависимость от дня недели, если оценивать по всему городу, то зависимости практически нет. В случае с сегментом квартирв центре, то чуть заметно, что в воскресенье и пятницу стоимость выше по сравнению с остальными днями.\n",
        "4. Зависимость от месяца, если оценивать по всему городу, то в целом цена слабо зависит от месяца, но стоит заметить, что цена немного снижается в летние месяцы. В этот период скорее всего спрос ниже, так как люди тратят деньги на отпуска. В случае с сегментом, стоимость в декабре и октябре падает, в сентябре стоимость повышается, в остальные дни более менее ровно.\n",
        "5. Зависимость от года, если оценивать по всему городу, то цена была высокой в 2014, возможно это было связано с санкциями, что вызвало подорожание многих комплектующих, а затем и рост цен на квартиры. В дальнейшем цена выровнилась и в 2019 немного возросла, возможно, из-за нового закона об строительстве. Если оценивать сегмент, то в 2014 наоборот стоимость ниже, чем последующие годы.\n",
        "6. Возможно, если было бы больше данных для оценки сегмента квартир в центре, то показатели были другими.\n",
        "7. Также стоит отметить качество данных: необходимо проверить систему подачи объявлений как пользователями, так и самой системой(необходимо производить проверку и валидацию полей, поменять типы некоторых полей. Все это необходимо, чтобы избежать дубликаты, а также пропуски)."
      ]
    },
    {
      "cell_type": "markdown",
      "metadata": {
        "id": "Lk5vFyPgbVWw"
      },
      "source": [
        "## Рекомендации \n",
        "- Уделить большое внимание валидации полей, чтобы больше не сталкиваться с проблемой отсутствующих значений.\n",
        "- При указывании адреса или отметки на карте(сделать это обязательным действием) сделать автоматический расчет до парков, водоемов, аэропортов.\n",
        "- Расстояние считать в километрах и целых числах.\n",
        "- Предупреждать пользователей о возможных некорректных значениях, а также сделать именно выбор значений в некоторых полях, а не заполнять самим(Например: список, где расположена квартира), чтобы избежать дубликатов.\n",
        "- Контролировать время публикации, по истечении например 30 дней, снимать публикацию автоматически, чтобы пользователь сам продлевал публикацию или подключил автопродление.\n",
        "- Можно добавить фильтр (первый этаж, последний этаж, другие этажи), может ускорить поиск более дешевых квартир."
      ]
    },
    {
      "cell_type": "markdown",
      "metadata": {
        "id": "E2nSgpjcbVWx"
      },
      "source": [
        "## Чек-лист готовности проекта\n",
        "\n",
        "Поставьте 'x' в выполненных пунктах. Далее нажмите Shift+Enter."
      ]
    },
    {
      "cell_type": "markdown",
      "metadata": {
        "id": "e1yW_jApbVWx"
      },
      "source": [
        "- [x]  открыт файл\n",
        "- [x]  файлы изучены (выведены первые строки, метод info())\n",
        "- [x]  определены пропущенные значения\n",
        "- [x]  заполнены пропущенные значения\n",
        "- [x]  есть пояснение, какие пропущенные значения обнаружены\n",
        "- [x]  изменены типы данных\n",
        "- [x]  есть пояснение, в каких столбцах изменены типы и почему\n",
        "- [x]  посчитано и добавлено в таблицу: цена квадратного метра\n",
        "- [x]  посчитано и добавлено в таблицу: день недели, месяц и год публикации объявления\n",
        "- [x]  посчитано и добавлено в таблицу: этаж квартиры; варианты — первый, последний, другой\n",
        "- [x]  посчитано и добавлено в таблицу: соотношение жилой и общей площади, а также отношение площади кухни к общей\n",
        "- [x]  изучены следующие параметры: площадь, цена, число комнат, высота потолков\n",
        "- [x]  построены гистограммы для каждого параметра\n",
        "- [x]  выполнено задание: \"Изучите время продажи квартиры. Постройте гистограмму. Посчитайте среднее и медиану. Опишите, сколько обычно занимает продажа. Когда можно считать, что продажи прошли очень быстро, а когда необычно долго?\"\n",
        "- [x]  выполнено задание: \"Уберите редкие и выбивающиеся значения. Опишите, какие особенности обнаружили.\"\n",
        "- [x]  выполнено задание: \"Какие факторы больше всего влияют на стоимость квартиры? Изучите, зависит ли цена от квадратного метра, числа комнат, этажа (первого или последнего), удалённости от центра. Также изучите зависимость от даты размещения: дня недели, месяца и года. \"Выберите 10 населённых пунктов с наибольшим числом объявлений. Посчитайте среднюю цену квадратного метра в этих населённых пунктах. Выделите населённые пункты с самой высокой и низкой стоимостью жилья. Эти данные можно найти по имени в столбце '*locality_name'*. \"\n",
        "- [x]  выполнено задание: \"Изучите предложения квартир: для каждой квартиры есть информация о расстоянии до центра. Выделите квартиры в Санкт-Петербурге (*'locality_name'*). Ваша задача — выяснить, какая область входит в центр. Создайте столбец с расстоянием до центра в километрах: округлите до целых значений. После этого посчитайте среднюю цену для каждого километра. Постройте график: он должен показывать, как цена зависит от удалённости от центра. Определите границу, где график сильно меняется — это и будет центральная зона. \"\n",
        "- [x]  выполнено задание: \"Выделите сегмент квартир в центре. Проанализируйте эту территорию и изучите следующие параметры: площадь, цена, число комнат, высота потолков. Также выделите факторы, которые влияют на стоимость квартиры (число комнат, этаж, удалённость от центра, дата размещения объявления). Сделайте выводы. Отличаются ли они от общих выводов по всему городу?\"\n",
        "- [x]  в каждом этапе есть выводы\n",
        "- [x]  есть общий вывод"
      ]
    }
  ]
}